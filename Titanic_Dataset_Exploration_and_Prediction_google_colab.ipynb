{
  "nbformat": 4,
  "nbformat_minor": 0,
  "metadata": {
    "kernelspec": {
      "display_name": "Python 3",
      "language": "python",
      "name": "python3"
    },
    "language_info": {
      "codemirror_mode": {
        "name": "ipython",
        "version": 3
      },
      "file_extension": ".py",
      "mimetype": "text/x-python",
      "name": "python",
      "nbconvert_exporter": "python",
      "pygments_lexer": "ipython3",
      "version": "3.7.6"
    },
    "colab": {
      "name": "Titanic Dataset Exploration and Prediction.ipynb",
      "provenance": [],
      "collapsed_sections": [
        "-XzX9qgEk4aS",
        "akIIO167k4aW",
        "Y2EPM1rsk4ab",
        "jfDtZqq-k4ai",
        "8kJue6W2k4ar",
        "D3O0SdTnk4aw",
        "wY9b79ZKk4ay",
        "kUrUDXMOk4a4",
        "D7F2ZO6-k4a6",
        "cgQoeKlgk4bC",
        "FK0A5umgk4bC",
        "8dWMA5Qdk4bP",
        "k510h2Uak4bY",
        "pjvtyJf7k4bY",
        "z2ACGj4Xk4bd",
        "qvFz6-pfk4bh",
        "GopL1aidk4bm",
        "2kKPYvqAk4bq",
        "fUEXQXgXk4by",
        "UkBkKLh_k4b6",
        "zmEAKeiCk4cA",
        "KMgCtXoQk4cA",
        "xWLCX1Wpk4cH",
        "mf824pnTk4cN",
        "dvVpXGysk4cR",
        "zVNCsNi0k4cV",
        "qGlf21MRk4cV",
        "-ShICIaOk4c4",
        "0GRdCjTQk4c5",
        "agSERj9Fk4c7",
        "4ixTEXfck4c9",
        "Wjh7Q3x6k4c_",
        "dBHkk3ock4dC",
        "TCG7v9yFk4dD",
        "w-5o0dJik4dE",
        "J8zMdDebk4dF",
        "WIFUWGZSk4dH",
        "jxFqkBXSk4dU",
        "h_1P91qVfsLL"
      ],
      "include_colab_link": true
    },
    "accelerator": "GPU"
  },
  "cells": [
    {
      "cell_type": "markdown",
      "metadata": {
        "id": "view-in-github",
        "colab_type": "text"
      },
      "source": [
        "<a href=\"https://colab.research.google.com/github/kush1781/Titanic-Dataset-Exploration-and-Prediction/blob/master/Titanic_Dataset_Exploration_and_Prediction_google_colab.ipynb\" target=\"_parent\"><img src=\"https://colab.research.google.com/assets/colab-badge.svg\" alt=\"Open In Colab\"/></a>"
      ]
    },
    {
      "cell_type": "code",
      "metadata": {
        "id": "6Fmt-57QlkTY",
        "colab_type": "code",
        "outputId": "2a31315e-49d7-4a29-a16b-b29ee70d2f59",
        "colab": {
          "base_uri": "https://localhost:8080/",
          "height": 349
        }
      },
      "source": [
        "pip install catboost"
      ],
      "execution_count": 7,
      "outputs": [
        {
          "output_type": "stream",
          "text": [
            "Collecting catboost\n",
            "\u001b[?25l  Downloading https://files.pythonhosted.org/packages/51/fb/6eddb2667ee55c39bd12ab6676c412726fcbc86e1c0364fda8e6c3a62bc3/catboost-0.23.1-cp36-none-manylinux1_x86_64.whl (64.7MB)\n",
            "\u001b[K     |████████████████████████████████| 64.7MB 56kB/s \n",
            "\u001b[?25hRequirement already satisfied: six in /usr/local/lib/python3.6/dist-packages (from catboost) (1.12.0)\n",
            "Requirement already satisfied: scipy in /usr/local/lib/python3.6/dist-packages (from catboost) (1.4.1)\n",
            "Requirement already satisfied: graphviz in /usr/local/lib/python3.6/dist-packages (from catboost) (0.10.1)\n",
            "Requirement already satisfied: plotly in /usr/local/lib/python3.6/dist-packages (from catboost) (4.4.1)\n",
            "Requirement already satisfied: matplotlib in /usr/local/lib/python3.6/dist-packages (from catboost) (3.2.1)\n",
            "Requirement already satisfied: pandas>=0.24.0 in /usr/local/lib/python3.6/dist-packages (from catboost) (1.0.3)\n",
            "Requirement already satisfied: numpy>=1.16.0 in /usr/local/lib/python3.6/dist-packages (from catboost) (1.18.4)\n",
            "Requirement already satisfied: retrying>=1.3.3 in /usr/local/lib/python3.6/dist-packages (from plotly->catboost) (1.3.3)\n",
            "Requirement already satisfied: pyparsing!=2.0.4,!=2.1.2,!=2.1.6,>=2.0.1 in /usr/local/lib/python3.6/dist-packages (from matplotlib->catboost) (2.4.7)\n",
            "Requirement already satisfied: kiwisolver>=1.0.1 in /usr/local/lib/python3.6/dist-packages (from matplotlib->catboost) (1.2.0)\n",
            "Requirement already satisfied: cycler>=0.10 in /usr/local/lib/python3.6/dist-packages (from matplotlib->catboost) (0.10.0)\n",
            "Requirement already satisfied: python-dateutil>=2.1 in /usr/local/lib/python3.6/dist-packages (from matplotlib->catboost) (2.8.1)\n",
            "Requirement already satisfied: pytz>=2017.2 in /usr/local/lib/python3.6/dist-packages (from pandas>=0.24.0->catboost) (2018.9)\n",
            "Installing collected packages: catboost\n",
            "Successfully installed catboost-0.23.1\n"
          ],
          "name": "stdout"
        }
      ]
    },
    {
      "cell_type": "code",
      "metadata": {
        "id": "6Kcq3I2Ok4Zz",
        "colab_type": "code",
        "colab": {}
      },
      "source": [
        "# general libraries\n",
        "import math, time, random, datetime\n",
        "\n",
        "# data manipulation libraries\n",
        "import numpy as np\n",
        "import pandas as pd\n",
        "\n",
        "# visualization libraries\n",
        "import matplotlib.pyplot as plt\n",
        "import seaborn as sns\n",
        "import missingno\n",
        "plt.style.use('seaborn-whitegrid')\n",
        "\n",
        "from sklearn.model_selection import GridSearchCV\n",
        "\n",
        "# Machine learning Algos\n",
        "from sklearn.linear_model import LogisticRegression \n",
        "from sklearn.neighbors import KNeighborsClassifier\n",
        "from sklearn.naive_bayes import GaussianNB\n",
        "from sklearn.svm import SVC\n",
        "from sklearn.svm import LinearSVC\n",
        "from sklearn.linear_model import SGDClassifier\n",
        "from sklearn.tree import DecisionTreeClassifier\n",
        "from sklearn.ensemble import RandomForestClassifier\n",
        "from sklearn.ensemble import GradientBoostingClassifier\n",
        "import catboost\n",
        "from catboost import CatBoostClassifier, Pool, cv\n",
        "\n",
        "\n",
        "# Let's be rebels and ignore warnings for now\n",
        "import warnings\n",
        "warnings.filterwarnings('ignore')"
      ],
      "execution_count": 0,
      "outputs": []
    },
    {
      "cell_type": "code",
      "metadata": {
        "id": "wTKy8TSij6IU",
        "colab_type": "code",
        "colab": {
          "base_uri": "https://localhost:8080/",
          "height": 589
        },
        "outputId": "2e292a33-42db-4b4d-feca-fb69a3e03c5a"
      },
      "source": [
        "!wget 'https://raw.githubusercontent.com/kush1781/Titanic-Dataset-Exploration-and-Prediction/master/train.csv'\n",
        "!wget 'https://raw.githubusercontent.com/kush1781/Titanic-Dataset-Exploration-and-Prediction/master/test.csv'\n",
        "!wget 'https://raw.githubusercontent.com/kush1781/Titanic-Dataset-Exploration-and-Prediction/master/gender_submission.csv'"
      ],
      "execution_count": 9,
      "outputs": [
        {
          "output_type": "stream",
          "text": [
            "--2020-05-22 18:06:19--  https://raw.githubusercontent.com/kush1781/Titanic-Dataset-Exploration-and-Prediction/master/train.csv\n",
            "Resolving raw.githubusercontent.com (raw.githubusercontent.com)... 151.101.0.133, 151.101.64.133, 151.101.128.133, ...\n",
            "Connecting to raw.githubusercontent.com (raw.githubusercontent.com)|151.101.0.133|:443... connected.\n",
            "HTTP request sent, awaiting response... 200 OK\n",
            "Length: 61194 (60K) [text/plain]\n",
            "Saving to: ‘train.csv’\n",
            "\n",
            "\rtrain.csv             0%[                    ]       0  --.-KB/s               \rtrain.csv           100%[===================>]  59.76K  --.-KB/s    in 0.03s   \n",
            "\n",
            "2020-05-22 18:06:20 (2.19 MB/s) - ‘train.csv’ saved [61194/61194]\n",
            "\n",
            "--2020-05-22 18:06:23--  https://raw.githubusercontent.com/kush1781/Titanic-Dataset-Exploration-and-Prediction/master/test.csv\n",
            "Resolving raw.githubusercontent.com (raw.githubusercontent.com)... 151.101.0.133, 151.101.64.133, 151.101.128.133, ...\n",
            "Connecting to raw.githubusercontent.com (raw.githubusercontent.com)|151.101.0.133|:443... connected.\n",
            "HTTP request sent, awaiting response... 200 OK\n",
            "Length: 28629 (28K) [text/plain]\n",
            "Saving to: ‘test.csv’\n",
            "\n",
            "test.csv            100%[===================>]  27.96K  --.-KB/s    in 0.01s   \n",
            "\n",
            "2020-05-22 18:06:23 (2.12 MB/s) - ‘test.csv’ saved [28629/28629]\n",
            "\n",
            "--2020-05-22 18:06:29--  https://raw.githubusercontent.com/kush1781/Titanic-Dataset-Exploration-and-Prediction/master/gender_submission.csv\n",
            "Resolving raw.githubusercontent.com (raw.githubusercontent.com)... 151.101.0.133, 151.101.64.133, 151.101.128.133, ...\n",
            "Connecting to raw.githubusercontent.com (raw.githubusercontent.com)|151.101.0.133|:443... connected.\n",
            "HTTP request sent, awaiting response... 200 OK\n",
            "Length: 3258 (3.2K) [text/plain]\n",
            "Saving to: ‘gender_submission.csv’\n",
            "\n",
            "gender_submission.c 100%[===================>]   3.18K  --.-KB/s    in 0s      \n",
            "\n",
            "2020-05-22 18:06:29 (61.4 MB/s) - ‘gender_submission.csv’ saved [3258/3258]\n",
            "\n"
          ],
          "name": "stdout"
        }
      ]
    },
    {
      "cell_type": "markdown",
      "metadata": {
        "id": "D-H0pJLbk4Z3",
        "colab_type": "text"
      },
      "source": [
        "### Importing the data "
      ]
    },
    {
      "cell_type": "code",
      "metadata": {
        "id": "iCzoQuqhk4Z4",
        "colab_type": "code",
        "colab": {}
      },
      "source": [
        "train = pd.read_csv('/content/train.csv')\n",
        "test = pd.read_csv('/content/test.csv')\n",
        "gender_submission = pd.read_csv('/content/gender_submission.csv')"
      ],
      "execution_count": 0,
      "outputs": []
    },
    {
      "cell_type": "code",
      "metadata": {
        "id": "g4Z3pcSEk4Z6",
        "colab_type": "code",
        "outputId": "e97f2714-0fcf-44dd-c6b6-85f7d4efe6d2",
        "colab": {
          "base_uri": "https://localhost:8080/",
          "height": 202
        }
      },
      "source": [
        "train.head()"
      ],
      "execution_count": 11,
      "outputs": [
        {
          "output_type": "execute_result",
          "data": {
            "text/html": [
              "<div>\n",
              "<style scoped>\n",
              "    .dataframe tbody tr th:only-of-type {\n",
              "        vertical-align: middle;\n",
              "    }\n",
              "\n",
              "    .dataframe tbody tr th {\n",
              "        vertical-align: top;\n",
              "    }\n",
              "\n",
              "    .dataframe thead th {\n",
              "        text-align: right;\n",
              "    }\n",
              "</style>\n",
              "<table border=\"1\" class=\"dataframe\">\n",
              "  <thead>\n",
              "    <tr style=\"text-align: right;\">\n",
              "      <th></th>\n",
              "      <th>PassengerId</th>\n",
              "      <th>Survived</th>\n",
              "      <th>Pclass</th>\n",
              "      <th>Name</th>\n",
              "      <th>Sex</th>\n",
              "      <th>Age</th>\n",
              "      <th>SibSp</th>\n",
              "      <th>Parch</th>\n",
              "      <th>Ticket</th>\n",
              "      <th>Fare</th>\n",
              "      <th>Cabin</th>\n",
              "      <th>Embarked</th>\n",
              "    </tr>\n",
              "  </thead>\n",
              "  <tbody>\n",
              "    <tr>\n",
              "      <th>0</th>\n",
              "      <td>1</td>\n",
              "      <td>0</td>\n",
              "      <td>3</td>\n",
              "      <td>Braund, Mr. Owen Harris</td>\n",
              "      <td>male</td>\n",
              "      <td>22.0</td>\n",
              "      <td>1</td>\n",
              "      <td>0</td>\n",
              "      <td>A/5 21171</td>\n",
              "      <td>7.2500</td>\n",
              "      <td>NaN</td>\n",
              "      <td>S</td>\n",
              "    </tr>\n",
              "    <tr>\n",
              "      <th>1</th>\n",
              "      <td>2</td>\n",
              "      <td>1</td>\n",
              "      <td>1</td>\n",
              "      <td>Cumings, Mrs. John Bradley (Florence Briggs Th...</td>\n",
              "      <td>female</td>\n",
              "      <td>38.0</td>\n",
              "      <td>1</td>\n",
              "      <td>0</td>\n",
              "      <td>PC 17599</td>\n",
              "      <td>71.2833</td>\n",
              "      <td>C85</td>\n",
              "      <td>C</td>\n",
              "    </tr>\n",
              "    <tr>\n",
              "      <th>2</th>\n",
              "      <td>3</td>\n",
              "      <td>1</td>\n",
              "      <td>3</td>\n",
              "      <td>Heikkinen, Miss. Laina</td>\n",
              "      <td>female</td>\n",
              "      <td>26.0</td>\n",
              "      <td>0</td>\n",
              "      <td>0</td>\n",
              "      <td>STON/O2. 3101282</td>\n",
              "      <td>7.9250</td>\n",
              "      <td>NaN</td>\n",
              "      <td>S</td>\n",
              "    </tr>\n",
              "    <tr>\n",
              "      <th>3</th>\n",
              "      <td>4</td>\n",
              "      <td>1</td>\n",
              "      <td>1</td>\n",
              "      <td>Futrelle, Mrs. Jacques Heath (Lily May Peel)</td>\n",
              "      <td>female</td>\n",
              "      <td>35.0</td>\n",
              "      <td>1</td>\n",
              "      <td>0</td>\n",
              "      <td>113803</td>\n",
              "      <td>53.1000</td>\n",
              "      <td>C123</td>\n",
              "      <td>S</td>\n",
              "    </tr>\n",
              "    <tr>\n",
              "      <th>4</th>\n",
              "      <td>5</td>\n",
              "      <td>0</td>\n",
              "      <td>3</td>\n",
              "      <td>Allen, Mr. William Henry</td>\n",
              "      <td>male</td>\n",
              "      <td>35.0</td>\n",
              "      <td>0</td>\n",
              "      <td>0</td>\n",
              "      <td>373450</td>\n",
              "      <td>8.0500</td>\n",
              "      <td>NaN</td>\n",
              "      <td>S</td>\n",
              "    </tr>\n",
              "  </tbody>\n",
              "</table>\n",
              "</div>"
            ],
            "text/plain": [
              "   PassengerId  Survived  Pclass  ...     Fare Cabin  Embarked\n",
              "0            1         0       3  ...   7.2500   NaN         S\n",
              "1            2         1       1  ...  71.2833   C85         C\n",
              "2            3         1       3  ...   7.9250   NaN         S\n",
              "3            4         1       1  ...  53.1000  C123         S\n",
              "4            5         0       3  ...   8.0500   NaN         S\n",
              "\n",
              "[5 rows x 12 columns]"
            ]
          },
          "metadata": {
            "tags": []
          },
          "execution_count": 11
        }
      ]
    },
    {
      "cell_type": "code",
      "metadata": {
        "id": "5XswNHWwk4Z9",
        "colab_type": "code",
        "outputId": "cdaff71b-849b-4662-8814-ecb8355aa6ac",
        "colab": {
          "base_uri": "https://localhost:8080/",
          "height": 202
        }
      },
      "source": [
        "test.head()"
      ],
      "execution_count": 12,
      "outputs": [
        {
          "output_type": "execute_result",
          "data": {
            "text/html": [
              "<div>\n",
              "<style scoped>\n",
              "    .dataframe tbody tr th:only-of-type {\n",
              "        vertical-align: middle;\n",
              "    }\n",
              "\n",
              "    .dataframe tbody tr th {\n",
              "        vertical-align: top;\n",
              "    }\n",
              "\n",
              "    .dataframe thead th {\n",
              "        text-align: right;\n",
              "    }\n",
              "</style>\n",
              "<table border=\"1\" class=\"dataframe\">\n",
              "  <thead>\n",
              "    <tr style=\"text-align: right;\">\n",
              "      <th></th>\n",
              "      <th>PassengerId</th>\n",
              "      <th>Pclass</th>\n",
              "      <th>Name</th>\n",
              "      <th>Sex</th>\n",
              "      <th>Age</th>\n",
              "      <th>SibSp</th>\n",
              "      <th>Parch</th>\n",
              "      <th>Ticket</th>\n",
              "      <th>Fare</th>\n",
              "      <th>Cabin</th>\n",
              "      <th>Embarked</th>\n",
              "    </tr>\n",
              "  </thead>\n",
              "  <tbody>\n",
              "    <tr>\n",
              "      <th>0</th>\n",
              "      <td>892</td>\n",
              "      <td>3</td>\n",
              "      <td>Kelly, Mr. James</td>\n",
              "      <td>male</td>\n",
              "      <td>34.5</td>\n",
              "      <td>0</td>\n",
              "      <td>0</td>\n",
              "      <td>330911</td>\n",
              "      <td>7.8292</td>\n",
              "      <td>NaN</td>\n",
              "      <td>Q</td>\n",
              "    </tr>\n",
              "    <tr>\n",
              "      <th>1</th>\n",
              "      <td>893</td>\n",
              "      <td>3</td>\n",
              "      <td>Wilkes, Mrs. James (Ellen Needs)</td>\n",
              "      <td>female</td>\n",
              "      <td>47.0</td>\n",
              "      <td>1</td>\n",
              "      <td>0</td>\n",
              "      <td>363272</td>\n",
              "      <td>7.0000</td>\n",
              "      <td>NaN</td>\n",
              "      <td>S</td>\n",
              "    </tr>\n",
              "    <tr>\n",
              "      <th>2</th>\n",
              "      <td>894</td>\n",
              "      <td>2</td>\n",
              "      <td>Myles, Mr. Thomas Francis</td>\n",
              "      <td>male</td>\n",
              "      <td>62.0</td>\n",
              "      <td>0</td>\n",
              "      <td>0</td>\n",
              "      <td>240276</td>\n",
              "      <td>9.6875</td>\n",
              "      <td>NaN</td>\n",
              "      <td>Q</td>\n",
              "    </tr>\n",
              "    <tr>\n",
              "      <th>3</th>\n",
              "      <td>895</td>\n",
              "      <td>3</td>\n",
              "      <td>Wirz, Mr. Albert</td>\n",
              "      <td>male</td>\n",
              "      <td>27.0</td>\n",
              "      <td>0</td>\n",
              "      <td>0</td>\n",
              "      <td>315154</td>\n",
              "      <td>8.6625</td>\n",
              "      <td>NaN</td>\n",
              "      <td>S</td>\n",
              "    </tr>\n",
              "    <tr>\n",
              "      <th>4</th>\n",
              "      <td>896</td>\n",
              "      <td>3</td>\n",
              "      <td>Hirvonen, Mrs. Alexander (Helga E Lindqvist)</td>\n",
              "      <td>female</td>\n",
              "      <td>22.0</td>\n",
              "      <td>1</td>\n",
              "      <td>1</td>\n",
              "      <td>3101298</td>\n",
              "      <td>12.2875</td>\n",
              "      <td>NaN</td>\n",
              "      <td>S</td>\n",
              "    </tr>\n",
              "  </tbody>\n",
              "</table>\n",
              "</div>"
            ],
            "text/plain": [
              "   PassengerId  Pclass  ... Cabin Embarked\n",
              "0          892       3  ...   NaN        Q\n",
              "1          893       3  ...   NaN        S\n",
              "2          894       2  ...   NaN        Q\n",
              "3          895       3  ...   NaN        S\n",
              "4          896       3  ...   NaN        S\n",
              "\n",
              "[5 rows x 11 columns]"
            ]
          },
          "metadata": {
            "tags": []
          },
          "execution_count": 12
        }
      ]
    },
    {
      "cell_type": "code",
      "metadata": {
        "id": "hlbAlZCTk4aB",
        "colab_type": "code",
        "outputId": "41c57036-26ee-4153-be20-1a9682d8d5a4",
        "colab": {
          "base_uri": "https://localhost:8080/",
          "height": 202
        }
      },
      "source": [
        "gender_submission.head()"
      ],
      "execution_count": 13,
      "outputs": [
        {
          "output_type": "execute_result",
          "data": {
            "text/html": [
              "<div>\n",
              "<style scoped>\n",
              "    .dataframe tbody tr th:only-of-type {\n",
              "        vertical-align: middle;\n",
              "    }\n",
              "\n",
              "    .dataframe tbody tr th {\n",
              "        vertical-align: top;\n",
              "    }\n",
              "\n",
              "    .dataframe thead th {\n",
              "        text-align: right;\n",
              "    }\n",
              "</style>\n",
              "<table border=\"1\" class=\"dataframe\">\n",
              "  <thead>\n",
              "    <tr style=\"text-align: right;\">\n",
              "      <th></th>\n",
              "      <th>PassengerId</th>\n",
              "      <th>Survived</th>\n",
              "    </tr>\n",
              "  </thead>\n",
              "  <tbody>\n",
              "    <tr>\n",
              "      <th>0</th>\n",
              "      <td>892</td>\n",
              "      <td>0</td>\n",
              "    </tr>\n",
              "    <tr>\n",
              "      <th>1</th>\n",
              "      <td>893</td>\n",
              "      <td>1</td>\n",
              "    </tr>\n",
              "    <tr>\n",
              "      <th>2</th>\n",
              "      <td>894</td>\n",
              "      <td>0</td>\n",
              "    </tr>\n",
              "    <tr>\n",
              "      <th>3</th>\n",
              "      <td>895</td>\n",
              "      <td>0</td>\n",
              "    </tr>\n",
              "    <tr>\n",
              "      <th>4</th>\n",
              "      <td>896</td>\n",
              "      <td>1</td>\n",
              "    </tr>\n",
              "  </tbody>\n",
              "</table>\n",
              "</div>"
            ],
            "text/plain": [
              "   PassengerId  Survived\n",
              "0          892         0\n",
              "1          893         1\n",
              "2          894         0\n",
              "3          895         0\n",
              "4          896         1"
            ]
          },
          "metadata": {
            "tags": []
          },
          "execution_count": 13
        }
      ]
    },
    {
      "cell_type": "code",
      "metadata": {
        "id": "ZTJPl4rCk4aE",
        "colab_type": "code",
        "outputId": "67630d7e-df54-440c-ad47-7a518528711c",
        "colab": {
          "base_uri": "https://localhost:8080/",
          "height": 243
        }
      },
      "source": [
        "train.dtypes"
      ],
      "execution_count": 0,
      "outputs": [
        {
          "output_type": "execute_result",
          "data": {
            "text/plain": [
              "PassengerId      int64\n",
              "Survived         int64\n",
              "Pclass           int64\n",
              "Name            object\n",
              "Sex             object\n",
              "Age            float64\n",
              "SibSp            int64\n",
              "Parch            int64\n",
              "Ticket          object\n",
              "Fare           float64\n",
              "Cabin           object\n",
              "Embarked        object\n",
              "dtype: object"
            ]
          },
          "metadata": {
            "tags": []
          },
          "execution_count": 194
        }
      ]
    },
    {
      "cell_type": "markdown",
      "metadata": {
        "id": "RaMS-IsQk4aG",
        "colab_type": "text"
      },
      "source": [
        "### Type of data"
      ]
    },
    {
      "cell_type": "markdown",
      "metadata": {
        "id": "PsqajUf0k4aG",
        "colab_type": "text"
      },
      "source": [
        "### The missing values"
      ]
    },
    {
      "cell_type": "code",
      "metadata": {
        "id": "A5S1mCaDk4aH",
        "colab_type": "code",
        "outputId": "b0a577e8-feaa-4cc2-c446-8a070ae4b9c0",
        "colab": {
          "base_uri": "https://localhost:8080/",
          "height": 243
        }
      },
      "source": [
        "# counting the missing values\n",
        "train.isna().sum()"
      ],
      "execution_count": 0,
      "outputs": [
        {
          "output_type": "execute_result",
          "data": {
            "text/plain": [
              "PassengerId      0\n",
              "Survived         0\n",
              "Pclass           0\n",
              "Name             0\n",
              "Sex              0\n",
              "Age            177\n",
              "SibSp            0\n",
              "Parch            0\n",
              "Ticket           0\n",
              "Fare             0\n",
              "Cabin          687\n",
              "Embarked         2\n",
              "dtype: int64"
            ]
          },
          "metadata": {
            "tags": []
          },
          "execution_count": 195
        }
      ]
    },
    {
      "cell_type": "code",
      "metadata": {
        "id": "wu1RxZNmk4aK",
        "colab_type": "code",
        "outputId": "9116ce95-230f-48fd-daea-6068f0035a79",
        "colab": {
          "base_uri": "https://localhost:8080/",
          "height": 353
        }
      },
      "source": [
        "# visualizing the missing values\n",
        "missingno.matrix(train, figsize = (30,10))"
      ],
      "execution_count": 0,
      "outputs": [
        {
          "output_type": "execute_result",
          "data": {
            "text/plain": [
              "<matplotlib.axes._subplots.AxesSubplot at 0x7f06607e3898>"
            ]
          },
          "metadata": {
            "tags": []
          },
          "execution_count": 196
        },
        {
          "output_type": "display_data",
          "data": {
            "image/png": "[encoded data removed]",
            "text/plain": [
              "<Figure size 2160x720 with 2 Axes>"
            ]
          },
          "metadata": {
            "tags": []
          }
        }
      ]
    },
    {
      "cell_type": "markdown",
      "metadata": {
        "id": "vHW4OXeJk4aM",
        "colab_type": "text"
      },
      "source": [
        "### Now to perform our data analysis we will create two DataFrames"
      ]
    },
    {
      "cell_type": "code",
      "metadata": {
        "id": "3D0YGWf8k4aM",
        "colab_type": "code",
        "colab": {}
      },
      "source": [
        "df_bin = pd.DataFrame() # for discretised continuous variables\n",
        "df_con = pd.DataFrame() # for continuous variables"
      ],
      "execution_count": 0,
      "outputs": []
    },
    {
      "cell_type": "markdown",
      "metadata": {
        "id": "b0_bjSfbk4aO",
        "colab_type": "text"
      },
      "source": [
        "### Function to create count and distribution visualisations"
      ]
    },
    {
      "cell_type": "code",
      "metadata": {
        "id": "5H5v_H46k4aP",
        "colab_type": "code",
        "colab": {}
      },
      "source": [
        "def plot_count_dist(data, bin_df, label_column, target_column, figsize=(20, 5), use_bin_df=False , use_count=True):\n",
        "    \"\"\"\n",
        "    Function to plot counts and distributions of a label variable and \n",
        "    target variable side by side.\n",
        "    ::param_data:: = target dataframe\n",
        "    ::param_bin_df:: = binned dataframe for countplot\n",
        "    ::param_label_column:: = binary labelled column\n",
        "    ::param_target_column:: = column you want to view counts and distributions\n",
        "    ::param_figsize:: = size of figure (width, height)\n",
        "    ::param_use_bin_df:: = whether or not to use the bin_df, default False\n",
        "    \"\"\"\n",
        "    if use_bin_df: \n",
        "        fig = plt.figure(figsize=figsize)\n",
        "        if use_count:\n",
        "            plt.subplot(1, 2, 1)\n",
        "            sns.countplot(y=target_column, data=bin_df);\n",
        "            plt.subplot(1, 2, 2)\n",
        "        sns.distplot(data.loc[data[label_column] == 1][target_column], \n",
        "                     kde_kws={\"label\": \"Survived\",'bw':0.1});\n",
        "        sns.distplot(data.loc[data[label_column] == 0][target_column], \n",
        "                     kde_kws={\"label\": \"Did not survive\",'bw':0.1});\n",
        "    else:\n",
        "        fig = plt.figure(figsize=figsize)\n",
        "        if use_count:\n",
        "            plt.subplot(1, 2, 1)\n",
        "            sns.countplot(y=target_column, data=data);\n",
        "            plt.subplot(1, 2, 2)\n",
        "        sns.distplot(data.loc[data[label_column] == 1][target_column], \n",
        "                     kde_kws={\"label\": \"Survived\",'bw':0.1});\n",
        "        sns.distplot(data.loc[data[label_column] == 0][target_column], \n",
        "                     kde_kws={\"label\": \"Did not survive\",'bw':0.1});"
      ],
      "execution_count": 0,
      "outputs": []
    },
    {
      "cell_type": "markdown",
      "metadata": {
        "id": "PhPv1KD6k4aR",
        "colab_type": "text"
      },
      "source": [
        "## Feature Selection and Feature Engineering"
      ]
    },
    {
      "cell_type": "markdown",
      "metadata": {
        "id": "-XzX9qgEk4aS",
        "colab_type": "text"
      },
      "source": [
        "### Feature: PassengerId\n",
        "\n",
        "Description: Unique ID of the passengers travelling on the ship.\n",
        "\n",
        "We will ignore this feature as it is of our no use for our prediction"
      ]
    },
    {
      "cell_type": "code",
      "metadata": {
        "id": "UaQO5OXek4aU",
        "colab_type": "code",
        "outputId": "df50c257-21a4-4a09-cccf-bdeefe917d42",
        "colab": {
          "base_uri": "https://localhost:8080/",
          "height": 121
        }
      },
      "source": [
        "train['PassengerId'].head()"
      ],
      "execution_count": 0,
      "outputs": [
        {
          "output_type": "execute_result",
          "data": {
            "text/plain": [
              "0    1\n",
              "1    2\n",
              "2    3\n",
              "3    4\n",
              "4    5\n",
              "Name: PassengerId, dtype: int64"
            ]
          },
          "metadata": {
            "tags": []
          },
          "execution_count": 199
        }
      ]
    },
    {
      "cell_type": "markdown",
      "metadata": {
        "id": "akIIO167k4aW",
        "colab_type": "text"
      },
      "source": [
        "### Feature: Survived \n",
        "\n",
        "It is our target variable, lets explore it.\n",
        "\n",
        "Description: Whether the passenger survived or not.\n",
        "    \n",
        "Key: 0 = did not survive, 1 = survived"
      ]
    },
    {
      "cell_type": "code",
      "metadata": {
        "id": "xf7VnQG4k4aW",
        "colab_type": "code",
        "outputId": "0848479d-0243-4255-900a-cd8b77f79681",
        "colab": {
          "base_uri": "https://localhost:8080/",
          "height": 181
        }
      },
      "source": [
        "# how many survived, lets visualize it with count plot\n",
        "fig = plt.figure(figsize=(20,2))\n",
        "sns.countplot(y='Survived',data=train)\n",
        "print(train.Survived.value_counts())"
      ],
      "execution_count": 0,
      "outputs": [
        {
          "output_type": "stream",
          "text": [
            "0    549\n",
            "1    342\n",
            "Name: Survived, dtype: int64\n"
          ],
          "name": "stdout"
        },
        {
          "output_type": "display_data",
          "data": {
            "image/png": "[encoded data removed]",
            "text/plain": [
              "<Figure size 1440x144 with 1 Axes>"
            ]
          },
          "metadata": {
            "tags": []
          }
        }
      ]
    },
    {
      "cell_type": "code",
      "metadata": {
        "id": "96rTgBvzk4aY",
        "colab_type": "code",
        "colab": {}
      },
      "source": [
        "# lets add it to our dfs\n",
        "df_con['Survived']=train['Survived']\n",
        "df_bin['Survived']=train['Survived']"
      ],
      "execution_count": 0,
      "outputs": []
    },
    {
      "cell_type": "markdown",
      "metadata": {
        "id": "Y2EPM1rsk4ab",
        "colab_type": "text"
      },
      "source": [
        "### Feature: Pclass\n",
        "\n",
        "Description: The ticket class of the passenger.\n",
        "    \n",
        "Key: 1 = 1st, 2 = 2nd, 3 = 3rd"
      ]
    },
    {
      "cell_type": "code",
      "metadata": {
        "id": "D9hD3BInk4ab",
        "colab_type": "code",
        "outputId": "5ad96455-fdfe-4d75-9dfa-d166e5cbb743",
        "colab": {
          "base_uri": "https://localhost:8080/",
          "height": 345
        }
      },
      "source": [
        "# lets visualize it by distplot\n",
        "sns.distplot(train.Pclass,kde=False)\n",
        "plt.xlim(xmin=0)\n",
        "print(train.Pclass.value_counts())"
      ],
      "execution_count": 0,
      "outputs": [
        {
          "output_type": "stream",
          "text": [
            "3    491\n",
            "1    216\n",
            "2    184\n",
            "Name: Pclass, dtype: int64\n"
          ],
          "name": "stdout"
        },
        {
          "output_type": "display_data",
          "data": {
            "image/png": "[encoded data removed]",
            "text/plain": [
              "<Figure size 432x288 with 1 Axes>"
            ]
          },
          "metadata": {
            "tags": []
          }
        }
      ]
    },
    {
      "cell_type": "code",
      "metadata": {
        "id": "yDEY18wGk4ad",
        "colab_type": "code",
        "outputId": "fa22950a-72ed-446c-d74b-19a4efe80092",
        "colab": {
          "base_uri": "https://localhost:8080/",
          "height": 35
        }
      },
      "source": [
        "# How many missing variables does Pclass have?\n",
        "train.Pclass.isnull().sum()"
      ],
      "execution_count": 0,
      "outputs": [
        {
          "output_type": "execute_result",
          "data": {
            "text/plain": [
              "0"
            ]
          },
          "metadata": {
            "tags": []
          },
          "execution_count": 203
        }
      ]
    },
    {
      "cell_type": "code",
      "metadata": {
        "id": "lB6Bdbkvk4af",
        "colab_type": "code",
        "colab": {}
      },
      "source": [
        "# lets add it to our dfs\n",
        "df_bin['Pclass'] = train['Pclass']\n",
        "df_con['Pclass'] = train['Pclass']"
      ],
      "execution_count": 0,
      "outputs": []
    },
    {
      "cell_type": "markdown",
      "metadata": {
        "id": "jfDtZqq-k4ai",
        "colab_type": "text"
      },
      "source": [
        "### Feature: Name\n",
        "\n",
        "Description: Name of the passengers "
      ]
    },
    {
      "cell_type": "code",
      "metadata": {
        "id": "XikhDtD2k4ai",
        "colab_type": "code",
        "outputId": "0a7b6b14-fc13-45eb-8085-f73eceaacb7c",
        "colab": {
          "base_uri": "https://localhost:8080/",
          "height": 35
        }
      },
      "source": [
        "# checking if missing values\n",
        "train.Name.isna().sum()"
      ],
      "execution_count": 0,
      "outputs": [
        {
          "output_type": "execute_result",
          "data": {
            "text/plain": [
              "0"
            ]
          },
          "metadata": {
            "tags": []
          },
          "execution_count": 205
        }
      ]
    },
    {
      "cell_type": "code",
      "metadata": {
        "id": "xxpCSJYSk4ak",
        "colab_type": "code",
        "outputId": "33cb05bf-cc59-4233-c605-fae424d53123",
        "colab": {
          "base_uri": "https://localhost:8080/",
          "height": 225
        }
      },
      "source": [
        "# How many different names are there?\n",
        "train.Name.value_counts()"
      ],
      "execution_count": 0,
      "outputs": [
        {
          "output_type": "execute_result",
          "data": {
            "text/plain": [
              "Lefebre, Miss. Ida                             1\n",
              "Plotcharsky, Mr. Vasil                         1\n",
              "Frolicher, Miss. Hedwig Margaritha             1\n",
              "Sdycoff, Mr. Todor                             1\n",
              "Berglund, Mr. Karl Ivar Sven                   1\n",
              "                                              ..\n",
              "Williams, Mr. Leslie                           1\n",
              "Renouf, Mrs. Peter Henry (Lillian Jefferys)    1\n",
              "Todoroff, Mr. Lalio                            1\n",
              "Sage, Mr. Douglas Bullen                       1\n",
              "Samaan, Mr. Youssef                            1\n",
              "Name: Name, Length: 891, dtype: int64"
            ]
          },
          "metadata": {
            "tags": []
          },
          "execution_count": 206
        }
      ]
    },
    {
      "cell_type": "code",
      "metadata": {
        "id": "WFPrbUC5k4am",
        "colab_type": "code",
        "outputId": "07d90666-b671-4932-9317-236f24297eb3",
        "colab": {
          "base_uri": "https://localhost:8080/",
          "height": 35
        }
      },
      "source": [
        "train.Name.nunique()"
      ],
      "execution_count": 0,
      "outputs": [
        {
          "output_type": "execute_result",
          "data": {
            "text/plain": [
              "891"
            ]
          },
          "metadata": {
            "tags": []
          },
          "execution_count": 207
        }
      ]
    },
    {
      "cell_type": "markdown",
      "metadata": {
        "id": "Dcw5t16Yk4an",
        "colab_type": "text"
      },
      "source": [
        "As all the names are unique, thus we can't do something with them directly.\n",
        "\n",
        "But what we can do is create a new feature by extracting their Titles or their Last Names\n",
        "\n",
        "Lets see what we can do:\n",
        "\n",
        "1) By their Titles\n",
        "\n",
        "2) By their Last Names "
      ]
    },
    {
      "cell_type": "code",
      "metadata": {
        "id": "S35Di9y2k4ao",
        "colab_type": "code",
        "outputId": "15081e17-3611-46b8-8349-ae029362f526",
        "colab": {
          "base_uri": "https://localhost:8080/",
          "height": 225
        }
      },
      "source": [
        "k=train.Name.str.split()\n",
        "k"
      ],
      "execution_count": 0,
      "outputs": [
        {
          "output_type": "execute_result",
          "data": {
            "text/plain": [
              "0                           [Braund,, Mr., Owen, Harris]\n",
              "1      [Cumings,, Mrs., John, Bradley, (Florence, Bri...\n",
              "2                             [Heikkinen,, Miss., Laina]\n",
              "3      [Futrelle,, Mrs., Jacques, Heath, (Lily, May, ...\n",
              "4                          [Allen,, Mr., William, Henry]\n",
              "                             ...                        \n",
              "886                            [Montvila,, Rev., Juozas]\n",
              "887                    [Graham,, Miss., Margaret, Edith]\n",
              "888       [Johnston,, Miss., Catherine, Helen, \"Carrie\"]\n",
              "889                           [Behr,, Mr., Karl, Howell]\n",
              "890                              [Dooley,, Mr., Patrick]\n",
              "Name: Name, Length: 891, dtype: object"
            ]
          },
          "metadata": {
            "tags": []
          },
          "execution_count": 208
        }
      ]
    },
    {
      "cell_type": "code",
      "metadata": {
        "id": "5kP8L-9nk4aq",
        "colab_type": "code",
        "colab": {}
      },
      "source": [
        "t=[]\n",
        "ln=[]\n",
        "for i in k:\n",
        "    t.append(i[1])\n",
        "    ln.append(i[0])"
      ],
      "execution_count": 0,
      "outputs": []
    },
    {
      "cell_type": "markdown",
      "metadata": {
        "id": "8kJue6W2k4ar",
        "colab_type": "text"
      },
      "source": [
        "#### Lets explore Titles now"
      ]
    },
    {
      "cell_type": "code",
      "metadata": {
        "id": "G2Z2Ah8dk4as",
        "colab_type": "code",
        "outputId": "7111903c-7917-484f-ef35-2ac43e7a4755",
        "colab": {
          "base_uri": "https://localhost:8080/",
          "height": 121
        }
      },
      "source": [
        "titles=pd.Series(t)\n",
        "titles.head()"
      ],
      "execution_count": 0,
      "outputs": [
        {
          "output_type": "execute_result",
          "data": {
            "text/plain": [
              "0      Mr.\n",
              "1     Mrs.\n",
              "2    Miss.\n",
              "3     Mrs.\n",
              "4      Mr.\n",
              "dtype: object"
            ]
          },
          "metadata": {
            "tags": []
          },
          "execution_count": 210
        }
      ]
    },
    {
      "cell_type": "code",
      "metadata": {
        "id": "RGVHBSXUk4at",
        "colab_type": "code",
        "outputId": "524e4e99-6677-4536-e27f-4c186a05f222",
        "colab": {
          "base_uri": "https://localhost:8080/",
          "height": 572
        }
      },
      "source": [
        "titles.value_counts()"
      ],
      "execution_count": 0,
      "outputs": [
        {
          "output_type": "execute_result",
          "data": {
            "text/plain": [
              "Mr.             502\n",
              "Miss.           179\n",
              "Mrs.            121\n",
              "Master.          40\n",
              "Dr.               7\n",
              "Rev.              6\n",
              "y                 4\n",
              "Impe,             3\n",
              "Planke,           3\n",
              "Mlle.             2\n",
              "Major.            2\n",
              "Col.              2\n",
              "Gordon,           2\n",
              "Mulder,           1\n",
              "Ms.               1\n",
              "the               1\n",
              "Pelsmaeker,       1\n",
              "Don.              1\n",
              "Walle,            1\n",
              "Steen,            1\n",
              "Melkebeke,        1\n",
              "der               1\n",
              "Carlo,            1\n",
              "Shawah,           1\n",
              "Mme.              1\n",
              "Velde,            1\n",
              "Messemaeker,      1\n",
              "Billiard,         1\n",
              "Cruyssen,         1\n",
              "Capt.             1\n",
              "Jonkheer.         1\n",
              "dtype: int64"
            ]
          },
          "metadata": {
            "tags": []
          },
          "execution_count": 211
        }
      ]
    },
    {
      "cell_type": "markdown",
      "metadata": {
        "id": "D3O0SdTnk4aw",
        "colab_type": "text"
      },
      "source": [
        "#### So here we will keep the first 4 categories and rest we will make them as Others"
      ]
    },
    {
      "cell_type": "code",
      "metadata": {
        "id": "JbA01jZLk4aw",
        "colab_type": "code",
        "outputId": "06862cc5-277a-40c0-ca43-33b9913ce561",
        "colab": {
          "base_uri": "https://localhost:8080/",
          "height": 121
        }
      },
      "source": [
        "for i in range(891):\n",
        "    if not(titles[i] in ['Mr.','Miss.','Mrs.','Master.']):\n",
        "        titles[i]='Others.'\n",
        "titles.value_counts()"
      ],
      "execution_count": 0,
      "outputs": [
        {
          "output_type": "execute_result",
          "data": {
            "text/plain": [
              "Mr.        502\n",
              "Miss.      179\n",
              "Mrs.       121\n",
              "Others.     49\n",
              "Master.     40\n",
              "dtype: int64"
            ]
          },
          "metadata": {
            "tags": []
          },
          "execution_count": 212
        }
      ]
    },
    {
      "cell_type": "markdown",
      "metadata": {
        "id": "wY9b79ZKk4ay",
        "colab_type": "text"
      },
      "source": [
        "#### Lets explore Last Names now"
      ]
    },
    {
      "cell_type": "code",
      "metadata": {
        "id": "pDqZbTWLk4az",
        "colab_type": "code",
        "outputId": "aaa7e14d-1678-4c83-e921-483443ea1811",
        "colab": {
          "base_uri": "https://localhost:8080/",
          "height": 121
        }
      },
      "source": [
        "last_names=pd.Series(ln)\n",
        "last_names.head()"
      ],
      "execution_count": 0,
      "outputs": [
        {
          "output_type": "execute_result",
          "data": {
            "text/plain": [
              "0       Braund,\n",
              "1      Cumings,\n",
              "2    Heikkinen,\n",
              "3     Futrelle,\n",
              "4        Allen,\n",
              "dtype: object"
            ]
          },
          "metadata": {
            "tags": []
          },
          "execution_count": 213
        }
      ]
    },
    {
      "cell_type": "code",
      "metadata": {
        "id": "gSqnMBOAk4a0",
        "colab_type": "code",
        "outputId": "3697e65d-e94a-4701-d04a-5ef2c1d5a0bc",
        "colab": {
          "base_uri": "https://localhost:8080/",
          "height": 225
        }
      },
      "source": [
        "last_names.value_counts()"
      ],
      "execution_count": 0,
      "outputs": [
        {
          "output_type": "execute_result",
          "data": {
            "text/plain": [
              "Andersson,    9\n",
              "Sage,         7\n",
              "Johnson,      6\n",
              "Skoog,        6\n",
              "Carter,       6\n",
              "             ..\n",
              "Davis,        1\n",
              "Bystrom,      1\n",
              "Hood,         1\n",
              "Hodges,       1\n",
              "Razi,         1\n",
              "Length: 661, dtype: int64"
            ]
          },
          "metadata": {
            "tags": []
          },
          "execution_count": 214
        }
      ]
    },
    {
      "cell_type": "code",
      "metadata": {
        "id": "J7AUdqrUk4a2",
        "colab_type": "code",
        "outputId": "8eff15ae-c0ef-4434-8073-1fb78ac46405",
        "colab": {
          "base_uri": "https://localhost:8080/",
          "height": 35
        }
      },
      "source": [
        "last_names.nunique()"
      ],
      "execution_count": 0,
      "outputs": [
        {
          "output_type": "execute_result",
          "data": {
            "text/plain": [
              "661"
            ]
          },
          "metadata": {
            "tags": []
          },
          "execution_count": 215
        }
      ]
    },
    {
      "cell_type": "markdown",
      "metadata": {
        "id": "kUrUDXMOk4a4",
        "colab_type": "text"
      },
      "source": [
        "#### As we see there are many uniques values so we will ignore the Last Names"
      ]
    },
    {
      "cell_type": "code",
      "metadata": {
        "id": "uTNDEGNSk4a5",
        "colab_type": "code",
        "colab": {}
      },
      "source": [
        "# lets add it to our dfs\n",
        "df_bin['Titles'] = titles\n",
        "df_con['Titles'] = titles"
      ],
      "execution_count": 0,
      "outputs": []
    },
    {
      "cell_type": "markdown",
      "metadata": {
        "id": "D7F2ZO6-k4a6",
        "colab_type": "text"
      },
      "source": [
        "### Feature: Sex\n",
        "\n",
        "Description: The sex of the passenger (male or female)."
      ]
    },
    {
      "cell_type": "code",
      "metadata": {
        "id": "9fwFbFZZk4a7",
        "colab_type": "code",
        "outputId": "9c5858c1-2ccb-4974-fdb1-513852b827a8",
        "colab": {
          "base_uri": "https://localhost:8080/",
          "height": 178
        }
      },
      "source": [
        "# Let's view the distribution of Sex\n",
        "plt.figure(figsize=(20, 2))\n",
        "sns.countplot(y=\"Sex\", data=train)\n",
        "print(train.Sex.value_counts())"
      ],
      "execution_count": 0,
      "outputs": [
        {
          "output_type": "stream",
          "text": [
            "male      577\n",
            "female    314\n",
            "Name: Sex, dtype: int64\n"
          ],
          "name": "stdout"
        },
        {
          "output_type": "display_data",
          "data": {
            "image/png": "[encoded data removed]",
            "text/plain": [
              "<Figure size 1440x144 with 1 Axes>"
            ]
          },
          "metadata": {
            "tags": []
          }
        }
      ]
    },
    {
      "cell_type": "code",
      "metadata": {
        "id": "A1NR_c8fk4a9",
        "colab_type": "code",
        "outputId": "b62aff2b-e33a-4147-9446-0e533a6b3e14",
        "colab": {
          "base_uri": "https://localhost:8080/",
          "height": 35
        }
      },
      "source": [
        "train.Sex.isna().sum()"
      ],
      "execution_count": 0,
      "outputs": [
        {
          "output_type": "execute_result",
          "data": {
            "text/plain": [
              "0"
            ]
          },
          "metadata": {
            "tags": []
          },
          "execution_count": 218
        }
      ]
    },
    {
      "cell_type": "code",
      "metadata": {
        "id": "y7IF-KLOk4a-",
        "colab_type": "code",
        "colab": {}
      },
      "source": [
        "# add Sex to the subset dataframes\n",
        "df_bin['Sex'] = train['Sex']\n",
        "df_bin['Sex'] = np.where(df_bin['Sex'] == 'female', 1, 0) # change sex to 0 for male and 1 for female\n",
        "df_con['Sex'] = train['Sex']"
      ],
      "execution_count": 0,
      "outputs": []
    },
    {
      "cell_type": "code",
      "metadata": {
        "id": "Auj9JxBuk4bA",
        "colab_type": "code",
        "outputId": "4542550b-187b-44e2-dbf8-e311c1056bba",
        "colab": {
          "base_uri": "https://localhost:8080/",
          "height": 591
        }
      },
      "source": [
        "# How does the Sex variable look compared to Survival?\n",
        "# We can see this because they're both binarys.\n",
        "# Visualise the counts of Sex and the distribution of the values\n",
        "# against Survived\n",
        "plot_count_dist(df_bin, \n",
        "               bin_df=df_bin,\n",
        "                label_column='Survived', \n",
        "                target_column='Sex', \n",
        "                figsize=(15, 10),\n",
        "               use_bin_df=True,\n",
        "               use_count=False)"
      ],
      "execution_count": 0,
      "outputs": [
        {
          "output_type": "display_data",
          "data": {
            "image/png": "[encoded data removed]",
            "text/plain": [
              "<Figure size 1080x720 with 1 Axes>"
            ]
          },
          "metadata": {
            "tags": []
          }
        }
      ]
    },
    {
      "cell_type": "markdown",
      "metadata": {
        "id": "cgQoeKlgk4bC",
        "colab_type": "text"
      },
      "source": [
        "#### from above we can see that not many people survived. But of those who did, more were female."
      ]
    },
    {
      "cell_type": "markdown",
      "metadata": {
        "id": "FK0A5umgk4bC",
        "colab_type": "text"
      },
      "source": [
        "### Feature: Age\n",
        "\n",
        "Description: The age of the passenger."
      ]
    },
    {
      "cell_type": "code",
      "metadata": {
        "id": "aiC4eaG3k4bC",
        "colab_type": "code",
        "outputId": "c67f3e79-a10f-4caa-f923-39043158303e",
        "colab": {
          "base_uri": "https://localhost:8080/",
          "height": 35
        }
      },
      "source": [
        "# How many missing values does age have?\n",
        "train.Age.isnull().sum()"
      ],
      "execution_count": 0,
      "outputs": [
        {
          "output_type": "execute_result",
          "data": {
            "text/plain": [
              "177"
            ]
          },
          "metadata": {
            "tags": []
          },
          "execution_count": 221
        }
      ]
    },
    {
      "cell_type": "markdown",
      "metadata": {
        "id": "8H_mAFGBk4bE",
        "colab_type": "text"
      },
      "source": [
        "Out of a total 891 rows, that's almost one quarter of the dataset.\n",
        "\n",
        "What would we do with these missing values?\n",
        "\n",
        "Could replace them with the average age? What's the pro's and con's of doing this?\n",
        "\n",
        "Or we can get rid of them completely? But that can affect our prediction as we will be loosing a lot of data"
      ]
    },
    {
      "cell_type": "code",
      "metadata": {
        "id": "y8C6VMIfk4bF",
        "colab_type": "code",
        "outputId": "07784ff3-5b53-45e4-c641-98beca3fc866",
        "colab": {
          "base_uri": "https://localhost:8080/",
          "height": 225
        }
      },
      "source": [
        "train.Age.value_counts()"
      ],
      "execution_count": 0,
      "outputs": [
        {
          "output_type": "execute_result",
          "data": {
            "text/plain": [
              "24.00    30\n",
              "22.00    27\n",
              "18.00    26\n",
              "19.00    25\n",
              "30.00    25\n",
              "         ..\n",
              "55.50     1\n",
              "70.50     1\n",
              "66.00     1\n",
              "23.50     1\n",
              "0.42      1\n",
              "Name: Age, Length: 88, dtype: int64"
            ]
          },
          "metadata": {
            "tags": []
          },
          "execution_count": 222
        }
      ]
    },
    {
      "cell_type": "code",
      "metadata": {
        "id": "vF5C7z-Mk4bH",
        "colab_type": "code",
        "outputId": "0d682ed8-b730-4d69-bdd1-8e23f75f9f6a",
        "colab": {
          "base_uri": "https://localhost:8080/",
          "height": 35
        }
      },
      "source": [
        "train.Age.mean()"
      ],
      "execution_count": 0,
      "outputs": [
        {
          "output_type": "execute_result",
          "data": {
            "text/plain": [
              "29.69911764705882"
            ]
          },
          "metadata": {
            "tags": []
          },
          "execution_count": 223
        }
      ]
    },
    {
      "cell_type": "code",
      "metadata": {
        "id": "XMPTgp39k4bL",
        "colab_type": "code",
        "outputId": "2566d5b6-be05-48f7-e83f-10d80a94c705",
        "colab": {
          "base_uri": "https://localhost:8080/",
          "height": 35
        }
      },
      "source": [
        "train.Age.median()"
      ],
      "execution_count": 0,
      "outputs": [
        {
          "output_type": "execute_result",
          "data": {
            "text/plain": [
              "28.0"
            ]
          },
          "metadata": {
            "tags": []
          },
          "execution_count": 224
        }
      ]
    },
    {
      "cell_type": "code",
      "metadata": {
        "id": "_5Dyvmeuk4bN",
        "colab_type": "code",
        "outputId": "3f93b49d-7e58-4d7f-f617-69777555df38",
        "colab": {
          "base_uri": "https://localhost:8080/",
          "height": 385
        }
      },
      "source": [
        "# age countplot\n",
        "fig = plt.figure(figsize=(20,8))\n",
        "sns.countplot(x='Age',data=train)"
      ],
      "execution_count": 0,
      "outputs": [
        {
          "output_type": "execute_result",
          "data": {
            "text/plain": [
              "<matplotlib.axes._subplots.AxesSubplot at 0x7f065ec920b8>"
            ]
          },
          "metadata": {
            "tags": []
          },
          "execution_count": 225
        },
        {
          "output_type": "display_data",
          "data": {
            "image/png": "[encoded data removed]",
            "text/plain": [
              "<Figure size 1440x576 with 1 Axes>"
            ]
          },
          "metadata": {
            "tags": []
          }
        }
      ]
    },
    {
      "cell_type": "markdown",
      "metadata": {
        "id": "8dWMA5Qdk4bP",
        "colab_type": "text"
      },
      "source": [
        "#### Lets try to discretize the age into: \n",
        "\n",
        "1) 0 - 20         as 1\n",
        "\n",
        "2) 21 - 60        as 2\n",
        "\n",
        "3) 61 - 100       as 3\n",
        "\n",
        "4) null           as 0"
      ]
    },
    {
      "cell_type": "code",
      "metadata": {
        "id": "yxmy9Ytbk4bQ",
        "colab_type": "code",
        "colab": {}
      },
      "source": [
        "a=[]\n",
        "for i in train.Age:\n",
        "    if np.isnan(i):\n",
        "        a.append(0)\n",
        "    elif i<21:\n",
        "        a.append(1)\n",
        "    elif i<61:\n",
        "        a.append(2)\n",
        "    else:\n",
        "        a.append(3)"
      ],
      "execution_count": 0,
      "outputs": []
    },
    {
      "cell_type": "code",
      "metadata": {
        "id": "En2unGuwk4bS",
        "colab_type": "code",
        "outputId": "5d15b61d-f369-478a-c61c-d0a9fb81918f",
        "colab": {
          "base_uri": "https://localhost:8080/",
          "height": 104
        }
      },
      "source": [
        "discrete_age=pd.DataFrame(a,columns=['Discrete_age'])\n",
        "discrete_age.Discrete_age.value_counts()"
      ],
      "execution_count": 0,
      "outputs": [
        {
          "output_type": "execute_result",
          "data": {
            "text/plain": [
              "2    512\n",
              "1    180\n",
              "0    177\n",
              "3     22\n",
              "Name: Discrete_age, dtype: int64"
            ]
          },
          "metadata": {
            "tags": []
          },
          "execution_count": 227
        }
      ]
    },
    {
      "cell_type": "code",
      "metadata": {
        "id": "muaOhIYfk4bT",
        "colab_type": "code",
        "colab": {}
      },
      "source": [
        "discrete_age = pd.concat([discrete_age,train.Survived,df_bin['Titles']],axis=1)"
      ],
      "execution_count": 0,
      "outputs": []
    },
    {
      "cell_type": "code",
      "metadata": {
        "id": "S2TvHARmk4bV",
        "colab_type": "code",
        "outputId": "69adc4ca-4666-415d-cc09-2f70c576eed9",
        "colab": {
          "base_uri": "https://localhost:8080/",
          "height": 202
        }
      },
      "source": [
        "discrete_age.head()"
      ],
      "execution_count": 0,
      "outputs": [
        {
          "output_type": "execute_result",
          "data": {
            "text/html": [
              "<div>\n",
              "<style scoped>\n",
              "    .dataframe tbody tr th:only-of-type {\n",
              "        vertical-align: middle;\n",
              "    }\n",
              "\n",
              "    .dataframe tbody tr th {\n",
              "        vertical-align: top;\n",
              "    }\n",
              "\n",
              "    .dataframe thead th {\n",
              "        text-align: right;\n",
              "    }\n",
              "</style>\n",
              "<table border=\"1\" class=\"dataframe\">\n",
              "  <thead>\n",
              "    <tr style=\"text-align: right;\">\n",
              "      <th></th>\n",
              "      <th>Discrete_age</th>\n",
              "      <th>Survived</th>\n",
              "      <th>Titles</th>\n",
              "    </tr>\n",
              "  </thead>\n",
              "  <tbody>\n",
              "    <tr>\n",
              "      <th>0</th>\n",
              "      <td>2</td>\n",
              "      <td>0</td>\n",
              "      <td>Mr.</td>\n",
              "    </tr>\n",
              "    <tr>\n",
              "      <th>1</th>\n",
              "      <td>2</td>\n",
              "      <td>1</td>\n",
              "      <td>Mrs.</td>\n",
              "    </tr>\n",
              "    <tr>\n",
              "      <th>2</th>\n",
              "      <td>2</td>\n",
              "      <td>1</td>\n",
              "      <td>Miss.</td>\n",
              "    </tr>\n",
              "    <tr>\n",
              "      <th>3</th>\n",
              "      <td>2</td>\n",
              "      <td>1</td>\n",
              "      <td>Mrs.</td>\n",
              "    </tr>\n",
              "    <tr>\n",
              "      <th>4</th>\n",
              "      <td>2</td>\n",
              "      <td>0</td>\n",
              "      <td>Mr.</td>\n",
              "    </tr>\n",
              "  </tbody>\n",
              "</table>\n",
              "</div>"
            ],
            "text/plain": [
              "   Discrete_age  Survived Titles\n",
              "0             2         0    Mr.\n",
              "1             2         1   Mrs.\n",
              "2             2         1  Miss.\n",
              "3             2         1   Mrs.\n",
              "4             2         0    Mr."
            ]
          },
          "metadata": {
            "tags": []
          },
          "execution_count": 229
        }
      ]
    },
    {
      "cell_type": "markdown",
      "metadata": {
        "id": "k510h2Uak4bY",
        "colab_type": "text"
      },
      "source": [
        "#### Now lets see how the survival is distributed among the Discretized Age"
      ]
    },
    {
      "cell_type": "markdown",
      "metadata": {
        "id": "pjvtyJf7k4bY",
        "colab_type": "text"
      },
      "source": [
        "#### For the NAN category 0"
      ]
    },
    {
      "cell_type": "code",
      "metadata": {
        "id": "S3oGQBX1k4bY",
        "colab_type": "code",
        "outputId": "59c06305-8e66-48c2-d35b-6eade0ec309a",
        "colab": {
          "base_uri": "https://localhost:8080/",
          "height": 69
        }
      },
      "source": [
        "discrete_age.loc[discrete_age.Discrete_age==0].Survived.value_counts()"
      ],
      "execution_count": 0,
      "outputs": [
        {
          "output_type": "execute_result",
          "data": {
            "text/plain": [
              "0    125\n",
              "1     52\n",
              "Name: Survived, dtype: int64"
            ]
          },
          "metadata": {
            "tags": []
          },
          "execution_count": 230
        }
      ]
    },
    {
      "cell_type": "code",
      "metadata": {
        "id": "rl4NwPXAk4ba",
        "colab_type": "code",
        "outputId": "30b95b6c-273a-4b38-f12b-dffcc19f23c9",
        "colab": {
          "base_uri": "https://localhost:8080/",
          "height": 121
        }
      },
      "source": [
        "discrete_age.loc[discrete_age.Discrete_age==0].Titles.value_counts()"
      ],
      "execution_count": 0,
      "outputs": [
        {
          "output_type": "execute_result",
          "data": {
            "text/plain": [
              "Mr.        117\n",
              "Miss.       36\n",
              "Mrs.        17\n",
              "Master.      4\n",
              "Others.      3\n",
              "Name: Titles, dtype: int64"
            ]
          },
          "metadata": {
            "tags": []
          },
          "execution_count": 231
        }
      ]
    },
    {
      "cell_type": "code",
      "metadata": {
        "id": "IYROlyfDk4bc",
        "colab_type": "code",
        "outputId": "6b56ac00-71eb-4889-db01-74e3c5ec3891",
        "colab": {
          "base_uri": "https://localhost:8080/",
          "height": 121
        }
      },
      "source": [
        "discrete_age.loc[(discrete_age.Discrete_age==0) & (discrete_age.Survived==1)].Titles.value_counts()"
      ],
      "execution_count": 0,
      "outputs": [
        {
          "output_type": "execute_result",
          "data": {
            "text/plain": [
              "Miss.      22\n",
              "Mrs.       14\n",
              "Mr.        13\n",
              "Master.     2\n",
              "Others.     1\n",
              "Name: Titles, dtype: int64"
            ]
          },
          "metadata": {
            "tags": []
          },
          "execution_count": 232
        }
      ]
    },
    {
      "cell_type": "markdown",
      "metadata": {
        "id": "z2ACGj4Xk4bd",
        "colab_type": "text"
      },
      "source": [
        "#### For category 1"
      ]
    },
    {
      "cell_type": "code",
      "metadata": {
        "id": "ZBer3BdGk4be",
        "colab_type": "code",
        "outputId": "6ac59b11-5ee0-4643-967c-a7bd27dddd4d",
        "colab": {
          "base_uri": "https://localhost:8080/",
          "height": 69
        }
      },
      "source": [
        "discrete_age.loc[discrete_age.Discrete_age==1].Survived.value_counts()"
      ],
      "execution_count": 0,
      "outputs": [
        {
          "output_type": "execute_result",
          "data": {
            "text/plain": [
              "0    98\n",
              "1    82\n",
              "Name: Survived, dtype: int64"
            ]
          },
          "metadata": {
            "tags": []
          },
          "execution_count": 233
        }
      ]
    },
    {
      "cell_type": "code",
      "metadata": {
        "id": "XyGXtXWak4bf",
        "colab_type": "code",
        "outputId": "ad001a4e-55f7-4382-ae2f-2fecd9ab801d",
        "colab": {
          "base_uri": "https://localhost:8080/",
          "height": 121
        }
      },
      "source": [
        "discrete_age.loc[discrete_age.Discrete_age==1].Titles.value_counts()"
      ],
      "execution_count": 0,
      "outputs": [
        {
          "output_type": "execute_result",
          "data": {
            "text/plain": [
              "Miss.      66\n",
              "Mr.        64\n",
              "Master.    36\n",
              "Mrs.        8\n",
              "Others.     6\n",
              "Name: Titles, dtype: int64"
            ]
          },
          "metadata": {
            "tags": []
          },
          "execution_count": 234
        }
      ]
    },
    {
      "cell_type": "markdown",
      "metadata": {
        "id": "qvFz6-pfk4bh",
        "colab_type": "text"
      },
      "source": [
        "#### For category 2"
      ]
    },
    {
      "cell_type": "code",
      "metadata": {
        "id": "y76aqDG9k4bh",
        "colab_type": "code",
        "outputId": "5c27b4bd-c782-4ecb-aef1-a684db8217f7",
        "colab": {
          "base_uri": "https://localhost:8080/",
          "height": 69
        }
      },
      "source": [
        "discrete_age.loc[discrete_age.Discrete_age==2].Survived.value_counts()"
      ],
      "execution_count": 0,
      "outputs": [
        {
          "output_type": "execute_result",
          "data": {
            "text/plain": [
              "0    309\n",
              "1    203\n",
              "Name: Survived, dtype: int64"
            ]
          },
          "metadata": {
            "tags": []
          },
          "execution_count": 235
        }
      ]
    },
    {
      "cell_type": "code",
      "metadata": {
        "id": "fFIDbKdBk4bk",
        "colab_type": "code",
        "outputId": "b3e4dfa8-0311-4855-9434-7c2fe44a4638",
        "colab": {
          "base_uri": "https://localhost:8080/",
          "height": 104
        }
      },
      "source": [
        "discrete_age.loc[(discrete_age.Discrete_age==2)].Titles.value_counts()"
      ],
      "execution_count": 0,
      "outputs": [
        {
          "output_type": "execute_result",
          "data": {
            "text/plain": [
              "Mr.        304\n",
              "Mrs.        94\n",
              "Miss.       76\n",
              "Others.     38\n",
              "Name: Titles, dtype: int64"
            ]
          },
          "metadata": {
            "tags": []
          },
          "execution_count": 236
        }
      ]
    },
    {
      "cell_type": "markdown",
      "metadata": {
        "id": "GopL1aidk4bm",
        "colab_type": "text"
      },
      "source": [
        "#### For category 3 "
      ]
    },
    {
      "cell_type": "code",
      "metadata": {
        "id": "ol6EteyEk4bm",
        "colab_type": "code",
        "outputId": "a117ebe6-8070-42a8-e454-fc82bdcafeee",
        "colab": {
          "base_uri": "https://localhost:8080/",
          "height": 69
        }
      },
      "source": [
        "discrete_age.loc[discrete_age.Discrete_age==3].Survived.value_counts()"
      ],
      "execution_count": 0,
      "outputs": [
        {
          "output_type": "execute_result",
          "data": {
            "text/plain": [
              "0    17\n",
              "1     5\n",
              "Name: Survived, dtype: int64"
            ]
          },
          "metadata": {
            "tags": []
          },
          "execution_count": 237
        }
      ]
    },
    {
      "cell_type": "code",
      "metadata": {
        "id": "IkGqSAZHk4bp",
        "colab_type": "code",
        "outputId": "54ab5980-8c63-4ad5-94bd-260b5ee174c1",
        "colab": {
          "base_uri": "https://localhost:8080/",
          "height": 104
        }
      },
      "source": [
        "discrete_age.loc[(discrete_age.Discrete_age==3)].Titles.value_counts()"
      ],
      "execution_count": 0,
      "outputs": [
        {
          "output_type": "execute_result",
          "data": {
            "text/plain": [
              "Mr.        17\n",
              "Mrs.        2\n",
              "Others.     2\n",
              "Miss.       1\n",
              "Name: Titles, dtype: int64"
            ]
          },
          "metadata": {
            "tags": []
          },
          "execution_count": 238
        }
      ]
    },
    {
      "cell_type": "markdown",
      "metadata": {
        "id": "2kKPYvqAk4bq",
        "colab_type": "text"
      },
      "source": [
        "#### So now we have seen that the Age with NaN values can be categoried with the help of their Titles\n",
        "\n",
        "if Master or Miss then put in category 1\n",
        "else in category 2"
      ]
    },
    {
      "cell_type": "code",
      "metadata": {
        "id": "OFeG20g3k4bs",
        "colab_type": "code",
        "colab": {}
      },
      "source": [
        "def func(x):\n",
        "    if x in ['Master.','Miss.']:\n",
        "         return 1\n",
        "    else:\n",
        "        return 2"
      ],
      "execution_count": 0,
      "outputs": []
    },
    {
      "cell_type": "code",
      "metadata": {
        "id": "lo3w6M85k4bt",
        "colab_type": "code",
        "colab": {}
      },
      "source": [
        "df=discrete_age.loc[discrete_age.Discrete_age==0]\n",
        "df.Discrete_age=df.Titles.apply(func)\n",
        "discrete_age.loc[discrete_age.Discrete_age==0]=df"
      ],
      "execution_count": 0,
      "outputs": []
    },
    {
      "cell_type": "code",
      "metadata": {
        "id": "SmFP9lWgk4bv",
        "colab_type": "code",
        "outputId": "4c49ca99-fb1a-4e6f-bbe4-646665ff0c2c",
        "colab": {
          "base_uri": "https://localhost:8080/",
          "height": 87
        }
      },
      "source": [
        "discrete_age.Discrete_age.value_counts()"
      ],
      "execution_count": 0,
      "outputs": [
        {
          "output_type": "execute_result",
          "data": {
            "text/plain": [
              "2    649\n",
              "1    220\n",
              "3     22\n",
              "Name: Discrete_age, dtype: int64"
            ]
          },
          "metadata": {
            "tags": []
          },
          "execution_count": 241
        }
      ]
    },
    {
      "cell_type": "code",
      "metadata": {
        "id": "SHnYT_Bdk4bw",
        "colab_type": "code",
        "colab": {}
      },
      "source": [
        "# adding this feature to our dfs\n",
        "df_bin['Dis_age'] = discrete_age.Discrete_age\n",
        "df_con['Dis_age'] = discrete_age.Discrete_age"
      ],
      "execution_count": 0,
      "outputs": []
    },
    {
      "cell_type": "markdown",
      "metadata": {
        "id": "fUEXQXgXk4by",
        "colab_type": "text"
      },
      "source": [
        "### Feature: SibSp\n",
        "\n",
        "Description: The number of siblings/spouses the passenger has aboard the Titanic."
      ]
    },
    {
      "cell_type": "code",
      "metadata": {
        "id": "k00EAP_dk4bz",
        "colab_type": "code",
        "outputId": "4c41dc12-7471-426d-d9f1-721d67d30bb8",
        "colab": {
          "base_uri": "https://localhost:8080/",
          "height": 35
        }
      },
      "source": [
        "# How many missing values does SibSp have?\n",
        "train.SibSp.isnull().sum()"
      ],
      "execution_count": 0,
      "outputs": [
        {
          "output_type": "execute_result",
          "data": {
            "text/plain": [
              "0"
            ]
          },
          "metadata": {
            "tags": []
          },
          "execution_count": 243
        }
      ]
    },
    {
      "cell_type": "code",
      "metadata": {
        "id": "kVTDFLdxk4b1",
        "colab_type": "code",
        "outputId": "9b6bcd2b-53d1-4307-ec45-771b24015e37",
        "colab": {
          "base_uri": "https://localhost:8080/",
          "height": 156
        }
      },
      "source": [
        "# What values are there?\n",
        "train.SibSp.value_counts()"
      ],
      "execution_count": 0,
      "outputs": [
        {
          "output_type": "execute_result",
          "data": {
            "text/plain": [
              "0    608\n",
              "1    209\n",
              "2     28\n",
              "4     18\n",
              "3     16\n",
              "8      7\n",
              "5      5\n",
              "Name: SibSp, dtype: int64"
            ]
          },
          "metadata": {
            "tags": []
          },
          "execution_count": 244
        }
      ]
    },
    {
      "cell_type": "code",
      "metadata": {
        "id": "2Bpo9m8Lk4b3",
        "colab_type": "code",
        "colab": {}
      },
      "source": [
        "# Add SibSp to subset dataframes\n",
        "df_bin['SibSp'] = train['SibSp']\n",
        "df_con['SibSp'] = train['SibSp']"
      ],
      "execution_count": 0,
      "outputs": []
    },
    {
      "cell_type": "code",
      "metadata": {
        "id": "ECmRNaduk4b4",
        "colab_type": "code",
        "outputId": "094453d1-32b7-4c36-d092-de51d7439f63",
        "colab": {
          "base_uri": "https://localhost:8080/",
          "height": 452
        }
      },
      "source": [
        "# Visualise the counts of SibSp and the distribution of the values\n",
        "# against Survived\n",
        "plot_count_dist(train, \n",
        "                bin_df=df_bin, \n",
        "                label_column='Survived', \n",
        "                target_column='SibSp', \n",
        "                figsize=(20, 10))"
      ],
      "execution_count": 0,
      "outputs": [
        {
          "output_type": "display_data",
          "data": {
            "image/png": "[encoded data removed]",
            "text/plain": [
              "<Figure size 1440x720 with 2 Axes>"
            ]
          },
          "metadata": {
            "tags": []
          }
        }
      ]
    },
    {
      "cell_type": "markdown",
      "metadata": {
        "id": "UkBkKLh_k4b6",
        "colab_type": "text"
      },
      "source": [
        "### Feature: Parch\n",
        "\n",
        "Description: The number of parents/children the passenger has aboard the Titanic."
      ]
    },
    {
      "cell_type": "code",
      "metadata": {
        "id": "FgkdV_Xbk4b6",
        "colab_type": "code",
        "outputId": "b0df7411-cbd7-4830-af8f-8dea2917d8de",
        "colab": {
          "base_uri": "https://localhost:8080/",
          "height": 35
        }
      },
      "source": [
        "# How many missing values does Parch have?\n",
        "train.Parch.isnull().sum()"
      ],
      "execution_count": 0,
      "outputs": [
        {
          "output_type": "execute_result",
          "data": {
            "text/plain": [
              "0"
            ]
          },
          "metadata": {
            "tags": []
          },
          "execution_count": 247
        }
      ]
    },
    {
      "cell_type": "code",
      "metadata": {
        "id": "l_zZ9xxBk4b7",
        "colab_type": "code",
        "outputId": "1f8f7f6e-fb1a-4104-c6a5-1ba01220aff2",
        "colab": {
          "base_uri": "https://localhost:8080/",
          "height": 156
        }
      },
      "source": [
        "# What values are there?\n",
        "train.Parch.value_counts()"
      ],
      "execution_count": 0,
      "outputs": [
        {
          "output_type": "execute_result",
          "data": {
            "text/plain": [
              "0    678\n",
              "1    118\n",
              "2     80\n",
              "5      5\n",
              "3      5\n",
              "4      4\n",
              "6      1\n",
              "Name: Parch, dtype: int64"
            ]
          },
          "metadata": {
            "tags": []
          },
          "execution_count": 248
        }
      ]
    },
    {
      "cell_type": "code",
      "metadata": {
        "id": "GuRE-EQpk4b9",
        "colab_type": "code",
        "colab": {}
      },
      "source": [
        "# Add Parch to subset dataframes\n",
        "df_bin['Parch'] = train['Parch']\n",
        "df_con['Parch'] = train['Parch']"
      ],
      "execution_count": 0,
      "outputs": []
    },
    {
      "cell_type": "code",
      "metadata": {
        "id": "gKbB9Vnsk4b-",
        "colab_type": "code",
        "outputId": "b2aa4428-ed55-4e83-a630-10884236cc3c",
        "colab": {
          "base_uri": "https://localhost:8080/",
          "height": 452
        }
      },
      "source": [
        "# Visualise the counts of Parch and the distribution of the values\n",
        "# against Survived\n",
        "plot_count_dist(train, \n",
        "               bin_df=df_bin,\n",
        "                label_column='Survived', \n",
        "                target_column='Parch', \n",
        "                figsize=(20, 10))"
      ],
      "execution_count": 0,
      "outputs": [
        {
          "output_type": "display_data",
          "data": {
            "image/png": "[encoded data removed]",
            "text/plain": [
              "<Figure size 1440x720 with 2 Axes>"
            ]
          },
          "metadata": {
            "tags": []
          }
        }
      ]
    },
    {
      "cell_type": "markdown",
      "metadata": {
        "id": "zmEAKeiCk4cA",
        "colab_type": "text"
      },
      "source": [
        "#### From above two features' graph we can see that majority of the people who had 0 Parch or Sibsp survived"
      ]
    },
    {
      "cell_type": "markdown",
      "metadata": {
        "id": "KMgCtXoQk4cA",
        "colab_type": "text"
      },
      "source": [
        "### Feature: Ticket\n",
        "\n",
        "Description: The ticket number of the boarding passenger."
      ]
    },
    {
      "cell_type": "code",
      "metadata": {
        "id": "kBoPqFT9k4cA",
        "colab_type": "code",
        "outputId": "0f85a34d-6544-41f3-d572-e6e6b9560452",
        "colab": {
          "base_uri": "https://localhost:8080/",
          "height": 35
        }
      },
      "source": [
        "# How many missing values does Ticket have?\n",
        "train.Ticket.isnull().sum()"
      ],
      "execution_count": 0,
      "outputs": [
        {
          "output_type": "execute_result",
          "data": {
            "text/plain": [
              "0"
            ]
          },
          "metadata": {
            "tags": []
          },
          "execution_count": 251
        }
      ]
    },
    {
      "cell_type": "code",
      "metadata": {
        "id": "TC63VTC0k4cB",
        "colab_type": "code",
        "outputId": "f6529fdb-b457-4685-9ea9-5570cdf1e364",
        "colab": {
          "base_uri": "https://localhost:8080/",
          "height": 355
        }
      },
      "source": [
        "# How many kinds of ticket are there?\n",
        "fig = plt.figure(figsize=(20,8))\n",
        "sns.countplot(x=\"Ticket\", data=train);"
      ],
      "execution_count": 0,
      "outputs": [
        {
          "output_type": "display_data",
          "data": {
            "image/png": "[encoded data removed]",
            "text/plain": [
              "<Figure size 1440x576 with 1 Axes>"
            ]
          },
          "metadata": {
            "tags": []
          }
        }
      ]
    },
    {
      "cell_type": "code",
      "metadata": {
        "id": "Xqt896c6k4cD",
        "colab_type": "code",
        "outputId": "f9e2a105-0929-438f-a43e-7c11e8aa2084",
        "colab": {
          "base_uri": "https://localhost:8080/",
          "height": 225
        }
      },
      "source": [
        "# How many kinds of ticket are there?\n",
        "train.Ticket.value_counts()"
      ],
      "execution_count": 0,
      "outputs": [
        {
          "output_type": "execute_result",
          "data": {
            "text/plain": [
              "347082      7\n",
              "CA. 2343    7\n",
              "1601        7\n",
              "347088      6\n",
              "3101295     6\n",
              "           ..\n",
              "234686      1\n",
              "C 7076      1\n",
              "370375      1\n",
              "19952       1\n",
              "13213       1\n",
              "Name: Ticket, Length: 681, dtype: int64"
            ]
          },
          "metadata": {
            "tags": []
          },
          "execution_count": 253
        }
      ]
    },
    {
      "cell_type": "code",
      "metadata": {
        "id": "A4jKhpNNk4cF",
        "colab_type": "code",
        "outputId": "218c273e-9ebd-4a08-f685-e0f60a92cfdd",
        "colab": {
          "base_uri": "https://localhost:8080/",
          "height": 35
        }
      },
      "source": [
        "# How many unique kinds of Ticket are there?\n",
        "train.Ticket.nunique()"
      ],
      "execution_count": 0,
      "outputs": [
        {
          "output_type": "execute_result",
          "data": {
            "text/plain": [
              "681"
            ]
          },
          "metadata": {
            "tags": []
          },
          "execution_count": 254
        }
      ]
    },
    {
      "cell_type": "markdown",
      "metadata": {
        "id": "HRhmSNQik4cH",
        "colab_type": "text"
      },
      "source": [
        "681 unique values is too many for now. So we won't use `Ticket` in our subset dataframes.\n",
        "\n",
        "There may be some way to reduce this down. "
      ]
    },
    {
      "cell_type": "markdown",
      "metadata": {
        "id": "xWLCX1Wpk4cH",
        "colab_type": "text"
      },
      "source": [
        "### Feature: Fare\n",
        "\n",
        "Description: How much the ticket cost."
      ]
    },
    {
      "cell_type": "code",
      "metadata": {
        "id": "CgHOdk86k4cH",
        "colab_type": "code",
        "outputId": "a628766f-20cd-410d-fb1e-7ade6db99fbf",
        "colab": {
          "base_uri": "https://localhost:8080/",
          "height": 35
        }
      },
      "source": [
        "# How many missing values does Fare have?\n",
        "train.Fare.isnull().sum()"
      ],
      "execution_count": 0,
      "outputs": [
        {
          "output_type": "execute_result",
          "data": {
            "text/plain": [
              "0"
            ]
          },
          "metadata": {
            "tags": []
          },
          "execution_count": 255
        }
      ]
    },
    {
      "cell_type": "code",
      "metadata": {
        "id": "O8-4NxOjk4cJ",
        "colab_type": "code",
        "outputId": "8140b11b-9b9c-4a63-93cc-7f4ea479fa64",
        "colab": {
          "base_uri": "https://localhost:8080/",
          "height": 381
        }
      },
      "source": [
        "# How many different values of Fare are there?\n",
        "fig = plt.figure(figsize=(20,8))\n",
        "sns.countplot(x=\"Fare\", data=train)"
      ],
      "execution_count": 0,
      "outputs": [
        {
          "output_type": "execute_result",
          "data": {
            "text/plain": [
              "<matplotlib.axes._subplots.AxesSubplot at 0x7f0665c73dd8>"
            ]
          },
          "metadata": {
            "tags": []
          },
          "execution_count": 256
        },
        {
          "output_type": "display_data",
          "data": {
            "image/png": "[encoded data removed]",
            "text/plain": [
              "<Figure size 1440x576 with 1 Axes>"
            ]
          },
          "metadata": {
            "tags": []
          }
        }
      ]
    },
    {
      "cell_type": "code",
      "metadata": {
        "id": "v3mTqiWtk4cK",
        "colab_type": "code",
        "outputId": "481966cd-d818-4c44-d890-bbc42ed4d146",
        "colab": {
          "base_uri": "https://localhost:8080/",
          "height": 225
        }
      },
      "source": [
        "# How many kinds of Fare are there?\n",
        "train.Fare.value_counts()"
      ],
      "execution_count": 0,
      "outputs": [
        {
          "output_type": "execute_result",
          "data": {
            "text/plain": [
              "8.0500     43\n",
              "13.0000    42\n",
              "7.8958     38\n",
              "7.7500     34\n",
              "26.0000    31\n",
              "           ..\n",
              "8.4583      1\n",
              "9.8375      1\n",
              "8.3625      1\n",
              "14.1083     1\n",
              "17.4000     1\n",
              "Name: Fare, Length: 248, dtype: int64"
            ]
          },
          "metadata": {
            "tags": []
          },
          "execution_count": 257
        }
      ]
    },
    {
      "cell_type": "code",
      "metadata": {
        "id": "i1IumWbnk4cM",
        "colab_type": "code",
        "outputId": "ad0f2318-c325-4505-a176-af12b8b6cccf",
        "colab": {
          "base_uri": "https://localhost:8080/",
          "height": 35
        }
      },
      "source": [
        "# How many unique kinds of Fare are there?\n",
        "train.Fare.nunique()"
      ],
      "execution_count": 0,
      "outputs": [
        {
          "output_type": "execute_result",
          "data": {
            "text/plain": [
              "248"
            ]
          },
          "metadata": {
            "tags": []
          },
          "execution_count": 258
        }
      ]
    },
    {
      "cell_type": "markdown",
      "metadata": {
        "id": "mf824pnTk4cN",
        "colab_type": "text"
      },
      "source": [
        "#### Because Fare is a float (number) let's add it as it is to our continuous sub dataframe but to add it to our categorical sub dataframe, we'll cut it into bins."
      ]
    },
    {
      "cell_type": "code",
      "metadata": {
        "id": "NGJ3bYknk4cN",
        "colab_type": "code",
        "colab": {}
      },
      "source": [
        "# Add Fare to sub dataframes\n",
        "df_con['Fare'] = train['Fare'] \n",
        "df_bin['Fare'] = pd.cut(train['Fare'], bins=5) # discretised "
      ],
      "execution_count": 0,
      "outputs": []
    },
    {
      "cell_type": "code",
      "metadata": {
        "id": "2zg-vLGvk4cP",
        "colab_type": "code",
        "outputId": "04fd3c3f-dcaf-4a58-a738-781e287612a3",
        "colab": {
          "base_uri": "https://localhost:8080/",
          "height": 121
        }
      },
      "source": [
        "# What do our Fare bins look like?\n",
        "df_bin.Fare.value_counts()"
      ],
      "execution_count": 0,
      "outputs": [
        {
          "output_type": "execute_result",
          "data": {
            "text/plain": [
              "(-0.512, 102.466]     838\n",
              "(102.466, 204.932]     33\n",
              "(204.932, 307.398]     17\n",
              "(409.863, 512.329]      3\n",
              "(307.398, 409.863]      0\n",
              "Name: Fare, dtype: int64"
            ]
          },
          "metadata": {
            "tags": []
          },
          "execution_count": 260
        }
      ]
    },
    {
      "cell_type": "code",
      "metadata": {
        "id": "FqKKp4Skk4cQ",
        "colab_type": "code",
        "outputId": "6768f739-1ffe-4008-8cd4-55f676566dc8",
        "colab": {
          "base_uri": "https://localhost:8080/",
          "height": 424
        }
      },
      "source": [
        "# Visualise the Fare bin counts as well as the Fare distribution versus Survived.\n",
        "plot_count_dist(data=train,\n",
        "                bin_df=df_bin,\n",
        "                label_column='Survived', \n",
        "                target_column='Fare', \n",
        "                figsize=(20,10), \n",
        "                use_bin_df=True)"
      ],
      "execution_count": 0,
      "outputs": [
        {
          "output_type": "display_data",
          "data": {
            "image/png": "[encoded data removed]",
            "text/plain": [
              "<Figure size 1440x720 with 2 Axes>"
            ]
          },
          "metadata": {
            "tags": []
          }
        }
      ]
    },
    {
      "cell_type": "markdown",
      "metadata": {
        "id": "dvVpXGysk4cR",
        "colab_type": "text"
      },
      "source": [
        "### Feature: Cabin\n",
        "\n",
        "Description: The cabin number where the passenger was staying.    "
      ]
    },
    {
      "cell_type": "code",
      "metadata": {
        "id": "xY1gvHHvk4cR",
        "colab_type": "code",
        "outputId": "fd4e2753-5771-45a8-b70e-889741b14c53",
        "colab": {
          "base_uri": "https://localhost:8080/",
          "height": 35
        }
      },
      "source": [
        "# How many missing values does Cabin have?\n",
        "train.Cabin.isnull().sum()"
      ],
      "execution_count": 0,
      "outputs": [
        {
          "output_type": "execute_result",
          "data": {
            "text/plain": [
              "687"
            ]
          },
          "metadata": {
            "tags": []
          },
          "execution_count": 262
        }
      ]
    },
    {
      "cell_type": "code",
      "metadata": {
        "id": "Bt9zVh4Yk4cT",
        "colab_type": "code",
        "outputId": "5e3af605-519b-4675-b9a2-d5a5f091d260",
        "colab": {
          "base_uri": "https://localhost:8080/",
          "height": 225
        }
      },
      "source": [
        "# What do the Cabin values look like?\n",
        "train.Cabin.value_counts()"
      ],
      "execution_count": 0,
      "outputs": [
        {
          "output_type": "execute_result",
          "data": {
            "text/plain": [
              "C23 C25 C27    4\n",
              "B96 B98        4\n",
              "G6             4\n",
              "D              3\n",
              "F33            3\n",
              "              ..\n",
              "D56            1\n",
              "E40            1\n",
              "C148           1\n",
              "B3             1\n",
              "C103           1\n",
              "Name: Cabin, Length: 147, dtype: int64"
            ]
          },
          "metadata": {
            "tags": []
          },
          "execution_count": 263
        }
      ]
    },
    {
      "cell_type": "markdown",
      "metadata": {
        "id": "zVNCsNi0k4cV",
        "colab_type": "text"
      },
      "source": [
        "#### Since there are too many missing values, we won't use Cabin for our initial models and won't add it to our sub dataframes.\n"
      ]
    },
    {
      "cell_type": "markdown",
      "metadata": {
        "id": "qGlf21MRk4cV",
        "colab_type": "text"
      },
      "source": [
        "### Feature: Embarked\n",
        "\n",
        "Description: The port where the passenger boarded the Titanic.\n",
        "    \n",
        "Key: C = Cherbourg, Q = Queenstown, S = Southampton"
      ]
    },
    {
      "cell_type": "code",
      "metadata": {
        "id": "tPsJdcxbk4cX",
        "colab_type": "code",
        "outputId": "7ac49ca8-9368-4bc3-e531-44a37ea19f4c",
        "colab": {
          "base_uri": "https://localhost:8080/",
          "height": 35
        }
      },
      "source": [
        "# How many missing values does Embarked have?\n",
        "train.Embarked.isnull().sum()"
      ],
      "execution_count": 0,
      "outputs": [
        {
          "output_type": "execute_result",
          "data": {
            "text/plain": [
              "2"
            ]
          },
          "metadata": {
            "tags": []
          },
          "execution_count": 264
        }
      ]
    },
    {
      "cell_type": "code",
      "metadata": {
        "id": "Pxjhv59xk4cY",
        "colab_type": "code",
        "outputId": "a1b3911e-daf3-4d30-d0fa-c667c9b6445b",
        "colab": {
          "base_uri": "https://localhost:8080/",
          "height": 87
        }
      },
      "source": [
        "# What kind of values are in Embarked?\n",
        "train.Embarked.value_counts()"
      ],
      "execution_count": 0,
      "outputs": [
        {
          "output_type": "execute_result",
          "data": {
            "text/plain": [
              "S    644\n",
              "C    168\n",
              "Q     77\n",
              "Name: Embarked, dtype: int64"
            ]
          },
          "metadata": {
            "tags": []
          },
          "execution_count": 265
        }
      ]
    },
    {
      "cell_type": "code",
      "metadata": {
        "id": "2tZzabyKk4cZ",
        "colab_type": "code",
        "outputId": "1c503d80-e09d-4408-a142-bef49129fbed",
        "colab": {
          "base_uri": "https://localhost:8080/",
          "height": 276
        }
      },
      "source": [
        "# What do the counts look like?\n",
        "sns.countplot(y='Embarked', data=train);"
      ],
      "execution_count": 0,
      "outputs": [
        {
          "output_type": "display_data",
          "data": {
            "image/png": "[encoded data removed]",
            "text/plain": [
              "<Figure size 432x288 with 1 Axes>"
            ]
          },
          "metadata": {
            "tags": []
          }
        }
      ]
    },
    {
      "cell_type": "code",
      "metadata": {
        "id": "rc7j_HpVk4ca",
        "colab_type": "code",
        "outputId": "cda13dfb-4294-4120-acf9-3e717128a883",
        "colab": {
          "base_uri": "https://localhost:8080/",
          "height": 145
        }
      },
      "source": [
        "train[train.Embarked.isnull()]"
      ],
      "execution_count": 0,
      "outputs": [
        {
          "output_type": "execute_result",
          "data": {
            "text/html": [
              "<div>\n",
              "<style scoped>\n",
              "    .dataframe tbody tr th:only-of-type {\n",
              "        vertical-align: middle;\n",
              "    }\n",
              "\n",
              "    .dataframe tbody tr th {\n",
              "        vertical-align: top;\n",
              "    }\n",
              "\n",
              "    .dataframe thead th {\n",
              "        text-align: right;\n",
              "    }\n",
              "</style>\n",
              "<table border=\"1\" class=\"dataframe\">\n",
              "  <thead>\n",
              "    <tr style=\"text-align: right;\">\n",
              "      <th></th>\n",
              "      <th>PassengerId</th>\n",
              "      <th>Survived</th>\n",
              "      <th>Pclass</th>\n",
              "      <th>Name</th>\n",
              "      <th>Sex</th>\n",
              "      <th>Age</th>\n",
              "      <th>SibSp</th>\n",
              "      <th>Parch</th>\n",
              "      <th>Ticket</th>\n",
              "      <th>Fare</th>\n",
              "      <th>Cabin</th>\n",
              "      <th>Embarked</th>\n",
              "    </tr>\n",
              "  </thead>\n",
              "  <tbody>\n",
              "    <tr>\n",
              "      <th>61</th>\n",
              "      <td>62</td>\n",
              "      <td>1</td>\n",
              "      <td>1</td>\n",
              "      <td>Icard, Miss. Amelie</td>\n",
              "      <td>female</td>\n",
              "      <td>38.0</td>\n",
              "      <td>0</td>\n",
              "      <td>0</td>\n",
              "      <td>113572</td>\n",
              "      <td>80.0</td>\n",
              "      <td>B28</td>\n",
              "      <td>NaN</td>\n",
              "    </tr>\n",
              "    <tr>\n",
              "      <th>829</th>\n",
              "      <td>830</td>\n",
              "      <td>1</td>\n",
              "      <td>1</td>\n",
              "      <td>Stone, Mrs. George Nelson (Martha Evelyn)</td>\n",
              "      <td>female</td>\n",
              "      <td>62.0</td>\n",
              "      <td>0</td>\n",
              "      <td>0</td>\n",
              "      <td>113572</td>\n",
              "      <td>80.0</td>\n",
              "      <td>B28</td>\n",
              "      <td>NaN</td>\n",
              "    </tr>\n",
              "  </tbody>\n",
              "</table>\n",
              "</div>"
            ],
            "text/plain": [
              "     PassengerId  Survived  Pclass  ...  Fare Cabin  Embarked\n",
              "61            62         1       1  ...  80.0   B28       NaN\n",
              "829          830         1       1  ...  80.0   B28       NaN\n",
              "\n",
              "[2 rows x 12 columns]"
            ]
          },
          "metadata": {
            "tags": []
          },
          "execution_count": 267
        }
      ]
    },
    {
      "cell_type": "code",
      "metadata": {
        "id": "mkTlx3M8k4cc",
        "colab_type": "code",
        "colab": {}
      },
      "source": [
        ""
      ],
      "execution_count": 0,
      "outputs": []
    },
    {
      "cell_type": "code",
      "metadata": {
        "id": "LqC7K3Wqk4cd",
        "colab_type": "code",
        "outputId": "0869e4a9-923b-49af-c646-5e6cf9530204",
        "colab": {
          "base_uri": "https://localhost:8080/",
          "height": 35
        }
      },
      "source": [
        "train[(train.Embarked=='S')&(train.Survived==1)].shape"
      ],
      "execution_count": 0,
      "outputs": [
        {
          "output_type": "execute_result",
          "data": {
            "text/plain": [
              "(217, 12)"
            ]
          },
          "metadata": {
            "tags": []
          },
          "execution_count": 268
        }
      ]
    },
    {
      "cell_type": "code",
      "metadata": {
        "id": "Ld_um7r5k4ce",
        "colab_type": "code",
        "outputId": "54363c7b-81f0-47d6-fc19-389205d764c7",
        "colab": {
          "base_uri": "https://localhost:8080/",
          "height": 35
        }
      },
      "source": [
        "train[(train.Embarked=='S')&(train.Survived==0)].shape"
      ],
      "execution_count": 0,
      "outputs": [
        {
          "output_type": "execute_result",
          "data": {
            "text/plain": [
              "(427, 12)"
            ]
          },
          "metadata": {
            "tags": []
          },
          "execution_count": 269
        }
      ]
    },
    {
      "cell_type": "code",
      "metadata": {
        "id": "zlzsklLrk4cg",
        "colab_type": "code",
        "outputId": "ef2eab99-715a-42f1-8be6-5eb7ae93edab",
        "colab": {
          "base_uri": "https://localhost:8080/",
          "height": 35
        }
      },
      "source": [
        "train[(train.Embarked=='C')&(train.Survived==1)].shape"
      ],
      "execution_count": 0,
      "outputs": [
        {
          "output_type": "execute_result",
          "data": {
            "text/plain": [
              "(93, 12)"
            ]
          },
          "metadata": {
            "tags": []
          },
          "execution_count": 270
        }
      ]
    },
    {
      "cell_type": "code",
      "metadata": {
        "id": "zJd2tLRnk4ch",
        "colab_type": "code",
        "outputId": "42fe8ab9-d0d5-4144-e46a-f5072533b83a",
        "colab": {
          "base_uri": "https://localhost:8080/",
          "height": 35
        }
      },
      "source": [
        "train[(train.Embarked=='C')&(train.Survived==0)].shape"
      ],
      "execution_count": 0,
      "outputs": [
        {
          "output_type": "execute_result",
          "data": {
            "text/plain": [
              "(75, 12)"
            ]
          },
          "metadata": {
            "tags": []
          },
          "execution_count": 271
        }
      ]
    },
    {
      "cell_type": "code",
      "metadata": {
        "id": "7QWLddYXk4ci",
        "colab_type": "code",
        "outputId": "9dbb7315-2b12-4f14-c60a-c4dda8146f07",
        "colab": {
          "base_uri": "https://localhost:8080/",
          "height": 35
        }
      },
      "source": [
        "train[(train.Embarked=='Q')&(train.Survived==1)].shape"
      ],
      "execution_count": 0,
      "outputs": [
        {
          "output_type": "execute_result",
          "data": {
            "text/plain": [
              "(30, 12)"
            ]
          },
          "metadata": {
            "tags": []
          },
          "execution_count": 272
        }
      ]
    },
    {
      "cell_type": "code",
      "metadata": {
        "id": "JEh3udQPk4cj",
        "colab_type": "code",
        "outputId": "af45c737-7ae6-4d6a-f9d4-4bcfb10d2416",
        "colab": {
          "base_uri": "https://localhost:8080/",
          "height": 35
        }
      },
      "source": [
        "train[(train.Embarked=='Q')&(train.Survived==0)].shape"
      ],
      "execution_count": 0,
      "outputs": [
        {
          "output_type": "execute_result",
          "data": {
            "text/plain": [
              "(47, 12)"
            ]
          },
          "metadata": {
            "tags": []
          },
          "execution_count": 273
        }
      ]
    },
    {
      "cell_type": "code",
      "metadata": {
        "id": "DY2D2Erek4ck",
        "colab_type": "code",
        "colab": {}
      },
      "source": [
        "# Add Parch to subset dataframes\n",
        "df_bin['Embarked'] = train['Embarked']\n",
        "df_con['Embarked'] = train['Embarked']"
      ],
      "execution_count": 0,
      "outputs": []
    },
    {
      "cell_type": "code",
      "metadata": {
        "id": "7ymHGk1-k4cl",
        "colab_type": "code",
        "outputId": "323a8284-8ab0-45d3-82d0-e9f8e4b0f5e5",
        "colab": {
          "base_uri": "https://localhost:8080/",
          "height": 52
        }
      },
      "source": [
        "# Remove Embarked rows which are missing values\n",
        "print(len(df_con))\n",
        "df_con = df_con.dropna(subset=['Embarked'])\n",
        "df_bin = df_bin.dropna(subset=['Embarked'])\n",
        "print(len(df_con))"
      ],
      "execution_count": 0,
      "outputs": [
        {
          "output_type": "stream",
          "text": [
            "891\n",
            "889\n"
          ],
          "name": "stdout"
        }
      ]
    },
    {
      "cell_type": "markdown",
      "metadata": {
        "id": "anSbjEgjk4co",
        "colab_type": "text"
      },
      "source": [
        "## Feature Encoding\n",
        "Now we have our two sub dataframes ready. We can encode the features so they're ready to be used with our machine learning models.\n",
        "\n",
        "We will encode our binned dataframe (`df_bin`) with one-hot encoding and our continuous dataframe (`df_con`) also with one-hot encoding ."
      ]
    },
    {
      "cell_type": "code",
      "metadata": {
        "id": "ebT8Npmnk4cp",
        "colab_type": "code",
        "outputId": "17a70089-6311-4d02-b4a1-f9655220dd27",
        "colab": {
          "base_uri": "https://localhost:8080/",
          "height": 202
        }
      },
      "source": [
        "df_bin.head()"
      ],
      "execution_count": 0,
      "outputs": [
        {
          "output_type": "execute_result",
          "data": {
            "text/html": [
              "<div>\n",
              "<style scoped>\n",
              "    .dataframe tbody tr th:only-of-type {\n",
              "        vertical-align: middle;\n",
              "    }\n",
              "\n",
              "    .dataframe tbody tr th {\n",
              "        vertical-align: top;\n",
              "    }\n",
              "\n",
              "    .dataframe thead th {\n",
              "        text-align: right;\n",
              "    }\n",
              "</style>\n",
              "<table border=\"1\" class=\"dataframe\">\n",
              "  <thead>\n",
              "    <tr style=\"text-align: right;\">\n",
              "      <th></th>\n",
              "      <th>Survived</th>\n",
              "      <th>Pclass</th>\n",
              "      <th>Titles</th>\n",
              "      <th>Sex</th>\n",
              "      <th>Dis_age</th>\n",
              "      <th>SibSp</th>\n",
              "      <th>Parch</th>\n",
              "      <th>Fare</th>\n",
              "      <th>Embarked</th>\n",
              "    </tr>\n",
              "  </thead>\n",
              "  <tbody>\n",
              "    <tr>\n",
              "      <th>0</th>\n",
              "      <td>0</td>\n",
              "      <td>3</td>\n",
              "      <td>Mr.</td>\n",
              "      <td>0</td>\n",
              "      <td>2</td>\n",
              "      <td>1</td>\n",
              "      <td>0</td>\n",
              "      <td>(-0.512, 102.466]</td>\n",
              "      <td>S</td>\n",
              "    </tr>\n",
              "    <tr>\n",
              "      <th>1</th>\n",
              "      <td>1</td>\n",
              "      <td>1</td>\n",
              "      <td>Mrs.</td>\n",
              "      <td>1</td>\n",
              "      <td>2</td>\n",
              "      <td>1</td>\n",
              "      <td>0</td>\n",
              "      <td>(-0.512, 102.466]</td>\n",
              "      <td>C</td>\n",
              "    </tr>\n",
              "    <tr>\n",
              "      <th>2</th>\n",
              "      <td>1</td>\n",
              "      <td>3</td>\n",
              "      <td>Miss.</td>\n",
              "      <td>1</td>\n",
              "      <td>2</td>\n",
              "      <td>0</td>\n",
              "      <td>0</td>\n",
              "      <td>(-0.512, 102.466]</td>\n",
              "      <td>S</td>\n",
              "    </tr>\n",
              "    <tr>\n",
              "      <th>3</th>\n",
              "      <td>1</td>\n",
              "      <td>1</td>\n",
              "      <td>Mrs.</td>\n",
              "      <td>1</td>\n",
              "      <td>2</td>\n",
              "      <td>1</td>\n",
              "      <td>0</td>\n",
              "      <td>(-0.512, 102.466]</td>\n",
              "      <td>S</td>\n",
              "    </tr>\n",
              "    <tr>\n",
              "      <th>4</th>\n",
              "      <td>0</td>\n",
              "      <td>3</td>\n",
              "      <td>Mr.</td>\n",
              "      <td>0</td>\n",
              "      <td>2</td>\n",
              "      <td>0</td>\n",
              "      <td>0</td>\n",
              "      <td>(-0.512, 102.466]</td>\n",
              "      <td>S</td>\n",
              "    </tr>\n",
              "  </tbody>\n",
              "</table>\n",
              "</div>"
            ],
            "text/plain": [
              "   Survived  Pclass Titles  Sex  ...  SibSp  Parch               Fare Embarked\n",
              "0         0       3    Mr.    0  ...      1      0  (-0.512, 102.466]        S\n",
              "1         1       1   Mrs.    1  ...      1      0  (-0.512, 102.466]        C\n",
              "2         1       3  Miss.    1  ...      0      0  (-0.512, 102.466]        S\n",
              "3         1       1   Mrs.    1  ...      1      0  (-0.512, 102.466]        S\n",
              "4         0       3    Mr.    0  ...      0      0  (-0.512, 102.466]        S\n",
              "\n",
              "[5 rows x 9 columns]"
            ]
          },
          "metadata": {
            "tags": []
          },
          "execution_count": 276
        }
      ]
    },
    {
      "cell_type": "code",
      "metadata": {
        "id": "OJ0Jy23zk4cq",
        "colab_type": "code",
        "outputId": "1985af0c-094b-4d92-8ee5-971393695a53",
        "colab": {
          "base_uri": "https://localhost:8080/",
          "height": 239
        }
      },
      "source": [
        "# One-hot encode binned variables\n",
        "one_hot_cols = df_bin.columns.tolist()\n",
        "one_hot_cols.remove('Survived')\n",
        "df_bin_enc = pd.get_dummies(df_bin, columns=one_hot_cols)\n",
        "\n",
        "df_bin_enc.head()"
      ],
      "execution_count": 0,
      "outputs": [
        {
          "output_type": "execute_result",
          "data": {
            "text/html": [
              "<div>\n",
              "<style scoped>\n",
              "    .dataframe tbody tr th:only-of-type {\n",
              "        vertical-align: middle;\n",
              "    }\n",
              "\n",
              "    .dataframe tbody tr th {\n",
              "        vertical-align: top;\n",
              "    }\n",
              "\n",
              "    .dataframe thead th {\n",
              "        text-align: right;\n",
              "    }\n",
              "</style>\n",
              "<table border=\"1\" class=\"dataframe\">\n",
              "  <thead>\n",
              "    <tr style=\"text-align: right;\">\n",
              "      <th></th>\n",
              "      <th>Survived</th>\n",
              "      <th>Pclass_1</th>\n",
              "      <th>Pclass_2</th>\n",
              "      <th>Pclass_3</th>\n",
              "      <th>Titles_Master.</th>\n",
              "      <th>Titles_Miss.</th>\n",
              "      <th>Titles_Mr.</th>\n",
              "      <th>Titles_Mrs.</th>\n",
              "      <th>Titles_Others.</th>\n",
              "      <th>Sex_0</th>\n",
              "      <th>Sex_1</th>\n",
              "      <th>Dis_age_1</th>\n",
              "      <th>Dis_age_2</th>\n",
              "      <th>Dis_age_3</th>\n",
              "      <th>SibSp_0</th>\n",
              "      <th>SibSp_1</th>\n",
              "      <th>SibSp_2</th>\n",
              "      <th>SibSp_3</th>\n",
              "      <th>SibSp_4</th>\n",
              "      <th>SibSp_5</th>\n",
              "      <th>SibSp_8</th>\n",
              "      <th>Parch_0</th>\n",
              "      <th>Parch_1</th>\n",
              "      <th>Parch_2</th>\n",
              "      <th>Parch_3</th>\n",
              "      <th>Parch_4</th>\n",
              "      <th>Parch_5</th>\n",
              "      <th>Parch_6</th>\n",
              "      <th>Fare_(-0.512, 102.466]</th>\n",
              "      <th>Fare_(102.466, 204.932]</th>\n",
              "      <th>Fare_(204.932, 307.398]</th>\n",
              "      <th>Fare_(307.398, 409.863]</th>\n",
              "      <th>Fare_(409.863, 512.329]</th>\n",
              "      <th>Embarked_C</th>\n",
              "      <th>Embarked_Q</th>\n",
              "      <th>Embarked_S</th>\n",
              "    </tr>\n",
              "  </thead>\n",
              "  <tbody>\n",
              "    <tr>\n",
              "      <th>0</th>\n",
              "      <td>0</td>\n",
              "      <td>0</td>\n",
              "      <td>0</td>\n",
              "      <td>1</td>\n",
              "      <td>0</td>\n",
              "      <td>0</td>\n",
              "      <td>1</td>\n",
              "      <td>0</td>\n",
              "      <td>0</td>\n",
              "      <td>1</td>\n",
              "      <td>0</td>\n",
              "      <td>0</td>\n",
              "      <td>1</td>\n",
              "      <td>0</td>\n",
              "      <td>0</td>\n",
              "      <td>1</td>\n",
              "      <td>0</td>\n",
              "      <td>0</td>\n",
              "      <td>0</td>\n",
              "      <td>0</td>\n",
              "      <td>0</td>\n",
              "      <td>1</td>\n",
              "      <td>0</td>\n",
              "      <td>0</td>\n",
              "      <td>0</td>\n",
              "      <td>0</td>\n",
              "      <td>0</td>\n",
              "      <td>0</td>\n",
              "      <td>1</td>\n",
              "      <td>0</td>\n",
              "      <td>0</td>\n",
              "      <td>0</td>\n",
              "      <td>0</td>\n",
              "      <td>0</td>\n",
              "      <td>0</td>\n",
              "      <td>1</td>\n",
              "    </tr>\n",
              "    <tr>\n",
              "      <th>1</th>\n",
              "      <td>1</td>\n",
              "      <td>1</td>\n",
              "      <td>0</td>\n",
              "      <td>0</td>\n",
              "      <td>0</td>\n",
              "      <td>0</td>\n",
              "      <td>0</td>\n",
              "      <td>1</td>\n",
              "      <td>0</td>\n",
              "      <td>0</td>\n",
              "      <td>1</td>\n",
              "      <td>0</td>\n",
              "      <td>1</td>\n",
              "      <td>0</td>\n",
              "      <td>0</td>\n",
              "      <td>1</td>\n",
              "      <td>0</td>\n",
              "      <td>0</td>\n",
              "      <td>0</td>\n",
              "      <td>0</td>\n",
              "      <td>0</td>\n",
              "      <td>1</td>\n",
              "      <td>0</td>\n",
              "      <td>0</td>\n",
              "      <td>0</td>\n",
              "      <td>0</td>\n",
              "      <td>0</td>\n",
              "      <td>0</td>\n",
              "      <td>1</td>\n",
              "      <td>0</td>\n",
              "      <td>0</td>\n",
              "      <td>0</td>\n",
              "      <td>0</td>\n",
              "      <td>1</td>\n",
              "      <td>0</td>\n",
              "      <td>0</td>\n",
              "    </tr>\n",
              "    <tr>\n",
              "      <th>2</th>\n",
              "      <td>1</td>\n",
              "      <td>0</td>\n",
              "      <td>0</td>\n",
              "      <td>1</td>\n",
              "      <td>0</td>\n",
              "      <td>1</td>\n",
              "      <td>0</td>\n",
              "      <td>0</td>\n",
              "      <td>0</td>\n",
              "      <td>0</td>\n",
              "      <td>1</td>\n",
              "      <td>0</td>\n",
              "      <td>1</td>\n",
              "      <td>0</td>\n",
              "      <td>1</td>\n",
              "      <td>0</td>\n",
              "      <td>0</td>\n",
              "      <td>0</td>\n",
              "      <td>0</td>\n",
              "      <td>0</td>\n",
              "      <td>0</td>\n",
              "      <td>1</td>\n",
              "      <td>0</td>\n",
              "      <td>0</td>\n",
              "      <td>0</td>\n",
              "      <td>0</td>\n",
              "      <td>0</td>\n",
              "      <td>0</td>\n",
              "      <td>1</td>\n",
              "      <td>0</td>\n",
              "      <td>0</td>\n",
              "      <td>0</td>\n",
              "      <td>0</td>\n",
              "      <td>0</td>\n",
              "      <td>0</td>\n",
              "      <td>1</td>\n",
              "    </tr>\n",
              "    <tr>\n",
              "      <th>3</th>\n",
              "      <td>1</td>\n",
              "      <td>1</td>\n",
              "      <td>0</td>\n",
              "      <td>0</td>\n",
              "      <td>0</td>\n",
              "      <td>0</td>\n",
              "      <td>0</td>\n",
              "      <td>1</td>\n",
              "      <td>0</td>\n",
              "      <td>0</td>\n",
              "      <td>1</td>\n",
              "      <td>0</td>\n",
              "      <td>1</td>\n",
              "      <td>0</td>\n",
              "      <td>0</td>\n",
              "      <td>1</td>\n",
              "      <td>0</td>\n",
              "      <td>0</td>\n",
              "      <td>0</td>\n",
              "      <td>0</td>\n",
              "      <td>0</td>\n",
              "      <td>1</td>\n",
              "      <td>0</td>\n",
              "      <td>0</td>\n",
              "      <td>0</td>\n",
              "      <td>0</td>\n",
              "      <td>0</td>\n",
              "      <td>0</td>\n",
              "      <td>1</td>\n",
              "      <td>0</td>\n",
              "      <td>0</td>\n",
              "      <td>0</td>\n",
              "      <td>0</td>\n",
              "      <td>0</td>\n",
              "      <td>0</td>\n",
              "      <td>1</td>\n",
              "    </tr>\n",
              "    <tr>\n",
              "      <th>4</th>\n",
              "      <td>0</td>\n",
              "      <td>0</td>\n",
              "      <td>0</td>\n",
              "      <td>1</td>\n",
              "      <td>0</td>\n",
              "      <td>0</td>\n",
              "      <td>1</td>\n",
              "      <td>0</td>\n",
              "      <td>0</td>\n",
              "      <td>1</td>\n",
              "      <td>0</td>\n",
              "      <td>0</td>\n",
              "      <td>1</td>\n",
              "      <td>0</td>\n",
              "      <td>1</td>\n",
              "      <td>0</td>\n",
              "      <td>0</td>\n",
              "      <td>0</td>\n",
              "      <td>0</td>\n",
              "      <td>0</td>\n",
              "      <td>0</td>\n",
              "      <td>1</td>\n",
              "      <td>0</td>\n",
              "      <td>0</td>\n",
              "      <td>0</td>\n",
              "      <td>0</td>\n",
              "      <td>0</td>\n",
              "      <td>0</td>\n",
              "      <td>1</td>\n",
              "      <td>0</td>\n",
              "      <td>0</td>\n",
              "      <td>0</td>\n",
              "      <td>0</td>\n",
              "      <td>0</td>\n",
              "      <td>0</td>\n",
              "      <td>1</td>\n",
              "    </tr>\n",
              "  </tbody>\n",
              "</table>\n",
              "</div>"
            ],
            "text/plain": [
              "   Survived  Pclass_1  Pclass_2  ...  Embarked_C  Embarked_Q  Embarked_S\n",
              "0         0         0         0  ...           0           0           1\n",
              "1         1         1         0  ...           1           0           0\n",
              "2         1         0         0  ...           0           0           1\n",
              "3         1         1         0  ...           0           0           1\n",
              "4         0         0         0  ...           0           0           1\n",
              "\n",
              "[5 rows x 36 columns]"
            ]
          },
          "metadata": {
            "tags": []
          },
          "execution_count": 277
        }
      ]
    },
    {
      "cell_type": "code",
      "metadata": {
        "id": "ulGhKSA4k4ct",
        "colab_type": "code",
        "outputId": "437f4e4a-ae35-4bc8-c136-5bf5c4b80607",
        "colab": {
          "base_uri": "https://localhost:8080/",
          "height": 202
        }
      },
      "source": [
        "df_con.head()"
      ],
      "execution_count": 0,
      "outputs": [
        {
          "output_type": "execute_result",
          "data": {
            "text/html": [
              "<div>\n",
              "<style scoped>\n",
              "    .dataframe tbody tr th:only-of-type {\n",
              "        vertical-align: middle;\n",
              "    }\n",
              "\n",
              "    .dataframe tbody tr th {\n",
              "        vertical-align: top;\n",
              "    }\n",
              "\n",
              "    .dataframe thead th {\n",
              "        text-align: right;\n",
              "    }\n",
              "</style>\n",
              "<table border=\"1\" class=\"dataframe\">\n",
              "  <thead>\n",
              "    <tr style=\"text-align: right;\">\n",
              "      <th></th>\n",
              "      <th>Survived</th>\n",
              "      <th>Pclass</th>\n",
              "      <th>Titles</th>\n",
              "      <th>Sex</th>\n",
              "      <th>Dis_age</th>\n",
              "      <th>SibSp</th>\n",
              "      <th>Parch</th>\n",
              "      <th>Fare</th>\n",
              "      <th>Embarked</th>\n",
              "    </tr>\n",
              "  </thead>\n",
              "  <tbody>\n",
              "    <tr>\n",
              "      <th>0</th>\n",
              "      <td>0</td>\n",
              "      <td>3</td>\n",
              "      <td>Mr.</td>\n",
              "      <td>male</td>\n",
              "      <td>2</td>\n",
              "      <td>1</td>\n",
              "      <td>0</td>\n",
              "      <td>7.2500</td>\n",
              "      <td>S</td>\n",
              "    </tr>\n",
              "    <tr>\n",
              "      <th>1</th>\n",
              "      <td>1</td>\n",
              "      <td>1</td>\n",
              "      <td>Mrs.</td>\n",
              "      <td>female</td>\n",
              "      <td>2</td>\n",
              "      <td>1</td>\n",
              "      <td>0</td>\n",
              "      <td>71.2833</td>\n",
              "      <td>C</td>\n",
              "    </tr>\n",
              "    <tr>\n",
              "      <th>2</th>\n",
              "      <td>1</td>\n",
              "      <td>3</td>\n",
              "      <td>Miss.</td>\n",
              "      <td>female</td>\n",
              "      <td>2</td>\n",
              "      <td>0</td>\n",
              "      <td>0</td>\n",
              "      <td>7.9250</td>\n",
              "      <td>S</td>\n",
              "    </tr>\n",
              "    <tr>\n",
              "      <th>3</th>\n",
              "      <td>1</td>\n",
              "      <td>1</td>\n",
              "      <td>Mrs.</td>\n",
              "      <td>female</td>\n",
              "      <td>2</td>\n",
              "      <td>1</td>\n",
              "      <td>0</td>\n",
              "      <td>53.1000</td>\n",
              "      <td>S</td>\n",
              "    </tr>\n",
              "    <tr>\n",
              "      <th>4</th>\n",
              "      <td>0</td>\n",
              "      <td>3</td>\n",
              "      <td>Mr.</td>\n",
              "      <td>male</td>\n",
              "      <td>2</td>\n",
              "      <td>0</td>\n",
              "      <td>0</td>\n",
              "      <td>8.0500</td>\n",
              "      <td>S</td>\n",
              "    </tr>\n",
              "  </tbody>\n",
              "</table>\n",
              "</div>"
            ],
            "text/plain": [
              "   Survived  Pclass Titles     Sex  Dis_age  SibSp  Parch     Fare Embarked\n",
              "0         0       3    Mr.    male        2      1      0   7.2500        S\n",
              "1         1       1   Mrs.  female        2      1      0  71.2833        C\n",
              "2         1       3  Miss.  female        2      0      0   7.9250        S\n",
              "3         1       1   Mrs.  female        2      1      0  53.1000        S\n",
              "4         0       3    Mr.    male        2      0      0   8.0500        S"
            ]
          },
          "metadata": {
            "tags": []
          },
          "execution_count": 278
        }
      ]
    },
    {
      "cell_type": "code",
      "metadata": {
        "id": "6VFRtYyxk4cu",
        "colab_type": "code",
        "colab": {}
      },
      "source": [
        "# One hot encode the categorical columns\n",
        "df_pclass_one_hot = pd.get_dummies(df_con['Pclass'], \n",
        "                                   prefix='pclass')\n",
        "\n",
        "df_titles_one_hot = pd.get_dummies(df_con['Titles'], \n",
        "                                   prefix='titles')\n",
        "\n",
        "df_sex_one_hot = pd.get_dummies(df_con['Sex'], \n",
        "                                prefix='sex')\n",
        "\n",
        "df_age_one_hot = pd.get_dummies(df_con['Dis_age'], \n",
        "                                prefix='age')\n",
        "\n",
        "df_embarked_one_hot = pd.get_dummies(df_con['Embarked'], \n",
        "                                     prefix='embarked')"
      ],
      "execution_count": 0,
      "outputs": []
    },
    {
      "cell_type": "code",
      "metadata": {
        "id": "XVt8ISVdk4cv",
        "colab_type": "code",
        "colab": {}
      },
      "source": [
        "df_con_enc = pd.concat([df_con, \n",
        "                        df_pclass_one_hot,\n",
        "                        df_titles_one_hot,\n",
        "                        df_sex_one_hot,\n",
        "                        df_age_one_hot,\n",
        "                        df_embarked_one_hot \n",
        "                        ], axis=1)\n",
        "\n",
        "# Drop the original categorical columns (because now they've been one hot encoded)\n",
        "df_con_enc = df_con_enc.drop(['Pclass','Titles', 'Sex', 'Dis_age','Embarked'], axis=1)"
      ],
      "execution_count": 0,
      "outputs": []
    },
    {
      "cell_type": "code",
      "metadata": {
        "id": "pGrV2D3qk4cw",
        "colab_type": "code",
        "outputId": "ffc47918-6d03-4c36-c357-cb06ea38ae4f",
        "colab": {
          "base_uri": "https://localhost:8080/",
          "height": 222
        }
      },
      "source": [
        "# Let's look at df_con_enc\n",
        "df_con_enc.head()"
      ],
      "execution_count": 0,
      "outputs": [
        {
          "output_type": "execute_result",
          "data": {
            "text/html": [
              "<div>\n",
              "<style scoped>\n",
              "    .dataframe tbody tr th:only-of-type {\n",
              "        vertical-align: middle;\n",
              "    }\n",
              "\n",
              "    .dataframe tbody tr th {\n",
              "        vertical-align: top;\n",
              "    }\n",
              "\n",
              "    .dataframe thead th {\n",
              "        text-align: right;\n",
              "    }\n",
              "</style>\n",
              "<table border=\"1\" class=\"dataframe\">\n",
              "  <thead>\n",
              "    <tr style=\"text-align: right;\">\n",
              "      <th></th>\n",
              "      <th>Survived</th>\n",
              "      <th>SibSp</th>\n",
              "      <th>Parch</th>\n",
              "      <th>Fare</th>\n",
              "      <th>pclass_1</th>\n",
              "      <th>pclass_2</th>\n",
              "      <th>pclass_3</th>\n",
              "      <th>titles_Master.</th>\n",
              "      <th>titles_Miss.</th>\n",
              "      <th>titles_Mr.</th>\n",
              "      <th>titles_Mrs.</th>\n",
              "      <th>titles_Others.</th>\n",
              "      <th>sex_female</th>\n",
              "      <th>sex_male</th>\n",
              "      <th>age_1</th>\n",
              "      <th>age_2</th>\n",
              "      <th>age_3</th>\n",
              "      <th>embarked_C</th>\n",
              "      <th>embarked_Q</th>\n",
              "      <th>embarked_S</th>\n",
              "    </tr>\n",
              "  </thead>\n",
              "  <tbody>\n",
              "    <tr>\n",
              "      <th>0</th>\n",
              "      <td>0</td>\n",
              "      <td>1</td>\n",
              "      <td>0</td>\n",
              "      <td>7.2500</td>\n",
              "      <td>0</td>\n",
              "      <td>0</td>\n",
              "      <td>1</td>\n",
              "      <td>0</td>\n",
              "      <td>0</td>\n",
              "      <td>1</td>\n",
              "      <td>0</td>\n",
              "      <td>0</td>\n",
              "      <td>0</td>\n",
              "      <td>1</td>\n",
              "      <td>0</td>\n",
              "      <td>1</td>\n",
              "      <td>0</td>\n",
              "      <td>0</td>\n",
              "      <td>0</td>\n",
              "      <td>1</td>\n",
              "    </tr>\n",
              "    <tr>\n",
              "      <th>1</th>\n",
              "      <td>1</td>\n",
              "      <td>1</td>\n",
              "      <td>0</td>\n",
              "      <td>71.2833</td>\n",
              "      <td>1</td>\n",
              "      <td>0</td>\n",
              "      <td>0</td>\n",
              "      <td>0</td>\n",
              "      <td>0</td>\n",
              "      <td>0</td>\n",
              "      <td>1</td>\n",
              "      <td>0</td>\n",
              "      <td>1</td>\n",
              "      <td>0</td>\n",
              "      <td>0</td>\n",
              "      <td>1</td>\n",
              "      <td>0</td>\n",
              "      <td>1</td>\n",
              "      <td>0</td>\n",
              "      <td>0</td>\n",
              "    </tr>\n",
              "    <tr>\n",
              "      <th>2</th>\n",
              "      <td>1</td>\n",
              "      <td>0</td>\n",
              "      <td>0</td>\n",
              "      <td>7.9250</td>\n",
              "      <td>0</td>\n",
              "      <td>0</td>\n",
              "      <td>1</td>\n",
              "      <td>0</td>\n",
              "      <td>1</td>\n",
              "      <td>0</td>\n",
              "      <td>0</td>\n",
              "      <td>0</td>\n",
              "      <td>1</td>\n",
              "      <td>0</td>\n",
              "      <td>0</td>\n",
              "      <td>1</td>\n",
              "      <td>0</td>\n",
              "      <td>0</td>\n",
              "      <td>0</td>\n",
              "      <td>1</td>\n",
              "    </tr>\n",
              "    <tr>\n",
              "      <th>3</th>\n",
              "      <td>1</td>\n",
              "      <td>1</td>\n",
              "      <td>0</td>\n",
              "      <td>53.1000</td>\n",
              "      <td>1</td>\n",
              "      <td>0</td>\n",
              "      <td>0</td>\n",
              "      <td>0</td>\n",
              "      <td>0</td>\n",
              "      <td>0</td>\n",
              "      <td>1</td>\n",
              "      <td>0</td>\n",
              "      <td>1</td>\n",
              "      <td>0</td>\n",
              "      <td>0</td>\n",
              "      <td>1</td>\n",
              "      <td>0</td>\n",
              "      <td>0</td>\n",
              "      <td>0</td>\n",
              "      <td>1</td>\n",
              "    </tr>\n",
              "    <tr>\n",
              "      <th>4</th>\n",
              "      <td>0</td>\n",
              "      <td>0</td>\n",
              "      <td>0</td>\n",
              "      <td>8.0500</td>\n",
              "      <td>0</td>\n",
              "      <td>0</td>\n",
              "      <td>1</td>\n",
              "      <td>0</td>\n",
              "      <td>0</td>\n",
              "      <td>1</td>\n",
              "      <td>0</td>\n",
              "      <td>0</td>\n",
              "      <td>0</td>\n",
              "      <td>1</td>\n",
              "      <td>0</td>\n",
              "      <td>1</td>\n",
              "      <td>0</td>\n",
              "      <td>0</td>\n",
              "      <td>0</td>\n",
              "      <td>1</td>\n",
              "    </tr>\n",
              "  </tbody>\n",
              "</table>\n",
              "</div>"
            ],
            "text/plain": [
              "   Survived  SibSp  Parch     Fare  ...  age_3  embarked_C  embarked_Q  embarked_S\n",
              "0         0      1      0   7.2500  ...      0           0           0           1\n",
              "1         1      1      0  71.2833  ...      0           1           0           0\n",
              "2         1      0      0   7.9250  ...      0           0           0           1\n",
              "3         1      1      0  53.1000  ...      0           0           0           1\n",
              "4         0      0      0   8.0500  ...      0           0           0           1\n",
              "\n",
              "[5 rows x 20 columns]"
            ]
          },
          "metadata": {
            "tags": []
          },
          "execution_count": 281
        }
      ]
    },
    {
      "cell_type": "markdown",
      "metadata": {
        "id": "jaC3Er0bk4cy",
        "colab_type": "text"
      },
      "source": [
        "## Start Building Machine Learning Models\n",
        "Now our data has been manipulating and converted to numbers, we can run a series of different machine learning algorithms over it to find which yield the best results."
      ]
    },
    {
      "cell_type": "code",
      "metadata": {
        "id": "kb9JMszgk4cy",
        "colab_type": "code",
        "colab": {}
      },
      "source": [
        "# Seclect the dataframe we want to use first for predictions\n",
        "selected_df = df_con_enc"
      ],
      "execution_count": 0,
      "outputs": []
    },
    {
      "cell_type": "code",
      "metadata": {
        "id": "zRcSxsNEk4cz",
        "colab_type": "code",
        "outputId": "851e12e7-ac98-492d-aa14-5954aca62eef",
        "colab": {
          "base_uri": "https://localhost:8080/",
          "height": 222
        }
      },
      "source": [
        "selected_df.head()"
      ],
      "execution_count": 0,
      "outputs": [
        {
          "output_type": "execute_result",
          "data": {
            "text/html": [
              "<div>\n",
              "<style scoped>\n",
              "    .dataframe tbody tr th:only-of-type {\n",
              "        vertical-align: middle;\n",
              "    }\n",
              "\n",
              "    .dataframe tbody tr th {\n",
              "        vertical-align: top;\n",
              "    }\n",
              "\n",
              "    .dataframe thead th {\n",
              "        text-align: right;\n",
              "    }\n",
              "</style>\n",
              "<table border=\"1\" class=\"dataframe\">\n",
              "  <thead>\n",
              "    <tr style=\"text-align: right;\">\n",
              "      <th></th>\n",
              "      <th>Survived</th>\n",
              "      <th>SibSp</th>\n",
              "      <th>Parch</th>\n",
              "      <th>Fare</th>\n",
              "      <th>pclass_1</th>\n",
              "      <th>pclass_2</th>\n",
              "      <th>pclass_3</th>\n",
              "      <th>titles_Master.</th>\n",
              "      <th>titles_Miss.</th>\n",
              "      <th>titles_Mr.</th>\n",
              "      <th>titles_Mrs.</th>\n",
              "      <th>titles_Others.</th>\n",
              "      <th>sex_female</th>\n",
              "      <th>sex_male</th>\n",
              "      <th>age_1</th>\n",
              "      <th>age_2</th>\n",
              "      <th>age_3</th>\n",
              "      <th>embarked_C</th>\n",
              "      <th>embarked_Q</th>\n",
              "      <th>embarked_S</th>\n",
              "    </tr>\n",
              "  </thead>\n",
              "  <tbody>\n",
              "    <tr>\n",
              "      <th>0</th>\n",
              "      <td>0</td>\n",
              "      <td>1</td>\n",
              "      <td>0</td>\n",
              "      <td>7.2500</td>\n",
              "      <td>0</td>\n",
              "      <td>0</td>\n",
              "      <td>1</td>\n",
              "      <td>0</td>\n",
              "      <td>0</td>\n",
              "      <td>1</td>\n",
              "      <td>0</td>\n",
              "      <td>0</td>\n",
              "      <td>0</td>\n",
              "      <td>1</td>\n",
              "      <td>0</td>\n",
              "      <td>1</td>\n",
              "      <td>0</td>\n",
              "      <td>0</td>\n",
              "      <td>0</td>\n",
              "      <td>1</td>\n",
              "    </tr>\n",
              "    <tr>\n",
              "      <th>1</th>\n",
              "      <td>1</td>\n",
              "      <td>1</td>\n",
              "      <td>0</td>\n",
              "      <td>71.2833</td>\n",
              "      <td>1</td>\n",
              "      <td>0</td>\n",
              "      <td>0</td>\n",
              "      <td>0</td>\n",
              "      <td>0</td>\n",
              "      <td>0</td>\n",
              "      <td>1</td>\n",
              "      <td>0</td>\n",
              "      <td>1</td>\n",
              "      <td>0</td>\n",
              "      <td>0</td>\n",
              "      <td>1</td>\n",
              "      <td>0</td>\n",
              "      <td>1</td>\n",
              "      <td>0</td>\n",
              "      <td>0</td>\n",
              "    </tr>\n",
              "    <tr>\n",
              "      <th>2</th>\n",
              "      <td>1</td>\n",
              "      <td>0</td>\n",
              "      <td>0</td>\n",
              "      <td>7.9250</td>\n",
              "      <td>0</td>\n",
              "      <td>0</td>\n",
              "      <td>1</td>\n",
              "      <td>0</td>\n",
              "      <td>1</td>\n",
              "      <td>0</td>\n",
              "      <td>0</td>\n",
              "      <td>0</td>\n",
              "      <td>1</td>\n",
              "      <td>0</td>\n",
              "      <td>0</td>\n",
              "      <td>1</td>\n",
              "      <td>0</td>\n",
              "      <td>0</td>\n",
              "      <td>0</td>\n",
              "      <td>1</td>\n",
              "    </tr>\n",
              "    <tr>\n",
              "      <th>3</th>\n",
              "      <td>1</td>\n",
              "      <td>1</td>\n",
              "      <td>0</td>\n",
              "      <td>53.1000</td>\n",
              "      <td>1</td>\n",
              "      <td>0</td>\n",
              "      <td>0</td>\n",
              "      <td>0</td>\n",
              "      <td>0</td>\n",
              "      <td>0</td>\n",
              "      <td>1</td>\n",
              "      <td>0</td>\n",
              "      <td>1</td>\n",
              "      <td>0</td>\n",
              "      <td>0</td>\n",
              "      <td>1</td>\n",
              "      <td>0</td>\n",
              "      <td>0</td>\n",
              "      <td>0</td>\n",
              "      <td>1</td>\n",
              "    </tr>\n",
              "    <tr>\n",
              "      <th>4</th>\n",
              "      <td>0</td>\n",
              "      <td>0</td>\n",
              "      <td>0</td>\n",
              "      <td>8.0500</td>\n",
              "      <td>0</td>\n",
              "      <td>0</td>\n",
              "      <td>1</td>\n",
              "      <td>0</td>\n",
              "      <td>0</td>\n",
              "      <td>1</td>\n",
              "      <td>0</td>\n",
              "      <td>0</td>\n",
              "      <td>0</td>\n",
              "      <td>1</td>\n",
              "      <td>0</td>\n",
              "      <td>1</td>\n",
              "      <td>0</td>\n",
              "      <td>0</td>\n",
              "      <td>0</td>\n",
              "      <td>1</td>\n",
              "    </tr>\n",
              "  </tbody>\n",
              "</table>\n",
              "</div>"
            ],
            "text/plain": [
              "   Survived  SibSp  Parch     Fare  ...  age_3  embarked_C  embarked_Q  embarked_S\n",
              "0         0      1      0   7.2500  ...      0           0           0           1\n",
              "1         1      1      0  71.2833  ...      0           1           0           0\n",
              "2         1      0      0   7.9250  ...      0           0           0           1\n",
              "3         1      1      0  53.1000  ...      0           0           0           1\n",
              "4         0      0      0   8.0500  ...      0           0           0           1\n",
              "\n",
              "[5 rows x 20 columns]"
            ]
          },
          "metadata": {
            "tags": []
          },
          "execution_count": 283
        }
      ]
    },
    {
      "cell_type": "code",
      "metadata": {
        "id": "zKUfFjTCk4c1",
        "colab_type": "code",
        "colab": {}
      },
      "source": [
        "# Split the dataframe into data and labels\n",
        "X_train = selected_df.drop('Survived', axis=1) # data\n",
        "y_train = selected_df.Survived # labels"
      ],
      "execution_count": 0,
      "outputs": []
    },
    {
      "cell_type": "code",
      "metadata": {
        "id": "4RDJGufAk4c2",
        "colab_type": "code",
        "outputId": "4ae0fa56-f862-489f-e034-e02690342ddd",
        "colab": {
          "base_uri": "https://localhost:8080/",
          "height": 35
        }
      },
      "source": [
        "# Shape of the data (without labels)\n",
        "X_train.shape"
      ],
      "execution_count": 0,
      "outputs": [
        {
          "output_type": "execute_result",
          "data": {
            "text/plain": [
              "(889, 19)"
            ]
          },
          "metadata": {
            "tags": []
          },
          "execution_count": 285
        }
      ]
    },
    {
      "cell_type": "code",
      "metadata": {
        "id": "iW6wTS-bk4c3",
        "colab_type": "code",
        "outputId": "96757650-1ffd-473a-bd8d-30b025c5765c",
        "colab": {
          "base_uri": "https://localhost:8080/",
          "height": 35
        }
      },
      "source": [
        "# Shape of the labels\n",
        "y_train.shape"
      ],
      "execution_count": 0,
      "outputs": [
        {
          "output_type": "execute_result",
          "data": {
            "text/plain": [
              "(889,)"
            ]
          },
          "metadata": {
            "tags": []
          },
          "execution_count": 286
        }
      ]
    },
    {
      "cell_type": "markdown",
      "metadata": {
        "id": "-ShICIaOk4c4",
        "colab_type": "text"
      },
      "source": [
        "### Define a function to fit machine learning algorithms\n",
        "Since many of the algorithms we will use are from the sklearn library, they all take similar (practically the same) inputs and produce similar outputs.\n",
        "\n",
        "To prevent writing code multiple times, we will functionise fitting the model and returning the accuracy scores."
      ]
    },
    {
      "cell_type": "code",
      "metadata": {
        "id": "kJMPcvzvk4c4",
        "colab_type": "code",
        "colab": {}
      },
      "source": [
        "# Function that runs the requested algorithm and returns the accuracy metrics\n",
        "def fit_ml_algo(algo, params,X_train, y_train, cv):\n",
        "    \n",
        "    # One Pass\n",
        "    model = algo.fit(X_train, y_train)\n",
        "    acc = round(model.score(X_train, y_train) * 100, 2)\n",
        "    \n",
        "    \n",
        "    clf = GridSearchCV(algo,\n",
        "                    params,\n",
        "                    cv=cv,\n",
        "                    return_train_score=False )\n",
        "\n",
        "    clf.fit(X_train,y_train)\n",
        "    \n",
        "    return acc, clf.best_score_ , clf.best_params_, clf"
      ],
      "execution_count": 0,
      "outputs": []
    },
    {
      "cell_type": "markdown",
      "metadata": {
        "id": "0GRdCjTQk4c5",
        "colab_type": "text"
      },
      "source": [
        "### Logistic Regression"
      ]
    },
    {
      "cell_type": "code",
      "metadata": {
        "id": "TovtzdTgk4c5",
        "colab_type": "code",
        "outputId": "49876b2a-a9fd-4d0e-f27b-4aab24f2d398",
        "colab": {
          "base_uri": "https://localhost:8080/",
          "height": 87
        }
      },
      "source": [
        "# Logistic Regression\n",
        "start_time = time.time()\n",
        "\n",
        "C=[0.1, 1 , 10, 20]\n",
        "solver = ['lbfgs','liblinear']\n",
        "\n",
        "params = dict(\n",
        "                C=C,\n",
        "                solver=solver,\n",
        "             )\n",
        "\n",
        "acc_log, acc_cv_log, best_para_log, log_reg = fit_ml_algo(LogisticRegression(),\n",
        "                                                  params,\n",
        "                                                  X_train, \n",
        "                                                  y_train, \n",
        "                                                  10)\n",
        "\n",
        "log_time = (time.time() - start_time)\n",
        "print(\"Accuracy: %s\" % acc_log)\n",
        "print(\"Accuracy CV 10-Fold: %s\" % acc_cv_log)\n",
        "print('Best Parameters: %s' % best_para_log)\n",
        "print(\"Running Time: %s\" % datetime.timedelta(seconds=log_time))\n",
        "warnings.filterwarnings('ignore')"
      ],
      "execution_count": 0,
      "outputs": [
        {
          "output_type": "stream",
          "text": [
            "Accuracy: 83.69\n",
            "Accuracy CV 10-Fold: 0.8268003064351379\n",
            "Best Parameters: {'C': 1, 'solver': 'liblinear'}\n",
            "Running Time: 0:00:02.086673\n"
          ],
          "name": "stdout"
        }
      ]
    },
    {
      "cell_type": "markdown",
      "metadata": {
        "id": "agSERj9Fk4c7",
        "colab_type": "text"
      },
      "source": [
        "### K-Nearest Neighbours"
      ]
    },
    {
      "cell_type": "code",
      "metadata": {
        "id": "kPjxAzuVk4c7",
        "colab_type": "code",
        "outputId": "3ab03d1a-4594-4296-e535-8daf1b540884",
        "colab": {
          "base_uri": "https://localhost:8080/",
          "height": 87
        }
      },
      "source": [
        "# k-Nearest Neighbours\n",
        "start_time = time.time()\n",
        "\n",
        "n_neighbors = [5,10,15, 20]\n",
        "\n",
        "params = dict(\n",
        "                n_neighbors=n_neighbors,\n",
        "             )\n",
        "\n",
        "\n",
        "\n",
        "acc_knn, acc_cv_knn, best_para_knn, knn = fit_ml_algo(KNeighborsClassifier(), \n",
        "                                                  params,\n",
        "                                                  X_train, \n",
        "                                                  y_train, \n",
        "                                                  10)\n",
        "\n",
        "knn_time = (time.time() - start_time)\n",
        "print(\"Accuracy: %s\" % acc_knn)\n",
        "print(\"Accuracy CV 10-Fold: %s\" % acc_cv_knn)\n",
        "print('Best Parameters: %s' % best_para_knn)\n",
        "print(\"Running Time: %s\" % datetime.timedelta(seconds=knn_time))"
      ],
      "execution_count": 0,
      "outputs": [
        {
          "output_type": "stream",
          "text": [
            "Accuracy: 85.49\n",
            "Accuracy CV 10-Fold: 0.775076608784474\n",
            "Best Parameters: {'n_neighbors': 5}\n",
            "Running Time: 0:00:00.353300\n"
          ],
          "name": "stdout"
        }
      ]
    },
    {
      "cell_type": "markdown",
      "metadata": {
        "id": "4ixTEXfck4c9",
        "colab_type": "text"
      },
      "source": [
        "### Gaussian Naive Bayes"
      ]
    },
    {
      "cell_type": "code",
      "metadata": {
        "id": "ymRaWOv9k4c-",
        "colab_type": "code",
        "outputId": "7fce8834-ef63-4947-ba17-df77ba23bbb4",
        "colab": {
          "base_uri": "https://localhost:8080/",
          "height": 87
        }
      },
      "source": [
        "# Gaussian Naive Bayes\n",
        "start_time = time.time()\n",
        "\n",
        "params = dict()\n",
        "\n",
        "acc_gaussian, acc_cv_gaussian, best_para_gaussian, navie_bayes = fit_ml_algo(GaussianNB(), \n",
        "                                                                 params,\n",
        "                                                                 X_train, \n",
        "                                                                 y_train, \n",
        "                                                                 10)\n",
        "\n",
        "gaussian_time = (time.time() - start_time)\n",
        "\n",
        "print(\"Accuracy: %s\" % acc_gaussian)\n",
        "print(\"Accuracy CV 10-Fold: %s\" % acc_cv_gaussian)\n",
        "print('Best Parameters: %s' % best_para_gaussian)\n",
        "print(\"Running Time: %s\" % datetime.timedelta(seconds=gaussian_time))"
      ],
      "execution_count": 0,
      "outputs": [
        {
          "output_type": "stream",
          "text": [
            "Accuracy: 80.65\n",
            "Accuracy CV 10-Fold: 0.7997957099080695\n",
            "Best Parameters: {}\n",
            "Running Time: 0:00:00.041660\n"
          ],
          "name": "stdout"
        }
      ]
    },
    {
      "cell_type": "markdown",
      "metadata": {
        "id": "Wjh7Q3x6k4c_",
        "colab_type": "text"
      },
      "source": [
        "### Support Vector Machines (SVC)"
      ]
    },
    {
      "cell_type": "code",
      "metadata": {
        "id": "clZYSVxsk4c_",
        "colab_type": "code",
        "outputId": "6f73a2ee-7c14-474f-90e8-068ceab02d26",
        "colab": {
          "base_uri": "https://localhost:8080/",
          "height": 87
        }
      },
      "source": [
        "# Support Vector Machine\n",
        "start_time = time.time()\n",
        "\n",
        "C=[1,10,20,50,60]\n",
        "\n",
        "params = dict(\n",
        "                C=C\n",
        "             )\n",
        "\n",
        "acc_svc, acc_cv_svc, best_para_svc, svc = fit_ml_algo(SVC(gamma='auto'),\n",
        "                                                               params,\n",
        "                                                               X_train, \n",
        "                                                               y_train, \n",
        "                                                               10)\n",
        "linear_svc_time = (time.time() - start_time)\n",
        "print(\"Accuracy: %s\" % acc_svc)\n",
        "print(\"Accuracy CV 10-Fold: %s\" % acc_cv_svc)\n",
        "print('Best Parameters: %s' % best_para_svc)\n",
        "print(\"Running Time: %s\" % datetime.timedelta(seconds=linear_svc_time))"
      ],
      "execution_count": 0,
      "outputs": [
        {
          "output_type": "stream",
          "text": [
            "Accuracy: 83.69\n",
            "Accuracy CV 10-Fold: 0.8144535240040858\n",
            "Best Parameters: {'C': 50}\n",
            "Running Time: 0:00:02.107176\n"
          ],
          "name": "stdout"
        }
      ]
    },
    {
      "cell_type": "markdown",
      "metadata": {
        "id": "dBHkk3ock4dC",
        "colab_type": "text"
      },
      "source": [
        "### Stochastic Gradient Descent"
      ]
    },
    {
      "cell_type": "code",
      "metadata": {
        "id": "P2Q3WVstk4dC",
        "colab_type": "code",
        "outputId": "cc46328a-f868-45af-c844-7cb66765979f",
        "colab": {
          "base_uri": "https://localhost:8080/",
          "height": 87
        }
      },
      "source": [
        "# Stochastic Gradient Descent\n",
        "start_time = time.time()\n",
        "\n",
        "alpha =[0.0001,0.001,0.1,1]\n",
        "\n",
        "params = dict(\n",
        "                alpha=alpha\n",
        "            )\n",
        "\n",
        "acc_sgd, acc_cv_sgd, best_para_sgd, sgd = fit_ml_algo(SGDClassifier(), \n",
        "                                                  params,\n",
        "                                                  X_train, \n",
        "                                                  y_train,\n",
        "                                                  10)\n",
        "sgd_time = (time.time() - start_time)\n",
        "print(\"Accuracy: %s\" % acc_sgd)\n",
        "print(\"Accuracy CV 10-Fold: %s\" % acc_cv_sgd)\n",
        "print('Best Parameters: %s' % best_para_sgd)\n",
        "print(\"Running Time: %s\" % datetime.timedelta(seconds=sgd_time))"
      ],
      "execution_count": 0,
      "outputs": [
        {
          "output_type": "stream",
          "text": [
            "Accuracy: 63.44\n",
            "Accuracy CV 10-Fold: 0.7468718079673136\n",
            "Best Parameters: {'alpha': 0.1}\n",
            "Running Time: 0:00:00.275276\n"
          ],
          "name": "stdout"
        }
      ]
    },
    {
      "cell_type": "markdown",
      "metadata": {
        "id": "TCG7v9yFk4dD",
        "colab_type": "text"
      },
      "source": [
        "### Decision Tree Classifier"
      ]
    },
    {
      "cell_type": "code",
      "metadata": {
        "id": "zdEwkUOuk4dD",
        "colab_type": "code",
        "outputId": "053cc844-7500-490b-de94-584e9389fc3b",
        "colab": {
          "base_uri": "https://localhost:8080/",
          "height": 87
        }
      },
      "source": [
        "# Decision Tree Classifier\n",
        "start_time = time.time()\n",
        "\n",
        "max_depth = [5,10,20]\n",
        "\n",
        "params = dict(max_depth=max_depth)\n",
        "\n",
        "acc_dt, acc_cv_dt, best_para_dt, dt = fit_ml_algo(DecisionTreeClassifier(), \n",
        "                                              params,\n",
        "                                                                X_train, \n",
        "                                                                y_train,\n",
        "                                                                10)\n",
        "dt_time = (time.time() - start_time)\n",
        "print(\"Accuracy: %s\" % acc_dt)\n",
        "print(\"Accuracy CV 10-Fold: %s\" % acc_cv_dt)\n",
        "print('Best Parameters: %s' % best_para_dt)\n",
        "print(\"Running Time: %s\" % datetime.timedelta(seconds=dt_time))"
      ],
      "execution_count": 0,
      "outputs": [
        {
          "output_type": "stream",
          "text": [
            "Accuracy: 93.93\n",
            "Accuracy CV 10-Fold: 0.8211695607763023\n",
            "Best Parameters: {'max_depth': 5}\n",
            "Running Time: 0:00:00.139425\n"
          ],
          "name": "stdout"
        }
      ]
    },
    {
      "cell_type": "markdown",
      "metadata": {
        "id": "w-5o0dJik4dE",
        "colab_type": "text"
      },
      "source": [
        "### Random Forest Classifier"
      ]
    },
    {
      "cell_type": "code",
      "metadata": {
        "id": "bNWc24FVk4dE",
        "colab_type": "code",
        "outputId": "18830917-f221-4602-972d-4f526a9b5915",
        "colab": {
          "base_uri": "https://localhost:8080/",
          "height": 87
        }
      },
      "source": [
        "# Random Forest Classifier\n",
        "start_time = time.time()\n",
        "\n",
        "n_estimators=[50,100]\n",
        "max_depth = [5,10,20]\n",
        "\n",
        "params = dict(max_depth=max_depth,n_estimators=n_estimators)\n",
        "\n",
        "acc_rf, acc_cv_rf, best_para_rf, rf = fit_ml_algo(RandomForestClassifier(), \n",
        "                                              params,\n",
        "                                              X_train, \n",
        "                                              y_train,\n",
        "                                              10)\n",
        "\n",
        "rf_time = (time.time() - start_time)\n",
        "print(\"Accuracy: %s\" % acc_rf)\n",
        "print(\"Accuracy CV 10-Fold: %s\" % acc_cv_rf)\n",
        "print('Best Parameters: %s' % best_para_rf)\n",
        "print(\"Running Time: %s\" % datetime.timedelta(seconds=rf_time))"
      ],
      "execution_count": 0,
      "outputs": [
        {
          "output_type": "stream",
          "text": [
            "Accuracy: 93.93\n",
            "Accuracy CV 10-Fold: 0.8335418794688458\n",
            "Best Parameters: {'max_depth': 10, 'n_estimators': 100}\n",
            "Running Time: 0:00:07.382172\n"
          ],
          "name": "stdout"
        }
      ]
    },
    {
      "cell_type": "markdown",
      "metadata": {
        "id": "J8zMdDebk4dF",
        "colab_type": "text"
      },
      "source": [
        "### Gradient Boost Trees"
      ]
    },
    {
      "cell_type": "code",
      "metadata": {
        "id": "lcqmTXbqk4dG",
        "colab_type": "code",
        "outputId": "e4f589a0-935e-4dfb-fb13-b142d9ae527c",
        "colab": {
          "base_uri": "https://localhost:8080/",
          "height": 87
        }
      },
      "source": [
        "# Gradient Boosting Trees\n",
        "start_time = time.time()\n",
        "\n",
        "learning_rate=[0.01,2]\n",
        "n_estimators=[100]\n",
        "\n",
        "params = dict(learning_rate=learning_rate,n_estimators=n_estimators)\n",
        "\n",
        "acc_gbt, acc_cv_gbt, best_para_gbt, gbt = fit_ml_algo(GradientBoostingClassifier(), \n",
        "                                                  params,\n",
        "                                                  X_train, \n",
        "                                                  y_train,\n",
        "                                                  10)\n",
        "\n",
        "gbt_time = (time.time() - start_time)\n",
        "print(\"Accuracy: %s\" % acc_gbt)\n",
        "print(\"Accuracy CV 10-Fold: %s\" % acc_cv_gbt)\n",
        "print('Best Parameters: %s' % best_para_gbt)\n",
        "print(\"Running Time: %s\" % datetime.timedelta(seconds=gbt_time))"
      ],
      "execution_count": 0,
      "outputs": [
        {
          "output_type": "stream",
          "text": [
            "Accuracy: 89.43\n",
            "Accuracy CV 10-Fold: 0.8290347293156282\n",
            "Best Parameters: {'learning_rate': 0.01, 'n_estimators': 100}\n",
            "Running Time: 0:00:02.535433\n"
          ],
          "name": "stdout"
        }
      ]
    },
    {
      "cell_type": "markdown",
      "metadata": {
        "id": "WIFUWGZSk4dH",
        "colab_type": "text"
      },
      "source": [
        "### CatBoost Algorithm\n",
        "CatBoost is a state-of-the-art open-source gradient boosting on decision trees library.\n",
        "\n",
        "It's simple and easy to use. And is now regularly one of my go-to algorithms for any kind of machine learning task.\n",
        "\n",
        "For more on CatBoost and the methods it uses to deal with categorical variables, check out the [CatBoost docs](https://catboost.ai/)."
      ]
    },
    {
      "cell_type": "code",
      "metadata": {
        "id": "oeW0P24Ok4dH",
        "colab_type": "code",
        "outputId": "328012df-fe1e-43af-e548-454da7d49c96",
        "colab": {
          "base_uri": "https://localhost:8080/",
          "height": 222
        }
      },
      "source": [
        "# View the data for the CatBoost model\n",
        "X_train.head()"
      ],
      "execution_count": 0,
      "outputs": [
        {
          "output_type": "execute_result",
          "data": {
            "text/html": [
              "<div>\n",
              "<style scoped>\n",
              "    .dataframe tbody tr th:only-of-type {\n",
              "        vertical-align: middle;\n",
              "    }\n",
              "\n",
              "    .dataframe tbody tr th {\n",
              "        vertical-align: top;\n",
              "    }\n",
              "\n",
              "    .dataframe thead th {\n",
              "        text-align: right;\n",
              "    }\n",
              "</style>\n",
              "<table border=\"1\" class=\"dataframe\">\n",
              "  <thead>\n",
              "    <tr style=\"text-align: right;\">\n",
              "      <th></th>\n",
              "      <th>SibSp</th>\n",
              "      <th>Parch</th>\n",
              "      <th>Fare</th>\n",
              "      <th>pclass_1</th>\n",
              "      <th>pclass_2</th>\n",
              "      <th>pclass_3</th>\n",
              "      <th>titles_Master.</th>\n",
              "      <th>titles_Miss.</th>\n",
              "      <th>titles_Mr.</th>\n",
              "      <th>titles_Mrs.</th>\n",
              "      <th>titles_Others.</th>\n",
              "      <th>sex_female</th>\n",
              "      <th>sex_male</th>\n",
              "      <th>age_1</th>\n",
              "      <th>age_2</th>\n",
              "      <th>age_3</th>\n",
              "      <th>embarked_C</th>\n",
              "      <th>embarked_Q</th>\n",
              "      <th>embarked_S</th>\n",
              "    </tr>\n",
              "  </thead>\n",
              "  <tbody>\n",
              "    <tr>\n",
              "      <th>0</th>\n",
              "      <td>1</td>\n",
              "      <td>0</td>\n",
              "      <td>7.2500</td>\n",
              "      <td>0</td>\n",
              "      <td>0</td>\n",
              "      <td>1</td>\n",
              "      <td>0</td>\n",
              "      <td>0</td>\n",
              "      <td>1</td>\n",
              "      <td>0</td>\n",
              "      <td>0</td>\n",
              "      <td>0</td>\n",
              "      <td>1</td>\n",
              "      <td>0</td>\n",
              "      <td>1</td>\n",
              "      <td>0</td>\n",
              "      <td>0</td>\n",
              "      <td>0</td>\n",
              "      <td>1</td>\n",
              "    </tr>\n",
              "    <tr>\n",
              "      <th>1</th>\n",
              "      <td>1</td>\n",
              "      <td>0</td>\n",
              "      <td>71.2833</td>\n",
              "      <td>1</td>\n",
              "      <td>0</td>\n",
              "      <td>0</td>\n",
              "      <td>0</td>\n",
              "      <td>0</td>\n",
              "      <td>0</td>\n",
              "      <td>1</td>\n",
              "      <td>0</td>\n",
              "      <td>1</td>\n",
              "      <td>0</td>\n",
              "      <td>0</td>\n",
              "      <td>1</td>\n",
              "      <td>0</td>\n",
              "      <td>1</td>\n",
              "      <td>0</td>\n",
              "      <td>0</td>\n",
              "    </tr>\n",
              "    <tr>\n",
              "      <th>2</th>\n",
              "      <td>0</td>\n",
              "      <td>0</td>\n",
              "      <td>7.9250</td>\n",
              "      <td>0</td>\n",
              "      <td>0</td>\n",
              "      <td>1</td>\n",
              "      <td>0</td>\n",
              "      <td>1</td>\n",
              "      <td>0</td>\n",
              "      <td>0</td>\n",
              "      <td>0</td>\n",
              "      <td>1</td>\n",
              "      <td>0</td>\n",
              "      <td>0</td>\n",
              "      <td>1</td>\n",
              "      <td>0</td>\n",
              "      <td>0</td>\n",
              "      <td>0</td>\n",
              "      <td>1</td>\n",
              "    </tr>\n",
              "    <tr>\n",
              "      <th>3</th>\n",
              "      <td>1</td>\n",
              "      <td>0</td>\n",
              "      <td>53.1000</td>\n",
              "      <td>1</td>\n",
              "      <td>0</td>\n",
              "      <td>0</td>\n",
              "      <td>0</td>\n",
              "      <td>0</td>\n",
              "      <td>0</td>\n",
              "      <td>1</td>\n",
              "      <td>0</td>\n",
              "      <td>1</td>\n",
              "      <td>0</td>\n",
              "      <td>0</td>\n",
              "      <td>1</td>\n",
              "      <td>0</td>\n",
              "      <td>0</td>\n",
              "      <td>0</td>\n",
              "      <td>1</td>\n",
              "    </tr>\n",
              "    <tr>\n",
              "      <th>4</th>\n",
              "      <td>0</td>\n",
              "      <td>0</td>\n",
              "      <td>8.0500</td>\n",
              "      <td>0</td>\n",
              "      <td>0</td>\n",
              "      <td>1</td>\n",
              "      <td>0</td>\n",
              "      <td>0</td>\n",
              "      <td>1</td>\n",
              "      <td>0</td>\n",
              "      <td>0</td>\n",
              "      <td>0</td>\n",
              "      <td>1</td>\n",
              "      <td>0</td>\n",
              "      <td>1</td>\n",
              "      <td>0</td>\n",
              "      <td>0</td>\n",
              "      <td>0</td>\n",
              "      <td>1</td>\n",
              "    </tr>\n",
              "  </tbody>\n",
              "</table>\n",
              "</div>"
            ],
            "text/plain": [
              "   SibSp  Parch     Fare  pclass_1  ...  age_3  embarked_C  embarked_Q  embarked_S\n",
              "0      1      0   7.2500         0  ...      0           0           0           1\n",
              "1      1      0  71.2833         1  ...      0           1           0           0\n",
              "2      0      0   7.9250         0  ...      0           0           0           1\n",
              "3      1      0  53.1000         1  ...      0           0           0           1\n",
              "4      0      0   8.0500         0  ...      0           0           0           1\n",
              "\n",
              "[5 rows x 19 columns]"
            ]
          },
          "metadata": {
            "tags": []
          },
          "execution_count": 296
        }
      ]
    },
    {
      "cell_type": "code",
      "metadata": {
        "id": "uEbE3ExLk4dJ",
        "colab_type": "code",
        "outputId": "598a64b2-a501-4d03-ac1b-94784473899b",
        "colab": {
          "base_uri": "https://localhost:8080/",
          "height": 52
        }
      },
      "source": [
        "# Define the categorical features for the CatBoost model\n",
        "cat_features = np.where((X_train.dtypes != np.float) )[0]\n",
        "cat_features"
      ],
      "execution_count": 0,
      "outputs": [
        {
          "output_type": "execute_result",
          "data": {
            "text/plain": [
              "array([ 0,  1,  3,  4,  5,  6,  7,  8,  9, 10, 11, 12, 13, 14, 15, 16, 17,\n",
              "       18])"
            ]
          },
          "metadata": {
            "tags": []
          },
          "execution_count": 297
        }
      ]
    },
    {
      "cell_type": "code",
      "metadata": {
        "id": "ragzGlPKmlfB",
        "colab_type": "code",
        "outputId": "3413c75d-ea62-4e4b-d677-fb0a3bf5d662",
        "colab": {
          "base_uri": "https://localhost:8080/",
          "height": 1000
        }
      },
      "source": [
        "# Cat Boost Trees\n",
        "start_time = time.time()\n",
        "\n",
        "learning_rate=[0.1]\n",
        "iterations=[100]\n",
        "depth=[5]\n",
        "\n",
        "params = dict(learning_rate=learning_rate,iterations=iterations,depth=depth)\n",
        "\n",
        "acc_cbt, acc_cv_cbt, best_para_cbt, cbt = fit_ml_algo(CatBoostClassifier(cat_features=cat_features), \n",
        "                                                  params,\n",
        "                                                  X_train, \n",
        "                                                  y_train,\n",
        "                                                  10)\n",
        "\n",
        "cbt_time = (time.time() - start_time)\n",
        "print(\"Accuracy: %s\" % acc_cbt)\n",
        "print(\"Accuracy CV 10-Fold: %s\" % acc_cv_cbt)\n",
        "print('Best Parameters: %s' % best_para_cbt)\n",
        "print(\"Running Time: %s\" % datetime.timedelta(seconds=cbt_time))"
      ],
      "execution_count": 0,
      "outputs": [
        {
          "output_type": "stream",
          "text": [
            "Learning rate set to 0.009797\n",
            "0:\tlearn: 0.6865009\ttotal: 4.56ms\tremaining: 4.56s\n",
            "1:\tlearn: 0.6826009\ttotal: 6.25ms\tremaining: 3.12s\n",
            "2:\tlearn: 0.6760721\ttotal: 9.11ms\tremaining: 3.03s\n",
            "3:\tlearn: 0.6689518\ttotal: 11.9ms\tremaining: 2.96s\n",
            "4:\tlearn: 0.6625093\ttotal: 14.9ms\tremaining: 2.96s\n",
            "5:\tlearn: 0.6592312\ttotal: 16.2ms\tremaining: 2.68s\n",
            "6:\tlearn: 0.6531639\ttotal: 19.2ms\tremaining: 2.72s\n",
            "7:\tlearn: 0.6484440\ttotal: 20.8ms\tremaining: 2.58s\n",
            "8:\tlearn: 0.6433293\ttotal: 23.6ms\tremaining: 2.59s\n",
            "9:\tlearn: 0.6376588\ttotal: 26.5ms\tremaining: 2.62s\n",
            "10:\tlearn: 0.6331552\ttotal: 28ms\tremaining: 2.52s\n",
            "11:\tlearn: 0.6283123\ttotal: 31.1ms\tremaining: 2.56s\n",
            "12:\tlearn: 0.6230815\ttotal: 34.3ms\tremaining: 2.6s\n",
            "13:\tlearn: 0.6177940\ttotal: 36.8ms\tremaining: 2.59s\n",
            "14:\tlearn: 0.6143878\ttotal: 39.4ms\tremaining: 2.59s\n",
            "15:\tlearn: 0.6098071\ttotal: 42ms\tremaining: 2.58s\n",
            "16:\tlearn: 0.6062735\ttotal: 44.6ms\tremaining: 2.58s\n",
            "17:\tlearn: 0.6010687\ttotal: 46.9ms\tremaining: 2.56s\n",
            "18:\tlearn: 0.5979686\ttotal: 49.6ms\tremaining: 2.56s\n",
            "19:\tlearn: 0.5941169\ttotal: 51.2ms\tremaining: 2.51s\n",
            "20:\tlearn: 0.5893290\ttotal: 54ms\tremaining: 2.52s\n",
            "21:\tlearn: 0.5862196\ttotal: 56.5ms\tremaining: 2.51s\n",
            "22:\tlearn: 0.5817775\ttotal: 59.1ms\tremaining: 2.51s\n",
            "23:\tlearn: 0.5782271\ttotal: 61.6ms\tremaining: 2.5s\n",
            "24:\tlearn: 0.5743612\ttotal: 64.2ms\tremaining: 2.5s\n",
            "25:\tlearn: 0.5708634\ttotal: 66.6ms\tremaining: 2.49s\n",
            "26:\tlearn: 0.5677489\ttotal: 67.9ms\tremaining: 2.45s\n",
            "27:\tlearn: 0.5647791\ttotal: 70.5ms\tremaining: 2.45s\n",
            "28:\tlearn: 0.5606799\ttotal: 72.9ms\tremaining: 2.44s\n",
            "29:\tlearn: 0.5573466\ttotal: 75.2ms\tremaining: 2.43s\n",
            "30:\tlearn: 0.5533529\ttotal: 77.6ms\tremaining: 2.43s\n",
            "31:\tlearn: 0.5502267\ttotal: 80.2ms\tremaining: 2.43s\n",
            "32:\tlearn: 0.5465499\ttotal: 82.8ms\tremaining: 2.42s\n",
            "33:\tlearn: 0.5448825\ttotal: 83.7ms\tremaining: 2.38s\n",
            "34:\tlearn: 0.5429783\ttotal: 85.3ms\tremaining: 2.35s\n",
            "35:\tlearn: 0.5396512\ttotal: 88.1ms\tremaining: 2.36s\n",
            "36:\tlearn: 0.5372655\ttotal: 90.4ms\tremaining: 2.35s\n",
            "37:\tlearn: 0.5342593\ttotal: 93.6ms\tremaining: 2.37s\n",
            "38:\tlearn: 0.5319721\ttotal: 95.3ms\tremaining: 2.35s\n",
            "39:\tlearn: 0.5302571\ttotal: 96.6ms\tremaining: 2.32s\n",
            "40:\tlearn: 0.5279546\ttotal: 99ms\tremaining: 2.32s\n",
            "41:\tlearn: 0.5247762\ttotal: 101ms\tremaining: 2.31s\n",
            "42:\tlearn: 0.5229798\ttotal: 104ms\tremaining: 2.31s\n",
            "43:\tlearn: 0.5199980\ttotal: 106ms\tremaining: 2.31s\n",
            "44:\tlearn: 0.5173269\ttotal: 109ms\tremaining: 2.3s\n",
            "45:\tlearn: 0.5152369\ttotal: 111ms\tremaining: 2.3s\n",
            "46:\tlearn: 0.5124399\ttotal: 113ms\tremaining: 2.3s\n",
            "47:\tlearn: 0.5105328\ttotal: 115ms\tremaining: 2.28s\n",
            "48:\tlearn: 0.5088694\ttotal: 117ms\tremaining: 2.27s\n",
            "49:\tlearn: 0.5068320\ttotal: 119ms\tremaining: 2.27s\n",
            "50:\tlearn: 0.5044435\ttotal: 122ms\tremaining: 2.26s\n",
            "51:\tlearn: 0.5026105\ttotal: 124ms\tremaining: 2.26s\n",
            "52:\tlearn: 0.5004434\ttotal: 126ms\tremaining: 2.25s\n",
            "53:\tlearn: 0.4990871\ttotal: 128ms\tremaining: 2.25s\n",
            "54:\tlearn: 0.4972734\ttotal: 131ms\tremaining: 2.25s\n",
            "55:\tlearn: 0.4946255\ttotal: 133ms\tremaining: 2.25s\n",
            "56:\tlearn: 0.4932042\ttotal: 136ms\tremaining: 2.25s\n",
            "57:\tlearn: 0.4908756\ttotal: 138ms\tremaining: 2.25s\n",
            "58:\tlearn: 0.4884987\ttotal: 141ms\tremaining: 2.25s\n",
            "59:\tlearn: 0.4870056\ttotal: 144ms\tremaining: 2.25s\n",
            "60:\tlearn: 0.4850133\ttotal: 146ms\tremaining: 2.25s\n",
            "61:\tlearn: 0.4834353\ttotal: 148ms\tremaining: 2.25s\n",
            "62:\tlearn: 0.4825844\ttotal: 149ms\tremaining: 2.22s\n",
            "63:\tlearn: 0.4813234\ttotal: 150ms\tremaining: 2.2s\n",
            "64:\tlearn: 0.4798800\ttotal: 153ms\tremaining: 2.2s\n",
            "65:\tlearn: 0.4778418\ttotal: 155ms\tremaining: 2.2s\n",
            "66:\tlearn: 0.4764625\ttotal: 157ms\tremaining: 2.19s\n",
            "67:\tlearn: 0.4746102\ttotal: 160ms\tremaining: 2.19s\n",
            "68:\tlearn: 0.4724341\ttotal: 162ms\tremaining: 2.19s\n",
            "69:\tlearn: 0.4710586\ttotal: 165ms\tremaining: 2.19s\n",
            "70:\tlearn: 0.4695794\ttotal: 167ms\tremaining: 2.19s\n",
            "71:\tlearn: 0.4673637\ttotal: 170ms\tremaining: 2.19s\n",
            "72:\tlearn: 0.4661855\ttotal: 172ms\tremaining: 2.19s\n",
            "73:\tlearn: 0.4646919\ttotal: 174ms\tremaining: 2.18s\n",
            "74:\tlearn: 0.4635639\ttotal: 177ms\tremaining: 2.18s\n",
            "75:\tlearn: 0.4624385\ttotal: 179ms\tremaining: 2.18s\n",
            "76:\tlearn: 0.4607956\ttotal: 182ms\tremaining: 2.18s\n",
            "77:\tlearn: 0.4594052\ttotal: 184ms\tremaining: 2.18s\n",
            "78:\tlearn: 0.4578629\ttotal: 187ms\tremaining: 2.17s\n",
            "79:\tlearn: 0.4572339\ttotal: 188ms\tremaining: 2.17s\n",
            "80:\tlearn: 0.4565924\ttotal: 189ms\tremaining: 2.15s\n",
            "81:\tlearn: 0.4558937\ttotal: 195ms\tremaining: 2.19s\n",
            "82:\tlearn: 0.4542327\ttotal: 198ms\tremaining: 2.19s\n",
            "83:\tlearn: 0.4530179\ttotal: 200ms\tremaining: 2.18s\n",
            "84:\tlearn: 0.4517058\ttotal: 202ms\tremaining: 2.18s\n",
            "85:\tlearn: 0.4507592\ttotal: 205ms\tremaining: 2.18s\n",
            "86:\tlearn: 0.4499129\ttotal: 207ms\tremaining: 2.17s\n",
            "87:\tlearn: 0.4486925\ttotal: 210ms\tremaining: 2.17s\n",
            "88:\tlearn: 0.4475936\ttotal: 212ms\tremaining: 2.17s\n",
            "89:\tlearn: 0.4462506\ttotal: 215ms\tremaining: 2.17s\n",
            "90:\tlearn: 0.4455047\ttotal: 216ms\tremaining: 2.16s\n",
            "91:\tlearn: 0.4439231\ttotal: 218ms\tremaining: 2.15s\n",
            "92:\tlearn: 0.4423812\ttotal: 221ms\tremaining: 2.15s\n",
            "93:\tlearn: 0.4417145\ttotal: 223ms\tremaining: 2.15s\n",
            "94:\tlearn: 0.4409529\ttotal: 226ms\tremaining: 2.15s\n",
            "95:\tlearn: 0.4399449\ttotal: 228ms\tremaining: 2.15s\n",
            "96:\tlearn: 0.4391744\ttotal: 230ms\tremaining: 2.14s\n",
            "97:\tlearn: 0.4380597\ttotal: 233ms\tremaining: 2.14s\n",
            "98:\tlearn: 0.4370371\ttotal: 235ms\tremaining: 2.14s\n",
            "99:\tlearn: 0.4357582\ttotal: 238ms\tremaining: 2.14s\n",
            "100:\tlearn: 0.4347335\ttotal: 241ms\tremaining: 2.14s\n",
            "101:\tlearn: 0.4341394\ttotal: 243ms\tremaining: 2.14s\n",
            "102:\tlearn: 0.4328841\ttotal: 246ms\tremaining: 2.14s\n",
            "103:\tlearn: 0.4319163\ttotal: 248ms\tremaining: 2.14s\n",
            "104:\tlearn: 0.4313457\ttotal: 250ms\tremaining: 2.13s\n",
            "105:\tlearn: 0.4304338\ttotal: 253ms\tremaining: 2.13s\n",
            "106:\tlearn: 0.4291940\ttotal: 255ms\tremaining: 2.13s\n",
            "107:\tlearn: 0.4282819\ttotal: 258ms\tremaining: 2.13s\n",
            "108:\tlearn: 0.4271960\ttotal: 261ms\tremaining: 2.13s\n",
            "109:\tlearn: 0.4263040\ttotal: 264ms\tremaining: 2.13s\n",
            "110:\tlearn: 0.4255108\ttotal: 266ms\tremaining: 2.13s\n",
            "111:\tlearn: 0.4250625\ttotal: 269ms\tremaining: 2.13s\n",
            "112:\tlearn: 0.4243236\ttotal: 271ms\tremaining: 2.13s\n",
            "113:\tlearn: 0.4231448\ttotal: 274ms\tremaining: 2.13s\n",
            "114:\tlearn: 0.4228875\ttotal: 275ms\tremaining: 2.12s\n",
            "115:\tlearn: 0.4225919\ttotal: 277ms\tremaining: 2.11s\n",
            "116:\tlearn: 0.4221158\ttotal: 278ms\tremaining: 2.1s\n",
            "117:\tlearn: 0.4213658\ttotal: 280ms\tremaining: 2.1s\n",
            "118:\tlearn: 0.4206008\ttotal: 287ms\tremaining: 2.12s\n",
            "119:\tlearn: 0.4196835\ttotal: 289ms\tremaining: 2.12s\n",
            "120:\tlearn: 0.4191867\ttotal: 291ms\tremaining: 2.11s\n",
            "121:\tlearn: 0.4185937\ttotal: 293ms\tremaining: 2.11s\n",
            "122:\tlearn: 0.4180310\ttotal: 295ms\tremaining: 2.11s\n",
            "123:\tlearn: 0.4176757\ttotal: 298ms\tremaining: 2.1s\n",
            "124:\tlearn: 0.4166602\ttotal: 301ms\tremaining: 2.1s\n",
            "125:\tlearn: 0.4160703\ttotal: 303ms\tremaining: 2.1s\n",
            "126:\tlearn: 0.4156131\ttotal: 306ms\tremaining: 2.1s\n",
            "127:\tlearn: 0.4155720\ttotal: 307ms\tremaining: 2.09s\n",
            "128:\tlearn: 0.4147435\ttotal: 309ms\tremaining: 2.09s\n",
            "129:\tlearn: 0.4140416\ttotal: 312ms\tremaining: 2.09s\n",
            "130:\tlearn: 0.4133396\ttotal: 315ms\tremaining: 2.09s\n",
            "131:\tlearn: 0.4132562\ttotal: 316ms\tremaining: 2.08s\n",
            "132:\tlearn: 0.4125928\ttotal: 319ms\tremaining: 2.08s\n",
            "133:\tlearn: 0.4120776\ttotal: 321ms\tremaining: 2.08s\n",
            "134:\tlearn: 0.4112868\ttotal: 324ms\tremaining: 2.07s\n",
            "135:\tlearn: 0.4106395\ttotal: 326ms\tremaining: 2.07s\n",
            "136:\tlearn: 0.4098678\ttotal: 329ms\tremaining: 2.07s\n",
            "137:\tlearn: 0.4093199\ttotal: 331ms\tremaining: 2.07s\n",
            "138:\tlearn: 0.4085865\ttotal: 334ms\tremaining: 2.07s\n",
            "139:\tlearn: 0.4080848\ttotal: 337ms\tremaining: 2.07s\n",
            "140:\tlearn: 0.4074926\ttotal: 339ms\tremaining: 2.06s\n",
            "141:\tlearn: 0.4071852\ttotal: 340ms\tremaining: 2.06s\n",
            "142:\tlearn: 0.4066785\ttotal: 343ms\tremaining: 2.05s\n",
            "143:\tlearn: 0.4060441\ttotal: 345ms\tremaining: 2.05s\n",
            "144:\tlearn: 0.4056931\ttotal: 348ms\tremaining: 2.05s\n",
            "145:\tlearn: 0.4050471\ttotal: 350ms\tremaining: 2.05s\n",
            "146:\tlearn: 0.4043129\ttotal: 352ms\tremaining: 2.04s\n",
            "147:\tlearn: 0.4040072\ttotal: 355ms\tremaining: 2.04s\n",
            "148:\tlearn: 0.4036184\ttotal: 358ms\tremaining: 2.04s\n",
            "149:\tlearn: 0.4034335\ttotal: 359ms\tremaining: 2.04s\n",
            "150:\tlearn: 0.4028339\ttotal: 362ms\tremaining: 2.03s\n",
            "151:\tlearn: 0.4025413\ttotal: 364ms\tremaining: 2.03s\n",
            "152:\tlearn: 0.4020348\ttotal: 367ms\tremaining: 2.03s\n",
            "153:\tlearn: 0.4017818\ttotal: 369ms\tremaining: 2.03s\n",
            "154:\tlearn: 0.4015587\ttotal: 371ms\tremaining: 2.02s\n",
            "155:\tlearn: 0.4010161\ttotal: 374ms\tremaining: 2.02s\n",
            "156:\tlearn: 0.4005311\ttotal: 376ms\tremaining: 2.02s\n",
            "157:\tlearn: 0.3999990\ttotal: 379ms\tremaining: 2.02s\n",
            "158:\tlearn: 0.3993959\ttotal: 381ms\tremaining: 2.02s\n",
            "159:\tlearn: 0.3990229\ttotal: 384ms\tremaining: 2.01s\n",
            "160:\tlearn: 0.3986326\ttotal: 386ms\tremaining: 2.01s\n",
            "161:\tlearn: 0.3982388\ttotal: 394ms\tremaining: 2.04s\n",
            "162:\tlearn: 0.3979332\ttotal: 397ms\tremaining: 2.04s\n",
            "163:\tlearn: 0.3975502\ttotal: 399ms\tremaining: 2.03s\n",
            "164:\tlearn: 0.3973772\ttotal: 401ms\tremaining: 2.03s\n",
            "165:\tlearn: 0.3971300\ttotal: 403ms\tremaining: 2.02s\n",
            "166:\tlearn: 0.3967749\ttotal: 405ms\tremaining: 2.02s\n",
            "167:\tlearn: 0.3964484\ttotal: 408ms\tremaining: 2.02s\n",
            "168:\tlearn: 0.3959009\ttotal: 410ms\tremaining: 2.02s\n",
            "169:\tlearn: 0.3953631\ttotal: 413ms\tremaining: 2.02s\n",
            "170:\tlearn: 0.3950525\ttotal: 419ms\tremaining: 2.03s\n",
            "171:\tlearn: 0.3947287\ttotal: 421ms\tremaining: 2.03s\n",
            "172:\tlearn: 0.3942571\ttotal: 424ms\tremaining: 2.03s\n",
            "173:\tlearn: 0.3941025\ttotal: 427ms\tremaining: 2.02s\n",
            "174:\tlearn: 0.3937037\ttotal: 429ms\tremaining: 2.02s\n",
            "175:\tlearn: 0.3933558\ttotal: 432ms\tremaining: 2.02s\n",
            "176:\tlearn: 0.3931626\ttotal: 434ms\tremaining: 2.02s\n",
            "177:\tlearn: 0.3929493\ttotal: 436ms\tremaining: 2.02s\n",
            "178:\tlearn: 0.3925578\ttotal: 439ms\tremaining: 2.01s\n",
            "179:\tlearn: 0.3921789\ttotal: 442ms\tremaining: 2.01s\n",
            "180:\tlearn: 0.3919444\ttotal: 444ms\tremaining: 2.01s\n",
            "181:\tlearn: 0.3917176\ttotal: 446ms\tremaining: 2s\n",
            "182:\tlearn: 0.3915182\ttotal: 448ms\tremaining: 2s\n",
            "183:\tlearn: 0.3912801\ttotal: 450ms\tremaining: 1.99s\n",
            "184:\tlearn: 0.3909192\ttotal: 452ms\tremaining: 1.99s\n",
            "185:\tlearn: 0.3906753\ttotal: 455ms\tremaining: 1.99s\n",
            "186:\tlearn: 0.3904337\ttotal: 457ms\tremaining: 1.99s\n",
            "187:\tlearn: 0.3899805\ttotal: 459ms\tremaining: 1.98s\n",
            "188:\tlearn: 0.3896535\ttotal: 462ms\tremaining: 1.98s\n",
            "189:\tlearn: 0.3895318\ttotal: 464ms\tremaining: 1.98s\n",
            "190:\tlearn: 0.3892811\ttotal: 466ms\tremaining: 1.98s\n",
            "191:\tlearn: 0.3890189\ttotal: 469ms\tremaining: 1.97s\n",
            "192:\tlearn: 0.3888100\ttotal: 471ms\tremaining: 1.97s\n",
            "193:\tlearn: 0.3886520\ttotal: 473ms\tremaining: 1.97s\n",
            "194:\tlearn: 0.3885079\ttotal: 477ms\tremaining: 1.97s\n",
            "195:\tlearn: 0.3883522\ttotal: 480ms\tremaining: 1.97s\n",
            "196:\tlearn: 0.3881561\ttotal: 485ms\tremaining: 1.98s\n",
            "197:\tlearn: 0.3880178\ttotal: 489ms\tremaining: 1.98s\n",
            "198:\tlearn: 0.3879181\ttotal: 491ms\tremaining: 1.97s\n",
            "199:\tlearn: 0.3878469\ttotal: 492ms\tremaining: 1.97s\n",
            "200:\tlearn: 0.3875320\ttotal: 494ms\tremaining: 1.96s\n",
            "201:\tlearn: 0.3871816\ttotal: 497ms\tremaining: 1.96s\n",
            "202:\tlearn: 0.3869421\ttotal: 499ms\tremaining: 1.96s\n",
            "203:\tlearn: 0.3867446\ttotal: 501ms\tremaining: 1.96s\n",
            "204:\tlearn: 0.3865004\ttotal: 504ms\tremaining: 1.95s\n",
            "205:\tlearn: 0.3864482\ttotal: 504ms\tremaining: 1.94s\n",
            "206:\tlearn: 0.3862148\ttotal: 507ms\tremaining: 1.94s\n",
            "207:\tlearn: 0.3858400\ttotal: 509ms\tremaining: 1.94s\n",
            "208:\tlearn: 0.3857173\ttotal: 512ms\tremaining: 1.94s\n",
            "209:\tlearn: 0.3854151\ttotal: 514ms\tremaining: 1.93s\n",
            "210:\tlearn: 0.3851691\ttotal: 516ms\tremaining: 1.93s\n",
            "211:\tlearn: 0.3849126\ttotal: 519ms\tremaining: 1.93s\n",
            "212:\tlearn: 0.3845868\ttotal: 521ms\tremaining: 1.93s\n",
            "213:\tlearn: 0.3843682\ttotal: 524ms\tremaining: 1.92s\n",
            "214:\tlearn: 0.3841214\ttotal: 526ms\tremaining: 1.92s\n",
            "215:\tlearn: 0.3839668\ttotal: 529ms\tremaining: 1.92s\n",
            "216:\tlearn: 0.3837371\ttotal: 532ms\tremaining: 1.92s\n",
            "217:\tlearn: 0.3833879\ttotal: 534ms\tremaining: 1.92s\n",
            "218:\tlearn: 0.3831985\ttotal: 537ms\tremaining: 1.91s\n",
            "219:\tlearn: 0.3830159\ttotal: 539ms\tremaining: 1.91s\n",
            "220:\tlearn: 0.3827003\ttotal: 542ms\tremaining: 1.91s\n",
            "221:\tlearn: 0.3824293\ttotal: 544ms\tremaining: 1.91s\n",
            "222:\tlearn: 0.3822345\ttotal: 547ms\tremaining: 1.91s\n",
            "223:\tlearn: 0.3820922\ttotal: 549ms\tremaining: 1.9s\n",
            "224:\tlearn: 0.3816519\ttotal: 552ms\tremaining: 1.9s\n",
            "225:\tlearn: 0.3814491\ttotal: 554ms\tremaining: 1.9s\n",
            "226:\tlearn: 0.3813550\ttotal: 557ms\tremaining: 1.9s\n",
            "227:\tlearn: 0.3809620\ttotal: 559ms\tremaining: 1.89s\n",
            "228:\tlearn: 0.3808421\ttotal: 561ms\tremaining: 1.89s\n",
            "229:\tlearn: 0.3803783\ttotal: 564ms\tremaining: 1.89s\n",
            "230:\tlearn: 0.3801978\ttotal: 566ms\tremaining: 1.89s\n",
            "231:\tlearn: 0.3798890\ttotal: 569ms\tremaining: 1.88s\n",
            "232:\tlearn: 0.3796315\ttotal: 572ms\tremaining: 1.88s\n",
            "233:\tlearn: 0.3794792\ttotal: 574ms\tremaining: 1.88s\n",
            "234:\tlearn: 0.3791814\ttotal: 576ms\tremaining: 1.88s\n",
            "235:\tlearn: 0.3790758\ttotal: 578ms\tremaining: 1.87s\n",
            "236:\tlearn: 0.3787245\ttotal: 581ms\tremaining: 1.87s\n",
            "237:\tlearn: 0.3784124\ttotal: 583ms\tremaining: 1.87s\n",
            "238:\tlearn: 0.3782367\ttotal: 586ms\tremaining: 1.86s\n",
            "239:\tlearn: 0.3780342\ttotal: 592ms\tremaining: 1.88s\n",
            "240:\tlearn: 0.3779405\ttotal: 595ms\tremaining: 1.87s\n",
            "241:\tlearn: 0.3779175\ttotal: 596ms\tremaining: 1.87s\n",
            "242:\tlearn: 0.3775843\ttotal: 599ms\tremaining: 1.86s\n",
            "243:\tlearn: 0.3774931\ttotal: 601ms\tremaining: 1.86s\n",
            "244:\tlearn: 0.3773123\ttotal: 603ms\tremaining: 1.86s\n",
            "245:\tlearn: 0.3770411\ttotal: 605ms\tremaining: 1.85s\n",
            "246:\tlearn: 0.3769402\ttotal: 608ms\tremaining: 1.85s\n",
            "247:\tlearn: 0.3767481\ttotal: 610ms\tremaining: 1.85s\n",
            "248:\tlearn: 0.3766272\ttotal: 612ms\tremaining: 1.85s\n",
            "249:\tlearn: 0.3764179\ttotal: 614ms\tremaining: 1.84s\n",
            "250:\tlearn: 0.3760734\ttotal: 617ms\tremaining: 1.84s\n",
            "251:\tlearn: 0.3758906\ttotal: 619ms\tremaining: 1.84s\n",
            "252:\tlearn: 0.3756845\ttotal: 621ms\tremaining: 1.83s\n",
            "253:\tlearn: 0.3754809\ttotal: 624ms\tremaining: 1.83s\n",
            "254:\tlearn: 0.3753390\ttotal: 626ms\tremaining: 1.83s\n",
            "255:\tlearn: 0.3752214\ttotal: 628ms\tremaining: 1.82s\n",
            "256:\tlearn: 0.3749395\ttotal: 630ms\tremaining: 1.82s\n",
            "257:\tlearn: 0.3748624\ttotal: 632ms\tremaining: 1.82s\n",
            "258:\tlearn: 0.3745638\ttotal: 634ms\tremaining: 1.81s\n",
            "259:\tlearn: 0.3742892\ttotal: 636ms\tremaining: 1.81s\n",
            "260:\tlearn: 0.3741875\ttotal: 638ms\tremaining: 1.81s\n",
            "261:\tlearn: 0.3740459\ttotal: 641ms\tremaining: 1.8s\n",
            "262:\tlearn: 0.3737037\ttotal: 643ms\tremaining: 1.8s\n",
            "263:\tlearn: 0.3734868\ttotal: 645ms\tremaining: 1.8s\n",
            "264:\tlearn: 0.3733320\ttotal: 648ms\tremaining: 1.8s\n",
            "265:\tlearn: 0.3733295\ttotal: 648ms\tremaining: 1.79s\n",
            "266:\tlearn: 0.3731215\ttotal: 651ms\tremaining: 1.79s\n",
            "267:\tlearn: 0.3728117\ttotal: 653ms\tremaining: 1.78s\n",
            "268:\tlearn: 0.3725741\ttotal: 655ms\tremaining: 1.78s\n",
            "269:\tlearn: 0.3724152\ttotal: 658ms\tremaining: 1.78s\n",
            "270:\tlearn: 0.3721574\ttotal: 660ms\tremaining: 1.77s\n",
            "271:\tlearn: 0.3720584\ttotal: 662ms\tremaining: 1.77s\n",
            "272:\tlearn: 0.3719164\ttotal: 664ms\tremaining: 1.77s\n",
            "273:\tlearn: 0.3718747\ttotal: 666ms\tremaining: 1.76s\n",
            "274:\tlearn: 0.3716843\ttotal: 669ms\tremaining: 1.76s\n",
            "275:\tlearn: 0.3715969\ttotal: 671ms\tremaining: 1.76s\n",
            "276:\tlearn: 0.3712863\ttotal: 673ms\tremaining: 1.76s\n",
            "277:\tlearn: 0.3712128\ttotal: 675ms\tremaining: 1.75s\n",
            "278:\tlearn: 0.3712109\ttotal: 676ms\tremaining: 1.75s\n",
            "279:\tlearn: 0.3710162\ttotal: 679ms\tremaining: 1.75s\n",
            "280:\tlearn: 0.3708369\ttotal: 685ms\tremaining: 1.75s\n",
            "281:\tlearn: 0.3708352\ttotal: 686ms\tremaining: 1.75s\n",
            "282:\tlearn: 0.3706611\ttotal: 688ms\tremaining: 1.74s\n",
            "283:\tlearn: 0.3704940\ttotal: 690ms\tremaining: 1.74s\n",
            "284:\tlearn: 0.3701304\ttotal: 692ms\tremaining: 1.74s\n",
            "285:\tlearn: 0.3698323\ttotal: 695ms\tremaining: 1.73s\n",
            "286:\tlearn: 0.3697154\ttotal: 697ms\tremaining: 1.73s\n",
            "287:\tlearn: 0.3693431\ttotal: 699ms\tremaining: 1.73s\n",
            "288:\tlearn: 0.3691396\ttotal: 702ms\tremaining: 1.73s\n",
            "289:\tlearn: 0.3688884\ttotal: 704ms\tremaining: 1.72s\n",
            "290:\tlearn: 0.3686451\ttotal: 707ms\tremaining: 1.72s\n",
            "291:\tlearn: 0.3686278\ttotal: 708ms\tremaining: 1.72s\n",
            "292:\tlearn: 0.3683867\ttotal: 711ms\tremaining: 1.71s\n",
            "293:\tlearn: 0.3681393\ttotal: 713ms\tremaining: 1.71s\n",
            "294:\tlearn: 0.3678005\ttotal: 715ms\tremaining: 1.71s\n",
            "295:\tlearn: 0.3674649\ttotal: 718ms\tremaining: 1.71s\n",
            "296:\tlearn: 0.3674118\ttotal: 721ms\tremaining: 1.71s\n",
            "297:\tlearn: 0.3671630\ttotal: 723ms\tremaining: 1.7s\n",
            "298:\tlearn: 0.3670876\ttotal: 726ms\tremaining: 1.7s\n",
            "299:\tlearn: 0.3668205\ttotal: 728ms\tremaining: 1.7s\n",
            "300:\tlearn: 0.3666482\ttotal: 730ms\tremaining: 1.7s\n",
            "301:\tlearn: 0.3665791\ttotal: 732ms\tremaining: 1.69s\n",
            "302:\tlearn: 0.3664620\ttotal: 734ms\tremaining: 1.69s\n",
            "303:\tlearn: 0.3662367\ttotal: 736ms\tremaining: 1.69s\n",
            "304:\tlearn: 0.3661604\ttotal: 739ms\tremaining: 1.68s\n",
            "305:\tlearn: 0.3660785\ttotal: 741ms\tremaining: 1.68s\n",
            "306:\tlearn: 0.3659704\ttotal: 743ms\tremaining: 1.68s\n",
            "307:\tlearn: 0.3658506\ttotal: 745ms\tremaining: 1.67s\n",
            "308:\tlearn: 0.3656024\ttotal: 748ms\tremaining: 1.67s\n",
            "309:\tlearn: 0.3655593\ttotal: 749ms\tremaining: 1.67s\n",
            "310:\tlearn: 0.3654872\ttotal: 751ms\tremaining: 1.66s\n",
            "311:\tlearn: 0.3653978\ttotal: 754ms\tremaining: 1.66s\n",
            "312:\tlearn: 0.3652899\ttotal: 756ms\tremaining: 1.66s\n",
            "313:\tlearn: 0.3652023\ttotal: 759ms\tremaining: 1.66s\n",
            "314:\tlearn: 0.3650662\ttotal: 761ms\tremaining: 1.66s\n",
            "315:\tlearn: 0.3648840\ttotal: 763ms\tremaining: 1.65s\n",
            "316:\tlearn: 0.3648043\ttotal: 766ms\tremaining: 1.65s\n",
            "317:\tlearn: 0.3646429\ttotal: 768ms\tremaining: 1.65s\n",
            "318:\tlearn: 0.3646420\ttotal: 769ms\tremaining: 1.64s\n",
            "319:\tlearn: 0.3645783\ttotal: 771ms\tremaining: 1.64s\n",
            "320:\tlearn: 0.3645450\ttotal: 772ms\tremaining: 1.63s\n",
            "321:\tlearn: 0.3644082\ttotal: 775ms\tremaining: 1.63s\n",
            "322:\tlearn: 0.3642030\ttotal: 777ms\tremaining: 1.63s\n",
            "323:\tlearn: 0.3641168\ttotal: 780ms\tremaining: 1.63s\n",
            "324:\tlearn: 0.3639898\ttotal: 782ms\tremaining: 1.62s\n",
            "325:\tlearn: 0.3638085\ttotal: 789ms\tremaining: 1.63s\n",
            "326:\tlearn: 0.3637592\ttotal: 792ms\tremaining: 1.63s\n",
            "327:\tlearn: 0.3637221\ttotal: 794ms\tremaining: 1.63s\n",
            "328:\tlearn: 0.3635274\ttotal: 796ms\tremaining: 1.62s\n",
            "329:\tlearn: 0.3633952\ttotal: 799ms\tremaining: 1.62s\n",
            "330:\tlearn: 0.3633945\ttotal: 799ms\tremaining: 1.61s\n",
            "331:\tlearn: 0.3632166\ttotal: 802ms\tremaining: 1.61s\n",
            "332:\tlearn: 0.3630556\ttotal: 804ms\tremaining: 1.61s\n",
            "333:\tlearn: 0.3628320\ttotal: 807ms\tremaining: 1.61s\n",
            "334:\tlearn: 0.3627231\ttotal: 809ms\tremaining: 1.61s\n",
            "335:\tlearn: 0.3625827\ttotal: 811ms\tremaining: 1.6s\n",
            "336:\tlearn: 0.3625352\ttotal: 814ms\tremaining: 1.6s\n",
            "337:\tlearn: 0.3624887\ttotal: 815ms\tremaining: 1.6s\n",
            "338:\tlearn: 0.3623515\ttotal: 818ms\tremaining: 1.59s\n",
            "339:\tlearn: 0.3622781\ttotal: 820ms\tremaining: 1.59s\n",
            "340:\tlearn: 0.3621496\ttotal: 822ms\tremaining: 1.59s\n",
            "341:\tlearn: 0.3618511\ttotal: 825ms\tremaining: 1.59s\n",
            "342:\tlearn: 0.3617009\ttotal: 828ms\tremaining: 1.58s\n",
            "343:\tlearn: 0.3615471\ttotal: 830ms\tremaining: 1.58s\n",
            "344:\tlearn: 0.3613401\ttotal: 833ms\tremaining: 1.58s\n",
            "345:\tlearn: 0.3612137\ttotal: 835ms\tremaining: 1.58s\n",
            "346:\tlearn: 0.3610096\ttotal: 838ms\tremaining: 1.58s\n",
            "347:\tlearn: 0.3610087\ttotal: 839ms\tremaining: 1.57s\n",
            "348:\tlearn: 0.3607857\ttotal: 841ms\tremaining: 1.57s\n",
            "349:\tlearn: 0.3606956\ttotal: 844ms\tremaining: 1.57s\n",
            "350:\tlearn: 0.3605584\ttotal: 846ms\tremaining: 1.56s\n",
            "351:\tlearn: 0.3603877\ttotal: 848ms\tremaining: 1.56s\n",
            "352:\tlearn: 0.3603839\ttotal: 849ms\tremaining: 1.56s\n",
            "353:\tlearn: 0.3602687\ttotal: 851ms\tremaining: 1.55s\n",
            "354:\tlearn: 0.3601312\ttotal: 854ms\tremaining: 1.55s\n",
            "355:\tlearn: 0.3600397\ttotal: 856ms\tremaining: 1.55s\n",
            "356:\tlearn: 0.3599731\ttotal: 858ms\tremaining: 1.54s\n",
            "357:\tlearn: 0.3598194\ttotal: 861ms\tremaining: 1.54s\n",
            "358:\tlearn: 0.3596584\ttotal: 863ms\tremaining: 1.54s\n",
            "359:\tlearn: 0.3596033\ttotal: 865ms\tremaining: 1.54s\n",
            "360:\tlearn: 0.3595629\ttotal: 868ms\tremaining: 1.53s\n",
            "361:\tlearn: 0.3595542\ttotal: 869ms\tremaining: 1.53s\n",
            "362:\tlearn: 0.3594395\ttotal: 871ms\tremaining: 1.53s\n",
            "363:\tlearn: 0.3591568\ttotal: 874ms\tremaining: 1.53s\n",
            "364:\tlearn: 0.3591036\ttotal: 885ms\tremaining: 1.54s\n",
            "365:\tlearn: 0.3589366\ttotal: 887ms\tremaining: 1.54s\n",
            "366:\tlearn: 0.3587449\ttotal: 890ms\tremaining: 1.53s\n",
            "367:\tlearn: 0.3587025\ttotal: 892ms\tremaining: 1.53s\n",
            "368:\tlearn: 0.3586247\ttotal: 895ms\tremaining: 1.53s\n",
            "369:\tlearn: 0.3583918\ttotal: 898ms\tremaining: 1.53s\n",
            "370:\tlearn: 0.3583915\ttotal: 899ms\tremaining: 1.52s\n",
            "371:\tlearn: 0.3583247\ttotal: 901ms\tremaining: 1.52s\n",
            "372:\tlearn: 0.3581283\ttotal: 903ms\tremaining: 1.52s\n",
            "373:\tlearn: 0.3581277\ttotal: 905ms\tremaining: 1.51s\n",
            "374:\tlearn: 0.3581137\ttotal: 906ms\tremaining: 1.51s\n",
            "375:\tlearn: 0.3579261\ttotal: 908ms\tremaining: 1.51s\n",
            "376:\tlearn: 0.3579058\ttotal: 910ms\tremaining: 1.5s\n",
            "377:\tlearn: 0.3578234\ttotal: 913ms\tremaining: 1.5s\n",
            "378:\tlearn: 0.3576456\ttotal: 916ms\tremaining: 1.5s\n",
            "379:\tlearn: 0.3575740\ttotal: 918ms\tremaining: 1.5s\n",
            "380:\tlearn: 0.3573946\ttotal: 920ms\tremaining: 1.5s\n",
            "381:\tlearn: 0.3573577\ttotal: 922ms\tremaining: 1.49s\n",
            "382:\tlearn: 0.3572240\ttotal: 925ms\tremaining: 1.49s\n",
            "383:\tlearn: 0.3570263\ttotal: 927ms\tremaining: 1.49s\n",
            "384:\tlearn: 0.3569417\ttotal: 931ms\tremaining: 1.49s\n",
            "385:\tlearn: 0.3568686\ttotal: 933ms\tremaining: 1.48s\n",
            "386:\tlearn: 0.3568583\ttotal: 934ms\tremaining: 1.48s\n",
            "387:\tlearn: 0.3568487\ttotal: 936ms\tremaining: 1.48s\n",
            "388:\tlearn: 0.3567148\ttotal: 938ms\tremaining: 1.47s\n",
            "389:\tlearn: 0.3564779\ttotal: 941ms\tremaining: 1.47s\n",
            "390:\tlearn: 0.3563628\ttotal: 943ms\tremaining: 1.47s\n",
            "391:\tlearn: 0.3562405\ttotal: 945ms\tremaining: 1.47s\n",
            "392:\tlearn: 0.3561681\ttotal: 947ms\tremaining: 1.46s\n",
            "393:\tlearn: 0.3560995\ttotal: 950ms\tremaining: 1.46s\n",
            "394:\tlearn: 0.3559390\ttotal: 952ms\tremaining: 1.46s\n",
            "395:\tlearn: 0.3557898\ttotal: 954ms\tremaining: 1.45s\n",
            "396:\tlearn: 0.3556224\ttotal: 956ms\tremaining: 1.45s\n",
            "397:\tlearn: 0.3555685\ttotal: 959ms\tremaining: 1.45s\n",
            "398:\tlearn: 0.3552906\ttotal: 961ms\tremaining: 1.45s\n",
            "399:\tlearn: 0.3552841\ttotal: 962ms\tremaining: 1.44s\n",
            "400:\tlearn: 0.3551500\ttotal: 964ms\tremaining: 1.44s\n",
            "401:\tlearn: 0.3550253\ttotal: 967ms\tremaining: 1.44s\n",
            "402:\tlearn: 0.3547542\ttotal: 969ms\tremaining: 1.44s\n",
            "403:\tlearn: 0.3546969\ttotal: 972ms\tremaining: 1.43s\n",
            "404:\tlearn: 0.3545157\ttotal: 974ms\tremaining: 1.43s\n",
            "405:\tlearn: 0.3544028\ttotal: 977ms\tremaining: 1.43s\n",
            "406:\tlearn: 0.3543912\ttotal: 978ms\tremaining: 1.42s\n",
            "407:\tlearn: 0.3542675\ttotal: 980ms\tremaining: 1.42s\n",
            "408:\tlearn: 0.3541921\ttotal: 988ms\tremaining: 1.43s\n",
            "409:\tlearn: 0.3541920\ttotal: 989ms\tremaining: 1.42s\n",
            "410:\tlearn: 0.3541382\ttotal: 992ms\tremaining: 1.42s\n",
            "411:\tlearn: 0.3540200\ttotal: 994ms\tremaining: 1.42s\n",
            "412:\tlearn: 0.3538384\ttotal: 996ms\tremaining: 1.42s\n",
            "413:\tlearn: 0.3537122\ttotal: 999ms\tremaining: 1.41s\n",
            "414:\tlearn: 0.3536357\ttotal: 1s\tremaining: 1.41s\n",
            "415:\tlearn: 0.3535939\ttotal: 1s\tremaining: 1.41s\n",
            "416:\tlearn: 0.3534992\ttotal: 1s\tremaining: 1.4s\n",
            "417:\tlearn: 0.3534044\ttotal: 1.01s\tremaining: 1.4s\n",
            "418:\tlearn: 0.3533611\ttotal: 1.01s\tremaining: 1.4s\n",
            "419:\tlearn: 0.3531003\ttotal: 1.01s\tremaining: 1.4s\n",
            "420:\tlearn: 0.3530441\ttotal: 1.01s\tremaining: 1.39s\n",
            "421:\tlearn: 0.3530408\ttotal: 1.01s\tremaining: 1.39s\n",
            "422:\tlearn: 0.3529102\ttotal: 1.02s\tremaining: 1.39s\n",
            "423:\tlearn: 0.3526762\ttotal: 1.02s\tremaining: 1.39s\n",
            "424:\tlearn: 0.3526591\ttotal: 1.02s\tremaining: 1.38s\n",
            "425:\tlearn: 0.3525471\ttotal: 1.02s\tremaining: 1.38s\n",
            "426:\tlearn: 0.3524964\ttotal: 1.02s\tremaining: 1.38s\n",
            "427:\tlearn: 0.3524963\ttotal: 1.03s\tremaining: 1.37s\n",
            "428:\tlearn: 0.3523222\ttotal: 1.03s\tremaining: 1.37s\n",
            "429:\tlearn: 0.3521452\ttotal: 1.03s\tremaining: 1.37s\n",
            "430:\tlearn: 0.3520334\ttotal: 1.03s\tremaining: 1.36s\n",
            "431:\tlearn: 0.3519181\ttotal: 1.03s\tremaining: 1.36s\n",
            "432:\tlearn: 0.3518738\ttotal: 1.04s\tremaining: 1.36s\n",
            "433:\tlearn: 0.3518100\ttotal: 1.04s\tremaining: 1.35s\n",
            "434:\tlearn: 0.3518096\ttotal: 1.04s\tremaining: 1.35s\n",
            "435:\tlearn: 0.3517828\ttotal: 1.04s\tremaining: 1.35s\n",
            "436:\tlearn: 0.3515727\ttotal: 1.04s\tremaining: 1.35s\n",
            "437:\tlearn: 0.3514052\ttotal: 1.05s\tremaining: 1.34s\n",
            "438:\tlearn: 0.3514002\ttotal: 1.05s\tremaining: 1.34s\n",
            "439:\tlearn: 0.3513506\ttotal: 1.05s\tremaining: 1.34s\n",
            "440:\tlearn: 0.3512437\ttotal: 1.05s\tremaining: 1.33s\n",
            "441:\tlearn: 0.3510581\ttotal: 1.05s\tremaining: 1.33s\n",
            "442:\tlearn: 0.3510186\ttotal: 1.06s\tremaining: 1.33s\n",
            "443:\tlearn: 0.3509950\ttotal: 1.06s\tremaining: 1.32s\n",
            "444:\tlearn: 0.3509524\ttotal: 1.06s\tremaining: 1.32s\n",
            "445:\tlearn: 0.3508468\ttotal: 1.06s\tremaining: 1.32s\n",
            "446:\tlearn: 0.3506725\ttotal: 1.06s\tremaining: 1.32s\n",
            "447:\tlearn: 0.3505476\ttotal: 1.07s\tremaining: 1.31s\n",
            "448:\tlearn: 0.3505426\ttotal: 1.07s\tremaining: 1.31s\n",
            "449:\tlearn: 0.3505414\ttotal: 1.07s\tremaining: 1.31s\n",
            "450:\tlearn: 0.3505192\ttotal: 1.07s\tremaining: 1.3s\n",
            "451:\tlearn: 0.3505160\ttotal: 1.07s\tremaining: 1.3s\n",
            "452:\tlearn: 0.3505160\ttotal: 1.07s\tremaining: 1.29s\n",
            "453:\tlearn: 0.3504291\ttotal: 1.07s\tremaining: 1.29s\n",
            "454:\tlearn: 0.3503433\ttotal: 1.08s\tremaining: 1.29s\n",
            "455:\tlearn: 0.3501521\ttotal: 1.08s\tremaining: 1.29s\n",
            "456:\tlearn: 0.3500329\ttotal: 1.09s\tremaining: 1.29s\n",
            "457:\tlearn: 0.3498638\ttotal: 1.09s\tremaining: 1.29s\n",
            "458:\tlearn: 0.3498307\ttotal: 1.09s\tremaining: 1.29s\n",
            "459:\tlearn: 0.3497137\ttotal: 1.09s\tremaining: 1.28s\n",
            "460:\tlearn: 0.3494539\ttotal: 1.1s\tremaining: 1.28s\n",
            "461:\tlearn: 0.3493224\ttotal: 1.1s\tremaining: 1.28s\n",
            "462:\tlearn: 0.3492407\ttotal: 1.1s\tremaining: 1.28s\n",
            "463:\tlearn: 0.3491214\ttotal: 1.1s\tremaining: 1.27s\n",
            "464:\tlearn: 0.3489420\ttotal: 1.11s\tremaining: 1.27s\n",
            "465:\tlearn: 0.3489419\ttotal: 1.11s\tremaining: 1.27s\n",
            "466:\tlearn: 0.3489041\ttotal: 1.11s\tremaining: 1.26s\n",
            "467:\tlearn: 0.3488812\ttotal: 1.11s\tremaining: 1.26s\n",
            "468:\tlearn: 0.3488055\ttotal: 1.11s\tremaining: 1.26s\n",
            "469:\tlearn: 0.3487002\ttotal: 1.11s\tremaining: 1.26s\n",
            "470:\tlearn: 0.3486989\ttotal: 1.11s\tremaining: 1.25s\n",
            "471:\tlearn: 0.3486982\ttotal: 1.12s\tremaining: 1.25s\n",
            "472:\tlearn: 0.3486199\ttotal: 1.12s\tremaining: 1.25s\n",
            "473:\tlearn: 0.3484422\ttotal: 1.12s\tremaining: 1.25s\n",
            "474:\tlearn: 0.3483408\ttotal: 1.12s\tremaining: 1.24s\n",
            "475:\tlearn: 0.3482255\ttotal: 1.13s\tremaining: 1.24s\n",
            "476:\tlearn: 0.3480921\ttotal: 1.13s\tremaining: 1.24s\n",
            "477:\tlearn: 0.3480245\ttotal: 1.13s\tremaining: 1.24s\n",
            "478:\tlearn: 0.3480118\ttotal: 1.13s\tremaining: 1.23s\n",
            "479:\tlearn: 0.3479926\ttotal: 1.14s\tremaining: 1.23s\n",
            "480:\tlearn: 0.3479372\ttotal: 1.14s\tremaining: 1.23s\n",
            "481:\tlearn: 0.3479372\ttotal: 1.14s\tremaining: 1.22s\n",
            "482:\tlearn: 0.3477533\ttotal: 1.14s\tremaining: 1.22s\n",
            "483:\tlearn: 0.3476408\ttotal: 1.14s\tremaining: 1.22s\n",
            "484:\tlearn: 0.3475352\ttotal: 1.15s\tremaining: 1.22s\n",
            "485:\tlearn: 0.3475331\ttotal: 1.15s\tremaining: 1.21s\n",
            "486:\tlearn: 0.3474684\ttotal: 1.15s\tremaining: 1.21s\n",
            "487:\tlearn: 0.3473075\ttotal: 1.15s\tremaining: 1.21s\n",
            "488:\tlearn: 0.3472473\ttotal: 1.16s\tremaining: 1.21s\n",
            "489:\tlearn: 0.3471252\ttotal: 1.16s\tremaining: 1.2s\n",
            "490:\tlearn: 0.3470872\ttotal: 1.16s\tremaining: 1.2s\n",
            "491:\tlearn: 0.3469829\ttotal: 1.16s\tremaining: 1.2s\n",
            "492:\tlearn: 0.3469073\ttotal: 1.16s\tremaining: 1.2s\n",
            "493:\tlearn: 0.3468354\ttotal: 1.17s\tremaining: 1.19s\n",
            "494:\tlearn: 0.3467456\ttotal: 1.17s\tremaining: 1.19s\n",
            "495:\tlearn: 0.3466967\ttotal: 1.17s\tremaining: 1.19s\n",
            "496:\tlearn: 0.3466952\ttotal: 1.17s\tremaining: 1.19s\n",
            "497:\tlearn: 0.3465188\ttotal: 1.17s\tremaining: 1.18s\n",
            "498:\tlearn: 0.3463931\ttotal: 1.18s\tremaining: 1.18s\n",
            "499:\tlearn: 0.3463632\ttotal: 1.18s\tremaining: 1.18s\n",
            "500:\tlearn: 0.3463602\ttotal: 1.18s\tremaining: 1.18s\n",
            "501:\tlearn: 0.3461551\ttotal: 1.18s\tremaining: 1.17s\n",
            "502:\tlearn: 0.3461031\ttotal: 1.19s\tremaining: 1.17s\n",
            "503:\tlearn: 0.3460258\ttotal: 1.19s\tremaining: 1.17s\n",
            "504:\tlearn: 0.3459369\ttotal: 1.19s\tremaining: 1.17s\n",
            "505:\tlearn: 0.3457697\ttotal: 1.19s\tremaining: 1.16s\n",
            "506:\tlearn: 0.3456195\ttotal: 1.2s\tremaining: 1.16s\n",
            "507:\tlearn: 0.3455893\ttotal: 1.2s\tremaining: 1.16s\n",
            "508:\tlearn: 0.3455313\ttotal: 1.2s\tremaining: 1.16s\n",
            "509:\tlearn: 0.3454581\ttotal: 1.2s\tremaining: 1.15s\n",
            "510:\tlearn: 0.3453826\ttotal: 1.2s\tremaining: 1.15s\n",
            "511:\tlearn: 0.3452373\ttotal: 1.21s\tremaining: 1.15s\n",
            "512:\tlearn: 0.3450577\ttotal: 1.21s\tremaining: 1.15s\n",
            "513:\tlearn: 0.3450278\ttotal: 1.21s\tremaining: 1.15s\n",
            "514:\tlearn: 0.3449583\ttotal: 1.22s\tremaining: 1.15s\n",
            "515:\tlearn: 0.3449535\ttotal: 1.22s\tremaining: 1.14s\n",
            "516:\tlearn: 0.3448706\ttotal: 1.22s\tremaining: 1.14s\n",
            "517:\tlearn: 0.3448499\ttotal: 1.22s\tremaining: 1.14s\n",
            "518:\tlearn: 0.3447902\ttotal: 1.22s\tremaining: 1.13s\n",
            "519:\tlearn: 0.3447013\ttotal: 1.23s\tremaining: 1.13s\n",
            "520:\tlearn: 0.3446607\ttotal: 1.23s\tremaining: 1.13s\n",
            "521:\tlearn: 0.3446074\ttotal: 1.23s\tremaining: 1.13s\n",
            "522:\tlearn: 0.3445910\ttotal: 1.23s\tremaining: 1.12s\n",
            "523:\tlearn: 0.3445331\ttotal: 1.23s\tremaining: 1.12s\n",
            "524:\tlearn: 0.3443588\ttotal: 1.24s\tremaining: 1.12s\n",
            "525:\tlearn: 0.3443196\ttotal: 1.24s\tremaining: 1.11s\n",
            "526:\tlearn: 0.3441984\ttotal: 1.24s\tremaining: 1.11s\n",
            "527:\tlearn: 0.3440730\ttotal: 1.24s\tremaining: 1.11s\n",
            "528:\tlearn: 0.3440278\ttotal: 1.24s\tremaining: 1.11s\n",
            "529:\tlearn: 0.3439076\ttotal: 1.25s\tremaining: 1.1s\n",
            "530:\tlearn: 0.3438185\ttotal: 1.25s\tremaining: 1.1s\n",
            "531:\tlearn: 0.3436942\ttotal: 1.25s\tremaining: 1.1s\n",
            "532:\tlearn: 0.3435813\ttotal: 1.25s\tremaining: 1.1s\n",
            "533:\tlearn: 0.3434582\ttotal: 1.26s\tremaining: 1.1s\n",
            "534:\tlearn: 0.3434129\ttotal: 1.26s\tremaining: 1.09s\n",
            "535:\tlearn: 0.3432510\ttotal: 1.26s\tremaining: 1.09s\n",
            "536:\tlearn: 0.3432510\ttotal: 1.26s\tremaining: 1.09s\n",
            "537:\tlearn: 0.3431204\ttotal: 1.26s\tremaining: 1.08s\n",
            "538:\tlearn: 0.3430004\ttotal: 1.27s\tremaining: 1.08s\n",
            "539:\tlearn: 0.3429061\ttotal: 1.27s\tremaining: 1.08s\n",
            "540:\tlearn: 0.3427728\ttotal: 1.27s\tremaining: 1.08s\n",
            "541:\tlearn: 0.3427728\ttotal: 1.27s\tremaining: 1.08s\n",
            "542:\tlearn: 0.3426949\ttotal: 1.28s\tremaining: 1.07s\n",
            "543:\tlearn: 0.3425846\ttotal: 1.28s\tremaining: 1.07s\n",
            "544:\tlearn: 0.3425708\ttotal: 1.28s\tremaining: 1.07s\n",
            "545:\tlearn: 0.3424831\ttotal: 1.28s\tremaining: 1.07s\n",
            "546:\tlearn: 0.3423518\ttotal: 1.28s\tremaining: 1.06s\n",
            "547:\tlearn: 0.3422572\ttotal: 1.29s\tremaining: 1.06s\n",
            "548:\tlearn: 0.3420109\ttotal: 1.29s\tremaining: 1.06s\n",
            "549:\tlearn: 0.3419637\ttotal: 1.29s\tremaining: 1.06s\n",
            "550:\tlearn: 0.3419279\ttotal: 1.29s\tremaining: 1.05s\n",
            "551:\tlearn: 0.3417964\ttotal: 1.3s\tremaining: 1.05s\n",
            "552:\tlearn: 0.3417219\ttotal: 1.3s\tremaining: 1.05s\n",
            "553:\tlearn: 0.3414272\ttotal: 1.3s\tremaining: 1.05s\n",
            "554:\tlearn: 0.3413860\ttotal: 1.3s\tremaining: 1.04s\n",
            "555:\tlearn: 0.3413858\ttotal: 1.3s\tremaining: 1.04s\n",
            "556:\tlearn: 0.3413422\ttotal: 1.31s\tremaining: 1.04s\n",
            "557:\tlearn: 0.3412176\ttotal: 1.31s\tremaining: 1.04s\n",
            "558:\tlearn: 0.3411976\ttotal: 1.31s\tremaining: 1.03s\n",
            "559:\tlearn: 0.3411238\ttotal: 1.31s\tremaining: 1.03s\n",
            "560:\tlearn: 0.3409441\ttotal: 1.31s\tremaining: 1.03s\n",
            "561:\tlearn: 0.3408346\ttotal: 1.32s\tremaining: 1.03s\n",
            "562:\tlearn: 0.3407904\ttotal: 1.32s\tremaining: 1.02s\n",
            "563:\tlearn: 0.3407263\ttotal: 1.32s\tremaining: 1.02s\n",
            "564:\tlearn: 0.3406677\ttotal: 1.32s\tremaining: 1.02s\n",
            "565:\tlearn: 0.3405864\ttotal: 1.33s\tremaining: 1.02s\n",
            "566:\tlearn: 0.3405039\ttotal: 1.33s\tremaining: 1.01s\n",
            "567:\tlearn: 0.3404211\ttotal: 1.33s\tremaining: 1.01s\n",
            "568:\tlearn: 0.3403118\ttotal: 1.33s\tremaining: 1.01s\n",
            "569:\tlearn: 0.3402934\ttotal: 1.33s\tremaining: 1.01s\n",
            "570:\tlearn: 0.3402045\ttotal: 1.34s\tremaining: 1s\n",
            "571:\tlearn: 0.3401494\ttotal: 1.34s\tremaining: 1s\n",
            "572:\tlearn: 0.3400710\ttotal: 1.34s\tremaining: 1s\n",
            "573:\tlearn: 0.3399806\ttotal: 1.34s\tremaining: 998ms\n",
            "574:\tlearn: 0.3399458\ttotal: 1.35s\tremaining: 996ms\n",
            "575:\tlearn: 0.3396874\ttotal: 1.35s\tremaining: 994ms\n",
            "576:\tlearn: 0.3396774\ttotal: 1.35s\tremaining: 990ms\n",
            "577:\tlearn: 0.3394494\ttotal: 1.35s\tremaining: 988ms\n",
            "578:\tlearn: 0.3393905\ttotal: 1.35s\tremaining: 986ms\n",
            "579:\tlearn: 0.3393903\ttotal: 1.36s\tremaining: 983ms\n",
            "580:\tlearn: 0.3392912\ttotal: 1.36s\tremaining: 980ms\n",
            "581:\tlearn: 0.3391337\ttotal: 1.36s\tremaining: 978ms\n",
            "582:\tlearn: 0.3390880\ttotal: 1.36s\tremaining: 976ms\n",
            "583:\tlearn: 0.3389762\ttotal: 1.37s\tremaining: 973ms\n",
            "584:\tlearn: 0.3387783\ttotal: 1.37s\tremaining: 972ms\n",
            "585:\tlearn: 0.3387284\ttotal: 1.37s\tremaining: 970ms\n",
            "586:\tlearn: 0.3386841\ttotal: 1.38s\tremaining: 968ms\n",
            "587:\tlearn: 0.3385944\ttotal: 1.38s\tremaining: 965ms\n",
            "588:\tlearn: 0.3385400\ttotal: 1.38s\tremaining: 963ms\n",
            "589:\tlearn: 0.3385067\ttotal: 1.38s\tremaining: 961ms\n",
            "590:\tlearn: 0.3384026\ttotal: 1.38s\tremaining: 958ms\n",
            "591:\tlearn: 0.3383847\ttotal: 1.39s\tremaining: 955ms\n",
            "592:\tlearn: 0.3383546\ttotal: 1.39s\tremaining: 952ms\n",
            "593:\tlearn: 0.3383189\ttotal: 1.39s\tremaining: 949ms\n",
            "594:\tlearn: 0.3382136\ttotal: 1.39s\tremaining: 947ms\n",
            "595:\tlearn: 0.3381934\ttotal: 1.39s\tremaining: 945ms\n",
            "596:\tlearn: 0.3381139\ttotal: 1.4s\tremaining: 943ms\n",
            "597:\tlearn: 0.3380964\ttotal: 1.4s\tremaining: 939ms\n",
            "598:\tlearn: 0.3379952\ttotal: 1.4s\tremaining: 937ms\n",
            "599:\tlearn: 0.3378975\ttotal: 1.4s\tremaining: 935ms\n",
            "600:\tlearn: 0.3378804\ttotal: 1.4s\tremaining: 932ms\n",
            "601:\tlearn: 0.3378366\ttotal: 1.41s\tremaining: 929ms\n",
            "602:\tlearn: 0.3378346\ttotal: 1.41s\tremaining: 926ms\n",
            "603:\tlearn: 0.3377023\ttotal: 1.41s\tremaining: 924ms\n",
            "604:\tlearn: 0.3375642\ttotal: 1.41s\tremaining: 922ms\n",
            "605:\tlearn: 0.3374630\ttotal: 1.41s\tremaining: 919ms\n",
            "606:\tlearn: 0.3374467\ttotal: 1.42s\tremaining: 917ms\n",
            "607:\tlearn: 0.3374467\ttotal: 1.42s\tremaining: 914ms\n",
            "608:\tlearn: 0.3373326\ttotal: 1.42s\tremaining: 912ms\n",
            "609:\tlearn: 0.3372533\ttotal: 1.42s\tremaining: 909ms\n",
            "610:\tlearn: 0.3371507\ttotal: 1.42s\tremaining: 907ms\n",
            "611:\tlearn: 0.3370623\ttotal: 1.43s\tremaining: 905ms\n",
            "612:\tlearn: 0.3369155\ttotal: 1.43s\tremaining: 902ms\n",
            "613:\tlearn: 0.3367561\ttotal: 1.43s\tremaining: 900ms\n",
            "614:\tlearn: 0.3366829\ttotal: 1.43s\tremaining: 898ms\n",
            "615:\tlearn: 0.3365664\ttotal: 1.44s\tremaining: 896ms\n",
            "616:\tlearn: 0.3364997\ttotal: 1.44s\tremaining: 893ms\n",
            "617:\tlearn: 0.3364402\ttotal: 1.45s\tremaining: 895ms\n",
            "618:\tlearn: 0.3362651\ttotal: 1.45s\tremaining: 894ms\n",
            "619:\tlearn: 0.3361245\ttotal: 1.45s\tremaining: 892ms\n",
            "620:\tlearn: 0.3360362\ttotal: 1.46s\tremaining: 889ms\n",
            "621:\tlearn: 0.3359747\ttotal: 1.46s\tremaining: 887ms\n",
            "622:\tlearn: 0.3358697\ttotal: 1.46s\tremaining: 885ms\n",
            "623:\tlearn: 0.3357220\ttotal: 1.46s\tremaining: 882ms\n",
            "624:\tlearn: 0.3354610\ttotal: 1.47s\tremaining: 882ms\n",
            "625:\tlearn: 0.3353476\ttotal: 1.47s\tremaining: 880ms\n",
            "626:\tlearn: 0.3353173\ttotal: 1.48s\tremaining: 878ms\n",
            "627:\tlearn: 0.3351653\ttotal: 1.48s\tremaining: 875ms\n",
            "628:\tlearn: 0.3351492\ttotal: 1.48s\tremaining: 872ms\n",
            "629:\tlearn: 0.3349377\ttotal: 1.48s\tremaining: 870ms\n",
            "630:\tlearn: 0.3349064\ttotal: 1.48s\tremaining: 867ms\n",
            "631:\tlearn: 0.3347359\ttotal: 1.49s\tremaining: 865ms\n",
            "632:\tlearn: 0.3347067\ttotal: 1.49s\tremaining: 862ms\n",
            "633:\tlearn: 0.3346774\ttotal: 1.49s\tremaining: 860ms\n",
            "634:\tlearn: 0.3346153\ttotal: 1.49s\tremaining: 857ms\n",
            "635:\tlearn: 0.3345323\ttotal: 1.49s\tremaining: 855ms\n",
            "636:\tlearn: 0.3344749\ttotal: 1.5s\tremaining: 853ms\n",
            "637:\tlearn: 0.3343883\ttotal: 1.5s\tremaining: 851ms\n",
            "638:\tlearn: 0.3343685\ttotal: 1.5s\tremaining: 848ms\n",
            "639:\tlearn: 0.3342950\ttotal: 1.5s\tremaining: 846ms\n",
            "640:\tlearn: 0.3342802\ttotal: 1.5s\tremaining: 843ms\n",
            "641:\tlearn: 0.3342386\ttotal: 1.51s\tremaining: 841ms\n",
            "642:\tlearn: 0.3341373\ttotal: 1.51s\tremaining: 838ms\n",
            "643:\tlearn: 0.3340787\ttotal: 1.51s\tremaining: 836ms\n",
            "644:\tlearn: 0.3340234\ttotal: 1.51s\tremaining: 834ms\n",
            "645:\tlearn: 0.3339591\ttotal: 1.52s\tremaining: 831ms\n",
            "646:\tlearn: 0.3339559\ttotal: 1.52s\tremaining: 829ms\n",
            "647:\tlearn: 0.3339002\ttotal: 1.52s\tremaining: 826ms\n",
            "648:\tlearn: 0.3338859\ttotal: 1.52s\tremaining: 823ms\n",
            "649:\tlearn: 0.3338477\ttotal: 1.52s\tremaining: 821ms\n",
            "650:\tlearn: 0.3336856\ttotal: 1.53s\tremaining: 819ms\n",
            "651:\tlearn: 0.3335677\ttotal: 1.53s\tremaining: 816ms\n",
            "652:\tlearn: 0.3335423\ttotal: 1.53s\tremaining: 814ms\n",
            "653:\tlearn: 0.3335165\ttotal: 1.53s\tremaining: 812ms\n",
            "654:\tlearn: 0.3333709\ttotal: 1.54s\tremaining: 810ms\n",
            "655:\tlearn: 0.3332763\ttotal: 1.54s\tremaining: 807ms\n",
            "656:\tlearn: 0.3331561\ttotal: 1.54s\tremaining: 805ms\n",
            "657:\tlearn: 0.3330048\ttotal: 1.54s\tremaining: 803ms\n",
            "658:\tlearn: 0.3328492\ttotal: 1.55s\tremaining: 801ms\n",
            "659:\tlearn: 0.3327253\ttotal: 1.55s\tremaining: 799ms\n",
            "660:\tlearn: 0.3326454\ttotal: 1.55s\tremaining: 797ms\n",
            "661:\tlearn: 0.3325623\ttotal: 1.56s\tremaining: 795ms\n",
            "662:\tlearn: 0.3325348\ttotal: 1.56s\tremaining: 792ms\n",
            "663:\tlearn: 0.3325007\ttotal: 1.56s\tremaining: 790ms\n",
            "664:\tlearn: 0.3324492\ttotal: 1.56s\tremaining: 789ms\n",
            "665:\tlearn: 0.3323585\ttotal: 1.57s\tremaining: 786ms\n",
            "666:\tlearn: 0.3322375\ttotal: 1.57s\tremaining: 784ms\n",
            "667:\tlearn: 0.3322375\ttotal: 1.57s\tremaining: 781ms\n",
            "668:\tlearn: 0.3321897\ttotal: 1.57s\tremaining: 778ms\n",
            "669:\tlearn: 0.3321358\ttotal: 1.57s\tremaining: 776ms\n",
            "670:\tlearn: 0.3321074\ttotal: 1.58s\tremaining: 774ms\n",
            "671:\tlearn: 0.3320818\ttotal: 1.58s\tremaining: 772ms\n",
            "672:\tlearn: 0.3320009\ttotal: 1.58s\tremaining: 769ms\n",
            "673:\tlearn: 0.3319991\ttotal: 1.58s\tremaining: 766ms\n",
            "674:\tlearn: 0.3319991\ttotal: 1.58s\tremaining: 763ms\n",
            "675:\tlearn: 0.3319062\ttotal: 1.59s\tremaining: 761ms\n",
            "676:\tlearn: 0.3316957\ttotal: 1.59s\tremaining: 759ms\n",
            "677:\tlearn: 0.3316957\ttotal: 1.59s\tremaining: 756ms\n",
            "678:\tlearn: 0.3315693\ttotal: 1.6s\tremaining: 755ms\n",
            "679:\tlearn: 0.3315495\ttotal: 1.6s\tremaining: 753ms\n",
            "680:\tlearn: 0.3315141\ttotal: 1.6s\tremaining: 750ms\n",
            "681:\tlearn: 0.3314769\ttotal: 1.6s\tremaining: 748ms\n",
            "682:\tlearn: 0.3314638\ttotal: 1.6s\tremaining: 745ms\n",
            "683:\tlearn: 0.3313840\ttotal: 1.61s\tremaining: 743ms\n",
            "684:\tlearn: 0.3312546\ttotal: 1.61s\tremaining: 741ms\n",
            "685:\tlearn: 0.3311441\ttotal: 1.61s\tremaining: 739ms\n",
            "686:\tlearn: 0.3311310\ttotal: 1.61s\tremaining: 736ms\n",
            "687:\tlearn: 0.3310997\ttotal: 1.62s\tremaining: 733ms\n",
            "688:\tlearn: 0.3310732\ttotal: 1.62s\tremaining: 731ms\n",
            "689:\tlearn: 0.3310124\ttotal: 1.62s\tremaining: 728ms\n",
            "690:\tlearn: 0.3309982\ttotal: 1.62s\tremaining: 726ms\n",
            "691:\tlearn: 0.3309867\ttotal: 1.63s\tremaining: 723ms\n",
            "692:\tlearn: 0.3309715\ttotal: 1.63s\tremaining: 721ms\n",
            "693:\tlearn: 0.3309715\ttotal: 1.63s\tremaining: 718ms\n",
            "694:\tlearn: 0.3308964\ttotal: 1.63s\tremaining: 716ms\n",
            "695:\tlearn: 0.3307975\ttotal: 1.63s\tremaining: 713ms\n",
            "696:\tlearn: 0.3307494\ttotal: 1.64s\tremaining: 711ms\n",
            "697:\tlearn: 0.3306515\ttotal: 1.64s\tremaining: 709ms\n",
            "698:\tlearn: 0.3306104\ttotal: 1.64s\tremaining: 707ms\n",
            "699:\tlearn: 0.3304943\ttotal: 1.64s\tremaining: 704ms\n",
            "700:\tlearn: 0.3303964\ttotal: 1.65s\tremaining: 702ms\n",
            "701:\tlearn: 0.3303823\ttotal: 1.65s\tremaining: 700ms\n",
            "702:\tlearn: 0.3303295\ttotal: 1.65s\tremaining: 698ms\n",
            "703:\tlearn: 0.3302096\ttotal: 1.65s\tremaining: 696ms\n",
            "704:\tlearn: 0.3301444\ttotal: 1.66s\tremaining: 693ms\n",
            "705:\tlearn: 0.3301245\ttotal: 1.66s\tremaining: 691ms\n",
            "706:\tlearn: 0.3301245\ttotal: 1.66s\tremaining: 688ms\n",
            "707:\tlearn: 0.3301244\ttotal: 1.66s\tremaining: 686ms\n",
            "708:\tlearn: 0.3301165\ttotal: 1.66s\tremaining: 683ms\n",
            "709:\tlearn: 0.3300905\ttotal: 1.67s\tremaining: 681ms\n",
            "710:\tlearn: 0.3300905\ttotal: 1.67s\tremaining: 678ms\n",
            "711:\tlearn: 0.3300079\ttotal: 1.67s\tremaining: 676ms\n",
            "712:\tlearn: 0.3299958\ttotal: 1.67s\tremaining: 673ms\n",
            "713:\tlearn: 0.3299830\ttotal: 1.67s\tremaining: 670ms\n",
            "714:\tlearn: 0.3299712\ttotal: 1.67s\tremaining: 667ms\n",
            "715:\tlearn: 0.3298980\ttotal: 1.68s\tremaining: 665ms\n",
            "716:\tlearn: 0.3297012\ttotal: 1.68s\tremaining: 663ms\n",
            "717:\tlearn: 0.3296770\ttotal: 1.68s\tremaining: 660ms\n",
            "718:\tlearn: 0.3295887\ttotal: 1.68s\tremaining: 658ms\n",
            "719:\tlearn: 0.3295887\ttotal: 1.68s\tremaining: 655ms\n",
            "720:\tlearn: 0.3295272\ttotal: 1.69s\tremaining: 653ms\n",
            "721:\tlearn: 0.3294193\ttotal: 1.69s\tremaining: 650ms\n",
            "722:\tlearn: 0.3292547\ttotal: 1.69s\tremaining: 648ms\n",
            "723:\tlearn: 0.3291829\ttotal: 1.69s\tremaining: 646ms\n",
            "724:\tlearn: 0.3291157\ttotal: 1.7s\tremaining: 644ms\n",
            "725:\tlearn: 0.3290453\ttotal: 1.7s\tremaining: 641ms\n",
            "726:\tlearn: 0.3290387\ttotal: 1.7s\tremaining: 639ms\n",
            "727:\tlearn: 0.3289874\ttotal: 1.7s\tremaining: 637ms\n",
            "728:\tlearn: 0.3289158\ttotal: 1.71s\tremaining: 635ms\n",
            "729:\tlearn: 0.3288318\ttotal: 1.71s\tremaining: 632ms\n",
            "730:\tlearn: 0.3287162\ttotal: 1.71s\tremaining: 630ms\n",
            "731:\tlearn: 0.3285615\ttotal: 1.71s\tremaining: 628ms\n",
            "732:\tlearn: 0.3285615\ttotal: 1.72s\tremaining: 625ms\n",
            "733:\tlearn: 0.3283569\ttotal: 1.72s\tremaining: 623ms\n",
            "734:\tlearn: 0.3282889\ttotal: 1.72s\tremaining: 620ms\n",
            "735:\tlearn: 0.3282699\ttotal: 1.72s\tremaining: 618ms\n",
            "736:\tlearn: 0.3281765\ttotal: 1.73s\tremaining: 616ms\n",
            "737:\tlearn: 0.3280850\ttotal: 1.73s\tremaining: 614ms\n",
            "738:\tlearn: 0.3280066\ttotal: 1.73s\tremaining: 611ms\n",
            "739:\tlearn: 0.3279109\ttotal: 1.73s\tremaining: 609ms\n",
            "740:\tlearn: 0.3278874\ttotal: 1.74s\tremaining: 607ms\n",
            "741:\tlearn: 0.3278176\ttotal: 1.74s\tremaining: 605ms\n",
            "742:\tlearn: 0.3277600\ttotal: 1.74s\tremaining: 602ms\n",
            "743:\tlearn: 0.3277074\ttotal: 1.74s\tremaining: 600ms\n",
            "744:\tlearn: 0.3276656\ttotal: 1.75s\tremaining: 598ms\n",
            "745:\tlearn: 0.3276553\ttotal: 1.75s\tremaining: 595ms\n",
            "746:\tlearn: 0.3274768\ttotal: 1.75s\tremaining: 592ms\n",
            "747:\tlearn: 0.3273378\ttotal: 1.75s\tremaining: 590ms\n",
            "748:\tlearn: 0.3272603\ttotal: 1.75s\tremaining: 588ms\n",
            "749:\tlearn: 0.3270848\ttotal: 1.76s\tremaining: 586ms\n",
            "750:\tlearn: 0.3270195\ttotal: 1.76s\tremaining: 584ms\n",
            "751:\tlearn: 0.3270095\ttotal: 1.76s\tremaining: 582ms\n",
            "752:\tlearn: 0.3269963\ttotal: 1.77s\tremaining: 580ms\n",
            "753:\tlearn: 0.3268825\ttotal: 1.77s\tremaining: 577ms\n",
            "754:\tlearn: 0.3268727\ttotal: 1.77s\tremaining: 575ms\n",
            "755:\tlearn: 0.3266297\ttotal: 1.77s\tremaining: 573ms\n",
            "756:\tlearn: 0.3265059\ttotal: 1.78s\tremaining: 570ms\n",
            "757:\tlearn: 0.3264294\ttotal: 1.78s\tremaining: 568ms\n",
            "758:\tlearn: 0.3262777\ttotal: 1.78s\tremaining: 566ms\n",
            "759:\tlearn: 0.3262586\ttotal: 1.78s\tremaining: 564ms\n",
            "760:\tlearn: 0.3262559\ttotal: 1.79s\tremaining: 561ms\n",
            "761:\tlearn: 0.3261647\ttotal: 1.79s\tremaining: 559ms\n",
            "762:\tlearn: 0.3260914\ttotal: 1.79s\tremaining: 557ms\n",
            "763:\tlearn: 0.3260341\ttotal: 1.79s\tremaining: 554ms\n",
            "764:\tlearn: 0.3260341\ttotal: 1.79s\tremaining: 552ms\n",
            "765:\tlearn: 0.3259897\ttotal: 1.8s\tremaining: 549ms\n",
            "766:\tlearn: 0.3257979\ttotal: 1.8s\tremaining: 547ms\n",
            "767:\tlearn: 0.3256662\ttotal: 1.8s\tremaining: 545ms\n",
            "768:\tlearn: 0.3255430\ttotal: 1.81s\tremaining: 543ms\n",
            "769:\tlearn: 0.3255426\ttotal: 1.81s\tremaining: 540ms\n",
            "770:\tlearn: 0.3254607\ttotal: 1.81s\tremaining: 538ms\n",
            "771:\tlearn: 0.3253688\ttotal: 1.81s\tremaining: 536ms\n",
            "772:\tlearn: 0.3253688\ttotal: 1.81s\tremaining: 533ms\n",
            "773:\tlearn: 0.3252939\ttotal: 1.82s\tremaining: 531ms\n",
            "774:\tlearn: 0.3252104\ttotal: 1.82s\tremaining: 529ms\n",
            "775:\tlearn: 0.3251383\ttotal: 1.83s\tremaining: 527ms\n",
            "776:\tlearn: 0.3250816\ttotal: 1.83s\tremaining: 525ms\n",
            "777:\tlearn: 0.3248881\ttotal: 1.83s\tremaining: 523ms\n",
            "778:\tlearn: 0.3248831\ttotal: 1.83s\tremaining: 520ms\n",
            "779:\tlearn: 0.3248831\ttotal: 1.83s\tremaining: 518ms\n",
            "780:\tlearn: 0.3247565\ttotal: 1.84s\tremaining: 516ms\n",
            "781:\tlearn: 0.3246740\ttotal: 1.84s\tremaining: 514ms\n",
            "782:\tlearn: 0.3246380\ttotal: 1.85s\tremaining: 512ms\n",
            "783:\tlearn: 0.3245224\ttotal: 1.85s\tremaining: 509ms\n",
            "784:\tlearn: 0.3244419\ttotal: 1.85s\tremaining: 508ms\n",
            "785:\tlearn: 0.3244419\ttotal: 1.85s\tremaining: 505ms\n",
            "786:\tlearn: 0.3243792\ttotal: 1.86s\tremaining: 503ms\n",
            "787:\tlearn: 0.3242238\ttotal: 1.86s\tremaining: 501ms\n",
            "788:\tlearn: 0.3242177\ttotal: 1.86s\tremaining: 498ms\n",
            "789:\tlearn: 0.3241287\ttotal: 1.87s\tremaining: 496ms\n",
            "790:\tlearn: 0.3240245\ttotal: 1.87s\tremaining: 494ms\n",
            "791:\tlearn: 0.3238796\ttotal: 1.87s\tremaining: 492ms\n",
            "792:\tlearn: 0.3238711\ttotal: 1.87s\tremaining: 489ms\n",
            "793:\tlearn: 0.3238571\ttotal: 1.88s\tremaining: 487ms\n",
            "794:\tlearn: 0.3237678\ttotal: 1.88s\tremaining: 484ms\n",
            "795:\tlearn: 0.3236379\ttotal: 1.88s\tremaining: 482ms\n",
            "796:\tlearn: 0.3234546\ttotal: 1.88s\tremaining: 480ms\n",
            "797:\tlearn: 0.3234443\ttotal: 1.89s\tremaining: 478ms\n",
            "798:\tlearn: 0.3233907\ttotal: 1.89s\tremaining: 475ms\n",
            "799:\tlearn: 0.3232851\ttotal: 1.89s\tremaining: 473ms\n",
            "800:\tlearn: 0.3231814\ttotal: 1.9s\tremaining: 471ms\n",
            "801:\tlearn: 0.3231651\ttotal: 1.9s\tremaining: 469ms\n",
            "802:\tlearn: 0.3230365\ttotal: 1.9s\tremaining: 466ms\n",
            "803:\tlearn: 0.3229767\ttotal: 1.9s\tremaining: 464ms\n",
            "804:\tlearn: 0.3228890\ttotal: 1.91s\tremaining: 462ms\n",
            "805:\tlearn: 0.3227463\ttotal: 1.91s\tremaining: 460ms\n",
            "806:\tlearn: 0.3226996\ttotal: 1.91s\tremaining: 457ms\n",
            "807:\tlearn: 0.3226046\ttotal: 1.92s\tremaining: 455ms\n",
            "808:\tlearn: 0.3225618\ttotal: 1.92s\tremaining: 453ms\n",
            "809:\tlearn: 0.3225520\ttotal: 1.92s\tremaining: 450ms\n",
            "810:\tlearn: 0.3224946\ttotal: 1.92s\tremaining: 448ms\n",
            "811:\tlearn: 0.3224126\ttotal: 1.93s\tremaining: 446ms\n",
            "812:\tlearn: 0.3223074\ttotal: 1.93s\tremaining: 443ms\n",
            "813:\tlearn: 0.3221899\ttotal: 1.93s\tremaining: 441ms\n",
            "814:\tlearn: 0.3220499\ttotal: 1.93s\tremaining: 439ms\n",
            "815:\tlearn: 0.3219555\ttotal: 1.94s\tremaining: 436ms\n",
            "816:\tlearn: 0.3219450\ttotal: 1.94s\tremaining: 434ms\n",
            "817:\tlearn: 0.3218534\ttotal: 1.94s\tremaining: 432ms\n",
            "818:\tlearn: 0.3218242\ttotal: 1.94s\tremaining: 429ms\n",
            "819:\tlearn: 0.3217003\ttotal: 1.95s\tremaining: 427ms\n",
            "820:\tlearn: 0.3216932\ttotal: 1.95s\tremaining: 424ms\n",
            "821:\tlearn: 0.3216326\ttotal: 1.95s\tremaining: 422ms\n",
            "822:\tlearn: 0.3215542\ttotal: 1.95s\tremaining: 420ms\n",
            "823:\tlearn: 0.3215161\ttotal: 1.96s\tremaining: 418ms\n",
            "824:\tlearn: 0.3213443\ttotal: 1.96s\tremaining: 416ms\n",
            "825:\tlearn: 0.3213202\ttotal: 1.96s\tremaining: 413ms\n",
            "826:\tlearn: 0.3212755\ttotal: 1.96s\tremaining: 411ms\n",
            "827:\tlearn: 0.3212613\ttotal: 1.97s\tremaining: 408ms\n",
            "828:\tlearn: 0.3212428\ttotal: 1.97s\tremaining: 406ms\n",
            "829:\tlearn: 0.3211169\ttotal: 1.97s\tremaining: 404ms\n",
            "830:\tlearn: 0.3209814\ttotal: 1.97s\tremaining: 401ms\n",
            "831:\tlearn: 0.3209185\ttotal: 1.98s\tremaining: 399ms\n",
            "832:\tlearn: 0.3207627\ttotal: 1.98s\tremaining: 397ms\n",
            "833:\tlearn: 0.3206350\ttotal: 1.98s\tremaining: 394ms\n",
            "834:\tlearn: 0.3205636\ttotal: 1.98s\tremaining: 392ms\n",
            "835:\tlearn: 0.3205238\ttotal: 1.99s\tremaining: 390ms\n",
            "836:\tlearn: 0.3204457\ttotal: 1.99s\tremaining: 387ms\n",
            "837:\tlearn: 0.3203344\ttotal: 1.99s\tremaining: 385ms\n",
            "838:\tlearn: 0.3201897\ttotal: 1.99s\tremaining: 382ms\n",
            "839:\tlearn: 0.3201485\ttotal: 2s\tremaining: 380ms\n",
            "840:\tlearn: 0.3201003\ttotal: 2s\tremaining: 378ms\n",
            "841:\tlearn: 0.3200225\ttotal: 2s\tremaining: 375ms\n",
            "842:\tlearn: 0.3199524\ttotal: 2s\tremaining: 373ms\n",
            "843:\tlearn: 0.3199524\ttotal: 2s\tremaining: 370ms\n",
            "844:\tlearn: 0.3198874\ttotal: 2s\tremaining: 368ms\n",
            "845:\tlearn: 0.3196209\ttotal: 2.01s\tremaining: 366ms\n",
            "846:\tlearn: 0.3195104\ttotal: 2.01s\tremaining: 363ms\n",
            "847:\tlearn: 0.3193915\ttotal: 2.01s\tremaining: 361ms\n",
            "848:\tlearn: 0.3193605\ttotal: 2.01s\tremaining: 358ms\n",
            "849:\tlearn: 0.3193515\ttotal: 2.02s\tremaining: 356ms\n",
            "850:\tlearn: 0.3193424\ttotal: 2.02s\tremaining: 353ms\n",
            "851:\tlearn: 0.3192777\ttotal: 2.02s\tremaining: 351ms\n",
            "852:\tlearn: 0.3192411\ttotal: 2.02s\tremaining: 349ms\n",
            "853:\tlearn: 0.3191371\ttotal: 2.02s\tremaining: 346ms\n",
            "854:\tlearn: 0.3190892\ttotal: 2.03s\tremaining: 344ms\n",
            "855:\tlearn: 0.3190618\ttotal: 2.03s\tremaining: 341ms\n",
            "856:\tlearn: 0.3189724\ttotal: 2.03s\tremaining: 339ms\n",
            "857:\tlearn: 0.3189235\ttotal: 2.03s\tremaining: 337ms\n",
            "858:\tlearn: 0.3188276\ttotal: 2.04s\tremaining: 334ms\n",
            "859:\tlearn: 0.3187490\ttotal: 2.04s\tremaining: 332ms\n",
            "860:\tlearn: 0.3187015\ttotal: 2.04s\tremaining: 330ms\n",
            "861:\tlearn: 0.3185409\ttotal: 2.04s\tremaining: 327ms\n",
            "862:\tlearn: 0.3184806\ttotal: 2.05s\tremaining: 326ms\n",
            "863:\tlearn: 0.3184504\ttotal: 2.05s\tremaining: 323ms\n",
            "864:\tlearn: 0.3183873\ttotal: 2.06s\tremaining: 321ms\n",
            "865:\tlearn: 0.3182631\ttotal: 2.06s\tremaining: 319ms\n",
            "866:\tlearn: 0.3182576\ttotal: 2.06s\tremaining: 316ms\n",
            "867:\tlearn: 0.3182184\ttotal: 2.06s\tremaining: 314ms\n",
            "868:\tlearn: 0.3181642\ttotal: 2.06s\tremaining: 311ms\n",
            "869:\tlearn: 0.3180790\ttotal: 2.07s\tremaining: 309ms\n",
            "870:\tlearn: 0.3178860\ttotal: 2.07s\tremaining: 307ms\n",
            "871:\tlearn: 0.3178489\ttotal: 2.07s\tremaining: 304ms\n",
            "872:\tlearn: 0.3176804\ttotal: 2.08s\tremaining: 302ms\n",
            "873:\tlearn: 0.3176613\ttotal: 2.08s\tremaining: 299ms\n",
            "874:\tlearn: 0.3173840\ttotal: 2.08s\tremaining: 297ms\n",
            "875:\tlearn: 0.3173647\ttotal: 2.08s\tremaining: 295ms\n",
            "876:\tlearn: 0.3172833\ttotal: 2.08s\tremaining: 292ms\n",
            "877:\tlearn: 0.3171927\ttotal: 2.09s\tremaining: 290ms\n",
            "878:\tlearn: 0.3170934\ttotal: 2.09s\tremaining: 288ms\n",
            "879:\tlearn: 0.3169965\ttotal: 2.09s\tremaining: 285ms\n",
            "880:\tlearn: 0.3169850\ttotal: 2.1s\tremaining: 283ms\n",
            "881:\tlearn: 0.3169504\ttotal: 2.1s\tremaining: 281ms\n",
            "882:\tlearn: 0.3168311\ttotal: 2.1s\tremaining: 278ms\n",
            "883:\tlearn: 0.3167868\ttotal: 2.1s\tremaining: 276ms\n",
            "884:\tlearn: 0.3167685\ttotal: 2.11s\tremaining: 274ms\n",
            "885:\tlearn: 0.3166370\ttotal: 2.11s\tremaining: 271ms\n",
            "886:\tlearn: 0.3164030\ttotal: 2.11s\tremaining: 269ms\n",
            "887:\tlearn: 0.3162963\ttotal: 2.11s\tremaining: 267ms\n",
            "888:\tlearn: 0.3161564\ttotal: 2.12s\tremaining: 264ms\n",
            "889:\tlearn: 0.3160894\ttotal: 2.12s\tremaining: 262ms\n",
            "890:\tlearn: 0.3160835\ttotal: 2.12s\tremaining: 259ms\n",
            "891:\tlearn: 0.3160270\ttotal: 2.12s\tremaining: 257ms\n",
            "892:\tlearn: 0.3159797\ttotal: 2.13s\tremaining: 255ms\n",
            "893:\tlearn: 0.3159254\ttotal: 2.13s\tremaining: 253ms\n",
            "894:\tlearn: 0.3158354\ttotal: 2.13s\tremaining: 250ms\n",
            "895:\tlearn: 0.3157003\ttotal: 2.14s\tremaining: 248ms\n",
            "896:\tlearn: 0.3156150\ttotal: 2.14s\tremaining: 246ms\n",
            "897:\tlearn: 0.3155503\ttotal: 2.14s\tremaining: 243ms\n",
            "898:\tlearn: 0.3155207\ttotal: 2.14s\tremaining: 241ms\n",
            "899:\tlearn: 0.3155002\ttotal: 2.15s\tremaining: 239ms\n",
            "900:\tlearn: 0.3154861\ttotal: 2.15s\tremaining: 236ms\n",
            "901:\tlearn: 0.3154808\ttotal: 2.15s\tremaining: 234ms\n",
            "902:\tlearn: 0.3154748\ttotal: 2.15s\tremaining: 232ms\n",
            "903:\tlearn: 0.3154108\ttotal: 2.16s\tremaining: 229ms\n",
            "904:\tlearn: 0.3153540\ttotal: 2.16s\tremaining: 227ms\n",
            "905:\tlearn: 0.3153082\ttotal: 2.16s\tremaining: 224ms\n",
            "906:\tlearn: 0.3152308\ttotal: 2.16s\tremaining: 222ms\n",
            "907:\tlearn: 0.3150949\ttotal: 2.17s\tremaining: 220ms\n",
            "908:\tlearn: 0.3150897\ttotal: 2.17s\tremaining: 217ms\n",
            "909:\tlearn: 0.3150558\ttotal: 2.17s\tremaining: 215ms\n",
            "910:\tlearn: 0.3150498\ttotal: 2.17s\tremaining: 212ms\n",
            "911:\tlearn: 0.3150224\ttotal: 2.17s\tremaining: 210ms\n",
            "912:\tlearn: 0.3149157\ttotal: 2.18s\tremaining: 208ms\n",
            "913:\tlearn: 0.3148895\ttotal: 2.18s\tremaining: 205ms\n",
            "914:\tlearn: 0.3147801\ttotal: 2.18s\tremaining: 203ms\n",
            "915:\tlearn: 0.3146783\ttotal: 2.18s\tremaining: 200ms\n",
            "916:\tlearn: 0.3146510\ttotal: 2.19s\tremaining: 198ms\n",
            "917:\tlearn: 0.3145706\ttotal: 2.19s\tremaining: 196ms\n",
            "918:\tlearn: 0.3145418\ttotal: 2.19s\tremaining: 193ms\n",
            "919:\tlearn: 0.3145130\ttotal: 2.19s\tremaining: 191ms\n",
            "920:\tlearn: 0.3143879\ttotal: 2.2s\tremaining: 188ms\n",
            "921:\tlearn: 0.3141910\ttotal: 2.2s\tremaining: 186ms\n",
            "922:\tlearn: 0.3140465\ttotal: 2.2s\tremaining: 184ms\n",
            "923:\tlearn: 0.3139115\ttotal: 2.2s\tremaining: 181ms\n",
            "924:\tlearn: 0.3138749\ttotal: 2.21s\tremaining: 179ms\n",
            "925:\tlearn: 0.3137914\ttotal: 2.21s\tremaining: 176ms\n",
            "926:\tlearn: 0.3137532\ttotal: 2.21s\tremaining: 174ms\n",
            "927:\tlearn: 0.3137045\ttotal: 2.21s\tremaining: 172ms\n",
            "928:\tlearn: 0.3136045\ttotal: 2.22s\tremaining: 169ms\n",
            "929:\tlearn: 0.3135686\ttotal: 2.22s\tremaining: 167ms\n",
            "930:\tlearn: 0.3135287\ttotal: 2.22s\tremaining: 165ms\n",
            "931:\tlearn: 0.3134916\ttotal: 2.22s\tremaining: 162ms\n",
            "932:\tlearn: 0.3134441\ttotal: 2.23s\tremaining: 160ms\n",
            "933:\tlearn: 0.3133959\ttotal: 2.23s\tremaining: 158ms\n",
            "934:\tlearn: 0.3133486\ttotal: 2.23s\tremaining: 155ms\n",
            "935:\tlearn: 0.3133343\ttotal: 2.23s\tremaining: 153ms\n",
            "936:\tlearn: 0.3132676\ttotal: 2.24s\tremaining: 150ms\n",
            "937:\tlearn: 0.3131425\ttotal: 2.24s\tremaining: 148ms\n",
            "938:\tlearn: 0.3130673\ttotal: 2.24s\tremaining: 146ms\n",
            "939:\tlearn: 0.3129953\ttotal: 2.25s\tremaining: 143ms\n",
            "940:\tlearn: 0.3129777\ttotal: 2.25s\tremaining: 141ms\n",
            "941:\tlearn: 0.3129111\ttotal: 2.25s\tremaining: 139ms\n",
            "942:\tlearn: 0.3128095\ttotal: 2.25s\tremaining: 136ms\n",
            "943:\tlearn: 0.3127490\ttotal: 2.26s\tremaining: 134ms\n",
            "944:\tlearn: 0.3126682\ttotal: 2.26s\tremaining: 131ms\n",
            "945:\tlearn: 0.3125442\ttotal: 2.26s\tremaining: 129ms\n",
            "946:\tlearn: 0.3124903\ttotal: 2.26s\tremaining: 127ms\n",
            "947:\tlearn: 0.3123652\ttotal: 2.27s\tremaining: 124ms\n",
            "948:\tlearn: 0.3123265\ttotal: 2.27s\tremaining: 122ms\n",
            "949:\tlearn: 0.3123000\ttotal: 2.27s\tremaining: 120ms\n",
            "950:\tlearn: 0.3122526\ttotal: 2.27s\tremaining: 117ms\n",
            "951:\tlearn: 0.3121902\ttotal: 2.28s\tremaining: 115ms\n",
            "952:\tlearn: 0.3121394\ttotal: 2.28s\tremaining: 112ms\n",
            "953:\tlearn: 0.3120235\ttotal: 2.28s\tremaining: 110ms\n",
            "954:\tlearn: 0.3119744\ttotal: 2.28s\tremaining: 108ms\n",
            "955:\tlearn: 0.3118314\ttotal: 2.29s\tremaining: 105ms\n",
            "956:\tlearn: 0.3117749\ttotal: 2.29s\tremaining: 103ms\n",
            "957:\tlearn: 0.3116476\ttotal: 2.29s\tremaining: 100ms\n",
            "958:\tlearn: 0.3116014\ttotal: 2.29s\tremaining: 98.1ms\n",
            "959:\tlearn: 0.3115318\ttotal: 2.3s\tremaining: 95.7ms\n",
            "960:\tlearn: 0.3114636\ttotal: 2.3s\tremaining: 93.3ms\n",
            "961:\tlearn: 0.3113879\ttotal: 2.3s\tremaining: 90.9ms\n",
            "962:\tlearn: 0.3113384\ttotal: 2.3s\tremaining: 88.5ms\n",
            "963:\tlearn: 0.3112844\ttotal: 2.31s\tremaining: 86.1ms\n",
            "964:\tlearn: 0.3112312\ttotal: 2.31s\tremaining: 83.7ms\n",
            "965:\tlearn: 0.3111478\ttotal: 2.31s\tremaining: 81.3ms\n",
            "966:\tlearn: 0.3110271\ttotal: 2.31s\tremaining: 78.9ms\n",
            "967:\tlearn: 0.3108210\ttotal: 2.31s\tremaining: 76.6ms\n",
            "968:\tlearn: 0.3107678\ttotal: 2.32s\tremaining: 74.2ms\n",
            "969:\tlearn: 0.3107035\ttotal: 2.32s\tremaining: 71.8ms\n",
            "970:\tlearn: 0.3106335\ttotal: 2.32s\tremaining: 69.4ms\n",
            "971:\tlearn: 0.3105633\ttotal: 2.33s\tremaining: 67ms\n",
            "972:\tlearn: 0.3105086\ttotal: 2.33s\tremaining: 64.6ms\n",
            "973:\tlearn: 0.3104753\ttotal: 2.33s\tremaining: 62.2ms\n",
            "974:\tlearn: 0.3102841\ttotal: 2.33s\tremaining: 59.8ms\n",
            "975:\tlearn: 0.3102248\ttotal: 2.34s\tremaining: 57.5ms\n",
            "976:\tlearn: 0.3101803\ttotal: 2.34s\tremaining: 55.1ms\n",
            "977:\tlearn: 0.3101261\ttotal: 2.34s\tremaining: 52.7ms\n",
            "978:\tlearn: 0.3099973\ttotal: 2.35s\tremaining: 50.3ms\n",
            "979:\tlearn: 0.3099407\ttotal: 2.35s\tremaining: 47.9ms\n",
            "980:\tlearn: 0.3099097\ttotal: 2.35s\tremaining: 45.5ms\n",
            "981:\tlearn: 0.3098935\ttotal: 2.35s\tremaining: 43.1ms\n",
            "982:\tlearn: 0.3098307\ttotal: 2.36s\tremaining: 40.8ms\n",
            "983:\tlearn: 0.3097578\ttotal: 2.36s\tremaining: 38.4ms\n",
            "984:\tlearn: 0.3097547\ttotal: 2.36s\tremaining: 36ms\n",
            "985:\tlearn: 0.3097084\ttotal: 2.36s\tremaining: 33.6ms\n",
            "986:\tlearn: 0.3096123\ttotal: 2.37s\tremaining: 31.2ms\n",
            "987:\tlearn: 0.3095566\ttotal: 2.37s\tremaining: 28.8ms\n",
            "988:\tlearn: 0.3094073\ttotal: 2.37s\tremaining: 26.4ms\n",
            "989:\tlearn: 0.3091203\ttotal: 2.37s\tremaining: 24ms\n",
            "990:\tlearn: 0.3088009\ttotal: 2.38s\tremaining: 21.6ms\n",
            "991:\tlearn: 0.3087554\ttotal: 2.38s\tremaining: 19.2ms\n",
            "992:\tlearn: 0.3087429\ttotal: 2.38s\tremaining: 16.8ms\n",
            "993:\tlearn: 0.3086641\ttotal: 2.38s\tremaining: 14.4ms\n",
            "994:\tlearn: 0.3085198\ttotal: 2.38s\tremaining: 12ms\n",
            "995:\tlearn: 0.3084923\ttotal: 2.39s\tremaining: 9.59ms\n",
            "996:\tlearn: 0.3084132\ttotal: 2.39s\tremaining: 7.19ms\n",
            "997:\tlearn: 0.3083724\ttotal: 2.39s\tremaining: 4.79ms\n",
            "998:\tlearn: 0.3082817\ttotal: 2.4s\tremaining: 2.4ms\n",
            "999:\tlearn: 0.3081159\ttotal: 2.4s\tremaining: 0us\n",
            "0:\tlearn: 0.6564248\ttotal: 1.6ms\tremaining: 159ms\n",
            "1:\tlearn: 0.6235466\ttotal: 2.94ms\tremaining: 144ms\n",
            "2:\tlearn: 0.5967789\ttotal: 3.7ms\tremaining: 120ms\n",
            "3:\tlearn: 0.5718377\ttotal: 4.79ms\tremaining: 115ms\n",
            "4:\tlearn: 0.5569697\ttotal: 5.39ms\tremaining: 102ms\n",
            "5:\tlearn: 0.5387473\ttotal: 6.46ms\tremaining: 101ms\n",
            "6:\tlearn: 0.5222220\ttotal: 7.48ms\tremaining: 99.4ms\n",
            "7:\tlearn: 0.5069293\ttotal: 8.46ms\tremaining: 97.3ms\n",
            "8:\tlearn: 0.4965903\ttotal: 9.53ms\tremaining: 96.3ms\n",
            "9:\tlearn: 0.4860914\ttotal: 10.5ms\tremaining: 94.7ms\n",
            "10:\tlearn: 0.4746761\ttotal: 11.5ms\tremaining: 93.3ms\n",
            "11:\tlearn: 0.4658819\ttotal: 12.6ms\tremaining: 92.5ms\n",
            "12:\tlearn: 0.4593983\ttotal: 13.6ms\tremaining: 91.1ms\n",
            "13:\tlearn: 0.4519999\ttotal: 14.7ms\tremaining: 90.6ms\n",
            "14:\tlearn: 0.4463943\ttotal: 15.9ms\tremaining: 90.2ms\n",
            "15:\tlearn: 0.4419222\ttotal: 17ms\tremaining: 89.1ms\n",
            "16:\tlearn: 0.4379415\ttotal: 18ms\tremaining: 87.7ms\n",
            "17:\tlearn: 0.4336711\ttotal: 18.9ms\tremaining: 86.3ms\n",
            "18:\tlearn: 0.4285513\ttotal: 19.9ms\tremaining: 84.8ms\n",
            "19:\tlearn: 0.4253517\ttotal: 21.2ms\tremaining: 84.7ms\n",
            "20:\tlearn: 0.4219031\ttotal: 22.3ms\tremaining: 83.8ms\n",
            "21:\tlearn: 0.4196595\ttotal: 23.2ms\tremaining: 82.2ms\n",
            "22:\tlearn: 0.4173317\ttotal: 25ms\tremaining: 83.7ms\n",
            "23:\tlearn: 0.4155258\ttotal: 26.5ms\tremaining: 83.8ms\n",
            "24:\tlearn: 0.4134062\ttotal: 27.9ms\tremaining: 83.6ms\n",
            "25:\tlearn: 0.4101953\ttotal: 28.8ms\tremaining: 82.1ms\n",
            "26:\tlearn: 0.4087660\ttotal: 29.9ms\tremaining: 80.9ms\n",
            "27:\tlearn: 0.4054308\ttotal: 31ms\tremaining: 79.6ms\n",
            "28:\tlearn: 0.4045534\ttotal: 31.9ms\tremaining: 78.2ms\n",
            "29:\tlearn: 0.4023204\ttotal: 32.9ms\tremaining: 76.7ms\n",
            "30:\tlearn: 0.4003016\ttotal: 33.8ms\tremaining: 75.3ms\n",
            "31:\tlearn: 0.3986698\ttotal: 34.7ms\tremaining: 73.8ms\n",
            "32:\tlearn: 0.3978769\ttotal: 35.7ms\tremaining: 72.5ms\n",
            "33:\tlearn: 0.3968055\ttotal: 36.7ms\tremaining: 71.2ms\n",
            "34:\tlearn: 0.3963304\ttotal: 37.8ms\tremaining: 70.2ms\n",
            "35:\tlearn: 0.3944725\ttotal: 38.8ms\tremaining: 68.9ms\n",
            "36:\tlearn: 0.3934421\ttotal: 39.7ms\tremaining: 67.7ms\n",
            "37:\tlearn: 0.3925104\ttotal: 40.7ms\tremaining: 66.4ms\n",
            "38:\tlearn: 0.3921413\ttotal: 41.6ms\tremaining: 65.1ms\n",
            "39:\tlearn: 0.3917117\ttotal: 42.7ms\tremaining: 64ms\n",
            "40:\tlearn: 0.3909631\ttotal: 43.7ms\tremaining: 62.9ms\n",
            "41:\tlearn: 0.3904600\ttotal: 44.8ms\tremaining: 61.8ms\n",
            "42:\tlearn: 0.3894413\ttotal: 45.8ms\tremaining: 60.7ms\n",
            "43:\tlearn: 0.3886636\ttotal: 46.8ms\tremaining: 59.5ms\n",
            "44:\tlearn: 0.3878602\ttotal: 47.8ms\tremaining: 58.4ms\n",
            "45:\tlearn: 0.3869123\ttotal: 48.7ms\tremaining: 57.2ms\n",
            "46:\tlearn: 0.3860713\ttotal: 49.7ms\tremaining: 56ms\n",
            "47:\tlearn: 0.3854563\ttotal: 50.7ms\tremaining: 54.9ms\n",
            "48:\tlearn: 0.3846330\ttotal: 51.6ms\tremaining: 53.7ms\n",
            "49:\tlearn: 0.3837541\ttotal: 52.6ms\tremaining: 52.6ms\n",
            "50:\tlearn: 0.3818622\ttotal: 53.6ms\tremaining: 51.5ms\n",
            "51:\tlearn: 0.3817548\ttotal: 54.6ms\tremaining: 50.4ms\n",
            "52:\tlearn: 0.3816563\ttotal: 55.4ms\tremaining: 49.1ms\n",
            "53:\tlearn: 0.3812664\ttotal: 56.4ms\tremaining: 48ms\n",
            "54:\tlearn: 0.3807621\ttotal: 57.4ms\tremaining: 47ms\n",
            "55:\tlearn: 0.3801771\ttotal: 58.5ms\tremaining: 46ms\n",
            "56:\tlearn: 0.3796974\ttotal: 59.5ms\tremaining: 44.9ms\n",
            "57:\tlearn: 0.3793721\ttotal: 60.5ms\tremaining: 43.8ms\n",
            "58:\tlearn: 0.3789437\ttotal: 61.4ms\tremaining: 42.7ms\n",
            "59:\tlearn: 0.3789437\ttotal: 61.9ms\tremaining: 41.3ms\n",
            "60:\tlearn: 0.3787440\ttotal: 62.8ms\tremaining: 40.2ms\n",
            "61:\tlearn: 0.3787440\ttotal: 63.3ms\tremaining: 38.8ms\n",
            "62:\tlearn: 0.3777997\ttotal: 64.3ms\tremaining: 37.8ms\n",
            "63:\tlearn: 0.3772813\ttotal: 65.3ms\tremaining: 36.7ms\n",
            "64:\tlearn: 0.3770245\ttotal: 66.3ms\tremaining: 35.7ms\n",
            "65:\tlearn: 0.3769592\ttotal: 68ms\tremaining: 35ms\n",
            "66:\tlearn: 0.3769591\ttotal: 68.7ms\tremaining: 33.8ms\n",
            "67:\tlearn: 0.3761715\ttotal: 70ms\tremaining: 32.9ms\n",
            "68:\tlearn: 0.3756944\ttotal: 71.3ms\tremaining: 32ms\n",
            "69:\tlearn: 0.3750602\ttotal: 72.6ms\tremaining: 31.1ms\n",
            "70:\tlearn: 0.3745445\ttotal: 73.7ms\tremaining: 30.1ms\n",
            "71:\tlearn: 0.3742284\ttotal: 74.7ms\tremaining: 29.1ms\n",
            "72:\tlearn: 0.3736856\ttotal: 75.8ms\tremaining: 28ms\n",
            "73:\tlearn: 0.3735966\ttotal: 76.9ms\tremaining: 27ms\n",
            "74:\tlearn: 0.3732627\ttotal: 77.9ms\tremaining: 26ms\n",
            "75:\tlearn: 0.3727277\ttotal: 79ms\tremaining: 24.9ms\n",
            "76:\tlearn: 0.3725387\ttotal: 80.1ms\tremaining: 23.9ms\n",
            "77:\tlearn: 0.3723635\ttotal: 81.1ms\tremaining: 22.9ms\n",
            "78:\tlearn: 0.3721204\ttotal: 82.3ms\tremaining: 21.9ms\n",
            "79:\tlearn: 0.3714741\ttotal: 83.9ms\tremaining: 21ms\n",
            "80:\tlearn: 0.3714000\ttotal: 85.1ms\tremaining: 20ms\n",
            "81:\tlearn: 0.3711319\ttotal: 88.4ms\tremaining: 19.4ms\n",
            "82:\tlearn: 0.3706479\ttotal: 89.7ms\tremaining: 18.4ms\n",
            "83:\tlearn: 0.3703753\ttotal: 90.9ms\tremaining: 17.3ms\n",
            "84:\tlearn: 0.3693057\ttotal: 92ms\tremaining: 16.2ms\n",
            "85:\tlearn: 0.3690046\ttotal: 93.2ms\tremaining: 15.2ms\n",
            "86:\tlearn: 0.3687394\ttotal: 94.2ms\tremaining: 14.1ms\n",
            "87:\tlearn: 0.3686687\ttotal: 95.2ms\tremaining: 13ms\n",
            "88:\tlearn: 0.3684587\ttotal: 96.3ms\tremaining: 11.9ms\n",
            "89:\tlearn: 0.3682799\ttotal: 97.4ms\tremaining: 10.8ms\n",
            "90:\tlearn: 0.3676636\ttotal: 98.5ms\tremaining: 9.74ms\n",
            "91:\tlearn: 0.3674417\ttotal: 99.7ms\tremaining: 8.67ms\n",
            "92:\tlearn: 0.3673436\ttotal: 101ms\tremaining: 7.59ms\n",
            "93:\tlearn: 0.3673100\ttotal: 102ms\tremaining: 6.5ms\n",
            "94:\tlearn: 0.3672701\ttotal: 103ms\tremaining: 5.42ms\n",
            "95:\tlearn: 0.3671870\ttotal: 104ms\tremaining: 4.34ms\n",
            "96:\tlearn: 0.3670954\ttotal: 105ms\tremaining: 3.25ms\n",
            "97:\tlearn: 0.3667003\ttotal: 106ms\tremaining: 2.17ms\n",
            "98:\tlearn: 0.3663208\ttotal: 107ms\tremaining: 1.08ms\n",
            "99:\tlearn: 0.3657016\ttotal: 108ms\tremaining: 0us\n",
            "0:\tlearn: 0.6598276\ttotal: 1.05ms\tremaining: 104ms\n",
            "1:\tlearn: 0.6268758\ttotal: 2.13ms\tremaining: 104ms\n",
            "2:\tlearn: 0.6000058\ttotal: 2.77ms\tremaining: 89.6ms\n",
            "3:\tlearn: 0.5752116\ttotal: 3.81ms\tremaining: 91.6ms\n",
            "4:\tlearn: 0.5601594\ttotal: 4.31ms\tremaining: 81.8ms\n",
            "5:\tlearn: 0.5423953\ttotal: 5.19ms\tremaining: 81.4ms\n",
            "6:\tlearn: 0.5261258\ttotal: 6.15ms\tremaining: 81.7ms\n",
            "7:\tlearn: 0.5110640\ttotal: 7.24ms\tremaining: 83.3ms\n",
            "8:\tlearn: 0.5008231\ttotal: 8.28ms\tremaining: 83.7ms\n",
            "9:\tlearn: 0.4904322\ttotal: 9.3ms\tremaining: 83.7ms\n",
            "10:\tlearn: 0.4793791\ttotal: 10.3ms\tremaining: 83.4ms\n",
            "11:\tlearn: 0.4711352\ttotal: 11.4ms\tremaining: 83.3ms\n",
            "12:\tlearn: 0.4649809\ttotal: 12.5ms\tremaining: 83.4ms\n",
            "13:\tlearn: 0.4575883\ttotal: 13.4ms\tremaining: 82.5ms\n",
            "14:\tlearn: 0.4498357\ttotal: 14.5ms\tremaining: 82.4ms\n",
            "15:\tlearn: 0.4459254\ttotal: 15.6ms\tremaining: 81.9ms\n",
            "16:\tlearn: 0.4398206\ttotal: 16.7ms\tremaining: 81.6ms\n",
            "17:\tlearn: 0.4358430\ttotal: 17.7ms\tremaining: 80.8ms\n",
            "18:\tlearn: 0.4317015\ttotal: 18.7ms\tremaining: 79.9ms\n",
            "19:\tlearn: 0.4289411\ttotal: 19.6ms\tremaining: 78.3ms\n",
            "20:\tlearn: 0.4276611\ttotal: 20.5ms\tremaining: 77.2ms\n",
            "21:\tlearn: 0.4242139\ttotal: 21.5ms\tremaining: 76.3ms\n",
            "22:\tlearn: 0.4219373\ttotal: 22.5ms\tremaining: 75.4ms\n",
            "23:\tlearn: 0.4196830\ttotal: 23.5ms\tremaining: 74.4ms\n",
            "24:\tlearn: 0.4190696\ttotal: 23.9ms\tremaining: 71.7ms\n",
            "25:\tlearn: 0.4167758\ttotal: 26.4ms\tremaining: 75.1ms\n",
            "26:\tlearn: 0.4145513\ttotal: 28ms\tremaining: 75.7ms\n",
            "27:\tlearn: 0.4135318\ttotal: 29.6ms\tremaining: 76.1ms\n",
            "28:\tlearn: 0.4112977\ttotal: 30.6ms\tremaining: 74.8ms\n",
            "29:\tlearn: 0.4094131\ttotal: 31.5ms\tremaining: 73.4ms\n",
            "30:\tlearn: 0.4078400\ttotal: 32.4ms\tremaining: 72.2ms\n",
            "31:\tlearn: 0.4067565\ttotal: 33.5ms\tremaining: 71.1ms\n",
            "32:\tlearn: 0.4053345\ttotal: 34.5ms\tremaining: 70ms\n",
            "33:\tlearn: 0.4037291\ttotal: 35.6ms\tremaining: 69.1ms\n",
            "34:\tlearn: 0.4023772\ttotal: 36.6ms\tremaining: 68ms\n",
            "35:\tlearn: 0.4010232\ttotal: 37.6ms\tremaining: 66.8ms\n",
            "36:\tlearn: 0.4002992\ttotal: 38.2ms\tremaining: 65.1ms\n",
            "37:\tlearn: 0.3990110\ttotal: 39.2ms\tremaining: 63.9ms\n",
            "38:\tlearn: 0.3981120\ttotal: 40.2ms\tremaining: 62.8ms\n",
            "39:\tlearn: 0.3970895\ttotal: 41.2ms\tremaining: 61.8ms\n",
            "40:\tlearn: 0.3953797\ttotal: 42.2ms\tremaining: 60.8ms\n",
            "41:\tlearn: 0.3948114\ttotal: 43.2ms\tremaining: 59.7ms\n",
            "42:\tlearn: 0.3940519\ttotal: 44.3ms\tremaining: 58.7ms\n",
            "43:\tlearn: 0.3929676\ttotal: 45.4ms\tremaining: 57.7ms\n",
            "44:\tlearn: 0.3915220\ttotal: 46.4ms\tremaining: 56.7ms\n",
            "45:\tlearn: 0.3911021\ttotal: 47.4ms\tremaining: 55.6ms\n",
            "46:\tlearn: 0.3906919\ttotal: 48.1ms\tremaining: 54.3ms\n",
            "47:\tlearn: 0.3903152\ttotal: 49.1ms\tremaining: 53.2ms\n",
            "48:\tlearn: 0.3899294\ttotal: 51.1ms\tremaining: 53.2ms\n",
            "49:\tlearn: 0.3889698\ttotal: 53.1ms\tremaining: 53.1ms\n",
            "50:\tlearn: 0.3883274\ttotal: 54.1ms\tremaining: 52ms\n",
            "51:\tlearn: 0.3882114\ttotal: 54.8ms\tremaining: 50.6ms\n",
            "52:\tlearn: 0.3876901\ttotal: 55.8ms\tremaining: 49.5ms\n",
            "53:\tlearn: 0.3870935\ttotal: 57ms\tremaining: 48.5ms\n",
            "54:\tlearn: 0.3863512\ttotal: 58ms\tremaining: 47.4ms\n",
            "55:\tlearn: 0.3855724\ttotal: 59ms\tremaining: 46.4ms\n",
            "56:\tlearn: 0.3851741\ttotal: 60.1ms\tremaining: 45.3ms\n",
            "57:\tlearn: 0.3849908\ttotal: 60.6ms\tremaining: 43.9ms\n",
            "58:\tlearn: 0.3845136\ttotal: 61.5ms\tremaining: 42.7ms\n",
            "59:\tlearn: 0.3840907\ttotal: 62.4ms\tremaining: 41.6ms\n",
            "60:\tlearn: 0.3837785\ttotal: 63.4ms\tremaining: 40.5ms\n",
            "61:\tlearn: 0.3836380\ttotal: 64.4ms\tremaining: 39.5ms\n",
            "62:\tlearn: 0.3829014\ttotal: 65.4ms\tremaining: 38.4ms\n",
            "63:\tlearn: 0.3825794\ttotal: 66.4ms\tremaining: 37.4ms\n",
            "64:\tlearn: 0.3822297\ttotal: 67.4ms\tremaining: 36.3ms\n",
            "65:\tlearn: 0.3815956\ttotal: 68.3ms\tremaining: 35.2ms\n",
            "66:\tlearn: 0.3812519\ttotal: 69.4ms\tremaining: 34.2ms\n",
            "67:\tlearn: 0.3812203\ttotal: 70ms\tremaining: 32.9ms\n",
            "68:\tlearn: 0.3808644\ttotal: 71ms\tremaining: 31.9ms\n",
            "69:\tlearn: 0.3805523\ttotal: 72ms\tremaining: 30.9ms\n",
            "70:\tlearn: 0.3802465\ttotal: 72.9ms\tremaining: 29.8ms\n",
            "71:\tlearn: 0.3796410\ttotal: 73.8ms\tremaining: 28.7ms\n",
            "72:\tlearn: 0.3794548\ttotal: 74.7ms\tremaining: 27.6ms\n",
            "73:\tlearn: 0.3791294\ttotal: 75.6ms\tremaining: 26.5ms\n",
            "74:\tlearn: 0.3784727\ttotal: 76.5ms\tremaining: 25.5ms\n",
            "75:\tlearn: 0.3777800\ttotal: 77.5ms\tremaining: 24.5ms\n",
            "76:\tlearn: 0.3766241\ttotal: 78.5ms\tremaining: 23.4ms\n",
            "77:\tlearn: 0.3763139\ttotal: 79.5ms\tremaining: 22.4ms\n",
            "78:\tlearn: 0.3761524\ttotal: 80.4ms\tremaining: 21.4ms\n",
            "79:\tlearn: 0.3756654\ttotal: 81.3ms\tremaining: 20.3ms\n",
            "80:\tlearn: 0.3755563\ttotal: 82.3ms\tremaining: 19.3ms\n",
            "81:\tlearn: 0.3752594\ttotal: 83.2ms\tremaining: 18.3ms\n",
            "82:\tlearn: 0.3748711\ttotal: 84.2ms\tremaining: 17.3ms\n",
            "83:\tlearn: 0.3745941\ttotal: 85.2ms\tremaining: 16.2ms\n",
            "84:\tlearn: 0.3738164\ttotal: 86.1ms\tremaining: 15.2ms\n",
            "85:\tlearn: 0.3735123\ttotal: 87.2ms\tremaining: 14.2ms\n",
            "86:\tlearn: 0.3728242\ttotal: 88.2ms\tremaining: 13.2ms\n",
            "87:\tlearn: 0.3723567\ttotal: 89.3ms\tremaining: 12.2ms\n",
            "88:\tlearn: 0.3721337\ttotal: 90.3ms\tremaining: 11.2ms\n",
            "89:\tlearn: 0.3720417\ttotal: 91.3ms\tremaining: 10.1ms\n",
            "90:\tlearn: 0.3717869\ttotal: 92.3ms\tremaining: 9.13ms\n",
            "91:\tlearn: 0.3714694\ttotal: 93.4ms\tremaining: 8.12ms\n",
            "92:\tlearn: 0.3713128\ttotal: 94.4ms\tremaining: 7.11ms\n",
            "93:\tlearn: 0.3709687\ttotal: 95.4ms\tremaining: 6.09ms\n",
            "94:\tlearn: 0.3707012\ttotal: 96.4ms\tremaining: 5.07ms\n",
            "95:\tlearn: 0.3705051\ttotal: 97.3ms\tremaining: 4.05ms\n",
            "96:\tlearn: 0.3701869\ttotal: 98.3ms\tremaining: 3.04ms\n",
            "97:\tlearn: 0.3699135\ttotal: 99.3ms\tremaining: 2.02ms\n",
            "98:\tlearn: 0.3695620\ttotal: 100ms\tremaining: 1.01ms\n",
            "99:\tlearn: 0.3685750\ttotal: 101ms\tremaining: 0us\n",
            "0:\tlearn: 0.6611961\ttotal: 1.13ms\tremaining: 112ms\n",
            "1:\tlearn: 0.6269544\ttotal: 2.34ms\tremaining: 115ms\n",
            "2:\tlearn: 0.5992187\ttotal: 3.02ms\tremaining: 97.8ms\n",
            "3:\tlearn: 0.5732257\ttotal: 4.04ms\tremaining: 97ms\n",
            "4:\tlearn: 0.5577899\ttotal: 4.63ms\tremaining: 87.9ms\n",
            "5:\tlearn: 0.5389749\ttotal: 5.68ms\tremaining: 89ms\n",
            "6:\tlearn: 0.5206547\ttotal: 6.71ms\tremaining: 89.2ms\n",
            "7:\tlearn: 0.5033107\ttotal: 7.77ms\tremaining: 89.3ms\n",
            "8:\tlearn: 0.4881050\ttotal: 8.92ms\tremaining: 90.2ms\n",
            "9:\tlearn: 0.4785310\ttotal: 10.1ms\tremaining: 90.7ms\n",
            "10:\tlearn: 0.4669606\ttotal: 11.1ms\tremaining: 89.8ms\n",
            "11:\tlearn: 0.4572945\ttotal: 12.2ms\tremaining: 89.1ms\n",
            "12:\tlearn: 0.4505885\ttotal: 13.3ms\tremaining: 89.2ms\n",
            "13:\tlearn: 0.4428478\ttotal: 14.5ms\tremaining: 88.8ms\n",
            "14:\tlearn: 0.4363020\ttotal: 15.7ms\tremaining: 88.7ms\n",
            "15:\tlearn: 0.4316552\ttotal: 16.8ms\tremaining: 88.1ms\n",
            "16:\tlearn: 0.4279043\ttotal: 17.7ms\tremaining: 86.6ms\n",
            "17:\tlearn: 0.4242823\ttotal: 18.8ms\tremaining: 85.7ms\n",
            "18:\tlearn: 0.4199415\ttotal: 19.9ms\tremaining: 84.7ms\n",
            "19:\tlearn: 0.4171703\ttotal: 21ms\tremaining: 83.8ms\n",
            "20:\tlearn: 0.4143173\ttotal: 22.1ms\tremaining: 83.1ms\n",
            "21:\tlearn: 0.4122170\ttotal: 23.1ms\tremaining: 82ms\n",
            "22:\tlearn: 0.4085609\ttotal: 24.1ms\tremaining: 80.7ms\n",
            "23:\tlearn: 0.4056420\ttotal: 25.3ms\tremaining: 80.1ms\n",
            "24:\tlearn: 0.4035915\ttotal: 26.4ms\tremaining: 79.2ms\n",
            "25:\tlearn: 0.4009027\ttotal: 27.5ms\tremaining: 78.2ms\n",
            "26:\tlearn: 0.3991165\ttotal: 28.4ms\tremaining: 76.7ms\n",
            "27:\tlearn: 0.3976489\ttotal: 29.5ms\tremaining: 75.8ms\n",
            "28:\tlearn: 0.3962527\ttotal: 30.6ms\tremaining: 75ms\n",
            "29:\tlearn: 0.3946827\ttotal: 31.8ms\tremaining: 74.1ms\n",
            "30:\tlearn: 0.3930186\ttotal: 32.8ms\tremaining: 73ms\n",
            "31:\tlearn: 0.3913512\ttotal: 33.9ms\tremaining: 72ms\n",
            "32:\tlearn: 0.3909381\ttotal: 34.4ms\tremaining: 69.9ms\n",
            "33:\tlearn: 0.3898747\ttotal: 35.4ms\tremaining: 68.8ms\n",
            "34:\tlearn: 0.3888433\ttotal: 36.4ms\tremaining: 67.7ms\n",
            "35:\tlearn: 0.3878795\ttotal: 37.6ms\tremaining: 66.9ms\n",
            "36:\tlearn: 0.3865661\ttotal: 38.6ms\tremaining: 65.7ms\n",
            "37:\tlearn: 0.3851693\ttotal: 39.8ms\tremaining: 64.9ms\n",
            "38:\tlearn: 0.3834270\ttotal: 40.8ms\tremaining: 63.9ms\n",
            "39:\tlearn: 0.3822042\ttotal: 41.9ms\tremaining: 62.8ms\n",
            "40:\tlearn: 0.3801674\ttotal: 42.9ms\tremaining: 61.8ms\n",
            "41:\tlearn: 0.3790079\ttotal: 44ms\tremaining: 60.7ms\n",
            "42:\tlearn: 0.3780791\ttotal: 45ms\tremaining: 59.7ms\n",
            "43:\tlearn: 0.3769896\ttotal: 46ms\tremaining: 58.6ms\n",
            "44:\tlearn: 0.3767055\ttotal: 47.2ms\tremaining: 57.7ms\n",
            "45:\tlearn: 0.3761552\ttotal: 48.3ms\tremaining: 56.7ms\n",
            "46:\tlearn: 0.3750710\ttotal: 49.4ms\tremaining: 55.7ms\n",
            "47:\tlearn: 0.3745725\ttotal: 50.5ms\tremaining: 54.7ms\n",
            "48:\tlearn: 0.3732665\ttotal: 51.6ms\tremaining: 53.7ms\n",
            "49:\tlearn: 0.3722457\ttotal: 56.1ms\tremaining: 56.1ms\n",
            "50:\tlearn: 0.3721908\ttotal: 56.7ms\tremaining: 54.5ms\n",
            "51:\tlearn: 0.3714902\ttotal: 57.7ms\tremaining: 53.3ms\n",
            "52:\tlearn: 0.3705237\ttotal: 58.7ms\tremaining: 52.1ms\n",
            "53:\tlearn: 0.3699497\ttotal: 59.8ms\tremaining: 50.9ms\n",
            "54:\tlearn: 0.3690287\ttotal: 60.8ms\tremaining: 49.7ms\n",
            "55:\tlearn: 0.3686899\ttotal: 61.8ms\tremaining: 48.6ms\n",
            "56:\tlearn: 0.3679006\ttotal: 63ms\tremaining: 47.5ms\n",
            "57:\tlearn: 0.3675049\ttotal: 64ms\tremaining: 46.3ms\n",
            "58:\tlearn: 0.3663756\ttotal: 65.1ms\tremaining: 45.2ms\n",
            "59:\tlearn: 0.3659803\ttotal: 66.2ms\tremaining: 44.1ms\n",
            "60:\tlearn: 0.3651498\ttotal: 67.3ms\tremaining: 43ms\n",
            "61:\tlearn: 0.3648296\ttotal: 68.4ms\tremaining: 41.9ms\n",
            "62:\tlearn: 0.3646178\ttotal: 69.5ms\tremaining: 40.8ms\n",
            "63:\tlearn: 0.3641684\ttotal: 70.5ms\tremaining: 39.7ms\n",
            "64:\tlearn: 0.3638271\ttotal: 71.6ms\tremaining: 38.5ms\n",
            "65:\tlearn: 0.3635937\ttotal: 72.6ms\tremaining: 37.4ms\n",
            "66:\tlearn: 0.3635471\ttotal: 73.1ms\tremaining: 36ms\n",
            "67:\tlearn: 0.3628734\ttotal: 74.1ms\tremaining: 34.9ms\n",
            "68:\tlearn: 0.3621200\ttotal: 75.1ms\tremaining: 33.8ms\n",
            "69:\tlearn: 0.3615772\ttotal: 76.2ms\tremaining: 32.6ms\n",
            "70:\tlearn: 0.3610873\ttotal: 77.2ms\tremaining: 31.5ms\n",
            "71:\tlearn: 0.3607625\ttotal: 78.2ms\tremaining: 30.4ms\n",
            "72:\tlearn: 0.3597016\ttotal: 80.3ms\tremaining: 29.7ms\n",
            "73:\tlearn: 0.3593003\ttotal: 82.2ms\tremaining: 28.9ms\n",
            "74:\tlearn: 0.3591752\ttotal: 83.3ms\tremaining: 27.8ms\n",
            "75:\tlearn: 0.3585186\ttotal: 84.3ms\tremaining: 26.6ms\n",
            "76:\tlearn: 0.3582659\ttotal: 85.3ms\tremaining: 25.5ms\n",
            "77:\tlearn: 0.3580875\ttotal: 86.2ms\tremaining: 24.3ms\n",
            "78:\tlearn: 0.3577085\ttotal: 87.2ms\tremaining: 23.2ms\n",
            "79:\tlearn: 0.3571526\ttotal: 88.3ms\tremaining: 22.1ms\n",
            "80:\tlearn: 0.3569302\ttotal: 89.3ms\tremaining: 20.9ms\n",
            "81:\tlearn: 0.3556089\ttotal: 90.3ms\tremaining: 19.8ms\n",
            "82:\tlearn: 0.3552319\ttotal: 91.3ms\tremaining: 18.7ms\n",
            "83:\tlearn: 0.3550616\ttotal: 92.4ms\tremaining: 17.6ms\n",
            "84:\tlearn: 0.3549944\ttotal: 93.4ms\tremaining: 16.5ms\n",
            "85:\tlearn: 0.3546977\ttotal: 94.5ms\tremaining: 15.4ms\n",
            "86:\tlearn: 0.3546399\ttotal: 95.5ms\tremaining: 14.3ms\n",
            "87:\tlearn: 0.3541267\ttotal: 96.5ms\tremaining: 13.2ms\n",
            "88:\tlearn: 0.3537241\ttotal: 97.5ms\tremaining: 12ms\n",
            "89:\tlearn: 0.3535632\ttotal: 98.5ms\tremaining: 10.9ms\n",
            "90:\tlearn: 0.3533315\ttotal: 99.6ms\tremaining: 9.86ms\n",
            "91:\tlearn: 0.3528839\ttotal: 101ms\tremaining: 8.75ms\n",
            "92:\tlearn: 0.3527505\ttotal: 102ms\tremaining: 7.65ms\n",
            "93:\tlearn: 0.3525987\ttotal: 103ms\tremaining: 6.56ms\n",
            "94:\tlearn: 0.3525148\ttotal: 104ms\tremaining: 5.46ms\n",
            "95:\tlearn: 0.3519582\ttotal: 105ms\tremaining: 4.37ms\n",
            "96:\tlearn: 0.3516058\ttotal: 106ms\tremaining: 3.27ms\n",
            "97:\tlearn: 0.3514508\ttotal: 107ms\tremaining: 2.18ms\n",
            "98:\tlearn: 0.3505830\ttotal: 108ms\tremaining: 1.09ms\n",
            "99:\tlearn: 0.3496429\ttotal: 109ms\tremaining: 0us\n",
            "0:\tlearn: 0.6634564\ttotal: 1.07ms\tremaining: 106ms\n",
            "1:\tlearn: 0.6310765\ttotal: 2.13ms\tremaining: 104ms\n",
            "2:\tlearn: 0.6001937\ttotal: 3.19ms\tremaining: 103ms\n",
            "3:\tlearn: 0.5775544\ttotal: 4.18ms\tremaining: 100ms\n",
            "4:\tlearn: 0.5581908\ttotal: 5.11ms\tremaining: 97.1ms\n",
            "5:\tlearn: 0.5401691\ttotal: 6.03ms\tremaining: 94.4ms\n",
            "6:\tlearn: 0.5239024\ttotal: 7ms\tremaining: 93ms\n",
            "7:\tlearn: 0.5106912\ttotal: 7.95ms\tremaining: 91.4ms\n",
            "8:\tlearn: 0.4993360\ttotal: 8.98ms\tremaining: 90.8ms\n",
            "9:\tlearn: 0.4864401\ttotal: 10.1ms\tremaining: 90.5ms\n",
            "10:\tlearn: 0.4783117\ttotal: 11ms\tremaining: 89.3ms\n",
            "11:\tlearn: 0.4718823\ttotal: 12ms\tremaining: 88.2ms\n",
            "12:\tlearn: 0.4630006\ttotal: 13ms\tremaining: 86.9ms\n",
            "13:\tlearn: 0.4553873\ttotal: 13.9ms\tremaining: 85.5ms\n",
            "14:\tlearn: 0.4503711\ttotal: 14.9ms\tremaining: 84.4ms\n",
            "15:\tlearn: 0.4441977\ttotal: 15.9ms\tremaining: 83.3ms\n",
            "16:\tlearn: 0.4402764\ttotal: 16.9ms\tremaining: 82.3ms\n",
            "17:\tlearn: 0.4377926\ttotal: 17.8ms\tremaining: 81.3ms\n",
            "18:\tlearn: 0.4347463\ttotal: 18.8ms\tremaining: 80.1ms\n",
            "19:\tlearn: 0.4332702\ttotal: 19.8ms\tremaining: 79.1ms\n",
            "20:\tlearn: 0.4311877\ttotal: 20.8ms\tremaining: 78.1ms\n",
            "21:\tlearn: 0.4269630\ttotal: 21.8ms\tremaining: 77.2ms\n",
            "22:\tlearn: 0.4253060\ttotal: 22.7ms\tremaining: 76.1ms\n",
            "23:\tlearn: 0.4233221\ttotal: 23.6ms\tremaining: 74.8ms\n",
            "24:\tlearn: 0.4210356\ttotal: 24.5ms\tremaining: 73.5ms\n",
            "25:\tlearn: 0.4194827\ttotal: 25.4ms\tremaining: 72.4ms\n",
            "26:\tlearn: 0.4171740\ttotal: 26.4ms\tremaining: 71.4ms\n",
            "27:\tlearn: 0.4163712\ttotal: 27.3ms\tremaining: 70.2ms\n",
            "28:\tlearn: 0.4149851\ttotal: 28.3ms\tremaining: 69.3ms\n",
            "29:\tlearn: 0.4137717\ttotal: 29.3ms\tremaining: 68.3ms\n",
            "30:\tlearn: 0.4121058\ttotal: 30.3ms\tremaining: 67.3ms\n",
            "31:\tlearn: 0.4113296\ttotal: 31.4ms\tremaining: 66.7ms\n",
            "32:\tlearn: 0.4107994\ttotal: 32.3ms\tremaining: 65.7ms\n",
            "33:\tlearn: 0.4100649\ttotal: 33.3ms\tremaining: 64.7ms\n",
            "34:\tlearn: 0.4090271\ttotal: 34.3ms\tremaining: 63.8ms\n",
            "35:\tlearn: 0.4081948\ttotal: 35.3ms\tremaining: 62.7ms\n",
            "36:\tlearn: 0.4071857\ttotal: 36.3ms\tremaining: 61.9ms\n",
            "37:\tlearn: 0.4071101\ttotal: 36.8ms\tremaining: 60ms\n",
            "38:\tlearn: 0.4062815\ttotal: 37.8ms\tremaining: 59.2ms\n",
            "39:\tlearn: 0.4049474\ttotal: 38.9ms\tremaining: 58.3ms\n",
            "40:\tlearn: 0.4036459\ttotal: 39.8ms\tremaining: 57.3ms\n",
            "41:\tlearn: 0.4025831\ttotal: 40.7ms\tremaining: 56.3ms\n",
            "42:\tlearn: 0.4020980\ttotal: 41.7ms\tremaining: 55.3ms\n",
            "43:\tlearn: 0.4014810\ttotal: 42.7ms\tremaining: 54.3ms\n",
            "44:\tlearn: 0.4005343\ttotal: 43.7ms\tremaining: 53.5ms\n",
            "45:\tlearn: 0.4000810\ttotal: 44.7ms\tremaining: 52.4ms\n",
            "46:\tlearn: 0.3991247\ttotal: 45.6ms\tremaining: 51.4ms\n",
            "47:\tlearn: 0.3982823\ttotal: 46.5ms\tremaining: 50.3ms\n",
            "48:\tlearn: 0.3976984\ttotal: 47.4ms\tremaining: 49.3ms\n",
            "49:\tlearn: 0.3966817\ttotal: 48.3ms\tremaining: 48.3ms\n",
            "50:\tlearn: 0.3962570\ttotal: 49.3ms\tremaining: 47.4ms\n",
            "51:\tlearn: 0.3958964\ttotal: 49.8ms\tremaining: 45.9ms\n",
            "52:\tlearn: 0.3957073\ttotal: 50.7ms\tremaining: 45ms\n",
            "53:\tlearn: 0.3947428\ttotal: 51.6ms\tremaining: 43.9ms\n",
            "54:\tlearn: 0.3942073\ttotal: 52.5ms\tremaining: 42.9ms\n",
            "55:\tlearn: 0.3933716\ttotal: 53.2ms\tremaining: 41.8ms\n",
            "56:\tlearn: 0.3928215\ttotal: 54.2ms\tremaining: 40.9ms\n",
            "57:\tlearn: 0.3920868\ttotal: 55.2ms\tremaining: 40ms\n",
            "58:\tlearn: 0.3909395\ttotal: 56.2ms\tremaining: 39ms\n",
            "59:\tlearn: 0.3896954\ttotal: 57.1ms\tremaining: 38.1ms\n",
            "60:\tlearn: 0.3886811\ttotal: 58.9ms\tremaining: 37.6ms\n",
            "61:\tlearn: 0.3879298\ttotal: 60.4ms\tremaining: 37ms\n",
            "62:\tlearn: 0.3874306\ttotal: 61.7ms\tremaining: 36.2ms\n",
            "63:\tlearn: 0.3868870\ttotal: 63.5ms\tremaining: 35.7ms\n",
            "64:\tlearn: 0.3865704\ttotal: 65ms\tremaining: 35ms\n",
            "65:\tlearn: 0.3861290\ttotal: 68.5ms\tremaining: 35.3ms\n",
            "66:\tlearn: 0.3856331\ttotal: 69.6ms\tremaining: 34.3ms\n",
            "67:\tlearn: 0.3848276\ttotal: 70.7ms\tremaining: 33.3ms\n",
            "68:\tlearn: 0.3845037\ttotal: 71.7ms\tremaining: 32.2ms\n",
            "69:\tlearn: 0.3838349\ttotal: 72.8ms\tremaining: 31.2ms\n",
            "70:\tlearn: 0.3836666\ttotal: 73.7ms\tremaining: 30.1ms\n",
            "71:\tlearn: 0.3828448\ttotal: 74.7ms\tremaining: 29ms\n",
            "72:\tlearn: 0.3821800\ttotal: 75.6ms\tremaining: 28ms\n",
            "73:\tlearn: 0.3816860\ttotal: 76.5ms\tremaining: 26.9ms\n",
            "74:\tlearn: 0.3811078\ttotal: 77.5ms\tremaining: 25.8ms\n",
            "75:\tlearn: 0.3808104\ttotal: 78.4ms\tremaining: 24.8ms\n",
            "76:\tlearn: 0.3797812\ttotal: 79.3ms\tremaining: 23.7ms\n",
            "77:\tlearn: 0.3794432\ttotal: 81.8ms\tremaining: 23.1ms\n",
            "78:\tlearn: 0.3793989\ttotal: 82.6ms\tremaining: 22ms\n",
            "79:\tlearn: 0.3790553\ttotal: 83.5ms\tremaining: 20.9ms\n",
            "80:\tlearn: 0.3785948\ttotal: 84.4ms\tremaining: 19.8ms\n",
            "81:\tlearn: 0.3783236\ttotal: 85.4ms\tremaining: 18.8ms\n",
            "82:\tlearn: 0.3780796\ttotal: 86.4ms\tremaining: 17.7ms\n",
            "83:\tlearn: 0.3778085\ttotal: 87.5ms\tremaining: 16.7ms\n",
            "84:\tlearn: 0.3773904\ttotal: 88.5ms\tremaining: 15.6ms\n",
            "85:\tlearn: 0.3771426\ttotal: 89.5ms\tremaining: 14.6ms\n",
            "86:\tlearn: 0.3766892\ttotal: 90.5ms\tremaining: 13.5ms\n",
            "87:\tlearn: 0.3763595\ttotal: 91.5ms\tremaining: 12.5ms\n",
            "88:\tlearn: 0.3761034\ttotal: 92.4ms\tremaining: 11.4ms\n",
            "89:\tlearn: 0.3752433\ttotal: 93.5ms\tremaining: 10.4ms\n",
            "90:\tlearn: 0.3748034\ttotal: 94.4ms\tremaining: 9.34ms\n",
            "91:\tlearn: 0.3744395\ttotal: 95.4ms\tremaining: 8.3ms\n",
            "92:\tlearn: 0.3740337\ttotal: 96.5ms\tremaining: 7.26ms\n",
            "93:\tlearn: 0.3729810\ttotal: 97.4ms\tremaining: 6.21ms\n",
            "94:\tlearn: 0.3721244\ttotal: 98.3ms\tremaining: 5.17ms\n",
            "95:\tlearn: 0.3715813\ttotal: 99.2ms\tremaining: 4.13ms\n",
            "96:\tlearn: 0.3708254\ttotal: 100ms\tremaining: 3.1ms\n",
            "97:\tlearn: 0.3707603\ttotal: 101ms\tremaining: 2.06ms\n",
            "98:\tlearn: 0.3704932\ttotal: 102ms\tremaining: 1.03ms\n",
            "99:\tlearn: 0.3703294\ttotal: 103ms\tremaining: 0us\n",
            "0:\tlearn: 0.6623251\ttotal: 1.21ms\tremaining: 120ms\n",
            "1:\tlearn: 0.6298073\ttotal: 2.37ms\tremaining: 116ms\n",
            "2:\tlearn: 0.5991414\ttotal: 3.39ms\tremaining: 110ms\n",
            "3:\tlearn: 0.5780335\ttotal: 4.48ms\tremaining: 108ms\n",
            "4:\tlearn: 0.5590616\ttotal: 5.54ms\tremaining: 105ms\n",
            "5:\tlearn: 0.5407489\ttotal: 6.54ms\tremaining: 102ms\n",
            "6:\tlearn: 0.5249266\ttotal: 7.57ms\tremaining: 101ms\n",
            "7:\tlearn: 0.5136302\ttotal: 8.52ms\tremaining: 98ms\n",
            "8:\tlearn: 0.5022491\ttotal: 9.49ms\tremaining: 96ms\n",
            "9:\tlearn: 0.4892482\ttotal: 10.5ms\tremaining: 94.5ms\n",
            "10:\tlearn: 0.4811944\ttotal: 11.6ms\tremaining: 93.5ms\n",
            "11:\tlearn: 0.4739546\ttotal: 12.6ms\tremaining: 92.4ms\n",
            "12:\tlearn: 0.4666846\ttotal: 13.6ms\tremaining: 90.9ms\n",
            "13:\tlearn: 0.4590173\ttotal: 14.6ms\tremaining: 89.7ms\n",
            "14:\tlearn: 0.4539051\ttotal: 15.6ms\tremaining: 88.3ms\n",
            "15:\tlearn: 0.4474613\ttotal: 16.6ms\tremaining: 86.9ms\n",
            "16:\tlearn: 0.4432221\ttotal: 17.6ms\tremaining: 85.8ms\n",
            "17:\tlearn: 0.4395456\ttotal: 18.6ms\tremaining: 84.6ms\n",
            "18:\tlearn: 0.4361874\ttotal: 19.6ms\tremaining: 83.7ms\n",
            "19:\tlearn: 0.4327541\ttotal: 20.7ms\tremaining: 82.9ms\n",
            "20:\tlearn: 0.4299212\ttotal: 21.7ms\tremaining: 81.7ms\n",
            "21:\tlearn: 0.4271924\ttotal: 22.7ms\tremaining: 80.3ms\n",
            "22:\tlearn: 0.4253964\ttotal: 23.9ms\tremaining: 79.9ms\n",
            "23:\tlearn: 0.4223742\ttotal: 24.8ms\tremaining: 78.6ms\n",
            "24:\tlearn: 0.4198182\ttotal: 25.7ms\tremaining: 77.2ms\n",
            "25:\tlearn: 0.4188757\ttotal: 26.7ms\tremaining: 76ms\n",
            "26:\tlearn: 0.4175780\ttotal: 27.6ms\tremaining: 74.7ms\n",
            "27:\tlearn: 0.4153586\ttotal: 28.6ms\tremaining: 73.6ms\n",
            "28:\tlearn: 0.4141513\ttotal: 29.6ms\tremaining: 72.4ms\n",
            "29:\tlearn: 0.4129149\ttotal: 30.6ms\tremaining: 71.5ms\n",
            "30:\tlearn: 0.4116862\ttotal: 31.6ms\tremaining: 70.4ms\n",
            "31:\tlearn: 0.4107012\ttotal: 32.5ms\tremaining: 69.1ms\n",
            "32:\tlearn: 0.4092452\ttotal: 33.5ms\tremaining: 68ms\n",
            "33:\tlearn: 0.4084549\ttotal: 34.5ms\tremaining: 67ms\n",
            "34:\tlearn: 0.4069891\ttotal: 35.4ms\tremaining: 65.8ms\n",
            "35:\tlearn: 0.4048663\ttotal: 36.4ms\tremaining: 64.7ms\n",
            "36:\tlearn: 0.4023461\ttotal: 37.3ms\tremaining: 63.6ms\n",
            "37:\tlearn: 0.4016182\ttotal: 38.4ms\tremaining: 62.6ms\n",
            "38:\tlearn: 0.4010127\ttotal: 39.4ms\tremaining: 61.6ms\n",
            "39:\tlearn: 0.3992787\ttotal: 40.5ms\tremaining: 60.7ms\n",
            "40:\tlearn: 0.3985904\ttotal: 41.5ms\tremaining: 59.7ms\n",
            "41:\tlearn: 0.3974044\ttotal: 42.5ms\tremaining: 58.7ms\n",
            "42:\tlearn: 0.3968439\ttotal: 43.5ms\tremaining: 57.7ms\n",
            "43:\tlearn: 0.3962335\ttotal: 44.5ms\tremaining: 56.7ms\n",
            "44:\tlearn: 0.3949924\ttotal: 45.5ms\tremaining: 55.6ms\n",
            "45:\tlearn: 0.3943169\ttotal: 46.4ms\tremaining: 54.5ms\n",
            "46:\tlearn: 0.3927901\ttotal: 47.4ms\tremaining: 53.4ms\n",
            "47:\tlearn: 0.3922017\ttotal: 48.3ms\tremaining: 52.4ms\n",
            "48:\tlearn: 0.3914393\ttotal: 49.3ms\tremaining: 51.3ms\n",
            "49:\tlearn: 0.3905649\ttotal: 50.3ms\tremaining: 50.3ms\n",
            "50:\tlearn: 0.3901646\ttotal: 51.3ms\tremaining: 49.3ms\n",
            "51:\tlearn: 0.3890337\ttotal: 52.3ms\tremaining: 48.3ms\n",
            "52:\tlearn: 0.3885838\ttotal: 53.3ms\tremaining: 47.2ms\n",
            "53:\tlearn: 0.3880713\ttotal: 54.2ms\tremaining: 46.1ms\n",
            "54:\tlearn: 0.3870638\ttotal: 55ms\tremaining: 45ms\n",
            "55:\tlearn: 0.3865155\ttotal: 55.9ms\tremaining: 43.9ms\n",
            "56:\tlearn: 0.3862143\ttotal: 56.9ms\tremaining: 42.9ms\n",
            "57:\tlearn: 0.3860971\ttotal: 57.8ms\tremaining: 41.9ms\n",
            "58:\tlearn: 0.3859051\ttotal: 58.6ms\tremaining: 40.7ms\n",
            "59:\tlearn: 0.3854092\ttotal: 59.5ms\tremaining: 39.6ms\n",
            "60:\tlearn: 0.3850837\ttotal: 60.4ms\tremaining: 38.6ms\n",
            "61:\tlearn: 0.3843017\ttotal: 61.4ms\tremaining: 37.6ms\n",
            "62:\tlearn: 0.3838406\ttotal: 62.3ms\tremaining: 36.6ms\n",
            "63:\tlearn: 0.3831887\ttotal: 63.3ms\tremaining: 35.6ms\n",
            "64:\tlearn: 0.3822519\ttotal: 64.3ms\tremaining: 34.6ms\n",
            "65:\tlearn: 0.3818187\ttotal: 65.3ms\tremaining: 33.6ms\n",
            "66:\tlearn: 0.3814316\ttotal: 66.2ms\tremaining: 32.6ms\n",
            "67:\tlearn: 0.3810381\ttotal: 67.2ms\tremaining: 31.6ms\n",
            "68:\tlearn: 0.3808148\ttotal: 68.1ms\tremaining: 30.6ms\n",
            "69:\tlearn: 0.3802960\ttotal: 69ms\tremaining: 29.6ms\n",
            "70:\tlearn: 0.3795676\ttotal: 70ms\tremaining: 28.6ms\n",
            "71:\tlearn: 0.3793754\ttotal: 71ms\tremaining: 27.6ms\n",
            "72:\tlearn: 0.3792163\ttotal: 71.9ms\tremaining: 26.6ms\n",
            "73:\tlearn: 0.3790230\ttotal: 72.9ms\tremaining: 25.6ms\n",
            "74:\tlearn: 0.3785863\ttotal: 73.8ms\tremaining: 24.6ms\n",
            "75:\tlearn: 0.3778978\ttotal: 74.8ms\tremaining: 23.6ms\n",
            "76:\tlearn: 0.3776064\ttotal: 75.7ms\tremaining: 22.6ms\n",
            "77:\tlearn: 0.3775615\ttotal: 76.1ms\tremaining: 21.5ms\n",
            "78:\tlearn: 0.3774211\ttotal: 77.1ms\tremaining: 20.5ms\n",
            "79:\tlearn: 0.3769802\ttotal: 78.1ms\tremaining: 19.5ms\n",
            "80:\tlearn: 0.3768188\ttotal: 79ms\tremaining: 18.5ms\n",
            "81:\tlearn: 0.3766277\ttotal: 79.9ms\tremaining: 17.5ms\n",
            "82:\tlearn: 0.3757463\ttotal: 80.8ms\tremaining: 16.6ms\n",
            "83:\tlearn: 0.3756726\ttotal: 81.8ms\tremaining: 15.6ms\n",
            "84:\tlearn: 0.3755821\ttotal: 82.7ms\tremaining: 14.6ms\n",
            "85:\tlearn: 0.3753155\ttotal: 83.5ms\tremaining: 13.6ms\n",
            "86:\tlearn: 0.3749295\ttotal: 84.3ms\tremaining: 12.6ms\n",
            "87:\tlearn: 0.3748525\ttotal: 85.2ms\tremaining: 11.6ms\n",
            "88:\tlearn: 0.3746658\ttotal: 86.2ms\tremaining: 10.7ms\n",
            "89:\tlearn: 0.3743297\ttotal: 87.2ms\tremaining: 9.69ms\n",
            "90:\tlearn: 0.3742659\ttotal: 88ms\tremaining: 8.71ms\n",
            "91:\tlearn: 0.3740081\ttotal: 89ms\tremaining: 7.74ms\n",
            "92:\tlearn: 0.3735019\ttotal: 90.2ms\tremaining: 6.79ms\n",
            "93:\tlearn: 0.3734149\ttotal: 91.1ms\tremaining: 5.82ms\n",
            "94:\tlearn: 0.3730494\ttotal: 92.1ms\tremaining: 4.84ms\n",
            "95:\tlearn: 0.3725877\ttotal: 93ms\tremaining: 3.88ms\n",
            "96:\tlearn: 0.3725032\ttotal: 94ms\tremaining: 2.91ms\n",
            "97:\tlearn: 0.3716346\ttotal: 94.9ms\tremaining: 1.94ms\n",
            "98:\tlearn: 0.3713749\ttotal: 95.8ms\tremaining: 967us\n",
            "99:\tlearn: 0.3710244\ttotal: 96.8ms\tremaining: 0us\n",
            "0:\tlearn: 0.6620145\ttotal: 1.18ms\tremaining: 117ms\n",
            "1:\tlearn: 0.6288989\ttotal: 2.44ms\tremaining: 119ms\n",
            "2:\tlearn: 0.6020165\ttotal: 3.09ms\tremaining: 100ms\n",
            "3:\tlearn: 0.5818009\ttotal: 4.22ms\tremaining: 101ms\n",
            "4:\tlearn: 0.5663471\ttotal: 4.86ms\tremaining: 92.3ms\n",
            "5:\tlearn: 0.5479264\ttotal: 5.85ms\tremaining: 91.7ms\n",
            "6:\tlearn: 0.5302571\ttotal: 6.89ms\tremaining: 91.6ms\n",
            "7:\tlearn: 0.5138516\ttotal: 7.99ms\tremaining: 91.9ms\n",
            "8:\tlearn: 0.5016615\ttotal: 9.2ms\tremaining: 93ms\n",
            "9:\tlearn: 0.4890638\ttotal: 10.2ms\tremaining: 91.7ms\n",
            "10:\tlearn: 0.4776333\ttotal: 11.2ms\tremaining: 90.4ms\n",
            "11:\tlearn: 0.4695163\ttotal: 12.2ms\tremaining: 89.5ms\n",
            "12:\tlearn: 0.4632338\ttotal: 13.2ms\tremaining: 88.5ms\n",
            "13:\tlearn: 0.4557776\ttotal: 14.3ms\tremaining: 88.1ms\n",
            "14:\tlearn: 0.4500425\ttotal: 15.4ms\tremaining: 87.4ms\n",
            "15:\tlearn: 0.4455823\ttotal: 16.5ms\tremaining: 86.7ms\n",
            "16:\tlearn: 0.4417942\ttotal: 17.5ms\tremaining: 85.7ms\n",
            "17:\tlearn: 0.4385236\ttotal: 18.4ms\tremaining: 83.7ms\n",
            "18:\tlearn: 0.4345411\ttotal: 19.4ms\tremaining: 82.8ms\n",
            "19:\tlearn: 0.4306619\ttotal: 20.6ms\tremaining: 82.4ms\n",
            "20:\tlearn: 0.4279158\ttotal: 21.7ms\tremaining: 81.5ms\n",
            "21:\tlearn: 0.4260713\ttotal: 22.8ms\tremaining: 80.7ms\n",
            "22:\tlearn: 0.4220379\ttotal: 23.5ms\tremaining: 78.8ms\n",
            "23:\tlearn: 0.4204778\ttotal: 24.5ms\tremaining: 77.6ms\n",
            "24:\tlearn: 0.4195596\ttotal: 25.5ms\tremaining: 76.6ms\n",
            "25:\tlearn: 0.4176910\ttotal: 26.6ms\tremaining: 75.8ms\n",
            "26:\tlearn: 0.4154630\ttotal: 27.8ms\tremaining: 75.1ms\n",
            "27:\tlearn: 0.4137559\ttotal: 34.6ms\tremaining: 89ms\n",
            "28:\tlearn: 0.4133860\ttotal: 35.4ms\tremaining: 86.7ms\n",
            "29:\tlearn: 0.4106964\ttotal: 36.9ms\tremaining: 86.1ms\n",
            "30:\tlearn: 0.4090116\ttotal: 38.3ms\tremaining: 85.2ms\n",
            "31:\tlearn: 0.4085283\ttotal: 38.9ms\tremaining: 82.6ms\n",
            "32:\tlearn: 0.4071115\ttotal: 42ms\tremaining: 85.2ms\n",
            "33:\tlearn: 0.4055044\ttotal: 43.1ms\tremaining: 83.7ms\n",
            "34:\tlearn: 0.4042282\ttotal: 44.2ms\tremaining: 82.1ms\n",
            "35:\tlearn: 0.4033537\ttotal: 46.8ms\tremaining: 83.2ms\n",
            "36:\tlearn: 0.4027267\ttotal: 48.9ms\tremaining: 83.3ms\n",
            "37:\tlearn: 0.4017139\ttotal: 50ms\tremaining: 81.7ms\n",
            "38:\tlearn: 0.4014474\ttotal: 50.5ms\tremaining: 79ms\n",
            "39:\tlearn: 0.4006297\ttotal: 51.5ms\tremaining: 77.2ms\n",
            "40:\tlearn: 0.3997515\ttotal: 52.5ms\tremaining: 75.6ms\n",
            "41:\tlearn: 0.3985650\ttotal: 53.6ms\tremaining: 74ms\n",
            "42:\tlearn: 0.3975358\ttotal: 54.7ms\tremaining: 72.5ms\n",
            "43:\tlearn: 0.3974181\ttotal: 55.3ms\tremaining: 70.4ms\n",
            "44:\tlearn: 0.3973748\ttotal: 55.9ms\tremaining: 68.3ms\n",
            "45:\tlearn: 0.3969924\ttotal: 56.9ms\tremaining: 66.8ms\n",
            "46:\tlearn: 0.3963567\ttotal: 58ms\tremaining: 65.4ms\n",
            "47:\tlearn: 0.3961005\ttotal: 59.1ms\tremaining: 64ms\n",
            "48:\tlearn: 0.3953289\ttotal: 60.1ms\tremaining: 62.6ms\n",
            "49:\tlearn: 0.3952185\ttotal: 60.8ms\tremaining: 60.8ms\n",
            "50:\tlearn: 0.3945988\ttotal: 61.8ms\tremaining: 59.4ms\n",
            "51:\tlearn: 0.3942907\ttotal: 62.9ms\tremaining: 58.1ms\n",
            "52:\tlearn: 0.3937776\ttotal: 63.9ms\tremaining: 56.6ms\n",
            "53:\tlearn: 0.3931757\ttotal: 64.9ms\tremaining: 55.3ms\n",
            "54:\tlearn: 0.3917659\ttotal: 66.1ms\tremaining: 54ms\n",
            "55:\tlearn: 0.3912157\ttotal: 67.1ms\tremaining: 52.7ms\n",
            "56:\tlearn: 0.3907648\ttotal: 68.1ms\tremaining: 51.4ms\n",
            "57:\tlearn: 0.3900604\ttotal: 69.2ms\tremaining: 50.1ms\n",
            "58:\tlearn: 0.3899624\ttotal: 69.8ms\tremaining: 48.5ms\n",
            "59:\tlearn: 0.3895187\ttotal: 70.6ms\tremaining: 47.1ms\n",
            "60:\tlearn: 0.3875917\ttotal: 71.7ms\tremaining: 45.8ms\n",
            "61:\tlearn: 0.3871119\ttotal: 72.8ms\tremaining: 44.6ms\n",
            "62:\tlearn: 0.3864872\ttotal: 73.9ms\tremaining: 43.4ms\n",
            "63:\tlearn: 0.3860142\ttotal: 74.9ms\tremaining: 42.1ms\n",
            "64:\tlearn: 0.3857603\ttotal: 75.9ms\tremaining: 40.9ms\n",
            "65:\tlearn: 0.3853142\ttotal: 77ms\tremaining: 39.7ms\n",
            "66:\tlearn: 0.3839801\ttotal: 78ms\tremaining: 38.4ms\n",
            "67:\tlearn: 0.3833616\ttotal: 79.2ms\tremaining: 37.3ms\n",
            "68:\tlearn: 0.3829267\ttotal: 80.2ms\tremaining: 36ms\n",
            "69:\tlearn: 0.3823188\ttotal: 81.1ms\tremaining: 34.8ms\n",
            "70:\tlearn: 0.3821900\ttotal: 82.2ms\tremaining: 33.6ms\n",
            "71:\tlearn: 0.3821396\ttotal: 82.7ms\tremaining: 32.2ms\n",
            "72:\tlearn: 0.3816765\ttotal: 83.8ms\tremaining: 31ms\n",
            "73:\tlearn: 0.3814692\ttotal: 84.9ms\tremaining: 29.8ms\n",
            "74:\tlearn: 0.3813646\ttotal: 85.9ms\tremaining: 28.6ms\n",
            "75:\tlearn: 0.3811537\ttotal: 87ms\tremaining: 27.5ms\n",
            "76:\tlearn: 0.3810798\ttotal: 87.8ms\tremaining: 26.2ms\n",
            "77:\tlearn: 0.3807008\ttotal: 88.8ms\tremaining: 25ms\n",
            "78:\tlearn: 0.3797286\ttotal: 89.8ms\tremaining: 23.9ms\n",
            "79:\tlearn: 0.3792271\ttotal: 90.9ms\tremaining: 22.7ms\n",
            "80:\tlearn: 0.3786095\ttotal: 91.9ms\tremaining: 21.6ms\n",
            "81:\tlearn: 0.3781304\ttotal: 92.9ms\tremaining: 20.4ms\n",
            "82:\tlearn: 0.3777050\ttotal: 93.9ms\tremaining: 19.2ms\n",
            "83:\tlearn: 0.3773775\ttotal: 94.9ms\tremaining: 18.1ms\n",
            "84:\tlearn: 0.3772833\ttotal: 96ms\tremaining: 16.9ms\n",
            "85:\tlearn: 0.3760880\ttotal: 97.1ms\tremaining: 15.8ms\n",
            "86:\tlearn: 0.3750922\ttotal: 98.2ms\tremaining: 14.7ms\n",
            "87:\tlearn: 0.3742900\ttotal: 99.3ms\tremaining: 13.5ms\n",
            "88:\tlearn: 0.3740420\ttotal: 100ms\tremaining: 12.4ms\n",
            "89:\tlearn: 0.3739711\ttotal: 101ms\tremaining: 11.3ms\n",
            "90:\tlearn: 0.3738961\ttotal: 102ms\tremaining: 10.1ms\n",
            "91:\tlearn: 0.3735515\ttotal: 103ms\tremaining: 8.99ms\n",
            "92:\tlearn: 0.3732297\ttotal: 104ms\tremaining: 7.85ms\n",
            "93:\tlearn: 0.3727281\ttotal: 105ms\tremaining: 6.72ms\n",
            "94:\tlearn: 0.3723034\ttotal: 106ms\tremaining: 5.59ms\n",
            "95:\tlearn: 0.3722021\ttotal: 107ms\tremaining: 4.47ms\n",
            "96:\tlearn: 0.3718680\ttotal: 108ms\tremaining: 3.35ms\n",
            "97:\tlearn: 0.3717027\ttotal: 109ms\tremaining: 2.23ms\n",
            "98:\tlearn: 0.3716052\ttotal: 110ms\tremaining: 1.11ms\n",
            "99:\tlearn: 0.3706526\ttotal: 111ms\tremaining: 0us\n",
            "0:\tlearn: 0.6619842\ttotal: 1.09ms\tremaining: 108ms\n",
            "1:\tlearn: 0.6293788\ttotal: 2.22ms\tremaining: 109ms\n",
            "2:\tlearn: 0.6028287\ttotal: 2.87ms\tremaining: 93ms\n",
            "3:\tlearn: 0.5827808\ttotal: 3.83ms\tremaining: 91.8ms\n",
            "4:\tlearn: 0.5672121\ttotal: 4.28ms\tremaining: 81.4ms\n",
            "5:\tlearn: 0.5489041\ttotal: 5.33ms\tremaining: 83.6ms\n",
            "6:\tlearn: 0.5315718\ttotal: 6.22ms\tremaining: 82.6ms\n",
            "7:\tlearn: 0.5153870\ttotal: 7.04ms\tremaining: 81ms\n",
            "8:\tlearn: 0.5041271\ttotal: 7.91ms\tremaining: 80ms\n",
            "9:\tlearn: 0.4937067\ttotal: 8.86ms\tremaining: 79.7ms\n",
            "10:\tlearn: 0.4819132\ttotal: 9.85ms\tremaining: 79.7ms\n",
            "11:\tlearn: 0.4743886\ttotal: 10.9ms\tremaining: 79.9ms\n",
            "12:\tlearn: 0.4682508\ttotal: 11.9ms\tremaining: 79.6ms\n",
            "13:\tlearn: 0.4609182\ttotal: 12.9ms\tremaining: 79ms\n",
            "14:\tlearn: 0.4555507\ttotal: 13.9ms\tremaining: 78.8ms\n",
            "15:\tlearn: 0.4511021\ttotal: 14.9ms\tremaining: 78ms\n",
            "16:\tlearn: 0.4468091\ttotal: 15.8ms\tremaining: 77ms\n",
            "17:\tlearn: 0.4434016\ttotal: 16.8ms\tremaining: 76.4ms\n",
            "18:\tlearn: 0.4382496\ttotal: 17.7ms\tremaining: 75.5ms\n",
            "19:\tlearn: 0.4344452\ttotal: 18.8ms\tremaining: 75.2ms\n",
            "20:\tlearn: 0.4321681\ttotal: 19.8ms\tremaining: 74.4ms\n",
            "21:\tlearn: 0.4303744\ttotal: 20.8ms\tremaining: 73.9ms\n",
            "22:\tlearn: 0.4270459\ttotal: 25.9ms\tremaining: 86.8ms\n",
            "23:\tlearn: 0.4254769\ttotal: 27ms\tremaining: 85.5ms\n",
            "24:\tlearn: 0.4242986\ttotal: 27.6ms\tremaining: 82.9ms\n",
            "25:\tlearn: 0.4223058\ttotal: 28.6ms\tremaining: 81.5ms\n",
            "26:\tlearn: 0.4199585\ttotal: 29.6ms\tremaining: 80.1ms\n",
            "27:\tlearn: 0.4181299\ttotal: 30.2ms\tremaining: 77.7ms\n",
            "28:\tlearn: 0.4166000\ttotal: 31.1ms\tremaining: 76.3ms\n",
            "29:\tlearn: 0.4151354\ttotal: 32.1ms\tremaining: 75ms\n",
            "30:\tlearn: 0.4142189\ttotal: 33ms\tremaining: 73.5ms\n",
            "31:\tlearn: 0.4130632\ttotal: 34ms\tremaining: 72.3ms\n",
            "32:\tlearn: 0.4115446\ttotal: 35ms\tremaining: 71ms\n",
            "33:\tlearn: 0.4104760\ttotal: 35.9ms\tremaining: 69.7ms\n",
            "34:\tlearn: 0.4089429\ttotal: 37ms\tremaining: 68.7ms\n",
            "35:\tlearn: 0.4080027\ttotal: 38ms\tremaining: 67.6ms\n",
            "36:\tlearn: 0.4064562\ttotal: 39ms\tremaining: 66.5ms\n",
            "37:\tlearn: 0.4057406\ttotal: 40.1ms\tremaining: 65.4ms\n",
            "38:\tlearn: 0.4042374\ttotal: 41.1ms\tremaining: 64.3ms\n",
            "39:\tlearn: 0.4029022\ttotal: 42.1ms\tremaining: 63.1ms\n",
            "40:\tlearn: 0.4011507\ttotal: 43ms\tremaining: 61.8ms\n",
            "41:\tlearn: 0.3999492\ttotal: 44.1ms\tremaining: 60.8ms\n",
            "42:\tlearn: 0.3984932\ttotal: 45.1ms\tremaining: 59.8ms\n",
            "43:\tlearn: 0.3976245\ttotal: 46.3ms\tremaining: 58.9ms\n",
            "44:\tlearn: 0.3972547\ttotal: 47.2ms\tremaining: 57.7ms\n",
            "45:\tlearn: 0.3967746\ttotal: 48.3ms\tremaining: 56.7ms\n",
            "46:\tlearn: 0.3960148\ttotal: 49.5ms\tremaining: 55.8ms\n",
            "47:\tlearn: 0.3948483\ttotal: 50.5ms\tremaining: 54.7ms\n",
            "48:\tlearn: 0.3941406\ttotal: 51.5ms\tremaining: 53.6ms\n",
            "49:\tlearn: 0.3933384\ttotal: 52.5ms\tremaining: 52.5ms\n",
            "50:\tlearn: 0.3926259\ttotal: 53.5ms\tremaining: 51.4ms\n",
            "51:\tlearn: 0.3919924\ttotal: 54.4ms\tremaining: 50.2ms\n",
            "52:\tlearn: 0.3909630\ttotal: 55.5ms\tremaining: 49.2ms\n",
            "53:\tlearn: 0.3904242\ttotal: 56.4ms\tremaining: 48ms\n",
            "54:\tlearn: 0.3899441\ttotal: 58.3ms\tremaining: 47.7ms\n",
            "55:\tlearn: 0.3891795\ttotal: 60.5ms\tremaining: 47.5ms\n",
            "56:\tlearn: 0.3882590\ttotal: 61.5ms\tremaining: 46.4ms\n",
            "57:\tlearn: 0.3878468\ttotal: 62.5ms\tremaining: 45.3ms\n",
            "58:\tlearn: 0.3870798\ttotal: 63.5ms\tremaining: 44.2ms\n",
            "59:\tlearn: 0.3866306\ttotal: 64.6ms\tremaining: 43ms\n",
            "60:\tlearn: 0.3857493\ttotal: 65.5ms\tremaining: 41.9ms\n",
            "61:\tlearn: 0.3856911\ttotal: 66.1ms\tremaining: 40.5ms\n",
            "62:\tlearn: 0.3851791\ttotal: 67ms\tremaining: 39.4ms\n",
            "63:\tlearn: 0.3836504\ttotal: 68.1ms\tremaining: 38.3ms\n",
            "64:\tlearn: 0.3829328\ttotal: 69ms\tremaining: 37.2ms\n",
            "65:\tlearn: 0.3826944\ttotal: 69.9ms\tremaining: 36ms\n",
            "66:\tlearn: 0.3820013\ttotal: 70.9ms\tremaining: 34.9ms\n",
            "67:\tlearn: 0.3816090\ttotal: 71.9ms\tremaining: 33.8ms\n",
            "68:\tlearn: 0.3810447\ttotal: 72.8ms\tremaining: 32.7ms\n",
            "69:\tlearn: 0.3809212\ttotal: 74.3ms\tremaining: 31.8ms\n",
            "70:\tlearn: 0.3798630\ttotal: 75.7ms\tremaining: 30.9ms\n",
            "71:\tlearn: 0.3792767\ttotal: 77.6ms\tremaining: 30.2ms\n",
            "72:\tlearn: 0.3791763\ttotal: 78.6ms\tremaining: 29.1ms\n",
            "73:\tlearn: 0.3786027\ttotal: 79.6ms\tremaining: 28ms\n",
            "74:\tlearn: 0.3776315\ttotal: 80.5ms\tremaining: 26.8ms\n",
            "75:\tlearn: 0.3766292\ttotal: 81.5ms\tremaining: 25.7ms\n",
            "76:\tlearn: 0.3760848\ttotal: 82.5ms\tremaining: 24.7ms\n",
            "77:\tlearn: 0.3756363\ttotal: 83.6ms\tremaining: 23.6ms\n",
            "78:\tlearn: 0.3752110\ttotal: 84.8ms\tremaining: 22.5ms\n",
            "79:\tlearn: 0.3750178\ttotal: 85.8ms\tremaining: 21.4ms\n",
            "80:\tlearn: 0.3747113\ttotal: 86.8ms\tremaining: 20.4ms\n",
            "81:\tlearn: 0.3743073\ttotal: 87.8ms\tremaining: 19.3ms\n",
            "82:\tlearn: 0.3740414\ttotal: 88.7ms\tremaining: 18.2ms\n",
            "83:\tlearn: 0.3736717\ttotal: 89.7ms\tremaining: 17.1ms\n",
            "84:\tlearn: 0.3728018\ttotal: 90.7ms\tremaining: 16ms\n",
            "85:\tlearn: 0.3726660\ttotal: 91.6ms\tremaining: 14.9ms\n",
            "86:\tlearn: 0.3723703\ttotal: 92.6ms\tremaining: 13.8ms\n",
            "87:\tlearn: 0.3720895\ttotal: 93.6ms\tremaining: 12.8ms\n",
            "88:\tlearn: 0.3713609\ttotal: 94.5ms\tremaining: 11.7ms\n",
            "89:\tlearn: 0.3708912\ttotal: 95.5ms\tremaining: 10.6ms\n",
            "90:\tlearn: 0.3707952\ttotal: 96.5ms\tremaining: 9.54ms\n",
            "91:\tlearn: 0.3704288\ttotal: 97.5ms\tremaining: 8.48ms\n",
            "92:\tlearn: 0.3700441\ttotal: 98.5ms\tremaining: 7.41ms\n",
            "93:\tlearn: 0.3699018\ttotal: 99.5ms\tremaining: 6.35ms\n",
            "94:\tlearn: 0.3697241\ttotal: 100ms\tremaining: 5.29ms\n",
            "95:\tlearn: 0.3696563\ttotal: 101ms\tremaining: 4.23ms\n",
            "96:\tlearn: 0.3693281\ttotal: 102ms\tremaining: 3.17ms\n",
            "97:\tlearn: 0.3690498\ttotal: 103ms\tremaining: 2.11ms\n",
            "98:\tlearn: 0.3687136\ttotal: 104ms\tremaining: 1.05ms\n",
            "99:\tlearn: 0.3686275\ttotal: 106ms\tremaining: 0us\n",
            "0:\tlearn: 0.6617776\ttotal: 1.16ms\tremaining: 114ms\n",
            "1:\tlearn: 0.6281587\ttotal: 2.27ms\tremaining: 111ms\n",
            "2:\tlearn: 0.6008092\ttotal: 3.03ms\tremaining: 97.9ms\n",
            "3:\tlearn: 0.5784196\ttotal: 4.05ms\tremaining: 97.3ms\n",
            "4:\tlearn: 0.5626125\ttotal: 4.57ms\tremaining: 86.9ms\n",
            "5:\tlearn: 0.5442157\ttotal: 5.52ms\tremaining: 86.5ms\n",
            "6:\tlearn: 0.5263414\ttotal: 6.54ms\tremaining: 86.9ms\n",
            "7:\tlearn: 0.5105485\ttotal: 7.61ms\tremaining: 87.5ms\n",
            "8:\tlearn: 0.4998939\ttotal: 8.68ms\tremaining: 87.7ms\n",
            "9:\tlearn: 0.4872413\ttotal: 9.64ms\tremaining: 86.8ms\n",
            "10:\tlearn: 0.4755149\ttotal: 10.6ms\tremaining: 86.1ms\n",
            "11:\tlearn: 0.4677845\ttotal: 11.6ms\tremaining: 85.3ms\n",
            "12:\tlearn: 0.4613892\ttotal: 12.6ms\tremaining: 84.6ms\n",
            "13:\tlearn: 0.4545101\ttotal: 13.6ms\tremaining: 83.6ms\n",
            "14:\tlearn: 0.4489038\ttotal: 14.7ms\tremaining: 83.4ms\n",
            "15:\tlearn: 0.4444791\ttotal: 15.7ms\tremaining: 82.3ms\n",
            "16:\tlearn: 0.4379975\ttotal: 16.6ms\tremaining: 81ms\n",
            "17:\tlearn: 0.4353477\ttotal: 17.6ms\tremaining: 80.1ms\n",
            "18:\tlearn: 0.4316919\ttotal: 18.5ms\tremaining: 79ms\n",
            "19:\tlearn: 0.4285959\ttotal: 19.6ms\tremaining: 78.4ms\n",
            "20:\tlearn: 0.4266209\ttotal: 20.6ms\tremaining: 77.4ms\n",
            "21:\tlearn: 0.4244868\ttotal: 21.7ms\tremaining: 76.8ms\n",
            "22:\tlearn: 0.4218185\ttotal: 22.7ms\tremaining: 76ms\n",
            "23:\tlearn: 0.4197062\ttotal: 23.8ms\tremaining: 75.4ms\n",
            "24:\tlearn: 0.4176075\ttotal: 24.8ms\tremaining: 74.5ms\n",
            "25:\tlearn: 0.4141803\ttotal: 25.9ms\tremaining: 73.6ms\n",
            "26:\tlearn: 0.4134158\ttotal: 26.6ms\tremaining: 71.8ms\n",
            "27:\tlearn: 0.4108882\ttotal: 27.6ms\tremaining: 71ms\n",
            "28:\tlearn: 0.4092814\ttotal: 28.6ms\tremaining: 70ms\n",
            "29:\tlearn: 0.4066861\ttotal: 29.6ms\tremaining: 69ms\n",
            "30:\tlearn: 0.4054832\ttotal: 30.5ms\tremaining: 68ms\n",
            "31:\tlearn: 0.4045285\ttotal: 31.5ms\tremaining: 67ms\n",
            "32:\tlearn: 0.4030575\ttotal: 32.5ms\tremaining: 66ms\n",
            "33:\tlearn: 0.4021330\ttotal: 33.5ms\tremaining: 65.1ms\n",
            "34:\tlearn: 0.4011736\ttotal: 34.5ms\tremaining: 64.2ms\n",
            "35:\tlearn: 0.4003476\ttotal: 35.6ms\tremaining: 63.2ms\n",
            "36:\tlearn: 0.3998927\ttotal: 36.5ms\tremaining: 62.2ms\n",
            "37:\tlearn: 0.3988458\ttotal: 37.5ms\tremaining: 61.2ms\n",
            "38:\tlearn: 0.3974663\ttotal: 38.5ms\tremaining: 60.3ms\n",
            "39:\tlearn: 0.3963261\ttotal: 39.5ms\tremaining: 59.3ms\n",
            "40:\tlearn: 0.3955210\ttotal: 40.5ms\tremaining: 58.3ms\n",
            "41:\tlearn: 0.3945145\ttotal: 41.6ms\tremaining: 57.5ms\n",
            "42:\tlearn: 0.3939109\ttotal: 42.7ms\tremaining: 56.6ms\n",
            "43:\tlearn: 0.3930644\ttotal: 43.7ms\tremaining: 55.6ms\n",
            "44:\tlearn: 0.3921012\ttotal: 44.7ms\tremaining: 54.6ms\n",
            "45:\tlearn: 0.3916595\ttotal: 45.8ms\tremaining: 53.7ms\n",
            "46:\tlearn: 0.3908008\ttotal: 46.7ms\tremaining: 52.7ms\n",
            "47:\tlearn: 0.3896663\ttotal: 47.7ms\tremaining: 51.6ms\n",
            "48:\tlearn: 0.3885729\ttotal: 48.6ms\tremaining: 50.6ms\n",
            "49:\tlearn: 0.3872048\ttotal: 53.8ms\tremaining: 53.8ms\n",
            "50:\tlearn: 0.3859342\ttotal: 55ms\tremaining: 52.9ms\n",
            "51:\tlearn: 0.3858453\ttotal: 55.8ms\tremaining: 51.5ms\n",
            "52:\tlearn: 0.3854981\ttotal: 56.9ms\tremaining: 50.5ms\n",
            "53:\tlearn: 0.3846616\ttotal: 57.9ms\tremaining: 49.3ms\n",
            "54:\tlearn: 0.3838871\ttotal: 58.9ms\tremaining: 48.2ms\n",
            "55:\tlearn: 0.3836852\ttotal: 59.8ms\tremaining: 47ms\n",
            "56:\tlearn: 0.3829582\ttotal: 60.7ms\tremaining: 45.8ms\n",
            "57:\tlearn: 0.3824206\ttotal: 61.7ms\tremaining: 44.7ms\n",
            "58:\tlearn: 0.3813851\ttotal: 62.7ms\tremaining: 43.6ms\n",
            "59:\tlearn: 0.3810971\ttotal: 63.7ms\tremaining: 42.4ms\n",
            "60:\tlearn: 0.3805393\ttotal: 64.6ms\tremaining: 41.3ms\n",
            "61:\tlearn: 0.3801036\ttotal: 65.6ms\tremaining: 40.2ms\n",
            "62:\tlearn: 0.3800363\ttotal: 66.1ms\tremaining: 38.8ms\n",
            "63:\tlearn: 0.3797151\ttotal: 67ms\tremaining: 37.7ms\n",
            "64:\tlearn: 0.3794632\ttotal: 68ms\tremaining: 36.6ms\n",
            "65:\tlearn: 0.3785223\ttotal: 69ms\tremaining: 35.5ms\n",
            "66:\tlearn: 0.3785004\ttotal: 69.4ms\tremaining: 34.2ms\n",
            "67:\tlearn: 0.3783066\ttotal: 70.3ms\tremaining: 33.1ms\n",
            "68:\tlearn: 0.3781540\ttotal: 71.2ms\tremaining: 32ms\n",
            "69:\tlearn: 0.3774480\ttotal: 72.2ms\tremaining: 30.9ms\n",
            "70:\tlearn: 0.3763902\ttotal: 73.2ms\tremaining: 29.9ms\n",
            "71:\tlearn: 0.3755437\ttotal: 74.1ms\tremaining: 28.8ms\n",
            "72:\tlearn: 0.3745679\ttotal: 75.1ms\tremaining: 27.8ms\n",
            "73:\tlearn: 0.3738809\ttotal: 76ms\tremaining: 26.7ms\n",
            "74:\tlearn: 0.3730917\ttotal: 76.9ms\tremaining: 25.6ms\n",
            "75:\tlearn: 0.3725884\ttotal: 77.9ms\tremaining: 24.6ms\n",
            "76:\tlearn: 0.3722645\ttotal: 78.8ms\tremaining: 23.6ms\n",
            "77:\tlearn: 0.3714728\ttotal: 79.9ms\tremaining: 22.5ms\n",
            "78:\tlearn: 0.3713239\ttotal: 80.9ms\tremaining: 21.5ms\n",
            "79:\tlearn: 0.3713047\ttotal: 81.5ms\tremaining: 20.4ms\n",
            "80:\tlearn: 0.3706759\ttotal: 82.5ms\tremaining: 19.3ms\n",
            "81:\tlearn: 0.3701497\ttotal: 84.2ms\tremaining: 18.5ms\n",
            "82:\tlearn: 0.3695967\ttotal: 86.4ms\tremaining: 17.7ms\n",
            "83:\tlearn: 0.3692031\ttotal: 87.3ms\tremaining: 16.6ms\n",
            "84:\tlearn: 0.3690195\ttotal: 88.3ms\tremaining: 15.6ms\n",
            "85:\tlearn: 0.3686091\ttotal: 89.3ms\tremaining: 14.5ms\n",
            "86:\tlearn: 0.3685704\ttotal: 90.2ms\tremaining: 13.5ms\n",
            "87:\tlearn: 0.3681110\ttotal: 91.2ms\tremaining: 12.4ms\n",
            "88:\tlearn: 0.3676154\ttotal: 92.1ms\tremaining: 11.4ms\n",
            "89:\tlearn: 0.3672622\ttotal: 93.2ms\tremaining: 10.4ms\n",
            "90:\tlearn: 0.3668306\ttotal: 94.1ms\tremaining: 9.31ms\n",
            "91:\tlearn: 0.3661375\ttotal: 95.1ms\tremaining: 8.27ms\n",
            "92:\tlearn: 0.3657495\ttotal: 96.1ms\tremaining: 7.23ms\n",
            "93:\tlearn: 0.3653674\ttotal: 97ms\tremaining: 6.19ms\n",
            "94:\tlearn: 0.3652327\ttotal: 97.8ms\tremaining: 5.15ms\n",
            "95:\tlearn: 0.3648948\ttotal: 98.9ms\tremaining: 4.12ms\n",
            "96:\tlearn: 0.3636961\ttotal: 99.8ms\tremaining: 3.09ms\n",
            "97:\tlearn: 0.3634268\ttotal: 101ms\tremaining: 2.06ms\n",
            "98:\tlearn: 0.3634113\ttotal: 102ms\tremaining: 1.03ms\n",
            "99:\tlearn: 0.3633638\ttotal: 103ms\tremaining: 0us\n",
            "0:\tlearn: 0.6624667\ttotal: 1.11ms\tremaining: 110ms\n",
            "1:\tlearn: 0.6300487\ttotal: 2.17ms\tremaining: 106ms\n",
            "2:\tlearn: 0.6035879\ttotal: 2.82ms\tremaining: 91.1ms\n",
            "3:\tlearn: 0.5840765\ttotal: 4.04ms\tremaining: 96.9ms\n",
            "4:\tlearn: 0.5690451\ttotal: 4.58ms\tremaining: 87.1ms\n",
            "5:\tlearn: 0.5512333\ttotal: 5.75ms\tremaining: 90ms\n",
            "6:\tlearn: 0.5343281\ttotal: 6.77ms\tremaining: 90ms\n",
            "7:\tlearn: 0.5186123\ttotal: 7.76ms\tremaining: 89.3ms\n",
            "8:\tlearn: 0.5079379\ttotal: 8.95ms\tremaining: 90.5ms\n",
            "9:\tlearn: 0.4964808\ttotal: 10ms\tremaining: 90.1ms\n",
            "10:\tlearn: 0.4858725\ttotal: 11ms\tremaining: 89.3ms\n",
            "11:\tlearn: 0.4789094\ttotal: 12ms\tremaining: 88ms\n",
            "12:\tlearn: 0.4730129\ttotal: 13ms\tremaining: 86.9ms\n",
            "13:\tlearn: 0.4651921\ttotal: 14ms\tremaining: 86.2ms\n",
            "14:\tlearn: 0.4599063\ttotal: 15.1ms\tremaining: 85.3ms\n",
            "15:\tlearn: 0.4554822\ttotal: 16.1ms\tremaining: 84.5ms\n",
            "16:\tlearn: 0.4520383\ttotal: 17.2ms\tremaining: 83.8ms\n",
            "17:\tlearn: 0.4489131\ttotal: 18ms\tremaining: 82ms\n",
            "18:\tlearn: 0.4439411\ttotal: 19.1ms\tremaining: 81.4ms\n",
            "19:\tlearn: 0.4405464\ttotal: 20.1ms\tremaining: 80.6ms\n",
            "20:\tlearn: 0.4383665\ttotal: 21.2ms\tremaining: 79.9ms\n",
            "21:\tlearn: 0.4349979\ttotal: 22.2ms\tremaining: 78.8ms\n",
            "22:\tlearn: 0.4329732\ttotal: 23.2ms\tremaining: 77.8ms\n",
            "23:\tlearn: 0.4294963\ttotal: 24.2ms\tremaining: 76.7ms\n",
            "24:\tlearn: 0.4268373\ttotal: 25.3ms\tremaining: 75.9ms\n",
            "25:\tlearn: 0.4249098\ttotal: 26.4ms\tremaining: 75ms\n",
            "26:\tlearn: 0.4229410\ttotal: 27.4ms\tremaining: 74ms\n",
            "27:\tlearn: 0.4209837\ttotal: 28.5ms\tremaining: 73.2ms\n",
            "28:\tlearn: 0.4196830\ttotal: 29.6ms\tremaining: 72.4ms\n",
            "29:\tlearn: 0.4182586\ttotal: 30.6ms\tremaining: 71.4ms\n",
            "30:\tlearn: 0.4168276\ttotal: 31.7ms\tremaining: 70.5ms\n",
            "31:\tlearn: 0.4142351\ttotal: 32.7ms\tremaining: 69.4ms\n",
            "32:\tlearn: 0.4126842\ttotal: 33.6ms\tremaining: 68.3ms\n",
            "33:\tlearn: 0.4118986\ttotal: 34.4ms\tremaining: 66.8ms\n",
            "34:\tlearn: 0.4112550\ttotal: 35.5ms\tremaining: 65.9ms\n",
            "35:\tlearn: 0.4100793\ttotal: 36.4ms\tremaining: 64.7ms\n",
            "36:\tlearn: 0.4095391\ttotal: 37.4ms\tremaining: 63.7ms\n",
            "37:\tlearn: 0.4089828\ttotal: 38.5ms\tremaining: 62.8ms\n",
            "38:\tlearn: 0.4075199\ttotal: 39.5ms\tremaining: 61.7ms\n",
            "39:\tlearn: 0.4066964\ttotal: 40.4ms\tremaining: 60.6ms\n",
            "40:\tlearn: 0.4057995\ttotal: 41.4ms\tremaining: 59.5ms\n",
            "41:\tlearn: 0.4056057\ttotal: 42.1ms\tremaining: 58.1ms\n",
            "42:\tlearn: 0.4042040\ttotal: 43ms\tremaining: 57ms\n",
            "43:\tlearn: 0.4034786\ttotal: 44ms\tremaining: 56ms\n",
            "44:\tlearn: 0.4030568\ttotal: 45ms\tremaining: 55ms\n",
            "45:\tlearn: 0.4022304\ttotal: 46ms\tremaining: 54ms\n",
            "46:\tlearn: 0.4014597\ttotal: 47ms\tremaining: 52.9ms\n",
            "47:\tlearn: 0.4005715\ttotal: 48ms\tremaining: 52ms\n",
            "48:\tlearn: 0.3997030\ttotal: 49ms\tremaining: 51ms\n",
            "49:\tlearn: 0.3994092\ttotal: 49.9ms\tremaining: 49.9ms\n",
            "50:\tlearn: 0.3989632\ttotal: 50.8ms\tremaining: 48.8ms\n",
            "51:\tlearn: 0.3984624\ttotal: 51.8ms\tremaining: 47.8ms\n",
            "52:\tlearn: 0.3976325\ttotal: 52.9ms\tremaining: 46.9ms\n",
            "53:\tlearn: 0.3969709\ttotal: 54ms\tremaining: 46ms\n",
            "54:\tlearn: 0.3967272\ttotal: 55ms\tremaining: 45ms\n",
            "55:\tlearn: 0.3965107\ttotal: 56.2ms\tremaining: 44.1ms\n",
            "56:\tlearn: 0.3963822\ttotal: 57.2ms\tremaining: 43.1ms\n",
            "57:\tlearn: 0.3953163\ttotal: 58.2ms\tremaining: 42.2ms\n",
            "58:\tlearn: 0.3944263\ttotal: 59.3ms\tremaining: 41.2ms\n",
            "59:\tlearn: 0.3937973\ttotal: 60.3ms\tremaining: 40.2ms\n",
            "60:\tlearn: 0.3937967\ttotal: 60.8ms\tremaining: 38.8ms\n",
            "61:\tlearn: 0.3937373\ttotal: 61.4ms\tremaining: 37.6ms\n",
            "62:\tlearn: 0.3932422\ttotal: 62.4ms\tremaining: 36.7ms\n",
            "63:\tlearn: 0.3931213\ttotal: 63.5ms\tremaining: 35.7ms\n",
            "64:\tlearn: 0.3928681\ttotal: 64.5ms\tremaining: 34.7ms\n",
            "65:\tlearn: 0.3925486\ttotal: 65.6ms\tremaining: 33.8ms\n",
            "66:\tlearn: 0.3923046\ttotal: 66.6ms\tremaining: 32.8ms\n",
            "67:\tlearn: 0.3913308\ttotal: 67.6ms\tremaining: 31.8ms\n",
            "68:\tlearn: 0.3908360\ttotal: 68.5ms\tremaining: 30.8ms\n",
            "69:\tlearn: 0.3904411\ttotal: 69.5ms\tremaining: 29.8ms\n",
            "70:\tlearn: 0.3900265\ttotal: 70.4ms\tremaining: 28.8ms\n",
            "71:\tlearn: 0.3898692\ttotal: 71.5ms\tremaining: 27.8ms\n",
            "72:\tlearn: 0.3898686\ttotal: 72ms\tremaining: 26.6ms\n",
            "73:\tlearn: 0.3898446\ttotal: 72.6ms\tremaining: 25.5ms\n",
            "74:\tlearn: 0.3896208\ttotal: 73.6ms\tremaining: 24.5ms\n",
            "75:\tlearn: 0.3892377\ttotal: 74.5ms\tremaining: 23.5ms\n",
            "76:\tlearn: 0.3887927\ttotal: 75.6ms\tremaining: 22.6ms\n",
            "77:\tlearn: 0.3884868\ttotal: 76.5ms\tremaining: 21.6ms\n",
            "78:\tlearn: 0.3883179\ttotal: 77.5ms\tremaining: 20.6ms\n",
            "79:\tlearn: 0.3880483\ttotal: 78.4ms\tremaining: 19.6ms\n",
            "80:\tlearn: 0.3879662\ttotal: 79.2ms\tremaining: 18.6ms\n",
            "81:\tlearn: 0.3869530\ttotal: 80.1ms\tremaining: 17.6ms\n",
            "82:\tlearn: 0.3862128\ttotal: 81ms\tremaining: 16.6ms\n",
            "83:\tlearn: 0.3857092\ttotal: 81.9ms\tremaining: 15.6ms\n",
            "84:\tlearn: 0.3855351\ttotal: 82.8ms\tremaining: 14.6ms\n",
            "85:\tlearn: 0.3838626\ttotal: 84.6ms\tremaining: 13.8ms\n",
            "86:\tlearn: 0.3837010\ttotal: 87.2ms\tremaining: 13ms\n",
            "87:\tlearn: 0.3830435\ttotal: 88.5ms\tremaining: 12.1ms\n",
            "88:\tlearn: 0.3829032\ttotal: 89.6ms\tremaining: 11.1ms\n",
            "89:\tlearn: 0.3821954\ttotal: 90.7ms\tremaining: 10.1ms\n",
            "90:\tlearn: 0.3816273\ttotal: 91.6ms\tremaining: 9.06ms\n",
            "91:\tlearn: 0.3810586\ttotal: 92.7ms\tremaining: 8.06ms\n",
            "92:\tlearn: 0.3806464\ttotal: 93.7ms\tremaining: 7.05ms\n",
            "93:\tlearn: 0.3803611\ttotal: 94.7ms\tremaining: 6.04ms\n",
            "94:\tlearn: 0.3797408\ttotal: 95.7ms\tremaining: 5.04ms\n",
            "95:\tlearn: 0.3794561\ttotal: 96.8ms\tremaining: 4.03ms\n",
            "96:\tlearn: 0.3787847\ttotal: 97.8ms\tremaining: 3.02ms\n",
            "97:\tlearn: 0.3781568\ttotal: 98.7ms\tremaining: 2.01ms\n",
            "98:\tlearn: 0.3772578\ttotal: 99.7ms\tremaining: 1.01ms\n",
            "99:\tlearn: 0.3769448\ttotal: 101ms\tremaining: 0us\n",
            "0:\tlearn: 0.6568557\ttotal: 1.09ms\tremaining: 108ms\n",
            "1:\tlearn: 0.6263296\ttotal: 2.39ms\tremaining: 117ms\n",
            "2:\tlearn: 0.6007111\ttotal: 3.42ms\tremaining: 111ms\n",
            "3:\tlearn: 0.5763008\ttotal: 4.46ms\tremaining: 107ms\n",
            "4:\tlearn: 0.5604433\ttotal: 5.42ms\tremaining: 103ms\n",
            "5:\tlearn: 0.5412645\ttotal: 6.32ms\tremaining: 99ms\n",
            "6:\tlearn: 0.5248695\ttotal: 7.33ms\tremaining: 97.3ms\n",
            "7:\tlearn: 0.5103739\ttotal: 8.2ms\tremaining: 94.3ms\n",
            "8:\tlearn: 0.4991950\ttotal: 9.18ms\tremaining: 92.8ms\n",
            "9:\tlearn: 0.4903316\ttotal: 10.2ms\tremaining: 91.4ms\n",
            "10:\tlearn: 0.4801281\ttotal: 11.2ms\tremaining: 90.3ms\n",
            "11:\tlearn: 0.4728511\ttotal: 12.1ms\tremaining: 88.8ms\n",
            "12:\tlearn: 0.4672377\ttotal: 13.1ms\tremaining: 87.4ms\n",
            "13:\tlearn: 0.4608620\ttotal: 14.1ms\tremaining: 86.5ms\n",
            "14:\tlearn: 0.4554578\ttotal: 15ms\tremaining: 85.3ms\n",
            "15:\tlearn: 0.4520170\ttotal: 16ms\tremaining: 84.3ms\n",
            "16:\tlearn: 0.4475049\ttotal: 16.9ms\tremaining: 82.7ms\n",
            "17:\tlearn: 0.4428789\ttotal: 17.8ms\tremaining: 81.2ms\n",
            "18:\tlearn: 0.4406941\ttotal: 18.8ms\tremaining: 80.2ms\n",
            "19:\tlearn: 0.4368471\ttotal: 19.8ms\tremaining: 79.1ms\n",
            "20:\tlearn: 0.4324050\ttotal: 20.7ms\tremaining: 78ms\n",
            "21:\tlearn: 0.4282248\ttotal: 21.7ms\tremaining: 76.9ms\n",
            "22:\tlearn: 0.4267612\ttotal: 22.7ms\tremaining: 75.9ms\n",
            "23:\tlearn: 0.4245641\ttotal: 23.6ms\tremaining: 74.9ms\n",
            "24:\tlearn: 0.4227755\ttotal: 24.7ms\tremaining: 74ms\n",
            "25:\tlearn: 0.4200968\ttotal: 25.7ms\tremaining: 73.1ms\n",
            "26:\tlearn: 0.4184085\ttotal: 26.7ms\tremaining: 72.2ms\n",
            "27:\tlearn: 0.4169719\ttotal: 27.7ms\tremaining: 71.3ms\n",
            "28:\tlearn: 0.4156556\ttotal: 28.8ms\tremaining: 70.6ms\n",
            "29:\tlearn: 0.4145223\ttotal: 29.8ms\tremaining: 69.5ms\n",
            "30:\tlearn: 0.4129535\ttotal: 30.8ms\tremaining: 68.5ms\n",
            "31:\tlearn: 0.4129109\ttotal: 31.2ms\tremaining: 66.4ms\n",
            "32:\tlearn: 0.4114614\ttotal: 32.3ms\tremaining: 65.6ms\n",
            "33:\tlearn: 0.4098866\ttotal: 33.3ms\tremaining: 64.6ms\n",
            "34:\tlearn: 0.4085558\ttotal: 34.3ms\tremaining: 63.6ms\n",
            "35:\tlearn: 0.4074934\ttotal: 35.3ms\tremaining: 62.7ms\n",
            "36:\tlearn: 0.4060663\ttotal: 36.3ms\tremaining: 61.8ms\n",
            "37:\tlearn: 0.4051405\ttotal: 37.2ms\tremaining: 60.8ms\n",
            "38:\tlearn: 0.4044542\ttotal: 38.3ms\tremaining: 59.8ms\n",
            "39:\tlearn: 0.4040227\ttotal: 39.2ms\tremaining: 58.8ms\n",
            "40:\tlearn: 0.4032492\ttotal: 40.1ms\tremaining: 57.8ms\n",
            "41:\tlearn: 0.4025613\ttotal: 40.9ms\tremaining: 56.5ms\n",
            "42:\tlearn: 0.4007240\ttotal: 41.9ms\tremaining: 55.6ms\n",
            "43:\tlearn: 0.4002479\ttotal: 43ms\tremaining: 54.7ms\n",
            "44:\tlearn: 0.3997553\ttotal: 43.9ms\tremaining: 53.6ms\n",
            "45:\tlearn: 0.3992517\ttotal: 44.8ms\tremaining: 52.6ms\n",
            "46:\tlearn: 0.3987662\ttotal: 45.8ms\tremaining: 51.6ms\n",
            "47:\tlearn: 0.3980640\ttotal: 46.8ms\tremaining: 50.7ms\n",
            "48:\tlearn: 0.3977108\ttotal: 47.8ms\tremaining: 49.7ms\n",
            "49:\tlearn: 0.3962000\ttotal: 48.7ms\tremaining: 48.7ms\n",
            "50:\tlearn: 0.3955594\ttotal: 49.7ms\tremaining: 47.8ms\n",
            "51:\tlearn: 0.3946304\ttotal: 50.7ms\tremaining: 46.8ms\n",
            "52:\tlearn: 0.3935597\ttotal: 51.7ms\tremaining: 45.9ms\n",
            "53:\tlearn: 0.3926513\ttotal: 52.7ms\tremaining: 44.9ms\n",
            "54:\tlearn: 0.3923033\ttotal: 53.6ms\tremaining: 43.9ms\n",
            "55:\tlearn: 0.3917052\ttotal: 54.6ms\tremaining: 42.9ms\n",
            "56:\tlearn: 0.3910733\ttotal: 55.6ms\tremaining: 42ms\n",
            "57:\tlearn: 0.3904510\ttotal: 56.6ms\tremaining: 41ms\n",
            "58:\tlearn: 0.3904434\ttotal: 57.3ms\tremaining: 39.8ms\n",
            "59:\tlearn: 0.3899394\ttotal: 58.2ms\tremaining: 38.8ms\n",
            "60:\tlearn: 0.3892280\ttotal: 59.1ms\tremaining: 37.8ms\n",
            "61:\tlearn: 0.3890182\ttotal: 60.1ms\tremaining: 36.9ms\n",
            "62:\tlearn: 0.3886077\ttotal: 61.2ms\tremaining: 35.9ms\n",
            "63:\tlearn: 0.3882688\ttotal: 62.1ms\tremaining: 35ms\n",
            "64:\tlearn: 0.3874930\ttotal: 63.2ms\tremaining: 34ms\n",
            "65:\tlearn: 0.3869393\ttotal: 64.1ms\tremaining: 33ms\n",
            "66:\tlearn: 0.3866301\ttotal: 65.1ms\tremaining: 32ms\n",
            "67:\tlearn: 0.3860869\ttotal: 66.1ms\tremaining: 31.1ms\n",
            "68:\tlearn: 0.3857845\ttotal: 67.1ms\tremaining: 30.2ms\n",
            "69:\tlearn: 0.3854947\ttotal: 68.1ms\tremaining: 29.2ms\n",
            "70:\tlearn: 0.3850351\ttotal: 69ms\tremaining: 28.2ms\n",
            "71:\tlearn: 0.3845887\ttotal: 70ms\tremaining: 27.2ms\n",
            "72:\tlearn: 0.3835201\ttotal: 71.1ms\tremaining: 26.3ms\n",
            "73:\tlearn: 0.3829326\ttotal: 72.1ms\tremaining: 25.3ms\n",
            "74:\tlearn: 0.3825609\ttotal: 73ms\tremaining: 24.3ms\n",
            "75:\tlearn: 0.3821576\ttotal: 73.9ms\tremaining: 23.3ms\n",
            "76:\tlearn: 0.3820302\ttotal: 74.9ms\tremaining: 22.4ms\n",
            "77:\tlearn: 0.3814032\ttotal: 76ms\tremaining: 21.4ms\n",
            "78:\tlearn: 0.3814028\ttotal: 76.7ms\tremaining: 20.4ms\n",
            "79:\tlearn: 0.3810605\ttotal: 77.7ms\tremaining: 19.4ms\n",
            "80:\tlearn: 0.3806039\ttotal: 78.6ms\tremaining: 18.4ms\n",
            "81:\tlearn: 0.3805422\ttotal: 79.5ms\tremaining: 17.5ms\n",
            "82:\tlearn: 0.3801882\ttotal: 80.6ms\tremaining: 16.5ms\n",
            "83:\tlearn: 0.3797301\ttotal: 81.5ms\tremaining: 15.5ms\n",
            "84:\tlearn: 0.3796455\ttotal: 82.5ms\tremaining: 14.6ms\n",
            "85:\tlearn: 0.3791843\ttotal: 83.4ms\tremaining: 13.6ms\n",
            "86:\tlearn: 0.3785434\ttotal: 84.3ms\tremaining: 12.6ms\n",
            "87:\tlearn: 0.3784230\ttotal: 85.2ms\tremaining: 11.6ms\n",
            "88:\tlearn: 0.3783732\ttotal: 86.1ms\tremaining: 10.6ms\n",
            "89:\tlearn: 0.3783253\ttotal: 87ms\tremaining: 9.66ms\n",
            "90:\tlearn: 0.3776187\ttotal: 87.8ms\tremaining: 8.69ms\n",
            "91:\tlearn: 0.3775764\ttotal: 88.7ms\tremaining: 7.72ms\n",
            "92:\tlearn: 0.3775042\ttotal: 89.6ms\tremaining: 6.75ms\n",
            "93:\tlearn: 0.3769917\ttotal: 90.6ms\tremaining: 5.78ms\n",
            "94:\tlearn: 0.3763611\ttotal: 91.6ms\tremaining: 4.82ms\n",
            "95:\tlearn: 0.3761016\ttotal: 92.5ms\tremaining: 3.85ms\n",
            "96:\tlearn: 0.3758341\ttotal: 93.5ms\tremaining: 2.89ms\n",
            "97:\tlearn: 0.3757211\ttotal: 94.5ms\tremaining: 1.93ms\n",
            "98:\tlearn: 0.3753168\ttotal: 95.4ms\tremaining: 964us\n",
            "99:\tlearn: 0.3750042\ttotal: 96.3ms\tremaining: 0us\n",
            "0:\tlearn: 0.6536024\ttotal: 1.2ms\tremaining: 119ms\n",
            "1:\tlearn: 0.6197048\ttotal: 2.43ms\tremaining: 119ms\n",
            "2:\tlearn: 0.5898575\ttotal: 3.48ms\tremaining: 113ms\n",
            "3:\tlearn: 0.5676252\ttotal: 4.53ms\tremaining: 109ms\n",
            "4:\tlearn: 0.5467192\ttotal: 5.6ms\tremaining: 106ms\n",
            "5:\tlearn: 0.5321647\ttotal: 6.23ms\tremaining: 97.7ms\n",
            "6:\tlearn: 0.5191665\ttotal: 7.13ms\tremaining: 94.7ms\n",
            "7:\tlearn: 0.5073612\ttotal: 8.09ms\tremaining: 93ms\n",
            "8:\tlearn: 0.4939314\ttotal: 9.07ms\tremaining: 91.7ms\n",
            "9:\tlearn: 0.4831825\ttotal: 10.1ms\tremaining: 91.1ms\n",
            "10:\tlearn: 0.4754574\ttotal: 11.1ms\tremaining: 89.4ms\n",
            "11:\tlearn: 0.4668054\ttotal: 11.9ms\tremaining: 87.6ms\n",
            "12:\tlearn: 0.4587028\ttotal: 13ms\tremaining: 87ms\n",
            "13:\tlearn: 0.4544722\ttotal: 13.8ms\tremaining: 84.9ms\n",
            "14:\tlearn: 0.4477186\ttotal: 14.8ms\tremaining: 83.7ms\n",
            "15:\tlearn: 0.4425784\ttotal: 15.7ms\tremaining: 82.6ms\n",
            "16:\tlearn: 0.4382916\ttotal: 16.7ms\tremaining: 81.6ms\n",
            "17:\tlearn: 0.4337518\ttotal: 17.8ms\tremaining: 81.2ms\n",
            "18:\tlearn: 0.4296083\ttotal: 18.8ms\tremaining: 80ms\n",
            "19:\tlearn: 0.4269409\ttotal: 19.8ms\tremaining: 79.1ms\n",
            "20:\tlearn: 0.4226630\ttotal: 20.9ms\tremaining: 78.8ms\n",
            "21:\tlearn: 0.4204331\ttotal: 21.9ms\tremaining: 77.8ms\n",
            "22:\tlearn: 0.4190250\ttotal: 22.9ms\tremaining: 76.8ms\n",
            "23:\tlearn: 0.4164793\ttotal: 23.9ms\tremaining: 75.7ms\n",
            "24:\tlearn: 0.4157290\ttotal: 24.3ms\tremaining: 73ms\n",
            "25:\tlearn: 0.4145958\ttotal: 25.2ms\tremaining: 71.8ms\n",
            "26:\tlearn: 0.4135201\ttotal: 26.1ms\tremaining: 70.6ms\n",
            "27:\tlearn: 0.4121420\ttotal: 27.1ms\tremaining: 69.8ms\n",
            "28:\tlearn: 0.4108361\ttotal: 28ms\tremaining: 68.5ms\n",
            "29:\tlearn: 0.4098248\ttotal: 29.1ms\tremaining: 67.8ms\n",
            "30:\tlearn: 0.4088584\ttotal: 33.4ms\tremaining: 74.3ms\n",
            "31:\tlearn: 0.4078763\ttotal: 34.5ms\tremaining: 73.3ms\n",
            "32:\tlearn: 0.4067252\ttotal: 35.5ms\tremaining: 72.1ms\n",
            "33:\tlearn: 0.4062626\ttotal: 36.1ms\tremaining: 70.1ms\n",
            "34:\tlearn: 0.4052085\ttotal: 37.1ms\tremaining: 69ms\n",
            "35:\tlearn: 0.4037455\ttotal: 38.2ms\tremaining: 67.8ms\n",
            "36:\tlearn: 0.4020293\ttotal: 39.2ms\tremaining: 66.7ms\n",
            "37:\tlearn: 0.4007118\ttotal: 40.3ms\tremaining: 65.7ms\n",
            "38:\tlearn: 0.3998163\ttotal: 41.3ms\tremaining: 64.6ms\n",
            "39:\tlearn: 0.3991257\ttotal: 42.4ms\tremaining: 63.6ms\n",
            "40:\tlearn: 0.3985318\ttotal: 43.4ms\tremaining: 62.5ms\n",
            "41:\tlearn: 0.3972546\ttotal: 44.5ms\tremaining: 61.5ms\n",
            "42:\tlearn: 0.3967015\ttotal: 45.6ms\tremaining: 60.4ms\n",
            "43:\tlearn: 0.3958018\ttotal: 46.5ms\tremaining: 59.2ms\n",
            "44:\tlearn: 0.3950530\ttotal: 47.5ms\tremaining: 58.1ms\n",
            "45:\tlearn: 0.3944350\ttotal: 48.6ms\tremaining: 57ms\n",
            "46:\tlearn: 0.3941073\ttotal: 49.6ms\tremaining: 55.9ms\n",
            "47:\tlearn: 0.3937505\ttotal: 50.6ms\tremaining: 54.8ms\n",
            "48:\tlearn: 0.3927420\ttotal: 51.7ms\tremaining: 53.8ms\n",
            "49:\tlearn: 0.3921792\ttotal: 52.6ms\tremaining: 52.6ms\n",
            "50:\tlearn: 0.3913830\ttotal: 53.6ms\tremaining: 51.5ms\n",
            "51:\tlearn: 0.3906368\ttotal: 54.6ms\tremaining: 50.4ms\n",
            "52:\tlearn: 0.3903357\ttotal: 55.5ms\tremaining: 49.2ms\n",
            "53:\tlearn: 0.3897327\ttotal: 56.5ms\tremaining: 48.1ms\n",
            "54:\tlearn: 0.3891587\ttotal: 57.6ms\tremaining: 47.1ms\n",
            "55:\tlearn: 0.3884028\ttotal: 58.6ms\tremaining: 46ms\n",
            "56:\tlearn: 0.3872851\ttotal: 59.6ms\tremaining: 45ms\n",
            "57:\tlearn: 0.3871327\ttotal: 60.6ms\tremaining: 43.9ms\n",
            "58:\tlearn: 0.3867850\ttotal: 61.6ms\tremaining: 42.8ms\n",
            "59:\tlearn: 0.3864169\ttotal: 62.6ms\tremaining: 41.7ms\n",
            "60:\tlearn: 0.3863165\ttotal: 63.6ms\tremaining: 40.6ms\n",
            "61:\tlearn: 0.3853057\ttotal: 64.5ms\tremaining: 39.5ms\n",
            "62:\tlearn: 0.3845143\ttotal: 65.5ms\tremaining: 38.4ms\n",
            "63:\tlearn: 0.3841565\ttotal: 66.4ms\tremaining: 37.4ms\n",
            "64:\tlearn: 0.3834323\ttotal: 67.5ms\tremaining: 36.3ms\n",
            "65:\tlearn: 0.3827543\ttotal: 68.5ms\tremaining: 35.3ms\n",
            "66:\tlearn: 0.3824914\ttotal: 69.7ms\tremaining: 34.3ms\n",
            "67:\tlearn: 0.3823721\ttotal: 70.6ms\tremaining: 33.2ms\n",
            "68:\tlearn: 0.3821853\ttotal: 71.7ms\tremaining: 32.2ms\n",
            "69:\tlearn: 0.3816192\ttotal: 72.7ms\tremaining: 31.2ms\n",
            "70:\tlearn: 0.3814892\ttotal: 73.7ms\tremaining: 30.1ms\n",
            "71:\tlearn: 0.3806604\ttotal: 74.7ms\tremaining: 29.1ms\n",
            "72:\tlearn: 0.3804542\ttotal: 75.7ms\tremaining: 28ms\n",
            "73:\tlearn: 0.3804374\ttotal: 76.1ms\tremaining: 26.7ms\n",
            "74:\tlearn: 0.3802450\ttotal: 77.1ms\tremaining: 25.7ms\n",
            "75:\tlearn: 0.3800366\ttotal: 78.1ms\tremaining: 24.6ms\n",
            "76:\tlearn: 0.3796708\ttotal: 79ms\tremaining: 23.6ms\n",
            "77:\tlearn: 0.3794054\ttotal: 80ms\tremaining: 22.6ms\n",
            "78:\tlearn: 0.3793903\ttotal: 80.5ms\tremaining: 21.4ms\n",
            "79:\tlearn: 0.3792643\ttotal: 81.4ms\tremaining: 20.4ms\n",
            "80:\tlearn: 0.3792503\ttotal: 81.9ms\tremaining: 19.2ms\n",
            "81:\tlearn: 0.3790487\ttotal: 82.8ms\tremaining: 18.2ms\n",
            "82:\tlearn: 0.3789763\ttotal: 83.8ms\tremaining: 17.2ms\n",
            "83:\tlearn: 0.3787670\ttotal: 84.8ms\tremaining: 16.2ms\n",
            "84:\tlearn: 0.3785459\ttotal: 85.7ms\tremaining: 15.1ms\n",
            "85:\tlearn: 0.3784814\ttotal: 86.7ms\tremaining: 14.1ms\n",
            "86:\tlearn: 0.3777449\ttotal: 87.7ms\tremaining: 13.1ms\n",
            "87:\tlearn: 0.3777417\ttotal: 88.7ms\tremaining: 12.1ms\n",
            "88:\tlearn: 0.3774556\ttotal: 89.5ms\tremaining: 11.1ms\n",
            "89:\tlearn: 0.3774181\ttotal: 90.1ms\tremaining: 10ms\n",
            "90:\tlearn: 0.3773443\ttotal: 91ms\tremaining: 9.01ms\n",
            "91:\tlearn: 0.3772501\ttotal: 92.1ms\tremaining: 8.01ms\n",
            "92:\tlearn: 0.3770136\ttotal: 93.1ms\tremaining: 7.01ms\n",
            "93:\tlearn: 0.3769776\ttotal: 94ms\tremaining: 6ms\n",
            "94:\tlearn: 0.3763672\ttotal: 95.1ms\tremaining: 5ms\n",
            "95:\tlearn: 0.3762977\ttotal: 96.1ms\tremaining: 4ms\n",
            "96:\tlearn: 0.3757025\ttotal: 97ms\tremaining: 3ms\n",
            "97:\tlearn: 0.3752899\ttotal: 98ms\tremaining: 2ms\n",
            "98:\tlearn: 0.3751498\ttotal: 99ms\tremaining: 999us\n",
            "99:\tlearn: 0.3751486\ttotal: 99.9ms\tremaining: 0us\n",
            "Accuracy: 85.94\n",
            "Accuracy CV 10-Fold: 0.8324182839632277\n",
            "Best Parameters: {'depth': 5, 'iterations': 100, 'learning_rate': 0.1}\n",
            "Running Time: 0:00:04.544950\n"
          ],
          "name": "stdout"
        }
      ]
    },
    {
      "cell_type": "code",
      "metadata": {
        "id": "VHWD0eumk4dO",
        "colab_type": "code",
        "outputId": "cc4a7b57-913a-42b0-9831-0833699e3c39",
        "colab": {
          "base_uri": "https://localhost:8080/",
          "height": 87
        }
      },
      "source": [
        "# Print out the CatBoost model metrics\n",
        "print(\"---CatBoost Metrics---\")\n",
        "print(\"Accuracy: {}\".format(acc_catboost))\n",
        "print(\"Accuracy cross-validation 10-Fold: {}\".format(acc_cv_cbt))\n",
        "print(\"Running Time: {}\".format(datetime.timedelta(seconds=cbt_time)))"
      ],
      "execution_count": 0,
      "outputs": [
        {
          "output_type": "stream",
          "text": [
            "---CatBoost Metrics---\n",
            "Accuracy: 84.36\n",
            "Accuracy cross-validation 10-Fold: 0.8324182839632277\n",
            "Running Time: 0:00:04.544950\n"
          ],
          "name": "stdout"
        }
      ]
    },
    {
      "cell_type": "markdown",
      "metadata": {
        "id": "uTbKPnrfk4dP",
        "colab_type": "text"
      },
      "source": [
        "## Model Results\n",
        "Which model had the best cross-validation accuracy?\n",
        "\n",
        "**Note:** We care most about cross-validation metrics because the metrics we get from `.fit()` can randomly score higher than usual."
      ]
    },
    {
      "cell_type": "code",
      "metadata": {
        "id": "w3Onhp7zk4dP",
        "colab_type": "code",
        "outputId": "151a305a-4996-4daa-af7d-a66c1358967c",
        "colab": {
          "base_uri": "https://localhost:8080/",
          "height": 342
        }
      },
      "source": [
        "cv_models = pd.DataFrame({\n",
        "    'Model': ['Logistic Regression',\n",
        "              'KNN', \n",
        "              'Naive Bayes', \n",
        "              'SVC',\n",
        "              'Stochastic Gradient Decent', \n",
        "              'Decision Tree',\n",
        "              'Random Forest',\n",
        "              'Gradient Boosting Trees',\n",
        "              'CatBoost'],\n",
        "    'Score': [\n",
        "        acc_cv_log,\n",
        "         acc_cv_knn, \n",
        "        acc_cv_gaussian,\n",
        "        acc_cv_svc,\n",
        "        acc_cv_sgd, \n",
        "        acc_cv_dt,\n",
        "        acc_cv_rf,\n",
        "        acc_cv_gbt,\n",
        "        acc_cv_cbt\n",
        "    ]})\n",
        "print('---Cross-validation Accuracy Scores---')\n",
        "cv_models.sort_values(by='Score', ascending=False)"
      ],
      "execution_count": 0,
      "outputs": [
        {
          "output_type": "stream",
          "text": [
            "---Cross-validation Accuracy Scores---\n"
          ],
          "name": "stdout"
        },
        {
          "output_type": "execute_result",
          "data": {
            "text/html": [
              "<div>\n",
              "<style scoped>\n",
              "    .dataframe tbody tr th:only-of-type {\n",
              "        vertical-align: middle;\n",
              "    }\n",
              "\n",
              "    .dataframe tbody tr th {\n",
              "        vertical-align: top;\n",
              "    }\n",
              "\n",
              "    .dataframe thead th {\n",
              "        text-align: right;\n",
              "    }\n",
              "</style>\n",
              "<table border=\"1\" class=\"dataframe\">\n",
              "  <thead>\n",
              "    <tr style=\"text-align: right;\">\n",
              "      <th></th>\n",
              "      <th>Model</th>\n",
              "      <th>Score</th>\n",
              "    </tr>\n",
              "  </thead>\n",
              "  <tbody>\n",
              "    <tr>\n",
              "      <th>6</th>\n",
              "      <td>Random Forest</td>\n",
              "      <td>0.833542</td>\n",
              "    </tr>\n",
              "    <tr>\n",
              "      <th>8</th>\n",
              "      <td>CatBoost</td>\n",
              "      <td>0.832418</td>\n",
              "    </tr>\n",
              "    <tr>\n",
              "      <th>7</th>\n",
              "      <td>Gradient Boosting Trees</td>\n",
              "      <td>0.829035</td>\n",
              "    </tr>\n",
              "    <tr>\n",
              "      <th>0</th>\n",
              "      <td>Logistic Regression</td>\n",
              "      <td>0.826800</td>\n",
              "    </tr>\n",
              "    <tr>\n",
              "      <th>5</th>\n",
              "      <td>Decision Tree</td>\n",
              "      <td>0.821170</td>\n",
              "    </tr>\n",
              "    <tr>\n",
              "      <th>3</th>\n",
              "      <td>SVC</td>\n",
              "      <td>0.814454</td>\n",
              "    </tr>\n",
              "    <tr>\n",
              "      <th>2</th>\n",
              "      <td>Naive Bayes</td>\n",
              "      <td>0.799796</td>\n",
              "    </tr>\n",
              "    <tr>\n",
              "      <th>1</th>\n",
              "      <td>KNN</td>\n",
              "      <td>0.775077</td>\n",
              "    </tr>\n",
              "    <tr>\n",
              "      <th>4</th>\n",
              "      <td>Stochastic Gradient Decent</td>\n",
              "      <td>0.746872</td>\n",
              "    </tr>\n",
              "  </tbody>\n",
              "</table>\n",
              "</div>"
            ],
            "text/plain": [
              "                        Model     Score\n",
              "6               Random Forest  0.833542\n",
              "8                    CatBoost  0.832418\n",
              "7     Gradient Boosting Trees  0.829035\n",
              "0         Logistic Regression  0.826800\n",
              "5               Decision Tree  0.821170\n",
              "3                         SVC  0.814454\n",
              "2                 Naive Bayes  0.799796\n",
              "1                         KNN  0.775077\n",
              "4  Stochastic Gradient Decent  0.746872"
            ]
          },
          "metadata": {
            "tags": []
          },
          "execution_count": 300
        }
      ]
    },
    {
      "cell_type": "markdown",
      "metadata": {
        "id": "L4Q8BluMk4dR",
        "colab_type": "text"
      },
      "source": [
        "We can see from the tables, the CatBoost model had the best results. Getting just under 83% is pretty good considering guessing would result in about 50% accuracy (0 or 1).\n",
        "\n",
        "We'll pay more attention to the cross-validation figure.\n",
        "\n",
        "Cross-validation is more robust than just the `.fit()` models as it does multiple passes over the data instead of one.\n",
        "\n",
        "Because the CatBoost model got the best results, we'll use it for the next steps."
      ]
    },
    {
      "cell_type": "markdown",
      "metadata": {
        "id": "dnNaeNDek4dS",
        "colab_type": "text"
      },
      "source": [
        "## Feature Importance\n",
        "Which features of the best model were most important for making predictions?"
      ]
    },
    {
      "cell_type": "code",
      "metadata": {
        "id": "7ShSMevSk4dS",
        "colab_type": "code",
        "colab": {}
      },
      "source": [
        "# Feature Importance\n",
        "def feature_importance(model, data):\n",
        "    \"\"\"\n",
        "    Function to show which features are most important in the model.\n",
        "    ::param_model:: Which model to use?\n",
        "    ::param_data:: What data to use?\n",
        "    \"\"\"\n",
        "    fea_imp = pd.DataFrame({'imp': model.feature_importances_, 'col': data.columns})\n",
        "    fea_imp = fea_imp.sort_values(['imp', 'col'], ascending=[True,False]).iloc[-30:]\n",
        "    _ = fea_imp.plot(kind='barh', x='col', y='imp', figsize=(20, 10))\n",
        "    return fea_imp\n",
        "    #plt.savefig('catboost_feature_importance.png') "
      ],
      "execution_count": 0,
      "outputs": []
    },
    {
      "cell_type": "code",
      "metadata": {
        "id": "U0iFhuy3LWQI",
        "colab_type": "code",
        "outputId": "f116e2b1-b4d1-4e0d-ae43-b61547bbe1db",
        "colab": {
          "base_uri": "https://localhost:8080/",
          "height": 35
        }
      },
      "source": [
        "# CatBoost model definition\n",
        "catboost_model = CatBoostClassifier(cat_features=cat_features,\n",
        "                                    learning_rate=0.1,\n",
        "                                    iterations=100,\n",
        "                                    depth=5)\n",
        "\n",
        "# Fit CatBoost model\n",
        "catboost_model.fit(train_pool,verbose=False)"
      ],
      "execution_count": 0,
      "outputs": [
        {
          "output_type": "execute_result",
          "data": {
            "text/plain": [
              "<catboost.core.CatBoostClassifier at 0x7f0660a8d278>"
            ]
          },
          "metadata": {
            "tags": []
          },
          "execution_count": 302
        }
      ]
    },
    {
      "cell_type": "code",
      "metadata": {
        "id": "Do4J1jONk4dT",
        "colab_type": "code",
        "outputId": "4ade4009-6dc5-4c48-aa4c-e9b381b02a89",
        "colab": {
          "base_uri": "https://localhost:8080/",
          "height": 1000
        }
      },
      "source": [
        "# Plot the feature importance scores\n",
        "feature_importance(catboost_model, X_train)"
      ],
      "execution_count": 0,
      "outputs": [
        {
          "output_type": "execute_result",
          "data": {
            "text/html": [
              "<div>\n",
              "<style scoped>\n",
              "    .dataframe tbody tr th:only-of-type {\n",
              "        vertical-align: middle;\n",
              "    }\n",
              "\n",
              "    .dataframe tbody tr th {\n",
              "        vertical-align: top;\n",
              "    }\n",
              "\n",
              "    .dataframe thead th {\n",
              "        text-align: right;\n",
              "    }\n",
              "</style>\n",
              "<table border=\"1\" class=\"dataframe\">\n",
              "  <thead>\n",
              "    <tr style=\"text-align: right;\">\n",
              "      <th></th>\n",
              "      <th>imp</th>\n",
              "      <th>col</th>\n",
              "    </tr>\n",
              "  </thead>\n",
              "  <tbody>\n",
              "    <tr>\n",
              "      <th>15</th>\n",
              "      <td>0.335292</td>\n",
              "      <td>age_3</td>\n",
              "    </tr>\n",
              "    <tr>\n",
              "      <th>7</th>\n",
              "      <td>0.392289</td>\n",
              "      <td>titles_Miss.</td>\n",
              "    </tr>\n",
              "    <tr>\n",
              "      <th>9</th>\n",
              "      <td>0.433848</td>\n",
              "      <td>titles_Mrs.</td>\n",
              "    </tr>\n",
              "    <tr>\n",
              "      <th>17</th>\n",
              "      <td>0.536151</td>\n",
              "      <td>embarked_Q</td>\n",
              "    </tr>\n",
              "    <tr>\n",
              "      <th>13</th>\n",
              "      <td>0.651362</td>\n",
              "      <td>age_1</td>\n",
              "    </tr>\n",
              "    <tr>\n",
              "      <th>10</th>\n",
              "      <td>1.268068</td>\n",
              "      <td>titles_Others.</td>\n",
              "    </tr>\n",
              "    <tr>\n",
              "      <th>16</th>\n",
              "      <td>1.412099</td>\n",
              "      <td>embarked_C</td>\n",
              "    </tr>\n",
              "    <tr>\n",
              "      <th>18</th>\n",
              "      <td>1.434100</td>\n",
              "      <td>embarked_S</td>\n",
              "    </tr>\n",
              "    <tr>\n",
              "      <th>14</th>\n",
              "      <td>1.453870</td>\n",
              "      <td>age_2</td>\n",
              "    </tr>\n",
              "    <tr>\n",
              "      <th>1</th>\n",
              "      <td>2.685323</td>\n",
              "      <td>Parch</td>\n",
              "    </tr>\n",
              "    <tr>\n",
              "      <th>4</th>\n",
              "      <td>3.139921</td>\n",
              "      <td>pclass_2</td>\n",
              "    </tr>\n",
              "    <tr>\n",
              "      <th>0</th>\n",
              "      <td>3.684295</td>\n",
              "      <td>SibSp</td>\n",
              "    </tr>\n",
              "    <tr>\n",
              "      <th>6</th>\n",
              "      <td>4.648185</td>\n",
              "      <td>titles_Master.</td>\n",
              "    </tr>\n",
              "    <tr>\n",
              "      <th>3</th>\n",
              "      <td>5.681273</td>\n",
              "      <td>pclass_1</td>\n",
              "    </tr>\n",
              "    <tr>\n",
              "      <th>2</th>\n",
              "      <td>8.570747</td>\n",
              "      <td>Fare</td>\n",
              "    </tr>\n",
              "    <tr>\n",
              "      <th>5</th>\n",
              "      <td>11.653507</td>\n",
              "      <td>pclass_3</td>\n",
              "    </tr>\n",
              "    <tr>\n",
              "      <th>8</th>\n",
              "      <td>13.159615</td>\n",
              "      <td>titles_Mr.</td>\n",
              "    </tr>\n",
              "    <tr>\n",
              "      <th>12</th>\n",
              "      <td>17.009253</td>\n",
              "      <td>sex_male</td>\n",
              "    </tr>\n",
              "    <tr>\n",
              "      <th>11</th>\n",
              "      <td>21.850802</td>\n",
              "      <td>sex_female</td>\n",
              "    </tr>\n",
              "  </tbody>\n",
              "</table>\n",
              "</div>"
            ],
            "text/plain": [
              "          imp             col\n",
              "15   0.335292           age_3\n",
              "7    0.392289    titles_Miss.\n",
              "9    0.433848     titles_Mrs.\n",
              "17   0.536151      embarked_Q\n",
              "13   0.651362           age_1\n",
              "10   1.268068  titles_Others.\n",
              "16   1.412099      embarked_C\n",
              "18   1.434100      embarked_S\n",
              "14   1.453870           age_2\n",
              "1    2.685323           Parch\n",
              "4    3.139921        pclass_2\n",
              "0    3.684295           SibSp\n",
              "6    4.648185  titles_Master.\n",
              "3    5.681273        pclass_1\n",
              "2    8.570747            Fare\n",
              "5   11.653507        pclass_3\n",
              "8   13.159615      titles_Mr.\n",
              "12  17.009253        sex_male\n",
              "11  21.850802      sex_female"
            ]
          },
          "metadata": {
            "tags": []
          },
          "execution_count": 303
        },
        {
          "output_type": "display_data",
          "data": {
            "image/png": "[encoded data removed]",
            "text/plain": [
              "<Figure size 1440x720 with 1 Axes>"
            ]
          },
          "metadata": {
            "tags": []
          }
        }
      ]
    },
    {
      "cell_type": "markdown",
      "metadata": {
        "id": "jxFqkBXSk4dU",
        "colab_type": "text"
      },
      "source": [
        "#### Why would you want feature importance?\n",
        "\n",
        "Featrue importance shows how much each feature contributed to the model.\n",
        "\n",
        "You could take this information and remove features which don't contribute much to reduce dimenstionality (and save compute).\n",
        "\n",
        "You could improve features which don't offer much to the overall model.\n",
        "\n",
        "Or you could improve features which offer more to the model. In this case, there aren't many ways you could improve sex as it's already a binary.\n",
        "\n",
        "Feature importance figures also show people who may not be familiar with the problem what features of their data are most important when it comes to making predictions with machine learning models."
      ]
    },
    {
      "cell_type": "markdown",
      "metadata": {
        "id": "qPXyvgHFQBzd",
        "colab_type": "text"
      },
      "source": [
        "## Precision and Recall\n",
        "\n",
        "Precision and recall are two metrics which are used for cases where you have have an imbalanced classification problem.\n",
        "\n",
        "For example, you may have 100,000 people and only 1 of them gets a certain disease. If your model predicts that all people don't have the disease, it only misses 1 in 100,000 so its accuracy is 99.999%. But this isn't really helpful.\n",
        "\n",
        "This is where precision an recall come in.\n",
        "\n",
        "**Recall** = a metric which measures a models ability to find all the relevant cases in a dataset.\n",
        "\n",
        "Recall would be the models ability to find the 1 person in 100,000 who has the disease.\n",
        "\n",
        "**Precision** = a metric which measures a models ability to correctly identify only relevant instances.\n",
        "\n",
        "In our example, Precision would be if the model found the 1 person who had the disease, did they actually have the disease.\n",
        "\n",
        "Combining the precision and recall, gives an **F1 score.**\n",
        "\n",
        "These metrics will all fall between 0 and 1, with a higher value being better.\n",
        "\n",
        "Although, they don't necessarily need to come into play for our Titantic problem, they're worth remembering for your future work.\n"
      ]
    },
    {
      "cell_type": "code",
      "metadata": {
        "id": "ddVc_fCPMLND",
        "colab_type": "code",
        "outputId": "f64edc75-621d-41d1-dfb3-cb0c4749ea21",
        "colab": {
          "base_uri": "https://localhost:8080/",
          "height": 87
        }
      },
      "source": [
        "metrics = ['Precision', 'Recall', 'F1', 'AUC']\n",
        "\n",
        "eval_metrics = catboost_model.eval_metrics(train_pool,\n",
        "                                           metrics=metrics)\n",
        "\n",
        "for metric in metrics:\n",
        "    print(str(metric)+\": {}\".format(np.mean(eval_metrics[metric])))"
      ],
      "execution_count": 0,
      "outputs": [
        {
          "output_type": "stream",
          "text": [
            "Precision: 0.8490966210696468\n",
            "Recall: 0.7074999999999999\n",
            "F1: 0.7716960321022494\n",
            "AUC: 0.8847515536269154\n"
          ],
          "name": "stdout"
        }
      ]
    },
    {
      "cell_type": "markdown",
      "metadata": {
        "id": "n1aiV9a1QUG4",
        "colab_type": "text"
      },
      "source": [
        "Recall is low, this means there's a higher amount of false negatives (predicting Did not survive when it was actually Survived).\n",
        "\n",
        "Precision is higher therefore there's less false positives (predicting Survived, when it was actually Did not survive).\n"
      ]
    },
    {
      "cell_type": "markdown",
      "metadata": {
        "id": "Q0n_SECufetG",
        "colab_type": "text"
      },
      "source": [
        "## Submission\n",
        "Let's use the model with the highest cross-validation accuracy score to make a prediction on the test dataset and then submit our predictions to Kaggle."
      ]
    },
    {
      "cell_type": "markdown",
      "metadata": {
        "id": "laX2SHcVff-Q",
        "colab_type": "text"
      },
      "source": [
        "We want to make predictions on the same kind of columnns our model is trained on.\n",
        "\n",
        "So we have to select the subset of right columns of the `test` dateframe, encode them and make a prediciton with our model."
      ]
    },
    {
      "cell_type": "code",
      "metadata": {
        "id": "e8vJGwzEQV5T",
        "colab_type": "code",
        "outputId": "b7aaba8a-4449-4c22-ca57-ce2866981551",
        "colab": {
          "base_uri": "https://localhost:8080/",
          "height": 222
        }
      },
      "source": [
        "# We need our test dataframe to look like this one\n",
        "X_train.head()"
      ],
      "execution_count": 0,
      "outputs": [
        {
          "output_type": "execute_result",
          "data": {
            "text/html": [
              "<div>\n",
              "<style scoped>\n",
              "    .dataframe tbody tr th:only-of-type {\n",
              "        vertical-align: middle;\n",
              "    }\n",
              "\n",
              "    .dataframe tbody tr th {\n",
              "        vertical-align: top;\n",
              "    }\n",
              "\n",
              "    .dataframe thead th {\n",
              "        text-align: right;\n",
              "    }\n",
              "</style>\n",
              "<table border=\"1\" class=\"dataframe\">\n",
              "  <thead>\n",
              "    <tr style=\"text-align: right;\">\n",
              "      <th></th>\n",
              "      <th>SibSp</th>\n",
              "      <th>Parch</th>\n",
              "      <th>Fare</th>\n",
              "      <th>pclass_1</th>\n",
              "      <th>pclass_2</th>\n",
              "      <th>pclass_3</th>\n",
              "      <th>titles_Master.</th>\n",
              "      <th>titles_Miss.</th>\n",
              "      <th>titles_Mr.</th>\n",
              "      <th>titles_Mrs.</th>\n",
              "      <th>titles_Others.</th>\n",
              "      <th>sex_female</th>\n",
              "      <th>sex_male</th>\n",
              "      <th>age_1</th>\n",
              "      <th>age_2</th>\n",
              "      <th>age_3</th>\n",
              "      <th>embarked_C</th>\n",
              "      <th>embarked_Q</th>\n",
              "      <th>embarked_S</th>\n",
              "    </tr>\n",
              "  </thead>\n",
              "  <tbody>\n",
              "    <tr>\n",
              "      <th>0</th>\n",
              "      <td>1</td>\n",
              "      <td>0</td>\n",
              "      <td>7.2500</td>\n",
              "      <td>0</td>\n",
              "      <td>0</td>\n",
              "      <td>1</td>\n",
              "      <td>0</td>\n",
              "      <td>0</td>\n",
              "      <td>1</td>\n",
              "      <td>0</td>\n",
              "      <td>0</td>\n",
              "      <td>0</td>\n",
              "      <td>1</td>\n",
              "      <td>0</td>\n",
              "      <td>1</td>\n",
              "      <td>0</td>\n",
              "      <td>0</td>\n",
              "      <td>0</td>\n",
              "      <td>1</td>\n",
              "    </tr>\n",
              "    <tr>\n",
              "      <th>1</th>\n",
              "      <td>1</td>\n",
              "      <td>0</td>\n",
              "      <td>71.2833</td>\n",
              "      <td>1</td>\n",
              "      <td>0</td>\n",
              "      <td>0</td>\n",
              "      <td>0</td>\n",
              "      <td>0</td>\n",
              "      <td>0</td>\n",
              "      <td>1</td>\n",
              "      <td>0</td>\n",
              "      <td>1</td>\n",
              "      <td>0</td>\n",
              "      <td>0</td>\n",
              "      <td>1</td>\n",
              "      <td>0</td>\n",
              "      <td>1</td>\n",
              "      <td>0</td>\n",
              "      <td>0</td>\n",
              "    </tr>\n",
              "    <tr>\n",
              "      <th>2</th>\n",
              "      <td>0</td>\n",
              "      <td>0</td>\n",
              "      <td>7.9250</td>\n",
              "      <td>0</td>\n",
              "      <td>0</td>\n",
              "      <td>1</td>\n",
              "      <td>0</td>\n",
              "      <td>1</td>\n",
              "      <td>0</td>\n",
              "      <td>0</td>\n",
              "      <td>0</td>\n",
              "      <td>1</td>\n",
              "      <td>0</td>\n",
              "      <td>0</td>\n",
              "      <td>1</td>\n",
              "      <td>0</td>\n",
              "      <td>0</td>\n",
              "      <td>0</td>\n",
              "      <td>1</td>\n",
              "    </tr>\n",
              "    <tr>\n",
              "      <th>3</th>\n",
              "      <td>1</td>\n",
              "      <td>0</td>\n",
              "      <td>53.1000</td>\n",
              "      <td>1</td>\n",
              "      <td>0</td>\n",
              "      <td>0</td>\n",
              "      <td>0</td>\n",
              "      <td>0</td>\n",
              "      <td>0</td>\n",
              "      <td>1</td>\n",
              "      <td>0</td>\n",
              "      <td>1</td>\n",
              "      <td>0</td>\n",
              "      <td>0</td>\n",
              "      <td>1</td>\n",
              "      <td>0</td>\n",
              "      <td>0</td>\n",
              "      <td>0</td>\n",
              "      <td>1</td>\n",
              "    </tr>\n",
              "    <tr>\n",
              "      <th>4</th>\n",
              "      <td>0</td>\n",
              "      <td>0</td>\n",
              "      <td>8.0500</td>\n",
              "      <td>0</td>\n",
              "      <td>0</td>\n",
              "      <td>1</td>\n",
              "      <td>0</td>\n",
              "      <td>0</td>\n",
              "      <td>1</td>\n",
              "      <td>0</td>\n",
              "      <td>0</td>\n",
              "      <td>0</td>\n",
              "      <td>1</td>\n",
              "      <td>0</td>\n",
              "      <td>1</td>\n",
              "      <td>0</td>\n",
              "      <td>0</td>\n",
              "      <td>0</td>\n",
              "      <td>1</td>\n",
              "    </tr>\n",
              "  </tbody>\n",
              "</table>\n",
              "</div>"
            ],
            "text/plain": [
              "   SibSp  Parch     Fare  pclass_1  ...  age_3  embarked_C  embarked_Q  embarked_S\n",
              "0      1      0   7.2500         0  ...      0           0           0           1\n",
              "1      1      0  71.2833         1  ...      0           1           0           0\n",
              "2      0      0   7.9250         0  ...      0           0           0           1\n",
              "3      1      0  53.1000         1  ...      0           0           0           1\n",
              "4      0      0   8.0500         0  ...      0           0           0           1\n",
              "\n",
              "[5 rows x 19 columns]"
            ]
          },
          "metadata": {
            "tags": []
          },
          "execution_count": 305
        }
      ]
    },
    {
      "cell_type": "code",
      "metadata": {
        "id": "aIUrxJNtfm8t",
        "colab_type": "code",
        "outputId": "5e16309b-4b40-4362-bbfb-5f408aff758a",
        "colab": {
          "base_uri": "https://localhost:8080/",
          "height": 237
        }
      },
      "source": [
        "test.head()"
      ],
      "execution_count": 0,
      "outputs": [
        {
          "output_type": "execute_result",
          "data": {
            "text/html": [
              "<div>\n",
              "<style scoped>\n",
              "    .dataframe tbody tr th:only-of-type {\n",
              "        vertical-align: middle;\n",
              "    }\n",
              "\n",
              "    .dataframe tbody tr th {\n",
              "        vertical-align: top;\n",
              "    }\n",
              "\n",
              "    .dataframe thead th {\n",
              "        text-align: right;\n",
              "    }\n",
              "</style>\n",
              "<table border=\"1\" class=\"dataframe\">\n",
              "  <thead>\n",
              "    <tr style=\"text-align: right;\">\n",
              "      <th></th>\n",
              "      <th>PassengerId</th>\n",
              "      <th>Pclass</th>\n",
              "      <th>Name</th>\n",
              "      <th>Sex</th>\n",
              "      <th>Age</th>\n",
              "      <th>SibSp</th>\n",
              "      <th>Parch</th>\n",
              "      <th>Ticket</th>\n",
              "      <th>Fare</th>\n",
              "      <th>Cabin</th>\n",
              "      <th>Embarked</th>\n",
              "    </tr>\n",
              "  </thead>\n",
              "  <tbody>\n",
              "    <tr>\n",
              "      <th>0</th>\n",
              "      <td>892</td>\n",
              "      <td>3</td>\n",
              "      <td>Kelly, Mr. James</td>\n",
              "      <td>male</td>\n",
              "      <td>34.5</td>\n",
              "      <td>0</td>\n",
              "      <td>0</td>\n",
              "      <td>330911</td>\n",
              "      <td>7.8292</td>\n",
              "      <td>NaN</td>\n",
              "      <td>Q</td>\n",
              "    </tr>\n",
              "    <tr>\n",
              "      <th>1</th>\n",
              "      <td>893</td>\n",
              "      <td>3</td>\n",
              "      <td>Wilkes, Mrs. James (Ellen Needs)</td>\n",
              "      <td>female</td>\n",
              "      <td>47.0</td>\n",
              "      <td>1</td>\n",
              "      <td>0</td>\n",
              "      <td>363272</td>\n",
              "      <td>7.0000</td>\n",
              "      <td>NaN</td>\n",
              "      <td>S</td>\n",
              "    </tr>\n",
              "    <tr>\n",
              "      <th>2</th>\n",
              "      <td>894</td>\n",
              "      <td>2</td>\n",
              "      <td>Myles, Mr. Thomas Francis</td>\n",
              "      <td>male</td>\n",
              "      <td>62.0</td>\n",
              "      <td>0</td>\n",
              "      <td>0</td>\n",
              "      <td>240276</td>\n",
              "      <td>9.6875</td>\n",
              "      <td>NaN</td>\n",
              "      <td>Q</td>\n",
              "    </tr>\n",
              "    <tr>\n",
              "      <th>3</th>\n",
              "      <td>895</td>\n",
              "      <td>3</td>\n",
              "      <td>Wirz, Mr. Albert</td>\n",
              "      <td>male</td>\n",
              "      <td>27.0</td>\n",
              "      <td>0</td>\n",
              "      <td>0</td>\n",
              "      <td>315154</td>\n",
              "      <td>8.6625</td>\n",
              "      <td>NaN</td>\n",
              "      <td>S</td>\n",
              "    </tr>\n",
              "    <tr>\n",
              "      <th>4</th>\n",
              "      <td>896</td>\n",
              "      <td>3</td>\n",
              "      <td>Hirvonen, Mrs. Alexander (Helga E Lindqvist)</td>\n",
              "      <td>female</td>\n",
              "      <td>22.0</td>\n",
              "      <td>1</td>\n",
              "      <td>1</td>\n",
              "      <td>3101298</td>\n",
              "      <td>12.2875</td>\n",
              "      <td>NaN</td>\n",
              "      <td>S</td>\n",
              "    </tr>\n",
              "  </tbody>\n",
              "</table>\n",
              "</div>"
            ],
            "text/plain": [
              "   PassengerId  Pclass  ... Cabin Embarked\n",
              "0          892       3  ...   NaN        Q\n",
              "1          893       3  ...   NaN        S\n",
              "2          894       2  ...   NaN        Q\n",
              "3          895       3  ...   NaN        S\n",
              "4          896       3  ...   NaN        S\n",
              "\n",
              "[5 rows x 11 columns]"
            ]
          },
          "metadata": {
            "tags": []
          },
          "execution_count": 306
        }
      ]
    },
    {
      "cell_type": "code",
      "metadata": {
        "id": "0sWtZMCkfnnw",
        "colab_type": "code",
        "outputId": "e0cb55dc-59de-4441-82dc-ba4c2058fad4",
        "colab": {
          "base_uri": "https://localhost:8080/",
          "height": 225
        }
      },
      "source": [
        "test.isnull().sum()"
      ],
      "execution_count": 0,
      "outputs": [
        {
          "output_type": "execute_result",
          "data": {
            "text/plain": [
              "PassengerId      0\n",
              "Pclass           0\n",
              "Name             0\n",
              "Sex              0\n",
              "Age             86\n",
              "SibSp            0\n",
              "Parch            0\n",
              "Ticket           0\n",
              "Fare             1\n",
              "Cabin          327\n",
              "Embarked         0\n",
              "dtype: int64"
            ]
          },
          "metadata": {
            "tags": []
          },
          "execution_count": 307
        }
      ]
    },
    {
      "cell_type": "markdown",
      "metadata": {
        "id": "h_1P91qVfsLL",
        "colab_type": "text"
      },
      "source": [
        "### We are going to add feature to our df_test and tackle all the feature like we had tackle in train dataset"
      ]
    },
    {
      "cell_type": "code",
      "metadata": {
        "id": "xOn2v_VRfp-k",
        "colab_type": "code",
        "colab": {}
      },
      "source": [
        "df_test=pd.DataFrame()\n",
        "df_test['Pclass']=test['Pclass']"
      ],
      "execution_count": 0,
      "outputs": []
    },
    {
      "cell_type": "code",
      "metadata": {
        "id": "AAUfcdhjfwOo",
        "colab_type": "code",
        "colab": {}
      },
      "source": [
        "k=test.Name.str.split()\n",
        "t_test=[]\n",
        "for i in k:\n",
        "    t_test.append(i[1])\n",
        "titles_test=pd.Series(t_test)\n",
        "for i in range(len(titles_test)):\n",
        "    if not(titles_test[i] in ['Mr.','Miss.','Mrs.','Master.']):\n",
        "        titles_test[i]='Others.'\n",
        "df_test['Titles']=titles_test"
      ],
      "execution_count": 0,
      "outputs": []
    },
    {
      "cell_type": "code",
      "metadata": {
        "id": "jw9pqQWXf0iy",
        "colab_type": "code",
        "colab": {}
      },
      "source": [
        "df_test['Sex']=test['Sex']"
      ],
      "execution_count": 0,
      "outputs": []
    },
    {
      "cell_type": "code",
      "metadata": {
        "id": "haO7g272f1gw",
        "colab_type": "code",
        "colab": {}
      },
      "source": [
        "a=[]\n",
        "for i in test.Age:\n",
        "    if np.isnan(i):\n",
        "        a.append(0)\n",
        "    elif i<21:\n",
        "        a.append(1)\n",
        "    elif i<61:\n",
        "        a.append(2)\n",
        "    else:\n",
        "        a.append(3)\n",
        "discrete_age=pd.DataFrame(a,columns=['Discrete_age'])\n",
        "discrete_age = pd.concat([discrete_age,df_test['Titles']],axis=1)"
      ],
      "execution_count": 0,
      "outputs": []
    },
    {
      "cell_type": "code",
      "metadata": {
        "id": "AXneHD1vf3-b",
        "colab_type": "code",
        "colab": {}
      },
      "source": [
        "df=discrete_age.loc[discrete_age.Discrete_age==0]\n",
        "df.Discrete_age=df.Titles.apply(func)\n",
        "discrete_age.loc[discrete_age.Discrete_age==0]=df\n",
        "df_test['Dis_age'] = discrete_age.Discrete_age"
      ],
      "execution_count": 0,
      "outputs": []
    },
    {
      "cell_type": "code",
      "metadata": {
        "id": "CxEcqpoVf6Cq",
        "colab_type": "code",
        "colab": {}
      },
      "source": [
        "df_test['SibSp']=test['SibSp']\n",
        "df_test['Parch']=test['Parch']"
      ],
      "execution_count": 0,
      "outputs": []
    },
    {
      "cell_type": "code",
      "metadata": {
        "id": "4toxHUqdf9f9",
        "colab_type": "code",
        "colab": {}
      },
      "source": [
        "test.loc[test.Fare.isna(),'Fare']=10"
      ],
      "execution_count": 0,
      "outputs": []
    },
    {
      "cell_type": "code",
      "metadata": {
        "id": "HfQa6y-Gf_T4",
        "colab_type": "code",
        "colab": {}
      },
      "source": [
        "df_test['Fare']=test['Fare']\n",
        "df_test['Embarked']=test['Embarked']"
      ],
      "execution_count": 0,
      "outputs": []
    },
    {
      "cell_type": "code",
      "metadata": {
        "id": "KEwDZvlhgA8-",
        "colab_type": "code",
        "outputId": "9f8583b7-0bf1-4df5-9489-ef86a59c4621",
        "colab": {
          "base_uri": "https://localhost:8080/",
          "height": 202
        }
      },
      "source": [
        "df_test.head()"
      ],
      "execution_count": 0,
      "outputs": [
        {
          "output_type": "execute_result",
          "data": {
            "text/html": [
              "<div>\n",
              "<style scoped>\n",
              "    .dataframe tbody tr th:only-of-type {\n",
              "        vertical-align: middle;\n",
              "    }\n",
              "\n",
              "    .dataframe tbody tr th {\n",
              "        vertical-align: top;\n",
              "    }\n",
              "\n",
              "    .dataframe thead th {\n",
              "        text-align: right;\n",
              "    }\n",
              "</style>\n",
              "<table border=\"1\" class=\"dataframe\">\n",
              "  <thead>\n",
              "    <tr style=\"text-align: right;\">\n",
              "      <th></th>\n",
              "      <th>Pclass</th>\n",
              "      <th>Titles</th>\n",
              "      <th>Sex</th>\n",
              "      <th>Dis_age</th>\n",
              "      <th>SibSp</th>\n",
              "      <th>Parch</th>\n",
              "      <th>Fare</th>\n",
              "      <th>Embarked</th>\n",
              "    </tr>\n",
              "  </thead>\n",
              "  <tbody>\n",
              "    <tr>\n",
              "      <th>0</th>\n",
              "      <td>3</td>\n",
              "      <td>Mr.</td>\n",
              "      <td>male</td>\n",
              "      <td>2</td>\n",
              "      <td>0</td>\n",
              "      <td>0</td>\n",
              "      <td>7.8292</td>\n",
              "      <td>Q</td>\n",
              "    </tr>\n",
              "    <tr>\n",
              "      <th>1</th>\n",
              "      <td>3</td>\n",
              "      <td>Mrs.</td>\n",
              "      <td>female</td>\n",
              "      <td>2</td>\n",
              "      <td>1</td>\n",
              "      <td>0</td>\n",
              "      <td>7.0000</td>\n",
              "      <td>S</td>\n",
              "    </tr>\n",
              "    <tr>\n",
              "      <th>2</th>\n",
              "      <td>2</td>\n",
              "      <td>Mr.</td>\n",
              "      <td>male</td>\n",
              "      <td>3</td>\n",
              "      <td>0</td>\n",
              "      <td>0</td>\n",
              "      <td>9.6875</td>\n",
              "      <td>Q</td>\n",
              "    </tr>\n",
              "    <tr>\n",
              "      <th>3</th>\n",
              "      <td>3</td>\n",
              "      <td>Mr.</td>\n",
              "      <td>male</td>\n",
              "      <td>2</td>\n",
              "      <td>0</td>\n",
              "      <td>0</td>\n",
              "      <td>8.6625</td>\n",
              "      <td>S</td>\n",
              "    </tr>\n",
              "    <tr>\n",
              "      <th>4</th>\n",
              "      <td>3</td>\n",
              "      <td>Mrs.</td>\n",
              "      <td>female</td>\n",
              "      <td>2</td>\n",
              "      <td>1</td>\n",
              "      <td>1</td>\n",
              "      <td>12.2875</td>\n",
              "      <td>S</td>\n",
              "    </tr>\n",
              "  </tbody>\n",
              "</table>\n",
              "</div>"
            ],
            "text/plain": [
              "   Pclass Titles     Sex  Dis_age  SibSp  Parch     Fare Embarked\n",
              "0       3    Mr.    male        2      0      0   7.8292        Q\n",
              "1       3   Mrs.  female        2      1      0   7.0000        S\n",
              "2       2    Mr.    male        3      0      0   9.6875        Q\n",
              "3       3    Mr.    male        2      0      0   8.6625        S\n",
              "4       3   Mrs.  female        2      1      1  12.2875        S"
            ]
          },
          "metadata": {
            "tags": []
          },
          "execution_count": 316
        }
      ]
    },
    {
      "cell_type": "code",
      "metadata": {
        "id": "J0TT-TLBgEX8",
        "colab_type": "code",
        "colab": {}
      },
      "source": [
        "# One hot encode the categorical columns\n",
        "df_pclass_one_hot = pd.get_dummies(df_test['Pclass'], \n",
        "                                   prefix='pclass')\n",
        "\n",
        "df_titles_one_hot = pd.get_dummies(df_test['Titles'], \n",
        "                                   prefix='titles')\n",
        "\n",
        "df_sex_one_hot = pd.get_dummies(df_test['Sex'], \n",
        "                                prefix='sex')\n",
        "\n",
        "df_age_one_hot = pd.get_dummies(df_test['Dis_age'], \n",
        "                                prefix='age')\n",
        "\n",
        "df_embarked_one_hot = pd.get_dummies(df_test['Embarked'], \n",
        "                                     prefix='embarked')\n",
        "\n",
        "\n",
        "df_test_enc = pd.concat([df_test, \n",
        "                        df_pclass_one_hot,\n",
        "                        df_titles_one_hot,\n",
        "                        df_sex_one_hot,\n",
        "                        df_age_one_hot,\n",
        "                        df_embarked_one_hot \n",
        "                        ], axis=1)\n",
        "\n",
        "# Drop the original categorical columns (because now they've been one hot encoded)\n",
        "df_test_enc = df_test_enc.drop(['Pclass','Titles', 'Sex', 'Dis_age','Embarked'], axis=1)"
      ],
      "execution_count": 0,
      "outputs": []
    },
    {
      "cell_type": "code",
      "metadata": {
        "id": "BoHzb8edgFJq",
        "colab_type": "code",
        "outputId": "05b24b5c-f000-4a4b-bdbb-b9dee2ca2bc0",
        "colab": {
          "base_uri": "https://localhost:8080/",
          "height": 222
        }
      },
      "source": [
        "df_test_enc.head()"
      ],
      "execution_count": 0,
      "outputs": [
        {
          "output_type": "execute_result",
          "data": {
            "text/html": [
              "<div>\n",
              "<style scoped>\n",
              "    .dataframe tbody tr th:only-of-type {\n",
              "        vertical-align: middle;\n",
              "    }\n",
              "\n",
              "    .dataframe tbody tr th {\n",
              "        vertical-align: top;\n",
              "    }\n",
              "\n",
              "    .dataframe thead th {\n",
              "        text-align: right;\n",
              "    }\n",
              "</style>\n",
              "<table border=\"1\" class=\"dataframe\">\n",
              "  <thead>\n",
              "    <tr style=\"text-align: right;\">\n",
              "      <th></th>\n",
              "      <th>SibSp</th>\n",
              "      <th>Parch</th>\n",
              "      <th>Fare</th>\n",
              "      <th>pclass_1</th>\n",
              "      <th>pclass_2</th>\n",
              "      <th>pclass_3</th>\n",
              "      <th>titles_Master.</th>\n",
              "      <th>titles_Miss.</th>\n",
              "      <th>titles_Mr.</th>\n",
              "      <th>titles_Mrs.</th>\n",
              "      <th>titles_Others.</th>\n",
              "      <th>sex_female</th>\n",
              "      <th>sex_male</th>\n",
              "      <th>age_1</th>\n",
              "      <th>age_2</th>\n",
              "      <th>age_3</th>\n",
              "      <th>embarked_C</th>\n",
              "      <th>embarked_Q</th>\n",
              "      <th>embarked_S</th>\n",
              "    </tr>\n",
              "  </thead>\n",
              "  <tbody>\n",
              "    <tr>\n",
              "      <th>0</th>\n",
              "      <td>0</td>\n",
              "      <td>0</td>\n",
              "      <td>7.8292</td>\n",
              "      <td>0</td>\n",
              "      <td>0</td>\n",
              "      <td>1</td>\n",
              "      <td>0</td>\n",
              "      <td>0</td>\n",
              "      <td>1</td>\n",
              "      <td>0</td>\n",
              "      <td>0</td>\n",
              "      <td>0</td>\n",
              "      <td>1</td>\n",
              "      <td>0</td>\n",
              "      <td>1</td>\n",
              "      <td>0</td>\n",
              "      <td>0</td>\n",
              "      <td>1</td>\n",
              "      <td>0</td>\n",
              "    </tr>\n",
              "    <tr>\n",
              "      <th>1</th>\n",
              "      <td>1</td>\n",
              "      <td>0</td>\n",
              "      <td>7.0000</td>\n",
              "      <td>0</td>\n",
              "      <td>0</td>\n",
              "      <td>1</td>\n",
              "      <td>0</td>\n",
              "      <td>0</td>\n",
              "      <td>0</td>\n",
              "      <td>1</td>\n",
              "      <td>0</td>\n",
              "      <td>1</td>\n",
              "      <td>0</td>\n",
              "      <td>0</td>\n",
              "      <td>1</td>\n",
              "      <td>0</td>\n",
              "      <td>0</td>\n",
              "      <td>0</td>\n",
              "      <td>1</td>\n",
              "    </tr>\n",
              "    <tr>\n",
              "      <th>2</th>\n",
              "      <td>0</td>\n",
              "      <td>0</td>\n",
              "      <td>9.6875</td>\n",
              "      <td>0</td>\n",
              "      <td>1</td>\n",
              "      <td>0</td>\n",
              "      <td>0</td>\n",
              "      <td>0</td>\n",
              "      <td>1</td>\n",
              "      <td>0</td>\n",
              "      <td>0</td>\n",
              "      <td>0</td>\n",
              "      <td>1</td>\n",
              "      <td>0</td>\n",
              "      <td>0</td>\n",
              "      <td>1</td>\n",
              "      <td>0</td>\n",
              "      <td>1</td>\n",
              "      <td>0</td>\n",
              "    </tr>\n",
              "    <tr>\n",
              "      <th>3</th>\n",
              "      <td>0</td>\n",
              "      <td>0</td>\n",
              "      <td>8.6625</td>\n",
              "      <td>0</td>\n",
              "      <td>0</td>\n",
              "      <td>1</td>\n",
              "      <td>0</td>\n",
              "      <td>0</td>\n",
              "      <td>1</td>\n",
              "      <td>0</td>\n",
              "      <td>0</td>\n",
              "      <td>0</td>\n",
              "      <td>1</td>\n",
              "      <td>0</td>\n",
              "      <td>1</td>\n",
              "      <td>0</td>\n",
              "      <td>0</td>\n",
              "      <td>0</td>\n",
              "      <td>1</td>\n",
              "    </tr>\n",
              "    <tr>\n",
              "      <th>4</th>\n",
              "      <td>1</td>\n",
              "      <td>1</td>\n",
              "      <td>12.2875</td>\n",
              "      <td>0</td>\n",
              "      <td>0</td>\n",
              "      <td>1</td>\n",
              "      <td>0</td>\n",
              "      <td>0</td>\n",
              "      <td>0</td>\n",
              "      <td>1</td>\n",
              "      <td>0</td>\n",
              "      <td>1</td>\n",
              "      <td>0</td>\n",
              "      <td>0</td>\n",
              "      <td>1</td>\n",
              "      <td>0</td>\n",
              "      <td>0</td>\n",
              "      <td>0</td>\n",
              "      <td>1</td>\n",
              "    </tr>\n",
              "  </tbody>\n",
              "</table>\n",
              "</div>"
            ],
            "text/plain": [
              "   SibSp  Parch     Fare  pclass_1  ...  age_3  embarked_C  embarked_Q  embarked_S\n",
              "0      0      0   7.8292         0  ...      0           0           1           0\n",
              "1      1      0   7.0000         0  ...      0           0           0           1\n",
              "2      0      0   9.6875         0  ...      1           0           1           0\n",
              "3      0      0   8.6625         0  ...      0           0           0           1\n",
              "4      1      1  12.2875         0  ...      0           0           0           1\n",
              "\n",
              "[5 rows x 19 columns]"
            ]
          },
          "metadata": {
            "tags": []
          },
          "execution_count": 318
        }
      ]
    },
    {
      "cell_type": "code",
      "metadata": {
        "id": "tpylvIccgHlH",
        "colab_type": "code",
        "outputId": "8d735c7c-9c99-4c55-ab9d-133d002da23b",
        "colab": {
          "base_uri": "https://localhost:8080/",
          "height": 35
        }
      },
      "source": [
        "df_test_enc.shape"
      ],
      "execution_count": 0,
      "outputs": [
        {
          "output_type": "execute_result",
          "data": {
            "text/plain": [
              "(418, 19)"
            ]
          },
          "metadata": {
            "tags": []
          },
          "execution_count": 319
        }
      ]
    },
    {
      "cell_type": "code",
      "metadata": {
        "id": "fGum6HjZgJO1",
        "colab_type": "code",
        "colab": {}
      },
      "source": [
        "# Make a prediction using the CatBoost model on df_test_enc\n",
        "predictions = catboost_model.predict(df_test_enc)"
      ],
      "execution_count": 0,
      "outputs": []
    },
    {
      "cell_type": "code",
      "metadata": {
        "id": "-jRb45YjgLAX",
        "colab_type": "code",
        "outputId": "e260f42e-fa04-4c3f-d61d-7f5d0192c625",
        "colab": {
          "base_uri": "https://localhost:8080/",
          "height": 202
        }
      },
      "source": [
        "# Create a submisison dataframe and append the relevant columns\n",
        "submission = pd.DataFrame()\n",
        "submission['PassengerId'] = test['PassengerId']\n",
        "submission['Survived'] = predictions # our model predictions on the test dataset\n",
        "submission.head()"
      ],
      "execution_count": 0,
      "outputs": [
        {
          "output_type": "execute_result",
          "data": {
            "text/html": [
              "<div>\n",
              "<style scoped>\n",
              "    .dataframe tbody tr th:only-of-type {\n",
              "        vertical-align: middle;\n",
              "    }\n",
              "\n",
              "    .dataframe tbody tr th {\n",
              "        vertical-align: top;\n",
              "    }\n",
              "\n",
              "    .dataframe thead th {\n",
              "        text-align: right;\n",
              "    }\n",
              "</style>\n",
              "<table border=\"1\" class=\"dataframe\">\n",
              "  <thead>\n",
              "    <tr style=\"text-align: right;\">\n",
              "      <th></th>\n",
              "      <th>PassengerId</th>\n",
              "      <th>Survived</th>\n",
              "    </tr>\n",
              "  </thead>\n",
              "  <tbody>\n",
              "    <tr>\n",
              "      <th>0</th>\n",
              "      <td>892</td>\n",
              "      <td>0</td>\n",
              "    </tr>\n",
              "    <tr>\n",
              "      <th>1</th>\n",
              "      <td>893</td>\n",
              "      <td>0</td>\n",
              "    </tr>\n",
              "    <tr>\n",
              "      <th>2</th>\n",
              "      <td>894</td>\n",
              "      <td>0</td>\n",
              "    </tr>\n",
              "    <tr>\n",
              "      <th>3</th>\n",
              "      <td>895</td>\n",
              "      <td>0</td>\n",
              "    </tr>\n",
              "    <tr>\n",
              "      <th>4</th>\n",
              "      <td>896</td>\n",
              "      <td>0</td>\n",
              "    </tr>\n",
              "  </tbody>\n",
              "</table>\n",
              "</div>"
            ],
            "text/plain": [
              "   PassengerId  Survived\n",
              "0          892         0\n",
              "1          893         0\n",
              "2          894         0\n",
              "3          895         0\n",
              "4          896         0"
            ]
          },
          "metadata": {
            "tags": []
          },
          "execution_count": 321
        }
      ]
    },
    {
      "cell_type": "code",
      "metadata": {
        "id": "PU1Y2SmygOB5",
        "colab_type": "code",
        "outputId": "cd2e4a60-5bf8-49da-f3ef-23478623175f",
        "colab": {
          "base_uri": "https://localhost:8080/",
          "height": 202
        }
      },
      "source": [
        "# What does our submission have to look like?\n",
        "gender_submission.head()"
      ],
      "execution_count": 0,
      "outputs": [
        {
          "output_type": "execute_result",
          "data": {
            "text/html": [
              "<div>\n",
              "<style scoped>\n",
              "    .dataframe tbody tr th:only-of-type {\n",
              "        vertical-align: middle;\n",
              "    }\n",
              "\n",
              "    .dataframe tbody tr th {\n",
              "        vertical-align: top;\n",
              "    }\n",
              "\n",
              "    .dataframe thead th {\n",
              "        text-align: right;\n",
              "    }\n",
              "</style>\n",
              "<table border=\"1\" class=\"dataframe\">\n",
              "  <thead>\n",
              "    <tr style=\"text-align: right;\">\n",
              "      <th></th>\n",
              "      <th>PassengerId</th>\n",
              "      <th>Survived</th>\n",
              "    </tr>\n",
              "  </thead>\n",
              "  <tbody>\n",
              "    <tr>\n",
              "      <th>0</th>\n",
              "      <td>892</td>\n",
              "      <td>0</td>\n",
              "    </tr>\n",
              "    <tr>\n",
              "      <th>1</th>\n",
              "      <td>893</td>\n",
              "      <td>1</td>\n",
              "    </tr>\n",
              "    <tr>\n",
              "      <th>2</th>\n",
              "      <td>894</td>\n",
              "      <td>0</td>\n",
              "    </tr>\n",
              "    <tr>\n",
              "      <th>3</th>\n",
              "      <td>895</td>\n",
              "      <td>0</td>\n",
              "    </tr>\n",
              "    <tr>\n",
              "      <th>4</th>\n",
              "      <td>896</td>\n",
              "      <td>1</td>\n",
              "    </tr>\n",
              "  </tbody>\n",
              "</table>\n",
              "</div>"
            ],
            "text/plain": [
              "   PassengerId  Survived\n",
              "0          892         0\n",
              "1          893         1\n",
              "2          894         0\n",
              "3          895         0\n",
              "4          896         1"
            ]
          },
          "metadata": {
            "tags": []
          },
          "execution_count": 322
        }
      ]
    },
    {
      "cell_type": "code",
      "metadata": {
        "id": "MAc6dg4rgRLZ",
        "colab_type": "code",
        "outputId": "34606457-ffe3-4768-c602-1cb979d8ed04",
        "colab": {
          "base_uri": "https://localhost:8080/",
          "height": 35
        }
      },
      "source": [
        "# Let's convert our submission dataframe 'Survived' column to ints\n",
        "submission['Survived'] = submission['Survived'].astype(int)\n",
        "print('Converted Survived column to integers.')"
      ],
      "execution_count": 0,
      "outputs": [
        {
          "output_type": "stream",
          "text": [
            "Converted Survived column to integers.\n"
          ],
          "name": "stdout"
        }
      ]
    },
    {
      "cell_type": "code",
      "metadata": {
        "id": "5XNof7JogS1m",
        "colab_type": "code",
        "outputId": "5690c38d-d8f7-4c25-f570-7b63c8f2b969",
        "colab": {
          "base_uri": "https://localhost:8080/",
          "height": 202
        }
      },
      "source": [
        "# How does our submission dataframe look?\n",
        "submission.head()"
      ],
      "execution_count": 0,
      "outputs": [
        {
          "output_type": "execute_result",
          "data": {
            "text/html": [
              "<div>\n",
              "<style scoped>\n",
              "    .dataframe tbody tr th:only-of-type {\n",
              "        vertical-align: middle;\n",
              "    }\n",
              "\n",
              "    .dataframe tbody tr th {\n",
              "        vertical-align: top;\n",
              "    }\n",
              "\n",
              "    .dataframe thead th {\n",
              "        text-align: right;\n",
              "    }\n",
              "</style>\n",
              "<table border=\"1\" class=\"dataframe\">\n",
              "  <thead>\n",
              "    <tr style=\"text-align: right;\">\n",
              "      <th></th>\n",
              "      <th>PassengerId</th>\n",
              "      <th>Survived</th>\n",
              "    </tr>\n",
              "  </thead>\n",
              "  <tbody>\n",
              "    <tr>\n",
              "      <th>0</th>\n",
              "      <td>892</td>\n",
              "      <td>0</td>\n",
              "    </tr>\n",
              "    <tr>\n",
              "      <th>1</th>\n",
              "      <td>893</td>\n",
              "      <td>0</td>\n",
              "    </tr>\n",
              "    <tr>\n",
              "      <th>2</th>\n",
              "      <td>894</td>\n",
              "      <td>0</td>\n",
              "    </tr>\n",
              "    <tr>\n",
              "      <th>3</th>\n",
              "      <td>895</td>\n",
              "      <td>0</td>\n",
              "    </tr>\n",
              "    <tr>\n",
              "      <th>4</th>\n",
              "      <td>896</td>\n",
              "      <td>0</td>\n",
              "    </tr>\n",
              "  </tbody>\n",
              "</table>\n",
              "</div>"
            ],
            "text/plain": [
              "   PassengerId  Survived\n",
              "0          892         0\n",
              "1          893         0\n",
              "2          894         0\n",
              "3          895         0\n",
              "4          896         0"
            ]
          },
          "metadata": {
            "tags": []
          },
          "execution_count": 324
        }
      ]
    },
    {
      "cell_type": "code",
      "metadata": {
        "id": "7VC6Wu_BgT6m",
        "colab_type": "code",
        "outputId": "aff6c91e-c92a-46e5-cdde-10683c67ad63",
        "colab": {
          "base_uri": "https://localhost:8080/",
          "height": 35
        }
      },
      "source": [
        "# Are our test and submission dataframes the same length?\n",
        "if len(submission) == len(test):\n",
        "    print(\"Submission dataframe is the same length as test ({} rows).\".format(len(submission)))\n",
        "else:\n",
        "    print(\"Dataframes mismatched, won't be able to submit to Kaggle.\")"
      ],
      "execution_count": 0,
      "outputs": [
        {
          "output_type": "stream",
          "text": [
            "Submission dataframe is the same length as test (418 rows).\n"
          ],
          "name": "stdout"
        }
      ]
    },
    {
      "cell_type": "code",
      "metadata": {
        "id": "eU-nKbYdgVl5",
        "colab_type": "code",
        "outputId": "682f22ff-d98b-46ff-88a4-efde477c8330",
        "colab": {
          "base_uri": "https://localhost:8080/",
          "height": 35
        }
      },
      "source": [
        "# Convert submisison dataframe to csv for submission to csv \n",
        "# for Kaggle submisison\n",
        "submission.to_csv('cat_submission.csv', index=False)\n",
        "print('Submission CSV is ready!')"
      ],
      "execution_count": 0,
      "outputs": [
        {
          "output_type": "stream",
          "text": [
            "Submission CSV is ready!\n"
          ],
          "name": "stdout"
        }
      ]
    },
    {
      "cell_type": "code",
      "metadata": {
        "id": "h9h3DeT4gXo2",
        "colab_type": "code",
        "outputId": "67524829-6e3c-4a6f-e943-9242cf5f163c",
        "colab": {
          "base_uri": "https://localhost:8080/",
          "height": 202
        }
      },
      "source": [
        "# Check the submission csv to make sure it's in the right format\n",
        "submissions_check = pd.read_csv(\"cat_submission.csv\")\n",
        "submissions_check.head()"
      ],
      "execution_count": 0,
      "outputs": [
        {
          "output_type": "execute_result",
          "data": {
            "text/html": [
              "<div>\n",
              "<style scoped>\n",
              "    .dataframe tbody tr th:only-of-type {\n",
              "        vertical-align: middle;\n",
              "    }\n",
              "\n",
              "    .dataframe tbody tr th {\n",
              "        vertical-align: top;\n",
              "    }\n",
              "\n",
              "    .dataframe thead th {\n",
              "        text-align: right;\n",
              "    }\n",
              "</style>\n",
              "<table border=\"1\" class=\"dataframe\">\n",
              "  <thead>\n",
              "    <tr style=\"text-align: right;\">\n",
              "      <th></th>\n",
              "      <th>PassengerId</th>\n",
              "      <th>Survived</th>\n",
              "    </tr>\n",
              "  </thead>\n",
              "  <tbody>\n",
              "    <tr>\n",
              "      <th>0</th>\n",
              "      <td>892</td>\n",
              "      <td>0</td>\n",
              "    </tr>\n",
              "    <tr>\n",
              "      <th>1</th>\n",
              "      <td>893</td>\n",
              "      <td>0</td>\n",
              "    </tr>\n",
              "    <tr>\n",
              "      <th>2</th>\n",
              "      <td>894</td>\n",
              "      <td>0</td>\n",
              "    </tr>\n",
              "    <tr>\n",
              "      <th>3</th>\n",
              "      <td>895</td>\n",
              "      <td>0</td>\n",
              "    </tr>\n",
              "    <tr>\n",
              "      <th>4</th>\n",
              "      <td>896</td>\n",
              "      <td>0</td>\n",
              "    </tr>\n",
              "  </tbody>\n",
              "</table>\n",
              "</div>"
            ],
            "text/plain": [
              "   PassengerId  Survived\n",
              "0          892         0\n",
              "1          893         0\n",
              "2          894         0\n",
              "3          895         0\n",
              "4          896         0"
            ]
          },
          "metadata": {
            "tags": []
          },
          "execution_count": 327
        }
      ]
    }
  ]
}