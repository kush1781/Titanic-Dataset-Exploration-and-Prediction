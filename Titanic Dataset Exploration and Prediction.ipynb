{
 "cells": [
  {
   "cell_type": "code",
   "execution_count": 188,
   "metadata": {},
   "outputs": [],
   "source": [
    "# general libraries\n",
    "import math, time, random, datetime\n",
    "\n",
    "# data manipulation libraries\n",
    "import numpy as np\n",
    "import pandas as pd\n",
    "\n",
    "# visualization libraries\n",
    "import matplotlib.pyplot as plt\n",
    "import seaborn as sns\n",
    "import missingno\n",
    "plt.style.use('seaborn-whitegrid')\n",
    "\n",
    "from sklearn.model_selection import GridSearchCV\n",
    "\n",
    "# Machine learning Algos\n",
    "from sklearn.linear_model import LogisticRegression \n",
    "from sklearn.neighbors import KNeighborsClassifier\n",
    "from sklearn.naive_bayes import GaussianNB\n",
    "from sklearn.svm import SVC\n",
    "from sklearn.svm import LinearSVC\n",
    "from sklearn.linear_model import SGDClassifier\n",
    "from sklearn.tree import DecisionTreeClassifier\n",
    "from sklearn.ensemble import RandomForestClassifier\n",
    "from sklearn.ensemble import GradientBoostingClassifier\n",
    "import catboost\n",
    "from catboost import CatBoostClassifier, Pool, cv\n",
    "\n",
    "\n",
    "# Let's be rebels and ignore warnings for now\n",
    "import warnings\n",
    "warnings.filterwarnings('ignore')"
   ]
  },
  {
   "cell_type": "markdown",
   "metadata": {},
   "source": [
    "### Importing the data "
   ]
  },
  {
   "cell_type": "code",
   "execution_count": 383,
   "metadata": {},
   "outputs": [],
   "source": [
    "train = pd.read_csv('data/train.csv')\n",
    "test = pd.read_csv('data/test.csv')\n",
    "gender_submission = pd.read_csv('data/gender_submission.csv')"
   ]
  },
  {
   "cell_type": "code",
   "execution_count": 190,
   "metadata": {},
   "outputs": [
    {
     "data": {
      "text/html": [
       "<div>\n",
       "<style scoped>\n",
       "    .dataframe tbody tr th:only-of-type {\n",
       "        vertical-align: middle;\n",
       "    }\n",
       "\n",
       "    .dataframe tbody tr th {\n",
       "        vertical-align: top;\n",
       "    }\n",
       "\n",
       "    .dataframe thead th {\n",
       "        text-align: right;\n",
       "    }\n",
       "</style>\n",
       "<table border=\"1\" class=\"dataframe\">\n",
       "  <thead>\n",
       "    <tr style=\"text-align: right;\">\n",
       "      <th></th>\n",
       "      <th>PassengerId</th>\n",
       "      <th>Survived</th>\n",
       "      <th>Pclass</th>\n",
       "      <th>Name</th>\n",
       "      <th>Sex</th>\n",
       "      <th>Age</th>\n",
       "      <th>SibSp</th>\n",
       "      <th>Parch</th>\n",
       "      <th>Ticket</th>\n",
       "      <th>Fare</th>\n",
       "      <th>Cabin</th>\n",
       "      <th>Embarked</th>\n",
       "    </tr>\n",
       "  </thead>\n",
       "  <tbody>\n",
       "    <tr>\n",
       "      <th>0</th>\n",
       "      <td>1</td>\n",
       "      <td>0</td>\n",
       "      <td>3</td>\n",
       "      <td>Braund, Mr. Owen Harris</td>\n",
       "      <td>male</td>\n",
       "      <td>22.0</td>\n",
       "      <td>1</td>\n",
       "      <td>0</td>\n",
       "      <td>A/5 21171</td>\n",
       "      <td>7.2500</td>\n",
       "      <td>NaN</td>\n",
       "      <td>S</td>\n",
       "    </tr>\n",
       "    <tr>\n",
       "      <th>1</th>\n",
       "      <td>2</td>\n",
       "      <td>1</td>\n",
       "      <td>1</td>\n",
       "      <td>Cumings, Mrs. John Bradley (Florence Briggs Th...</td>\n",
       "      <td>female</td>\n",
       "      <td>38.0</td>\n",
       "      <td>1</td>\n",
       "      <td>0</td>\n",
       "      <td>PC 17599</td>\n",
       "      <td>71.2833</td>\n",
       "      <td>C85</td>\n",
       "      <td>C</td>\n",
       "    </tr>\n",
       "    <tr>\n",
       "      <th>2</th>\n",
       "      <td>3</td>\n",
       "      <td>1</td>\n",
       "      <td>3</td>\n",
       "      <td>Heikkinen, Miss. Laina</td>\n",
       "      <td>female</td>\n",
       "      <td>26.0</td>\n",
       "      <td>0</td>\n",
       "      <td>0</td>\n",
       "      <td>STON/O2. 3101282</td>\n",
       "      <td>7.9250</td>\n",
       "      <td>NaN</td>\n",
       "      <td>S</td>\n",
       "    </tr>\n",
       "    <tr>\n",
       "      <th>3</th>\n",
       "      <td>4</td>\n",
       "      <td>1</td>\n",
       "      <td>1</td>\n",
       "      <td>Futrelle, Mrs. Jacques Heath (Lily May Peel)</td>\n",
       "      <td>female</td>\n",
       "      <td>35.0</td>\n",
       "      <td>1</td>\n",
       "      <td>0</td>\n",
       "      <td>113803</td>\n",
       "      <td>53.1000</td>\n",
       "      <td>C123</td>\n",
       "      <td>S</td>\n",
       "    </tr>\n",
       "    <tr>\n",
       "      <th>4</th>\n",
       "      <td>5</td>\n",
       "      <td>0</td>\n",
       "      <td>3</td>\n",
       "      <td>Allen, Mr. William Henry</td>\n",
       "      <td>male</td>\n",
       "      <td>35.0</td>\n",
       "      <td>0</td>\n",
       "      <td>0</td>\n",
       "      <td>373450</td>\n",
       "      <td>8.0500</td>\n",
       "      <td>NaN</td>\n",
       "      <td>S</td>\n",
       "    </tr>\n",
       "  </tbody>\n",
       "</table>\n",
       "</div>"
      ],
      "text/plain": [
       "   PassengerId  Survived  Pclass  \\\n",
       "0            1         0       3   \n",
       "1            2         1       1   \n",
       "2            3         1       3   \n",
       "3            4         1       1   \n",
       "4            5         0       3   \n",
       "\n",
       "                                                Name     Sex   Age  SibSp  \\\n",
       "0                            Braund, Mr. Owen Harris    male  22.0      1   \n",
       "1  Cumings, Mrs. John Bradley (Florence Briggs Th...  female  38.0      1   \n",
       "2                             Heikkinen, Miss. Laina  female  26.0      0   \n",
       "3       Futrelle, Mrs. Jacques Heath (Lily May Peel)  female  35.0      1   \n",
       "4                           Allen, Mr. William Henry    male  35.0      0   \n",
       "\n",
       "   Parch            Ticket     Fare Cabin Embarked  \n",
       "0      0         A/5 21171   7.2500   NaN        S  \n",
       "1      0          PC 17599  71.2833   C85        C  \n",
       "2      0  STON/O2. 3101282   7.9250   NaN        S  \n",
       "3      0            113803  53.1000  C123        S  \n",
       "4      0            373450   8.0500   NaN        S  "
      ]
     },
     "execution_count": 190,
     "metadata": {},
     "output_type": "execute_result"
    }
   ],
   "source": [
    "train.head()"
   ]
  },
  {
   "cell_type": "code",
   "execution_count": 191,
   "metadata": {},
   "outputs": [
    {
     "data": {
      "text/html": [
       "<div>\n",
       "<style scoped>\n",
       "    .dataframe tbody tr th:only-of-type {\n",
       "        vertical-align: middle;\n",
       "    }\n",
       "\n",
       "    .dataframe tbody tr th {\n",
       "        vertical-align: top;\n",
       "    }\n",
       "\n",
       "    .dataframe thead th {\n",
       "        text-align: right;\n",
       "    }\n",
       "</style>\n",
       "<table border=\"1\" class=\"dataframe\">\n",
       "  <thead>\n",
       "    <tr style=\"text-align: right;\">\n",
       "      <th></th>\n",
       "      <th>PassengerId</th>\n",
       "      <th>Pclass</th>\n",
       "      <th>Name</th>\n",
       "      <th>Sex</th>\n",
       "      <th>Age</th>\n",
       "      <th>SibSp</th>\n",
       "      <th>Parch</th>\n",
       "      <th>Ticket</th>\n",
       "      <th>Fare</th>\n",
       "      <th>Cabin</th>\n",
       "      <th>Embarked</th>\n",
       "    </tr>\n",
       "  </thead>\n",
       "  <tbody>\n",
       "    <tr>\n",
       "      <th>0</th>\n",
       "      <td>892</td>\n",
       "      <td>3</td>\n",
       "      <td>Kelly, Mr. James</td>\n",
       "      <td>male</td>\n",
       "      <td>34.5</td>\n",
       "      <td>0</td>\n",
       "      <td>0</td>\n",
       "      <td>330911</td>\n",
       "      <td>7.8292</td>\n",
       "      <td>NaN</td>\n",
       "      <td>Q</td>\n",
       "    </tr>\n",
       "    <tr>\n",
       "      <th>1</th>\n",
       "      <td>893</td>\n",
       "      <td>3</td>\n",
       "      <td>Wilkes, Mrs. James (Ellen Needs)</td>\n",
       "      <td>female</td>\n",
       "      <td>47.0</td>\n",
       "      <td>1</td>\n",
       "      <td>0</td>\n",
       "      <td>363272</td>\n",
       "      <td>7.0000</td>\n",
       "      <td>NaN</td>\n",
       "      <td>S</td>\n",
       "    </tr>\n",
       "    <tr>\n",
       "      <th>2</th>\n",
       "      <td>894</td>\n",
       "      <td>2</td>\n",
       "      <td>Myles, Mr. Thomas Francis</td>\n",
       "      <td>male</td>\n",
       "      <td>62.0</td>\n",
       "      <td>0</td>\n",
       "      <td>0</td>\n",
       "      <td>240276</td>\n",
       "      <td>9.6875</td>\n",
       "      <td>NaN</td>\n",
       "      <td>Q</td>\n",
       "    </tr>\n",
       "    <tr>\n",
       "      <th>3</th>\n",
       "      <td>895</td>\n",
       "      <td>3</td>\n",
       "      <td>Wirz, Mr. Albert</td>\n",
       "      <td>male</td>\n",
       "      <td>27.0</td>\n",
       "      <td>0</td>\n",
       "      <td>0</td>\n",
       "      <td>315154</td>\n",
       "      <td>8.6625</td>\n",
       "      <td>NaN</td>\n",
       "      <td>S</td>\n",
       "    </tr>\n",
       "    <tr>\n",
       "      <th>4</th>\n",
       "      <td>896</td>\n",
       "      <td>3</td>\n",
       "      <td>Hirvonen, Mrs. Alexander (Helga E Lindqvist)</td>\n",
       "      <td>female</td>\n",
       "      <td>22.0</td>\n",
       "      <td>1</td>\n",
       "      <td>1</td>\n",
       "      <td>3101298</td>\n",
       "      <td>12.2875</td>\n",
       "      <td>NaN</td>\n",
       "      <td>S</td>\n",
       "    </tr>\n",
       "  </tbody>\n",
       "</table>\n",
       "</div>"
      ],
      "text/plain": [
       "   PassengerId  Pclass                                          Name     Sex  \\\n",
       "0          892       3                              Kelly, Mr. James    male   \n",
       "1          893       3              Wilkes, Mrs. James (Ellen Needs)  female   \n",
       "2          894       2                     Myles, Mr. Thomas Francis    male   \n",
       "3          895       3                              Wirz, Mr. Albert    male   \n",
       "4          896       3  Hirvonen, Mrs. Alexander (Helga E Lindqvist)  female   \n",
       "\n",
       "    Age  SibSp  Parch   Ticket     Fare Cabin Embarked  \n",
       "0  34.5      0      0   330911   7.8292   NaN        Q  \n",
       "1  47.0      1      0   363272   7.0000   NaN        S  \n",
       "2  62.0      0      0   240276   9.6875   NaN        Q  \n",
       "3  27.0      0      0   315154   8.6625   NaN        S  \n",
       "4  22.0      1      1  3101298  12.2875   NaN        S  "
      ]
     },
     "execution_count": 191,
     "metadata": {},
     "output_type": "execute_result"
    }
   ],
   "source": [
    "test.head()"
   ]
  },
  {
   "cell_type": "code",
   "execution_count": 192,
   "metadata": {},
   "outputs": [
    {
     "data": {
      "text/html": [
       "<div>\n",
       "<style scoped>\n",
       "    .dataframe tbody tr th:only-of-type {\n",
       "        vertical-align: middle;\n",
       "    }\n",
       "\n",
       "    .dataframe tbody tr th {\n",
       "        vertical-align: top;\n",
       "    }\n",
       "\n",
       "    .dataframe thead th {\n",
       "        text-align: right;\n",
       "    }\n",
       "</style>\n",
       "<table border=\"1\" class=\"dataframe\">\n",
       "  <thead>\n",
       "    <tr style=\"text-align: right;\">\n",
       "      <th></th>\n",
       "      <th>PassengerId</th>\n",
       "      <th>Survived</th>\n",
       "    </tr>\n",
       "  </thead>\n",
       "  <tbody>\n",
       "    <tr>\n",
       "      <th>0</th>\n",
       "      <td>892</td>\n",
       "      <td>0</td>\n",
       "    </tr>\n",
       "    <tr>\n",
       "      <th>1</th>\n",
       "      <td>893</td>\n",
       "      <td>1</td>\n",
       "    </tr>\n",
       "    <tr>\n",
       "      <th>2</th>\n",
       "      <td>894</td>\n",
       "      <td>0</td>\n",
       "    </tr>\n",
       "    <tr>\n",
       "      <th>3</th>\n",
       "      <td>895</td>\n",
       "      <td>0</td>\n",
       "    </tr>\n",
       "    <tr>\n",
       "      <th>4</th>\n",
       "      <td>896</td>\n",
       "      <td>1</td>\n",
       "    </tr>\n",
       "  </tbody>\n",
       "</table>\n",
       "</div>"
      ],
      "text/plain": [
       "   PassengerId  Survived\n",
       "0          892         0\n",
       "1          893         1\n",
       "2          894         0\n",
       "3          895         0\n",
       "4          896         1"
      ]
     },
     "execution_count": 192,
     "metadata": {},
     "output_type": "execute_result"
    }
   ],
   "source": [
    "gender_submission.head()"
   ]
  },
  {
   "cell_type": "code",
   "execution_count": 193,
   "metadata": {},
   "outputs": [
    {
     "data": {
      "text/plain": [
       "PassengerId      int64\n",
       "Survived         int64\n",
       "Pclass           int64\n",
       "Name            object\n",
       "Sex             object\n",
       "Age            float64\n",
       "SibSp            int64\n",
       "Parch            int64\n",
       "Ticket          object\n",
       "Fare           float64\n",
       "Cabin           object\n",
       "Embarked        object\n",
       "dtype: object"
      ]
     },
     "execution_count": 193,
     "metadata": {},
     "output_type": "execute_result"
    }
   ],
   "source": [
    "train.dtypes"
   ]
  },
  {
   "cell_type": "markdown",
   "metadata": {},
   "source": [
    "### Type of data"
   ]
  },
  {
   "cell_type": "markdown",
   "metadata": {},
   "source": [
    "### The missing values"
   ]
  },
  {
   "cell_type": "code",
   "execution_count": 194,
   "metadata": {},
   "outputs": [
    {
     "data": {
      "text/plain": [
       "PassengerId      0\n",
       "Survived         0\n",
       "Pclass           0\n",
       "Name             0\n",
       "Sex              0\n",
       "Age            177\n",
       "SibSp            0\n",
       "Parch            0\n",
       "Ticket           0\n",
       "Fare             0\n",
       "Cabin          687\n",
       "Embarked         2\n",
       "dtype: int64"
      ]
     },
     "execution_count": 194,
     "metadata": {},
     "output_type": "execute_result"
    }
   ],
   "source": [
    "# counting the missing values\n",
    "train.isna().sum()"
   ]
  },
  {
   "cell_type": "code",
   "execution_count": 195,
   "metadata": {},
   "outputs": [
    {
     "data": {
      "text/plain": [
       "<matplotlib.axes._subplots.AxesSubplot at 0x1ebdf889e08>"
      ]
     },
     "execution_count": 195,
     "metadata": {},
     "output_type": "execute_result"
    },
    {
     "data": {
      "image/png": "[encoded data removed]",
      "text/plain": [
       "<Figure size 2160x720 with 2 Axes>"
      ]
     },
     "metadata": {},
     "output_type": "display_data"
    }
   ],
   "source": [
    "# visualizing the missing values\n",
    "missingno.matrix(train, figsize = (30,10))"
   ]
  },
  {
   "cell_type": "markdown",
   "metadata": {},
   "source": [
    "### Now to perform our data analysis we will create two DataFrames"
   ]
  },
  {
   "cell_type": "code",
   "execution_count": 196,
   "metadata": {},
   "outputs": [],
   "source": [
    "df_bin = pd.DataFrame() # for discretised continuous variables\n",
    "df_con = pd.DataFrame() # for continuous variables"
   ]
  },
  {
   "cell_type": "markdown",
   "metadata": {},
   "source": [
    "### Function to create count and distribution visualisations"
   ]
  },
  {
   "cell_type": "code",
   "execution_count": 197,
   "metadata": {},
   "outputs": [],
   "source": [
    "def plot_count_dist(data, bin_df, label_column, target_column, figsize=(20, 5), use_bin_df=False , use_count=True):\n",
    "    \"\"\"\n",
    "    Function to plot counts and distributions of a label variable and \n",
    "    target variable side by side.\n",
    "    ::param_data:: = target dataframe\n",
    "    ::param_bin_df:: = binned dataframe for countplot\n",
    "    ::param_label_column:: = binary labelled column\n",
    "    ::param_target_column:: = column you want to view counts and distributions\n",
    "    ::param_figsize:: = size of figure (width, height)\n",
    "    ::param_use_bin_df:: = whether or not to use the bin_df, default False\n",
    "    \"\"\"\n",
    "    if use_bin_df: \n",
    "        fig = plt.figure(figsize=figsize)\n",
    "        if use_count:\n",
    "            plt.subplot(1, 2, 1)\n",
    "            sns.countplot(y=target_column, data=bin_df);\n",
    "            plt.subplot(1, 2, 2)\n",
    "        sns.distplot(data.loc[data[label_column] == 1][target_column], \n",
    "                     kde_kws={\"label\": \"Survived\",'bw':0.1});\n",
    "        sns.distplot(data.loc[data[label_column] == 0][target_column], \n",
    "                     kde_kws={\"label\": \"Did not survive\",'bw':0.1});\n",
    "    else:\n",
    "        fig = plt.figure(figsize=figsize)\n",
    "        if use_count:\n",
    "            plt.subplot(1, 2, 1)\n",
    "            sns.countplot(y=target_column, data=data);\n",
    "            plt.subplot(1, 2, 2)\n",
    "        sns.distplot(data.loc[data[label_column] == 1][target_column], \n",
    "                     kde_kws={\"label\": \"Survived\",'bw':0.1});\n",
    "        sns.distplot(data.loc[data[label_column] == 0][target_column], \n",
    "                     kde_kws={\"label\": \"Did not survive\",'bw':0.1});"
   ]
  },
  {
   "cell_type": "markdown",
   "metadata": {},
   "source": [
    "## Feature Selection and Feature Engineering"
   ]
  },
  {
   "cell_type": "markdown",
   "metadata": {},
   "source": [
    "### Feature: PassengerId\n",
    "\n",
    "Description: Unique ID of the passengers travelling on the ship.\n",
    "\n",
    "We will ignore this feature as it is of our no use for our prediction"
   ]
  },
  {
   "cell_type": "code",
   "execution_count": 198,
   "metadata": {},
   "outputs": [
    {
     "data": {
      "text/plain": [
       "0    1\n",
       "1    2\n",
       "2    3\n",
       "3    4\n",
       "4    5\n",
       "Name: PassengerId, dtype: int64"
      ]
     },
     "execution_count": 198,
     "metadata": {},
     "output_type": "execute_result"
    }
   ],
   "source": [
    "train['PassengerId'].head()"
   ]
  },
  {
   "cell_type": "markdown",
   "metadata": {},
   "source": [
    "### Feature: Survived \n",
    "\n",
    "It is our target variable, lets explore it.\n",
    "\n",
    "Description: Whether the passenger survived or not.\n",
    "    \n",
    "Key: 0 = did not survive, 1 = survived"
   ]
  },
  {
   "cell_type": "code",
   "execution_count": 199,
   "metadata": {},
   "outputs": [
    {
     "name": "stdout",
     "output_type": "stream",
     "text": [
      "0    549\n",
      "1    342\n",
      "Name: Survived, dtype: int64\n"
     ]
    },
    {
     "data": {
      "image/png": "[encoded data removed]",
      "text/plain": [
       "<Figure size 1440x144 with 1 Axes>"
      ]
     },
     "metadata": {},
     "output_type": "display_data"
    }
   ],
   "source": [
    "# how many survived, lets visualize it with count plot\n",
    "fig = plt.figure(figsize=(20,2))\n",
    "sns.countplot(y='Survived',data=train)\n",
    "print(train.Survived.value_counts())"
   ]
  },
  {
   "cell_type": "code",
   "execution_count": 200,
   "metadata": {},
   "outputs": [],
   "source": [
    "# lets add it to our dfs\n",
    "df_con['Survived']=train['Survived']\n",
    "df_bin['Survived']=train['Survived']"
   ]
  },
  {
   "cell_type": "markdown",
   "metadata": {},
   "source": [
    "### Feature: Pclass\n",
    "\n",
    "Description: The ticket class of the passenger.\n",
    "    \n",
    "Key: 1 = 1st, 2 = 2nd, 3 = 3rd"
   ]
  },
  {
   "cell_type": "code",
   "execution_count": 201,
   "metadata": {},
   "outputs": [
    {
     "name": "stdout",
     "output_type": "stream",
     "text": [
      "3    491\n",
      "1    216\n",
      "2    184\n",
      "Name: Pclass, dtype: int64\n"
     ]
    },
    {
     "data": {
      "image/png": "[encoded data removed]",
      "text/plain": [
       "<Figure size 432x288 with 1 Axes>"
      ]
     },
     "metadata": {},
     "output_type": "display_data"
    }
   ],
   "source": [
    "# lets visualize it by distplot\n",
    "sns.distplot(train.Pclass,kde=False)\n",
    "plt.xlim(xmin=0)\n",
    "print(train.Pclass.value_counts())"
   ]
  },
  {
   "cell_type": "code",
   "execution_count": 202,
   "metadata": {},
   "outputs": [
    {
     "data": {
      "text/plain": [
       "0"
      ]
     },
     "execution_count": 202,
     "metadata": {},
     "output_type": "execute_result"
    }
   ],
   "source": [
    "# How many missing variables does Pclass have?\n",
    "train.Pclass.isnull().sum()"
   ]
  },
  {
   "cell_type": "code",
   "execution_count": 203,
   "metadata": {},
   "outputs": [],
   "source": [
    "# lets add it to our dfs\n",
    "df_bin['Pclass'] = train['Pclass']\n",
    "df_con['Pclass'] = train['Pclass']"
   ]
  },
  {
   "cell_type": "markdown",
   "metadata": {},
   "source": [
    "### Feature: Name\n",
    "\n",
    "Description: Name of the passengers "
   ]
  },
  {
   "cell_type": "code",
   "execution_count": 204,
   "metadata": {},
   "outputs": [
    {
     "data": {
      "text/plain": [
       "0"
      ]
     },
     "execution_count": 204,
     "metadata": {},
     "output_type": "execute_result"
    }
   ],
   "source": [
    "# checking if missing values\n",
    "train.Name.isna().sum()"
   ]
  },
  {
   "cell_type": "code",
   "execution_count": 205,
   "metadata": {},
   "outputs": [
    {
     "data": {
      "text/plain": [
       "Zabour, Miss. Hileni                   1\n",
       "Simmons, Mr. John                      1\n",
       "Allen, Mr. William Henry               1\n",
       "Olsen, Mr. Ole Martin                  1\n",
       "Gallagher, Mr. Martin                  1\n",
       "                                      ..\n",
       "Hansen, Mr. Claus Peter                1\n",
       "Madsen, Mr. Fridtjof Arne              1\n",
       "Simonius-Blumer, Col. Oberst Alfons    1\n",
       "Barber, Miss. Ellen \"Nellie\"           1\n",
       "Guggenheim, Mr. Benjamin               1\n",
       "Name: Name, Length: 891, dtype: int64"
      ]
     },
     "execution_count": 205,
     "metadata": {},
     "output_type": "execute_result"
    }
   ],
   "source": [
    "# How many different names are there?\n",
    "train.Name.value_counts()"
   ]
  },
  {
   "cell_type": "code",
   "execution_count": 206,
   "metadata": {},
   "outputs": [
    {
     "data": {
      "text/plain": [
       "891"
      ]
     },
     "execution_count": 206,
     "metadata": {},
     "output_type": "execute_result"
    }
   ],
   "source": [
    "train.Name.nunique()"
   ]
  },
  {
   "cell_type": "markdown",
   "metadata": {},
   "source": [
    "As all the names are unique, thus we can't do something with them directly.\n",
    "\n",
    "But what we can do is create a new feature by extracting their Titles or their Last Names\n",
    "\n",
    "Lets see what we can do:\n",
    "\n",
    "1) By their Titles\n",
    "\n",
    "2) By their Last Names "
   ]
  },
  {
   "cell_type": "code",
   "execution_count": 207,
   "metadata": {},
   "outputs": [
    {
     "data": {
      "text/plain": [
       "0                           [Braund,, Mr., Owen, Harris]\n",
       "1      [Cumings,, Mrs., John, Bradley, (Florence, Bri...\n",
       "2                             [Heikkinen,, Miss., Laina]\n",
       "3      [Futrelle,, Mrs., Jacques, Heath, (Lily, May, ...\n",
       "4                          [Allen,, Mr., William, Henry]\n",
       "                             ...                        \n",
       "886                            [Montvila,, Rev., Juozas]\n",
       "887                    [Graham,, Miss., Margaret, Edith]\n",
       "888       [Johnston,, Miss., Catherine, Helen, \"Carrie\"]\n",
       "889                           [Behr,, Mr., Karl, Howell]\n",
       "890                              [Dooley,, Mr., Patrick]\n",
       "Name: Name, Length: 891, dtype: object"
      ]
     },
     "execution_count": 207,
     "metadata": {},
     "output_type": "execute_result"
    }
   ],
   "source": [
    "k=train.Name.str.split()\n",
    "k"
   ]
  },
  {
   "cell_type": "code",
   "execution_count": 208,
   "metadata": {},
   "outputs": [],
   "source": [
    "t=[]\n",
    "ln=[]\n",
    "for i in k:\n",
    "    t.append(i[1])\n",
    "    ln.append(i[0])"
   ]
  },
  {
   "cell_type": "markdown",
   "metadata": {},
   "source": [
    "#### Lets explore Titles now"
   ]
  },
  {
   "cell_type": "code",
   "execution_count": 209,
   "metadata": {},
   "outputs": [
    {
     "data": {
      "text/plain": [
       "0      Mr.\n",
       "1     Mrs.\n",
       "2    Miss.\n",
       "3     Mrs.\n",
       "4      Mr.\n",
       "dtype: object"
      ]
     },
     "execution_count": 209,
     "metadata": {},
     "output_type": "execute_result"
    }
   ],
   "source": [
    "titles=pd.Series(t)\n",
    "titles.head()"
   ]
  },
  {
   "cell_type": "code",
   "execution_count": 210,
   "metadata": {},
   "outputs": [
    {
     "data": {
      "text/plain": [
       "Mr.             502\n",
       "Miss.           179\n",
       "Mrs.            121\n",
       "Master.          40\n",
       "Dr.               7\n",
       "Rev.              6\n",
       "y                 4\n",
       "Planke,           3\n",
       "Impe,             3\n",
       "Col.              2\n",
       "Major.            2\n",
       "Gordon,           2\n",
       "Mlle.             2\n",
       "Mulder,           1\n",
       "Ms.               1\n",
       "der               1\n",
       "Don.              1\n",
       "Messemaeker,      1\n",
       "Billiard,         1\n",
       "Mme.              1\n",
       "Cruyssen,         1\n",
       "Carlo,            1\n",
       "Jonkheer.         1\n",
       "Capt.             1\n",
       "Steen,            1\n",
       "the               1\n",
       "Pelsmaeker,       1\n",
       "Walle,            1\n",
       "Shawah,           1\n",
       "Velde,            1\n",
       "Melkebeke,        1\n",
       "dtype: int64"
      ]
     },
     "execution_count": 210,
     "metadata": {},
     "output_type": "execute_result"
    }
   ],
   "source": [
    "titles.value_counts()"
   ]
  },
  {
   "cell_type": "markdown",
   "metadata": {},
   "source": [
    "#### So here we will keep the first 4 categories and rest we will make them as Others"
   ]
  },
  {
   "cell_type": "code",
   "execution_count": 211,
   "metadata": {},
   "outputs": [
    {
     "data": {
      "text/plain": [
       "Mr.        502\n",
       "Miss.      179\n",
       "Mrs.       121\n",
       "Others.     49\n",
       "Master.     40\n",
       "dtype: int64"
      ]
     },
     "execution_count": 211,
     "metadata": {},
     "output_type": "execute_result"
    }
   ],
   "source": [
    "for i in range(891):\n",
    "    if not(titles[i] in ['Mr.','Miss.','Mrs.','Master.']):\n",
    "        titles[i]='Others.'\n",
    "titles.value_counts()"
   ]
  },
  {
   "cell_type": "markdown",
   "metadata": {},
   "source": [
    "#### Lets explore Last Names now"
   ]
  },
  {
   "cell_type": "code",
   "execution_count": 212,
   "metadata": {},
   "outputs": [
    {
     "data": {
      "text/plain": [
       "0       Braund,\n",
       "1      Cumings,\n",
       "2    Heikkinen,\n",
       "3     Futrelle,\n",
       "4        Allen,\n",
       "dtype: object"
      ]
     },
     "execution_count": 212,
     "metadata": {},
     "output_type": "execute_result"
    }
   ],
   "source": [
    "last_names=pd.Series(ln)\n",
    "last_names.head()"
   ]
  },
  {
   "cell_type": "code",
   "execution_count": 213,
   "metadata": {},
   "outputs": [
    {
     "data": {
      "text/plain": [
       "Andersson,    9\n",
       "Sage,         7\n",
       "Skoog,        6\n",
       "Johnson,      6\n",
       "Carter,       6\n",
       "             ..\n",
       "Slemen,       1\n",
       "Hawksford,    1\n",
       "Bryhl,        1\n",
       "McDermott,    1\n",
       "Blackwell,    1\n",
       "Length: 661, dtype: int64"
      ]
     },
     "execution_count": 213,
     "metadata": {},
     "output_type": "execute_result"
    }
   ],
   "source": [
    "last_names.value_counts()"
   ]
  },
  {
   "cell_type": "code",
   "execution_count": 214,
   "metadata": {},
   "outputs": [
    {
     "data": {
      "text/plain": [
       "661"
      ]
     },
     "execution_count": 214,
     "metadata": {},
     "output_type": "execute_result"
    }
   ],
   "source": [
    "last_names.nunique()"
   ]
  },
  {
   "cell_type": "markdown",
   "metadata": {},
   "source": [
    "#### As we see there are many uniques values so we will ignore the Last Names"
   ]
  },
  {
   "cell_type": "code",
   "execution_count": 215,
   "metadata": {},
   "outputs": [],
   "source": [
    "# lets add it to our dfs\n",
    "df_bin['Titles'] = titles\n",
    "df_con['Titles'] = titles"
   ]
  },
  {
   "cell_type": "markdown",
   "metadata": {},
   "source": [
    "### Feature: Sex\n",
    "\n",
    "Description: The sex of the passenger (male or female)."
   ]
  },
  {
   "cell_type": "code",
   "execution_count": 216,
   "metadata": {},
   "outputs": [
    {
     "name": "stdout",
     "output_type": "stream",
     "text": [
      "male      577\n",
      "female    314\n",
      "Name: Sex, dtype: int64\n"
     ]
    },
    {
     "data": {
      "image/png": "[encoded data removed]",
      "text/plain": [
       "<Figure size 1440x144 with 1 Axes>"
      ]
     },
     "metadata": {},
     "output_type": "display_data"
    }
   ],
   "source": [
    "# Let's view the distribution of Sex\n",
    "plt.figure(figsize=(20, 2))\n",
    "sns.countplot(y=\"Sex\", data=train)\n",
    "print(train.Sex.value_counts())"
   ]
  },
  {
   "cell_type": "code",
   "execution_count": 217,
   "metadata": {},
   "outputs": [
    {
     "data": {
      "text/plain": [
       "0"
      ]
     },
     "execution_count": 217,
     "metadata": {},
     "output_type": "execute_result"
    }
   ],
   "source": [
    "train.Sex.isna().sum()"
   ]
  },
  {
   "cell_type": "code",
   "execution_count": 218,
   "metadata": {},
   "outputs": [],
   "source": [
    "# add Sex to the subset dataframes\n",
    "df_bin['Sex'] = train['Sex']\n",
    "df_bin['Sex'] = np.where(df_bin['Sex'] == 'female', 1, 0) # change sex to 0 for male and 1 for female\n",
    "df_con['Sex'] = train['Sex']"
   ]
  },
  {
   "cell_type": "code",
   "execution_count": 219,
   "metadata": {},
   "outputs": [
    {
     "data": {
      "image/png": "[encoded data removed]",
      "text/plain": [
       "<Figure size 1080x720 with 1 Axes>"
      ]
     },
     "metadata": {},
     "output_type": "display_data"
    }
   ],
   "source": [
    "# How does the Sex variable look compared to Survival?\n",
    "# We can see this because they're both binarys.\n",
    "# Visualise the counts of Sex and the distribution of the values\n",
    "# against Survived\n",
    "plot_count_dist(df_bin, \n",
    "               bin_df=df_bin,\n",
    "                label_column='Survived', \n",
    "                target_column='Sex', \n",
    "                figsize=(15, 10),\n",
    "               use_bin_df=True,\n",
    "               use_count=False)"
   ]
  },
  {
   "cell_type": "markdown",
   "metadata": {},
   "source": [
    "#### from above we can see that not many people survived. But of those who did, more were female."
   ]
  },
  {
   "cell_type": "markdown",
   "metadata": {},
   "source": [
    "### Feature: Age\n",
    "\n",
    "Description: The age of the passenger."
   ]
  },
  {
   "cell_type": "code",
   "execution_count": 220,
   "metadata": {},
   "outputs": [
    {
     "data": {
      "text/plain": [
       "177"
      ]
     },
     "execution_count": 220,
     "metadata": {},
     "output_type": "execute_result"
    }
   ],
   "source": [
    "# How many missing values does age have?\n",
    "train.Age.isnull().sum()"
   ]
  },
  {
   "cell_type": "markdown",
   "metadata": {},
   "source": [
    "Out of a total 891 rows, that's almost one quarter of the dataset.\n",
    "\n",
    "What would we do with these missing values?\n",
    "\n",
    "Could replace them with the average age? What's the pro's and con's of doing this?\n",
    "\n",
    "Or we can get rid of them completely? But that can affect our prediction as we will be loosing a lot of data"
   ]
  },
  {
   "cell_type": "code",
   "execution_count": 221,
   "metadata": {},
   "outputs": [
    {
     "data": {
      "text/plain": [
       "24.00    30\n",
       "22.00    27\n",
       "18.00    26\n",
       "19.00    25\n",
       "30.00    25\n",
       "         ..\n",
       "55.50     1\n",
       "70.50     1\n",
       "66.00     1\n",
       "23.50     1\n",
       "0.42      1\n",
       "Name: Age, Length: 88, dtype: int64"
      ]
     },
     "execution_count": 221,
     "metadata": {},
     "output_type": "execute_result"
    }
   ],
   "source": [
    "train.Age.value_counts()"
   ]
  },
  {
   "cell_type": "code",
   "execution_count": 222,
   "metadata": {},
   "outputs": [
    {
     "data": {
      "text/plain": [
       "29.69911764705882"
      ]
     },
     "execution_count": 222,
     "metadata": {},
     "output_type": "execute_result"
    }
   ],
   "source": [
    "train.Age.mean()"
   ]
  },
  {
   "cell_type": "code",
   "execution_count": 223,
   "metadata": {},
   "outputs": [
    {
     "data": {
      "text/plain": [
       "28.0"
      ]
     },
     "execution_count": 223,
     "metadata": {},
     "output_type": "execute_result"
    }
   ],
   "source": [
    "train.Age.median()"
   ]
  },
  {
   "cell_type": "code",
   "execution_count": 224,
   "metadata": {},
   "outputs": [
    {
     "data": {
      "text/plain": [
       "<matplotlib.axes._subplots.AxesSubplot at 0x1ebdf16ba88>"
      ]
     },
     "execution_count": 224,
     "metadata": {},
     "output_type": "execute_result"
    },
    {
     "data": {
      "image/png": "[encoded data removed]",
      "text/plain": [
       "<Figure size 1440x576 with 1 Axes>"
      ]
     },
     "metadata": {},
     "output_type": "display_data"
    }
   ],
   "source": [
    "# age countplot\n",
    "fig = plt.figure(figsize=(20,8))\n",
    "sns.countplot(x='Age',data=train)"
   ]
  },
  {
   "cell_type": "markdown",
   "metadata": {},
   "source": [
    "#### Lets try to discretize the age into: \n",
    "\n",
    "1) 0 - 20         as 1\n",
    "\n",
    "2) 21 - 60        as 2\n",
    "\n",
    "3) 61 - 100       as 3\n",
    "\n",
    "4) null           as 0"
   ]
  },
  {
   "cell_type": "code",
   "execution_count": 225,
   "metadata": {},
   "outputs": [],
   "source": [
    "a=[]\n",
    "for i in train.Age:\n",
    "    if np.isnan(i):\n",
    "        a.append(0)\n",
    "    elif i<21:\n",
    "        a.append(1)\n",
    "    elif i<61:\n",
    "        a.append(2)\n",
    "    else:\n",
    "        a.append(3)"
   ]
  },
  {
   "cell_type": "code",
   "execution_count": 226,
   "metadata": {},
   "outputs": [
    {
     "data": {
      "text/plain": [
       "2    512\n",
       "1    180\n",
       "0    177\n",
       "3     22\n",
       "Name: Discrete_age, dtype: int64"
      ]
     },
     "execution_count": 226,
     "metadata": {},
     "output_type": "execute_result"
    }
   ],
   "source": [
    "discrete_age=pd.DataFrame(a,columns=['Discrete_age'])\n",
    "discrete_age.Discrete_age.value_counts()"
   ]
  },
  {
   "cell_type": "code",
   "execution_count": 227,
   "metadata": {},
   "outputs": [],
   "source": [
    "discrete_age = pd.concat([discrete_age,train.Survived,df_bin['Titles']],axis=1)"
   ]
  },
  {
   "cell_type": "code",
   "execution_count": 228,
   "metadata": {},
   "outputs": [
    {
     "data": {
      "text/html": [
       "<div>\n",
       "<style scoped>\n",
       "    .dataframe tbody tr th:only-of-type {\n",
       "        vertical-align: middle;\n",
       "    }\n",
       "\n",
       "    .dataframe tbody tr th {\n",
       "        vertical-align: top;\n",
       "    }\n",
       "\n",
       "    .dataframe thead th {\n",
       "        text-align: right;\n",
       "    }\n",
       "</style>\n",
       "<table border=\"1\" class=\"dataframe\">\n",
       "  <thead>\n",
       "    <tr style=\"text-align: right;\">\n",
       "      <th></th>\n",
       "      <th>Discrete_age</th>\n",
       "      <th>Survived</th>\n",
       "      <th>Titles</th>\n",
       "    </tr>\n",
       "  </thead>\n",
       "  <tbody>\n",
       "    <tr>\n",
       "      <th>0</th>\n",
       "      <td>2</td>\n",
       "      <td>0</td>\n",
       "      <td>Mr.</td>\n",
       "    </tr>\n",
       "    <tr>\n",
       "      <th>1</th>\n",
       "      <td>2</td>\n",
       "      <td>1</td>\n",
       "      <td>Mrs.</td>\n",
       "    </tr>\n",
       "    <tr>\n",
       "      <th>2</th>\n",
       "      <td>2</td>\n",
       "      <td>1</td>\n",
       "      <td>Miss.</td>\n",
       "    </tr>\n",
       "    <tr>\n",
       "      <th>3</th>\n",
       "      <td>2</td>\n",
       "      <td>1</td>\n",
       "      <td>Mrs.</td>\n",
       "    </tr>\n",
       "    <tr>\n",
       "      <th>4</th>\n",
       "      <td>2</td>\n",
       "      <td>0</td>\n",
       "      <td>Mr.</td>\n",
       "    </tr>\n",
       "  </tbody>\n",
       "</table>\n",
       "</div>"
      ],
      "text/plain": [
       "   Discrete_age  Survived Titles\n",
       "0             2         0    Mr.\n",
       "1             2         1   Mrs.\n",
       "2             2         1  Miss.\n",
       "3             2         1   Mrs.\n",
       "4             2         0    Mr."
      ]
     },
     "execution_count": 228,
     "metadata": {},
     "output_type": "execute_result"
    }
   ],
   "source": [
    "discrete_age.head()"
   ]
  },
  {
   "cell_type": "markdown",
   "metadata": {},
   "source": [
    "#### Now lets see how the survival is distributed among the Discretized Age"
   ]
  },
  {
   "cell_type": "markdown",
   "metadata": {},
   "source": [
    "#### For the NAN category 0"
   ]
  },
  {
   "cell_type": "code",
   "execution_count": 229,
   "metadata": {},
   "outputs": [
    {
     "data": {
      "text/plain": [
       "0    125\n",
       "1     52\n",
       "Name: Survived, dtype: int64"
      ]
     },
     "execution_count": 229,
     "metadata": {},
     "output_type": "execute_result"
    }
   ],
   "source": [
    "discrete_age.loc[discrete_age.Discrete_age==0].Survived.value_counts()"
   ]
  },
  {
   "cell_type": "code",
   "execution_count": 230,
   "metadata": {},
   "outputs": [
    {
     "data": {
      "text/plain": [
       "Mr.        117\n",
       "Miss.       36\n",
       "Mrs.        17\n",
       "Master.      4\n",
       "Others.      3\n",
       "Name: Titles, dtype: int64"
      ]
     },
     "execution_count": 230,
     "metadata": {},
     "output_type": "execute_result"
    }
   ],
   "source": [
    "discrete_age.loc[discrete_age.Discrete_age==0].Titles.value_counts()"
   ]
  },
  {
   "cell_type": "code",
   "execution_count": 231,
   "metadata": {},
   "outputs": [
    {
     "data": {
      "text/plain": [
       "Miss.      22\n",
       "Mrs.       14\n",
       "Mr.        13\n",
       "Master.     2\n",
       "Others.     1\n",
       "Name: Titles, dtype: int64"
      ]
     },
     "execution_count": 231,
     "metadata": {},
     "output_type": "execute_result"
    }
   ],
   "source": [
    "discrete_age.loc[(discrete_age.Discrete_age==0) & (discrete_age.Survived==1)].Titles.value_counts()"
   ]
  },
  {
   "cell_type": "markdown",
   "metadata": {},
   "source": [
    "#### For category 1"
   ]
  },
  {
   "cell_type": "code",
   "execution_count": 232,
   "metadata": {},
   "outputs": [
    {
     "data": {
      "text/plain": [
       "0    98\n",
       "1    82\n",
       "Name: Survived, dtype: int64"
      ]
     },
     "execution_count": 232,
     "metadata": {},
     "output_type": "execute_result"
    }
   ],
   "source": [
    "discrete_age.loc[discrete_age.Discrete_age==1].Survived.value_counts()"
   ]
  },
  {
   "cell_type": "code",
   "execution_count": 233,
   "metadata": {},
   "outputs": [
    {
     "data": {
      "text/plain": [
       "Miss.      66\n",
       "Mr.        64\n",
       "Master.    36\n",
       "Mrs.        8\n",
       "Others.     6\n",
       "Name: Titles, dtype: int64"
      ]
     },
     "execution_count": 233,
     "metadata": {},
     "output_type": "execute_result"
    }
   ],
   "source": [
    "discrete_age.loc[discrete_age.Discrete_age==1].Titles.value_counts()"
   ]
  },
  {
   "cell_type": "markdown",
   "metadata": {},
   "source": [
    "#### For category 2"
   ]
  },
  {
   "cell_type": "code",
   "execution_count": 234,
   "metadata": {},
   "outputs": [
    {
     "data": {
      "text/plain": [
       "0    309\n",
       "1    203\n",
       "Name: Survived, dtype: int64"
      ]
     },
     "execution_count": 234,
     "metadata": {},
     "output_type": "execute_result"
    }
   ],
   "source": [
    "discrete_age.loc[discrete_age.Discrete_age==2].Survived.value_counts()"
   ]
  },
  {
   "cell_type": "code",
   "execution_count": 235,
   "metadata": {},
   "outputs": [
    {
     "data": {
      "text/plain": [
       "Mr.        304\n",
       "Mrs.        94\n",
       "Miss.       76\n",
       "Others.     38\n",
       "Name: Titles, dtype: int64"
      ]
     },
     "execution_count": 235,
     "metadata": {},
     "output_type": "execute_result"
    }
   ],
   "source": [
    "discrete_age.loc[(discrete_age.Discrete_age==2)].Titles.value_counts()"
   ]
  },
  {
   "cell_type": "markdown",
   "metadata": {},
   "source": [
    "#### For category 3 "
   ]
  },
  {
   "cell_type": "code",
   "execution_count": 236,
   "metadata": {},
   "outputs": [
    {
     "data": {
      "text/plain": [
       "0    17\n",
       "1     5\n",
       "Name: Survived, dtype: int64"
      ]
     },
     "execution_count": 236,
     "metadata": {},
     "output_type": "execute_result"
    }
   ],
   "source": [
    "discrete_age.loc[discrete_age.Discrete_age==3].Survived.value_counts()"
   ]
  },
  {
   "cell_type": "code",
   "execution_count": 237,
   "metadata": {},
   "outputs": [
    {
     "data": {
      "text/plain": [
       "Mr.        17\n",
       "Mrs.        2\n",
       "Others.     2\n",
       "Miss.       1\n",
       "Name: Titles, dtype: int64"
      ]
     },
     "execution_count": 237,
     "metadata": {},
     "output_type": "execute_result"
    }
   ],
   "source": [
    "discrete_age.loc[(discrete_age.Discrete_age==3)].Titles.value_counts()"
   ]
  },
  {
   "cell_type": "markdown",
   "metadata": {},
   "source": [
    "#### So now we have seen that the Age with NaN values can be categoried with the help of their Titles\n",
    "\n",
    "if Master or Miss then put in category 1\n",
    "else in category 2"
   ]
  },
  {
   "cell_type": "code",
   "execution_count": 238,
   "metadata": {},
   "outputs": [],
   "source": [
    "def func(x):\n",
    "    if x in ['Master.','Miss.']:\n",
    "         return 1\n",
    "    else:\n",
    "        return 2"
   ]
  },
  {
   "cell_type": "code",
   "execution_count": 239,
   "metadata": {},
   "outputs": [],
   "source": [
    "df=discrete_age.loc[discrete_age.Discrete_age==0]\n",
    "df.Discrete_age=df.Titles.apply(func)\n",
    "discrete_age.loc[discrete_age.Discrete_age==0]=df"
   ]
  },
  {
   "cell_type": "code",
   "execution_count": 240,
   "metadata": {},
   "outputs": [
    {
     "data": {
      "text/plain": [
       "2    649\n",
       "1    220\n",
       "3     22\n",
       "Name: Discrete_age, dtype: int64"
      ]
     },
     "execution_count": 240,
     "metadata": {},
     "output_type": "execute_result"
    }
   ],
   "source": [
    "discrete_age.Discrete_age.value_counts()"
   ]
  },
  {
   "cell_type": "code",
   "execution_count": 241,
   "metadata": {},
   "outputs": [],
   "source": [
    "# adding this feature to our dfs\n",
    "df_bin['Dis_age'] = discrete_age.Discrete_age\n",
    "df_con['Dis_age'] = discrete_age.Discrete_age"
   ]
  },
  {
   "cell_type": "markdown",
   "metadata": {},
   "source": [
    "### Feature: SibSp\n",
    "\n",
    "Description: The number of siblings/spouses the passenger has aboard the Titanic."
   ]
  },
  {
   "cell_type": "code",
   "execution_count": 242,
   "metadata": {},
   "outputs": [
    {
     "data": {
      "text/plain": [
       "0"
      ]
     },
     "execution_count": 242,
     "metadata": {},
     "output_type": "execute_result"
    }
   ],
   "source": [
    "# How many missing values does SibSp have?\n",
    "train.SibSp.isnull().sum()"
   ]
  },
  {
   "cell_type": "code",
   "execution_count": 243,
   "metadata": {},
   "outputs": [
    {
     "data": {
      "text/plain": [
       "0    608\n",
       "1    209\n",
       "2     28\n",
       "4     18\n",
       "3     16\n",
       "8      7\n",
       "5      5\n",
       "Name: SibSp, dtype: int64"
      ]
     },
     "execution_count": 243,
     "metadata": {},
     "output_type": "execute_result"
    }
   ],
   "source": [
    "# What values are there?\n",
    "train.SibSp.value_counts()"
   ]
  },
  {
   "cell_type": "code",
   "execution_count": 244,
   "metadata": {},
   "outputs": [],
   "source": [
    "# Add SibSp to subset dataframes\n",
    "df_bin['SibSp'] = train['SibSp']\n",
    "df_con['SibSp'] = train['SibSp']"
   ]
  },
  {
   "cell_type": "code",
   "execution_count": 245,
   "metadata": {},
   "outputs": [
    {
     "data": {
      "image/png": "[encoded data removed]",
      "text/plain": [
       "<Figure size 1440x720 with 2 Axes>"
      ]
     },
     "metadata": {},
     "output_type": "display_data"
    }
   ],
   "source": [
    "# Visualise the counts of SibSp and the distribution of the values\n",
    "# against Survived\n",
    "plot_count_dist(train, \n",
    "                bin_df=df_bin, \n",
    "                label_column='Survived', \n",
    "                target_column='SibSp', \n",
    "                figsize=(20, 10))"
   ]
  },
  {
   "cell_type": "markdown",
   "metadata": {},
   "source": [
    "### Feature: Parch\n",
    "\n",
    "Description: The number of parents/children the passenger has aboard the Titanic."
   ]
  },
  {
   "cell_type": "code",
   "execution_count": 246,
   "metadata": {},
   "outputs": [
    {
     "data": {
      "text/plain": [
       "0"
      ]
     },
     "execution_count": 246,
     "metadata": {},
     "output_type": "execute_result"
    }
   ],
   "source": [
    "# How many missing values does Parch have?\n",
    "train.Parch.isnull().sum()"
   ]
  },
  {
   "cell_type": "code",
   "execution_count": 247,
   "metadata": {},
   "outputs": [
    {
     "data": {
      "text/plain": [
       "0    678\n",
       "1    118\n",
       "2     80\n",
       "5      5\n",
       "3      5\n",
       "4      4\n",
       "6      1\n",
       "Name: Parch, dtype: int64"
      ]
     },
     "execution_count": 247,
     "metadata": {},
     "output_type": "execute_result"
    }
   ],
   "source": [
    "# What values are there?\n",
    "train.Parch.value_counts()"
   ]
  },
  {
   "cell_type": "code",
   "execution_count": 248,
   "metadata": {},
   "outputs": [],
   "source": [
    "# Add Parch to subset dataframes\n",
    "df_bin['Parch'] = train['Parch']\n",
    "df_con['Parch'] = train['Parch']"
   ]
  },
  {
   "cell_type": "code",
   "execution_count": 249,
   "metadata": {},
   "outputs": [
    {
     "data": {
      "image/png": "[encoded data removed]",
      "text/plain": [
       "<Figure size 1440x720 with 2 Axes>"
      ]
     },
     "metadata": {},
     "output_type": "display_data"
    }
   ],
   "source": [
    "# Visualise the counts of Parch and the distribution of the values\n",
    "# against Survived\n",
    "plot_count_dist(train, \n",
    "               bin_df=df_bin,\n",
    "                label_column='Survived', \n",
    "                target_column='Parch', \n",
    "                figsize=(20, 10))"
   ]
  },
  {
   "cell_type": "markdown",
   "metadata": {},
   "source": [
    "#### From above two features' graph we can see that majority of the people who had 0 Parch or Sibsp survived"
   ]
  },
  {
   "cell_type": "markdown",
   "metadata": {},
   "source": [
    "### Feature: Ticket\n",
    "\n",
    "Description: The ticket number of the boarding passenger."
   ]
  },
  {
   "cell_type": "code",
   "execution_count": 250,
   "metadata": {},
   "outputs": [
    {
     "data": {
      "text/plain": [
       "0"
      ]
     },
     "execution_count": 250,
     "metadata": {},
     "output_type": "execute_result"
    }
   ],
   "source": [
    "# How many missing values does Ticket have?\n",
    "train.Ticket.isnull().sum()"
   ]
  },
  {
   "cell_type": "code",
   "execution_count": 251,
   "metadata": {},
   "outputs": [
    {
     "data": {
      "image/png": "[encoded data removed]",
      "text/plain": [
       "<Figure size 1440x576 with 1 Axes>"
      ]
     },
     "metadata": {},
     "output_type": "display_data"
    }
   ],
   "source": [
    "# How many kinds of ticket are there?\n",
    "fig = plt.figure(figsize=(20,8))\n",
    "sns.countplot(x=\"Ticket\", data=train);"
   ]
  },
  {
   "cell_type": "code",
   "execution_count": 252,
   "metadata": {},
   "outputs": [
    {
     "data": {
      "text/plain": [
       "347082      7\n",
       "1601        7\n",
       "CA. 2343    7\n",
       "3101295     6\n",
       "347088      6\n",
       "           ..\n",
       "367231      1\n",
       "8475        1\n",
       "112052      1\n",
       "350417      1\n",
       "315153      1\n",
       "Name: Ticket, Length: 681, dtype: int64"
      ]
     },
     "execution_count": 252,
     "metadata": {},
     "output_type": "execute_result"
    }
   ],
   "source": [
    "# How many kinds of ticket are there?\n",
    "train.Ticket.value_counts()"
   ]
  },
  {
   "cell_type": "code",
   "execution_count": 253,
   "metadata": {},
   "outputs": [
    {
     "data": {
      "text/plain": [
       "681"
      ]
     },
     "execution_count": 253,
     "metadata": {},
     "output_type": "execute_result"
    }
   ],
   "source": [
    "# How many unique kinds of Ticket are there?\n",
    "train.Ticket.nunique()"
   ]
  },
  {
   "cell_type": "markdown",
   "metadata": {},
   "source": [
    "681 unique values is too many for now. So we won't use `Ticket` in our subset dataframes.\n",
    "\n",
    "There may be some way to reduce this down. "
   ]
  },
  {
   "cell_type": "markdown",
   "metadata": {},
   "source": [
    "### Feature: Fare\n",
    "\n",
    "Description: How much the ticket cost."
   ]
  },
  {
   "cell_type": "code",
   "execution_count": 254,
   "metadata": {},
   "outputs": [
    {
     "data": {
      "text/plain": [
       "0"
      ]
     },
     "execution_count": 254,
     "metadata": {},
     "output_type": "execute_result"
    }
   ],
   "source": [
    "# How many missing values does Fare have?\n",
    "train.Fare.isnull().sum()"
   ]
  },
  {
   "cell_type": "code",
   "execution_count": 255,
   "metadata": {},
   "outputs": [
    {
     "data": {
      "text/plain": [
       "<matplotlib.axes._subplots.AxesSubplot at 0x1ebdfb82b08>"
      ]
     },
     "execution_count": 255,
     "metadata": {},
     "output_type": "execute_result"
    },
    {
     "data": {
      "image/png": "[encoded data removed]",
      "text/plain": [
       "<Figure size 1440x576 with 1 Axes>"
      ]
     },
     "metadata": {},
     "output_type": "display_data"
    }
   ],
   "source": [
    "# How many different values of Fare are there?\n",
    "fig = plt.figure(figsize=(20,8))\n",
    "sns.countplot(x=\"Fare\", data=train)"
   ]
  },
  {
   "cell_type": "code",
   "execution_count": 256,
   "metadata": {},
   "outputs": [
    {
     "data": {
      "text/plain": [
       "8.0500     43\n",
       "13.0000    42\n",
       "7.8958     38\n",
       "7.7500     34\n",
       "26.0000    31\n",
       "           ..\n",
       "8.4583      1\n",
       "9.8375      1\n",
       "8.3625      1\n",
       "14.1083     1\n",
       "17.4000     1\n",
       "Name: Fare, Length: 248, dtype: int64"
      ]
     },
     "execution_count": 256,
     "metadata": {},
     "output_type": "execute_result"
    }
   ],
   "source": [
    "# How many kinds of Fare are there?\n",
    "train.Fare.value_counts()"
   ]
  },
  {
   "cell_type": "code",
   "execution_count": 257,
   "metadata": {},
   "outputs": [
    {
     "data": {
      "text/plain": [
       "248"
      ]
     },
     "execution_count": 257,
     "metadata": {},
     "output_type": "execute_result"
    }
   ],
   "source": [
    "# How many unique kinds of Fare are there?\n",
    "train.Fare.nunique()"
   ]
  },
  {
   "cell_type": "markdown",
   "metadata": {},
   "source": [
    "#### Because Fare is a float (number) let's add it as it is to our continuous sub dataframe but to add it to our categorical sub dataframe, we'll cut it into bins."
   ]
  },
  {
   "cell_type": "code",
   "execution_count": 258,
   "metadata": {},
   "outputs": [],
   "source": [
    "# Add Fare to sub dataframes\n",
    "df_con['Fare'] = train['Fare'] \n",
    "df_bin['Fare'] = pd.cut(train['Fare'], bins=5) # discretised "
   ]
  },
  {
   "cell_type": "code",
   "execution_count": 259,
   "metadata": {},
   "outputs": [
    {
     "data": {
      "text/plain": [
       "(-0.512, 102.466]     838\n",
       "(102.466, 204.932]     33\n",
       "(204.932, 307.398]     17\n",
       "(409.863, 512.329]      3\n",
       "(307.398, 409.863]      0\n",
       "Name: Fare, dtype: int64"
      ]
     },
     "execution_count": 259,
     "metadata": {},
     "output_type": "execute_result"
    }
   ],
   "source": [
    "# What do our Fare bins look like?\n",
    "df_bin.Fare.value_counts()"
   ]
  },
  {
   "cell_type": "code",
   "execution_count": 260,
   "metadata": {},
   "outputs": [
    {
     "data": {
      "image/png": "[encoded data removed]",
      "text/plain": [
       "<Figure size 1440x720 with 2 Axes>"
      ]
     },
     "metadata": {},
     "output_type": "display_data"
    }
   ],
   "source": [
    "# Visualise the Fare bin counts as well as the Fare distribution versus Survived.\n",
    "plot_count_dist(data=train,\n",
    "                bin_df=df_bin,\n",
    "                label_column='Survived', \n",
    "                target_column='Fare', \n",
    "                figsize=(20,10), \n",
    "                use_bin_df=True)"
   ]
  },
  {
   "cell_type": "markdown",
   "metadata": {},
   "source": [
    "### Feature: Cabin\n",
    "\n",
    "Description: The cabin number where the passenger was staying.    "
   ]
  },
  {
   "cell_type": "code",
   "execution_count": 261,
   "metadata": {},
   "outputs": [
    {
     "data": {
      "text/plain": [
       "687"
      ]
     },
     "execution_count": 261,
     "metadata": {},
     "output_type": "execute_result"
    }
   ],
   "source": [
    "# How many missing values does Cabin have?\n",
    "train.Cabin.isnull().sum()"
   ]
  },
  {
   "cell_type": "code",
   "execution_count": 262,
   "metadata": {},
   "outputs": [
    {
     "data": {
      "text/plain": [
       "G6             4\n",
       "B96 B98        4\n",
       "C23 C25 C27    4\n",
       "F2             3\n",
       "C22 C26        3\n",
       "              ..\n",
       "A24            1\n",
       "E58            1\n",
       "E17            1\n",
       "C47            1\n",
       "B42            1\n",
       "Name: Cabin, Length: 147, dtype: int64"
      ]
     },
     "execution_count": 262,
     "metadata": {},
     "output_type": "execute_result"
    }
   ],
   "source": [
    "# What do the Cabin values look like?\n",
    "train.Cabin.value_counts()"
   ]
  },
  {
   "cell_type": "markdown",
   "metadata": {},
   "source": [
    "#### Since there are too many missing values, we won't use Cabin for our initial models and won't add it to our sub dataframes.\n"
   ]
  },
  {
   "cell_type": "markdown",
   "metadata": {},
   "source": [
    "### Feature: Embarked\n",
    "\n",
    "Description: The port where the passenger boarded the Titanic.\n",
    "    \n",
    "Key: C = Cherbourg, Q = Queenstown, S = Southampton"
   ]
  },
  {
   "cell_type": "code",
   "execution_count": 263,
   "metadata": {},
   "outputs": [
    {
     "data": {
      "text/plain": [
       "2"
      ]
     },
     "execution_count": 263,
     "metadata": {},
     "output_type": "execute_result"
    }
   ],
   "source": [
    "# How many missing values does Embarked have?\n",
    "train.Embarked.isnull().sum()"
   ]
  },
  {
   "cell_type": "code",
   "execution_count": 264,
   "metadata": {},
   "outputs": [
    {
     "data": {
      "text/plain": [
       "S    644\n",
       "C    168\n",
       "Q     77\n",
       "Name: Embarked, dtype: int64"
      ]
     },
     "execution_count": 264,
     "metadata": {},
     "output_type": "execute_result"
    }
   ],
   "source": [
    "# What kind of values are in Embarked?\n",
    "train.Embarked.value_counts()"
   ]
  },
  {
   "cell_type": "code",
   "execution_count": 265,
   "metadata": {},
   "outputs": [
    {
     "data": {
      "image/png": "[encoded data removed]",
      "text/plain": [
       "<Figure size 432x288 with 1 Axes>"
      ]
     },
     "metadata": {},
     "output_type": "display_data"
    }
   ],
   "source": [
    "# What do the counts look like?\n",
    "sns.countplot(y='Embarked', data=train);"
   ]
  },
  {
   "cell_type": "code",
   "execution_count": 266,
   "metadata": {},
   "outputs": [
    {
     "data": {
      "text/html": [
       "<div>\n",
       "<style scoped>\n",
       "    .dataframe tbody tr th:only-of-type {\n",
       "        vertical-align: middle;\n",
       "    }\n",
       "\n",
       "    .dataframe tbody tr th {\n",
       "        vertical-align: top;\n",
       "    }\n",
       "\n",
       "    .dataframe thead th {\n",
       "        text-align: right;\n",
       "    }\n",
       "</style>\n",
       "<table border=\"1\" class=\"dataframe\">\n",
       "  <thead>\n",
       "    <tr style=\"text-align: right;\">\n",
       "      <th></th>\n",
       "      <th>PassengerId</th>\n",
       "      <th>Survived</th>\n",
       "      <th>Pclass</th>\n",
       "      <th>Name</th>\n",
       "      <th>Sex</th>\n",
       "      <th>Age</th>\n",
       "      <th>SibSp</th>\n",
       "      <th>Parch</th>\n",
       "      <th>Ticket</th>\n",
       "      <th>Fare</th>\n",
       "      <th>Cabin</th>\n",
       "      <th>Embarked</th>\n",
       "    </tr>\n",
       "  </thead>\n",
       "  <tbody>\n",
       "    <tr>\n",
       "      <th>61</th>\n",
       "      <td>62</td>\n",
       "      <td>1</td>\n",
       "      <td>1</td>\n",
       "      <td>Icard, Miss. Amelie</td>\n",
       "      <td>female</td>\n",
       "      <td>38.0</td>\n",
       "      <td>0</td>\n",
       "      <td>0</td>\n",
       "      <td>113572</td>\n",
       "      <td>80.0</td>\n",
       "      <td>B28</td>\n",
       "      <td>NaN</td>\n",
       "    </tr>\n",
       "    <tr>\n",
       "      <th>829</th>\n",
       "      <td>830</td>\n",
       "      <td>1</td>\n",
       "      <td>1</td>\n",
       "      <td>Stone, Mrs. George Nelson (Martha Evelyn)</td>\n",
       "      <td>female</td>\n",
       "      <td>62.0</td>\n",
       "      <td>0</td>\n",
       "      <td>0</td>\n",
       "      <td>113572</td>\n",
       "      <td>80.0</td>\n",
       "      <td>B28</td>\n",
       "      <td>NaN</td>\n",
       "    </tr>\n",
       "  </tbody>\n",
       "</table>\n",
       "</div>"
      ],
      "text/plain": [
       "     PassengerId  Survived  Pclass                                       Name  \\\n",
       "61            62         1       1                        Icard, Miss. Amelie   \n",
       "829          830         1       1  Stone, Mrs. George Nelson (Martha Evelyn)   \n",
       "\n",
       "        Sex   Age  SibSp  Parch  Ticket  Fare Cabin Embarked  \n",
       "61   female  38.0      0      0  113572  80.0   B28      NaN  \n",
       "829  female  62.0      0      0  113572  80.0   B28      NaN  "
      ]
     },
     "execution_count": 266,
     "metadata": {},
     "output_type": "execute_result"
    }
   ],
   "source": [
    "train[train.Embarked.isnull()]"
   ]
  },
  {
   "cell_type": "code",
   "execution_count": null,
   "metadata": {},
   "outputs": [],
   "source": []
  },
  {
   "cell_type": "code",
   "execution_count": 267,
   "metadata": {},
   "outputs": [
    {
     "data": {
      "text/plain": [
       "(217, 12)"
      ]
     },
     "execution_count": 267,
     "metadata": {},
     "output_type": "execute_result"
    }
   ],
   "source": [
    "train[(train.Embarked=='S')&(train.Survived==1)].shape"
   ]
  },
  {
   "cell_type": "code",
   "execution_count": 268,
   "metadata": {},
   "outputs": [
    {
     "data": {
      "text/plain": [
       "(427, 12)"
      ]
     },
     "execution_count": 268,
     "metadata": {},
     "output_type": "execute_result"
    }
   ],
   "source": [
    "train[(train.Embarked=='S')&(train.Survived==0)].shape"
   ]
  },
  {
   "cell_type": "code",
   "execution_count": 269,
   "metadata": {},
   "outputs": [
    {
     "data": {
      "text/plain": [
       "(93, 12)"
      ]
     },
     "execution_count": 269,
     "metadata": {},
     "output_type": "execute_result"
    }
   ],
   "source": [
    "train[(train.Embarked=='C')&(train.Survived==1)].shape"
   ]
  },
  {
   "cell_type": "code",
   "execution_count": 270,
   "metadata": {},
   "outputs": [
    {
     "data": {
      "text/plain": [
       "(75, 12)"
      ]
     },
     "execution_count": 270,
     "metadata": {},
     "output_type": "execute_result"
    }
   ],
   "source": [
    "train[(train.Embarked=='C')&(train.Survived==0)].shape"
   ]
  },
  {
   "cell_type": "code",
   "execution_count": 271,
   "metadata": {},
   "outputs": [
    {
     "data": {
      "text/plain": [
       "(30, 12)"
      ]
     },
     "execution_count": 271,
     "metadata": {},
     "output_type": "execute_result"
    }
   ],
   "source": [
    "train[(train.Embarked=='Q')&(train.Survived==1)].shape"
   ]
  },
  {
   "cell_type": "code",
   "execution_count": 272,
   "metadata": {},
   "outputs": [
    {
     "data": {
      "text/plain": [
       "(47, 12)"
      ]
     },
     "execution_count": 272,
     "metadata": {},
     "output_type": "execute_result"
    }
   ],
   "source": [
    "train[(train.Embarked=='Q')&(train.Survived==0)].shape"
   ]
  },
  {
   "cell_type": "code",
   "execution_count": 273,
   "metadata": {},
   "outputs": [],
   "source": [
    "# Add Parch to subset dataframes\n",
    "df_bin['Embarked'] = train['Embarked']\n",
    "df_con['Embarked'] = train['Embarked']"
   ]
  },
  {
   "cell_type": "code",
   "execution_count": 274,
   "metadata": {},
   "outputs": [
    {
     "name": "stdout",
     "output_type": "stream",
     "text": [
      "891\n",
      "889\n"
     ]
    }
   ],
   "source": [
    "# Remove Embarked rows which are missing values\n",
    "print(len(df_con))\n",
    "df_con = df_con.dropna(subset=['Embarked'])\n",
    "df_bin = df_bin.dropna(subset=['Embarked'])\n",
    "print(len(df_con))"
   ]
  },
  {
   "cell_type": "markdown",
   "metadata": {},
   "source": [
    "## Feature Encoding\n",
    "Now we have our two sub dataframes ready. We can encode the features so they're ready to be used with our machine learning models.\n",
    "\n",
    "We will encode our binned dataframe (`df_bin`) with one-hot encoding and our continuous dataframe (`df_con`) also with one-hot encoding ."
   ]
  },
  {
   "cell_type": "code",
   "execution_count": 275,
   "metadata": {},
   "outputs": [
    {
     "data": {
      "text/html": [
       "<div>\n",
       "<style scoped>\n",
       "    .dataframe tbody tr th:only-of-type {\n",
       "        vertical-align: middle;\n",
       "    }\n",
       "\n",
       "    .dataframe tbody tr th {\n",
       "        vertical-align: top;\n",
       "    }\n",
       "\n",
       "    .dataframe thead th {\n",
       "        text-align: right;\n",
       "    }\n",
       "</style>\n",
       "<table border=\"1\" class=\"dataframe\">\n",
       "  <thead>\n",
       "    <tr style=\"text-align: right;\">\n",
       "      <th></th>\n",
       "      <th>Survived</th>\n",
       "      <th>Pclass</th>\n",
       "      <th>Titles</th>\n",
       "      <th>Sex</th>\n",
       "      <th>Dis_age</th>\n",
       "      <th>SibSp</th>\n",
       "      <th>Parch</th>\n",
       "      <th>Fare</th>\n",
       "      <th>Embarked</th>\n",
       "    </tr>\n",
       "  </thead>\n",
       "  <tbody>\n",
       "    <tr>\n",
       "      <th>0</th>\n",
       "      <td>0</td>\n",
       "      <td>3</td>\n",
       "      <td>Mr.</td>\n",
       "      <td>0</td>\n",
       "      <td>2</td>\n",
       "      <td>1</td>\n",
       "      <td>0</td>\n",
       "      <td>(-0.512, 102.466]</td>\n",
       "      <td>S</td>\n",
       "    </tr>\n",
       "    <tr>\n",
       "      <th>1</th>\n",
       "      <td>1</td>\n",
       "      <td>1</td>\n",
       "      <td>Mrs.</td>\n",
       "      <td>1</td>\n",
       "      <td>2</td>\n",
       "      <td>1</td>\n",
       "      <td>0</td>\n",
       "      <td>(-0.512, 102.466]</td>\n",
       "      <td>C</td>\n",
       "    </tr>\n",
       "    <tr>\n",
       "      <th>2</th>\n",
       "      <td>1</td>\n",
       "      <td>3</td>\n",
       "      <td>Miss.</td>\n",
       "      <td>1</td>\n",
       "      <td>2</td>\n",
       "      <td>0</td>\n",
       "      <td>0</td>\n",
       "      <td>(-0.512, 102.466]</td>\n",
       "      <td>S</td>\n",
       "    </tr>\n",
       "    <tr>\n",
       "      <th>3</th>\n",
       "      <td>1</td>\n",
       "      <td>1</td>\n",
       "      <td>Mrs.</td>\n",
       "      <td>1</td>\n",
       "      <td>2</td>\n",
       "      <td>1</td>\n",
       "      <td>0</td>\n",
       "      <td>(-0.512, 102.466]</td>\n",
       "      <td>S</td>\n",
       "    </tr>\n",
       "    <tr>\n",
       "      <th>4</th>\n",
       "      <td>0</td>\n",
       "      <td>3</td>\n",
       "      <td>Mr.</td>\n",
       "      <td>0</td>\n",
       "      <td>2</td>\n",
       "      <td>0</td>\n",
       "      <td>0</td>\n",
       "      <td>(-0.512, 102.466]</td>\n",
       "      <td>S</td>\n",
       "    </tr>\n",
       "  </tbody>\n",
       "</table>\n",
       "</div>"
      ],
      "text/plain": [
       "   Survived  Pclass Titles  Sex  Dis_age  SibSp  Parch               Fare  \\\n",
       "0         0       3    Mr.    0        2      1      0  (-0.512, 102.466]   \n",
       "1         1       1   Mrs.    1        2      1      0  (-0.512, 102.466]   \n",
       "2         1       3  Miss.    1        2      0      0  (-0.512, 102.466]   \n",
       "3         1       1   Mrs.    1        2      1      0  (-0.512, 102.466]   \n",
       "4         0       3    Mr.    0        2      0      0  (-0.512, 102.466]   \n",
       "\n",
       "  Embarked  \n",
       "0        S  \n",
       "1        C  \n",
       "2        S  \n",
       "3        S  \n",
       "4        S  "
      ]
     },
     "execution_count": 275,
     "metadata": {},
     "output_type": "execute_result"
    }
   ],
   "source": [
    "df_bin.head()"
   ]
  },
  {
   "cell_type": "code",
   "execution_count": 276,
   "metadata": {},
   "outputs": [
    {
     "data": {
      "text/html": [
       "<div>\n",
       "<style scoped>\n",
       "    .dataframe tbody tr th:only-of-type {\n",
       "        vertical-align: middle;\n",
       "    }\n",
       "\n",
       "    .dataframe tbody tr th {\n",
       "        vertical-align: top;\n",
       "    }\n",
       "\n",
       "    .dataframe thead th {\n",
       "        text-align: right;\n",
       "    }\n",
       "</style>\n",
       "<table border=\"1\" class=\"dataframe\">\n",
       "  <thead>\n",
       "    <tr style=\"text-align: right;\">\n",
       "      <th></th>\n",
       "      <th>Survived</th>\n",
       "      <th>Pclass_1</th>\n",
       "      <th>Pclass_2</th>\n",
       "      <th>Pclass_3</th>\n",
       "      <th>Titles_Master.</th>\n",
       "      <th>Titles_Miss.</th>\n",
       "      <th>Titles_Mr.</th>\n",
       "      <th>Titles_Mrs.</th>\n",
       "      <th>Titles_Others.</th>\n",
       "      <th>Sex_0</th>\n",
       "      <th>...</th>\n",
       "      <th>Parch_5</th>\n",
       "      <th>Parch_6</th>\n",
       "      <th>Fare_(-0.512, 102.466]</th>\n",
       "      <th>Fare_(102.466, 204.932]</th>\n",
       "      <th>Fare_(204.932, 307.398]</th>\n",
       "      <th>Fare_(307.398, 409.863]</th>\n",
       "      <th>Fare_(409.863, 512.329]</th>\n",
       "      <th>Embarked_C</th>\n",
       "      <th>Embarked_Q</th>\n",
       "      <th>Embarked_S</th>\n",
       "    </tr>\n",
       "  </thead>\n",
       "  <tbody>\n",
       "    <tr>\n",
       "      <th>0</th>\n",
       "      <td>0</td>\n",
       "      <td>0</td>\n",
       "      <td>0</td>\n",
       "      <td>1</td>\n",
       "      <td>0</td>\n",
       "      <td>0</td>\n",
       "      <td>1</td>\n",
       "      <td>0</td>\n",
       "      <td>0</td>\n",
       "      <td>1</td>\n",
       "      <td>...</td>\n",
       "      <td>0</td>\n",
       "      <td>0</td>\n",
       "      <td>1</td>\n",
       "      <td>0</td>\n",
       "      <td>0</td>\n",
       "      <td>0</td>\n",
       "      <td>0</td>\n",
       "      <td>0</td>\n",
       "      <td>0</td>\n",
       "      <td>1</td>\n",
       "    </tr>\n",
       "    <tr>\n",
       "      <th>1</th>\n",
       "      <td>1</td>\n",
       "      <td>1</td>\n",
       "      <td>0</td>\n",
       "      <td>0</td>\n",
       "      <td>0</td>\n",
       "      <td>0</td>\n",
       "      <td>0</td>\n",
       "      <td>1</td>\n",
       "      <td>0</td>\n",
       "      <td>0</td>\n",
       "      <td>...</td>\n",
       "      <td>0</td>\n",
       "      <td>0</td>\n",
       "      <td>1</td>\n",
       "      <td>0</td>\n",
       "      <td>0</td>\n",
       "      <td>0</td>\n",
       "      <td>0</td>\n",
       "      <td>1</td>\n",
       "      <td>0</td>\n",
       "      <td>0</td>\n",
       "    </tr>\n",
       "    <tr>\n",
       "      <th>2</th>\n",
       "      <td>1</td>\n",
       "      <td>0</td>\n",
       "      <td>0</td>\n",
       "      <td>1</td>\n",
       "      <td>0</td>\n",
       "      <td>1</td>\n",
       "      <td>0</td>\n",
       "      <td>0</td>\n",
       "      <td>0</td>\n",
       "      <td>0</td>\n",
       "      <td>...</td>\n",
       "      <td>0</td>\n",
       "      <td>0</td>\n",
       "      <td>1</td>\n",
       "      <td>0</td>\n",
       "      <td>0</td>\n",
       "      <td>0</td>\n",
       "      <td>0</td>\n",
       "      <td>0</td>\n",
       "      <td>0</td>\n",
       "      <td>1</td>\n",
       "    </tr>\n",
       "    <tr>\n",
       "      <th>3</th>\n",
       "      <td>1</td>\n",
       "      <td>1</td>\n",
       "      <td>0</td>\n",
       "      <td>0</td>\n",
       "      <td>0</td>\n",
       "      <td>0</td>\n",
       "      <td>0</td>\n",
       "      <td>1</td>\n",
       "      <td>0</td>\n",
       "      <td>0</td>\n",
       "      <td>...</td>\n",
       "      <td>0</td>\n",
       "      <td>0</td>\n",
       "      <td>1</td>\n",
       "      <td>0</td>\n",
       "      <td>0</td>\n",
       "      <td>0</td>\n",
       "      <td>0</td>\n",
       "      <td>0</td>\n",
       "      <td>0</td>\n",
       "      <td>1</td>\n",
       "    </tr>\n",
       "    <tr>\n",
       "      <th>4</th>\n",
       "      <td>0</td>\n",
       "      <td>0</td>\n",
       "      <td>0</td>\n",
       "      <td>1</td>\n",
       "      <td>0</td>\n",
       "      <td>0</td>\n",
       "      <td>1</td>\n",
       "      <td>0</td>\n",
       "      <td>0</td>\n",
       "      <td>1</td>\n",
       "      <td>...</td>\n",
       "      <td>0</td>\n",
       "      <td>0</td>\n",
       "      <td>1</td>\n",
       "      <td>0</td>\n",
       "      <td>0</td>\n",
       "      <td>0</td>\n",
       "      <td>0</td>\n",
       "      <td>0</td>\n",
       "      <td>0</td>\n",
       "      <td>1</td>\n",
       "    </tr>\n",
       "  </tbody>\n",
       "</table>\n",
       "<p>5 rows × 36 columns</p>\n",
       "</div>"
      ],
      "text/plain": [
       "   Survived  Pclass_1  Pclass_2  Pclass_3  Titles_Master.  Titles_Miss.  \\\n",
       "0         0         0         0         1               0             0   \n",
       "1         1         1         0         0               0             0   \n",
       "2         1         0         0         1               0             1   \n",
       "3         1         1         0         0               0             0   \n",
       "4         0         0         0         1               0             0   \n",
       "\n",
       "   Titles_Mr.  Titles_Mrs.  Titles_Others.  Sex_0  ...  Parch_5  Parch_6  \\\n",
       "0           1            0               0      1  ...        0        0   \n",
       "1           0            1               0      0  ...        0        0   \n",
       "2           0            0               0      0  ...        0        0   \n",
       "3           0            1               0      0  ...        0        0   \n",
       "4           1            0               0      1  ...        0        0   \n",
       "\n",
       "   Fare_(-0.512, 102.466]  Fare_(102.466, 204.932]  Fare_(204.932, 307.398]  \\\n",
       "0                       1                        0                        0   \n",
       "1                       1                        0                        0   \n",
       "2                       1                        0                        0   \n",
       "3                       1                        0                        0   \n",
       "4                       1                        0                        0   \n",
       "\n",
       "   Fare_(307.398, 409.863]  Fare_(409.863, 512.329]  Embarked_C  Embarked_Q  \\\n",
       "0                        0                        0           0           0   \n",
       "1                        0                        0           1           0   \n",
       "2                        0                        0           0           0   \n",
       "3                        0                        0           0           0   \n",
       "4                        0                        0           0           0   \n",
       "\n",
       "   Embarked_S  \n",
       "0           1  \n",
       "1           0  \n",
       "2           1  \n",
       "3           1  \n",
       "4           1  \n",
       "\n",
       "[5 rows x 36 columns]"
      ]
     },
     "execution_count": 276,
     "metadata": {},
     "output_type": "execute_result"
    }
   ],
   "source": [
    "# One-hot encode binned variables\n",
    "one_hot_cols = df_bin.columns.tolist()\n",
    "one_hot_cols.remove('Survived')\n",
    "df_bin_enc = pd.get_dummies(df_bin, columns=one_hot_cols)\n",
    "\n",
    "df_bin_enc.head()"
   ]
  },
  {
   "cell_type": "code",
   "execution_count": 277,
   "metadata": {},
   "outputs": [
    {
     "data": {
      "text/html": [
       "<div>\n",
       "<style scoped>\n",
       "    .dataframe tbody tr th:only-of-type {\n",
       "        vertical-align: middle;\n",
       "    }\n",
       "\n",
       "    .dataframe tbody tr th {\n",
       "        vertical-align: top;\n",
       "    }\n",
       "\n",
       "    .dataframe thead th {\n",
       "        text-align: right;\n",
       "    }\n",
       "</style>\n",
       "<table border=\"1\" class=\"dataframe\">\n",
       "  <thead>\n",
       "    <tr style=\"text-align: right;\">\n",
       "      <th></th>\n",
       "      <th>Survived</th>\n",
       "      <th>Pclass</th>\n",
       "      <th>Titles</th>\n",
       "      <th>Sex</th>\n",
       "      <th>Dis_age</th>\n",
       "      <th>SibSp</th>\n",
       "      <th>Parch</th>\n",
       "      <th>Fare</th>\n",
       "      <th>Embarked</th>\n",
       "    </tr>\n",
       "  </thead>\n",
       "  <tbody>\n",
       "    <tr>\n",
       "      <th>0</th>\n",
       "      <td>0</td>\n",
       "      <td>3</td>\n",
       "      <td>Mr.</td>\n",
       "      <td>male</td>\n",
       "      <td>2</td>\n",
       "      <td>1</td>\n",
       "      <td>0</td>\n",
       "      <td>7.2500</td>\n",
       "      <td>S</td>\n",
       "    </tr>\n",
       "    <tr>\n",
       "      <th>1</th>\n",
       "      <td>1</td>\n",
       "      <td>1</td>\n",
       "      <td>Mrs.</td>\n",
       "      <td>female</td>\n",
       "      <td>2</td>\n",
       "      <td>1</td>\n",
       "      <td>0</td>\n",
       "      <td>71.2833</td>\n",
       "      <td>C</td>\n",
       "    </tr>\n",
       "    <tr>\n",
       "      <th>2</th>\n",
       "      <td>1</td>\n",
       "      <td>3</td>\n",
       "      <td>Miss.</td>\n",
       "      <td>female</td>\n",
       "      <td>2</td>\n",
       "      <td>0</td>\n",
       "      <td>0</td>\n",
       "      <td>7.9250</td>\n",
       "      <td>S</td>\n",
       "    </tr>\n",
       "    <tr>\n",
       "      <th>3</th>\n",
       "      <td>1</td>\n",
       "      <td>1</td>\n",
       "      <td>Mrs.</td>\n",
       "      <td>female</td>\n",
       "      <td>2</td>\n",
       "      <td>1</td>\n",
       "      <td>0</td>\n",
       "      <td>53.1000</td>\n",
       "      <td>S</td>\n",
       "    </tr>\n",
       "    <tr>\n",
       "      <th>4</th>\n",
       "      <td>0</td>\n",
       "      <td>3</td>\n",
       "      <td>Mr.</td>\n",
       "      <td>male</td>\n",
       "      <td>2</td>\n",
       "      <td>0</td>\n",
       "      <td>0</td>\n",
       "      <td>8.0500</td>\n",
       "      <td>S</td>\n",
       "    </tr>\n",
       "  </tbody>\n",
       "</table>\n",
       "</div>"
      ],
      "text/plain": [
       "   Survived  Pclass Titles     Sex  Dis_age  SibSp  Parch     Fare Embarked\n",
       "0         0       3    Mr.    male        2      1      0   7.2500        S\n",
       "1         1       1   Mrs.  female        2      1      0  71.2833        C\n",
       "2         1       3  Miss.  female        2      0      0   7.9250        S\n",
       "3         1       1   Mrs.  female        2      1      0  53.1000        S\n",
       "4         0       3    Mr.    male        2      0      0   8.0500        S"
      ]
     },
     "execution_count": 277,
     "metadata": {},
     "output_type": "execute_result"
    }
   ],
   "source": [
    "df_con.head()"
   ]
  },
  {
   "cell_type": "code",
   "execution_count": 278,
   "metadata": {},
   "outputs": [],
   "source": [
    "# One hot encode the categorical columns\n",
    "df_pclass_one_hot = pd.get_dummies(df_con['Pclass'], \n",
    "                                   prefix='pclass')\n",
    "\n",
    "df_titles_one_hot = pd.get_dummies(df_con['Titles'], \n",
    "                                   prefix='titles')\n",
    "\n",
    "df_sex_one_hot = pd.get_dummies(df_con['Sex'], \n",
    "                                prefix='sex')\n",
    "\n",
    "df_age_one_hot = pd.get_dummies(df_con['Dis_age'], \n",
    "                                prefix='age')\n",
    "\n",
    "df_embarked_one_hot = pd.get_dummies(df_con['Embarked'], \n",
    "                                     prefix='embarked')"
   ]
  },
  {
   "cell_type": "code",
   "execution_count": 279,
   "metadata": {},
   "outputs": [],
   "source": [
    "df_con_enc = pd.concat([df_con, \n",
    "                        df_pclass_one_hot,\n",
    "                        df_titles_one_hot,\n",
    "                        df_sex_one_hot,\n",
    "                        df_age_one_hot,\n",
    "                        df_embarked_one_hot \n",
    "                        ], axis=1)\n",
    "\n",
    "# Drop the original categorical columns (because now they've been one hot encoded)\n",
    "df_con_enc = df_con_enc.drop(['Pclass','Titles', 'Sex', 'Dis_age','Embarked'], axis=1)"
   ]
  },
  {
   "cell_type": "code",
   "execution_count": 280,
   "metadata": {},
   "outputs": [
    {
     "data": {
      "text/html": [
       "<div>\n",
       "<style scoped>\n",
       "    .dataframe tbody tr th:only-of-type {\n",
       "        vertical-align: middle;\n",
       "    }\n",
       "\n",
       "    .dataframe tbody tr th {\n",
       "        vertical-align: top;\n",
       "    }\n",
       "\n",
       "    .dataframe thead th {\n",
       "        text-align: right;\n",
       "    }\n",
       "</style>\n",
       "<table border=\"1\" class=\"dataframe\">\n",
       "  <thead>\n",
       "    <tr style=\"text-align: right;\">\n",
       "      <th></th>\n",
       "      <th>Survived</th>\n",
       "      <th>SibSp</th>\n",
       "      <th>Parch</th>\n",
       "      <th>Fare</th>\n",
       "      <th>pclass_1</th>\n",
       "      <th>pclass_2</th>\n",
       "      <th>pclass_3</th>\n",
       "      <th>titles_Master.</th>\n",
       "      <th>titles_Miss.</th>\n",
       "      <th>titles_Mr.</th>\n",
       "      <th>titles_Mrs.</th>\n",
       "      <th>titles_Others.</th>\n",
       "      <th>sex_female</th>\n",
       "      <th>sex_male</th>\n",
       "      <th>age_1</th>\n",
       "      <th>age_2</th>\n",
       "      <th>age_3</th>\n",
       "      <th>embarked_C</th>\n",
       "      <th>embarked_Q</th>\n",
       "      <th>embarked_S</th>\n",
       "    </tr>\n",
       "  </thead>\n",
       "  <tbody>\n",
       "    <tr>\n",
       "      <th>0</th>\n",
       "      <td>0</td>\n",
       "      <td>1</td>\n",
       "      <td>0</td>\n",
       "      <td>7.2500</td>\n",
       "      <td>0</td>\n",
       "      <td>0</td>\n",
       "      <td>1</td>\n",
       "      <td>0</td>\n",
       "      <td>0</td>\n",
       "      <td>1</td>\n",
       "      <td>0</td>\n",
       "      <td>0</td>\n",
       "      <td>0</td>\n",
       "      <td>1</td>\n",
       "      <td>0</td>\n",
       "      <td>1</td>\n",
       "      <td>0</td>\n",
       "      <td>0</td>\n",
       "      <td>0</td>\n",
       "      <td>1</td>\n",
       "    </tr>\n",
       "    <tr>\n",
       "      <th>1</th>\n",
       "      <td>1</td>\n",
       "      <td>1</td>\n",
       "      <td>0</td>\n",
       "      <td>71.2833</td>\n",
       "      <td>1</td>\n",
       "      <td>0</td>\n",
       "      <td>0</td>\n",
       "      <td>0</td>\n",
       "      <td>0</td>\n",
       "      <td>0</td>\n",
       "      <td>1</td>\n",
       "      <td>0</td>\n",
       "      <td>1</td>\n",
       "      <td>0</td>\n",
       "      <td>0</td>\n",
       "      <td>1</td>\n",
       "      <td>0</td>\n",
       "      <td>1</td>\n",
       "      <td>0</td>\n",
       "      <td>0</td>\n",
       "    </tr>\n",
       "    <tr>\n",
       "      <th>2</th>\n",
       "      <td>1</td>\n",
       "      <td>0</td>\n",
       "      <td>0</td>\n",
       "      <td>7.9250</td>\n",
       "      <td>0</td>\n",
       "      <td>0</td>\n",
       "      <td>1</td>\n",
       "      <td>0</td>\n",
       "      <td>1</td>\n",
       "      <td>0</td>\n",
       "      <td>0</td>\n",
       "      <td>0</td>\n",
       "      <td>1</td>\n",
       "      <td>0</td>\n",
       "      <td>0</td>\n",
       "      <td>1</td>\n",
       "      <td>0</td>\n",
       "      <td>0</td>\n",
       "      <td>0</td>\n",
       "      <td>1</td>\n",
       "    </tr>\n",
       "    <tr>\n",
       "      <th>3</th>\n",
       "      <td>1</td>\n",
       "      <td>1</td>\n",
       "      <td>0</td>\n",
       "      <td>53.1000</td>\n",
       "      <td>1</td>\n",
       "      <td>0</td>\n",
       "      <td>0</td>\n",
       "      <td>0</td>\n",
       "      <td>0</td>\n",
       "      <td>0</td>\n",
       "      <td>1</td>\n",
       "      <td>0</td>\n",
       "      <td>1</td>\n",
       "      <td>0</td>\n",
       "      <td>0</td>\n",
       "      <td>1</td>\n",
       "      <td>0</td>\n",
       "      <td>0</td>\n",
       "      <td>0</td>\n",
       "      <td>1</td>\n",
       "    </tr>\n",
       "    <tr>\n",
       "      <th>4</th>\n",
       "      <td>0</td>\n",
       "      <td>0</td>\n",
       "      <td>0</td>\n",
       "      <td>8.0500</td>\n",
       "      <td>0</td>\n",
       "      <td>0</td>\n",
       "      <td>1</td>\n",
       "      <td>0</td>\n",
       "      <td>0</td>\n",
       "      <td>1</td>\n",
       "      <td>0</td>\n",
       "      <td>0</td>\n",
       "      <td>0</td>\n",
       "      <td>1</td>\n",
       "      <td>0</td>\n",
       "      <td>1</td>\n",
       "      <td>0</td>\n",
       "      <td>0</td>\n",
       "      <td>0</td>\n",
       "      <td>1</td>\n",
       "    </tr>\n",
       "  </tbody>\n",
       "</table>\n",
       "</div>"
      ],
      "text/plain": [
       "   Survived  SibSp  Parch     Fare  pclass_1  pclass_2  pclass_3  \\\n",
       "0         0      1      0   7.2500         0         0         1   \n",
       "1         1      1      0  71.2833         1         0         0   \n",
       "2         1      0      0   7.9250         0         0         1   \n",
       "3         1      1      0  53.1000         1         0         0   \n",
       "4         0      0      0   8.0500         0         0         1   \n",
       "\n",
       "   titles_Master.  titles_Miss.  titles_Mr.  titles_Mrs.  titles_Others.  \\\n",
       "0               0             0           1            0               0   \n",
       "1               0             0           0            1               0   \n",
       "2               0             1           0            0               0   \n",
       "3               0             0           0            1               0   \n",
       "4               0             0           1            0               0   \n",
       "\n",
       "   sex_female  sex_male  age_1  age_2  age_3  embarked_C  embarked_Q  \\\n",
       "0           0         1      0      1      0           0           0   \n",
       "1           1         0      0      1      0           1           0   \n",
       "2           1         0      0      1      0           0           0   \n",
       "3           1         0      0      1      0           0           0   \n",
       "4           0         1      0      1      0           0           0   \n",
       "\n",
       "   embarked_S  \n",
       "0           1  \n",
       "1           0  \n",
       "2           1  \n",
       "3           1  \n",
       "4           1  "
      ]
     },
     "execution_count": 280,
     "metadata": {},
     "output_type": "execute_result"
    }
   ],
   "source": [
    "# Let's look at df_con_enc\n",
    "df_con_enc.head()"
   ]
  },
  {
   "cell_type": "markdown",
   "metadata": {},
   "source": [
    "## Start Building Machine Learning Models\n",
    "Now our data has been manipulating and converted to numbers, we can run a series of different machine learning algorithms over it to find which yield the best results."
   ]
  },
  {
   "cell_type": "code",
   "execution_count": 281,
   "metadata": {},
   "outputs": [],
   "source": [
    "# Seclect the dataframe we want to use first for predictions\n",
    "selected_df = df_con_enc"
   ]
  },
  {
   "cell_type": "code",
   "execution_count": 282,
   "metadata": {},
   "outputs": [
    {
     "data": {
      "text/html": [
       "<div>\n",
       "<style scoped>\n",
       "    .dataframe tbody tr th:only-of-type {\n",
       "        vertical-align: middle;\n",
       "    }\n",
       "\n",
       "    .dataframe tbody tr th {\n",
       "        vertical-align: top;\n",
       "    }\n",
       "\n",
       "    .dataframe thead th {\n",
       "        text-align: right;\n",
       "    }\n",
       "</style>\n",
       "<table border=\"1\" class=\"dataframe\">\n",
       "  <thead>\n",
       "    <tr style=\"text-align: right;\">\n",
       "      <th></th>\n",
       "      <th>Survived</th>\n",
       "      <th>SibSp</th>\n",
       "      <th>Parch</th>\n",
       "      <th>Fare</th>\n",
       "      <th>pclass_1</th>\n",
       "      <th>pclass_2</th>\n",
       "      <th>pclass_3</th>\n",
       "      <th>titles_Master.</th>\n",
       "      <th>titles_Miss.</th>\n",
       "      <th>titles_Mr.</th>\n",
       "      <th>titles_Mrs.</th>\n",
       "      <th>titles_Others.</th>\n",
       "      <th>sex_female</th>\n",
       "      <th>sex_male</th>\n",
       "      <th>age_1</th>\n",
       "      <th>age_2</th>\n",
       "      <th>age_3</th>\n",
       "      <th>embarked_C</th>\n",
       "      <th>embarked_Q</th>\n",
       "      <th>embarked_S</th>\n",
       "    </tr>\n",
       "  </thead>\n",
       "  <tbody>\n",
       "    <tr>\n",
       "      <th>0</th>\n",
       "      <td>0</td>\n",
       "      <td>1</td>\n",
       "      <td>0</td>\n",
       "      <td>7.2500</td>\n",
       "      <td>0</td>\n",
       "      <td>0</td>\n",
       "      <td>1</td>\n",
       "      <td>0</td>\n",
       "      <td>0</td>\n",
       "      <td>1</td>\n",
       "      <td>0</td>\n",
       "      <td>0</td>\n",
       "      <td>0</td>\n",
       "      <td>1</td>\n",
       "      <td>0</td>\n",
       "      <td>1</td>\n",
       "      <td>0</td>\n",
       "      <td>0</td>\n",
       "      <td>0</td>\n",
       "      <td>1</td>\n",
       "    </tr>\n",
       "    <tr>\n",
       "      <th>1</th>\n",
       "      <td>1</td>\n",
       "      <td>1</td>\n",
       "      <td>0</td>\n",
       "      <td>71.2833</td>\n",
       "      <td>1</td>\n",
       "      <td>0</td>\n",
       "      <td>0</td>\n",
       "      <td>0</td>\n",
       "      <td>0</td>\n",
       "      <td>0</td>\n",
       "      <td>1</td>\n",
       "      <td>0</td>\n",
       "      <td>1</td>\n",
       "      <td>0</td>\n",
       "      <td>0</td>\n",
       "      <td>1</td>\n",
       "      <td>0</td>\n",
       "      <td>1</td>\n",
       "      <td>0</td>\n",
       "      <td>0</td>\n",
       "    </tr>\n",
       "    <tr>\n",
       "      <th>2</th>\n",
       "      <td>1</td>\n",
       "      <td>0</td>\n",
       "      <td>0</td>\n",
       "      <td>7.9250</td>\n",
       "      <td>0</td>\n",
       "      <td>0</td>\n",
       "      <td>1</td>\n",
       "      <td>0</td>\n",
       "      <td>1</td>\n",
       "      <td>0</td>\n",
       "      <td>0</td>\n",
       "      <td>0</td>\n",
       "      <td>1</td>\n",
       "      <td>0</td>\n",
       "      <td>0</td>\n",
       "      <td>1</td>\n",
       "      <td>0</td>\n",
       "      <td>0</td>\n",
       "      <td>0</td>\n",
       "      <td>1</td>\n",
       "    </tr>\n",
       "    <tr>\n",
       "      <th>3</th>\n",
       "      <td>1</td>\n",
       "      <td>1</td>\n",
       "      <td>0</td>\n",
       "      <td>53.1000</td>\n",
       "      <td>1</td>\n",
       "      <td>0</td>\n",
       "      <td>0</td>\n",
       "      <td>0</td>\n",
       "      <td>0</td>\n",
       "      <td>0</td>\n",
       "      <td>1</td>\n",
       "      <td>0</td>\n",
       "      <td>1</td>\n",
       "      <td>0</td>\n",
       "      <td>0</td>\n",
       "      <td>1</td>\n",
       "      <td>0</td>\n",
       "      <td>0</td>\n",
       "      <td>0</td>\n",
       "      <td>1</td>\n",
       "    </tr>\n",
       "    <tr>\n",
       "      <th>4</th>\n",
       "      <td>0</td>\n",
       "      <td>0</td>\n",
       "      <td>0</td>\n",
       "      <td>8.0500</td>\n",
       "      <td>0</td>\n",
       "      <td>0</td>\n",
       "      <td>1</td>\n",
       "      <td>0</td>\n",
       "      <td>0</td>\n",
       "      <td>1</td>\n",
       "      <td>0</td>\n",
       "      <td>0</td>\n",
       "      <td>0</td>\n",
       "      <td>1</td>\n",
       "      <td>0</td>\n",
       "      <td>1</td>\n",
       "      <td>0</td>\n",
       "      <td>0</td>\n",
       "      <td>0</td>\n",
       "      <td>1</td>\n",
       "    </tr>\n",
       "  </tbody>\n",
       "</table>\n",
       "</div>"
      ],
      "text/plain": [
       "   Survived  SibSp  Parch     Fare  pclass_1  pclass_2  pclass_3  \\\n",
       "0         0      1      0   7.2500         0         0         1   \n",
       "1         1      1      0  71.2833         1         0         0   \n",
       "2         1      0      0   7.9250         0         0         1   \n",
       "3         1      1      0  53.1000         1         0         0   \n",
       "4         0      0      0   8.0500         0         0         1   \n",
       "\n",
       "   titles_Master.  titles_Miss.  titles_Mr.  titles_Mrs.  titles_Others.  \\\n",
       "0               0             0           1            0               0   \n",
       "1               0             0           0            1               0   \n",
       "2               0             1           0            0               0   \n",
       "3               0             0           0            1               0   \n",
       "4               0             0           1            0               0   \n",
       "\n",
       "   sex_female  sex_male  age_1  age_2  age_3  embarked_C  embarked_Q  \\\n",
       "0           0         1      0      1      0           0           0   \n",
       "1           1         0      0      1      0           1           0   \n",
       "2           1         0      0      1      0           0           0   \n",
       "3           1         0      0      1      0           0           0   \n",
       "4           0         1      0      1      0           0           0   \n",
       "\n",
       "   embarked_S  \n",
       "0           1  \n",
       "1           0  \n",
       "2           1  \n",
       "3           1  \n",
       "4           1  "
      ]
     },
     "execution_count": 282,
     "metadata": {},
     "output_type": "execute_result"
    }
   ],
   "source": [
    "selected_df.head()"
   ]
  },
  {
   "cell_type": "code",
   "execution_count": 283,
   "metadata": {},
   "outputs": [],
   "source": [
    "# Split the dataframe into data and labels\n",
    "X_train = selected_df.drop('Survived', axis=1) # data\n",
    "y_train = selected_df.Survived # labels"
   ]
  },
  {
   "cell_type": "code",
   "execution_count": 284,
   "metadata": {},
   "outputs": [
    {
     "data": {
      "text/plain": [
       "(889, 19)"
      ]
     },
     "execution_count": 284,
     "metadata": {},
     "output_type": "execute_result"
    }
   ],
   "source": [
    "# Shape of the data (without labels)\n",
    "X_train.shape"
   ]
  },
  {
   "cell_type": "code",
   "execution_count": 285,
   "metadata": {},
   "outputs": [
    {
     "data": {
      "text/plain": [
       "(889,)"
      ]
     },
     "execution_count": 285,
     "metadata": {},
     "output_type": "execute_result"
    }
   ],
   "source": [
    "# Shape of the labels\n",
    "y_train.shape"
   ]
  },
  {
   "cell_type": "markdown",
   "metadata": {},
   "source": [
    "### Define a function to fit machine learning algorithms\n",
    "Since many of the algorithms we will use are from the sklearn library, they all take similar (practically the same) inputs and produce similar outputs.\n",
    "\n",
    "To prevent writing code multiple times, we will functionise fitting the model and returning the accuracy scores."
   ]
  },
  {
   "cell_type": "code",
   "execution_count": 286,
   "metadata": {},
   "outputs": [],
   "source": [
    "# Function that runs the requested algorithm and returns the accuracy metrics\n",
    "def fit_ml_algo(algo, params,X_train, y_train, cv):\n",
    "    \n",
    "    # One Pass\n",
    "    model = algo.fit(X_train, y_train)\n",
    "    acc = round(model.score(X_train, y_train) * 100, 2)\n",
    "    \n",
    "    \n",
    "    clf = GridSearchCV(algo,\n",
    "                    params,\n",
    "                    cv=cv,\n",
    "                    return_train_score=False )\n",
    "\n",
    "    clf.fit(X_train,y_train)\n",
    "    \n",
    "    return acc, clf.best_score_ ,clf.best_params_"
   ]
  },
  {
   "cell_type": "markdown",
   "metadata": {},
   "source": [
    "### Logistic Regression"
   ]
  },
  {
   "cell_type": "code",
   "execution_count": 287,
   "metadata": {},
   "outputs": [
    {
     "name": "stdout",
     "output_type": "stream",
     "text": [
      "Accuracy: 83.69\n",
      "Accuracy CV 10-Fold: 0.8268003064351379\n",
      "Best Parameters: {'C': 1, 'solver': 'liblinear'}\n",
      "Running Time: 0:00:01.371305\n"
     ]
    }
   ],
   "source": [
    "# Logistic Regression\n",
    "start_time = time.time()\n",
    "\n",
    "C=[0.1, 1 , 10, 20]\n",
    "solver = ['lbfgs','liblinear']\n",
    "\n",
    "params = dict(\n",
    "                C=C,\n",
    "                solver=solver,\n",
    "             )\n",
    "\n",
    "acc_log, acc_cv_log, best_para_log = fit_ml_algo(LogisticRegression(),\n",
    "                                                  params,\n",
    "                                                  X_train, \n",
    "                                                  y_train, \n",
    "                                                  10)\n",
    "\n",
    "log_time = (time.time() - start_time)\n",
    "print(\"Accuracy: %s\" % acc_log)\n",
    "print(\"Accuracy CV 10-Fold: %s\" % acc_cv_log)\n",
    "print('Best Parameters: %s' % best_para_log)\n",
    "print(\"Running Time: %s\" % datetime.timedelta(seconds=log_time))\n",
    "warnings.filterwarnings('ignore')"
   ]
  },
  {
   "cell_type": "markdown",
   "metadata": {},
   "source": [
    "### K-Nearest Neighbours"
   ]
  },
  {
   "cell_type": "code",
   "execution_count": 288,
   "metadata": {},
   "outputs": [
    {
     "name": "stdout",
     "output_type": "stream",
     "text": [
      "Accuracy: 85.49\n",
      "Accuracy CV 10-Fold: 0.775076608784474\n",
      "Best Parameters: {'n_neighbors': 5}\n",
      "Running Time: 0:00:00.403954\n"
     ]
    }
   ],
   "source": [
    "# k-Nearest Neighbours\n",
    "start_time = time.time()\n",
    "\n",
    "n_neighbors = [5,10,15, 20]\n",
    "\n",
    "params = dict(\n",
    "                n_neighbors=n_neighbors,\n",
    "             )\n",
    "\n",
    "\n",
    "\n",
    "acc_knn, acc_cv_knn, best_para_knn = fit_ml_algo(KNeighborsClassifier(), \n",
    "                                                  params,\n",
    "                                                  X_train, \n",
    "                                                  y_train, \n",
    "                                                  10)\n",
    "\n",
    "knn_time = (time.time() - start_time)\n",
    "print(\"Accuracy: %s\" % acc_knn)\n",
    "print(\"Accuracy CV 10-Fold: %s\" % acc_cv_knn)\n",
    "print('Best Parameters: %s' % best_para_knn)\n",
    "print(\"Running Time: %s\" % datetime.timedelta(seconds=knn_time))"
   ]
  },
  {
   "cell_type": "markdown",
   "metadata": {},
   "source": [
    "### Gaussian Naive Bayes"
   ]
  },
  {
   "cell_type": "code",
   "execution_count": 289,
   "metadata": {},
   "outputs": [
    {
     "name": "stdout",
     "output_type": "stream",
     "text": [
      "Accuracy: 80.65\n",
      "Accuracy CV 10-Fold: 0.7997957099080695\n",
      "Best Parameters: {}\n",
      "Running Time: 0:00:00.036907\n"
     ]
    }
   ],
   "source": [
    "# Gaussian Naive Bayes\n",
    "start_time = time.time()\n",
    "\n",
    "params = dict()\n",
    "\n",
    "acc_gaussian, acc_cv_gaussian, best_para_gaussian = fit_ml_algo(GaussianNB(), \n",
    "                                                                 params,\n",
    "                                                                 X_train, \n",
    "                                                                 y_train, \n",
    "                                                                 10)\n",
    "\n",
    "gaussian_time = (time.time() - start_time)\n",
    "\n",
    "print(\"Accuracy: %s\" % acc_gaussian)\n",
    "print(\"Accuracy CV 10-Fold: %s\" % acc_cv_gaussian)\n",
    "print('Best Parameters: %s' % best_para_gaussian)\n",
    "print(\"Running Time: %s\" % datetime.timedelta(seconds=gaussian_time))"
   ]
  },
  {
   "cell_type": "markdown",
   "metadata": {},
   "source": [
    "### Support Vector Machines (SVC)"
   ]
  },
  {
   "cell_type": "code",
   "execution_count": 290,
   "metadata": {},
   "outputs": [
    {
     "name": "stdout",
     "output_type": "stream",
     "text": [
      "Accuracy: 83.69\n",
      "Accuracy CV 10-Fold: 0.8144535240040858\n",
      "Best Parameters: {'C': 50}\n",
      "Running Time: 0:00:01.691448\n"
     ]
    }
   ],
   "source": [
    "# Support Vector Machine\n",
    "start_time = time.time()\n",
    "\n",
    "C=[1,10,20,50,60]\n",
    "\n",
    "params = dict(\n",
    "                C=C\n",
    "             )\n",
    "\n",
    "acc_svc, acc_cv_svc, best_para_svc = fit_ml_algo(SVC(gamma='auto'),\n",
    "                                                               params,\n",
    "                                                               X_train, \n",
    "                                                               y_train, \n",
    "                                                               10)\n",
    "linear_svc_time = (time.time() - start_time)\n",
    "print(\"Accuracy: %s\" % acc_svc)\n",
    "print(\"Accuracy CV 10-Fold: %s\" % acc_cv_svc)\n",
    "print('Best Parameters: %s' % best_para_svc)\n",
    "print(\"Running Time: %s\" % datetime.timedelta(seconds=linear_svc_time))"
   ]
  },
  {
   "cell_type": "markdown",
   "metadata": {},
   "source": [
    "### Stochastic Gradient Descent"
   ]
  },
  {
   "cell_type": "code",
   "execution_count": 291,
   "metadata": {},
   "outputs": [
    {
     "name": "stdout",
     "output_type": "stream",
     "text": [
      "Accuracy: 67.83\n",
      "Accuracy CV 10-Fold: 0.7143769152196118\n",
      "Best Parameters: {'alpha': 0.001}\n",
      "Running Time: 0:00:00.245318\n"
     ]
    }
   ],
   "source": [
    "# Stochastic Gradient Descent\n",
    "start_time = time.time()\n",
    "\n",
    "alpha =[0.0001,0.001,0.1,1]\n",
    "\n",
    "params = dict(\n",
    "                alpha=alpha\n",
    "            )\n",
    "\n",
    "acc_sgd, acc_cv_sgd, best_para_sgd = fit_ml_algo(SGDClassifier(), \n",
    "                                                  params,\n",
    "                                                  X_train, \n",
    "                                                  y_train,\n",
    "                                                  10)\n",
    "sgd_time = (time.time() - start_time)\n",
    "print(\"Accuracy: %s\" % acc_sgd)\n",
    "print(\"Accuracy CV 10-Fold: %s\" % acc_cv_sgd)\n",
    "print('Best Parameters: %s' % best_para_sgd)\n",
    "print(\"Running Time: %s\" % datetime.timedelta(seconds=sgd_time))"
   ]
  },
  {
   "cell_type": "markdown",
   "metadata": {},
   "source": [
    "### Decision Tree Classifier"
   ]
  },
  {
   "cell_type": "code",
   "execution_count": 292,
   "metadata": {},
   "outputs": [
    {
     "name": "stdout",
     "output_type": "stream",
     "text": [
      "Accuracy: 93.93\n",
      "Accuracy CV 10-Fold: 0.8200331971399386\n",
      "Best Parameters: {'max_depth': 5}\n",
      "Running Time: 0:00:00.140663\n"
     ]
    }
   ],
   "source": [
    "# Decision Tree Classifier\n",
    "start_time = time.time()\n",
    "\n",
    "max_depth = [5,10,20]\n",
    "\n",
    "params = dict(max_depth=max_depth)\n",
    "\n",
    "acc_dt, acc_cv_dt, best_para_dt = fit_ml_algo(DecisionTreeClassifier(), \n",
    "                                              params,\n",
    "                                                                X_train, \n",
    "                                                                y_train,\n",
    "                                                                10)\n",
    "dt_time = (time.time() - start_time)\n",
    "print(\"Accuracy: %s\" % acc_dt)\n",
    "print(\"Accuracy CV 10-Fold: %s\" % acc_cv_dt)\n",
    "print('Best Parameters: %s' % best_para_dt)\n",
    "print(\"Running Time: %s\" % datetime.timedelta(seconds=dt_time))"
   ]
  },
  {
   "cell_type": "markdown",
   "metadata": {},
   "source": [
    "### Random Forest Classifier"
   ]
  },
  {
   "cell_type": "code",
   "execution_count": 293,
   "metadata": {},
   "outputs": [
    {
     "name": "stdout",
     "output_type": "stream",
     "text": [
      "Accuracy: 93.93\n",
      "Accuracy CV 10-Fold: 0.8267747701736464\n",
      "Best Parameters: {'max_depth': 5, 'n_estimators': 100}\n",
      "Running Time: 0:00:07.167824\n"
     ]
    }
   ],
   "source": [
    "# Random Forest Classifier\n",
    "start_time = time.time()\n",
    "\n",
    "n_estimators=[50,100]\n",
    "max_depth = [5,10,20]\n",
    "\n",
    "params = dict(max_depth=max_depth,n_estimators=n_estimators)\n",
    "\n",
    "acc_rf, acc_cv_rf, best_para_rf = fit_ml_algo(RandomForestClassifier(), \n",
    "                                              params,\n",
    "                                              X_train, \n",
    "                                              y_train,\n",
    "                                              10)\n",
    "\n",
    "rf_time = (time.time() - start_time)\n",
    "print(\"Accuracy: %s\" % acc_rf)\n",
    "print(\"Accuracy CV 10-Fold: %s\" % acc_cv_rf)\n",
    "print('Best Parameters: %s' % best_para_rf)\n",
    "print(\"Running Time: %s\" % datetime.timedelta(seconds=rf_time))"
   ]
  },
  {
   "cell_type": "markdown",
   "metadata": {},
   "source": [
    "### Gradient Boost Trees"
   ]
  },
  {
   "cell_type": "code",
   "execution_count": 294,
   "metadata": {},
   "outputs": [
    {
     "name": "stdout",
     "output_type": "stream",
     "text": [
      "Accuracy: 89.43\n",
      "Accuracy CV 10-Fold: 0.8290347293156282\n",
      "Best Parameters: {'learning_rate': 0.01, 'n_estimators': 100}\n",
      "Running Time: 0:00:02.256145\n"
     ]
    }
   ],
   "source": [
    "# Gradient Boosting Trees\n",
    "start_time = time.time()\n",
    "\n",
    "learning_rate=[0.01,2]\n",
    "n_estimators=[100]\n",
    "\n",
    "params = dict(learning_rate=learning_rate,n_estimators=n_estimators)\n",
    "\n",
    "acc_gbt, acc_cv_gbt, best_para_gbt = fit_ml_algo(GradientBoostingClassifier(), \n",
    "                                                  params,\n",
    "                                                  X_train, \n",
    "                                                  y_train,\n",
    "                                                  10)\n",
    "\n",
    "gbt_time = (time.time() - start_time)\n",
    "print(\"Accuracy: %s\" % acc_gbt)\n",
    "print(\"Accuracy CV 10-Fold: %s\" % acc_cv_gbt)\n",
    "print('Best Parameters: %s' % best_para_gbt)\n",
    "print(\"Running Time: %s\" % datetime.timedelta(seconds=gbt_time))"
   ]
  },
  {
   "cell_type": "markdown",
   "metadata": {},
   "source": [
    "### CatBoost Algorithm\n",
    "CatBoost is a state-of-the-art open-source gradient boosting on decision trees library.\n",
    "\n",
    "It's simple and easy to use. And is now regularly one of my go-to algorithms for any kind of machine learning task.\n",
    "\n",
    "For more on CatBoost and the methods it uses to deal with categorical variables, check out the [CatBoost docs](https://catboost.ai/)."
   ]
  },
  {
   "cell_type": "code",
   "execution_count": 295,
   "metadata": {},
   "outputs": [
    {
     "data": {
      "text/plain": [
       "array([ 0,  1,  3,  4,  5,  6,  7,  8,  9, 10, 11, 12, 13, 14, 15, 16, 17,\n",
       "       18], dtype=int64)"
      ]
     },
     "execution_count": 295,
     "metadata": {},
     "output_type": "execute_result"
    }
   ],
   "source": [
    "# Define the categorical features for the CatBoost model\n",
    "cat_features = np.where((X_train.dtypes != np.float) )[0]\n",
    "cat_features"
   ]
  },
  {
   "cell_type": "code",
   "execution_count": 299,
   "metadata": {},
   "outputs": [
    {
     "name": "stdout",
     "output_type": "stream",
     "text": [
      "Learning rate set to 0.009797\n",
      "0:\tlearn: 0.6865009\ttotal: 20.8ms\tremaining: 20.7s\n",
      "1:\tlearn: 0.6826009\ttotal: 32.1ms\tremaining: 16s\n",
      "2:\tlearn: 0.6760721\ttotal: 47.1ms\tremaining: 15.6s\n",
      "3:\tlearn: 0.6689518\ttotal: 65.4ms\tremaining: 16.3s\n",
      "4:\tlearn: 0.6625093\ttotal: 85.9ms\tremaining: 17.1s\n",
      "5:\tlearn: 0.6592312\ttotal: 90.1ms\tremaining: 14.9s\n",
      "6:\tlearn: 0.6531639\ttotal: 109ms\tremaining: 15.5s\n",
      "7:\tlearn: 0.6484440\ttotal: 121ms\tremaining: 15s\n",
      "8:\tlearn: 0.6433293\ttotal: 142ms\tremaining: 15.6s\n",
      "9:\tlearn: 0.6376588\ttotal: 158ms\tremaining: 15.7s\n",
      "10:\tlearn: 0.6331552\ttotal: 163ms\tremaining: 14.7s\n",
      "11:\tlearn: 0.6283123\ttotal: 173ms\tremaining: 14.2s\n",
      "12:\tlearn: 0.6230815\ttotal: 189ms\tremaining: 14.4s\n",
      "13:\tlearn: 0.6177940\ttotal: 196ms\tremaining: 13.8s\n",
      "14:\tlearn: 0.6143878\ttotal: 202ms\tremaining: 13.3s\n",
      "15:\tlearn: 0.6098071\ttotal: 207ms\tremaining: 12.7s\n",
      "16:\tlearn: 0.6062735\ttotal: 219ms\tremaining: 12.7s\n",
      "17:\tlearn: 0.6010687\ttotal: 229ms\tremaining: 12.5s\n",
      "18:\tlearn: 0.5979686\ttotal: 237ms\tremaining: 12.2s\n",
      "19:\tlearn: 0.5941169\ttotal: 245ms\tremaining: 12s\n",
      "20:\tlearn: 0.5893290\ttotal: 257ms\tremaining: 12s\n",
      "21:\tlearn: 0.5862196\ttotal: 269ms\tremaining: 12s\n",
      "22:\tlearn: 0.5817775\ttotal: 278ms\tremaining: 11.8s\n",
      "23:\tlearn: 0.5782271\ttotal: 288ms\tremaining: 11.7s\n",
      "24:\tlearn: 0.5743612\ttotal: 303ms\tremaining: 11.8s\n",
      "25:\tlearn: 0.5708634\ttotal: 308ms\tremaining: 11.5s\n",
      "26:\tlearn: 0.5677489\ttotal: 309ms\tremaining: 11.1s\n",
      "27:\tlearn: 0.5647791\ttotal: 319ms\tremaining: 11.1s\n",
      "28:\tlearn: 0.5606799\ttotal: 327ms\tremaining: 11s\n",
      "29:\tlearn: 0.5573466\ttotal: 339ms\tremaining: 11s\n",
      "30:\tlearn: 0.5533529\ttotal: 349ms\tremaining: 10.9s\n",
      "31:\tlearn: 0.5502267\ttotal: 361ms\tremaining: 10.9s\n",
      "32:\tlearn: 0.5465499\ttotal: 374ms\tremaining: 11s\n",
      "33:\tlearn: 0.5448825\ttotal: 376ms\tremaining: 10.7s\n",
      "34:\tlearn: 0.5429783\ttotal: 382ms\tremaining: 10.5s\n",
      "35:\tlearn: 0.5396512\ttotal: 394ms\tremaining: 10.5s\n",
      "36:\tlearn: 0.5372655\ttotal: 399ms\tremaining: 10.4s\n",
      "37:\tlearn: 0.5342593\ttotal: 411ms\tremaining: 10.4s\n",
      "38:\tlearn: 0.5319721\ttotal: 417ms\tremaining: 10.3s\n",
      "39:\tlearn: 0.5302571\ttotal: 421ms\tremaining: 10.1s\n",
      "40:\tlearn: 0.5279546\ttotal: 432ms\tremaining: 10.1s\n",
      "41:\tlearn: 0.5247762\ttotal: 438ms\tremaining: 9.99s\n",
      "42:\tlearn: 0.5229798\ttotal: 441ms\tremaining: 9.81s\n",
      "43:\tlearn: 0.5199980\ttotal: 452ms\tremaining: 9.82s\n",
      "44:\tlearn: 0.5173269\ttotal: 464ms\tremaining: 9.86s\n",
      "45:\tlearn: 0.5152369\ttotal: 473ms\tremaining: 9.81s\n",
      "46:\tlearn: 0.5124399\ttotal: 485ms\tremaining: 9.84s\n",
      "47:\tlearn: 0.5105328\ttotal: 493ms\tremaining: 9.77s\n",
      "48:\tlearn: 0.5088694\ttotal: 495ms\tremaining: 9.61s\n",
      "49:\tlearn: 0.5068320\ttotal: 497ms\tremaining: 9.45s\n",
      "50:\tlearn: 0.5044435\ttotal: 506ms\tremaining: 9.42s\n",
      "51:\tlearn: 0.5026105\ttotal: 515ms\tremaining: 9.39s\n",
      "52:\tlearn: 0.5004434\ttotal: 527ms\tremaining: 9.41s\n",
      "53:\tlearn: 0.4990871\ttotal: 529ms\tremaining: 9.27s\n",
      "54:\tlearn: 0.4972734\ttotal: 538ms\tremaining: 9.23s\n",
      "55:\tlearn: 0.4946255\ttotal: 549ms\tremaining: 9.25s\n",
      "56:\tlearn: 0.4932042\ttotal: 560ms\tremaining: 9.27s\n",
      "57:\tlearn: 0.4908756\ttotal: 572ms\tremaining: 9.29s\n",
      "58:\tlearn: 0.4884987\ttotal: 586ms\tremaining: 9.35s\n",
      "59:\tlearn: 0.4870056\ttotal: 594ms\tremaining: 9.31s\n",
      "60:\tlearn: 0.4850133\ttotal: 600ms\tremaining: 9.24s\n",
      "61:\tlearn: 0.4834353\ttotal: 603ms\tremaining: 9.12s\n",
      "62:\tlearn: 0.4825844\ttotal: 604ms\tremaining: 8.99s\n",
      "63:\tlearn: 0.4813234\ttotal: 606ms\tremaining: 8.86s\n",
      "64:\tlearn: 0.4798800\ttotal: 610ms\tremaining: 8.77s\n",
      "65:\tlearn: 0.4778418\ttotal: 619ms\tremaining: 8.75s\n",
      "66:\tlearn: 0.4764625\ttotal: 625ms\tremaining: 8.7s\n",
      "67:\tlearn: 0.4746102\ttotal: 632ms\tremaining: 8.66s\n",
      "68:\tlearn: 0.4724341\ttotal: 646ms\tremaining: 8.71s\n",
      "69:\tlearn: 0.4710586\ttotal: 653ms\tremaining: 8.68s\n",
      "70:\tlearn: 0.4695794\ttotal: 658ms\tremaining: 8.61s\n",
      "71:\tlearn: 0.4673637\ttotal: 671ms\tremaining: 8.65s\n",
      "72:\tlearn: 0.4661855\ttotal: 680ms\tremaining: 8.63s\n",
      "73:\tlearn: 0.4646919\ttotal: 685ms\tremaining: 8.57s\n",
      "74:\tlearn: 0.4635639\ttotal: 691ms\tremaining: 8.52s\n",
      "75:\tlearn: 0.4624385\ttotal: 697ms\tremaining: 8.47s\n",
      "76:\tlearn: 0.4607956\ttotal: 705ms\tremaining: 8.45s\n",
      "77:\tlearn: 0.4594052\ttotal: 714ms\tremaining: 8.44s\n",
      "78:\tlearn: 0.4578629\ttotal: 721ms\tremaining: 8.4s\n",
      "79:\tlearn: 0.4572339\ttotal: 723ms\tremaining: 8.31s\n",
      "80:\tlearn: 0.4565924\ttotal: 728ms\tremaining: 8.25s\n",
      "81:\tlearn: 0.4558937\ttotal: 729ms\tremaining: 8.16s\n",
      "82:\tlearn: 0.4542327\ttotal: 740ms\tremaining: 8.18s\n",
      "83:\tlearn: 0.4530179\ttotal: 746ms\tremaining: 8.14s\n",
      "84:\tlearn: 0.4517058\ttotal: 755ms\tremaining: 8.13s\n",
      "85:\tlearn: 0.4507592\ttotal: 764ms\tremaining: 8.12s\n",
      "86:\tlearn: 0.4499129\ttotal: 770ms\tremaining: 8.08s\n",
      "87:\tlearn: 0.4486925\ttotal: 780ms\tremaining: 8.08s\n",
      "88:\tlearn: 0.4475936\ttotal: 792ms\tremaining: 8.1s\n",
      "89:\tlearn: 0.4462506\ttotal: 800ms\tremaining: 8.09s\n",
      "90:\tlearn: 0.4455047\ttotal: 802ms\tremaining: 8.01s\n",
      "91:\tlearn: 0.4439231\ttotal: 815ms\tremaining: 8.04s\n",
      "92:\tlearn: 0.4423812\ttotal: 822ms\tremaining: 8.01s\n",
      "93:\tlearn: 0.4417145\ttotal: 833ms\tremaining: 8.03s\n",
      "94:\tlearn: 0.4409529\ttotal: 836ms\tremaining: 7.97s\n",
      "95:\tlearn: 0.4399449\ttotal: 843ms\tremaining: 7.93s\n",
      "96:\tlearn: 0.4391744\ttotal: 849ms\tremaining: 7.9s\n",
      "97:\tlearn: 0.4380597\ttotal: 878ms\tremaining: 8.08s\n",
      "98:\tlearn: 0.4370371\ttotal: 894ms\tremaining: 8.13s\n",
      "99:\tlearn: 0.4357582\ttotal: 915ms\tremaining: 8.24s\n",
      "100:\tlearn: 0.4347335\ttotal: 949ms\tremaining: 8.44s\n",
      "101:\tlearn: 0.4341394\ttotal: 959ms\tremaining: 8.44s\n",
      "102:\tlearn: 0.4328841\ttotal: 968ms\tremaining: 8.43s\n",
      "103:\tlearn: 0.4319163\ttotal: 975ms\tremaining: 8.4s\n",
      "104:\tlearn: 0.4313457\ttotal: 991ms\tremaining: 8.44s\n",
      "105:\tlearn: 0.4304338\ttotal: 1.01s\tremaining: 8.51s\n",
      "106:\tlearn: 0.4291940\ttotal: 1.02s\tremaining: 8.5s\n",
      "107:\tlearn: 0.4282819\ttotal: 1.03s\tremaining: 8.48s\n",
      "108:\tlearn: 0.4271960\ttotal: 1.04s\tremaining: 8.51s\n",
      "109:\tlearn: 0.4263040\ttotal: 1.07s\tremaining: 8.63s\n",
      "110:\tlearn: 0.4255108\ttotal: 1.08s\tremaining: 8.7s\n",
      "111:\tlearn: 0.4250625\ttotal: 1.1s\tremaining: 8.72s\n",
      "112:\tlearn: 0.4243236\ttotal: 1.11s\tremaining: 8.69s\n",
      "113:\tlearn: 0.4231448\ttotal: 1.12s\tremaining: 8.69s\n",
      "114:\tlearn: 0.4228875\ttotal: 1.12s\tremaining: 8.62s\n",
      "115:\tlearn: 0.4225919\ttotal: 1.12s\tremaining: 8.55s\n",
      "116:\tlearn: 0.4221158\ttotal: 1.13s\tremaining: 8.53s\n",
      "117:\tlearn: 0.4213658\ttotal: 1.13s\tremaining: 8.47s\n",
      "118:\tlearn: 0.4206008\ttotal: 1.15s\tremaining: 8.48s\n",
      "119:\tlearn: 0.4196835\ttotal: 1.15s\tremaining: 8.46s\n",
      "120:\tlearn: 0.4191867\ttotal: 1.16s\tremaining: 8.39s\n",
      "121:\tlearn: 0.4185937\ttotal: 1.17s\tremaining: 8.39s\n",
      "122:\tlearn: 0.4180310\ttotal: 1.17s\tremaining: 8.36s\n",
      "123:\tlearn: 0.4176757\ttotal: 1.18s\tremaining: 8.33s\n",
      "124:\tlearn: 0.4166602\ttotal: 1.2s\tremaining: 8.38s\n",
      "125:\tlearn: 0.4160703\ttotal: 1.21s\tremaining: 8.36s\n",
      "126:\tlearn: 0.4156131\ttotal: 1.22s\tremaining: 8.39s\n",
      "127:\tlearn: 0.4155720\ttotal: 1.22s\tremaining: 8.32s\n",
      "128:\tlearn: 0.4147435\ttotal: 1.23s\tremaining: 8.3s\n",
      "129:\tlearn: 0.4140416\ttotal: 1.25s\tremaining: 8.34s\n",
      "130:\tlearn: 0.4133396\ttotal: 1.26s\tremaining: 8.37s\n",
      "131:\tlearn: 0.4132562\ttotal: 1.26s\tremaining: 8.31s\n",
      "132:\tlearn: 0.4125928\ttotal: 1.27s\tremaining: 8.3s\n",
      "133:\tlearn: 0.4120776\ttotal: 1.28s\tremaining: 8.3s\n",
      "134:\tlearn: 0.4112868\ttotal: 1.3s\tremaining: 8.31s\n",
      "135:\tlearn: 0.4106395\ttotal: 1.31s\tremaining: 8.34s\n",
      "136:\tlearn: 0.4098678\ttotal: 1.32s\tremaining: 8.35s\n",
      "137:\tlearn: 0.4093199\ttotal: 1.33s\tremaining: 8.33s\n",
      "138:\tlearn: 0.4085865\ttotal: 1.34s\tremaining: 8.32s\n",
      "139:\tlearn: 0.4080848\ttotal: 1.35s\tremaining: 8.3s\n",
      "140:\tlearn: 0.4074926\ttotal: 1.35s\tremaining: 8.25s\n",
      "141:\tlearn: 0.4071852\ttotal: 1.36s\tremaining: 8.2s\n",
      "142:\tlearn: 0.4066785\ttotal: 1.36s\tremaining: 8.19s\n",
      "143:\tlearn: 0.4060441\ttotal: 1.37s\tremaining: 8.15s\n",
      "144:\tlearn: 0.4056931\ttotal: 1.38s\tremaining: 8.14s\n",
      "145:\tlearn: 0.4050471\ttotal: 1.39s\tremaining: 8.14s\n",
      "146:\tlearn: 0.4043129\ttotal: 1.39s\tremaining: 8.09s\n",
      "147:\tlearn: 0.4040072\ttotal: 1.41s\tremaining: 8.1s\n",
      "148:\tlearn: 0.4036184\ttotal: 1.41s\tremaining: 8.08s\n",
      "149:\tlearn: 0.4034335\ttotal: 1.42s\tremaining: 8.03s\n",
      "150:\tlearn: 0.4028339\ttotal: 1.43s\tremaining: 8.01s\n",
      "151:\tlearn: 0.4025413\ttotal: 1.43s\tremaining: 7.99s\n",
      "152:\tlearn: 0.4020348\ttotal: 1.45s\tremaining: 8.01s\n",
      "153:\tlearn: 0.4017818\ttotal: 1.45s\tremaining: 7.98s\n",
      "154:\tlearn: 0.4015587\ttotal: 1.46s\tremaining: 7.97s\n",
      "155:\tlearn: 0.4010161\ttotal: 1.47s\tremaining: 7.95s\n",
      "156:\tlearn: 0.4005311\ttotal: 1.48s\tremaining: 7.95s\n",
      "157:\tlearn: 0.3999990\ttotal: 1.49s\tremaining: 7.94s\n",
      "158:\tlearn: 0.3993959\ttotal: 1.5s\tremaining: 7.92s\n",
      "159:\tlearn: 0.3990229\ttotal: 1.51s\tremaining: 7.94s\n"
     ]
    },
    {
     "name": "stdout",
     "output_type": "stream",
     "text": [
      "160:\tlearn: 0.3986326\ttotal: 1.52s\tremaining: 7.95s\n",
      "161:\tlearn: 0.3982388\ttotal: 1.53s\tremaining: 7.93s\n",
      "162:\tlearn: 0.3979332\ttotal: 1.54s\tremaining: 7.89s\n",
      "163:\tlearn: 0.3975502\ttotal: 1.54s\tremaining: 7.86s\n",
      "164:\tlearn: 0.3973772\ttotal: 1.55s\tremaining: 7.83s\n",
      "165:\tlearn: 0.3971300\ttotal: 1.55s\tremaining: 7.79s\n",
      "166:\tlearn: 0.3967749\ttotal: 1.56s\tremaining: 7.81s\n",
      "167:\tlearn: 0.3964484\ttotal: 1.58s\tremaining: 7.81s\n",
      "168:\tlearn: 0.3959009\ttotal: 1.59s\tremaining: 7.8s\n",
      "169:\tlearn: 0.3953631\ttotal: 1.6s\tremaining: 7.8s\n",
      "170:\tlearn: 0.3950525\ttotal: 1.6s\tremaining: 7.76s\n",
      "171:\tlearn: 0.3947287\ttotal: 1.61s\tremaining: 7.75s\n",
      "172:\tlearn: 0.3942571\ttotal: 1.62s\tremaining: 7.73s\n",
      "173:\tlearn: 0.3941025\ttotal: 1.63s\tremaining: 7.73s\n",
      "174:\tlearn: 0.3937037\ttotal: 1.64s\tremaining: 7.73s\n",
      "175:\tlearn: 0.3933558\ttotal: 1.65s\tremaining: 7.71s\n",
      "176:\tlearn: 0.3931626\ttotal: 1.65s\tremaining: 7.68s\n",
      "177:\tlearn: 0.3929493\ttotal: 1.66s\tremaining: 7.66s\n",
      "178:\tlearn: 0.3925578\ttotal: 1.67s\tremaining: 7.66s\n",
      "179:\tlearn: 0.3921789\ttotal: 1.69s\tremaining: 7.69s\n",
      "180:\tlearn: 0.3919444\ttotal: 1.7s\tremaining: 7.68s\n",
      "181:\tlearn: 0.3917176\ttotal: 1.71s\tremaining: 7.67s\n",
      "182:\tlearn: 0.3915182\ttotal: 1.72s\tremaining: 7.68s\n",
      "183:\tlearn: 0.3912801\ttotal: 1.73s\tremaining: 7.67s\n",
      "184:\tlearn: 0.3909192\ttotal: 1.74s\tremaining: 7.66s\n",
      "185:\tlearn: 0.3906753\ttotal: 1.75s\tremaining: 7.67s\n",
      "186:\tlearn: 0.3904337\ttotal: 1.77s\tremaining: 7.69s\n",
      "187:\tlearn: 0.3899805\ttotal: 1.78s\tremaining: 7.7s\n",
      "188:\tlearn: 0.3896535\ttotal: 1.79s\tremaining: 7.67s\n",
      "189:\tlearn: 0.3895318\ttotal: 1.8s\tremaining: 7.67s\n",
      "190:\tlearn: 0.3892811\ttotal: 1.81s\tremaining: 7.69s\n",
      "191:\tlearn: 0.3890189\ttotal: 1.82s\tremaining: 7.68s\n",
      "192:\tlearn: 0.3888100\ttotal: 1.83s\tremaining: 7.65s\n",
      "193:\tlearn: 0.3886520\ttotal: 1.83s\tremaining: 7.63s\n",
      "194:\tlearn: 0.3885079\ttotal: 1.85s\tremaining: 7.63s\n",
      "195:\tlearn: 0.3883522\ttotal: 1.86s\tremaining: 7.62s\n",
      "196:\tlearn: 0.3881561\ttotal: 1.87s\tremaining: 7.62s\n",
      "197:\tlearn: 0.3880178\ttotal: 1.88s\tremaining: 7.63s\n",
      "198:\tlearn: 0.3879181\ttotal: 1.89s\tremaining: 7.6s\n",
      "199:\tlearn: 0.3878469\ttotal: 1.89s\tremaining: 7.57s\n",
      "200:\tlearn: 0.3875320\ttotal: 1.9s\tremaining: 7.56s\n",
      "201:\tlearn: 0.3871816\ttotal: 1.92s\tremaining: 7.58s\n",
      "202:\tlearn: 0.3869421\ttotal: 1.93s\tremaining: 7.56s\n",
      "203:\tlearn: 0.3867446\ttotal: 1.93s\tremaining: 7.54s\n",
      "204:\tlearn: 0.3865004\ttotal: 1.94s\tremaining: 7.53s\n",
      "205:\tlearn: 0.3864482\ttotal: 1.94s\tremaining: 7.5s\n",
      "206:\tlearn: 0.3862148\ttotal: 1.95s\tremaining: 7.49s\n",
      "207:\tlearn: 0.3858400\ttotal: 1.96s\tremaining: 7.48s\n",
      "208:\tlearn: 0.3857173\ttotal: 1.97s\tremaining: 7.45s\n",
      "209:\tlearn: 0.3854151\ttotal: 1.97s\tremaining: 7.43s\n",
      "210:\tlearn: 0.3851691\ttotal: 1.98s\tremaining: 7.41s\n",
      "211:\tlearn: 0.3849126\ttotal: 1.99s\tremaining: 7.39s\n",
      "212:\tlearn: 0.3845868\ttotal: 2s\tremaining: 7.38s\n",
      "213:\tlearn: 0.3843682\ttotal: 2.01s\tremaining: 7.38s\n",
      "214:\tlearn: 0.3841214\ttotal: 2.02s\tremaining: 7.36s\n",
      "215:\tlearn: 0.3839668\ttotal: 2.02s\tremaining: 7.34s\n",
      "216:\tlearn: 0.3837371\ttotal: 2.03s\tremaining: 7.34s\n",
      "217:\tlearn: 0.3833879\ttotal: 2.04s\tremaining: 7.33s\n",
      "218:\tlearn: 0.3831985\ttotal: 2.06s\tremaining: 7.33s\n",
      "219:\tlearn: 0.3830159\ttotal: 2.06s\tremaining: 7.32s\n",
      "220:\tlearn: 0.3827003\ttotal: 2.07s\tremaining: 7.31s\n",
      "221:\tlearn: 0.3824293\ttotal: 2.08s\tremaining: 7.3s\n",
      "222:\tlearn: 0.3822345\ttotal: 2.1s\tremaining: 7.31s\n",
      "223:\tlearn: 0.3820922\ttotal: 2.11s\tremaining: 7.31s\n",
      "224:\tlearn: 0.3816519\ttotal: 2.12s\tremaining: 7.31s\n",
      "225:\tlearn: 0.3814491\ttotal: 2.13s\tremaining: 7.3s\n",
      "226:\tlearn: 0.3813550\ttotal: 2.13s\tremaining: 7.27s\n",
      "227:\tlearn: 0.3809620\ttotal: 2.15s\tremaining: 7.26s\n",
      "228:\tlearn: 0.3808421\ttotal: 2.15s\tremaining: 7.23s\n",
      "229:\tlearn: 0.3803783\ttotal: 2.16s\tremaining: 7.23s\n",
      "230:\tlearn: 0.3801978\ttotal: 2.16s\tremaining: 7.21s\n",
      "231:\tlearn: 0.3798890\ttotal: 2.18s\tremaining: 7.21s\n",
      "232:\tlearn: 0.3796315\ttotal: 2.19s\tremaining: 7.22s\n",
      "233:\tlearn: 0.3794792\ttotal: 2.19s\tremaining: 7.19s\n",
      "234:\tlearn: 0.3791814\ttotal: 2.2s\tremaining: 7.17s\n",
      "235:\tlearn: 0.3790758\ttotal: 2.21s\tremaining: 7.15s\n",
      "236:\tlearn: 0.3787245\ttotal: 2.23s\tremaining: 7.17s\n",
      "237:\tlearn: 0.3784124\ttotal: 2.24s\tremaining: 7.16s\n",
      "238:\tlearn: 0.3782367\ttotal: 2.24s\tremaining: 7.15s\n",
      "239:\tlearn: 0.3780342\ttotal: 2.25s\tremaining: 7.13s\n",
      "240:\tlearn: 0.3779405\ttotal: 2.26s\tremaining: 7.13s\n",
      "241:\tlearn: 0.3779175\ttotal: 2.26s\tremaining: 7.09s\n",
      "242:\tlearn: 0.3775843\ttotal: 2.27s\tremaining: 7.08s\n",
      "243:\tlearn: 0.3774931\ttotal: 2.28s\tremaining: 7.07s\n",
      "244:\tlearn: 0.3773123\ttotal: 2.28s\tremaining: 7.04s\n",
      "245:\tlearn: 0.3770411\ttotal: 2.29s\tremaining: 7.03s\n",
      "246:\tlearn: 0.3769402\ttotal: 2.3s\tremaining: 7.01s\n",
      "247:\tlearn: 0.3767481\ttotal: 2.31s\tremaining: 7s\n",
      "248:\tlearn: 0.3766272\ttotal: 2.31s\tremaining: 6.98s\n",
      "249:\tlearn: 0.3764179\ttotal: 2.32s\tremaining: 6.97s\n",
      "250:\tlearn: 0.3760734\ttotal: 2.33s\tremaining: 6.96s\n",
      "251:\tlearn: 0.3758906\ttotal: 2.33s\tremaining: 6.93s\n",
      "252:\tlearn: 0.3756845\ttotal: 2.34s\tremaining: 6.91s\n",
      "253:\tlearn: 0.3754809\ttotal: 2.35s\tremaining: 6.91s\n",
      "254:\tlearn: 0.3753390\ttotal: 2.36s\tremaining: 6.89s\n",
      "255:\tlearn: 0.3752214\ttotal: 2.36s\tremaining: 6.87s\n",
      "256:\tlearn: 0.3749395\ttotal: 2.37s\tremaining: 6.86s\n",
      "257:\tlearn: 0.3748624\ttotal: 2.38s\tremaining: 6.84s\n",
      "258:\tlearn: 0.3745638\ttotal: 2.38s\tremaining: 6.81s\n",
      "259:\tlearn: 0.3742892\ttotal: 2.39s\tremaining: 6.8s\n",
      "260:\tlearn: 0.3741875\ttotal: 2.39s\tremaining: 6.77s\n",
      "261:\tlearn: 0.3740459\ttotal: 2.4s\tremaining: 6.77s\n",
      "262:\tlearn: 0.3737037\ttotal: 2.41s\tremaining: 6.74s\n",
      "263:\tlearn: 0.3734868\ttotal: 2.41s\tremaining: 6.73s\n",
      "264:\tlearn: 0.3733320\ttotal: 2.42s\tremaining: 6.71s\n",
      "265:\tlearn: 0.3733295\ttotal: 2.42s\tremaining: 6.68s\n",
      "266:\tlearn: 0.3731215\ttotal: 2.43s\tremaining: 6.67s\n",
      "267:\tlearn: 0.3728117\ttotal: 2.43s\tremaining: 6.65s\n",
      "268:\tlearn: 0.3725741\ttotal: 2.44s\tremaining: 6.62s\n",
      "269:\tlearn: 0.3724152\ttotal: 2.45s\tremaining: 6.62s\n",
      "270:\tlearn: 0.3721574\ttotal: 2.46s\tremaining: 6.61s\n",
      "271:\tlearn: 0.3720584\ttotal: 2.47s\tremaining: 6.61s\n",
      "272:\tlearn: 0.3719164\ttotal: 2.48s\tremaining: 6.6s\n",
      "273:\tlearn: 0.3718747\ttotal: 2.49s\tremaining: 6.59s\n",
      "274:\tlearn: 0.3716843\ttotal: 2.49s\tremaining: 6.57s\n",
      "275:\tlearn: 0.3715969\ttotal: 2.49s\tremaining: 6.54s\n",
      "276:\tlearn: 0.3712863\ttotal: 2.5s\tremaining: 6.53s\n",
      "277:\tlearn: 0.3712128\ttotal: 2.5s\tremaining: 6.5s\n",
      "278:\tlearn: 0.3712109\ttotal: 2.51s\tremaining: 6.48s\n",
      "279:\tlearn: 0.3710162\ttotal: 2.52s\tremaining: 6.48s\n",
      "280:\tlearn: 0.3708369\ttotal: 2.52s\tremaining: 6.46s\n",
      "281:\tlearn: 0.3708352\ttotal: 2.53s\tremaining: 6.43s\n",
      "282:\tlearn: 0.3706611\ttotal: 2.53s\tremaining: 6.41s\n",
      "283:\tlearn: 0.3704940\ttotal: 2.53s\tremaining: 6.39s\n",
      "284:\tlearn: 0.3701304\ttotal: 2.54s\tremaining: 6.39s\n",
      "285:\tlearn: 0.3698323\ttotal: 2.55s\tremaining: 6.38s\n",
      "286:\tlearn: 0.3697154\ttotal: 2.56s\tremaining: 6.35s\n",
      "287:\tlearn: 0.3693431\ttotal: 2.56s\tremaining: 6.34s\n",
      "288:\tlearn: 0.3691396\ttotal: 2.57s\tremaining: 6.33s\n",
      "289:\tlearn: 0.3688884\ttotal: 2.58s\tremaining: 6.33s\n",
      "290:\tlearn: 0.3686451\ttotal: 2.6s\tremaining: 6.32s\n",
      "291:\tlearn: 0.3686278\ttotal: 2.6s\tremaining: 6.3s\n",
      "292:\tlearn: 0.3683867\ttotal: 2.61s\tremaining: 6.3s\n",
      "293:\tlearn: 0.3681393\ttotal: 2.63s\tremaining: 6.3s\n",
      "294:\tlearn: 0.3678005\ttotal: 2.63s\tremaining: 6.29s\n",
      "295:\tlearn: 0.3674649\ttotal: 2.64s\tremaining: 6.29s\n",
      "296:\tlearn: 0.3674118\ttotal: 2.65s\tremaining: 6.27s\n",
      "297:\tlearn: 0.3671630\ttotal: 2.66s\tremaining: 6.26s\n",
      "298:\tlearn: 0.3670876\ttotal: 2.67s\tremaining: 6.25s\n",
      "299:\tlearn: 0.3668205\ttotal: 2.67s\tremaining: 6.24s\n",
      "300:\tlearn: 0.3666482\ttotal: 2.68s\tremaining: 6.23s\n",
      "301:\tlearn: 0.3665791\ttotal: 2.69s\tremaining: 6.21s\n",
      "302:\tlearn: 0.3664620\ttotal: 2.69s\tremaining: 6.2s\n",
      "303:\tlearn: 0.3662367\ttotal: 2.71s\tremaining: 6.19s\n",
      "304:\tlearn: 0.3661604\ttotal: 2.71s\tremaining: 6.17s\n",
      "305:\tlearn: 0.3660785\ttotal: 2.72s\tremaining: 6.16s\n",
      "306:\tlearn: 0.3659704\ttotal: 2.72s\tremaining: 6.14s\n",
      "307:\tlearn: 0.3658506\ttotal: 2.73s\tremaining: 6.14s\n",
      "308:\tlearn: 0.3656024\ttotal: 2.74s\tremaining: 6.14s\n",
      "309:\tlearn: 0.3655593\ttotal: 2.75s\tremaining: 6.11s\n",
      "310:\tlearn: 0.3654872\ttotal: 2.75s\tremaining: 6.1s\n",
      "311:\tlearn: 0.3653978\ttotal: 2.77s\tremaining: 6.11s\n",
      "312:\tlearn: 0.3652899\ttotal: 2.77s\tremaining: 6.09s\n",
      "313:\tlearn: 0.3652023\ttotal: 2.78s\tremaining: 6.08s\n",
      "314:\tlearn: 0.3650662\ttotal: 2.79s\tremaining: 6.07s\n",
      "315:\tlearn: 0.3648840\ttotal: 2.81s\tremaining: 6.07s\n",
      "316:\tlearn: 0.3648043\ttotal: 2.81s\tremaining: 6.06s\n",
      "317:\tlearn: 0.3646429\ttotal: 2.82s\tremaining: 6.04s\n",
      "318:\tlearn: 0.3646420\ttotal: 2.82s\tremaining: 6.02s\n",
      "319:\tlearn: 0.3645783\ttotal: 2.83s\tremaining: 6.01s\n",
      "320:\tlearn: 0.3645450\ttotal: 2.83s\tremaining: 6s\n"
     ]
    },
    {
     "name": "stdout",
     "output_type": "stream",
     "text": [
      "321:\tlearn: 0.3644082\ttotal: 2.85s\tremaining: 5.99s\n",
      "322:\tlearn: 0.3642030\ttotal: 2.85s\tremaining: 5.98s\n",
      "323:\tlearn: 0.3641168\ttotal: 2.86s\tremaining: 5.97s\n",
      "324:\tlearn: 0.3639898\ttotal: 2.86s\tremaining: 5.95s\n",
      "325:\tlearn: 0.3638085\ttotal: 2.87s\tremaining: 5.93s\n",
      "326:\tlearn: 0.3637592\ttotal: 2.88s\tremaining: 5.92s\n",
      "327:\tlearn: 0.3637221\ttotal: 2.88s\tremaining: 5.9s\n",
      "328:\tlearn: 0.3635274\ttotal: 2.89s\tremaining: 5.9s\n",
      "329:\tlearn: 0.3633952\ttotal: 2.9s\tremaining: 5.89s\n",
      "330:\tlearn: 0.3633945\ttotal: 2.9s\tremaining: 5.86s\n",
      "331:\tlearn: 0.3632166\ttotal: 2.9s\tremaining: 5.84s\n",
      "332:\tlearn: 0.3630556\ttotal: 2.91s\tremaining: 5.83s\n",
      "333:\tlearn: 0.3628320\ttotal: 2.92s\tremaining: 5.81s\n",
      "334:\tlearn: 0.3627231\ttotal: 2.92s\tremaining: 5.8s\n",
      "335:\tlearn: 0.3625827\ttotal: 2.92s\tremaining: 5.78s\n",
      "336:\tlearn: 0.3625352\ttotal: 2.93s\tremaining: 5.77s\n",
      "337:\tlearn: 0.3624887\ttotal: 2.94s\tremaining: 5.76s\n",
      "338:\tlearn: 0.3623515\ttotal: 2.94s\tremaining: 5.74s\n",
      "339:\tlearn: 0.3622781\ttotal: 2.95s\tremaining: 5.73s\n",
      "340:\tlearn: 0.3621496\ttotal: 2.95s\tremaining: 5.71s\n",
      "341:\tlearn: 0.3618511\ttotal: 2.96s\tremaining: 5.7s\n",
      "342:\tlearn: 0.3617009\ttotal: 2.97s\tremaining: 5.69s\n",
      "343:\tlearn: 0.3615471\ttotal: 2.98s\tremaining: 5.67s\n",
      "344:\tlearn: 0.3613401\ttotal: 2.98s\tremaining: 5.66s\n",
      "345:\tlearn: 0.3612137\ttotal: 2.98s\tremaining: 5.64s\n",
      "346:\tlearn: 0.3610096\ttotal: 2.99s\tremaining: 5.63s\n",
      "347:\tlearn: 0.3610087\ttotal: 2.99s\tremaining: 5.61s\n",
      "348:\tlearn: 0.3607857\ttotal: 3s\tremaining: 5.6s\n",
      "349:\tlearn: 0.3606956\ttotal: 3s\tremaining: 5.58s\n",
      "350:\tlearn: 0.3605584\ttotal: 3.01s\tremaining: 5.56s\n",
      "351:\tlearn: 0.3603877\ttotal: 3.01s\tremaining: 5.54s\n",
      "352:\tlearn: 0.3603839\ttotal: 3.01s\tremaining: 5.52s\n",
      "353:\tlearn: 0.3602687\ttotal: 3.02s\tremaining: 5.51s\n",
      "354:\tlearn: 0.3601312\ttotal: 3.03s\tremaining: 5.51s\n",
      "355:\tlearn: 0.3600397\ttotal: 3.04s\tremaining: 5.5s\n",
      "356:\tlearn: 0.3599731\ttotal: 3.04s\tremaining: 5.48s\n",
      "357:\tlearn: 0.3598194\ttotal: 3.05s\tremaining: 5.47s\n",
      "358:\tlearn: 0.3596584\ttotal: 3.05s\tremaining: 5.45s\n",
      "359:\tlearn: 0.3596033\ttotal: 3.06s\tremaining: 5.44s\n",
      "360:\tlearn: 0.3595629\ttotal: 3.07s\tremaining: 5.43s\n",
      "361:\tlearn: 0.3595542\ttotal: 3.07s\tremaining: 5.41s\n",
      "362:\tlearn: 0.3594395\ttotal: 3.08s\tremaining: 5.41s\n",
      "363:\tlearn: 0.3591568\ttotal: 3.09s\tremaining: 5.4s\n",
      "364:\tlearn: 0.3591036\ttotal: 3.09s\tremaining: 5.38s\n",
      "365:\tlearn: 0.3589366\ttotal: 3.1s\tremaining: 5.36s\n",
      "366:\tlearn: 0.3587449\ttotal: 3.11s\tremaining: 5.36s\n",
      "367:\tlearn: 0.3587025\ttotal: 3.11s\tremaining: 5.34s\n",
      "368:\tlearn: 0.3586247\ttotal: 3.12s\tremaining: 5.33s\n",
      "369:\tlearn: 0.3583918\ttotal: 3.13s\tremaining: 5.33s\n",
      "370:\tlearn: 0.3583915\ttotal: 3.13s\tremaining: 5.31s\n",
      "371:\tlearn: 0.3583247\ttotal: 3.14s\tremaining: 5.3s\n",
      "372:\tlearn: 0.3581283\ttotal: 3.15s\tremaining: 5.3s\n",
      "373:\tlearn: 0.3581277\ttotal: 3.15s\tremaining: 5.28s\n",
      "374:\tlearn: 0.3581137\ttotal: 3.16s\tremaining: 5.26s\n",
      "375:\tlearn: 0.3579261\ttotal: 3.17s\tremaining: 5.26s\n",
      "376:\tlearn: 0.3579058\ttotal: 3.17s\tremaining: 5.25s\n",
      "377:\tlearn: 0.3578234\ttotal: 3.18s\tremaining: 5.24s\n",
      "378:\tlearn: 0.3576456\ttotal: 3.2s\tremaining: 5.25s\n",
      "379:\tlearn: 0.3575740\ttotal: 3.21s\tremaining: 5.24s\n",
      "380:\tlearn: 0.3573946\ttotal: 3.22s\tremaining: 5.23s\n",
      "381:\tlearn: 0.3573577\ttotal: 3.23s\tremaining: 5.22s\n",
      "382:\tlearn: 0.3572240\ttotal: 3.23s\tremaining: 5.21s\n",
      "383:\tlearn: 0.3570263\ttotal: 3.24s\tremaining: 5.19s\n",
      "384:\tlearn: 0.3569417\ttotal: 3.25s\tremaining: 5.19s\n",
      "385:\tlearn: 0.3568686\ttotal: 3.25s\tremaining: 5.18s\n",
      "386:\tlearn: 0.3568583\ttotal: 3.25s\tremaining: 5.16s\n",
      "387:\tlearn: 0.3568487\ttotal: 3.26s\tremaining: 5.14s\n",
      "388:\tlearn: 0.3567148\ttotal: 3.27s\tremaining: 5.13s\n",
      "389:\tlearn: 0.3564779\ttotal: 3.29s\tremaining: 5.14s\n",
      "390:\tlearn: 0.3563628\ttotal: 3.29s\tremaining: 5.13s\n",
      "391:\tlearn: 0.3562405\ttotal: 3.3s\tremaining: 5.12s\n",
      "392:\tlearn: 0.3561681\ttotal: 3.31s\tremaining: 5.11s\n",
      "393:\tlearn: 0.3560995\ttotal: 3.32s\tremaining: 5.1s\n",
      "394:\tlearn: 0.3559390\ttotal: 3.33s\tremaining: 5.1s\n",
      "395:\tlearn: 0.3557898\ttotal: 3.33s\tremaining: 5.08s\n",
      "396:\tlearn: 0.3556224\ttotal: 3.34s\tremaining: 5.08s\n",
      "397:\tlearn: 0.3555685\ttotal: 3.35s\tremaining: 5.06s\n",
      "398:\tlearn: 0.3552906\ttotal: 3.35s\tremaining: 5.05s\n",
      "399:\tlearn: 0.3552841\ttotal: 3.36s\tremaining: 5.03s\n",
      "400:\tlearn: 0.3551500\ttotal: 3.37s\tremaining: 5.03s\n",
      "401:\tlearn: 0.3550253\ttotal: 3.38s\tremaining: 5.03s\n",
      "402:\tlearn: 0.3547542\ttotal: 3.39s\tremaining: 5.02s\n",
      "403:\tlearn: 0.3546969\ttotal: 3.4s\tremaining: 5.02s\n",
      "404:\tlearn: 0.3545157\ttotal: 3.42s\tremaining: 5.02s\n",
      "405:\tlearn: 0.3544028\ttotal: 3.42s\tremaining: 5.01s\n",
      "406:\tlearn: 0.3543912\ttotal: 3.43s\tremaining: 4.99s\n",
      "407:\tlearn: 0.3542675\ttotal: 3.43s\tremaining: 4.98s\n",
      "408:\tlearn: 0.3541921\ttotal: 3.44s\tremaining: 4.97s\n",
      "409:\tlearn: 0.3541920\ttotal: 3.44s\tremaining: 4.95s\n",
      "410:\tlearn: 0.3541382\ttotal: 3.44s\tremaining: 4.93s\n",
      "411:\tlearn: 0.3540200\ttotal: 3.45s\tremaining: 4.92s\n",
      "412:\tlearn: 0.3538384\ttotal: 3.45s\tremaining: 4.91s\n",
      "413:\tlearn: 0.3537122\ttotal: 3.46s\tremaining: 4.9s\n",
      "414:\tlearn: 0.3536357\ttotal: 3.47s\tremaining: 4.89s\n",
      "415:\tlearn: 0.3535939\ttotal: 3.47s\tremaining: 4.87s\n",
      "416:\tlearn: 0.3534992\ttotal: 3.48s\tremaining: 4.86s\n",
      "417:\tlearn: 0.3534044\ttotal: 3.48s\tremaining: 4.85s\n",
      "418:\tlearn: 0.3533611\ttotal: 3.5s\tremaining: 4.85s\n",
      "419:\tlearn: 0.3531003\ttotal: 3.51s\tremaining: 4.85s\n",
      "420:\tlearn: 0.3530441\ttotal: 3.52s\tremaining: 4.84s\n",
      "421:\tlearn: 0.3530408\ttotal: 3.52s\tremaining: 4.82s\n",
      "422:\tlearn: 0.3529102\ttotal: 3.53s\tremaining: 4.82s\n",
      "423:\tlearn: 0.3526762\ttotal: 3.56s\tremaining: 4.83s\n",
      "424:\tlearn: 0.3526591\ttotal: 3.56s\tremaining: 4.81s\n",
      "425:\tlearn: 0.3525471\ttotal: 3.57s\tremaining: 4.81s\n",
      "426:\tlearn: 0.3524964\ttotal: 3.57s\tremaining: 4.79s\n",
      "427:\tlearn: 0.3524963\ttotal: 3.57s\tremaining: 4.78s\n",
      "428:\tlearn: 0.3523222\ttotal: 3.59s\tremaining: 4.77s\n",
      "429:\tlearn: 0.3521452\ttotal: 3.6s\tremaining: 4.77s\n",
      "430:\tlearn: 0.3520334\ttotal: 3.61s\tremaining: 4.76s\n",
      "431:\tlearn: 0.3519181\ttotal: 3.62s\tremaining: 4.76s\n",
      "432:\tlearn: 0.3518738\ttotal: 3.62s\tremaining: 4.74s\n",
      "433:\tlearn: 0.3518100\ttotal: 3.63s\tremaining: 4.73s\n",
      "434:\tlearn: 0.3518096\ttotal: 3.63s\tremaining: 4.71s\n",
      "435:\tlearn: 0.3517828\ttotal: 3.64s\tremaining: 4.71s\n",
      "436:\tlearn: 0.3515727\ttotal: 3.65s\tremaining: 4.7s\n",
      "437:\tlearn: 0.3514052\ttotal: 3.66s\tremaining: 4.7s\n",
      "438:\tlearn: 0.3514002\ttotal: 3.66s\tremaining: 4.68s\n",
      "439:\tlearn: 0.3513506\ttotal: 3.67s\tremaining: 4.67s\n",
      "440:\tlearn: 0.3512437\ttotal: 3.68s\tremaining: 4.67s\n",
      "441:\tlearn: 0.3510581\ttotal: 3.69s\tremaining: 4.66s\n",
      "442:\tlearn: 0.3510186\ttotal: 3.69s\tremaining: 4.64s\n",
      "443:\tlearn: 0.3509950\ttotal: 3.7s\tremaining: 4.63s\n",
      "444:\tlearn: 0.3509524\ttotal: 3.7s\tremaining: 4.61s\n",
      "445:\tlearn: 0.3508468\ttotal: 3.7s\tremaining: 4.6s\n",
      "446:\tlearn: 0.3506725\ttotal: 3.72s\tremaining: 4.6s\n",
      "447:\tlearn: 0.3505476\ttotal: 3.72s\tremaining: 4.59s\n",
      "448:\tlearn: 0.3505426\ttotal: 3.73s\tremaining: 4.57s\n",
      "449:\tlearn: 0.3505414\ttotal: 3.73s\tremaining: 4.56s\n",
      "450:\tlearn: 0.3505192\ttotal: 3.73s\tremaining: 4.54s\n",
      "451:\tlearn: 0.3505160\ttotal: 3.74s\tremaining: 4.53s\n",
      "452:\tlearn: 0.3505160\ttotal: 3.74s\tremaining: 4.51s\n",
      "453:\tlearn: 0.3504291\ttotal: 3.75s\tremaining: 4.5s\n",
      "454:\tlearn: 0.3503433\ttotal: 3.76s\tremaining: 4.5s\n",
      "455:\tlearn: 0.3501521\ttotal: 3.77s\tremaining: 4.5s\n",
      "456:\tlearn: 0.3500329\ttotal: 3.77s\tremaining: 4.48s\n",
      "457:\tlearn: 0.3498638\ttotal: 3.79s\tremaining: 4.48s\n",
      "458:\tlearn: 0.3498307\ttotal: 3.79s\tremaining: 4.47s\n",
      "459:\tlearn: 0.3497137\ttotal: 3.8s\tremaining: 4.46s\n",
      "460:\tlearn: 0.3494539\ttotal: 3.81s\tremaining: 4.45s\n",
      "461:\tlearn: 0.3493224\ttotal: 3.81s\tremaining: 4.44s\n",
      "462:\tlearn: 0.3492407\ttotal: 3.82s\tremaining: 4.43s\n",
      "463:\tlearn: 0.3491214\ttotal: 3.83s\tremaining: 4.42s\n",
      "464:\tlearn: 0.3489420\ttotal: 3.83s\tremaining: 4.41s\n",
      "465:\tlearn: 0.3489419\ttotal: 3.83s\tremaining: 4.39s\n",
      "466:\tlearn: 0.3489041\ttotal: 3.83s\tremaining: 4.38s\n",
      "467:\tlearn: 0.3488812\ttotal: 3.84s\tremaining: 4.36s\n",
      "468:\tlearn: 0.3488055\ttotal: 3.85s\tremaining: 4.35s\n",
      "469:\tlearn: 0.3487002\ttotal: 3.85s\tremaining: 4.35s\n",
      "470:\tlearn: 0.3486989\ttotal: 3.86s\tremaining: 4.33s\n",
      "471:\tlearn: 0.3486982\ttotal: 3.86s\tremaining: 4.32s\n",
      "472:\tlearn: 0.3486199\ttotal: 3.86s\tremaining: 4.3s\n",
      "473:\tlearn: 0.3484422\ttotal: 3.88s\tremaining: 4.3s\n",
      "474:\tlearn: 0.3483408\ttotal: 3.88s\tremaining: 4.29s\n",
      "475:\tlearn: 0.3482255\ttotal: 3.88s\tremaining: 4.28s\n",
      "476:\tlearn: 0.3480921\ttotal: 3.89s\tremaining: 4.27s\n",
      "477:\tlearn: 0.3480245\ttotal: 3.9s\tremaining: 4.25s\n",
      "478:\tlearn: 0.3480118\ttotal: 3.9s\tremaining: 4.24s\n",
      "479:\tlearn: 0.3479926\ttotal: 3.9s\tremaining: 4.23s\n",
      "480:\tlearn: 0.3479372\ttotal: 3.9s\tremaining: 4.21s\n",
      "481:\tlearn: 0.3479372\ttotal: 3.9s\tremaining: 4.2s\n",
      "482:\tlearn: 0.3477533\ttotal: 3.91s\tremaining: 4.19s\n",
      "483:\tlearn: 0.3476408\ttotal: 3.92s\tremaining: 4.18s\n",
      "484:\tlearn: 0.3475352\ttotal: 3.93s\tremaining: 4.17s\n",
      "485:\tlearn: 0.3475331\ttotal: 3.93s\tremaining: 4.16s\n"
     ]
    },
    {
     "name": "stdout",
     "output_type": "stream",
     "text": [
      "486:\tlearn: 0.3474684\ttotal: 3.93s\tremaining: 4.14s\n",
      "487:\tlearn: 0.3473075\ttotal: 3.94s\tremaining: 4.13s\n",
      "488:\tlearn: 0.3472473\ttotal: 3.94s\tremaining: 4.12s\n",
      "489:\tlearn: 0.3471252\ttotal: 3.95s\tremaining: 4.11s\n",
      "490:\tlearn: 0.3470872\ttotal: 3.95s\tremaining: 4.1s\n",
      "491:\tlearn: 0.3469829\ttotal: 3.96s\tremaining: 4.09s\n",
      "492:\tlearn: 0.3469073\ttotal: 3.98s\tremaining: 4.09s\n",
      "493:\tlearn: 0.3468354\ttotal: 3.98s\tremaining: 4.07s\n",
      "494:\tlearn: 0.3467456\ttotal: 3.98s\tremaining: 4.07s\n",
      "495:\tlearn: 0.3466967\ttotal: 3.99s\tremaining: 4.05s\n",
      "496:\tlearn: 0.3466952\ttotal: 3.99s\tremaining: 4.04s\n",
      "497:\tlearn: 0.3465188\ttotal: 4s\tremaining: 4.03s\n",
      "498:\tlearn: 0.3463931\ttotal: 4.01s\tremaining: 4.03s\n",
      "499:\tlearn: 0.3463632\ttotal: 4.02s\tremaining: 4.02s\n",
      "500:\tlearn: 0.3463602\ttotal: 4.02s\tremaining: 4s\n",
      "501:\tlearn: 0.3461551\ttotal: 4.04s\tremaining: 4.01s\n",
      "502:\tlearn: 0.3461031\ttotal: 4.05s\tremaining: 4s\n",
      "503:\tlearn: 0.3460258\ttotal: 4.06s\tremaining: 3.99s\n",
      "504:\tlearn: 0.3459369\ttotal: 4.06s\tremaining: 3.98s\n",
      "505:\tlearn: 0.3457697\ttotal: 4.08s\tremaining: 3.98s\n",
      "506:\tlearn: 0.3456195\ttotal: 4.08s\tremaining: 3.97s\n",
      "507:\tlearn: 0.3455893\ttotal: 4.08s\tremaining: 3.96s\n",
      "508:\tlearn: 0.3455313\ttotal: 4.09s\tremaining: 3.95s\n",
      "509:\tlearn: 0.3454581\ttotal: 4.1s\tremaining: 3.94s\n",
      "510:\tlearn: 0.3453826\ttotal: 4.11s\tremaining: 3.94s\n",
      "511:\tlearn: 0.3452373\ttotal: 4.12s\tremaining: 3.93s\n",
      "512:\tlearn: 0.3450577\ttotal: 4.13s\tremaining: 3.92s\n",
      "513:\tlearn: 0.3450278\ttotal: 4.14s\tremaining: 3.91s\n",
      "514:\tlearn: 0.3449583\ttotal: 4.15s\tremaining: 3.91s\n",
      "515:\tlearn: 0.3449535\ttotal: 4.16s\tremaining: 3.9s\n",
      "516:\tlearn: 0.3448706\ttotal: 4.17s\tremaining: 3.89s\n",
      "517:\tlearn: 0.3448499\ttotal: 4.17s\tremaining: 3.88s\n",
      "518:\tlearn: 0.3447902\ttotal: 4.17s\tremaining: 3.87s\n",
      "519:\tlearn: 0.3447013\ttotal: 4.18s\tremaining: 3.86s\n",
      "520:\tlearn: 0.3446607\ttotal: 4.2s\tremaining: 3.86s\n",
      "521:\tlearn: 0.3446074\ttotal: 4.2s\tremaining: 3.84s\n",
      "522:\tlearn: 0.3445910\ttotal: 4.2s\tremaining: 3.83s\n",
      "523:\tlearn: 0.3445331\ttotal: 4.21s\tremaining: 3.82s\n",
      "524:\tlearn: 0.3443588\ttotal: 4.21s\tremaining: 3.81s\n",
      "525:\tlearn: 0.3443196\ttotal: 4.21s\tremaining: 3.8s\n",
      "526:\tlearn: 0.3441984\ttotal: 4.23s\tremaining: 3.79s\n",
      "527:\tlearn: 0.3440730\ttotal: 4.24s\tremaining: 3.79s\n",
      "528:\tlearn: 0.3440278\ttotal: 4.25s\tremaining: 3.79s\n",
      "529:\tlearn: 0.3439076\ttotal: 4.26s\tremaining: 3.78s\n",
      "530:\tlearn: 0.3438185\ttotal: 4.27s\tremaining: 3.77s\n",
      "531:\tlearn: 0.3436942\ttotal: 4.28s\tremaining: 3.76s\n",
      "532:\tlearn: 0.3435813\ttotal: 4.29s\tremaining: 3.75s\n",
      "533:\tlearn: 0.3434582\ttotal: 4.29s\tremaining: 3.75s\n",
      "534:\tlearn: 0.3434129\ttotal: 4.3s\tremaining: 3.74s\n",
      "535:\tlearn: 0.3432510\ttotal: 4.31s\tremaining: 3.73s\n",
      "536:\tlearn: 0.3432510\ttotal: 4.31s\tremaining: 3.72s\n",
      "537:\tlearn: 0.3431204\ttotal: 4.32s\tremaining: 3.71s\n",
      "538:\tlearn: 0.3430004\ttotal: 4.33s\tremaining: 3.7s\n",
      "539:\tlearn: 0.3429061\ttotal: 4.34s\tremaining: 3.7s\n",
      "540:\tlearn: 0.3427728\ttotal: 4.35s\tremaining: 3.69s\n",
      "541:\tlearn: 0.3427728\ttotal: 4.35s\tremaining: 3.68s\n",
      "542:\tlearn: 0.3426949\ttotal: 4.36s\tremaining: 3.67s\n",
      "543:\tlearn: 0.3425846\ttotal: 4.37s\tremaining: 3.66s\n",
      "544:\tlearn: 0.3425708\ttotal: 4.37s\tremaining: 3.65s\n",
      "545:\tlearn: 0.3424831\ttotal: 4.38s\tremaining: 3.64s\n",
      "546:\tlearn: 0.3423518\ttotal: 4.39s\tremaining: 3.63s\n",
      "547:\tlearn: 0.3422572\ttotal: 4.39s\tremaining: 3.62s\n",
      "548:\tlearn: 0.3420109\ttotal: 4.41s\tremaining: 3.62s\n",
      "549:\tlearn: 0.3419637\ttotal: 4.42s\tremaining: 3.61s\n",
      "550:\tlearn: 0.3419279\ttotal: 4.42s\tremaining: 3.6s\n",
      "551:\tlearn: 0.3417964\ttotal: 4.43s\tremaining: 3.59s\n",
      "552:\tlearn: 0.3417219\ttotal: 4.43s\tremaining: 3.58s\n",
      "553:\tlearn: 0.3414272\ttotal: 4.44s\tremaining: 3.58s\n",
      "554:\tlearn: 0.3413860\ttotal: 4.45s\tremaining: 3.57s\n",
      "555:\tlearn: 0.3413858\ttotal: 4.45s\tremaining: 3.55s\n",
      "556:\tlearn: 0.3413422\ttotal: 4.45s\tremaining: 3.54s\n",
      "557:\tlearn: 0.3412176\ttotal: 4.46s\tremaining: 3.53s\n",
      "558:\tlearn: 0.3411976\ttotal: 4.46s\tremaining: 3.52s\n",
      "559:\tlearn: 0.3411238\ttotal: 4.46s\tremaining: 3.51s\n",
      "560:\tlearn: 0.3409441\ttotal: 4.47s\tremaining: 3.5s\n",
      "561:\tlearn: 0.3408346\ttotal: 4.48s\tremaining: 3.49s\n",
      "562:\tlearn: 0.3407904\ttotal: 4.49s\tremaining: 3.49s\n",
      "563:\tlearn: 0.3407263\ttotal: 4.5s\tremaining: 3.48s\n",
      "564:\tlearn: 0.3406677\ttotal: 4.5s\tremaining: 3.46s\n",
      "565:\tlearn: 0.3405864\ttotal: 4.51s\tremaining: 3.46s\n",
      "566:\tlearn: 0.3405039\ttotal: 4.51s\tremaining: 3.45s\n",
      "567:\tlearn: 0.3404211\ttotal: 4.52s\tremaining: 3.44s\n",
      "568:\tlearn: 0.3403118\ttotal: 4.53s\tremaining: 3.43s\n",
      "569:\tlearn: 0.3402934\ttotal: 4.53s\tremaining: 3.42s\n",
      "570:\tlearn: 0.3402045\ttotal: 4.53s\tremaining: 3.4s\n",
      "571:\tlearn: 0.3401494\ttotal: 4.54s\tremaining: 3.39s\n",
      "572:\tlearn: 0.3400710\ttotal: 4.54s\tremaining: 3.39s\n",
      "573:\tlearn: 0.3399806\ttotal: 4.55s\tremaining: 3.37s\n",
      "574:\tlearn: 0.3399458\ttotal: 4.55s\tremaining: 3.36s\n",
      "575:\tlearn: 0.3396874\ttotal: 4.56s\tremaining: 3.36s\n",
      "576:\tlearn: 0.3396774\ttotal: 4.56s\tremaining: 3.35s\n",
      "577:\tlearn: 0.3394494\ttotal: 4.57s\tremaining: 3.34s\n",
      "578:\tlearn: 0.3393905\ttotal: 4.58s\tremaining: 3.33s\n",
      "579:\tlearn: 0.3393903\ttotal: 4.58s\tremaining: 3.32s\n",
      "580:\tlearn: 0.3392912\ttotal: 4.58s\tremaining: 3.3s\n",
      "581:\tlearn: 0.3391337\ttotal: 4.59s\tremaining: 3.3s\n",
      "582:\tlearn: 0.3390880\ttotal: 4.6s\tremaining: 3.29s\n",
      "583:\tlearn: 0.3389762\ttotal: 4.61s\tremaining: 3.28s\n",
      "584:\tlearn: 0.3387783\ttotal: 4.61s\tremaining: 3.27s\n",
      "585:\tlearn: 0.3387284\ttotal: 4.62s\tremaining: 3.26s\n",
      "586:\tlearn: 0.3386841\ttotal: 4.63s\tremaining: 3.25s\n",
      "587:\tlearn: 0.3385944\ttotal: 4.63s\tremaining: 3.25s\n",
      "588:\tlearn: 0.3385400\ttotal: 4.64s\tremaining: 3.24s\n",
      "589:\tlearn: 0.3385067\ttotal: 4.64s\tremaining: 3.23s\n",
      "590:\tlearn: 0.3384026\ttotal: 4.64s\tremaining: 3.21s\n",
      "591:\tlearn: 0.3383847\ttotal: 4.65s\tremaining: 3.2s\n",
      "592:\tlearn: 0.3383546\ttotal: 4.65s\tremaining: 3.19s\n",
      "593:\tlearn: 0.3383189\ttotal: 4.66s\tremaining: 3.18s\n",
      "594:\tlearn: 0.3382136\ttotal: 4.66s\tremaining: 3.17s\n",
      "595:\tlearn: 0.3381934\ttotal: 4.67s\tremaining: 3.16s\n",
      "596:\tlearn: 0.3381139\ttotal: 4.68s\tremaining: 3.16s\n",
      "597:\tlearn: 0.3380964\ttotal: 4.68s\tremaining: 3.14s\n",
      "598:\tlearn: 0.3379952\ttotal: 4.69s\tremaining: 3.14s\n",
      "599:\tlearn: 0.3378975\ttotal: 4.7s\tremaining: 3.13s\n",
      "600:\tlearn: 0.3378804\ttotal: 4.7s\tremaining: 3.12s\n",
      "601:\tlearn: 0.3378366\ttotal: 4.71s\tremaining: 3.11s\n",
      "602:\tlearn: 0.3378346\ttotal: 4.71s\tremaining: 3.1s\n",
      "603:\tlearn: 0.3377023\ttotal: 4.72s\tremaining: 3.1s\n",
      "604:\tlearn: 0.3375642\ttotal: 4.73s\tremaining: 3.09s\n",
      "605:\tlearn: 0.3374630\ttotal: 4.74s\tremaining: 3.08s\n",
      "606:\tlearn: 0.3374467\ttotal: 4.74s\tremaining: 3.07s\n",
      "607:\tlearn: 0.3374467\ttotal: 4.75s\tremaining: 3.06s\n",
      "608:\tlearn: 0.3373326\ttotal: 4.76s\tremaining: 3.05s\n",
      "609:\tlearn: 0.3372533\ttotal: 4.77s\tremaining: 3.05s\n",
      "610:\tlearn: 0.3371507\ttotal: 4.78s\tremaining: 3.04s\n",
      "611:\tlearn: 0.3370623\ttotal: 4.79s\tremaining: 3.03s\n",
      "612:\tlearn: 0.3369155\ttotal: 4.81s\tremaining: 3.04s\n",
      "613:\tlearn: 0.3367561\ttotal: 4.83s\tremaining: 3.04s\n",
      "614:\tlearn: 0.3366829\ttotal: 4.84s\tremaining: 3.03s\n",
      "615:\tlearn: 0.3365664\ttotal: 4.84s\tremaining: 3.02s\n",
      "616:\tlearn: 0.3364997\ttotal: 4.85s\tremaining: 3.01s\n",
      "617:\tlearn: 0.3364402\ttotal: 4.85s\tremaining: 3s\n",
      "618:\tlearn: 0.3362651\ttotal: 4.87s\tremaining: 3s\n",
      "619:\tlearn: 0.3361245\ttotal: 4.88s\tremaining: 2.99s\n",
      "620:\tlearn: 0.3360362\ttotal: 4.88s\tremaining: 2.98s\n",
      "621:\tlearn: 0.3359747\ttotal: 4.89s\tremaining: 2.97s\n",
      "622:\tlearn: 0.3358697\ttotal: 4.91s\tremaining: 2.97s\n",
      "623:\tlearn: 0.3357220\ttotal: 4.91s\tremaining: 2.96s\n",
      "624:\tlearn: 0.3354610\ttotal: 4.92s\tremaining: 2.95s\n",
      "625:\tlearn: 0.3353476\ttotal: 4.93s\tremaining: 2.94s\n",
      "626:\tlearn: 0.3353173\ttotal: 4.93s\tremaining: 2.93s\n",
      "627:\tlearn: 0.3351653\ttotal: 4.93s\tremaining: 2.92s\n",
      "628:\tlearn: 0.3351492\ttotal: 4.94s\tremaining: 2.91s\n",
      "629:\tlearn: 0.3349377\ttotal: 4.95s\tremaining: 2.91s\n",
      "630:\tlearn: 0.3349064\ttotal: 4.96s\tremaining: 2.9s\n",
      "631:\tlearn: 0.3347359\ttotal: 4.97s\tremaining: 2.89s\n",
      "632:\tlearn: 0.3347067\ttotal: 4.97s\tremaining: 2.88s\n",
      "633:\tlearn: 0.3346774\ttotal: 4.98s\tremaining: 2.87s\n",
      "634:\tlearn: 0.3346153\ttotal: 4.98s\tremaining: 2.87s\n",
      "635:\tlearn: 0.3345323\ttotal: 5s\tremaining: 2.86s\n",
      "636:\tlearn: 0.3344749\ttotal: 5.01s\tremaining: 2.85s\n",
      "637:\tlearn: 0.3343883\ttotal: 5.02s\tremaining: 2.85s\n",
      "638:\tlearn: 0.3343685\ttotal: 5.02s\tremaining: 2.83s\n",
      "639:\tlearn: 0.3342950\ttotal: 5.02s\tremaining: 2.83s\n",
      "640:\tlearn: 0.3342802\ttotal: 5.02s\tremaining: 2.81s\n",
      "641:\tlearn: 0.3342386\ttotal: 5.03s\tremaining: 2.81s\n",
      "642:\tlearn: 0.3341373\ttotal: 5.04s\tremaining: 2.8s\n",
      "643:\tlearn: 0.3340787\ttotal: 5.05s\tremaining: 2.79s\n",
      "644:\tlearn: 0.3340234\ttotal: 5.05s\tremaining: 2.78s\n",
      "645:\tlearn: 0.3339591\ttotal: 5.06s\tremaining: 2.77s\n",
      "646:\tlearn: 0.3339559\ttotal: 5.06s\tremaining: 2.76s\n",
      "647:\tlearn: 0.3339002\ttotal: 5.07s\tremaining: 2.75s\n",
      "648:\tlearn: 0.3338859\ttotal: 5.07s\tremaining: 2.74s\n",
      "649:\tlearn: 0.3338477\ttotal: 5.07s\tremaining: 2.73s\n",
      "650:\tlearn: 0.3336856\ttotal: 5.08s\tremaining: 2.72s\n",
      "651:\tlearn: 0.3335677\ttotal: 5.08s\tremaining: 2.71s\n",
      "652:\tlearn: 0.3335423\ttotal: 5.09s\tremaining: 2.7s\n",
      "653:\tlearn: 0.3335165\ttotal: 5.09s\tremaining: 2.69s\n",
      "654:\tlearn: 0.3333709\ttotal: 5.1s\tremaining: 2.69s\n",
      "655:\tlearn: 0.3332763\ttotal: 5.11s\tremaining: 2.68s\n",
      "656:\tlearn: 0.3331561\ttotal: 5.12s\tremaining: 2.67s\n",
      "657:\tlearn: 0.3330048\ttotal: 5.12s\tremaining: 2.66s\n",
      "658:\tlearn: 0.3328492\ttotal: 5.13s\tremaining: 2.65s\n",
      "659:\tlearn: 0.3327253\ttotal: 5.14s\tremaining: 2.65s\n",
      "660:\tlearn: 0.3326454\ttotal: 5.16s\tremaining: 2.64s\n",
      "661:\tlearn: 0.3325623\ttotal: 5.16s\tremaining: 2.63s\n",
      "662:\tlearn: 0.3325348\ttotal: 5.17s\tremaining: 2.63s\n",
      "663:\tlearn: 0.3325007\ttotal: 5.18s\tremaining: 2.62s\n",
      "664:\tlearn: 0.3324492\ttotal: 5.19s\tremaining: 2.61s\n",
      "665:\tlearn: 0.3323585\ttotal: 5.19s\tremaining: 2.6s\n",
      "666:\tlearn: 0.3322375\ttotal: 5.2s\tremaining: 2.6s\n"
     ]
    },
    {
     "name": "stdout",
     "output_type": "stream",
     "text": [
      "667:\tlearn: 0.3322375\ttotal: 5.2s\tremaining: 2.58s\n",
      "668:\tlearn: 0.3321897\ttotal: 5.2s\tremaining: 2.57s\n",
      "669:\tlearn: 0.3321358\ttotal: 5.21s\tremaining: 2.56s\n",
      "670:\tlearn: 0.3321074\ttotal: 5.22s\tremaining: 2.56s\n",
      "671:\tlearn: 0.3320818\ttotal: 5.23s\tremaining: 2.55s\n",
      "672:\tlearn: 0.3320009\ttotal: 5.23s\tremaining: 2.54s\n",
      "673:\tlearn: 0.3319991\ttotal: 5.23s\tremaining: 2.53s\n",
      "674:\tlearn: 0.3319991\ttotal: 5.23s\tremaining: 2.52s\n",
      "675:\tlearn: 0.3319062\ttotal: 5.24s\tremaining: 2.51s\n",
      "676:\tlearn: 0.3316957\ttotal: 5.26s\tremaining: 2.51s\n",
      "677:\tlearn: 0.3316957\ttotal: 5.26s\tremaining: 2.5s\n",
      "678:\tlearn: 0.3315693\ttotal: 5.27s\tremaining: 2.49s\n",
      "679:\tlearn: 0.3315495\ttotal: 5.27s\tremaining: 2.48s\n",
      "680:\tlearn: 0.3315141\ttotal: 5.28s\tremaining: 2.47s\n",
      "681:\tlearn: 0.3314769\ttotal: 5.28s\tremaining: 2.46s\n",
      "682:\tlearn: 0.3314638\ttotal: 5.29s\tremaining: 2.45s\n",
      "683:\tlearn: 0.3313840\ttotal: 5.3s\tremaining: 2.45s\n",
      "684:\tlearn: 0.3312546\ttotal: 5.31s\tremaining: 2.44s\n",
      "685:\tlearn: 0.3311441\ttotal: 5.32s\tremaining: 2.43s\n",
      "686:\tlearn: 0.3311310\ttotal: 5.32s\tremaining: 2.42s\n",
      "687:\tlearn: 0.3310997\ttotal: 5.33s\tremaining: 2.42s\n",
      "688:\tlearn: 0.3310732\ttotal: 5.33s\tremaining: 2.41s\n",
      "689:\tlearn: 0.3310124\ttotal: 5.33s\tremaining: 2.4s\n",
      "690:\tlearn: 0.3309982\ttotal: 5.34s\tremaining: 2.39s\n",
      "691:\tlearn: 0.3309867\ttotal: 5.34s\tremaining: 2.38s\n",
      "692:\tlearn: 0.3309715\ttotal: 5.34s\tremaining: 2.37s\n",
      "693:\tlearn: 0.3309715\ttotal: 5.34s\tremaining: 2.36s\n",
      "694:\tlearn: 0.3308964\ttotal: 5.35s\tremaining: 2.35s\n",
      "695:\tlearn: 0.3307975\ttotal: 5.36s\tremaining: 2.34s\n",
      "696:\tlearn: 0.3307494\ttotal: 5.36s\tremaining: 2.33s\n",
      "697:\tlearn: 0.3306515\ttotal: 5.37s\tremaining: 2.32s\n",
      "698:\tlearn: 0.3306104\ttotal: 5.38s\tremaining: 2.32s\n",
      "699:\tlearn: 0.3304943\ttotal: 5.39s\tremaining: 2.31s\n",
      "700:\tlearn: 0.3303964\ttotal: 5.39s\tremaining: 2.3s\n",
      "701:\tlearn: 0.3303823\ttotal: 5.4s\tremaining: 2.29s\n",
      "702:\tlearn: 0.3303295\ttotal: 5.4s\tremaining: 2.28s\n",
      "703:\tlearn: 0.3302096\ttotal: 5.41s\tremaining: 2.28s\n",
      "704:\tlearn: 0.3301444\ttotal: 5.42s\tremaining: 2.27s\n",
      "705:\tlearn: 0.3301245\ttotal: 5.42s\tremaining: 2.26s\n",
      "706:\tlearn: 0.3301245\ttotal: 5.42s\tremaining: 2.25s\n",
      "707:\tlearn: 0.3301244\ttotal: 5.42s\tremaining: 2.23s\n",
      "708:\tlearn: 0.3301165\ttotal: 5.42s\tremaining: 2.23s\n",
      "709:\tlearn: 0.3300905\ttotal: 5.42s\tremaining: 2.21s\n",
      "710:\tlearn: 0.3300905\ttotal: 5.42s\tremaining: 2.21s\n",
      "711:\tlearn: 0.3300079\ttotal: 5.43s\tremaining: 2.2s\n",
      "712:\tlearn: 0.3299958\ttotal: 5.43s\tremaining: 2.19s\n",
      "713:\tlearn: 0.3299830\ttotal: 5.44s\tremaining: 2.18s\n",
      "714:\tlearn: 0.3299712\ttotal: 5.44s\tremaining: 2.17s\n",
      "715:\tlearn: 0.3298980\ttotal: 5.44s\tremaining: 2.16s\n",
      "716:\tlearn: 0.3297012\ttotal: 5.45s\tremaining: 2.15s\n",
      "717:\tlearn: 0.3296770\ttotal: 5.46s\tremaining: 2.14s\n",
      "718:\tlearn: 0.3295887\ttotal: 5.46s\tremaining: 2.13s\n",
      "719:\tlearn: 0.3295887\ttotal: 5.46s\tremaining: 2.12s\n",
      "720:\tlearn: 0.3295272\ttotal: 5.47s\tremaining: 2.12s\n",
      "721:\tlearn: 0.3294193\ttotal: 5.48s\tremaining: 2.11s\n",
      "722:\tlearn: 0.3292547\ttotal: 5.49s\tremaining: 2.1s\n",
      "723:\tlearn: 0.3291829\ttotal: 5.49s\tremaining: 2.09s\n",
      "724:\tlearn: 0.3291157\ttotal: 5.49s\tremaining: 2.08s\n",
      "725:\tlearn: 0.3290453\ttotal: 5.5s\tremaining: 2.08s\n",
      "726:\tlearn: 0.3290387\ttotal: 5.5s\tremaining: 2.07s\n",
      "727:\tlearn: 0.3289874\ttotal: 5.51s\tremaining: 2.06s\n",
      "728:\tlearn: 0.3289158\ttotal: 5.52s\tremaining: 2.05s\n",
      "729:\tlearn: 0.3288318\ttotal: 5.53s\tremaining: 2.04s\n",
      "730:\tlearn: 0.3287162\ttotal: 5.54s\tremaining: 2.04s\n",
      "731:\tlearn: 0.3285615\ttotal: 5.56s\tremaining: 2.03s\n",
      "732:\tlearn: 0.3285615\ttotal: 5.56s\tremaining: 2.02s\n",
      "733:\tlearn: 0.3283569\ttotal: 5.57s\tremaining: 2.02s\n",
      "734:\tlearn: 0.3282889\ttotal: 5.58s\tremaining: 2.01s\n",
      "735:\tlearn: 0.3282699\ttotal: 5.58s\tremaining: 2s\n",
      "736:\tlearn: 0.3281765\ttotal: 5.59s\tremaining: 2s\n",
      "737:\tlearn: 0.3280850\ttotal: 5.59s\tremaining: 1.99s\n",
      "738:\tlearn: 0.3280066\ttotal: 5.61s\tremaining: 1.98s\n",
      "739:\tlearn: 0.3279109\ttotal: 5.62s\tremaining: 1.97s\n",
      "740:\tlearn: 0.3278874\ttotal: 5.62s\tremaining: 1.96s\n",
      "741:\tlearn: 0.3278176\ttotal: 5.63s\tremaining: 1.96s\n",
      "742:\tlearn: 0.3277600\ttotal: 5.63s\tremaining: 1.95s\n",
      "743:\tlearn: 0.3277074\ttotal: 5.64s\tremaining: 1.94s\n",
      "744:\tlearn: 0.3276656\ttotal: 5.64s\tremaining: 1.93s\n",
      "745:\tlearn: 0.3276553\ttotal: 5.65s\tremaining: 1.92s\n",
      "746:\tlearn: 0.3274768\ttotal: 5.66s\tremaining: 1.92s\n",
      "747:\tlearn: 0.3273378\ttotal: 5.67s\tremaining: 1.91s\n",
      "748:\tlearn: 0.3272603\ttotal: 5.68s\tremaining: 1.91s\n",
      "749:\tlearn: 0.3270848\ttotal: 5.7s\tremaining: 1.9s\n",
      "750:\tlearn: 0.3270195\ttotal: 5.7s\tremaining: 1.89s\n",
      "751:\tlearn: 0.3270095\ttotal: 5.7s\tremaining: 1.88s\n",
      "752:\tlearn: 0.3269963\ttotal: 5.71s\tremaining: 1.87s\n",
      "753:\tlearn: 0.3268825\ttotal: 5.72s\tremaining: 1.87s\n",
      "754:\tlearn: 0.3268727\ttotal: 5.72s\tremaining: 1.86s\n",
      "755:\tlearn: 0.3266297\ttotal: 5.74s\tremaining: 1.85s\n",
      "756:\tlearn: 0.3265059\ttotal: 5.75s\tremaining: 1.85s\n",
      "757:\tlearn: 0.3264294\ttotal: 5.76s\tremaining: 1.84s\n",
      "758:\tlearn: 0.3262777\ttotal: 5.79s\tremaining: 1.84s\n",
      "759:\tlearn: 0.3262586\ttotal: 5.79s\tremaining: 1.83s\n",
      "760:\tlearn: 0.3262559\ttotal: 5.8s\tremaining: 1.82s\n",
      "761:\tlearn: 0.3261647\ttotal: 5.81s\tremaining: 1.81s\n",
      "762:\tlearn: 0.3260914\ttotal: 5.81s\tremaining: 1.8s\n",
      "763:\tlearn: 0.3260341\ttotal: 5.82s\tremaining: 1.8s\n",
      "764:\tlearn: 0.3260341\ttotal: 5.82s\tremaining: 1.79s\n",
      "765:\tlearn: 0.3259897\ttotal: 5.83s\tremaining: 1.78s\n",
      "766:\tlearn: 0.3257979\ttotal: 5.84s\tremaining: 1.77s\n",
      "767:\tlearn: 0.3256662\ttotal: 5.86s\tremaining: 1.77s\n",
      "768:\tlearn: 0.3255430\ttotal: 5.86s\tremaining: 1.76s\n",
      "769:\tlearn: 0.3255426\ttotal: 5.87s\tremaining: 1.75s\n",
      "770:\tlearn: 0.3254607\ttotal: 5.88s\tremaining: 1.75s\n",
      "771:\tlearn: 0.3253688\ttotal: 5.89s\tremaining: 1.74s\n",
      "772:\tlearn: 0.3253688\ttotal: 5.89s\tremaining: 1.73s\n",
      "773:\tlearn: 0.3252939\ttotal: 5.89s\tremaining: 1.72s\n",
      "774:\tlearn: 0.3252104\ttotal: 5.91s\tremaining: 1.72s\n",
      "775:\tlearn: 0.3251383\ttotal: 5.92s\tremaining: 1.71s\n",
      "776:\tlearn: 0.3250816\ttotal: 5.92s\tremaining: 1.7s\n",
      "777:\tlearn: 0.3248881\ttotal: 5.93s\tremaining: 1.69s\n",
      "778:\tlearn: 0.3248831\ttotal: 5.93s\tremaining: 1.68s\n",
      "779:\tlearn: 0.3248831\ttotal: 5.94s\tremaining: 1.67s\n",
      "780:\tlearn: 0.3247565\ttotal: 5.94s\tremaining: 1.67s\n",
      "781:\tlearn: 0.3246740\ttotal: 5.94s\tremaining: 1.66s\n",
      "782:\tlearn: 0.3246380\ttotal: 5.95s\tremaining: 1.65s\n",
      "783:\tlearn: 0.3245224\ttotal: 5.95s\tremaining: 1.64s\n",
      "784:\tlearn: 0.3244419\ttotal: 5.96s\tremaining: 1.63s\n",
      "785:\tlearn: 0.3244419\ttotal: 5.96s\tremaining: 1.62s\n",
      "786:\tlearn: 0.3243792\ttotal: 5.97s\tremaining: 1.61s\n",
      "787:\tlearn: 0.3242238\ttotal: 5.97s\tremaining: 1.61s\n",
      "788:\tlearn: 0.3242177\ttotal: 5.98s\tremaining: 1.6s\n",
      "789:\tlearn: 0.3241287\ttotal: 5.98s\tremaining: 1.59s\n",
      "790:\tlearn: 0.3240245\ttotal: 5.99s\tremaining: 1.58s\n",
      "791:\tlearn: 0.3238796\ttotal: 5.99s\tremaining: 1.57s\n",
      "792:\tlearn: 0.3238711\ttotal: 5.99s\tremaining: 1.56s\n",
      "793:\tlearn: 0.3238571\ttotal: 6s\tremaining: 1.56s\n",
      "794:\tlearn: 0.3237678\ttotal: 6.01s\tremaining: 1.55s\n",
      "795:\tlearn: 0.3236379\ttotal: 6.02s\tremaining: 1.54s\n",
      "796:\tlearn: 0.3234546\ttotal: 6.03s\tremaining: 1.53s\n",
      "797:\tlearn: 0.3234443\ttotal: 6.03s\tremaining: 1.53s\n",
      "798:\tlearn: 0.3233907\ttotal: 6.04s\tremaining: 1.52s\n",
      "799:\tlearn: 0.3232851\ttotal: 6.06s\tremaining: 1.51s\n",
      "800:\tlearn: 0.3231814\ttotal: 6.06s\tremaining: 1.51s\n",
      "801:\tlearn: 0.3231651\ttotal: 6.07s\tremaining: 1.5s\n",
      "802:\tlearn: 0.3230365\ttotal: 6.08s\tremaining: 1.49s\n",
      "803:\tlearn: 0.3229767\ttotal: 6.1s\tremaining: 1.49s\n",
      "804:\tlearn: 0.3228890\ttotal: 6.11s\tremaining: 1.48s\n",
      "805:\tlearn: 0.3227463\ttotal: 6.12s\tremaining: 1.47s\n",
      "806:\tlearn: 0.3226996\ttotal: 6.13s\tremaining: 1.47s\n",
      "807:\tlearn: 0.3226046\ttotal: 6.14s\tremaining: 1.46s\n",
      "808:\tlearn: 0.3225618\ttotal: 6.14s\tremaining: 1.45s\n",
      "809:\tlearn: 0.3225520\ttotal: 6.14s\tremaining: 1.44s\n",
      "810:\tlearn: 0.3224946\ttotal: 6.15s\tremaining: 1.43s\n",
      "811:\tlearn: 0.3224126\ttotal: 6.16s\tremaining: 1.43s\n",
      "812:\tlearn: 0.3223074\ttotal: 6.18s\tremaining: 1.42s\n",
      "813:\tlearn: 0.3221899\ttotal: 6.19s\tremaining: 1.41s\n",
      "814:\tlearn: 0.3220499\ttotal: 6.2s\tremaining: 1.41s\n",
      "815:\tlearn: 0.3219555\ttotal: 6.21s\tremaining: 1.4s\n",
      "816:\tlearn: 0.3219450\ttotal: 6.22s\tremaining: 1.39s\n",
      "817:\tlearn: 0.3218534\ttotal: 6.23s\tremaining: 1.39s\n",
      "818:\tlearn: 0.3218242\ttotal: 6.24s\tremaining: 1.38s\n",
      "819:\tlearn: 0.3217003\ttotal: 6.25s\tremaining: 1.37s\n",
      "820:\tlearn: 0.3216932\ttotal: 6.25s\tremaining: 1.36s\n",
      "821:\tlearn: 0.3216326\ttotal: 6.26s\tremaining: 1.36s\n",
      "822:\tlearn: 0.3215542\ttotal: 6.28s\tremaining: 1.35s\n",
      "823:\tlearn: 0.3215161\ttotal: 6.29s\tremaining: 1.34s\n",
      "824:\tlearn: 0.3213443\ttotal: 6.3s\tremaining: 1.34s\n",
      "825:\tlearn: 0.3213202\ttotal: 6.31s\tremaining: 1.33s\n",
      "826:\tlearn: 0.3212755\ttotal: 6.32s\tremaining: 1.32s\n",
      "827:\tlearn: 0.3212613\ttotal: 6.32s\tremaining: 1.31s\n",
      "828:\tlearn: 0.3212428\ttotal: 6.32s\tremaining: 1.3s\n",
      "829:\tlearn: 0.3211169\ttotal: 6.34s\tremaining: 1.3s\n",
      "830:\tlearn: 0.3209814\ttotal: 6.35s\tremaining: 1.29s\n",
      "831:\tlearn: 0.3209185\ttotal: 6.36s\tremaining: 1.28s\n",
      "832:\tlearn: 0.3207627\ttotal: 6.37s\tremaining: 1.28s\n",
      "833:\tlearn: 0.3206350\ttotal: 6.38s\tremaining: 1.27s\n",
      "834:\tlearn: 0.3205636\ttotal: 6.39s\tremaining: 1.26s\n",
      "835:\tlearn: 0.3205238\ttotal: 6.4s\tremaining: 1.26s\n",
      "836:\tlearn: 0.3204457\ttotal: 6.42s\tremaining: 1.25s\n",
      "837:\tlearn: 0.3203344\ttotal: 6.43s\tremaining: 1.24s\n",
      "838:\tlearn: 0.3201897\ttotal: 6.44s\tremaining: 1.24s\n",
      "839:\tlearn: 0.3201485\ttotal: 6.44s\tremaining: 1.23s\n",
      "840:\tlearn: 0.3201003\ttotal: 6.45s\tremaining: 1.22s\n",
      "841:\tlearn: 0.3200225\ttotal: 6.46s\tremaining: 1.21s\n",
      "842:\tlearn: 0.3199524\ttotal: 6.48s\tremaining: 1.21s\n",
      "843:\tlearn: 0.3199524\ttotal: 6.48s\tremaining: 1.2s\n"
     ]
    },
    {
     "name": "stdout",
     "output_type": "stream",
     "text": [
      "844:\tlearn: 0.3198874\ttotal: 6.49s\tremaining: 1.19s\n",
      "845:\tlearn: 0.3196209\ttotal: 6.5s\tremaining: 1.18s\n",
      "846:\tlearn: 0.3195104\ttotal: 6.51s\tremaining: 1.18s\n",
      "847:\tlearn: 0.3193915\ttotal: 6.52s\tremaining: 1.17s\n",
      "848:\tlearn: 0.3193605\ttotal: 6.53s\tremaining: 1.16s\n",
      "849:\tlearn: 0.3193515\ttotal: 6.53s\tremaining: 1.15s\n",
      "850:\tlearn: 0.3193424\ttotal: 6.54s\tremaining: 1.14s\n",
      "851:\tlearn: 0.3192777\ttotal: 6.54s\tremaining: 1.14s\n",
      "852:\tlearn: 0.3192411\ttotal: 6.56s\tremaining: 1.13s\n",
      "853:\tlearn: 0.3191371\ttotal: 6.58s\tremaining: 1.12s\n",
      "854:\tlearn: 0.3190892\ttotal: 6.59s\tremaining: 1.12s\n",
      "855:\tlearn: 0.3190618\ttotal: 6.6s\tremaining: 1.11s\n",
      "856:\tlearn: 0.3189724\ttotal: 6.63s\tremaining: 1.11s\n",
      "857:\tlearn: 0.3189235\ttotal: 6.64s\tremaining: 1.1s\n",
      "858:\tlearn: 0.3188276\ttotal: 6.66s\tremaining: 1.09s\n",
      "859:\tlearn: 0.3187490\ttotal: 6.67s\tremaining: 1.09s\n",
      "860:\tlearn: 0.3187015\ttotal: 6.68s\tremaining: 1.08s\n",
      "861:\tlearn: 0.3185409\ttotal: 6.7s\tremaining: 1.07s\n",
      "862:\tlearn: 0.3184806\ttotal: 6.72s\tremaining: 1.07s\n",
      "863:\tlearn: 0.3184504\ttotal: 6.74s\tremaining: 1.06s\n",
      "864:\tlearn: 0.3183873\ttotal: 6.75s\tremaining: 1.05s\n",
      "865:\tlearn: 0.3182631\ttotal: 6.76s\tremaining: 1.04s\n",
      "866:\tlearn: 0.3182576\ttotal: 6.76s\tremaining: 1.04s\n",
      "867:\tlearn: 0.3182184\ttotal: 6.78s\tremaining: 1.03s\n",
      "868:\tlearn: 0.3181642\ttotal: 6.79s\tremaining: 1.02s\n",
      "869:\tlearn: 0.3180790\ttotal: 6.81s\tremaining: 1.02s\n",
      "870:\tlearn: 0.3178860\ttotal: 6.83s\tremaining: 1.01s\n",
      "871:\tlearn: 0.3178489\ttotal: 6.84s\tremaining: 1s\n",
      "872:\tlearn: 0.3176804\ttotal: 6.85s\tremaining: 997ms\n",
      "873:\tlearn: 0.3176613\ttotal: 6.86s\tremaining: 989ms\n",
      "874:\tlearn: 0.3173840\ttotal: 6.88s\tremaining: 983ms\n",
      "875:\tlearn: 0.3173647\ttotal: 6.88s\tremaining: 974ms\n",
      "876:\tlearn: 0.3172833\ttotal: 6.89s\tremaining: 967ms\n",
      "877:\tlearn: 0.3171927\ttotal: 6.91s\tremaining: 960ms\n",
      "878:\tlearn: 0.3170934\ttotal: 6.92s\tremaining: 953ms\n",
      "879:\tlearn: 0.3169965\ttotal: 6.94s\tremaining: 946ms\n",
      "880:\tlearn: 0.3169850\ttotal: 6.94s\tremaining: 938ms\n",
      "881:\tlearn: 0.3169504\ttotal: 6.95s\tremaining: 930ms\n",
      "882:\tlearn: 0.3168311\ttotal: 6.97s\tremaining: 924ms\n",
      "883:\tlearn: 0.3167868\ttotal: 6.98s\tremaining: 916ms\n",
      "884:\tlearn: 0.3167685\ttotal: 6.98s\tremaining: 907ms\n",
      "885:\tlearn: 0.3166370\ttotal: 7s\tremaining: 901ms\n",
      "886:\tlearn: 0.3164030\ttotal: 7.02s\tremaining: 894ms\n",
      "887:\tlearn: 0.3162963\ttotal: 7.04s\tremaining: 887ms\n",
      "888:\tlearn: 0.3161564\ttotal: 7.05s\tremaining: 880ms\n",
      "889:\tlearn: 0.3160894\ttotal: 7.06s\tremaining: 873ms\n",
      "890:\tlearn: 0.3160835\ttotal: 7.07s\tremaining: 865ms\n",
      "891:\tlearn: 0.3160270\ttotal: 7.08s\tremaining: 857ms\n",
      "892:\tlearn: 0.3159797\ttotal: 7.09s\tremaining: 850ms\n",
      "893:\tlearn: 0.3159254\ttotal: 7.1s\tremaining: 842ms\n",
      "894:\tlearn: 0.3158354\ttotal: 7.1s\tremaining: 834ms\n",
      "895:\tlearn: 0.3157003\ttotal: 7.13s\tremaining: 827ms\n",
      "896:\tlearn: 0.3156150\ttotal: 7.13s\tremaining: 819ms\n",
      "897:\tlearn: 0.3155503\ttotal: 7.14s\tremaining: 811ms\n",
      "898:\tlearn: 0.3155207\ttotal: 7.14s\tremaining: 803ms\n",
      "899:\tlearn: 0.3155002\ttotal: 7.15s\tremaining: 795ms\n",
      "900:\tlearn: 0.3154861\ttotal: 7.16s\tremaining: 786ms\n",
      "901:\tlearn: 0.3154808\ttotal: 7.16s\tremaining: 778ms\n",
      "902:\tlearn: 0.3154748\ttotal: 7.16s\tremaining: 769ms\n",
      "903:\tlearn: 0.3154108\ttotal: 7.17s\tremaining: 761ms\n",
      "904:\tlearn: 0.3153540\ttotal: 7.18s\tremaining: 754ms\n",
      "905:\tlearn: 0.3153082\ttotal: 7.19s\tremaining: 746ms\n",
      "906:\tlearn: 0.3152308\ttotal: 7.21s\tremaining: 739ms\n",
      "907:\tlearn: 0.3150949\ttotal: 7.22s\tremaining: 731ms\n",
      "908:\tlearn: 0.3150897\ttotal: 7.22s\tremaining: 723ms\n",
      "909:\tlearn: 0.3150558\ttotal: 7.23s\tremaining: 715ms\n",
      "910:\tlearn: 0.3150498\ttotal: 7.24s\tremaining: 707ms\n",
      "911:\tlearn: 0.3150224\ttotal: 7.25s\tremaining: 699ms\n",
      "912:\tlearn: 0.3149157\ttotal: 7.26s\tremaining: 692ms\n",
      "913:\tlearn: 0.3148895\ttotal: 7.27s\tremaining: 684ms\n",
      "914:\tlearn: 0.3147801\ttotal: 7.28s\tremaining: 676ms\n",
      "915:\tlearn: 0.3146783\ttotal: 7.29s\tremaining: 669ms\n",
      "916:\tlearn: 0.3146510\ttotal: 7.3s\tremaining: 661ms\n",
      "917:\tlearn: 0.3145706\ttotal: 7.32s\tremaining: 654ms\n",
      "918:\tlearn: 0.3145418\ttotal: 7.32s\tremaining: 645ms\n",
      "919:\tlearn: 0.3145130\ttotal: 7.33s\tremaining: 637ms\n",
      "920:\tlearn: 0.3143879\ttotal: 7.34s\tremaining: 630ms\n",
      "921:\tlearn: 0.3141910\ttotal: 7.35s\tremaining: 622ms\n",
      "922:\tlearn: 0.3140465\ttotal: 7.36s\tremaining: 614ms\n",
      "923:\tlearn: 0.3139115\ttotal: 7.37s\tremaining: 606ms\n",
      "924:\tlearn: 0.3138749\ttotal: 7.38s\tremaining: 598ms\n",
      "925:\tlearn: 0.3137914\ttotal: 7.38s\tremaining: 590ms\n",
      "926:\tlearn: 0.3137532\ttotal: 7.4s\tremaining: 583ms\n",
      "927:\tlearn: 0.3137045\ttotal: 7.41s\tremaining: 575ms\n",
      "928:\tlearn: 0.3136045\ttotal: 7.43s\tremaining: 568ms\n",
      "929:\tlearn: 0.3135686\ttotal: 7.44s\tremaining: 560ms\n",
      "930:\tlearn: 0.3135287\ttotal: 7.45s\tremaining: 552ms\n",
      "931:\tlearn: 0.3134916\ttotal: 7.46s\tremaining: 545ms\n",
      "932:\tlearn: 0.3134441\ttotal: 7.47s\tremaining: 537ms\n",
      "933:\tlearn: 0.3133959\ttotal: 7.49s\tremaining: 530ms\n",
      "934:\tlearn: 0.3133486\ttotal: 7.5s\tremaining: 522ms\n",
      "935:\tlearn: 0.3133343\ttotal: 7.51s\tremaining: 514ms\n",
      "936:\tlearn: 0.3132676\ttotal: 7.52s\tremaining: 506ms\n",
      "937:\tlearn: 0.3131425\ttotal: 7.54s\tremaining: 499ms\n",
      "938:\tlearn: 0.3130673\ttotal: 7.56s\tremaining: 491ms\n",
      "939:\tlearn: 0.3129953\ttotal: 7.58s\tremaining: 484ms\n",
      "940:\tlearn: 0.3129777\ttotal: 7.58s\tremaining: 475ms\n",
      "941:\tlearn: 0.3129111\ttotal: 7.6s\tremaining: 468ms\n",
      "942:\tlearn: 0.3128095\ttotal: 7.61s\tremaining: 460ms\n",
      "943:\tlearn: 0.3127490\ttotal: 7.62s\tremaining: 452ms\n",
      "944:\tlearn: 0.3126682\ttotal: 7.64s\tremaining: 445ms\n",
      "945:\tlearn: 0.3125442\ttotal: 7.67s\tremaining: 438ms\n",
      "946:\tlearn: 0.3124903\ttotal: 7.68s\tremaining: 430ms\n",
      "947:\tlearn: 0.3123652\ttotal: 7.71s\tremaining: 423ms\n",
      "948:\tlearn: 0.3123265\ttotal: 7.73s\tremaining: 415ms\n",
      "949:\tlearn: 0.3123000\ttotal: 7.73s\tremaining: 407ms\n",
      "950:\tlearn: 0.3122526\ttotal: 7.75s\tremaining: 399ms\n",
      "951:\tlearn: 0.3121902\ttotal: 7.77s\tremaining: 392ms\n",
      "952:\tlearn: 0.3121394\ttotal: 7.78s\tremaining: 384ms\n",
      "953:\tlearn: 0.3120235\ttotal: 7.8s\tremaining: 376ms\n",
      "954:\tlearn: 0.3119744\ttotal: 7.81s\tremaining: 368ms\n",
      "955:\tlearn: 0.3118314\ttotal: 7.82s\tremaining: 360ms\n",
      "956:\tlearn: 0.3117749\ttotal: 7.83s\tremaining: 352ms\n",
      "957:\tlearn: 0.3116476\ttotal: 7.84s\tremaining: 344ms\n",
      "958:\tlearn: 0.3116014\ttotal: 7.85s\tremaining: 336ms\n",
      "959:\tlearn: 0.3115318\ttotal: 7.87s\tremaining: 328ms\n",
      "960:\tlearn: 0.3114636\ttotal: 7.88s\tremaining: 320ms\n",
      "961:\tlearn: 0.3113879\ttotal: 7.88s\tremaining: 311ms\n",
      "962:\tlearn: 0.3113384\ttotal: 7.89s\tremaining: 303ms\n",
      "963:\tlearn: 0.3112844\ttotal: 7.9s\tremaining: 295ms\n",
      "964:\tlearn: 0.3112312\ttotal: 7.9s\tremaining: 287ms\n",
      "965:\tlearn: 0.3111478\ttotal: 7.92s\tremaining: 279ms\n",
      "966:\tlearn: 0.3110271\ttotal: 7.92s\tremaining: 270ms\n",
      "967:\tlearn: 0.3108210\ttotal: 7.94s\tremaining: 263ms\n",
      "968:\tlearn: 0.3107678\ttotal: 7.96s\tremaining: 255ms\n",
      "969:\tlearn: 0.3107035\ttotal: 7.97s\tremaining: 246ms\n",
      "970:\tlearn: 0.3106335\ttotal: 7.97s\tremaining: 238ms\n",
      "971:\tlearn: 0.3105633\ttotal: 7.99s\tremaining: 230ms\n",
      "972:\tlearn: 0.3105086\ttotal: 7.99s\tremaining: 222ms\n",
      "973:\tlearn: 0.3104753\ttotal: 7.99s\tremaining: 213ms\n",
      "974:\tlearn: 0.3102841\ttotal: 8s\tremaining: 205ms\n",
      "975:\tlearn: 0.3102248\ttotal: 8.01s\tremaining: 197ms\n",
      "976:\tlearn: 0.3101803\ttotal: 8.02s\tremaining: 189ms\n",
      "977:\tlearn: 0.3101261\ttotal: 8.03s\tremaining: 181ms\n",
      "978:\tlearn: 0.3099973\ttotal: 8.05s\tremaining: 173ms\n",
      "979:\tlearn: 0.3099407\ttotal: 8.07s\tremaining: 165ms\n",
      "980:\tlearn: 0.3099097\ttotal: 8.08s\tremaining: 157ms\n",
      "981:\tlearn: 0.3098935\ttotal: 8.09s\tremaining: 148ms\n",
      "982:\tlearn: 0.3098307\ttotal: 8.1s\tremaining: 140ms\n",
      "983:\tlearn: 0.3097578\ttotal: 8.12s\tremaining: 132ms\n",
      "984:\tlearn: 0.3097547\ttotal: 8.13s\tremaining: 124ms\n",
      "985:\tlearn: 0.3097084\ttotal: 8.14s\tremaining: 116ms\n",
      "986:\tlearn: 0.3096123\ttotal: 8.15s\tremaining: 107ms\n",
      "987:\tlearn: 0.3095566\ttotal: 8.15s\tremaining: 99ms\n",
      "988:\tlearn: 0.3094073\ttotal: 8.16s\tremaining: 90.8ms\n",
      "989:\tlearn: 0.3091203\ttotal: 8.18s\tremaining: 82.7ms\n",
      "990:\tlearn: 0.3088009\ttotal: 8.2s\tremaining: 74.5ms\n",
      "991:\tlearn: 0.3087554\ttotal: 8.22s\tremaining: 66.3ms\n",
      "992:\tlearn: 0.3087429\ttotal: 8.23s\tremaining: 58ms\n",
      "993:\tlearn: 0.3086641\ttotal: 8.24s\tremaining: 49.7ms\n",
      "994:\tlearn: 0.3085198\ttotal: 8.25s\tremaining: 41.5ms\n",
      "995:\tlearn: 0.3084923\ttotal: 8.26s\tremaining: 33.2ms\n",
      "996:\tlearn: 0.3084132\ttotal: 8.28s\tremaining: 24.9ms\n",
      "997:\tlearn: 0.3083724\ttotal: 8.28s\tremaining: 16.6ms\n",
      "998:\tlearn: 0.3082817\ttotal: 8.3s\tremaining: 8.31ms\n",
      "999:\tlearn: 0.3081159\ttotal: 8.32s\tremaining: 0us\n",
      "0:\tlearn: 0.6564248\ttotal: 4.71ms\tremaining: 466ms\n",
      "1:\tlearn: 0.6235466\ttotal: 9.55ms\tremaining: 468ms\n",
      "2:\tlearn: 0.5967789\ttotal: 13.7ms\tremaining: 442ms\n",
      "3:\tlearn: 0.5718377\ttotal: 15.1ms\tremaining: 362ms\n",
      "4:\tlearn: 0.5569697\ttotal: 15.9ms\tremaining: 302ms\n",
      "5:\tlearn: 0.5387473\ttotal: 17.4ms\tremaining: 272ms\n",
      "6:\tlearn: 0.5222220\ttotal: 18.8ms\tremaining: 250ms\n",
      "7:\tlearn: 0.5069293\ttotal: 20.3ms\tremaining: 234ms\n",
      "8:\tlearn: 0.4965903\ttotal: 21.8ms\tremaining: 221ms\n",
      "9:\tlearn: 0.4860914\ttotal: 23.5ms\tremaining: 211ms\n",
      "10:\tlearn: 0.4746761\ttotal: 24.9ms\tremaining: 202ms\n",
      "11:\tlearn: 0.4658819\ttotal: 26.4ms\tremaining: 193ms\n",
      "12:\tlearn: 0.4593983\ttotal: 27.8ms\tremaining: 186ms\n",
      "13:\tlearn: 0.4519999\ttotal: 29.2ms\tremaining: 179ms\n",
      "14:\tlearn: 0.4463943\ttotal: 30.6ms\tremaining: 173ms\n",
      "15:\tlearn: 0.4419222\ttotal: 32.1ms\tremaining: 168ms\n",
      "16:\tlearn: 0.4379415\ttotal: 33.5ms\tremaining: 164ms\n",
      "17:\tlearn: 0.4336711\ttotal: 34.9ms\tremaining: 159ms\n",
      "18:\tlearn: 0.4285513\ttotal: 36.3ms\tremaining: 155ms\n",
      "19:\tlearn: 0.4253517\ttotal: 38.3ms\tremaining: 153ms\n",
      "20:\tlearn: 0.4219031\ttotal: 39.7ms\tremaining: 149ms\n",
      "21:\tlearn: 0.4196595\ttotal: 41.2ms\tremaining: 146ms\n",
      "22:\tlearn: 0.4173317\ttotal: 42.7ms\tremaining: 143ms\n",
      "23:\tlearn: 0.4155258\ttotal: 44.2ms\tremaining: 140ms\n",
      "24:\tlearn: 0.4134062\ttotal: 45.7ms\tremaining: 137ms\n",
      "25:\tlearn: 0.4101953\ttotal: 47.2ms\tremaining: 134ms\n",
      "26:\tlearn: 0.4087660\ttotal: 48.8ms\tremaining: 132ms\n",
      "27:\tlearn: 0.4054308\ttotal: 50.3ms\tremaining: 129ms\n",
      "28:\tlearn: 0.4045534\ttotal: 51.8ms\tremaining: 127ms\n",
      "29:\tlearn: 0.4023204\ttotal: 53.6ms\tremaining: 125ms\n",
      "30:\tlearn: 0.4003016\ttotal: 55.1ms\tremaining: 123ms\n",
      "31:\tlearn: 0.3986698\ttotal: 56.6ms\tremaining: 120ms\n",
      "32:\tlearn: 0.3978769\ttotal: 58.3ms\tremaining: 118ms\n",
      "33:\tlearn: 0.3968055\ttotal: 59.8ms\tremaining: 116ms\n",
      "34:\tlearn: 0.3963304\ttotal: 61.3ms\tremaining: 114ms\n",
      "35:\tlearn: 0.3944725\ttotal: 62.7ms\tremaining: 111ms\n",
      "36:\tlearn: 0.3934421\ttotal: 64.2ms\tremaining: 109ms\n",
      "37:\tlearn: 0.3925104\ttotal: 65.6ms\tremaining: 107ms\n",
      "38:\tlearn: 0.3921413\ttotal: 67.1ms\tremaining: 105ms\n",
      "39:\tlearn: 0.3917117\ttotal: 68.8ms\tremaining: 103ms\n",
      "40:\tlearn: 0.3909631\ttotal: 70.3ms\tremaining: 101ms\n",
      "41:\tlearn: 0.3904600\ttotal: 71.8ms\tremaining: 99.2ms\n",
      "42:\tlearn: 0.3894413\ttotal: 73.2ms\tremaining: 97.1ms\n",
      "43:\tlearn: 0.3886636\ttotal: 74.7ms\tremaining: 95.1ms\n",
      "44:\tlearn: 0.3878602\ttotal: 76.2ms\tremaining: 93.1ms\n",
      "45:\tlearn: 0.3869123\ttotal: 77.7ms\tremaining: 91.2ms\n",
      "46:\tlearn: 0.3860713\ttotal: 79.1ms\tremaining: 89.2ms\n",
      "47:\tlearn: 0.3854563\ttotal: 80.7ms\tremaining: 87.4ms\n",
      "48:\tlearn: 0.3846330\ttotal: 82.9ms\tremaining: 86.3ms\n",
      "49:\tlearn: 0.3837541\ttotal: 84.7ms\tremaining: 84.7ms\n",
      "50:\tlearn: 0.3818622\ttotal: 86.2ms\tremaining: 82.8ms\n",
      "51:\tlearn: 0.3817548\ttotal: 87.7ms\tremaining: 81ms\n",
      "52:\tlearn: 0.3816563\ttotal: 89ms\tremaining: 78.9ms\n",
      "53:\tlearn: 0.3812664\ttotal: 90.4ms\tremaining: 77ms\n",
      "54:\tlearn: 0.3807621\ttotal: 92ms\tremaining: 75.2ms\n",
      "55:\tlearn: 0.3801771\ttotal: 93.4ms\tremaining: 73.4ms\n",
      "56:\tlearn: 0.3796974\ttotal: 94.9ms\tremaining: 71.6ms\n",
      "57:\tlearn: 0.3793721\ttotal: 96.4ms\tremaining: 69.8ms\n",
      "58:\tlearn: 0.3789437\ttotal: 97.8ms\tremaining: 68ms\n",
      "59:\tlearn: 0.3789437\ttotal: 98.8ms\tremaining: 65.9ms\n",
      "60:\tlearn: 0.3787440\ttotal: 100ms\tremaining: 64.1ms\n",
      "61:\tlearn: 0.3787440\ttotal: 101ms\tremaining: 62ms\n",
      "62:\tlearn: 0.3777997\ttotal: 103ms\tremaining: 60.3ms\n",
      "63:\tlearn: 0.3772813\ttotal: 104ms\tremaining: 58.6ms\n",
      "64:\tlearn: 0.3770245\ttotal: 106ms\tremaining: 56.9ms\n",
      "65:\tlearn: 0.3769592\ttotal: 107ms\tremaining: 55.3ms\n",
      "66:\tlearn: 0.3769591\ttotal: 108ms\tremaining: 53.2ms\n",
      "67:\tlearn: 0.3761715\ttotal: 110ms\tremaining: 51.6ms\n",
      "68:\tlearn: 0.3756944\ttotal: 111ms\tremaining: 49.9ms\n",
      "69:\tlearn: 0.3750602\ttotal: 112ms\tremaining: 48.2ms\n",
      "70:\tlearn: 0.3745445\ttotal: 114ms\tremaining: 46.7ms\n",
      "71:\tlearn: 0.3742284\ttotal: 116ms\tremaining: 45ms\n",
      "72:\tlearn: 0.3736856\ttotal: 117ms\tremaining: 43.4ms\n",
      "73:\tlearn: 0.3735966\ttotal: 119ms\tremaining: 41.7ms\n",
      "74:\tlearn: 0.3732627\ttotal: 120ms\tremaining: 40ms\n",
      "75:\tlearn: 0.3727277\ttotal: 122ms\tremaining: 38.4ms\n",
      "76:\tlearn: 0.3725387\ttotal: 123ms\tremaining: 36.8ms\n",
      "77:\tlearn: 0.3723635\ttotal: 124ms\tremaining: 35.1ms\n",
      "78:\tlearn: 0.3721204\ttotal: 126ms\tremaining: 33.5ms\n",
      "79:\tlearn: 0.3714741\ttotal: 128ms\tremaining: 31.9ms\n",
      "80:\tlearn: 0.3714000\ttotal: 129ms\tremaining: 30.4ms\n",
      "81:\tlearn: 0.3711319\ttotal: 131ms\tremaining: 28.8ms\n",
      "82:\tlearn: 0.3706479\ttotal: 133ms\tremaining: 27.2ms\n",
      "83:\tlearn: 0.3703753\ttotal: 134ms\tremaining: 25.6ms\n",
      "84:\tlearn: 0.3693057\ttotal: 136ms\tremaining: 24ms\n",
      "85:\tlearn: 0.3690046\ttotal: 137ms\tremaining: 22.4ms\n",
      "86:\tlearn: 0.3687394\ttotal: 139ms\tremaining: 20.8ms\n",
      "87:\tlearn: 0.3686687\ttotal: 140ms\tremaining: 19.1ms\n",
      "88:\tlearn: 0.3684587\ttotal: 142ms\tremaining: 17.5ms\n",
      "89:\tlearn: 0.3682799\ttotal: 144ms\tremaining: 16ms\n",
      "90:\tlearn: 0.3676636\ttotal: 145ms\tremaining: 14.4ms\n",
      "91:\tlearn: 0.3674417\ttotal: 147ms\tremaining: 12.8ms\n",
      "92:\tlearn: 0.3673436\ttotal: 148ms\tremaining: 11.2ms\n",
      "93:\tlearn: 0.3673100\ttotal: 150ms\tremaining: 9.56ms\n",
      "94:\tlearn: 0.3672701\ttotal: 151ms\tremaining: 7.96ms\n",
      "95:\tlearn: 0.3671870\ttotal: 153ms\tremaining: 6.37ms\n",
      "96:\tlearn: 0.3670954\ttotal: 154ms\tremaining: 4.77ms\n",
      "97:\tlearn: 0.3667003\ttotal: 156ms\tremaining: 3.18ms\n",
      "98:\tlearn: 0.3663208\ttotal: 157ms\tremaining: 1.59ms\n",
      "99:\tlearn: 0.3657016\ttotal: 159ms\tremaining: 0us\n"
     ]
    },
    {
     "name": "stdout",
     "output_type": "stream",
     "text": [
      "0:\tlearn: 0.6598276\ttotal: 5.64ms\tremaining: 559ms\n",
      "1:\tlearn: 0.6268758\ttotal: 11.4ms\tremaining: 560ms\n",
      "2:\tlearn: 0.6000058\ttotal: 16.9ms\tremaining: 545ms\n",
      "3:\tlearn: 0.5752116\ttotal: 18.4ms\tremaining: 443ms\n",
      "4:\tlearn: 0.5601594\ttotal: 19.3ms\tremaining: 367ms\n",
      "5:\tlearn: 0.5423953\ttotal: 20.8ms\tremaining: 326ms\n",
      "6:\tlearn: 0.5261258\ttotal: 22.3ms\tremaining: 296ms\n",
      "7:\tlearn: 0.5110640\ttotal: 24.3ms\tremaining: 280ms\n",
      "8:\tlearn: 0.5008231\ttotal: 25.8ms\tremaining: 261ms\n",
      "9:\tlearn: 0.4904322\ttotal: 27.3ms\tremaining: 246ms\n",
      "10:\tlearn: 0.4793791\ttotal: 28.9ms\tremaining: 234ms\n",
      "11:\tlearn: 0.4711352\ttotal: 30.4ms\tremaining: 223ms\n",
      "12:\tlearn: 0.4649809\ttotal: 31.9ms\tremaining: 214ms\n",
      "13:\tlearn: 0.4575883\ttotal: 33.5ms\tremaining: 206ms\n",
      "14:\tlearn: 0.4498357\ttotal: 35ms\tremaining: 198ms\n",
      "15:\tlearn: 0.4459254\ttotal: 36.5ms\tremaining: 192ms\n",
      "16:\tlearn: 0.4398206\ttotal: 38.1ms\tremaining: 186ms\n",
      "17:\tlearn: 0.4358430\ttotal: 39.6ms\tremaining: 181ms\n",
      "18:\tlearn: 0.4317015\ttotal: 41.1ms\tremaining: 175ms\n",
      "19:\tlearn: 0.4289411\ttotal: 42.5ms\tremaining: 170ms\n",
      "20:\tlearn: 0.4276611\ttotal: 44ms\tremaining: 165ms\n",
      "21:\tlearn: 0.4242139\ttotal: 45.6ms\tremaining: 162ms\n",
      "22:\tlearn: 0.4219373\ttotal: 47.1ms\tremaining: 158ms\n",
      "23:\tlearn: 0.4196830\ttotal: 48.8ms\tremaining: 155ms\n",
      "24:\tlearn: 0.4190696\ttotal: 49.7ms\tremaining: 149ms\n",
      "25:\tlearn: 0.4167758\ttotal: 51.2ms\tremaining: 146ms\n",
      "26:\tlearn: 0.4145513\ttotal: 52.8ms\tremaining: 143ms\n",
      "27:\tlearn: 0.4135318\ttotal: 54.6ms\tremaining: 140ms\n",
      "28:\tlearn: 0.4112977\ttotal: 56.9ms\tremaining: 139ms\n",
      "29:\tlearn: 0.4094131\ttotal: 58.4ms\tremaining: 136ms\n",
      "30:\tlearn: 0.4078400\ttotal: 59.9ms\tremaining: 133ms\n",
      "31:\tlearn: 0.4067565\ttotal: 61.4ms\tremaining: 131ms\n",
      "32:\tlearn: 0.4053345\ttotal: 62.9ms\tremaining: 128ms\n",
      "33:\tlearn: 0.4037291\ttotal: 64.3ms\tremaining: 125ms\n",
      "34:\tlearn: 0.4023772\ttotal: 66ms\tremaining: 123ms\n",
      "35:\tlearn: 0.4010232\ttotal: 67.8ms\tremaining: 121ms\n",
      "36:\tlearn: 0.4002992\ttotal: 68.9ms\tremaining: 117ms\n",
      "37:\tlearn: 0.3990110\ttotal: 70.4ms\tremaining: 115ms\n",
      "38:\tlearn: 0.3981120\ttotal: 72ms\tremaining: 113ms\n",
      "39:\tlearn: 0.3970895\ttotal: 73.4ms\tremaining: 110ms\n",
      "40:\tlearn: 0.3953797\ttotal: 75ms\tremaining: 108ms\n",
      "41:\tlearn: 0.3948114\ttotal: 76.4ms\tremaining: 106ms\n",
      "42:\tlearn: 0.3940519\ttotal: 78.1ms\tremaining: 104ms\n",
      "43:\tlearn: 0.3929676\ttotal: 79.6ms\tremaining: 101ms\n",
      "44:\tlearn: 0.3915220\ttotal: 81.1ms\tremaining: 99.2ms\n",
      "45:\tlearn: 0.3911021\ttotal: 82.8ms\tremaining: 97.2ms\n",
      "46:\tlearn: 0.3906919\ttotal: 84ms\tremaining: 94.7ms\n",
      "47:\tlearn: 0.3903152\ttotal: 85.8ms\tremaining: 92.9ms\n",
      "48:\tlearn: 0.3899294\ttotal: 87.3ms\tremaining: 90.9ms\n",
      "49:\tlearn: 0.3889698\ttotal: 88.8ms\tremaining: 88.8ms\n",
      "50:\tlearn: 0.3883274\ttotal: 90.3ms\tremaining: 86.8ms\n",
      "51:\tlearn: 0.3882114\ttotal: 91.3ms\tremaining: 84.3ms\n",
      "52:\tlearn: 0.3876901\ttotal: 92.7ms\tremaining: 82.2ms\n",
      "53:\tlearn: 0.3870935\ttotal: 94.2ms\tremaining: 80.3ms\n",
      "54:\tlearn: 0.3863512\ttotal: 96.1ms\tremaining: 78.6ms\n",
      "55:\tlearn: 0.3855724\ttotal: 98ms\tremaining: 77ms\n",
      "56:\tlearn: 0.3851741\ttotal: 99.5ms\tremaining: 75.1ms\n",
      "57:\tlearn: 0.3849908\ttotal: 101ms\tremaining: 72.8ms\n",
      "58:\tlearn: 0.3845136\ttotal: 102ms\tremaining: 71ms\n",
      "59:\tlearn: 0.3840907\ttotal: 104ms\tremaining: 69.1ms\n",
      "60:\tlearn: 0.3837785\ttotal: 105ms\tremaining: 67.2ms\n",
      "61:\tlearn: 0.3836380\ttotal: 107ms\tremaining: 65.6ms\n",
      "62:\tlearn: 0.3829014\ttotal: 109ms\tremaining: 63.8ms\n",
      "63:\tlearn: 0.3825794\ttotal: 110ms\tremaining: 62.1ms\n",
      "64:\tlearn: 0.3822297\ttotal: 114ms\tremaining: 61.3ms\n",
      "65:\tlearn: 0.3815956\ttotal: 121ms\tremaining: 62.5ms\n",
      "66:\tlearn: 0.3812519\ttotal: 127ms\tremaining: 62.4ms\n",
      "67:\tlearn: 0.3812203\ttotal: 129ms\tremaining: 60.7ms\n",
      "68:\tlearn: 0.3808644\ttotal: 131ms\tremaining: 59ms\n",
      "69:\tlearn: 0.3805523\ttotal: 133ms\tremaining: 57.1ms\n",
      "70:\tlearn: 0.3802465\ttotal: 136ms\tremaining: 55.5ms\n",
      "71:\tlearn: 0.3796410\ttotal: 139ms\tremaining: 54.2ms\n",
      "72:\tlearn: 0.3794548\ttotal: 144ms\tremaining: 53.3ms\n",
      "73:\tlearn: 0.3791294\ttotal: 147ms\tremaining: 51.6ms\n",
      "74:\tlearn: 0.3784727\ttotal: 150ms\tremaining: 50.1ms\n",
      "75:\tlearn: 0.3777800\ttotal: 156ms\tremaining: 49.3ms\n",
      "76:\tlearn: 0.3766241\ttotal: 159ms\tremaining: 47.4ms\n",
      "77:\tlearn: 0.3763139\ttotal: 161ms\tremaining: 45.3ms\n",
      "78:\tlearn: 0.3761524\ttotal: 163ms\tremaining: 43.3ms\n",
      "79:\tlearn: 0.3756654\ttotal: 165ms\tremaining: 41.3ms\n",
      "80:\tlearn: 0.3755563\ttotal: 168ms\tremaining: 39.4ms\n",
      "81:\tlearn: 0.3752594\ttotal: 171ms\tremaining: 37.6ms\n",
      "82:\tlearn: 0.3748711\ttotal: 174ms\tremaining: 35.5ms\n",
      "83:\tlearn: 0.3745941\ttotal: 175ms\tremaining: 33.4ms\n",
      "84:\tlearn: 0.3738164\ttotal: 177ms\tremaining: 31.3ms\n",
      "85:\tlearn: 0.3735123\ttotal: 180ms\tremaining: 29.3ms\n",
      "86:\tlearn: 0.3728242\ttotal: 183ms\tremaining: 27.3ms\n",
      "87:\tlearn: 0.3723567\ttotal: 185ms\tremaining: 25.3ms\n",
      "88:\tlearn: 0.3721337\ttotal: 187ms\tremaining: 23.2ms\n",
      "89:\tlearn: 0.3720417\ttotal: 189ms\tremaining: 21ms\n",
      "90:\tlearn: 0.3717869\ttotal: 192ms\tremaining: 19ms\n",
      "91:\tlearn: 0.3714694\ttotal: 195ms\tremaining: 16.9ms\n",
      "92:\tlearn: 0.3713128\ttotal: 197ms\tremaining: 14.8ms\n",
      "93:\tlearn: 0.3709687\ttotal: 200ms\tremaining: 12.7ms\n",
      "94:\tlearn: 0.3707012\ttotal: 202ms\tremaining: 10.6ms\n",
      "95:\tlearn: 0.3705051\ttotal: 204ms\tremaining: 8.49ms\n",
      "96:\tlearn: 0.3701869\ttotal: 206ms\tremaining: 6.38ms\n",
      "97:\tlearn: 0.3699135\ttotal: 208ms\tremaining: 4.25ms\n",
      "98:\tlearn: 0.3695620\ttotal: 211ms\tremaining: 2.13ms\n",
      "99:\tlearn: 0.3685750\ttotal: 214ms\tremaining: 0us\n",
      "0:\tlearn: 0.6611961\ttotal: 5.57ms\tremaining: 552ms\n",
      "1:\tlearn: 0.6269544\ttotal: 11ms\tremaining: 539ms\n",
      "2:\tlearn: 0.5992187\ttotal: 15.9ms\tremaining: 513ms\n",
      "3:\tlearn: 0.5732257\ttotal: 18.6ms\tremaining: 446ms\n",
      "4:\tlearn: 0.5577899\ttotal: 20ms\tremaining: 379ms\n",
      "5:\tlearn: 0.5389749\ttotal: 22ms\tremaining: 345ms\n",
      "6:\tlearn: 0.5206547\ttotal: 24.2ms\tremaining: 322ms\n",
      "7:\tlearn: 0.5033107\ttotal: 26.3ms\tremaining: 303ms\n",
      "8:\tlearn: 0.4881050\ttotal: 28.3ms\tremaining: 286ms\n",
      "9:\tlearn: 0.4785310\ttotal: 30.3ms\tremaining: 273ms\n",
      "10:\tlearn: 0.4669606\ttotal: 32.3ms\tremaining: 262ms\n",
      "11:\tlearn: 0.4572945\ttotal: 34.4ms\tremaining: 252ms\n",
      "12:\tlearn: 0.4505885\ttotal: 36.3ms\tremaining: 243ms\n",
      "13:\tlearn: 0.4428478\ttotal: 38.6ms\tremaining: 237ms\n",
      "14:\tlearn: 0.4363020\ttotal: 41.1ms\tremaining: 233ms\n",
      "15:\tlearn: 0.4316552\ttotal: 43.9ms\tremaining: 230ms\n",
      "16:\tlearn: 0.4279043\ttotal: 46.6ms\tremaining: 228ms\n",
      "17:\tlearn: 0.4242823\ttotal: 50.1ms\tremaining: 228ms\n",
      "18:\tlearn: 0.4199415\ttotal: 51.9ms\tremaining: 221ms\n",
      "19:\tlearn: 0.4171703\ttotal: 54ms\tremaining: 216ms\n",
      "20:\tlearn: 0.4143173\ttotal: 56.3ms\tremaining: 212ms\n",
      "21:\tlearn: 0.4122170\ttotal: 58.1ms\tremaining: 206ms\n",
      "22:\tlearn: 0.4085609\ttotal: 59.7ms\tremaining: 200ms\n",
      "23:\tlearn: 0.4056420\ttotal: 61.4ms\tremaining: 194ms\n",
      "24:\tlearn: 0.4035915\ttotal: 63.1ms\tremaining: 189ms\n",
      "25:\tlearn: 0.4009027\ttotal: 64.9ms\tremaining: 185ms\n",
      "26:\tlearn: 0.3991165\ttotal: 66.3ms\tremaining: 179ms\n",
      "27:\tlearn: 0.3976489\ttotal: 68.3ms\tremaining: 176ms\n",
      "28:\tlearn: 0.3962527\ttotal: 70.5ms\tremaining: 173ms\n",
      "29:\tlearn: 0.3946827\ttotal: 72.2ms\tremaining: 169ms\n",
      "30:\tlearn: 0.3930186\ttotal: 73.9ms\tremaining: 164ms\n",
      "31:\tlearn: 0.3913512\ttotal: 75.6ms\tremaining: 161ms\n",
      "32:\tlearn: 0.3909381\ttotal: 76.6ms\tremaining: 155ms\n",
      "33:\tlearn: 0.3898747\ttotal: 78.2ms\tremaining: 152ms\n",
      "34:\tlearn: 0.3888433\ttotal: 79.9ms\tremaining: 148ms\n",
      "35:\tlearn: 0.3878795\ttotal: 81.7ms\tremaining: 145ms\n",
      "36:\tlearn: 0.3865661\ttotal: 83.4ms\tremaining: 142ms\n",
      "37:\tlearn: 0.3851693\ttotal: 85.3ms\tremaining: 139ms\n",
      "38:\tlearn: 0.3834270\ttotal: 87.2ms\tremaining: 136ms\n",
      "39:\tlearn: 0.3822042\ttotal: 88.9ms\tremaining: 133ms\n",
      "40:\tlearn: 0.3801674\ttotal: 90.7ms\tremaining: 131ms\n",
      "41:\tlearn: 0.3790079\ttotal: 92.4ms\tremaining: 128ms\n",
      "42:\tlearn: 0.3780791\ttotal: 94.1ms\tremaining: 125ms\n",
      "43:\tlearn: 0.3769896\ttotal: 95.7ms\tremaining: 122ms\n",
      "44:\tlearn: 0.3767055\ttotal: 97.7ms\tremaining: 119ms\n",
      "45:\tlearn: 0.3761552\ttotal: 99.3ms\tremaining: 117ms\n",
      "46:\tlearn: 0.3750710\ttotal: 101ms\tremaining: 114ms\n",
      "47:\tlearn: 0.3745725\ttotal: 103ms\tremaining: 111ms\n",
      "48:\tlearn: 0.3732665\ttotal: 104ms\tremaining: 109ms\n",
      "49:\tlearn: 0.3722457\ttotal: 106ms\tremaining: 106ms\n",
      "50:\tlearn: 0.3721908\ttotal: 107ms\tremaining: 103ms\n",
      "51:\tlearn: 0.3714902\ttotal: 109ms\tremaining: 100ms\n",
      "52:\tlearn: 0.3705237\ttotal: 111ms\tremaining: 98ms\n",
      "53:\tlearn: 0.3699497\ttotal: 112ms\tremaining: 95.6ms\n",
      "54:\tlearn: 0.3690287\ttotal: 115ms\tremaining: 93.7ms\n",
      "55:\tlearn: 0.3686899\ttotal: 116ms\tremaining: 91.4ms\n",
      "56:\tlearn: 0.3679006\ttotal: 119ms\tremaining: 89.6ms\n",
      "57:\tlearn: 0.3675049\ttotal: 121ms\tremaining: 87.8ms\n",
      "58:\tlearn: 0.3663756\ttotal: 123ms\tremaining: 85.7ms\n",
      "59:\tlearn: 0.3659803\ttotal: 126ms\tremaining: 83.7ms\n",
      "60:\tlearn: 0.3651498\ttotal: 128ms\tremaining: 81.8ms\n",
      "61:\tlearn: 0.3648296\ttotal: 130ms\tremaining: 79.8ms\n",
      "62:\tlearn: 0.3646178\ttotal: 133ms\tremaining: 78.1ms\n",
      "63:\tlearn: 0.3641684\ttotal: 135ms\tremaining: 76ms\n",
      "64:\tlearn: 0.3638271\ttotal: 137ms\tremaining: 73.9ms\n",
      "65:\tlearn: 0.3635937\ttotal: 140ms\tremaining: 71.9ms\n",
      "66:\tlearn: 0.3635471\ttotal: 141ms\tremaining: 69.2ms\n",
      "67:\tlearn: 0.3628734\ttotal: 142ms\tremaining: 67ms\n",
      "68:\tlearn: 0.3621200\ttotal: 144ms\tremaining: 64.7ms\n",
      "69:\tlearn: 0.3615772\ttotal: 146ms\tremaining: 62.6ms\n",
      "70:\tlearn: 0.3610873\ttotal: 151ms\tremaining: 61.7ms\n",
      "71:\tlearn: 0.3607625\ttotal: 153ms\tremaining: 59.6ms\n",
      "72:\tlearn: 0.3597016\ttotal: 155ms\tremaining: 57.4ms\n",
      "73:\tlearn: 0.3593003\ttotal: 157ms\tremaining: 55.1ms\n",
      "74:\tlearn: 0.3591752\ttotal: 159ms\tremaining: 52.9ms\n",
      "75:\tlearn: 0.3585186\ttotal: 161ms\tremaining: 50.8ms\n",
      "76:\tlearn: 0.3582659\ttotal: 163ms\tremaining: 48.6ms\n",
      "77:\tlearn: 0.3580875\ttotal: 165ms\tremaining: 46.4ms\n",
      "78:\tlearn: 0.3577085\ttotal: 166ms\tremaining: 44.2ms\n",
      "79:\tlearn: 0.3571526\ttotal: 168ms\tremaining: 42.1ms\n",
      "80:\tlearn: 0.3569302\ttotal: 170ms\tremaining: 39.9ms\n"
     ]
    },
    {
     "name": "stdout",
     "output_type": "stream",
     "text": [
      "81:\tlearn: 0.3556089\ttotal: 173ms\tremaining: 37.9ms\n",
      "82:\tlearn: 0.3552319\ttotal: 175ms\tremaining: 35.8ms\n",
      "83:\tlearn: 0.3550616\ttotal: 177ms\tremaining: 33.7ms\n",
      "84:\tlearn: 0.3549944\ttotal: 179ms\tremaining: 31.6ms\n",
      "85:\tlearn: 0.3546977\ttotal: 181ms\tremaining: 29.4ms\n",
      "86:\tlearn: 0.3546399\ttotal: 183ms\tremaining: 27.3ms\n",
      "87:\tlearn: 0.3541267\ttotal: 185ms\tremaining: 25.2ms\n",
      "88:\tlearn: 0.3537241\ttotal: 186ms\tremaining: 23ms\n",
      "89:\tlearn: 0.3535632\ttotal: 189ms\tremaining: 21ms\n",
      "90:\tlearn: 0.3533315\ttotal: 192ms\tremaining: 19ms\n",
      "91:\tlearn: 0.3528839\ttotal: 194ms\tremaining: 16.9ms\n",
      "92:\tlearn: 0.3527505\ttotal: 196ms\tremaining: 14.7ms\n",
      "93:\tlearn: 0.3525987\ttotal: 198ms\tremaining: 12.6ms\n",
      "94:\tlearn: 0.3525148\ttotal: 200ms\tremaining: 10.5ms\n",
      "95:\tlearn: 0.3519582\ttotal: 202ms\tremaining: 8.41ms\n",
      "96:\tlearn: 0.3516058\ttotal: 204ms\tremaining: 6.31ms\n",
      "97:\tlearn: 0.3514508\ttotal: 206ms\tremaining: 4.2ms\n",
      "98:\tlearn: 0.3505830\ttotal: 208ms\tremaining: 2.1ms\n",
      "99:\tlearn: 0.3496429\ttotal: 210ms\tremaining: 0us\n",
      "0:\tlearn: 0.6634564\ttotal: 8.69ms\tremaining: 861ms\n",
      "1:\tlearn: 0.6310765\ttotal: 16.9ms\tremaining: 827ms\n",
      "2:\tlearn: 0.6001937\ttotal: 23.4ms\tremaining: 757ms\n",
      "3:\tlearn: 0.5775544\ttotal: 25.8ms\tremaining: 620ms\n",
      "4:\tlearn: 0.5581908\ttotal: 28.7ms\tremaining: 544ms\n",
      "5:\tlearn: 0.5401691\ttotal: 32.3ms\tremaining: 505ms\n",
      "6:\tlearn: 0.5239024\ttotal: 35ms\tremaining: 465ms\n",
      "7:\tlearn: 0.5106912\ttotal: 37.2ms\tremaining: 428ms\n",
      "8:\tlearn: 0.4993360\ttotal: 39.9ms\tremaining: 403ms\n",
      "9:\tlearn: 0.4864401\ttotal: 42.8ms\tremaining: 386ms\n",
      "10:\tlearn: 0.4783117\ttotal: 45.9ms\tremaining: 371ms\n",
      "11:\tlearn: 0.4718823\ttotal: 48.7ms\tremaining: 357ms\n",
      "12:\tlearn: 0.4630006\ttotal: 51.2ms\tremaining: 343ms\n",
      "13:\tlearn: 0.4553873\ttotal: 53.6ms\tremaining: 329ms\n",
      "14:\tlearn: 0.4503711\ttotal: 57.4ms\tremaining: 325ms\n",
      "15:\tlearn: 0.4441977\ttotal: 59.3ms\tremaining: 312ms\n",
      "16:\tlearn: 0.4402764\ttotal: 61.8ms\tremaining: 302ms\n",
      "17:\tlearn: 0.4377926\ttotal: 64ms\tremaining: 292ms\n",
      "18:\tlearn: 0.4347463\ttotal: 66.1ms\tremaining: 282ms\n",
      "19:\tlearn: 0.4332702\ttotal: 68.5ms\tremaining: 274ms\n",
      "20:\tlearn: 0.4311877\ttotal: 71.4ms\tremaining: 269ms\n",
      "21:\tlearn: 0.4269630\ttotal: 74.1ms\tremaining: 263ms\n",
      "22:\tlearn: 0.4253060\ttotal: 76.5ms\tremaining: 256ms\n",
      "23:\tlearn: 0.4233221\ttotal: 80ms\tremaining: 253ms\n",
      "24:\tlearn: 0.4210356\ttotal: 82.5ms\tremaining: 248ms\n",
      "25:\tlearn: 0.4194827\ttotal: 86.5ms\tremaining: 246ms\n",
      "26:\tlearn: 0.4171740\ttotal: 89.5ms\tremaining: 242ms\n",
      "27:\tlearn: 0.4163712\ttotal: 94.5ms\tremaining: 243ms\n",
      "28:\tlearn: 0.4149851\ttotal: 98.8ms\tremaining: 242ms\n",
      "29:\tlearn: 0.4137717\ttotal: 102ms\tremaining: 239ms\n",
      "30:\tlearn: 0.4121058\ttotal: 105ms\tremaining: 233ms\n",
      "31:\tlearn: 0.4113296\ttotal: 108ms\tremaining: 229ms\n",
      "32:\tlearn: 0.4107994\ttotal: 110ms\tremaining: 224ms\n",
      "33:\tlearn: 0.4100649\ttotal: 113ms\tremaining: 220ms\n",
      "34:\tlearn: 0.4090271\ttotal: 118ms\tremaining: 219ms\n",
      "35:\tlearn: 0.4081948\ttotal: 120ms\tremaining: 214ms\n",
      "36:\tlearn: 0.4071857\ttotal: 122ms\tremaining: 209ms\n",
      "37:\tlearn: 0.4071101\ttotal: 124ms\tremaining: 202ms\n",
      "38:\tlearn: 0.4062815\ttotal: 127ms\tremaining: 198ms\n",
      "39:\tlearn: 0.4049474\ttotal: 129ms\tremaining: 194ms\n",
      "40:\tlearn: 0.4036459\ttotal: 132ms\tremaining: 189ms\n",
      "41:\tlearn: 0.4025831\ttotal: 134ms\tremaining: 185ms\n",
      "42:\tlearn: 0.4020980\ttotal: 137ms\tremaining: 182ms\n",
      "43:\tlearn: 0.4014810\ttotal: 141ms\tremaining: 179ms\n",
      "44:\tlearn: 0.4005343\ttotal: 143ms\tremaining: 175ms\n",
      "45:\tlearn: 0.4000810\ttotal: 146ms\tremaining: 171ms\n",
      "46:\tlearn: 0.3991247\ttotal: 149ms\tremaining: 168ms\n",
      "47:\tlearn: 0.3982823\ttotal: 151ms\tremaining: 164ms\n",
      "48:\tlearn: 0.3976984\ttotal: 155ms\tremaining: 161ms\n",
      "49:\tlearn: 0.3966817\ttotal: 157ms\tremaining: 157ms\n",
      "50:\tlearn: 0.3962570\ttotal: 160ms\tremaining: 153ms\n",
      "51:\tlearn: 0.3958964\ttotal: 161ms\tremaining: 149ms\n",
      "52:\tlearn: 0.3957073\ttotal: 164ms\tremaining: 145ms\n",
      "53:\tlearn: 0.3947428\ttotal: 166ms\tremaining: 142ms\n",
      "54:\tlearn: 0.3942073\ttotal: 170ms\tremaining: 139ms\n",
      "55:\tlearn: 0.3933716\ttotal: 172ms\tremaining: 135ms\n",
      "56:\tlearn: 0.3928215\ttotal: 175ms\tremaining: 132ms\n",
      "57:\tlearn: 0.3920868\ttotal: 179ms\tremaining: 130ms\n",
      "58:\tlearn: 0.3909395\ttotal: 183ms\tremaining: 127ms\n",
      "59:\tlearn: 0.3896954\ttotal: 186ms\tremaining: 124ms\n",
      "60:\tlearn: 0.3886811\ttotal: 189ms\tremaining: 121ms\n",
      "61:\tlearn: 0.3879298\ttotal: 192ms\tremaining: 117ms\n",
      "62:\tlearn: 0.3874306\ttotal: 194ms\tremaining: 114ms\n",
      "63:\tlearn: 0.3868870\ttotal: 197ms\tremaining: 111ms\n",
      "64:\tlearn: 0.3865704\ttotal: 200ms\tremaining: 108ms\n",
      "65:\tlearn: 0.3861290\ttotal: 203ms\tremaining: 105ms\n",
      "66:\tlearn: 0.3856331\ttotal: 206ms\tremaining: 101ms\n",
      "67:\tlearn: 0.3848276\ttotal: 211ms\tremaining: 99.4ms\n",
      "68:\tlearn: 0.3845037\ttotal: 214ms\tremaining: 96.2ms\n",
      "69:\tlearn: 0.3838349\ttotal: 217ms\tremaining: 92.9ms\n",
      "70:\tlearn: 0.3836666\ttotal: 219ms\tremaining: 89.6ms\n",
      "71:\tlearn: 0.3828448\ttotal: 224ms\tremaining: 87.1ms\n",
      "72:\tlearn: 0.3821800\ttotal: 227ms\tremaining: 84ms\n",
      "73:\tlearn: 0.3816860\ttotal: 230ms\tremaining: 80.7ms\n",
      "74:\tlearn: 0.3811078\ttotal: 232ms\tremaining: 77.4ms\n",
      "75:\tlearn: 0.3808104\ttotal: 237ms\tremaining: 74.9ms\n",
      "76:\tlearn: 0.3797812\ttotal: 242ms\tremaining: 72.3ms\n",
      "77:\tlearn: 0.3794432\ttotal: 246ms\tremaining: 69.4ms\n",
      "78:\tlearn: 0.3793989\ttotal: 248ms\tremaining: 65.9ms\n",
      "79:\tlearn: 0.3790553\ttotal: 251ms\tremaining: 62.7ms\n",
      "80:\tlearn: 0.3785948\ttotal: 253ms\tremaining: 59.5ms\n",
      "81:\tlearn: 0.3783236\ttotal: 256ms\tremaining: 56.3ms\n",
      "82:\tlearn: 0.3780796\ttotal: 260ms\tremaining: 53.3ms\n",
      "83:\tlearn: 0.3778085\ttotal: 263ms\tremaining: 50.2ms\n",
      "84:\tlearn: 0.3773904\ttotal: 266ms\tremaining: 46.9ms\n",
      "85:\tlearn: 0.3771426\ttotal: 269ms\tremaining: 43.7ms\n",
      "86:\tlearn: 0.3766892\ttotal: 271ms\tremaining: 40.5ms\n",
      "87:\tlearn: 0.3763595\ttotal: 273ms\tremaining: 37.3ms\n",
      "88:\tlearn: 0.3761034\ttotal: 277ms\tremaining: 34.2ms\n",
      "89:\tlearn: 0.3752433\ttotal: 279ms\tremaining: 31ms\n",
      "90:\tlearn: 0.3748034\ttotal: 282ms\tremaining: 27.9ms\n",
      "91:\tlearn: 0.3744395\ttotal: 285ms\tremaining: 24.8ms\n",
      "92:\tlearn: 0.3740337\ttotal: 287ms\tremaining: 21.6ms\n",
      "93:\tlearn: 0.3729810\ttotal: 289ms\tremaining: 18.4ms\n",
      "94:\tlearn: 0.3721244\ttotal: 292ms\tremaining: 15.4ms\n",
      "95:\tlearn: 0.3715813\ttotal: 295ms\tremaining: 12.3ms\n",
      "96:\tlearn: 0.3708254\ttotal: 297ms\tremaining: 9.2ms\n",
      "97:\tlearn: 0.3707603\ttotal: 300ms\tremaining: 6.12ms\n",
      "98:\tlearn: 0.3704932\ttotal: 302ms\tremaining: 3.05ms\n",
      "99:\tlearn: 0.3703294\ttotal: 306ms\tremaining: 0us\n",
      "0:\tlearn: 0.6623251\ttotal: 6.5ms\tremaining: 643ms\n",
      "1:\tlearn: 0.6298073\ttotal: 12.2ms\tremaining: 597ms\n",
      "2:\tlearn: 0.5991414\ttotal: 18.1ms\tremaining: 584ms\n",
      "3:\tlearn: 0.5780335\ttotal: 20ms\tremaining: 480ms\n",
      "4:\tlearn: 0.5590616\ttotal: 21.9ms\tremaining: 416ms\n",
      "5:\tlearn: 0.5407489\ttotal: 23.7ms\tremaining: 372ms\n",
      "6:\tlearn: 0.5249266\ttotal: 25.7ms\tremaining: 341ms\n",
      "7:\tlearn: 0.5136302\ttotal: 27.6ms\tremaining: 317ms\n",
      "8:\tlearn: 0.5022491\ttotal: 30ms\tremaining: 303ms\n",
      "9:\tlearn: 0.4892482\ttotal: 31.9ms\tremaining: 287ms\n",
      "10:\tlearn: 0.4811944\ttotal: 33.8ms\tremaining: 273ms\n",
      "11:\tlearn: 0.4739546\ttotal: 35.7ms\tremaining: 262ms\n",
      "12:\tlearn: 0.4666846\ttotal: 37.9ms\tremaining: 254ms\n",
      "13:\tlearn: 0.4590173\ttotal: 39.9ms\tremaining: 245ms\n",
      "14:\tlearn: 0.4539051\ttotal: 42.2ms\tremaining: 239ms\n",
      "15:\tlearn: 0.4474613\ttotal: 44.5ms\tremaining: 234ms\n",
      "16:\tlearn: 0.4432221\ttotal: 46.6ms\tremaining: 228ms\n",
      "17:\tlearn: 0.4395456\ttotal: 48.5ms\tremaining: 221ms\n",
      "18:\tlearn: 0.4361874\ttotal: 50.6ms\tremaining: 216ms\n",
      "19:\tlearn: 0.4327541\ttotal: 52.5ms\tremaining: 210ms\n",
      "20:\tlearn: 0.4299212\ttotal: 54.6ms\tremaining: 205ms\n",
      "21:\tlearn: 0.4271924\ttotal: 56.5ms\tremaining: 200ms\n",
      "22:\tlearn: 0.4253964\ttotal: 58.5ms\tremaining: 196ms\n",
      "23:\tlearn: 0.4223742\ttotal: 60.5ms\tremaining: 192ms\n",
      "24:\tlearn: 0.4198182\ttotal: 62.5ms\tremaining: 188ms\n",
      "25:\tlearn: 0.4188757\ttotal: 64.5ms\tremaining: 183ms\n",
      "26:\tlearn: 0.4175780\ttotal: 66.3ms\tremaining: 179ms\n",
      "27:\tlearn: 0.4153586\ttotal: 68.3ms\tremaining: 176ms\n",
      "28:\tlearn: 0.4141513\ttotal: 70.3ms\tremaining: 172ms\n",
      "29:\tlearn: 0.4129149\ttotal: 72.5ms\tremaining: 169ms\n",
      "30:\tlearn: 0.4116862\ttotal: 74.5ms\tremaining: 166ms\n",
      "31:\tlearn: 0.4107012\ttotal: 76.3ms\tremaining: 162ms\n",
      "32:\tlearn: 0.4092452\ttotal: 78.2ms\tremaining: 159ms\n",
      "33:\tlearn: 0.4084549\ttotal: 80.1ms\tremaining: 155ms\n",
      "34:\tlearn: 0.4069891\ttotal: 82.1ms\tremaining: 152ms\n",
      "35:\tlearn: 0.4048663\ttotal: 84.6ms\tremaining: 150ms\n",
      "36:\tlearn: 0.4023461\ttotal: 86.8ms\tremaining: 148ms\n",
      "37:\tlearn: 0.4016182\ttotal: 88.7ms\tremaining: 145ms\n",
      "38:\tlearn: 0.4010127\ttotal: 90.7ms\tremaining: 142ms\n",
      "39:\tlearn: 0.3992787\ttotal: 92.5ms\tremaining: 139ms\n",
      "40:\tlearn: 0.3985904\ttotal: 94.5ms\tremaining: 136ms\n",
      "41:\tlearn: 0.3974044\ttotal: 96.4ms\tremaining: 133ms\n",
      "42:\tlearn: 0.3968439\ttotal: 98.3ms\tremaining: 130ms\n",
      "43:\tlearn: 0.3962335\ttotal: 100ms\tremaining: 128ms\n",
      "44:\tlearn: 0.3949924\ttotal: 102ms\tremaining: 125ms\n",
      "45:\tlearn: 0.3943169\ttotal: 104ms\tremaining: 122ms\n",
      "46:\tlearn: 0.3927901\ttotal: 106ms\tremaining: 120ms\n",
      "47:\tlearn: 0.3922017\ttotal: 108ms\tremaining: 117ms\n",
      "48:\tlearn: 0.3914393\ttotal: 110ms\tremaining: 114ms\n",
      "49:\tlearn: 0.3905649\ttotal: 112ms\tremaining: 112ms\n",
      "50:\tlearn: 0.3901646\ttotal: 114ms\tremaining: 109ms\n",
      "51:\tlearn: 0.3890337\ttotal: 116ms\tremaining: 107ms\n",
      "52:\tlearn: 0.3885838\ttotal: 118ms\tremaining: 104ms\n",
      "53:\tlearn: 0.3880713\ttotal: 120ms\tremaining: 102ms\n",
      "54:\tlearn: 0.3870638\ttotal: 121ms\tremaining: 99.4ms\n",
      "55:\tlearn: 0.3865155\ttotal: 123ms\tremaining: 96.9ms\n",
      "56:\tlearn: 0.3862143\ttotal: 125ms\tremaining: 94.4ms\n",
      "57:\tlearn: 0.3860971\ttotal: 127ms\tremaining: 91.9ms\n",
      "58:\tlearn: 0.3859051\ttotal: 128ms\tremaining: 89.2ms\n",
      "59:\tlearn: 0.3854092\ttotal: 130ms\tremaining: 86.9ms\n",
      "60:\tlearn: 0.3850837\ttotal: 132ms\tremaining: 84.6ms\n",
      "61:\tlearn: 0.3843017\ttotal: 134ms\tremaining: 82.2ms\n",
      "62:\tlearn: 0.3838406\ttotal: 136ms\tremaining: 79.9ms\n",
      "63:\tlearn: 0.3831887\ttotal: 138ms\tremaining: 77.6ms\n",
      "64:\tlearn: 0.3822519\ttotal: 140ms\tremaining: 75.3ms\n",
      "65:\tlearn: 0.3818187\ttotal: 142ms\tremaining: 72.9ms\n",
      "66:\tlearn: 0.3814316\ttotal: 144ms\tremaining: 70.9ms\n",
      "67:\tlearn: 0.3810381\ttotal: 146ms\tremaining: 68.6ms\n",
      "68:\tlearn: 0.3808148\ttotal: 148ms\tremaining: 66.3ms\n",
      "69:\tlearn: 0.3802960\ttotal: 150ms\tremaining: 64.3ms\n",
      "70:\tlearn: 0.3795676\ttotal: 152ms\tremaining: 62ms\n",
      "71:\tlearn: 0.3793754\ttotal: 154ms\tremaining: 59.7ms\n",
      "72:\tlearn: 0.3792163\ttotal: 155ms\tremaining: 57.4ms\n",
      "73:\tlearn: 0.3790230\ttotal: 157ms\tremaining: 55.2ms\n"
     ]
    },
    {
     "name": "stdout",
     "output_type": "stream",
     "text": [
      "74:\tlearn: 0.3785863\ttotal: 160ms\tremaining: 53.3ms\n",
      "75:\tlearn: 0.3778978\ttotal: 162ms\tremaining: 51.2ms\n",
      "76:\tlearn: 0.3776064\ttotal: 164ms\tremaining: 49ms\n",
      "77:\tlearn: 0.3775615\ttotal: 165ms\tremaining: 46.5ms\n",
      "78:\tlearn: 0.3774211\ttotal: 167ms\tremaining: 44.3ms\n",
      "79:\tlearn: 0.3769802\ttotal: 169ms\tremaining: 42.1ms\n",
      "80:\tlearn: 0.3768188\ttotal: 170ms\tremaining: 40ms\n",
      "81:\tlearn: 0.3766277\ttotal: 175ms\tremaining: 38.3ms\n",
      "82:\tlearn: 0.3757463\ttotal: 179ms\tremaining: 36.6ms\n",
      "83:\tlearn: 0.3756726\ttotal: 183ms\tremaining: 34.8ms\n",
      "84:\tlearn: 0.3755821\ttotal: 186ms\tremaining: 32.9ms\n",
      "85:\tlearn: 0.3753155\ttotal: 190ms\tremaining: 30.9ms\n",
      "86:\tlearn: 0.3749295\ttotal: 194ms\tremaining: 29ms\n",
      "87:\tlearn: 0.3748525\ttotal: 197ms\tremaining: 26.8ms\n",
      "88:\tlearn: 0.3746658\ttotal: 199ms\tremaining: 24.6ms\n",
      "89:\tlearn: 0.3743297\ttotal: 202ms\tremaining: 22.4ms\n",
      "90:\tlearn: 0.3742659\ttotal: 205ms\tremaining: 20.2ms\n",
      "91:\tlearn: 0.3740081\ttotal: 208ms\tremaining: 18.1ms\n",
      "92:\tlearn: 0.3735019\ttotal: 210ms\tremaining: 15.8ms\n",
      "93:\tlearn: 0.3734149\ttotal: 212ms\tremaining: 13.5ms\n",
      "94:\tlearn: 0.3730494\ttotal: 215ms\tremaining: 11.3ms\n",
      "95:\tlearn: 0.3725877\ttotal: 218ms\tremaining: 9.08ms\n",
      "96:\tlearn: 0.3725032\ttotal: 221ms\tremaining: 6.83ms\n",
      "97:\tlearn: 0.3716346\ttotal: 223ms\tremaining: 4.55ms\n",
      "98:\tlearn: 0.3713749\ttotal: 225ms\tremaining: 2.28ms\n",
      "99:\tlearn: 0.3710244\ttotal: 228ms\tremaining: 0us\n",
      "0:\tlearn: 0.6620145\ttotal: 8.86ms\tremaining: 878ms\n",
      "1:\tlearn: 0.6288989\ttotal: 15.3ms\tremaining: 748ms\n",
      "2:\tlearn: 0.6020165\ttotal: 20.6ms\tremaining: 666ms\n",
      "3:\tlearn: 0.5818009\ttotal: 22.5ms\tremaining: 541ms\n",
      "4:\tlearn: 0.5663471\ttotal: 24.1ms\tremaining: 458ms\n",
      "5:\tlearn: 0.5479264\ttotal: 26ms\tremaining: 407ms\n",
      "6:\tlearn: 0.5302571\ttotal: 28.1ms\tremaining: 373ms\n",
      "7:\tlearn: 0.5138516\ttotal: 30.3ms\tremaining: 348ms\n",
      "8:\tlearn: 0.5016615\ttotal: 32.7ms\tremaining: 331ms\n",
      "9:\tlearn: 0.4890638\ttotal: 35.3ms\tremaining: 317ms\n",
      "10:\tlearn: 0.4776333\ttotal: 37.8ms\tremaining: 306ms\n",
      "11:\tlearn: 0.4695163\ttotal: 39.9ms\tremaining: 293ms\n",
      "12:\tlearn: 0.4632338\ttotal: 41.8ms\tremaining: 279ms\n",
      "13:\tlearn: 0.4557776\ttotal: 44.3ms\tremaining: 272ms\n",
      "14:\tlearn: 0.4500425\ttotal: 46ms\tremaining: 261ms\n",
      "15:\tlearn: 0.4455823\ttotal: 48.3ms\tremaining: 253ms\n",
      "16:\tlearn: 0.4417942\ttotal: 50.9ms\tremaining: 248ms\n",
      "17:\tlearn: 0.4385236\ttotal: 52.8ms\tremaining: 240ms\n",
      "18:\tlearn: 0.4345411\ttotal: 54.9ms\tremaining: 234ms\n",
      "19:\tlearn: 0.4306619\ttotal: 57ms\tremaining: 228ms\n",
      "20:\tlearn: 0.4279158\ttotal: 59.2ms\tremaining: 223ms\n",
      "21:\tlearn: 0.4260713\ttotal: 61.4ms\tremaining: 218ms\n",
      "22:\tlearn: 0.4220379\ttotal: 63.2ms\tremaining: 212ms\n",
      "23:\tlearn: 0.4204778\ttotal: 65.7ms\tremaining: 208ms\n",
      "24:\tlearn: 0.4195596\ttotal: 68.8ms\tremaining: 207ms\n",
      "25:\tlearn: 0.4176910\ttotal: 71.3ms\tremaining: 203ms\n",
      "26:\tlearn: 0.4154630\ttotal: 74.4ms\tremaining: 201ms\n",
      "27:\tlearn: 0.4137559\ttotal: 76ms\tremaining: 195ms\n",
      "28:\tlearn: 0.4133860\ttotal: 77.5ms\tremaining: 190ms\n",
      "29:\tlearn: 0.4106964\ttotal: 79.9ms\tremaining: 186ms\n",
      "30:\tlearn: 0.4090116\ttotal: 82.8ms\tremaining: 184ms\n",
      "31:\tlearn: 0.4085283\ttotal: 84.3ms\tremaining: 179ms\n",
      "32:\tlearn: 0.4071115\ttotal: 87.2ms\tremaining: 177ms\n",
      "33:\tlearn: 0.4055044\ttotal: 89.2ms\tremaining: 173ms\n",
      "34:\tlearn: 0.4042282\ttotal: 91.4ms\tremaining: 170ms\n",
      "35:\tlearn: 0.4033537\ttotal: 94.1ms\tremaining: 167ms\n",
      "36:\tlearn: 0.4027267\ttotal: 95.9ms\tremaining: 163ms\n",
      "37:\tlearn: 0.4017139\ttotal: 98.4ms\tremaining: 161ms\n",
      "38:\tlearn: 0.4014474\ttotal: 100ms\tremaining: 157ms\n",
      "39:\tlearn: 0.4006297\ttotal: 102ms\tremaining: 154ms\n",
      "40:\tlearn: 0.3997515\ttotal: 105ms\tremaining: 152ms\n",
      "41:\tlearn: 0.3985650\ttotal: 107ms\tremaining: 148ms\n",
      "42:\tlearn: 0.3975358\ttotal: 109ms\tremaining: 145ms\n",
      "43:\tlearn: 0.3974181\ttotal: 112ms\tremaining: 142ms\n",
      "44:\tlearn: 0.3973748\ttotal: 113ms\tremaining: 139ms\n",
      "45:\tlearn: 0.3969924\ttotal: 116ms\tremaining: 136ms\n",
      "46:\tlearn: 0.3963567\ttotal: 118ms\tremaining: 133ms\n",
      "47:\tlearn: 0.3961005\ttotal: 120ms\tremaining: 130ms\n",
      "48:\tlearn: 0.3953289\ttotal: 122ms\tremaining: 127ms\n",
      "49:\tlearn: 0.3952185\ttotal: 124ms\tremaining: 124ms\n",
      "50:\tlearn: 0.3945988\ttotal: 127ms\tremaining: 122ms\n",
      "51:\tlearn: 0.3942907\ttotal: 129ms\tremaining: 119ms\n",
      "52:\tlearn: 0.3937776\ttotal: 131ms\tremaining: 116ms\n",
      "53:\tlearn: 0.3931757\ttotal: 133ms\tremaining: 113ms\n",
      "54:\tlearn: 0.3917659\ttotal: 135ms\tremaining: 110ms\n",
      "55:\tlearn: 0.3912157\ttotal: 137ms\tremaining: 107ms\n",
      "56:\tlearn: 0.3907648\ttotal: 139ms\tremaining: 105ms\n",
      "57:\tlearn: 0.3900604\ttotal: 140ms\tremaining: 102ms\n",
      "58:\tlearn: 0.3899624\ttotal: 141ms\tremaining: 98.3ms\n",
      "59:\tlearn: 0.3895187\ttotal: 143ms\tremaining: 95.2ms\n",
      "60:\tlearn: 0.3875917\ttotal: 145ms\tremaining: 92.5ms\n",
      "61:\tlearn: 0.3871119\ttotal: 146ms\tremaining: 89.7ms\n",
      "62:\tlearn: 0.3864872\ttotal: 148ms\tremaining: 87ms\n",
      "63:\tlearn: 0.3860142\ttotal: 150ms\tremaining: 84.5ms\n",
      "64:\tlearn: 0.3857603\ttotal: 152ms\tremaining: 81.9ms\n",
      "65:\tlearn: 0.3853142\ttotal: 154ms\tremaining: 79.3ms\n",
      "66:\tlearn: 0.3839801\ttotal: 156ms\tremaining: 76.8ms\n",
      "67:\tlearn: 0.3833616\ttotal: 158ms\tremaining: 74.2ms\n",
      "68:\tlearn: 0.3829267\ttotal: 160ms\tremaining: 71.7ms\n",
      "69:\tlearn: 0.3823188\ttotal: 161ms\tremaining: 69.2ms\n",
      "70:\tlearn: 0.3821900\ttotal: 163ms\tremaining: 66.7ms\n",
      "71:\tlearn: 0.3821396\ttotal: 164ms\tremaining: 63.9ms\n",
      "72:\tlearn: 0.3816765\ttotal: 166ms\tremaining: 61.4ms\n",
      "73:\tlearn: 0.3814692\ttotal: 168ms\tremaining: 59ms\n",
      "74:\tlearn: 0.3813646\ttotal: 170ms\tremaining: 56.6ms\n",
      "75:\tlearn: 0.3811537\ttotal: 172ms\tremaining: 54.4ms\n",
      "76:\tlearn: 0.3810798\ttotal: 174ms\tremaining: 51.9ms\n",
      "77:\tlearn: 0.3807008\ttotal: 175ms\tremaining: 49.5ms\n",
      "78:\tlearn: 0.3797286\ttotal: 177ms\tremaining: 47.1ms\n",
      "79:\tlearn: 0.3792271\ttotal: 179ms\tremaining: 44.8ms\n",
      "80:\tlearn: 0.3786095\ttotal: 181ms\tremaining: 42.4ms\n",
      "81:\tlearn: 0.3781304\ttotal: 183ms\tremaining: 40.1ms\n",
      "82:\tlearn: 0.3777050\ttotal: 184ms\tremaining: 37.8ms\n",
      "83:\tlearn: 0.3773775\ttotal: 186ms\tremaining: 35.4ms\n",
      "84:\tlearn: 0.3772833\ttotal: 188ms\tremaining: 33.2ms\n",
      "85:\tlearn: 0.3760880\ttotal: 191ms\tremaining: 31.1ms\n",
      "86:\tlearn: 0.3750922\ttotal: 193ms\tremaining: 28.9ms\n",
      "87:\tlearn: 0.3742900\ttotal: 195ms\tremaining: 26.6ms\n",
      "88:\tlearn: 0.3740420\ttotal: 197ms\tremaining: 24.3ms\n",
      "89:\tlearn: 0.3739711\ttotal: 198ms\tremaining: 22ms\n",
      "90:\tlearn: 0.3738961\ttotal: 200ms\tremaining: 19.8ms\n",
      "91:\tlearn: 0.3735515\ttotal: 202ms\tremaining: 17.6ms\n",
      "92:\tlearn: 0.3732297\ttotal: 204ms\tremaining: 15.3ms\n",
      "93:\tlearn: 0.3727281\ttotal: 206ms\tremaining: 13.1ms\n",
      "94:\tlearn: 0.3723034\ttotal: 207ms\tremaining: 10.9ms\n",
      "95:\tlearn: 0.3722021\ttotal: 209ms\tremaining: 8.71ms\n",
      "96:\tlearn: 0.3718680\ttotal: 211ms\tremaining: 6.52ms\n",
      "97:\tlearn: 0.3717027\ttotal: 213ms\tremaining: 4.34ms\n",
      "98:\tlearn: 0.3716052\ttotal: 214ms\tremaining: 2.17ms\n",
      "99:\tlearn: 0.3706526\ttotal: 216ms\tremaining: 0us\n",
      "0:\tlearn: 0.6619842\ttotal: 5.96ms\tremaining: 590ms\n",
      "1:\tlearn: 0.6293788\ttotal: 11.9ms\tremaining: 581ms\n",
      "2:\tlearn: 0.6028287\ttotal: 17.1ms\tremaining: 551ms\n",
      "3:\tlearn: 0.5827808\ttotal: 18.8ms\tremaining: 452ms\n",
      "4:\tlearn: 0.5672121\ttotal: 19.8ms\tremaining: 377ms\n",
      "5:\tlearn: 0.5489041\ttotal: 21.5ms\tremaining: 337ms\n",
      "6:\tlearn: 0.5315718\ttotal: 23.1ms\tremaining: 307ms\n",
      "7:\tlearn: 0.5153870\ttotal: 24.9ms\tremaining: 286ms\n",
      "8:\tlearn: 0.5041271\ttotal: 26.7ms\tremaining: 270ms\n",
      "9:\tlearn: 0.4937067\ttotal: 28.4ms\tremaining: 256ms\n",
      "10:\tlearn: 0.4819132\ttotal: 30.2ms\tremaining: 244ms\n",
      "11:\tlearn: 0.4743886\ttotal: 32.7ms\tremaining: 240ms\n",
      "12:\tlearn: 0.4682508\ttotal: 34.5ms\tremaining: 231ms\n",
      "13:\tlearn: 0.4609182\ttotal: 36.3ms\tremaining: 223ms\n",
      "14:\tlearn: 0.4555507\ttotal: 38ms\tremaining: 216ms\n",
      "15:\tlearn: 0.4511021\ttotal: 39.9ms\tremaining: 209ms\n",
      "16:\tlearn: 0.4468091\ttotal: 42ms\tremaining: 205ms\n",
      "17:\tlearn: 0.4434016\ttotal: 44.1ms\tremaining: 201ms\n",
      "18:\tlearn: 0.4382496\ttotal: 46.1ms\tremaining: 197ms\n",
      "19:\tlearn: 0.4344452\ttotal: 48.3ms\tremaining: 193ms\n",
      "20:\tlearn: 0.4321681\ttotal: 50.4ms\tremaining: 190ms\n",
      "21:\tlearn: 0.4303744\ttotal: 52.2ms\tremaining: 185ms\n",
      "22:\tlearn: 0.4270459\ttotal: 54.4ms\tremaining: 182ms\n",
      "23:\tlearn: 0.4254769\ttotal: 56.5ms\tremaining: 179ms\n",
      "24:\tlearn: 0.4242986\ttotal: 58.1ms\tremaining: 174ms\n",
      "25:\tlearn: 0.4223058\ttotal: 60.5ms\tremaining: 172ms\n",
      "26:\tlearn: 0.4199585\ttotal: 62.6ms\tremaining: 169ms\n",
      "27:\tlearn: 0.4181299\ttotal: 64.3ms\tremaining: 165ms\n",
      "28:\tlearn: 0.4166000\ttotal: 66.3ms\tremaining: 162ms\n",
      "29:\tlearn: 0.4151354\ttotal: 68.1ms\tremaining: 159ms\n",
      "30:\tlearn: 0.4142189\ttotal: 69.9ms\tremaining: 156ms\n",
      "31:\tlearn: 0.4130632\ttotal: 71.7ms\tremaining: 152ms\n",
      "32:\tlearn: 0.4115446\ttotal: 74.1ms\tremaining: 151ms\n",
      "33:\tlearn: 0.4104760\ttotal: 75.9ms\tremaining: 147ms\n",
      "34:\tlearn: 0.4089429\ttotal: 77.9ms\tremaining: 145ms\n",
      "35:\tlearn: 0.4080027\ttotal: 79.6ms\tremaining: 142ms\n",
      "36:\tlearn: 0.4064562\ttotal: 81.3ms\tremaining: 138ms\n",
      "37:\tlearn: 0.4057406\ttotal: 83ms\tremaining: 135ms\n",
      "38:\tlearn: 0.4042374\ttotal: 84.8ms\tremaining: 133ms\n",
      "39:\tlearn: 0.4029022\ttotal: 86.5ms\tremaining: 130ms\n",
      "40:\tlearn: 0.4011507\ttotal: 88.4ms\tremaining: 127ms\n",
      "41:\tlearn: 0.3999492\ttotal: 90.1ms\tremaining: 124ms\n",
      "42:\tlearn: 0.3984932\ttotal: 91.9ms\tremaining: 122ms\n",
      "43:\tlearn: 0.3976245\ttotal: 93.6ms\tremaining: 119ms\n",
      "44:\tlearn: 0.3972547\ttotal: 95.3ms\tremaining: 116ms\n",
      "45:\tlearn: 0.3967746\ttotal: 97.8ms\tremaining: 115ms\n",
      "46:\tlearn: 0.3960148\ttotal: 99.6ms\tremaining: 112ms\n",
      "47:\tlearn: 0.3948483\ttotal: 101ms\tremaining: 110ms\n",
      "48:\tlearn: 0.3941406\ttotal: 103ms\tremaining: 107ms\n",
      "49:\tlearn: 0.3933384\ttotal: 105ms\tremaining: 105ms\n",
      "50:\tlearn: 0.3926259\ttotal: 106ms\tremaining: 102ms\n",
      "51:\tlearn: 0.3919924\ttotal: 108ms\tremaining: 99.8ms\n",
      "52:\tlearn: 0.3909630\ttotal: 110ms\tremaining: 97.4ms\n",
      "53:\tlearn: 0.3904242\ttotal: 112ms\tremaining: 95.1ms\n",
      "54:\tlearn: 0.3899441\ttotal: 113ms\tremaining: 92.7ms\n",
      "55:\tlearn: 0.3891795\ttotal: 115ms\tremaining: 90.3ms\n",
      "56:\tlearn: 0.3882590\ttotal: 117ms\tremaining: 88ms\n",
      "57:\tlearn: 0.3878468\ttotal: 118ms\tremaining: 85.7ms\n",
      "58:\tlearn: 0.3870798\ttotal: 120ms\tremaining: 83.5ms\n",
      "59:\tlearn: 0.3866306\ttotal: 122ms\tremaining: 81.3ms\n",
      "60:\tlearn: 0.3857493\ttotal: 124ms\tremaining: 79.1ms\n",
      "61:\tlearn: 0.3856911\ttotal: 125ms\tremaining: 76.4ms\n",
      "62:\tlearn: 0.3851791\ttotal: 126ms\tremaining: 74.2ms\n",
      "63:\tlearn: 0.3836504\ttotal: 128ms\tremaining: 72ms\n",
      "64:\tlearn: 0.3829328\ttotal: 130ms\tremaining: 69.9ms\n",
      "65:\tlearn: 0.3826944\ttotal: 132ms\tremaining: 67.7ms\n",
      "66:\tlearn: 0.3820013\ttotal: 133ms\tremaining: 65.7ms\n",
      "67:\tlearn: 0.3816090\ttotal: 135ms\tremaining: 63.6ms\n",
      "68:\tlearn: 0.3810447\ttotal: 137ms\tremaining: 61.5ms\n",
      "69:\tlearn: 0.3809212\ttotal: 139ms\tremaining: 59.4ms\n",
      "70:\tlearn: 0.3798630\ttotal: 140ms\tremaining: 57.3ms\n",
      "71:\tlearn: 0.3792767\ttotal: 142ms\tremaining: 55.4ms\n",
      "72:\tlearn: 0.3791763\ttotal: 145ms\tremaining: 53.8ms\n",
      "73:\tlearn: 0.3786027\ttotal: 148ms\tremaining: 51.9ms\n",
      "74:\tlearn: 0.3776315\ttotal: 150ms\tremaining: 49.9ms\n",
      "75:\tlearn: 0.3766292\ttotal: 151ms\tremaining: 47.8ms\n",
      "76:\tlearn: 0.3760848\ttotal: 153ms\tremaining: 45.7ms\n",
      "77:\tlearn: 0.3756363\ttotal: 155ms\tremaining: 43.6ms\n",
      "78:\tlearn: 0.3752110\ttotal: 156ms\tremaining: 41.6ms\n",
      "79:\tlearn: 0.3750178\ttotal: 159ms\tremaining: 39.7ms\n",
      "80:\tlearn: 0.3747113\ttotal: 160ms\tremaining: 37.6ms\n",
      "81:\tlearn: 0.3743073\ttotal: 162ms\tremaining: 35.6ms\n",
      "82:\tlearn: 0.3740414\ttotal: 164ms\tremaining: 33.6ms\n",
      "83:\tlearn: 0.3736717\ttotal: 166ms\tremaining: 31.5ms\n",
      "84:\tlearn: 0.3728018\ttotal: 167ms\tremaining: 29.5ms\n",
      "85:\tlearn: 0.3726660\ttotal: 169ms\tremaining: 27.5ms\n",
      "86:\tlearn: 0.3723703\ttotal: 171ms\tremaining: 25.5ms\n",
      "87:\tlearn: 0.3720895\ttotal: 172ms\tremaining: 23.5ms\n",
      "88:\tlearn: 0.3713609\ttotal: 174ms\tremaining: 21.5ms\n",
      "89:\tlearn: 0.3708912\ttotal: 176ms\tremaining: 19.5ms\n",
      "90:\tlearn: 0.3707952\ttotal: 177ms\tremaining: 17.5ms\n",
      "91:\tlearn: 0.3704288\ttotal: 179ms\tremaining: 15.6ms\n",
      "92:\tlearn: 0.3700441\ttotal: 181ms\tremaining: 13.6ms\n",
      "93:\tlearn: 0.3699018\ttotal: 182ms\tremaining: 11.6ms\n",
      "94:\tlearn: 0.3697241\ttotal: 184ms\tremaining: 9.69ms\n",
      "95:\tlearn: 0.3696563\ttotal: 186ms\tremaining: 7.75ms\n",
      "96:\tlearn: 0.3693281\ttotal: 188ms\tremaining: 5.81ms\n",
      "97:\tlearn: 0.3690498\ttotal: 190ms\tremaining: 3.87ms\n",
      "98:\tlearn: 0.3687136\ttotal: 192ms\tremaining: 1.93ms\n",
      "99:\tlearn: 0.3686275\ttotal: 193ms\tremaining: 0us\n"
     ]
    },
    {
     "name": "stdout",
     "output_type": "stream",
     "text": [
      "0:\tlearn: 0.6617776\ttotal: 5.26ms\tremaining: 520ms\n",
      "1:\tlearn: 0.6281587\ttotal: 10.8ms\tremaining: 529ms\n",
      "2:\tlearn: 0.6008092\ttotal: 15.4ms\tremaining: 499ms\n",
      "3:\tlearn: 0.5784196\ttotal: 17.1ms\tremaining: 410ms\n",
      "4:\tlearn: 0.5626125\ttotal: 18ms\tremaining: 343ms\n",
      "5:\tlearn: 0.5442157\ttotal: 19.7ms\tremaining: 309ms\n",
      "6:\tlearn: 0.5263414\ttotal: 21.3ms\tremaining: 284ms\n",
      "7:\tlearn: 0.5105485\ttotal: 23.3ms\tremaining: 268ms\n",
      "8:\tlearn: 0.4998939\ttotal: 25.1ms\tremaining: 253ms\n",
      "9:\tlearn: 0.4872413\ttotal: 26.8ms\tremaining: 241ms\n",
      "10:\tlearn: 0.4755149\ttotal: 28.5ms\tremaining: 230ms\n",
      "11:\tlearn: 0.4677845\ttotal: 30.3ms\tremaining: 222ms\n",
      "12:\tlearn: 0.4613892\ttotal: 31.9ms\tremaining: 214ms\n",
      "13:\tlearn: 0.4545101\ttotal: 33.6ms\tremaining: 207ms\n",
      "14:\tlearn: 0.4489038\ttotal: 35.4ms\tremaining: 200ms\n",
      "15:\tlearn: 0.4444791\ttotal: 37.2ms\tremaining: 195ms\n",
      "16:\tlearn: 0.4379975\ttotal: 38.9ms\tremaining: 190ms\n",
      "17:\tlearn: 0.4353477\ttotal: 40.6ms\tremaining: 185ms\n",
      "18:\tlearn: 0.4316919\ttotal: 42.3ms\tremaining: 180ms\n",
      "19:\tlearn: 0.4285959\ttotal: 44.1ms\tremaining: 177ms\n",
      "20:\tlearn: 0.4266209\ttotal: 45.8ms\tremaining: 172ms\n",
      "21:\tlearn: 0.4244868\ttotal: 47.5ms\tremaining: 169ms\n",
      "22:\tlearn: 0.4218185\ttotal: 49.3ms\tremaining: 165ms\n",
      "23:\tlearn: 0.4197062\ttotal: 51ms\tremaining: 162ms\n",
      "24:\tlearn: 0.4176075\ttotal: 53.1ms\tremaining: 159ms\n",
      "25:\tlearn: 0.4141803\ttotal: 54.8ms\tremaining: 156ms\n",
      "26:\tlearn: 0.4134158\ttotal: 56ms\tremaining: 151ms\n",
      "27:\tlearn: 0.4108882\ttotal: 57.8ms\tremaining: 149ms\n",
      "28:\tlearn: 0.4092814\ttotal: 59.5ms\tremaining: 146ms\n",
      "29:\tlearn: 0.4066861\ttotal: 61.3ms\tremaining: 143ms\n",
      "30:\tlearn: 0.4054832\ttotal: 63ms\tremaining: 140ms\n",
      "31:\tlearn: 0.4045285\ttotal: 64.7ms\tremaining: 138ms\n",
      "32:\tlearn: 0.4030575\ttotal: 66.4ms\tremaining: 135ms\n",
      "33:\tlearn: 0.4021330\ttotal: 68.2ms\tremaining: 132ms\n",
      "34:\tlearn: 0.4011736\ttotal: 70.1ms\tremaining: 130ms\n",
      "35:\tlearn: 0.4003476\ttotal: 71.8ms\tremaining: 128ms\n",
      "36:\tlearn: 0.3998927\ttotal: 73.6ms\tremaining: 125ms\n",
      "37:\tlearn: 0.3988458\ttotal: 75.3ms\tremaining: 123ms\n",
      "38:\tlearn: 0.3974663\ttotal: 77ms\tremaining: 121ms\n",
      "39:\tlearn: 0.3963261\ttotal: 78.7ms\tremaining: 118ms\n",
      "40:\tlearn: 0.3955210\ttotal: 80.4ms\tremaining: 116ms\n",
      "41:\tlearn: 0.3945145\ttotal: 82ms\tremaining: 113ms\n",
      "42:\tlearn: 0.3939109\ttotal: 84ms\tremaining: 111ms\n",
      "43:\tlearn: 0.3930644\ttotal: 85.7ms\tremaining: 109ms\n",
      "44:\tlearn: 0.3921012\ttotal: 87.4ms\tremaining: 107ms\n",
      "45:\tlearn: 0.3916595\ttotal: 89.1ms\tremaining: 105ms\n",
      "46:\tlearn: 0.3908008\ttotal: 90.8ms\tremaining: 102ms\n",
      "47:\tlearn: 0.3896663\ttotal: 92.5ms\tremaining: 100ms\n",
      "48:\tlearn: 0.3885729\ttotal: 94.1ms\tremaining: 98ms\n",
      "49:\tlearn: 0.3872048\ttotal: 95.8ms\tremaining: 95.8ms\n",
      "50:\tlearn: 0.3859342\ttotal: 97.6ms\tremaining: 93.8ms\n",
      "51:\tlearn: 0.3858453\ttotal: 99.1ms\tremaining: 91.4ms\n",
      "52:\tlearn: 0.3854981\ttotal: 101ms\tremaining: 89.3ms\n",
      "53:\tlearn: 0.3846616\ttotal: 102ms\tremaining: 87.2ms\n",
      "54:\tlearn: 0.3838871\ttotal: 104ms\tremaining: 85.2ms\n",
      "55:\tlearn: 0.3836852\ttotal: 106ms\tremaining: 83.2ms\n",
      "56:\tlearn: 0.3829582\ttotal: 108ms\tremaining: 81.1ms\n",
      "57:\tlearn: 0.3824206\ttotal: 109ms\tremaining: 79.1ms\n",
      "58:\tlearn: 0.3813851\ttotal: 111ms\tremaining: 77.1ms\n",
      "59:\tlearn: 0.3810971\ttotal: 113ms\tremaining: 75.2ms\n",
      "60:\tlearn: 0.3805393\ttotal: 115ms\tremaining: 73.3ms\n",
      "61:\tlearn: 0.3801036\ttotal: 116ms\tremaining: 71.2ms\n",
      "62:\tlearn: 0.3800363\ttotal: 117ms\tremaining: 68.8ms\n",
      "63:\tlearn: 0.3797151\ttotal: 119ms\tremaining: 66.8ms\n",
      "64:\tlearn: 0.3794632\ttotal: 120ms\tremaining: 64.9ms\n",
      "65:\tlearn: 0.3785223\ttotal: 122ms\tremaining: 62.9ms\n",
      "66:\tlearn: 0.3785004\ttotal: 123ms\tremaining: 60.6ms\n",
      "67:\tlearn: 0.3783066\ttotal: 125ms\tremaining: 58.7ms\n",
      "68:\tlearn: 0.3781540\ttotal: 127ms\tremaining: 56.8ms\n",
      "69:\tlearn: 0.3774480\ttotal: 128ms\tremaining: 55ms\n",
      "70:\tlearn: 0.3763902\ttotal: 130ms\tremaining: 53.1ms\n",
      "71:\tlearn: 0.3755437\ttotal: 132ms\tremaining: 51.2ms\n",
      "72:\tlearn: 0.3745679\ttotal: 134ms\tremaining: 49.4ms\n",
      "73:\tlearn: 0.3738809\ttotal: 135ms\tremaining: 47.5ms\n",
      "74:\tlearn: 0.3730917\ttotal: 137ms\tremaining: 45.6ms\n",
      "75:\tlearn: 0.3725884\ttotal: 139ms\tremaining: 43.8ms\n",
      "76:\tlearn: 0.3722645\ttotal: 141ms\tremaining: 42ms\n",
      "77:\tlearn: 0.3714728\ttotal: 142ms\tremaining: 40.1ms\n",
      "78:\tlearn: 0.3713239\ttotal: 144ms\tremaining: 38.3ms\n",
      "79:\tlearn: 0.3713047\ttotal: 145ms\tremaining: 36.3ms\n",
      "80:\tlearn: 0.3706759\ttotal: 147ms\tremaining: 34.5ms\n",
      "81:\tlearn: 0.3701497\ttotal: 149ms\tremaining: 32.6ms\n",
      "82:\tlearn: 0.3695967\ttotal: 150ms\tremaining: 30.8ms\n",
      "83:\tlearn: 0.3692031\ttotal: 152ms\tremaining: 28.9ms\n",
      "84:\tlearn: 0.3690195\ttotal: 154ms\tremaining: 27.1ms\n",
      "85:\tlearn: 0.3686091\ttotal: 155ms\tremaining: 25.3ms\n",
      "86:\tlearn: 0.3685704\ttotal: 157ms\tremaining: 23.5ms\n",
      "87:\tlearn: 0.3681110\ttotal: 159ms\tremaining: 21.6ms\n",
      "88:\tlearn: 0.3676154\ttotal: 160ms\tremaining: 19.8ms\n",
      "89:\tlearn: 0.3672622\ttotal: 162ms\tremaining: 18ms\n",
      "90:\tlearn: 0.3668306\ttotal: 164ms\tremaining: 16.2ms\n",
      "91:\tlearn: 0.3661375\ttotal: 165ms\tremaining: 14.4ms\n",
      "92:\tlearn: 0.3657495\ttotal: 168ms\tremaining: 12.6ms\n",
      "93:\tlearn: 0.3653674\ttotal: 171ms\tremaining: 10.9ms\n",
      "94:\tlearn: 0.3652327\ttotal: 172ms\tremaining: 9.06ms\n",
      "95:\tlearn: 0.3648948\ttotal: 174ms\tremaining: 7.24ms\n",
      "96:\tlearn: 0.3636961\ttotal: 176ms\tremaining: 5.43ms\n",
      "97:\tlearn: 0.3634268\ttotal: 177ms\tremaining: 3.62ms\n",
      "98:\tlearn: 0.3634113\ttotal: 179ms\tremaining: 1.8ms\n",
      "99:\tlearn: 0.3633638\ttotal: 181ms\tremaining: 0us\n",
      "0:\tlearn: 0.6624667\ttotal: 5.35ms\tremaining: 530ms\n",
      "1:\tlearn: 0.6300487\ttotal: 10.6ms\tremaining: 520ms\n",
      "2:\tlearn: 0.6035879\ttotal: 15.3ms\tremaining: 496ms\n",
      "3:\tlearn: 0.5840765\ttotal: 17ms\tremaining: 409ms\n",
      "4:\tlearn: 0.5690451\ttotal: 18ms\tremaining: 343ms\n",
      "5:\tlearn: 0.5512333\ttotal: 19.7ms\tremaining: 308ms\n",
      "6:\tlearn: 0.5343281\ttotal: 21.3ms\tremaining: 283ms\n",
      "7:\tlearn: 0.5186123\ttotal: 23ms\tremaining: 265ms\n",
      "8:\tlearn: 0.5079379\ttotal: 24.7ms\tremaining: 250ms\n",
      "9:\tlearn: 0.4964808\ttotal: 26.3ms\tremaining: 237ms\n",
      "10:\tlearn: 0.4858725\ttotal: 28.2ms\tremaining: 228ms\n",
      "11:\tlearn: 0.4789094\ttotal: 30.6ms\tremaining: 224ms\n",
      "12:\tlearn: 0.4730129\ttotal: 32.3ms\tremaining: 216ms\n",
      "13:\tlearn: 0.4651921\ttotal: 34.1ms\tremaining: 209ms\n",
      "14:\tlearn: 0.4599063\ttotal: 36.1ms\tremaining: 205ms\n",
      "15:\tlearn: 0.4554822\ttotal: 38.2ms\tremaining: 201ms\n",
      "16:\tlearn: 0.4520383\ttotal: 40.3ms\tremaining: 197ms\n",
      "17:\tlearn: 0.4489131\ttotal: 41.7ms\tremaining: 190ms\n",
      "18:\tlearn: 0.4439411\ttotal: 44ms\tremaining: 188ms\n",
      "19:\tlearn: 0.4405464\ttotal: 45.8ms\tremaining: 183ms\n",
      "20:\tlearn: 0.4383665\ttotal: 47.9ms\tremaining: 180ms\n",
      "21:\tlearn: 0.4349979\ttotal: 49.5ms\tremaining: 176ms\n",
      "22:\tlearn: 0.4329732\ttotal: 52.3ms\tremaining: 175ms\n",
      "23:\tlearn: 0.4294963\ttotal: 54.5ms\tremaining: 173ms\n",
      "24:\tlearn: 0.4268373\ttotal: 56.2ms\tremaining: 169ms\n",
      "25:\tlearn: 0.4249098\ttotal: 57.9ms\tremaining: 165ms\n",
      "26:\tlearn: 0.4229410\ttotal: 59.5ms\tremaining: 161ms\n",
      "27:\tlearn: 0.4209837\ttotal: 61.2ms\tremaining: 157ms\n",
      "28:\tlearn: 0.4196830\ttotal: 63.2ms\tremaining: 155ms\n",
      "29:\tlearn: 0.4182586\ttotal: 65.2ms\tremaining: 152ms\n",
      "30:\tlearn: 0.4168276\ttotal: 67.5ms\tremaining: 150ms\n",
      "31:\tlearn: 0.4142351\ttotal: 69.2ms\tremaining: 147ms\n",
      "32:\tlearn: 0.4126842\ttotal: 71ms\tremaining: 144ms\n",
      "33:\tlearn: 0.4118986\ttotal: 72.3ms\tremaining: 140ms\n",
      "34:\tlearn: 0.4112550\ttotal: 74ms\tremaining: 137ms\n",
      "35:\tlearn: 0.4100793\ttotal: 75.7ms\tremaining: 135ms\n",
      "36:\tlearn: 0.4095391\ttotal: 80.1ms\tremaining: 136ms\n",
      "37:\tlearn: 0.4089828\ttotal: 82.4ms\tremaining: 134ms\n",
      "38:\tlearn: 0.4075199\ttotal: 85ms\tremaining: 133ms\n",
      "39:\tlearn: 0.4066964\ttotal: 87.3ms\tremaining: 131ms\n",
      "40:\tlearn: 0.4057995\ttotal: 89.4ms\tremaining: 129ms\n",
      "41:\tlearn: 0.4056057\ttotal: 91.8ms\tremaining: 127ms\n",
      "42:\tlearn: 0.4042040\ttotal: 94.1ms\tremaining: 125ms\n",
      "43:\tlearn: 0.4034786\ttotal: 97.2ms\tremaining: 124ms\n",
      "44:\tlearn: 0.4030568\ttotal: 99.3ms\tremaining: 121ms\n",
      "45:\tlearn: 0.4022304\ttotal: 102ms\tremaining: 119ms\n",
      "46:\tlearn: 0.4014597\ttotal: 104ms\tremaining: 117ms\n",
      "47:\tlearn: 0.4005715\ttotal: 106ms\tremaining: 115ms\n",
      "48:\tlearn: 0.3997030\ttotal: 109ms\tremaining: 114ms\n",
      "49:\tlearn: 0.3994092\ttotal: 111ms\tremaining: 111ms\n",
      "50:\tlearn: 0.3989632\ttotal: 114ms\tremaining: 109ms\n",
      "51:\tlearn: 0.3984624\ttotal: 115ms\tremaining: 106ms\n",
      "52:\tlearn: 0.3976325\ttotal: 117ms\tremaining: 104ms\n",
      "53:\tlearn: 0.3969709\ttotal: 119ms\tremaining: 102ms\n",
      "54:\tlearn: 0.3967272\ttotal: 121ms\tremaining: 99.3ms\n",
      "55:\tlearn: 0.3965107\ttotal: 124ms\tremaining: 97.1ms\n",
      "56:\tlearn: 0.3963822\ttotal: 125ms\tremaining: 94.5ms\n",
      "57:\tlearn: 0.3953163\ttotal: 127ms\tremaining: 91.9ms\n",
      "58:\tlearn: 0.3944263\ttotal: 129ms\tremaining: 89.4ms\n",
      "59:\tlearn: 0.3937973\ttotal: 130ms\tremaining: 86.9ms\n",
      "60:\tlearn: 0.3937967\ttotal: 132ms\tremaining: 84.5ms\n",
      "61:\tlearn: 0.3937373\ttotal: 134ms\tremaining: 82.4ms\n",
      "62:\tlearn: 0.3932422\ttotal: 136ms\tremaining: 80ms\n",
      "63:\tlearn: 0.3931213\ttotal: 138ms\tremaining: 77.9ms\n",
      "64:\tlearn: 0.3928681\ttotal: 140ms\tremaining: 75.5ms\n",
      "65:\tlearn: 0.3925486\ttotal: 142ms\tremaining: 73.1ms\n",
      "66:\tlearn: 0.3923046\ttotal: 144ms\tremaining: 70.7ms\n",
      "67:\tlearn: 0.3913308\ttotal: 146ms\tremaining: 68.8ms\n",
      "68:\tlearn: 0.3908360\ttotal: 148ms\tremaining: 66.6ms\n",
      "69:\tlearn: 0.3904411\ttotal: 150ms\tremaining: 64.4ms\n",
      "70:\tlearn: 0.3900265\ttotal: 152ms\tremaining: 62.1ms\n",
      "71:\tlearn: 0.3898692\ttotal: 154ms\tremaining: 59.8ms\n",
      "72:\tlearn: 0.3898686\ttotal: 155ms\tremaining: 57.2ms\n",
      "73:\tlearn: 0.3898446\ttotal: 156ms\tremaining: 55ms\n",
      "74:\tlearn: 0.3896208\ttotal: 158ms\tremaining: 52.7ms\n",
      "75:\tlearn: 0.3892377\ttotal: 160ms\tremaining: 50.6ms\n",
      "76:\tlearn: 0.3887927\ttotal: 162ms\tremaining: 48.4ms\n",
      "77:\tlearn: 0.3884868\ttotal: 164ms\tremaining: 46.2ms\n",
      "78:\tlearn: 0.3883179\ttotal: 165ms\tremaining: 44ms\n",
      "79:\tlearn: 0.3880483\ttotal: 167ms\tremaining: 41.8ms\n",
      "80:\tlearn: 0.3879662\ttotal: 169ms\tremaining: 39.5ms\n",
      "81:\tlearn: 0.3869530\ttotal: 171ms\tremaining: 37.4ms\n",
      "82:\tlearn: 0.3862128\ttotal: 172ms\tremaining: 35.3ms\n",
      "83:\tlearn: 0.3857092\ttotal: 174ms\tremaining: 33.2ms\n",
      "84:\tlearn: 0.3855351\ttotal: 176ms\tremaining: 31.1ms\n",
      "85:\tlearn: 0.3838626\ttotal: 178ms\tremaining: 29ms\n",
      "86:\tlearn: 0.3837010\ttotal: 180ms\tremaining: 26.9ms\n",
      "87:\tlearn: 0.3830435\ttotal: 182ms\tremaining: 24.8ms\n",
      "88:\tlearn: 0.3829032\ttotal: 184ms\tremaining: 22.7ms\n",
      "89:\tlearn: 0.3821954\ttotal: 186ms\tremaining: 20.6ms\n",
      "90:\tlearn: 0.3816273\ttotal: 187ms\tremaining: 18.5ms\n",
      "91:\tlearn: 0.3810586\ttotal: 189ms\tremaining: 16.5ms\n",
      "92:\tlearn: 0.3806464\ttotal: 191ms\tremaining: 14.4ms\n",
      "93:\tlearn: 0.3803611\ttotal: 193ms\tremaining: 12.3ms\n",
      "94:\tlearn: 0.3797408\ttotal: 195ms\tremaining: 10.3ms\n",
      "95:\tlearn: 0.3794561\ttotal: 197ms\tremaining: 8.2ms\n",
      "96:\tlearn: 0.3787847\ttotal: 199ms\tremaining: 6.14ms\n",
      "97:\tlearn: 0.3781568\ttotal: 200ms\tremaining: 4.08ms\n",
      "98:\tlearn: 0.3772578\ttotal: 202ms\tremaining: 2.04ms\n",
      "99:\tlearn: 0.3769448\ttotal: 205ms\tremaining: 0us\n"
     ]
    },
    {
     "name": "stdout",
     "output_type": "stream",
     "text": [
      "0:\tlearn: 0.6568557\ttotal: 6.81ms\tremaining: 674ms\n",
      "1:\tlearn: 0.6263296\ttotal: 12.2ms\tremaining: 596ms\n",
      "2:\tlearn: 0.6007111\ttotal: 14.2ms\tremaining: 458ms\n",
      "3:\tlearn: 0.5763008\ttotal: 16.5ms\tremaining: 397ms\n",
      "4:\tlearn: 0.5604433\ttotal: 18.3ms\tremaining: 347ms\n",
      "5:\tlearn: 0.5412645\ttotal: 19.9ms\tremaining: 312ms\n",
      "6:\tlearn: 0.5248695\ttotal: 21.6ms\tremaining: 286ms\n",
      "7:\tlearn: 0.5103739\ttotal: 23.3ms\tremaining: 268ms\n",
      "8:\tlearn: 0.4991950\ttotal: 25.3ms\tremaining: 256ms\n",
      "9:\tlearn: 0.4903316\ttotal: 27.6ms\tremaining: 248ms\n",
      "10:\tlearn: 0.4801281\ttotal: 30.4ms\tremaining: 246ms\n",
      "11:\tlearn: 0.4728511\ttotal: 32.9ms\tremaining: 241ms\n",
      "12:\tlearn: 0.4672377\ttotal: 35ms\tremaining: 234ms\n",
      "13:\tlearn: 0.4608620\ttotal: 37.3ms\tremaining: 229ms\n",
      "14:\tlearn: 0.4554578\ttotal: 39.6ms\tremaining: 224ms\n",
      "15:\tlearn: 0.4520170\ttotal: 50.8ms\tremaining: 267ms\n",
      "16:\tlearn: 0.4475049\ttotal: 52.6ms\tremaining: 257ms\n",
      "17:\tlearn: 0.4428789\ttotal: 54.3ms\tremaining: 247ms\n",
      "18:\tlearn: 0.4406941\ttotal: 56.3ms\tremaining: 240ms\n",
      "19:\tlearn: 0.4368471\ttotal: 59.1ms\tremaining: 236ms\n",
      "20:\tlearn: 0.4324050\ttotal: 60.9ms\tremaining: 229ms\n",
      "21:\tlearn: 0.4282248\ttotal: 63.1ms\tremaining: 224ms\n",
      "22:\tlearn: 0.4267612\ttotal: 65.1ms\tremaining: 218ms\n",
      "23:\tlearn: 0.4245641\ttotal: 66.8ms\tremaining: 211ms\n",
      "24:\tlearn: 0.4227755\ttotal: 68.8ms\tremaining: 207ms\n",
      "25:\tlearn: 0.4200968\ttotal: 70.6ms\tremaining: 201ms\n",
      "26:\tlearn: 0.4184085\ttotal: 73.4ms\tremaining: 198ms\n",
      "27:\tlearn: 0.4169719\ttotal: 75.5ms\tremaining: 194ms\n",
      "28:\tlearn: 0.4156556\ttotal: 77.6ms\tremaining: 190ms\n",
      "29:\tlearn: 0.4145223\ttotal: 79.3ms\tremaining: 185ms\n",
      "30:\tlearn: 0.4129535\ttotal: 81.2ms\tremaining: 181ms\n",
      "31:\tlearn: 0.4129109\ttotal: 82.1ms\tremaining: 175ms\n",
      "32:\tlearn: 0.4114614\ttotal: 83.7ms\tremaining: 170ms\n",
      "33:\tlearn: 0.4098866\ttotal: 86.9ms\tremaining: 169ms\n",
      "34:\tlearn: 0.4085558\ttotal: 89.2ms\tremaining: 166ms\n",
      "35:\tlearn: 0.4074934\ttotal: 90.9ms\tremaining: 162ms\n",
      "36:\tlearn: 0.4060663\ttotal: 92.6ms\tremaining: 158ms\n",
      "37:\tlearn: 0.4051405\ttotal: 94.2ms\tremaining: 154ms\n",
      "38:\tlearn: 0.4044542\ttotal: 96ms\tremaining: 150ms\n",
      "39:\tlearn: 0.4040227\ttotal: 97.7ms\tremaining: 146ms\n",
      "40:\tlearn: 0.4032492\ttotal: 100ms\tremaining: 144ms\n",
      "41:\tlearn: 0.4025613\ttotal: 102ms\tremaining: 141ms\n",
      "42:\tlearn: 0.4007240\ttotal: 104ms\tremaining: 138ms\n",
      "43:\tlearn: 0.4002479\ttotal: 105ms\tremaining: 134ms\n",
      "44:\tlearn: 0.3997553\ttotal: 107ms\tremaining: 131ms\n",
      "45:\tlearn: 0.3992517\ttotal: 109ms\tremaining: 128ms\n",
      "46:\tlearn: 0.3987662\ttotal: 112ms\tremaining: 126ms\n",
      "47:\tlearn: 0.3980640\ttotal: 114ms\tremaining: 124ms\n",
      "48:\tlearn: 0.3977108\ttotal: 117ms\tremaining: 122ms\n",
      "49:\tlearn: 0.3962000\ttotal: 119ms\tremaining: 119ms\n",
      "50:\tlearn: 0.3955594\ttotal: 122ms\tremaining: 117ms\n",
      "51:\tlearn: 0.3946304\ttotal: 124ms\tremaining: 115ms\n",
      "52:\tlearn: 0.3935597\ttotal: 126ms\tremaining: 112ms\n",
      "53:\tlearn: 0.3926513\ttotal: 129ms\tremaining: 110ms\n",
      "54:\tlearn: 0.3923033\ttotal: 132ms\tremaining: 108ms\n",
      "55:\tlearn: 0.3917052\ttotal: 133ms\tremaining: 105ms\n",
      "56:\tlearn: 0.3910733\ttotal: 136ms\tremaining: 103ms\n",
      "57:\tlearn: 0.3904510\ttotal: 138ms\tremaining: 100ms\n",
      "58:\tlearn: 0.3904434\ttotal: 140ms\tremaining: 97.5ms\n",
      "59:\tlearn: 0.3899394\ttotal: 143ms\tremaining: 95.3ms\n",
      "60:\tlearn: 0.3892280\ttotal: 146ms\tremaining: 93.1ms\n",
      "61:\tlearn: 0.3890182\ttotal: 147ms\tremaining: 90.3ms\n",
      "62:\tlearn: 0.3886077\ttotal: 149ms\tremaining: 87.8ms\n",
      "63:\tlearn: 0.3882688\ttotal: 151ms\tremaining: 85ms\n",
      "64:\tlearn: 0.3874930\ttotal: 153ms\tremaining: 82.3ms\n",
      "65:\tlearn: 0.3869393\ttotal: 155ms\tremaining: 79.8ms\n",
      "66:\tlearn: 0.3866301\ttotal: 157ms\tremaining: 77.5ms\n",
      "67:\tlearn: 0.3860869\ttotal: 159ms\tremaining: 74.8ms\n",
      "68:\tlearn: 0.3857845\ttotal: 161ms\tremaining: 72.3ms\n",
      "69:\tlearn: 0.3854947\ttotal: 163ms\tremaining: 69.9ms\n",
      "70:\tlearn: 0.3850351\ttotal: 165ms\tremaining: 67.3ms\n",
      "71:\tlearn: 0.3845887\ttotal: 166ms\tremaining: 64.7ms\n",
      "72:\tlearn: 0.3835201\ttotal: 169ms\tremaining: 62.4ms\n",
      "73:\tlearn: 0.3829326\ttotal: 171ms\tremaining: 60.1ms\n",
      "74:\tlearn: 0.3825609\ttotal: 173ms\tremaining: 57.6ms\n",
      "75:\tlearn: 0.3821576\ttotal: 175ms\tremaining: 55.1ms\n",
      "76:\tlearn: 0.3820302\ttotal: 176ms\tremaining: 52.7ms\n",
      "77:\tlearn: 0.3814032\ttotal: 178ms\tremaining: 50.2ms\n",
      "78:\tlearn: 0.3814028\ttotal: 179ms\tremaining: 47.6ms\n",
      "79:\tlearn: 0.3810605\ttotal: 181ms\tremaining: 45.2ms\n",
      "80:\tlearn: 0.3806039\ttotal: 187ms\tremaining: 43.9ms\n",
      "81:\tlearn: 0.3805422\ttotal: 189ms\tremaining: 41.4ms\n",
      "82:\tlearn: 0.3801882\ttotal: 190ms\tremaining: 39ms\n",
      "83:\tlearn: 0.3797301\ttotal: 192ms\tremaining: 36.6ms\n",
      "84:\tlearn: 0.3796455\ttotal: 194ms\tremaining: 34.2ms\n",
      "85:\tlearn: 0.3791843\ttotal: 195ms\tremaining: 31.8ms\n",
      "86:\tlearn: 0.3785434\ttotal: 197ms\tremaining: 29.5ms\n",
      "87:\tlearn: 0.3784230\ttotal: 199ms\tremaining: 27.2ms\n",
      "88:\tlearn: 0.3783732\ttotal: 201ms\tremaining: 24.8ms\n",
      "89:\tlearn: 0.3783253\ttotal: 202ms\tremaining: 22.5ms\n",
      "90:\tlearn: 0.3776187\ttotal: 204ms\tremaining: 20.2ms\n",
      "91:\tlearn: 0.3775764\ttotal: 206ms\tremaining: 17.9ms\n",
      "92:\tlearn: 0.3775042\ttotal: 207ms\tremaining: 15.6ms\n",
      "93:\tlearn: 0.3769917\ttotal: 209ms\tremaining: 13.3ms\n",
      "94:\tlearn: 0.3763611\ttotal: 211ms\tremaining: 11.1ms\n",
      "95:\tlearn: 0.3761016\ttotal: 213ms\tremaining: 8.86ms\n",
      "96:\tlearn: 0.3758341\ttotal: 214ms\tremaining: 6.63ms\n",
      "97:\tlearn: 0.3757211\ttotal: 216ms\tremaining: 4.41ms\n",
      "98:\tlearn: 0.3753168\ttotal: 218ms\tremaining: 2.2ms\n",
      "99:\tlearn: 0.3750042\ttotal: 220ms\tremaining: 0us\n",
      "0:\tlearn: 0.6536024\ttotal: 5.68ms\tremaining: 562ms\n",
      "1:\tlearn: 0.6197048\ttotal: 11ms\tremaining: 537ms\n",
      "2:\tlearn: 0.5898575\ttotal: 13.3ms\tremaining: 431ms\n",
      "3:\tlearn: 0.5676252\ttotal: 18.8ms\tremaining: 451ms\n",
      "4:\tlearn: 0.5467192\ttotal: 20.8ms\tremaining: 394ms\n",
      "5:\tlearn: 0.5321647\ttotal: 22.2ms\tremaining: 347ms\n",
      "6:\tlearn: 0.5191665\ttotal: 23.8ms\tremaining: 316ms\n",
      "7:\tlearn: 0.5073612\ttotal: 25.4ms\tremaining: 292ms\n",
      "8:\tlearn: 0.4939314\ttotal: 27.2ms\tremaining: 275ms\n",
      "9:\tlearn: 0.4831825\ttotal: 30ms\tremaining: 270ms\n",
      "10:\tlearn: 0.4754574\ttotal: 31.8ms\tremaining: 257ms\n",
      "11:\tlearn: 0.4668054\ttotal: 34.2ms\tremaining: 251ms\n",
      "12:\tlearn: 0.4587028\ttotal: 36.6ms\tremaining: 245ms\n",
      "13:\tlearn: 0.4544722\ttotal: 38ms\tremaining: 233ms\n",
      "14:\tlearn: 0.4477186\ttotal: 39.7ms\tremaining: 225ms\n",
      "15:\tlearn: 0.4425784\ttotal: 41.4ms\tremaining: 218ms\n",
      "16:\tlearn: 0.4382916\ttotal: 43.1ms\tremaining: 211ms\n",
      "17:\tlearn: 0.4337518\ttotal: 45ms\tremaining: 205ms\n",
      "18:\tlearn: 0.4296083\ttotal: 46.7ms\tremaining: 199ms\n",
      "19:\tlearn: 0.4269409\ttotal: 48.7ms\tremaining: 195ms\n",
      "20:\tlearn: 0.4226630\ttotal: 50.8ms\tremaining: 191ms\n",
      "21:\tlearn: 0.4204331\ttotal: 52.6ms\tremaining: 186ms\n",
      "22:\tlearn: 0.4190250\ttotal: 54.3ms\tremaining: 182ms\n",
      "23:\tlearn: 0.4164793\ttotal: 56.1ms\tremaining: 177ms\n",
      "24:\tlearn: 0.4157290\ttotal: 57ms\tremaining: 171ms\n",
      "25:\tlearn: 0.4145958\ttotal: 58.8ms\tremaining: 167ms\n",
      "26:\tlearn: 0.4135201\ttotal: 61ms\tremaining: 165ms\n",
      "27:\tlearn: 0.4121420\ttotal: 63.1ms\tremaining: 162ms\n",
      "28:\tlearn: 0.4108361\ttotal: 64.5ms\tremaining: 158ms\n",
      "29:\tlearn: 0.4098248\ttotal: 66.3ms\tremaining: 155ms\n",
      "30:\tlearn: 0.4088584\ttotal: 68ms\tremaining: 151ms\n",
      "31:\tlearn: 0.4078763\ttotal: 69.7ms\tremaining: 148ms\n",
      "32:\tlearn: 0.4067252\ttotal: 71.5ms\tremaining: 145ms\n",
      "33:\tlearn: 0.4062626\ttotal: 72.7ms\tremaining: 141ms\n",
      "34:\tlearn: 0.4052085\ttotal: 75ms\tremaining: 139ms\n",
      "35:\tlearn: 0.4037455\ttotal: 76.9ms\tremaining: 137ms\n",
      "36:\tlearn: 0.4020293\ttotal: 78.6ms\tremaining: 134ms\n",
      "37:\tlearn: 0.4007118\ttotal: 80.3ms\tremaining: 131ms\n",
      "38:\tlearn: 0.3998163\ttotal: 82ms\tremaining: 128ms\n",
      "39:\tlearn: 0.3991257\ttotal: 83.7ms\tremaining: 126ms\n",
      "40:\tlearn: 0.3985318\ttotal: 85.4ms\tremaining: 123ms\n",
      "41:\tlearn: 0.3972546\ttotal: 87.2ms\tremaining: 120ms\n",
      "42:\tlearn: 0.3967015\ttotal: 89ms\tremaining: 118ms\n",
      "43:\tlearn: 0.3958018\ttotal: 91.2ms\tremaining: 116ms\n",
      "44:\tlearn: 0.3950530\ttotal: 93ms\tremaining: 114ms\n",
      "45:\tlearn: 0.3944350\ttotal: 94.7ms\tremaining: 111ms\n",
      "46:\tlearn: 0.3941073\ttotal: 96.5ms\tremaining: 109ms\n",
      "47:\tlearn: 0.3937505\ttotal: 98.2ms\tremaining: 106ms\n",
      "48:\tlearn: 0.3927420\ttotal: 99.9ms\tremaining: 104ms\n",
      "49:\tlearn: 0.3921792\ttotal: 102ms\tremaining: 102ms\n",
      "50:\tlearn: 0.3913830\ttotal: 104ms\tremaining: 99.5ms\n",
      "51:\tlearn: 0.3906368\ttotal: 105ms\tremaining: 97.2ms\n",
      "52:\tlearn: 0.3903357\ttotal: 107ms\tremaining: 94.8ms\n",
      "53:\tlearn: 0.3897327\ttotal: 109ms\tremaining: 92.5ms\n",
      "54:\tlearn: 0.3891587\ttotal: 110ms\tremaining: 90.3ms\n",
      "55:\tlearn: 0.3884028\ttotal: 112ms\tremaining: 88ms\n",
      "56:\tlearn: 0.3872851\ttotal: 114ms\tremaining: 85.8ms\n",
      "57:\tlearn: 0.3871327\ttotal: 116ms\tremaining: 83.7ms\n",
      "58:\tlearn: 0.3867850\ttotal: 117ms\tremaining: 81.5ms\n",
      "59:\tlearn: 0.3864169\ttotal: 119ms\tremaining: 79.4ms\n",
      "60:\tlearn: 0.3863165\ttotal: 121ms\tremaining: 77.2ms\n",
      "61:\tlearn: 0.3853057\ttotal: 122ms\tremaining: 75.1ms\n",
      "62:\tlearn: 0.3845143\ttotal: 124ms\tremaining: 73ms\n",
      "63:\tlearn: 0.3841565\ttotal: 126ms\tremaining: 70.8ms\n",
      "64:\tlearn: 0.3834323\ttotal: 128ms\tremaining: 68.7ms\n",
      "65:\tlearn: 0.3827543\ttotal: 129ms\tremaining: 66.6ms\n",
      "66:\tlearn: 0.3824914\ttotal: 131ms\tremaining: 64.5ms\n",
      "67:\tlearn: 0.3823721\ttotal: 133ms\tremaining: 62.6ms\n",
      "68:\tlearn: 0.3821853\ttotal: 135ms\tremaining: 60.5ms\n",
      "69:\tlearn: 0.3816192\ttotal: 137ms\tremaining: 58.6ms\n",
      "70:\tlearn: 0.3814892\ttotal: 139ms\tremaining: 56.8ms\n",
      "71:\tlearn: 0.3806604\ttotal: 141ms\tremaining: 54.8ms\n",
      "72:\tlearn: 0.3804542\ttotal: 142ms\tremaining: 52.7ms\n",
      "73:\tlearn: 0.3804374\ttotal: 143ms\tremaining: 50.4ms\n",
      "74:\tlearn: 0.3802450\ttotal: 145ms\tremaining: 48.3ms\n",
      "75:\tlearn: 0.3800366\ttotal: 147ms\tremaining: 46.4ms\n",
      "76:\tlearn: 0.3796708\ttotal: 149ms\tremaining: 44.6ms\n",
      "77:\tlearn: 0.3794054\ttotal: 151ms\tremaining: 42.7ms\n",
      "78:\tlearn: 0.3793903\ttotal: 152ms\tremaining: 40.5ms\n",
      "79:\tlearn: 0.3792643\ttotal: 154ms\tremaining: 38.5ms\n",
      "80:\tlearn: 0.3792503\ttotal: 155ms\tremaining: 36.3ms\n",
      "81:\tlearn: 0.3790487\ttotal: 157ms\tremaining: 34.4ms\n",
      "82:\tlearn: 0.3789763\ttotal: 158ms\tremaining: 32.4ms\n",
      "83:\tlearn: 0.3787670\ttotal: 160ms\tremaining: 30.5ms\n",
      "84:\tlearn: 0.3785459\ttotal: 163ms\tremaining: 28.7ms\n",
      "85:\tlearn: 0.3784814\ttotal: 165ms\tremaining: 26.8ms\n",
      "86:\tlearn: 0.3777449\ttotal: 166ms\tremaining: 24.9ms\n",
      "87:\tlearn: 0.3777417\ttotal: 168ms\tremaining: 22.9ms\n",
      "88:\tlearn: 0.3774556\ttotal: 170ms\tremaining: 21ms\n",
      "89:\tlearn: 0.3774181\ttotal: 172ms\tremaining: 19.1ms\n",
      "90:\tlearn: 0.3773443\ttotal: 174ms\tremaining: 17.2ms\n",
      "91:\tlearn: 0.3772501\ttotal: 176ms\tremaining: 15.3ms\n",
      "92:\tlearn: 0.3770136\ttotal: 178ms\tremaining: 13.4ms\n",
      "93:\tlearn: 0.3769776\ttotal: 180ms\tremaining: 11.5ms\n",
      "94:\tlearn: 0.3763672\ttotal: 182ms\tremaining: 9.59ms\n",
      "95:\tlearn: 0.3762977\ttotal: 184ms\tremaining: 7.66ms\n",
      "96:\tlearn: 0.3757025\ttotal: 186ms\tremaining: 5.74ms\n"
     ]
    },
    {
     "name": "stdout",
     "output_type": "stream",
     "text": [
      "97:\tlearn: 0.3752899\ttotal: 189ms\tremaining: 3.86ms\n",
      "98:\tlearn: 0.3751498\ttotal: 191ms\tremaining: 1.93ms\n",
      "99:\tlearn: 0.3751486\ttotal: 193ms\tremaining: 0us\n",
      "Accuracy: 85.94\n",
      "Accuracy CV 10-Fold: 0.8324182839632277\n",
      "Best Parameters: {'depth': 5, 'iterations': 100, 'learning_rate': 0.1}\n",
      "Running Time: 0:00:12.475403\n"
     ]
    }
   ],
   "source": [
    "# Cat Boost Trees\n",
    "start_time = time.time()\n",
    "\n",
    "learning_rate=[0.1]\n",
    "iterations=[100]\n",
    "depth=[5]\n",
    "\n",
    "params = dict(learning_rate=learning_rate,iterations=iterations,depth=depth)\n",
    "\n",
    "acc_cbt, acc_cv_cbt, best_para_cbt = fit_ml_algo(CatBoostClassifier(cat_features=cat_features), \n",
    "                                                  params,\n",
    "                                                  X_train, \n",
    "                                                  y_train,\n",
    "                                                  10)\n",
    "\n",
    "cbt_time = (time.time() - start_time)\n",
    "print(\"Accuracy: %s\" % acc_cbt)\n",
    "print(\"Accuracy CV 10-Fold: %s\" % acc_cv_cbt)\n",
    "print('Best Parameters: %s' % best_para_cbt)\n",
    "print(\"Running Time: %s\" % datetime.timedelta(seconds=cbt_time))"
   ]
  },
  {
   "cell_type": "code",
   "execution_count": 300,
   "metadata": {},
   "outputs": [
    {
     "name": "stdout",
     "output_type": "stream",
     "text": [
      "---CatBoost Metrics---\n",
      "Accuracy: 85.94\n",
      "Accuracy cross-validation 10-Fold: 0.8324182839632277\n",
      "Running Time: 0:00:12.475403\n"
     ]
    }
   ],
   "source": [
    "# Print out the CatBoost model metrics\n",
    "print(\"---CatBoost Metrics---\")\n",
    "print(\"Accuracy: {}\".format(acc_catboost))\n",
    "print(\"Accuracy cross-validation 10-Fold: {}\".format(acc_cv_cbt))\n",
    "print(\"Running Time: {}\".format(datetime.timedelta(seconds=cbt_time)))"
   ]
  },
  {
   "cell_type": "markdown",
   "metadata": {},
   "source": [
    "## Model Results\n",
    "Which model had the best cross-validation accuracy?\n",
    "\n",
    "**Note:** We care most about cross-validation metrics because the metrics we get from `.fit()` can randomly score higher than usual."
   ]
  },
  {
   "cell_type": "code",
   "execution_count": 301,
   "metadata": {},
   "outputs": [
    {
     "name": "stdout",
     "output_type": "stream",
     "text": [
      "---Cross-validation Accuracy Scores---\n"
     ]
    },
    {
     "data": {
      "text/html": [
       "<div>\n",
       "<style scoped>\n",
       "    .dataframe tbody tr th:only-of-type {\n",
       "        vertical-align: middle;\n",
       "    }\n",
       "\n",
       "    .dataframe tbody tr th {\n",
       "        vertical-align: top;\n",
       "    }\n",
       "\n",
       "    .dataframe thead th {\n",
       "        text-align: right;\n",
       "    }\n",
       "</style>\n",
       "<table border=\"1\" class=\"dataframe\">\n",
       "  <thead>\n",
       "    <tr style=\"text-align: right;\">\n",
       "      <th></th>\n",
       "      <th>Model</th>\n",
       "      <th>Score</th>\n",
       "    </tr>\n",
       "  </thead>\n",
       "  <tbody>\n",
       "    <tr>\n",
       "      <th>8</th>\n",
       "      <td>CatBoost</td>\n",
       "      <td>0.832300</td>\n",
       "    </tr>\n",
       "    <tr>\n",
       "      <th>7</th>\n",
       "      <td>Gradient Boosting Trees</td>\n",
       "      <td>0.829035</td>\n",
       "    </tr>\n",
       "    <tr>\n",
       "      <th>0</th>\n",
       "      <td>Logistic Regression</td>\n",
       "      <td>0.826800</td>\n",
       "    </tr>\n",
       "    <tr>\n",
       "      <th>6</th>\n",
       "      <td>Random Forest</td>\n",
       "      <td>0.826775</td>\n",
       "    </tr>\n",
       "    <tr>\n",
       "      <th>5</th>\n",
       "      <td>Decision Tree</td>\n",
       "      <td>0.820033</td>\n",
       "    </tr>\n",
       "    <tr>\n",
       "      <th>3</th>\n",
       "      <td>SVC</td>\n",
       "      <td>0.814454</td>\n",
       "    </tr>\n",
       "    <tr>\n",
       "      <th>2</th>\n",
       "      <td>Naive Bayes</td>\n",
       "      <td>0.799796</td>\n",
       "    </tr>\n",
       "    <tr>\n",
       "      <th>1</th>\n",
       "      <td>KNN</td>\n",
       "      <td>0.775077</td>\n",
       "    </tr>\n",
       "    <tr>\n",
       "      <th>4</th>\n",
       "      <td>Stochastic Gradient Decent</td>\n",
       "      <td>0.714377</td>\n",
       "    </tr>\n",
       "  </tbody>\n",
       "</table>\n",
       "</div>"
      ],
      "text/plain": [
       "                        Model     Score\n",
       "8                    CatBoost  0.832300\n",
       "7     Gradient Boosting Trees  0.829035\n",
       "0         Logistic Regression  0.826800\n",
       "6               Random Forest  0.826775\n",
       "5               Decision Tree  0.820033\n",
       "3                         SVC  0.814454\n",
       "2                 Naive Bayes  0.799796\n",
       "1                         KNN  0.775077\n",
       "4  Stochastic Gradient Decent  0.714377"
      ]
     },
     "execution_count": 301,
     "metadata": {},
     "output_type": "execute_result"
    }
   ],
   "source": [
    "cv_models = pd.DataFrame({\n",
    "    'Model': ['Logistic Regression',\n",
    "              'KNN', \n",
    "              'Naive Bayes', \n",
    "              'SVC',\n",
    "              'Stochastic Gradient Decent', \n",
    "              'Decision Tree',\n",
    "              'Random Forest',\n",
    "              'Gradient Boosting Trees',\n",
    "              'CatBoost'],\n",
    "    'Score': [\n",
    "        acc_cv_log,\n",
    "         acc_cv_knn, \n",
    "        acc_cv_gaussian,\n",
    "        acc_cv_svc,\n",
    "        acc_cv_sgd, \n",
    "        acc_cv_dt,\n",
    "        acc_cv_rf,\n",
    "        acc_cv_gbt,\n",
    "        acc_cv_catboost/100\n",
    "    ]})\n",
    "print('---Cross-validation Accuracy Scores---')\n",
    "cv_models.sort_values(by='Score', ascending=False)"
   ]
  },
  {
   "cell_type": "markdown",
   "metadata": {},
   "source": [
    "We can see from the tables, the CatBoost model had the best results. Getting just under 83% is pretty good considering guessing would result in about 50% accuracy (0 or 1).\n",
    "\n",
    "We'll pay more attention to the cross-validation figure.\n",
    "\n",
    "Cross-validation is more robust than just the `.fit()` models as it does multiple passes over the data instead of one.\n",
    "\n",
    "Because the CatBoost model got the best results, we'll use it for the next steps."
   ]
  },
  {
   "cell_type": "markdown",
   "metadata": {},
   "source": [
    "## Feature Importance\n",
    "Which features of the best model were most important for making predictions?"
   ]
  },
  {
   "cell_type": "code",
   "execution_count": 302,
   "metadata": {},
   "outputs": [],
   "source": [
    "# Feature Importance\n",
    "def feature_importance(model, data):\n",
    "    \"\"\"\n",
    "    Function to show which features are most important in the model.\n",
    "    ::param_model:: Which model to use?\n",
    "    ::param_data:: What data to use?\n",
    "    \"\"\"\n",
    "    fea_imp = pd.DataFrame({'imp': model.feature_importances_, 'col': data.columns})\n",
    "    fea_imp = fea_imp.sort_values(['imp', 'col'], ascending=[True,False]).iloc[-30:]\n",
    "    _ = fea_imp.plot(kind='barh', x='col', y='imp', figsize=(20, 10))\n",
    "    return fea_imp\n",
    "    #plt.savefig('catboost_feature_importance.png') "
   ]
  },
  {
   "cell_type": "code",
   "execution_count": 303,
   "metadata": {},
   "outputs": [
    {
     "data": {
      "text/plain": [
       "<catboost.core.CatBoostClassifier at 0x1ebdf011488>"
      ]
     },
     "execution_count": 303,
     "metadata": {},
     "output_type": "execute_result"
    }
   ],
   "source": [
    "# CatBoost model definition\n",
    "catboost_model = CatBoostClassifier(cat_features=cat_features,\n",
    "                                    learning_rate=0.1,\n",
    "                                    iterations=100,\n",
    "                                    depth=5)\n",
    "\n",
    "# Fit CatBoost model\n",
    "catboost_model.fit(train_pool,verbose=False)"
   ]
  },
  {
   "cell_type": "code",
   "execution_count": 304,
   "metadata": {},
   "outputs": [
    {
     "data": {
      "text/html": [
       "<div>\n",
       "<style scoped>\n",
       "    .dataframe tbody tr th:only-of-type {\n",
       "        vertical-align: middle;\n",
       "    }\n",
       "\n",
       "    .dataframe tbody tr th {\n",
       "        vertical-align: top;\n",
       "    }\n",
       "\n",
       "    .dataframe thead th {\n",
       "        text-align: right;\n",
       "    }\n",
       "</style>\n",
       "<table border=\"1\" class=\"dataframe\">\n",
       "  <thead>\n",
       "    <tr style=\"text-align: right;\">\n",
       "      <th></th>\n",
       "      <th>imp</th>\n",
       "      <th>col</th>\n",
       "    </tr>\n",
       "  </thead>\n",
       "  <tbody>\n",
       "    <tr>\n",
       "      <th>15</th>\n",
       "      <td>0.335292</td>\n",
       "      <td>age_3</td>\n",
       "    </tr>\n",
       "    <tr>\n",
       "      <th>7</th>\n",
       "      <td>0.392289</td>\n",
       "      <td>titles_Miss.</td>\n",
       "    </tr>\n",
       "    <tr>\n",
       "      <th>9</th>\n",
       "      <td>0.433848</td>\n",
       "      <td>titles_Mrs.</td>\n",
       "    </tr>\n",
       "    <tr>\n",
       "      <th>17</th>\n",
       "      <td>0.536151</td>\n",
       "      <td>embarked_Q</td>\n",
       "    </tr>\n",
       "    <tr>\n",
       "      <th>13</th>\n",
       "      <td>0.651362</td>\n",
       "      <td>age_1</td>\n",
       "    </tr>\n",
       "    <tr>\n",
       "      <th>10</th>\n",
       "      <td>1.268068</td>\n",
       "      <td>titles_Others.</td>\n",
       "    </tr>\n",
       "    <tr>\n",
       "      <th>16</th>\n",
       "      <td>1.412099</td>\n",
       "      <td>embarked_C</td>\n",
       "    </tr>\n",
       "    <tr>\n",
       "      <th>18</th>\n",
       "      <td>1.434100</td>\n",
       "      <td>embarked_S</td>\n",
       "    </tr>\n",
       "    <tr>\n",
       "      <th>14</th>\n",
       "      <td>1.453870</td>\n",
       "      <td>age_2</td>\n",
       "    </tr>\n",
       "    <tr>\n",
       "      <th>1</th>\n",
       "      <td>2.685323</td>\n",
       "      <td>Parch</td>\n",
       "    </tr>\n",
       "    <tr>\n",
       "      <th>4</th>\n",
       "      <td>3.139921</td>\n",
       "      <td>pclass_2</td>\n",
       "    </tr>\n",
       "    <tr>\n",
       "      <th>0</th>\n",
       "      <td>3.684295</td>\n",
       "      <td>SibSp</td>\n",
       "    </tr>\n",
       "    <tr>\n",
       "      <th>6</th>\n",
       "      <td>4.648185</td>\n",
       "      <td>titles_Master.</td>\n",
       "    </tr>\n",
       "    <tr>\n",
       "      <th>3</th>\n",
       "      <td>5.681273</td>\n",
       "      <td>pclass_1</td>\n",
       "    </tr>\n",
       "    <tr>\n",
       "      <th>2</th>\n",
       "      <td>8.570747</td>\n",
       "      <td>Fare</td>\n",
       "    </tr>\n",
       "    <tr>\n",
       "      <th>5</th>\n",
       "      <td>11.653507</td>\n",
       "      <td>pclass_3</td>\n",
       "    </tr>\n",
       "    <tr>\n",
       "      <th>8</th>\n",
       "      <td>13.159615</td>\n",
       "      <td>titles_Mr.</td>\n",
       "    </tr>\n",
       "    <tr>\n",
       "      <th>12</th>\n",
       "      <td>17.009253</td>\n",
       "      <td>sex_male</td>\n",
       "    </tr>\n",
       "    <tr>\n",
       "      <th>11</th>\n",
       "      <td>21.850802</td>\n",
       "      <td>sex_female</td>\n",
       "    </tr>\n",
       "  </tbody>\n",
       "</table>\n",
       "</div>"
      ],
      "text/plain": [
       "          imp             col\n",
       "15   0.335292           age_3\n",
       "7    0.392289    titles_Miss.\n",
       "9    0.433848     titles_Mrs.\n",
       "17   0.536151      embarked_Q\n",
       "13   0.651362           age_1\n",
       "10   1.268068  titles_Others.\n",
       "16   1.412099      embarked_C\n",
       "18   1.434100      embarked_S\n",
       "14   1.453870           age_2\n",
       "1    2.685323           Parch\n",
       "4    3.139921        pclass_2\n",
       "0    3.684295           SibSp\n",
       "6    4.648185  titles_Master.\n",
       "3    5.681273        pclass_1\n",
       "2    8.570747            Fare\n",
       "5   11.653507        pclass_3\n",
       "8   13.159615      titles_Mr.\n",
       "12  17.009253        sex_male\n",
       "11  21.850802      sex_female"
      ]
     },
     "execution_count": 304,
     "metadata": {},
     "output_type": "execute_result"
    },
    {
     "data": {
      "image/png": "[encoded data removed]",
      "text/plain": [
       "<Figure size 1440x720 with 1 Axes>"
      ]
     },
     "metadata": {},
     "output_type": "display_data"
    }
   ],
   "source": [
    "# Plot the feature importance scores\n",
    "feature_importance(catboost_model, X_train)"
   ]
  },
  {
   "cell_type": "markdown",
   "metadata": {},
   "source": [
    "#### Why would you want feature importance?\n",
    "\n",
    "Featrue importance shows how much each feature contributed to the model.\n",
    "\n",
    "You could take this information and remove features which don't contribute much to reduce dimenstionality (and save compute).\n",
    "\n",
    "You could improve features which don't offer much to the overall model.\n",
    "\n",
    "Or you could improve features which offer more to the model. In this case, there aren't many ways you could improve sex as it's already a binary.\n",
    "\n",
    "Feature importance figures also show people who may not be familiar with the problem what features of their data are most important when it comes to making predictions with machine learning models."
   ]
  },
  {
   "cell_type": "markdown",
   "metadata": {},
   "source": [
    "## Precision and Recall\n",
    "\n",
    "Precision and recall are two metrics which are used for cases where you have have an imbalanced classification problem.\n",
    "\n",
    "For example, you may have 100,000 people and only 1 of them gets a certain disease. If your model predicts that all people don't have the disease, it only misses 1 in 100,000 so its accuracy is 99.999%. But this isn't really helpful.\n",
    "\n",
    "This is where precision an recall come in.\n",
    "\n",
    "**Recall** = a metric which measures a models ability to find all the relevant cases in a dataset.\n",
    "\n",
    "Recall would be the models ability to find the 1 person in 100,000 who has the disease.\n",
    "\n",
    "**Precision** = a metric which measures a models ability to correctly identify only relevant instances.\n",
    "\n",
    "In our example, Precision would be if the model found the 1 person who had the disease, did they actually have the disease.\n",
    "\n",
    "Combining the precision and recall, gives an **F1 score.**\n",
    "\n",
    "These metrics will all fall between 0 and 1, with a higher value being better.\n",
    "\n",
    "Although, they don't necessarily need to come into play for our Titantic problem, they're worth remembering for your future work."
   ]
  },
  {
   "cell_type": "code",
   "execution_count": 306,
   "metadata": {},
   "outputs": [
    {
     "name": "stdout",
     "output_type": "stream",
     "text": [
      "Precision: 0.8490966210696468\n",
      "Recall: 0.7074999999999999\n",
      "F1: 0.7716960321022494\n",
      "AUC: 0.8847515536269154\n"
     ]
    }
   ],
   "source": [
    "metrics = ['Precision', 'Recall', 'F1', 'AUC']\n",
    "\n",
    "eval_metrics = catboost_model.eval_metrics(train_pool,\n",
    "                                           metrics=metrics)\n",
    "\n",
    "for metric in metrics:\n",
    "    print(str(metric)+\": {}\".format(np.mean(eval_metrics[metric])))"
   ]
  },
  {
   "cell_type": "markdown",
   "metadata": {},
   "source": [
    "Recall is low, this means there's a higher amount of false negatives (predicting Did not survive when it was actually Survived).\n",
    "\n",
    "Precision is higher therefore there's less false positives (predicting Survived, when it was actually Did not survive)."
   ]
  },
  {
   "cell_type": "markdown",
   "metadata": {},
   "source": [
    "## Submission\n",
    "Let's use the model with the highest cross-validation accuracy score to make a prediction on the test dataset and then submit our predictions to Kaggle."
   ]
  },
  {
   "cell_type": "markdown",
   "metadata": {},
   "source": [
    "We want to make predictions on the same kind of columnns our model is trained on.\n",
    "\n",
    "So we have to select the subset of right columns of the `test` dateframe, encode them and make a prediciton with our model."
   ]
  },
  {
   "cell_type": "code",
   "execution_count": 384,
   "metadata": {},
   "outputs": [
    {
     "data": {
      "text/html": [
       "<div>\n",
       "<style scoped>\n",
       "    .dataframe tbody tr th:only-of-type {\n",
       "        vertical-align: middle;\n",
       "    }\n",
       "\n",
       "    .dataframe tbody tr th {\n",
       "        vertical-align: top;\n",
       "    }\n",
       "\n",
       "    .dataframe thead th {\n",
       "        text-align: right;\n",
       "    }\n",
       "</style>\n",
       "<table border=\"1\" class=\"dataframe\">\n",
       "  <thead>\n",
       "    <tr style=\"text-align: right;\">\n",
       "      <th></th>\n",
       "      <th>SibSp</th>\n",
       "      <th>Parch</th>\n",
       "      <th>Fare</th>\n",
       "      <th>pclass_1</th>\n",
       "      <th>pclass_2</th>\n",
       "      <th>pclass_3</th>\n",
       "      <th>titles_Master.</th>\n",
       "      <th>titles_Miss.</th>\n",
       "      <th>titles_Mr.</th>\n",
       "      <th>titles_Mrs.</th>\n",
       "      <th>titles_Others.</th>\n",
       "      <th>sex_female</th>\n",
       "      <th>sex_male</th>\n",
       "      <th>age_1</th>\n",
       "      <th>age_2</th>\n",
       "      <th>age_3</th>\n",
       "      <th>embarked_C</th>\n",
       "      <th>embarked_Q</th>\n",
       "      <th>embarked_S</th>\n",
       "    </tr>\n",
       "  </thead>\n",
       "  <tbody>\n",
       "    <tr>\n",
       "      <th>0</th>\n",
       "      <td>1</td>\n",
       "      <td>0</td>\n",
       "      <td>7.2500</td>\n",
       "      <td>0</td>\n",
       "      <td>0</td>\n",
       "      <td>1</td>\n",
       "      <td>0</td>\n",
       "      <td>0</td>\n",
       "      <td>1</td>\n",
       "      <td>0</td>\n",
       "      <td>0</td>\n",
       "      <td>0</td>\n",
       "      <td>1</td>\n",
       "      <td>0</td>\n",
       "      <td>1</td>\n",
       "      <td>0</td>\n",
       "      <td>0</td>\n",
       "      <td>0</td>\n",
       "      <td>1</td>\n",
       "    </tr>\n",
       "    <tr>\n",
       "      <th>1</th>\n",
       "      <td>1</td>\n",
       "      <td>0</td>\n",
       "      <td>71.2833</td>\n",
       "      <td>1</td>\n",
       "      <td>0</td>\n",
       "      <td>0</td>\n",
       "      <td>0</td>\n",
       "      <td>0</td>\n",
       "      <td>0</td>\n",
       "      <td>1</td>\n",
       "      <td>0</td>\n",
       "      <td>1</td>\n",
       "      <td>0</td>\n",
       "      <td>0</td>\n",
       "      <td>1</td>\n",
       "      <td>0</td>\n",
       "      <td>1</td>\n",
       "      <td>0</td>\n",
       "      <td>0</td>\n",
       "    </tr>\n",
       "    <tr>\n",
       "      <th>2</th>\n",
       "      <td>0</td>\n",
       "      <td>0</td>\n",
       "      <td>7.9250</td>\n",
       "      <td>0</td>\n",
       "      <td>0</td>\n",
       "      <td>1</td>\n",
       "      <td>0</td>\n",
       "      <td>1</td>\n",
       "      <td>0</td>\n",
       "      <td>0</td>\n",
       "      <td>0</td>\n",
       "      <td>1</td>\n",
       "      <td>0</td>\n",
       "      <td>0</td>\n",
       "      <td>1</td>\n",
       "      <td>0</td>\n",
       "      <td>0</td>\n",
       "      <td>0</td>\n",
       "      <td>1</td>\n",
       "    </tr>\n",
       "    <tr>\n",
       "      <th>3</th>\n",
       "      <td>1</td>\n",
       "      <td>0</td>\n",
       "      <td>53.1000</td>\n",
       "      <td>1</td>\n",
       "      <td>0</td>\n",
       "      <td>0</td>\n",
       "      <td>0</td>\n",
       "      <td>0</td>\n",
       "      <td>0</td>\n",
       "      <td>1</td>\n",
       "      <td>0</td>\n",
       "      <td>1</td>\n",
       "      <td>0</td>\n",
       "      <td>0</td>\n",
       "      <td>1</td>\n",
       "      <td>0</td>\n",
       "      <td>0</td>\n",
       "      <td>0</td>\n",
       "      <td>1</td>\n",
       "    </tr>\n",
       "    <tr>\n",
       "      <th>4</th>\n",
       "      <td>0</td>\n",
       "      <td>0</td>\n",
       "      <td>8.0500</td>\n",
       "      <td>0</td>\n",
       "      <td>0</td>\n",
       "      <td>1</td>\n",
       "      <td>0</td>\n",
       "      <td>0</td>\n",
       "      <td>1</td>\n",
       "      <td>0</td>\n",
       "      <td>0</td>\n",
       "      <td>0</td>\n",
       "      <td>1</td>\n",
       "      <td>0</td>\n",
       "      <td>1</td>\n",
       "      <td>0</td>\n",
       "      <td>0</td>\n",
       "      <td>0</td>\n",
       "      <td>1</td>\n",
       "    </tr>\n",
       "  </tbody>\n",
       "</table>\n",
       "</div>"
      ],
      "text/plain": [
       "   SibSp  Parch     Fare  pclass_1  pclass_2  pclass_3  titles_Master.  \\\n",
       "0      1      0   7.2500         0         0         1               0   \n",
       "1      1      0  71.2833         1         0         0               0   \n",
       "2      0      0   7.9250         0         0         1               0   \n",
       "3      1      0  53.1000         1         0         0               0   \n",
       "4      0      0   8.0500         0         0         1               0   \n",
       "\n",
       "   titles_Miss.  titles_Mr.  titles_Mrs.  titles_Others.  sex_female  \\\n",
       "0             0           1            0               0           0   \n",
       "1             0           0            1               0           1   \n",
       "2             1           0            0               0           1   \n",
       "3             0           0            1               0           1   \n",
       "4             0           1            0               0           0   \n",
       "\n",
       "   sex_male  age_1  age_2  age_3  embarked_C  embarked_Q  embarked_S  \n",
       "0         1      0      1      0           0           0           1  \n",
       "1         0      0      1      0           1           0           0  \n",
       "2         0      0      1      0           0           0           1  \n",
       "3         0      0      1      0           0           0           1  \n",
       "4         1      0      1      0           0           0           1  "
      ]
     },
     "execution_count": 384,
     "metadata": {},
     "output_type": "execute_result"
    }
   ],
   "source": [
    "# We need our test dataframe to look like this one\n",
    "X_train.head()"
   ]
  },
  {
   "cell_type": "code",
   "execution_count": null,
   "metadata": {},
   "outputs": [],
   "source": [
    "test.head()"
   ]
  },
  {
   "cell_type": "code",
   "execution_count": 386,
   "metadata": {},
   "outputs": [
    {
     "data": {
      "text/plain": [
       "PassengerId      0\n",
       "Pclass           0\n",
       "Name             0\n",
       "Sex              0\n",
       "Age             86\n",
       "SibSp            0\n",
       "Parch            0\n",
       "Ticket           0\n",
       "Fare             1\n",
       "Cabin          327\n",
       "Embarked         0\n",
       "dtype: int64"
      ]
     },
     "execution_count": 386,
     "metadata": {},
     "output_type": "execute_result"
    }
   ],
   "source": [
    "test.isnull().sum()"
   ]
  },
  {
   "cell_type": "markdown",
   "metadata": {},
   "source": [
    "### We are going to add feature to our df_test and tackle all the feature like we had tackle in train dataset"
   ]
  },
  {
   "cell_type": "code",
   "execution_count": 387,
   "metadata": {},
   "outputs": [],
   "source": [
    "df_test=pd.DataFrame()\n",
    "df_test['Pclass']=test['Pclass']"
   ]
  },
  {
   "cell_type": "code",
   "execution_count": 388,
   "metadata": {},
   "outputs": [],
   "source": [
    "k=test.Name.str.split()\n",
    "t_test=[]\n",
    "for i in k:\n",
    "    t_test.append(i[1])\n",
    "titles_test=pd.Series(t_test)\n",
    "for i in range(len(titles_test)):\n",
    "    if not(titles_test[i] in ['Mr.','Miss.','Mrs.','Master.']):\n",
    "        titles_test[i]='Others.'\n",
    "df_test['Titles']=titles_test"
   ]
  },
  {
   "cell_type": "code",
   "execution_count": 389,
   "metadata": {},
   "outputs": [],
   "source": [
    "df_test['Sex']=test['Sex']"
   ]
  },
  {
   "cell_type": "code",
   "execution_count": 390,
   "metadata": {},
   "outputs": [],
   "source": [
    "a=[]\n",
    "for i in test.Age:\n",
    "    if np.isnan(i):\n",
    "        a.append(0)\n",
    "    elif i<21:\n",
    "        a.append(1)\n",
    "    elif i<61:\n",
    "        a.append(2)\n",
    "    else:\n",
    "        a.append(3)\n",
    "discrete_age=pd.DataFrame(a,columns=['Discrete_age'])\n",
    "discrete_age = pd.concat([discrete_age,df_test['Titles']],axis=1)"
   ]
  },
  {
   "cell_type": "code",
   "execution_count": 391,
   "metadata": {},
   "outputs": [],
   "source": [
    "df=discrete_age.loc[discrete_age.Discrete_age==0]\n",
    "df.Discrete_age=df.Titles.apply(func)\n",
    "discrete_age.loc[discrete_age.Discrete_age==0]=df\n",
    "df_test['Dis_age'] = discrete_age.Discrete_age"
   ]
  },
  {
   "cell_type": "code",
   "execution_count": 392,
   "metadata": {},
   "outputs": [],
   "source": [
    "df_test['SibSp']=test['SibSp']\n",
    "df_test['Parch']=test['Parch']"
   ]
  },
  {
   "cell_type": "code",
   "execution_count": 393,
   "metadata": {},
   "outputs": [],
   "source": [
    "test.loc[test.Fare.isna(),'Fare']=10"
   ]
  },
  {
   "cell_type": "code",
   "execution_count": 394,
   "metadata": {},
   "outputs": [],
   "source": [
    "df_test['Fare']=test['Fare']\n",
    "df_test['Embarked']=test['Embarked']"
   ]
  },
  {
   "cell_type": "code",
   "execution_count": 395,
   "metadata": {},
   "outputs": [
    {
     "data": {
      "text/html": [
       "<div>\n",
       "<style scoped>\n",
       "    .dataframe tbody tr th:only-of-type {\n",
       "        vertical-align: middle;\n",
       "    }\n",
       "\n",
       "    .dataframe tbody tr th {\n",
       "        vertical-align: top;\n",
       "    }\n",
       "\n",
       "    .dataframe thead th {\n",
       "        text-align: right;\n",
       "    }\n",
       "</style>\n",
       "<table border=\"1\" class=\"dataframe\">\n",
       "  <thead>\n",
       "    <tr style=\"text-align: right;\">\n",
       "      <th></th>\n",
       "      <th>Pclass</th>\n",
       "      <th>Titles</th>\n",
       "      <th>Sex</th>\n",
       "      <th>Dis_age</th>\n",
       "      <th>SibSp</th>\n",
       "      <th>Parch</th>\n",
       "      <th>Fare</th>\n",
       "      <th>Embarked</th>\n",
       "    </tr>\n",
       "  </thead>\n",
       "  <tbody>\n",
       "    <tr>\n",
       "      <th>0</th>\n",
       "      <td>3</td>\n",
       "      <td>Mr.</td>\n",
       "      <td>male</td>\n",
       "      <td>2</td>\n",
       "      <td>0</td>\n",
       "      <td>0</td>\n",
       "      <td>7.8292</td>\n",
       "      <td>Q</td>\n",
       "    </tr>\n",
       "    <tr>\n",
       "      <th>1</th>\n",
       "      <td>3</td>\n",
       "      <td>Mrs.</td>\n",
       "      <td>female</td>\n",
       "      <td>2</td>\n",
       "      <td>1</td>\n",
       "      <td>0</td>\n",
       "      <td>7.0000</td>\n",
       "      <td>S</td>\n",
       "    </tr>\n",
       "    <tr>\n",
       "      <th>2</th>\n",
       "      <td>2</td>\n",
       "      <td>Mr.</td>\n",
       "      <td>male</td>\n",
       "      <td>3</td>\n",
       "      <td>0</td>\n",
       "      <td>0</td>\n",
       "      <td>9.6875</td>\n",
       "      <td>Q</td>\n",
       "    </tr>\n",
       "    <tr>\n",
       "      <th>3</th>\n",
       "      <td>3</td>\n",
       "      <td>Mr.</td>\n",
       "      <td>male</td>\n",
       "      <td>2</td>\n",
       "      <td>0</td>\n",
       "      <td>0</td>\n",
       "      <td>8.6625</td>\n",
       "      <td>S</td>\n",
       "    </tr>\n",
       "    <tr>\n",
       "      <th>4</th>\n",
       "      <td>3</td>\n",
       "      <td>Mrs.</td>\n",
       "      <td>female</td>\n",
       "      <td>2</td>\n",
       "      <td>1</td>\n",
       "      <td>1</td>\n",
       "      <td>12.2875</td>\n",
       "      <td>S</td>\n",
       "    </tr>\n",
       "  </tbody>\n",
       "</table>\n",
       "</div>"
      ],
      "text/plain": [
       "   Pclass Titles     Sex  Dis_age  SibSp  Parch     Fare Embarked\n",
       "0       3    Mr.    male        2      0      0   7.8292        Q\n",
       "1       3   Mrs.  female        2      1      0   7.0000        S\n",
       "2       2    Mr.    male        3      0      0   9.6875        Q\n",
       "3       3    Mr.    male        2      0      0   8.6625        S\n",
       "4       3   Mrs.  female        2      1      1  12.2875        S"
      ]
     },
     "execution_count": 395,
     "metadata": {},
     "output_type": "execute_result"
    }
   ],
   "source": [
    "df_test.head()"
   ]
  },
  {
   "cell_type": "code",
   "execution_count": 396,
   "metadata": {},
   "outputs": [],
   "source": [
    "# One hot encode the categorical columns\n",
    "df_pclass_one_hot = pd.get_dummies(df_test['Pclass'], \n",
    "                                   prefix='pclass')\n",
    "\n",
    "df_titles_one_hot = pd.get_dummies(df_test['Titles'], \n",
    "                                   prefix='titles')\n",
    "\n",
    "df_sex_one_hot = pd.get_dummies(df_test['Sex'], \n",
    "                                prefix='sex')\n",
    "\n",
    "df_age_one_hot = pd.get_dummies(df_test['Dis_age'], \n",
    "                                prefix='age')\n",
    "\n",
    "df_embarked_one_hot = pd.get_dummies(df_test['Embarked'], \n",
    "                                     prefix='embarked')\n",
    "\n",
    "\n",
    "df_test_enc = pd.concat([df_test, \n",
    "                        df_pclass_one_hot,\n",
    "                        df_titles_one_hot,\n",
    "                        df_sex_one_hot,\n",
    "                        df_age_one_hot,\n",
    "                        df_embarked_one_hot \n",
    "                        ], axis=1)\n",
    "\n",
    "# Drop the original categorical columns (because now they've been one hot encoded)\n",
    "df_test_enc = df_test_enc.drop(['Pclass','Titles', 'Sex', 'Dis_age','Embarked'], axis=1)"
   ]
  },
  {
   "cell_type": "code",
   "execution_count": 397,
   "metadata": {},
   "outputs": [
    {
     "data": {
      "text/html": [
       "<div>\n",
       "<style scoped>\n",
       "    .dataframe tbody tr th:only-of-type {\n",
       "        vertical-align: middle;\n",
       "    }\n",
       "\n",
       "    .dataframe tbody tr th {\n",
       "        vertical-align: top;\n",
       "    }\n",
       "\n",
       "    .dataframe thead th {\n",
       "        text-align: right;\n",
       "    }\n",
       "</style>\n",
       "<table border=\"1\" class=\"dataframe\">\n",
       "  <thead>\n",
       "    <tr style=\"text-align: right;\">\n",
       "      <th></th>\n",
       "      <th>SibSp</th>\n",
       "      <th>Parch</th>\n",
       "      <th>Fare</th>\n",
       "      <th>pclass_1</th>\n",
       "      <th>pclass_2</th>\n",
       "      <th>pclass_3</th>\n",
       "      <th>titles_Master.</th>\n",
       "      <th>titles_Miss.</th>\n",
       "      <th>titles_Mr.</th>\n",
       "      <th>titles_Mrs.</th>\n",
       "      <th>titles_Others.</th>\n",
       "      <th>sex_female</th>\n",
       "      <th>sex_male</th>\n",
       "      <th>age_1</th>\n",
       "      <th>age_2</th>\n",
       "      <th>age_3</th>\n",
       "      <th>embarked_C</th>\n",
       "      <th>embarked_Q</th>\n",
       "      <th>embarked_S</th>\n",
       "    </tr>\n",
       "  </thead>\n",
       "  <tbody>\n",
       "    <tr>\n",
       "      <th>0</th>\n",
       "      <td>0</td>\n",
       "      <td>0</td>\n",
       "      <td>7.8292</td>\n",
       "      <td>0</td>\n",
       "      <td>0</td>\n",
       "      <td>1</td>\n",
       "      <td>0</td>\n",
       "      <td>0</td>\n",
       "      <td>1</td>\n",
       "      <td>0</td>\n",
       "      <td>0</td>\n",
       "      <td>0</td>\n",
       "      <td>1</td>\n",
       "      <td>0</td>\n",
       "      <td>1</td>\n",
       "      <td>0</td>\n",
       "      <td>0</td>\n",
       "      <td>1</td>\n",
       "      <td>0</td>\n",
       "    </tr>\n",
       "    <tr>\n",
       "      <th>1</th>\n",
       "      <td>1</td>\n",
       "      <td>0</td>\n",
       "      <td>7.0000</td>\n",
       "      <td>0</td>\n",
       "      <td>0</td>\n",
       "      <td>1</td>\n",
       "      <td>0</td>\n",
       "      <td>0</td>\n",
       "      <td>0</td>\n",
       "      <td>1</td>\n",
       "      <td>0</td>\n",
       "      <td>1</td>\n",
       "      <td>0</td>\n",
       "      <td>0</td>\n",
       "      <td>1</td>\n",
       "      <td>0</td>\n",
       "      <td>0</td>\n",
       "      <td>0</td>\n",
       "      <td>1</td>\n",
       "    </tr>\n",
       "    <tr>\n",
       "      <th>2</th>\n",
       "      <td>0</td>\n",
       "      <td>0</td>\n",
       "      <td>9.6875</td>\n",
       "      <td>0</td>\n",
       "      <td>1</td>\n",
       "      <td>0</td>\n",
       "      <td>0</td>\n",
       "      <td>0</td>\n",
       "      <td>1</td>\n",
       "      <td>0</td>\n",
       "      <td>0</td>\n",
       "      <td>0</td>\n",
       "      <td>1</td>\n",
       "      <td>0</td>\n",
       "      <td>0</td>\n",
       "      <td>1</td>\n",
       "      <td>0</td>\n",
       "      <td>1</td>\n",
       "      <td>0</td>\n",
       "    </tr>\n",
       "    <tr>\n",
       "      <th>3</th>\n",
       "      <td>0</td>\n",
       "      <td>0</td>\n",
       "      <td>8.6625</td>\n",
       "      <td>0</td>\n",
       "      <td>0</td>\n",
       "      <td>1</td>\n",
       "      <td>0</td>\n",
       "      <td>0</td>\n",
       "      <td>1</td>\n",
       "      <td>0</td>\n",
       "      <td>0</td>\n",
       "      <td>0</td>\n",
       "      <td>1</td>\n",
       "      <td>0</td>\n",
       "      <td>1</td>\n",
       "      <td>0</td>\n",
       "      <td>0</td>\n",
       "      <td>0</td>\n",
       "      <td>1</td>\n",
       "    </tr>\n",
       "    <tr>\n",
       "      <th>4</th>\n",
       "      <td>1</td>\n",
       "      <td>1</td>\n",
       "      <td>12.2875</td>\n",
       "      <td>0</td>\n",
       "      <td>0</td>\n",
       "      <td>1</td>\n",
       "      <td>0</td>\n",
       "      <td>0</td>\n",
       "      <td>0</td>\n",
       "      <td>1</td>\n",
       "      <td>0</td>\n",
       "      <td>1</td>\n",
       "      <td>0</td>\n",
       "      <td>0</td>\n",
       "      <td>1</td>\n",
       "      <td>0</td>\n",
       "      <td>0</td>\n",
       "      <td>0</td>\n",
       "      <td>1</td>\n",
       "    </tr>\n",
       "  </tbody>\n",
       "</table>\n",
       "</div>"
      ],
      "text/plain": [
       "   SibSp  Parch     Fare  pclass_1  pclass_2  pclass_3  titles_Master.  \\\n",
       "0      0      0   7.8292         0         0         1               0   \n",
       "1      1      0   7.0000         0         0         1               0   \n",
       "2      0      0   9.6875         0         1         0               0   \n",
       "3      0      0   8.6625         0         0         1               0   \n",
       "4      1      1  12.2875         0         0         1               0   \n",
       "\n",
       "   titles_Miss.  titles_Mr.  titles_Mrs.  titles_Others.  sex_female  \\\n",
       "0             0           1            0               0           0   \n",
       "1             0           0            1               0           1   \n",
       "2             0           1            0               0           0   \n",
       "3             0           1            0               0           0   \n",
       "4             0           0            1               0           1   \n",
       "\n",
       "   sex_male  age_1  age_2  age_3  embarked_C  embarked_Q  embarked_S  \n",
       "0         1      0      1      0           0           1           0  \n",
       "1         0      0      1      0           0           0           1  \n",
       "2         1      0      0      1           0           1           0  \n",
       "3         1      0      1      0           0           0           1  \n",
       "4         0      0      1      0           0           0           1  "
      ]
     },
     "execution_count": 397,
     "metadata": {},
     "output_type": "execute_result"
    }
   ],
   "source": [
    "df_test_enc.head()"
   ]
  },
  {
   "cell_type": "code",
   "execution_count": 398,
   "metadata": {},
   "outputs": [
    {
     "data": {
      "text/plain": [
       "(418, 19)"
      ]
     },
     "execution_count": 398,
     "metadata": {},
     "output_type": "execute_result"
    }
   ],
   "source": [
    "df_test_enc.shape"
   ]
  },
  {
   "cell_type": "code",
   "execution_count": 399,
   "metadata": {},
   "outputs": [],
   "source": [
    "# Make a prediction using the CatBoost model on df_test_enc\n",
    "predictions = catboost_model.predict(df_test_enc)"
   ]
  },
  {
   "cell_type": "code",
   "execution_count": 400,
   "metadata": {},
   "outputs": [
    {
     "data": {
      "text/html": [
       "<div>\n",
       "<style scoped>\n",
       "    .dataframe tbody tr th:only-of-type {\n",
       "        vertical-align: middle;\n",
       "    }\n",
       "\n",
       "    .dataframe tbody tr th {\n",
       "        vertical-align: top;\n",
       "    }\n",
       "\n",
       "    .dataframe thead th {\n",
       "        text-align: right;\n",
       "    }\n",
       "</style>\n",
       "<table border=\"1\" class=\"dataframe\">\n",
       "  <thead>\n",
       "    <tr style=\"text-align: right;\">\n",
       "      <th></th>\n",
       "      <th>PassengerId</th>\n",
       "      <th>Survived</th>\n",
       "    </tr>\n",
       "  </thead>\n",
       "  <tbody>\n",
       "    <tr>\n",
       "      <th>0</th>\n",
       "      <td>892</td>\n",
       "      <td>0</td>\n",
       "    </tr>\n",
       "    <tr>\n",
       "      <th>1</th>\n",
       "      <td>893</td>\n",
       "      <td>0</td>\n",
       "    </tr>\n",
       "    <tr>\n",
       "      <th>2</th>\n",
       "      <td>894</td>\n",
       "      <td>0</td>\n",
       "    </tr>\n",
       "    <tr>\n",
       "      <th>3</th>\n",
       "      <td>895</td>\n",
       "      <td>0</td>\n",
       "    </tr>\n",
       "    <tr>\n",
       "      <th>4</th>\n",
       "      <td>896</td>\n",
       "      <td>0</td>\n",
       "    </tr>\n",
       "  </tbody>\n",
       "</table>\n",
       "</div>"
      ],
      "text/plain": [
       "   PassengerId  Survived\n",
       "0          892         0\n",
       "1          893         0\n",
       "2          894         0\n",
       "3          895         0\n",
       "4          896         0"
      ]
     },
     "execution_count": 400,
     "metadata": {},
     "output_type": "execute_result"
    }
   ],
   "source": [
    "# Create a submisison dataframe and append the relevant columns\n",
    "submission = pd.DataFrame()\n",
    "submission['PassengerId'] = test['PassengerId']\n",
    "submission['Survived'] = predictions # our model predictions on the test dataset\n",
    "submission.head()"
   ]
  },
  {
   "cell_type": "code",
   "execution_count": 401,
   "metadata": {},
   "outputs": [
    {
     "data": {
      "text/html": [
       "<div>\n",
       "<style scoped>\n",
       "    .dataframe tbody tr th:only-of-type {\n",
       "        vertical-align: middle;\n",
       "    }\n",
       "\n",
       "    .dataframe tbody tr th {\n",
       "        vertical-align: top;\n",
       "    }\n",
       "\n",
       "    .dataframe thead th {\n",
       "        text-align: right;\n",
       "    }\n",
       "</style>\n",
       "<table border=\"1\" class=\"dataframe\">\n",
       "  <thead>\n",
       "    <tr style=\"text-align: right;\">\n",
       "      <th></th>\n",
       "      <th>PassengerId</th>\n",
       "      <th>Survived</th>\n",
       "    </tr>\n",
       "  </thead>\n",
       "  <tbody>\n",
       "    <tr>\n",
       "      <th>0</th>\n",
       "      <td>892</td>\n",
       "      <td>0</td>\n",
       "    </tr>\n",
       "    <tr>\n",
       "      <th>1</th>\n",
       "      <td>893</td>\n",
       "      <td>1</td>\n",
       "    </tr>\n",
       "    <tr>\n",
       "      <th>2</th>\n",
       "      <td>894</td>\n",
       "      <td>0</td>\n",
       "    </tr>\n",
       "    <tr>\n",
       "      <th>3</th>\n",
       "      <td>895</td>\n",
       "      <td>0</td>\n",
       "    </tr>\n",
       "    <tr>\n",
       "      <th>4</th>\n",
       "      <td>896</td>\n",
       "      <td>1</td>\n",
       "    </tr>\n",
       "  </tbody>\n",
       "</table>\n",
       "</div>"
      ],
      "text/plain": [
       "   PassengerId  Survived\n",
       "0          892         0\n",
       "1          893         1\n",
       "2          894         0\n",
       "3          895         0\n",
       "4          896         1"
      ]
     },
     "execution_count": 401,
     "metadata": {},
     "output_type": "execute_result"
    }
   ],
   "source": [
    "# What does our submission have to look like?\n",
    "gender_submission.head()"
   ]
  },
  {
   "cell_type": "code",
   "execution_count": 402,
   "metadata": {},
   "outputs": [
    {
     "name": "stdout",
     "output_type": "stream",
     "text": [
      "Converted Survived column to integers.\n"
     ]
    }
   ],
   "source": [
    "# Let's convert our submission dataframe 'Survived' column to ints\n",
    "submission['Survived'] = submission['Survived'].astype(int)\n",
    "print('Converted Survived column to integers.')"
   ]
  },
  {
   "cell_type": "code",
   "execution_count": 403,
   "metadata": {},
   "outputs": [
    {
     "data": {
      "text/html": [
       "<div>\n",
       "<style scoped>\n",
       "    .dataframe tbody tr th:only-of-type {\n",
       "        vertical-align: middle;\n",
       "    }\n",
       "\n",
       "    .dataframe tbody tr th {\n",
       "        vertical-align: top;\n",
       "    }\n",
       "\n",
       "    .dataframe thead th {\n",
       "        text-align: right;\n",
       "    }\n",
       "</style>\n",
       "<table border=\"1\" class=\"dataframe\">\n",
       "  <thead>\n",
       "    <tr style=\"text-align: right;\">\n",
       "      <th></th>\n",
       "      <th>PassengerId</th>\n",
       "      <th>Survived</th>\n",
       "    </tr>\n",
       "  </thead>\n",
       "  <tbody>\n",
       "    <tr>\n",
       "      <th>0</th>\n",
       "      <td>892</td>\n",
       "      <td>0</td>\n",
       "    </tr>\n",
       "    <tr>\n",
       "      <th>1</th>\n",
       "      <td>893</td>\n",
       "      <td>0</td>\n",
       "    </tr>\n",
       "    <tr>\n",
       "      <th>2</th>\n",
       "      <td>894</td>\n",
       "      <td>0</td>\n",
       "    </tr>\n",
       "    <tr>\n",
       "      <th>3</th>\n",
       "      <td>895</td>\n",
       "      <td>0</td>\n",
       "    </tr>\n",
       "    <tr>\n",
       "      <th>4</th>\n",
       "      <td>896</td>\n",
       "      <td>0</td>\n",
       "    </tr>\n",
       "  </tbody>\n",
       "</table>\n",
       "</div>"
      ],
      "text/plain": [
       "   PassengerId  Survived\n",
       "0          892         0\n",
       "1          893         0\n",
       "2          894         0\n",
       "3          895         0\n",
       "4          896         0"
      ]
     },
     "execution_count": 403,
     "metadata": {},
     "output_type": "execute_result"
    }
   ],
   "source": [
    "# How does our submission dataframe look?\n",
    "submission.head()"
   ]
  },
  {
   "cell_type": "code",
   "execution_count": 404,
   "metadata": {},
   "outputs": [
    {
     "name": "stdout",
     "output_type": "stream",
     "text": [
      "Submission dataframe is the same length as test (418 rows).\n"
     ]
    }
   ],
   "source": [
    "# Are our test and submission dataframes the same length?\n",
    "if len(submission) == len(test):\n",
    "    print(\"Submission dataframe is the same length as test ({} rows).\".format(len(submission)))\n",
    "else:\n",
    "    print(\"Dataframes mismatched, won't be able to submit to Kaggle.\")"
   ]
  },
  {
   "cell_type": "code",
   "execution_count": 407,
   "metadata": {},
   "outputs": [
    {
     "name": "stdout",
     "output_type": "stream",
     "text": [
      "Submission CSV is ready!\n"
     ]
    }
   ],
   "source": [
    "# Convert submisison dataframe to csv for submission to csv \n",
    "# for Kaggle submisison\n",
    "submission.to_csv('cat_submission.csv', index=False)\n",
    "print('Submission CSV is ready!')"
   ]
  },
  {
   "cell_type": "code",
   "execution_count": 408,
   "metadata": {},
   "outputs": [
    {
     "data": {
      "text/html": [
       "<div>\n",
       "<style scoped>\n",
       "    .dataframe tbody tr th:only-of-type {\n",
       "        vertical-align: middle;\n",
       "    }\n",
       "\n",
       "    .dataframe tbody tr th {\n",
       "        vertical-align: top;\n",
       "    }\n",
       "\n",
       "    .dataframe thead th {\n",
       "        text-align: right;\n",
       "    }\n",
       "</style>\n",
       "<table border=\"1\" class=\"dataframe\">\n",
       "  <thead>\n",
       "    <tr style=\"text-align: right;\">\n",
       "      <th></th>\n",
       "      <th>PassengerId</th>\n",
       "      <th>Survived</th>\n",
       "    </tr>\n",
       "  </thead>\n",
       "  <tbody>\n",
       "    <tr>\n",
       "      <th>0</th>\n",
       "      <td>892</td>\n",
       "      <td>0</td>\n",
       "    </tr>\n",
       "    <tr>\n",
       "      <th>1</th>\n",
       "      <td>893</td>\n",
       "      <td>0</td>\n",
       "    </tr>\n",
       "    <tr>\n",
       "      <th>2</th>\n",
       "      <td>894</td>\n",
       "      <td>0</td>\n",
       "    </tr>\n",
       "    <tr>\n",
       "      <th>3</th>\n",
       "      <td>895</td>\n",
       "      <td>0</td>\n",
       "    </tr>\n",
       "    <tr>\n",
       "      <th>4</th>\n",
       "      <td>896</td>\n",
       "      <td>0</td>\n",
       "    </tr>\n",
       "  </tbody>\n",
       "</table>\n",
       "</div>"
      ],
      "text/plain": [
       "   PassengerId  Survived\n",
       "0          892         0\n",
       "1          893         0\n",
       "2          894         0\n",
       "3          895         0\n",
       "4          896         0"
      ]
     },
     "execution_count": 408,
     "metadata": {},
     "output_type": "execute_result"
    }
   ],
   "source": [
    "# Check the submission csv to make sure it's in the right format\n",
    "submissions_check = pd.read_csv(\"cat_submission.csv\")\n",
    "submissions_check.head()"
   ]
  }
 ],
 "metadata": {
  "kernelspec": {
   "display_name": "Python 3",
   "language": "python",
   "name": "python3"
  },
  "language_info": {
   "codemirror_mode": {
    "name": "ipython",
    "version": 3
   },
   "file_extension": ".py",
   "mimetype": "text/x-python",
   "name": "python",
   "nbconvert_exporter": "python",
   "pygments_lexer": "ipython3",
   "version": "3.7.6"
  }
 },
 "nbformat": 4,
 "nbformat_minor": 4
}
